{
 "cells": [
  {
   "cell_type": "markdown",
   "metadata": {},
   "source": [
    "# Speed test of stochastic solvers \n",
    "## Based on development-smesolve-milstein notebook\n",
    "\n",
    "Denis V. Vasilyev\n",
    "\n",
    "30 september 2013\n",
    "\n",
    "\n",
    "Modified by Eric Giguere, March 2018  \n",
    "Include new solvers from the pull request #815 for qutip"
   ]
  },
  {
   "cell_type": "code",
   "execution_count": 1,
   "metadata": {},
   "outputs": [
    {
     "name": "stdout",
     "output_type": "stream",
     "text": [
      "Populating the interactive namespace from numpy and matplotlib\n"
     ]
    }
   ],
   "source": [
    "%pylab inline"
   ]
  },
  {
   "cell_type": "code",
   "execution_count": 2,
   "metadata": {},
   "outputs": [],
   "source": [
    "from qutip import *\n",
    "from numpy import log2, cos, sin\n",
    "from scipy.integrate import odeint\n",
    "from qutip.cy.spmatfuncs import cy_expect_rho_vec, spmv"
   ]
  },
  {
   "cell_type": "markdown",
   "metadata": {},
   "source": [
    "# Single stochastic operator"
   ]
  },
  {
   "cell_type": "code",
   "execution_count": 3,
   "metadata": {},
   "outputs": [],
   "source": [
    "th = 0.1 # Interaction parameter\n",
    "alpha = cos(th)\n",
    "beta = sin(th)\n",
    "gamma = 1\n",
    "\n",
    "# Exact steady state solution for Vc\n",
    "Vc = (alpha*beta - gamma + sqrt((gamma-alpha*beta)**2 + 4*gamma*alpha**2))/(4*alpha**2)\n",
    "\n",
    "#********* Model ************\n",
    "NN = 200\n",
    "tlist = linspace(0,50,NN)\n",
    "Nsub = 200\n",
    "N = 20\n",
    "Id = qeye(N)\n",
    "a = destroy(N)\n",
    "s = 0.5*((alpha+beta)*a + (alpha-beta)*a.dag())\n",
    "x = (a + a.dag())/sqrt(2)\n",
    "H = Id\n",
    "c_op = [sqrt(gamma)*a]\n",
    "sc_op = [s]\n",
    "e_op = [x, x*x]\n",
    "rho0 = fock_dm(N,0) #initial vacuum state"
   ]
  },
  {
   "cell_type": "code",
   "execution_count": 4,
   "metadata": {},
   "outputs": [],
   "source": [
    "# Solution of the differential equation for the variance Vc\n",
    "y0 = 0.5\n",
    "def func(y, t):\n",
    "    return -(gamma - alpha*beta)*y - 2*alpha*alpha*y*y + 0.5*gamma\n",
    "y = odeint(func, y0, tlist)\n"
   ]
  },
  {
   "cell_type": "code",
   "execution_count": 5,
   "metadata": {
    "scrolled": true
   },
   "outputs": [
    {
     "name": "stdout",
     "output_type": "stream",
     "text": [
      "Help on function stochastic_solvers in module qutip.stochastic:\n",
      "\n",
      "stochastic_solvers()\n",
      "    Available solvers for ssesolve and smesolve\n",
      "        euler-maruyama:\n",
      "            A simple generalization of the Euler method for ordinary\n",
      "            differential equations to stochastic differential equations.\n",
      "            Only solver which could take non-commuting sc_ops. *not tested*\n",
      "            -Order 0.5\n",
      "            -Code: 'euler-maruyama', 'euler', 0.5\n",
      "    \n",
      "        milstein, Order 1.0 strong Taylor scheme:\n",
      "            Better approximate numerical solution to stochastic\n",
      "            differential equations.\n",
      "            -Order strong 1.0\n",
      "            -Code: 'milstein', 1.0\n",
      "            Numerical Solution of Stochastic Differential Equations\n",
      "            Chapter 10.3 Eq. (3.1), By Peter E. Kloeden, Eckhard Platen\n",
      "    \n",
      "        milstein-imp, Order 1.0 implicit strong Taylor scheme:\n",
      "            Implicit milstein scheme for the numerical simulation of stiff\n",
      "            stochastic differential equations.\n",
      "            -Order strong 1.0\n",
      "            -Code: 'milstein-imp'\n",
      "            Numerical Solution of Stochastic Differential Equations\n",
      "            Chapter 12.2 Eq. (2.9), By Peter E. Kloeden, Eckhard Platen\n",
      "    \n",
      "        predictor-corrector:\n",
      "            Generalization of the trapezoidal method to stochastic\n",
      "            differential equations. More stable than explicit methods.\n",
      "            -Order strong 0.5, weak 1.0\n",
      "            Only the stochastic part is corrected.\n",
      "                (alpha = 0, eta = 1/2)\n",
      "                -Code: 'pred-corr', 'predictor-corrector', 'pc-euler'\n",
      "            Both the deterministic and stochastic part corrected.\n",
      "                (alpha = 1/2, eta = 1/2)\n",
      "                -Code: 'pc-euler-imp', 'pc-euler-2', 'pred-corr-2'\n",
      "            Numerical Solution of Stochastic Differential Equations\n",
      "            Chapter 15.5 Eq. (5.4), By Peter E. Kloeden, Eckhard Platen\n",
      "    \n",
      "        platen:\n",
      "            Explicit scheme, create the milstein using finite difference instead of\n",
      "            derivatives. Also contain some higher order terms, thus converge better\n",
      "            than milstein while staying strong order 1.0.\n",
      "            Do not require derivatives, therefore usable for\n",
      "            :func:`qutip.stochastic.general_stochastic`\n",
      "            -Order strong 1.0, weak 2.0\n",
      "            -Code: 'platen', 'platen1', 'explicit1'\n",
      "            The Theory of Open Quantum Systems\n",
      "            Chapter 7 Eq. (7.47), H.-P Breuer, F. Petruccione\n",
      "    \n",
      "        rouchon:\n",
      "            Scheme keeping the positivity of the density matrix. (smesolve only)\n",
      "            -Order strong 1.0?\n",
      "            -Code: 'rouchon', 'Rouchon'\n",
      "            Efficient Quantum Filtering for Quantum Feedback Control\n",
      "            Pierre Rouchon, Jason F. Ralph\n",
      "            arXiv:1410.5345 [quant-ph]\n",
      "    \n",
      "        taylor1.5, Order 1.5 strong Taylor scheme:\n",
      "            Solver with more terms of the Ito-Taylor expansion.\n",
      "            Default solver for smesolve and ssesolve.\n",
      "            -Order strong 1.5\n",
      "            -Code: 'taylor1.5', 'taylor15', 1.5, None\n",
      "            Numerical Solution of Stochastic Differential Equations\n",
      "            Chapter 10.4 Eq. (4.6), By Peter E. Kloeden, Eckhard Platen\n",
      "    \n",
      "        taylor1.5-imp, Order 1.5 implicit strong Taylor scheme:\n",
      "            implicit Taylor 1.5 (alpha = 1/2, beta = doesn't matter)\n",
      "            -Order strong 1.5\n",
      "            -Code: 'taylor1.5-imp', 'taylor15-imp'\n",
      "            Numerical Solution of Stochastic Differential Equations\n",
      "            Chapter 12.2 Eq. (2.18), By Peter E. Kloeden, Eckhard Platen\n",
      "    \n",
      "        explicit1.5, Explicit Order 1.5 Strong Schemes:\n",
      "            Reproduce the order 1.5 strong Taylor scheme using finite difference\n",
      "            instead of derivatives. Slower than taylor15 but usable by\n",
      "            :func:`qutip.stochastic.general_stochastic`\n",
      "            -Order strong 1.5\n",
      "            -Code: 'explicit1.5', 'explicit15', 'platen15'\n",
      "            Numerical Solution of Stochastic Differential Equations\n",
      "            Chapter 11.2 Eq. (2.13), By Peter E. Kloeden, Eckhard Platen\n",
      "    \n",
      "        taylor2.0, Order 2 strong Taylor scheme:\n",
      "            Solver with more terms of the Stratonovich expansion.\n",
      "            -Order strong 2.0\n",
      "            -Code: 'taylor2.0', 'taylor20', 2.0\n",
      "            Numerical Solution of Stochastic Differential Equations\n",
      "            Chapter 10.5 Eq. (5.2), By Peter E. Kloeden, Eckhard Platen\n",
      "    \n",
      "        ---All solvers, except taylor2.0, are usable in both smesolve and ssesolve\n",
      "        and for both heterodyne and homodyne. taylor2.0 only work for 1 stochastic\n",
      "        operator not dependent of time with the homodyne method.\n",
      "        The :func:`qutip.stochastic.general_stochastic` only accept derivatives\n",
      "        free solvers: ['euler', 'platen', 'explicit1.5'].\n",
      "    \n",
      "    Available solver for photocurrent_sesolve and photocurrent_mesolve:\n",
      "            Photocurrent use ordinary differential equations between\n",
      "            stochastic \"jump/collapse\".\n",
      "        euler:\n",
      "            Euler method for ordinary differential equations.\n",
      "            Default solver\n",
      "            -Order 1.0\n",
      "            -Code: 'euler'\n",
      "    \n",
      "        predictor–corrector:\n",
      "            predictor–corrector method (PECE) for ordinary differential equations.\n",
      "            -Order 2.0\n",
      "            -Code: 'pred-corr'\n",
      "\n"
     ]
    }
   ],
   "source": [
    "# list solver\n",
    "help(stochastic_solvers)"
   ]
  },
  {
   "cell_type": "code",
   "execution_count": 6,
   "metadata": {},
   "outputs": [
    {
     "name": "stdout",
     "output_type": "stream",
     "text": [
      "Total run time:   2.18s\n"
     ]
    }
   ],
   "source": [
    "# Euler-Maruyama\n",
    "sol_euler = smesolve(H, rho0, tlist, c_op, sc_op, e_op,\n",
    "                   nsubsteps=Nsub, method='homodyne', solver='euler-maruyama',\n",
    "                   options=Odeoptions(store_states=True, average_states=False))"
   ]
  },
  {
   "cell_type": "code",
   "execution_count": 7,
   "metadata": {},
   "outputs": [
    {
     "name": "stdout",
     "output_type": "stream",
     "text": [
      "Total run time:   5.05s\n"
     ]
    }
   ],
   "source": [
    "# Milstein\n",
    "sol_mil = smesolve(H, rho0, tlist, c_op, sc_op, e_op,\n",
    "                   nsubsteps=Nsub, method='homodyne', solver='milstein',\n",
    "                   options=Odeoptions(store_states=True, average_states=False))"
   ]
  },
  {
   "cell_type": "code",
   "execution_count": 8,
   "metadata": {},
   "outputs": [
    {
     "name": "stdout",
     "output_type": "stream",
     "text": [
      "Total run time:   8.63s\n"
     ]
    }
   ],
   "source": [
    "# predictor-corrector\n",
    "sol_pc_euler = smesolve(H, rho0, tlist, c_op, sc_op, e_op,\n",
    "                   nsubsteps=Nsub, method='homodyne', solver='pc-euler',\n",
    "                   options=Odeoptions(store_states=True, average_states=False))"
   ]
  },
  {
   "cell_type": "code",
   "execution_count": 9,
   "metadata": {},
   "outputs": [
    {
     "name": "stdout",
     "output_type": "stream",
     "text": [
      "Total run time:   9.21s\n"
     ]
    }
   ],
   "source": [
    "# predictor-corrector-2\n",
    "sol_pc_euler2 = smesolve(H, rho0, tlist, c_op, sc_op, e_op,\n",
    "                   nsubsteps=Nsub, method='homodyne', solver='pred-corr-2',\n",
    "                   options=Odeoptions(store_states=True, average_states=False))"
   ]
  },
  {
   "cell_type": "code",
   "execution_count": 10,
   "metadata": {},
   "outputs": [
    {
     "name": "stdout",
     "output_type": "stream",
     "text": [
      "Total run time:  17.14s\n"
     ]
    }
   ],
   "source": [
    "# Default: taylor1.5\n",
    "sol_taylor15 = smesolve(H, rho0, tlist, c_op, sc_op, e_op,\n",
    "                   nsubsteps=Nsub, method='homodyne', solver='taylor1.5',\n",
    "                   options=Odeoptions(store_states=True, average_states=False))"
   ]
  },
  {
   "cell_type": "code",
   "execution_count": 11,
   "metadata": {},
   "outputs": [
    {
     "name": "stdout",
     "output_type": "stream",
     "text": [
      "Total run time:  23.01s\n"
     ]
    }
   ],
   "source": [
    "# Taylor 2.0\n",
    "sol_taylor20 = smesolve(H, rho0, tlist, c_op, sc_op, e_op,\n",
    "                   nsubsteps=Nsub, method='homodyne', solver='taylor2.0',\n",
    "                   options=Odeoptions(store_states=True, average_states=False))"
   ]
  },
  {
   "cell_type": "markdown",
   "metadata": {},
   "source": [
    "## Variance $V_{\\mathrm{c}}$ as a function of time"
   ]
  },
  {
   "cell_type": "code",
   "execution_count": 12,
   "metadata": {},
   "outputs": [
    {
     "data": {
      "image/png": "[encoded data removed]",
      "text/plain": [
       "<Figure size 432x288 with 1 Axes>"
      ]
     },
     "metadata": {
      "needs_background": "light"
     },
     "output_type": "display_data"
    },
    {
     "data": {
      "image/png": "[encoded data removed]",
      "text/plain": [
       "<Figure size 432x288 with 1 Axes>"
      ]
     },
     "metadata": {
      "needs_background": "light"
     },
     "output_type": "display_data"
    },
    {
     "data": {
      "image/png": "[encoded data removed]",
      "text/plain": [
       "<Figure size 432x288 with 1 Axes>"
      ]
     },
     "metadata": {
      "needs_background": "light"
     },
     "output_type": "display_data"
    }
   ],
   "source": [
    "plot(tlist,sol_euler.expect[1] - abs(sol_euler.expect[0])**2, label='Euler')\n",
    "plot(tlist,sol_mil.expect[1] - abs(sol_mil.expect[0])**2, label='Milstein')\n",
    "plot(tlist,sol_pc_euler.expect[1] - abs(sol_pc_euler.expect[0])**2, label='pc-euler')\n",
    "plot(tlist,sol_pc_euler2.expect[1] - abs(sol_pc_euler2.expect[0])**2, label='pc-euler-2')\n",
    "plot(tlist,sol_taylor15.expect[1] - abs(sol_taylor15.expect[0])**2, label='taylor1.5')\n",
    "plot(tlist,sol_taylor20.expect[1] - abs(sol_taylor20.expect[0])**2, label='taylor2.0')\n",
    "plot(tlist,Vc*ones(NN),\"k:\", label='exact steady state solution')\n",
    "plot(tlist,y,\"k\", label=\"exact solution\")\n",
    "legend();\n",
    "show()\n",
    "\n",
    "#plot(tlist,sol_euler.expect[1] - abs(sol_euler.expect[0])**2, label='Euler')\n",
    "plot(tlist,sol_mil.expect[1] - abs(sol_mil.expect[0])**2, label='Milstein')\n",
    "plot(tlist,sol_pc_euler.expect[1] - abs(sol_pc_euler.expect[0])**2, label='pc-euler')\n",
    "plot(tlist,sol_pc_euler2.expect[1] - abs(sol_pc_euler2.expect[0])**2, label='pc-euler-2')\n",
    "plot(tlist,sol_taylor15.expect[1] - abs(sol_taylor15.expect[0])**2, label='taylor1.5')\n",
    "plot(tlist,sol_taylor20.expect[1] - abs(sol_taylor20.expect[0])**2, label='taylor2.0')\n",
    "plot(tlist,Vc*ones(NN),\"k:\", label='exact steady state solution')\n",
    "plot(tlist,y,\"k\", label=\"exact solution\")\n",
    "legend();\n",
    "xlim([0,25])\n",
    "ylim([0.3238,0.325])\n",
    "show()\n",
    "\n",
    "#plot(tlist,sol_euler.expect[1] - abs(sol_euler.expect[0])**2, label='Euler')\n",
    "#plot(tlist,sol_mil.expect[1] - abs(sol_mil.expect[0])**2, label='Milstein')\n",
    "#plot(tlist,sol_pc_euler.expect[1] - abs(sol_pc_euler.expect[0])**2, label='pc-euler')\n",
    "#plot(tlist,sol_pc_euler2.expect[1] - abs(sol_pc_euler2.expect[0])**2, label='pc-euler-2')\n",
    "plot(tlist,sol_taylor15.expect[1] - abs(sol_taylor15.expect[0])**2, label='taylor1.5')\n",
    "plot(tlist,sol_taylor20.expect[1] - abs(sol_taylor20.expect[0])**2, label='taylor2.0')\n",
    "plot(tlist,Vc*ones(NN),\"k:\", label='exact steady state solution')\n",
    "plot(tlist,y,\"k\", label=\"exact solution\")\n",
    "legend();\n",
    "xlim([0,25])\n",
    "ylim([0.3241,0.32418])\n",
    "show()"
   ]
  },
  {
   "cell_type": "markdown",
   "metadata": {},
   "source": [
    "# Two stochastic operators"
   ]
  },
  {
   "cell_type": "code",
   "execution_count": 13,
   "metadata": {},
   "outputs": [],
   "source": [
    "th = 0.1\n",
    "alpha = cos(th)\n",
    "beta = sin(th)\n",
    "gamma = 1\n",
    "eps = 0.3\n",
    "\n",
    "VcEps = ((1-2*eps)*alpha*beta - gamma + \\\n",
    "         sqrt((gamma-alpha*beta)**2 + 4*gamma*alpha*((1-eps)*alpha + eps*beta)))/(4*(1-eps)*alpha**2)\n",
    "UcEps = (-(1-2*eps)*alpha*beta - gamma + \\\n",
    "         sqrt((gamma-alpha*beta)**2 + 4*eps*beta*gamma*(beta-alpha)))/(4*eps*beta**2)\n",
    "\n",
    "NN = 200\n",
    "tlist = linspace(0,3,NN)\n",
    "Nsub = 200\n",
    "N = 20\n",
    "Id = qeye(N)\n",
    "a = destroy(N)\n",
    "s = 0.5*((alpha+beta)*a + (alpha-beta)*a.dag())\n",
    "x = (a + a.dag())/sqrt(2)\n",
    "H = Id\n",
    "c_op = [sqrt(gamma)*a]\n",
    "sc_op = [sqrt(1-eps)*s, sqrt(eps)*1j*s]\n",
    "e_op = [x, x*x]\n",
    "rho0 = fock_dm(N,0)\n",
    "y0 = 0.5"
   ]
  },
  {
   "cell_type": "code",
   "execution_count": 14,
   "metadata": {},
   "outputs": [],
   "source": [
    "def func(y, t):\n",
    "    return -(gamma - (1-2*eps)*alpha*beta)*y - 2*(1-eps)*alpha*alpha*y*y + 0.5*(gamma + eps*beta*beta)\n",
    "y = odeint(func, y0, tlist)\n",
    "\n",
    "def funcZ(z, t):\n",
    "    return -(gamma + (1-2*eps)*alpha*beta)*z - 2*eps*beta*beta*z*z + 0.5*(gamma + (1-eps)*alpha*alpha)\n",
    "z = odeint(funcZ, y0, tlist)"
   ]
  },
  {
   "cell_type": "code",
   "execution_count": 15,
   "metadata": {},
   "outputs": [
    {
     "name": "stdout",
     "output_type": "stream",
     "text": [
      "Total run time:   4.87s\n"
     ]
    }
   ],
   "source": [
    "# Euler-Maruyama\n",
    "sol_euler = smesolve(H, rho0, tlist, c_op, sc_op, e_op,\n",
    "                   nsubsteps=Nsub, method='homodyne', solver='euler-maruyama',\n",
    "                   options=Odeoptions(store_states=True, average_states=False))"
   ]
  },
  {
   "cell_type": "code",
   "execution_count": 16,
   "metadata": {},
   "outputs": [
    {
     "name": "stdout",
     "output_type": "stream",
     "text": [
      "Total run time:   7.97s\n"
     ]
    }
   ],
   "source": [
    "# Milstein\n",
    "sol_mil = smesolve(H, rho0, tlist, c_op, sc_op, e_op,\n",
    "                   nsubsteps=Nsub, method='homodyne', solver='milstein',\n",
    "                   options=Odeoptions(store_states=True, average_states=False))"
   ]
  },
  {
   "cell_type": "code",
   "execution_count": 17,
   "metadata": {},
   "outputs": [
    {
     "name": "stdout",
     "output_type": "stream",
     "text": [
      "Total run time:  16.41s\n"
     ]
    }
   ],
   "source": [
    "# predictor-corrector\n",
    "sol_pc_euler = smesolve(H, rho0, tlist, c_op, sc_op, e_op,\n",
    "                   nsubsteps=Nsub, method='homodyne', solver='pc-euler',\n",
    "                   options=Odeoptions(store_states=True, average_states=False))"
   ]
  },
  {
   "cell_type": "code",
   "execution_count": 18,
   "metadata": {},
   "outputs": [
    {
     "name": "stdout",
     "output_type": "stream",
     "text": [
      "Total run time:  18.74s\n"
     ]
    }
   ],
   "source": [
    "# predictor-corrector-2\n",
    "sol_pc_euler2 = smesolve(H, rho0, tlist, c_op, sc_op, e_op,\n",
    "                   nsubsteps=Nsub, method='homodyne', solver='pred-corr-2',\n",
    "                   options=Odeoptions(store_states=True, average_states=False))"
   ]
  },
  {
   "cell_type": "code",
   "execution_count": null,
   "metadata": {},
   "outputs": [],
   "source": [
    "# Default: taylor1.5\n",
    "sol_taylor15 = smesolve(H, rho0, tlist, c_op, sc_op, e_op,\n",
    "                   nsubsteps=Nsub, method='homodyne', solver='taylor1.5',\n",
    "                   options=Odeoptions(store_states=True, average_states=False))"
   ]
  },
  {
   "cell_type": "markdown",
   "metadata": {},
   "source": [
    "## Variance $V_{\\mathrm{c}}$ as a function of time"
   ]
  },
  {
   "cell_type": "code",
   "execution_count": null,
   "metadata": {},
   "outputs": [],
   "source": [
    "plot(tlist,sol_euler.expect[1] - abs(sol_euler.expect[0])**2, label='Euler')\n",
    "plot(tlist,sol_mil.expect[1] - abs(sol_mil.expect[0])**2, label='Milstein')\n",
    "plot(tlist,sol_pc_euler.expect[1] - abs(sol_pc_euler.expect[0])**2, label='pc-euler')\n",
    "plot(tlist,sol_pc_euler2.expect[1] - abs(sol_pc_euler2.expect[0])**2, label='pc-euler-2')\n",
    "plot(tlist,sol_taylor15.expect[1] - abs(sol_taylor15.expect[0])**2, label='taylor1.5')\n",
    "plot(tlist,Vc*ones(NN), label='exact steady state solution')\n",
    "plot(tlist,y, label=\"exact solution\")\n",
    "legend();\n",
    "show()\n",
    "\n",
    "plot(tlist,sol_euler.expect[1] - abs(sol_euler.expect[0])**2, label='Euler')\n",
    "plot(tlist,sol_mil.expect[1] - abs(sol_mil.expect[0])**2, label='Milstein')\n",
    "plot(tlist,sol_pc_euler.expect[1] - abs(sol_pc_euler.expect[0])**2, label='pc-euler')\n",
    "plot(tlist,sol_pc_euler2.expect[1] - abs(sol_pc_euler2.expect[0])**2, label='pc-euler-2')\n",
    "plot(tlist,sol_taylor15.expect[1] - abs(sol_taylor15.expect[0])**2, label='taylor1.5')\n",
    "plot(tlist,Vc*ones(NN), label='exact steady state solution')\n",
    "plot(tlist,y, label=\"exact solution\")\n",
    "legend();\n",
    "xlim([1.5,3.0])\n",
    "ylim([0.347,0.356])"
   ]
  },
  {
   "cell_type": "code",
   "execution_count": null,
   "metadata": {},
   "outputs": [],
   "source": [
    "plot(tlist,sol_euler.expect[1] - abs(sol_euler.expect[0])**2-y.transpose()[0], label='Euler')\n",
    "plot(tlist,sol_mil.expect[1] - abs(sol_mil.expect[0])**2-y.transpose()[0], label='Milstein')\n",
    "plot(tlist,sol_pc_euler.expect[1] - abs(sol_pc_euler.expect[0])**2-y.transpose()[0], label='pc-euler')\n",
    "plot(tlist,sol_pc_euler2.expect[1] - abs(sol_pc_euler2.expect[0])**2-y.transpose()[0], label='pc-euler-2')\n",
    "plot(tlist,sol_taylor15.expect[1] - abs(sol_taylor15.expect[0])**2-y.transpose()[0], label='taylor1.5')\n",
    "legend()\n",
    "show()\n",
    "\n",
    "plot(tlist,sol_mil.expect[1] - abs(sol_mil.expect[0])**2-y.transpose()[0], label='Milstein')\n",
    "plot(tlist,sol_pc_euler.expect[1] - abs(sol_pc_euler.expect[0])**2-y.transpose()[0], label='pc-euler')\n",
    "plot(tlist,sol_pc_euler2.expect[1] - abs(sol_pc_euler2.expect[0])**2-y.transpose()[0], label='pc-euler-2')\n",
    "plot(tlist,sol_taylor15.expect[1] - abs(sol_taylor15.expect[0])**2-y.transpose()[0], label='taylor1.5')\n",
    "legend()\n",
    "show()"
   ]
  },
  {
   "cell_type": "markdown",
   "metadata": {},
   "source": [
    "#Multiple stochastic operators"
   ]
  },
  {
   "cell_type": "code",
   "execution_count": null,
   "metadata": {},
   "outputs": [],
   "source": [
    "sc_ops_multiple = [sc_op[0]*0.5**0.5, sc_op[0]*0.5**0.5]\n",
    "#Euler-Maruyama\n",
    "sol_eul = smesolve(H, rho0, tlist, c_op, sc_ops_multiple, e_op,\n",
    "                   nsubsteps=Nsub, method='homodyne', solver='euler',\n",
    "                   options=Odeoptions(store_states=True, average_states=False))"
   ]
  },
  {
   "cell_type": "code",
   "execution_count": null,
   "metadata": {},
   "outputs": [],
   "source": [
    "#Milstein\n",
    "sol_milstein = smesolve(H, rho0, tlist, c_op, sc_ops_multiple, e_op,\n",
    "                   nsubsteps=Nsub, method='homodyne', solver='milstein',\n",
    "                   options=Odeoptions(store_states=True, average_states=False))"
   ]
  },
  {
   "cell_type": "code",
   "execution_count": null,
   "metadata": {},
   "outputs": [],
   "source": [
    "#taylor1.5\n",
    "sol_taylor = smesolve(H, rho0, tlist, c_op, sc_ops_multiple, e_op,\n",
    "                   nsubsteps=Nsub, method='homodyne', solver='taylor1.5',\n",
    "                   options=Odeoptions(store_states=True, average_states=False))"
   ]
  },
  {
   "cell_type": "code",
   "execution_count": null,
   "metadata": {},
   "outputs": [],
   "source": [
    "plot(tlist,sol_eul.expect[1] - abs(sol_eul.expect[0])**2, label='Euler')\n",
    "plot(tlist,sol_milstein.expect[1] - abs(sol_milstein.expect[0])**2, label='Milstein')\n",
    "plot(tlist,sol_taylor.expect[1] - abs(sol_taylor.expect[0])**2, label='taylor1.5')\n",
    "plot(tlist,Vc*ones(NN), label='exact steady state solution')\n",
    "plot(tlist,y, label=\"exact solution\")\n",
    "legend()\n",
    "show()"
   ]
  },
  {
   "cell_type": "markdown",
   "metadata": {},
   "source": [
    "### Software versions"
   ]
  },
  {
   "cell_type": "code",
   "execution_count": null,
   "metadata": {},
   "outputs": [],
   "source": [
    "from qutip.ipynbtools import version_table\n",
    "\n",
    "version_table()"
   ]
  },
  {
   "cell_type": "code",
   "execution_count": null,
   "metadata": {},
   "outputs": [],
   "source": []
  }
 ],
 "metadata": {
  "kernelspec": {
   "display_name": "Python 3",
   "language": "python",
   "name": "python3"
  },
  "language_info": {
   "codemirror_mode": {
    "name": "ipython",
    "version": 3
   },
   "file_extension": ".py",
   "mimetype": "text/x-python",
   "name": "python",
   "nbconvert_exporter": "python",
   "pygments_lexer": "ipython3",
   "version": "3.6.7"
  }
 },
 "nbformat": 4,
 "nbformat_minor": 1
}
