{
 "metadata": {
  "name": "",
  "signature": "sha256:8cd8ce78beff47b5cf8ff9d85c1b0de897a81511c6d4d96f84c4bd81339b857e"
 },
 "nbformat": 3,
 "nbformat_minor": 0,
 "worksheets": [
  {
   "cells": [
    {
     "cell_type": "markdown",
     "metadata": {},
     "source": [
      "# Speed test fo Milstein and Euler methods \n",
      "## Based on development-smesolve-milstein notebook\n",
      "\n",
      "Denis V. Vasilyev\n",
      "\n",
      "30 september 2013"
     ]
    },
    {
     "cell_type": "code",
     "collapsed": false,
     "input": [
      "%pylab inline"
     ],
     "language": "python",
     "metadata": {},
     "outputs": [
      {
       "output_type": "stream",
       "stream": "stdout",
       "text": [
        "Populating the interactive namespace from numpy and matplotlib\n"
       ]
      }
     ],
     "prompt_number": 1
    },
    {
     "cell_type": "code",
     "collapsed": false,
     "input": [
      "from qutip import *\n",
      "from numpy import log2, cos, sin\n",
      "from scipy.integrate import odeint\n",
      "from qutip.cy.spmatfuncs import cy_expect_rho_vec, spmv"
     ],
     "language": "python",
     "metadata": {},
     "outputs": [],
     "prompt_number": 2
    },
    {
     "cell_type": "markdown",
     "metadata": {},
     "source": [
      "#Single stochastic operator"
     ]
    },
    {
     "cell_type": "code",
     "collapsed": false,
     "input": [
      "th = 0.1 # Interaction parameter\n",
      "alpha = cos(th)\n",
      "beta = sin(th)\n",
      "gamma = 1\n",
      "\n",
      "# Exact steady state solution for Vc\n",
      "Vc = (alpha*beta - gamma + sqrt((gamma-alpha*beta)**2 + 4*gamma*alpha**2))/(4*alpha**2)\n",
      "\n",
      "#********* Model ************\n",
      "NN = 200\n",
      "tlist = linspace(0,50,NN)\n",
      "Nsub = 200\n",
      "N = 20\n",
      "Id = qeye(N)\n",
      "a = destroy(N)\n",
      "s = 0.5*((alpha+beta)*a + (alpha-beta)*a.dag())\n",
      "x = (a + a.dag())/sqrt(2)\n",
      "H = Id\n",
      "c_op = [sqrt(gamma)*a]\n",
      "sc_op = [s]\n",
      "e_op = [x, x*x]\n",
      "rho0 = fock_dm(N,0) #initial vacuum state"
     ],
     "language": "python",
     "metadata": {},
     "outputs": [],
     "prompt_number": 3
    },
    {
     "cell_type": "code",
     "collapsed": false,
     "input": [
      "# Solution of the differential equation for the variance Vc\n",
      "y0 = 0.5\n",
      "def func(y, t):\n",
      "    return -(gamma - alpha*beta)*y - 2*alpha*alpha*y*y + 0.5*gamma\n",
      "y = odeint(func, y0, tlist)\n",
      "\n",
      "# Righthand side for the Milstein method for a homodyne detection scheme\n",
      "def rhs_milstein(L, rho_t, t, A_ops, dt, dW, d1, d2, args):\n",
      "\n",
      "    drho_t = spmv(L.data,\n",
      "              L.indices,\n",
      "              L.indptr, rho_t) * dt\n",
      "    \n",
      "    A = A_ops[0]\n",
      "    M = A[0] + A[3]\n",
      "    e1 = cy_expect_rho_vec(M, rho_t)\n",
      "    d1_vec = spmv(A[7].data, A[7].indices, A[7].indptr, rho_t)\n",
      "    \n",
      "    d2_vec = spmv(M.data, M.indices, M.indptr, rho_t)\n",
      "    d2_vec2 = spmv(M.data, M.indices, M.indptr, d2_vec)\n",
      "    e2 = cy_expect_rho_vec(M, d2_vec)\n",
      "    return rho_t + drho_t + d1_vec*dt + (d2_vec - e1*rho_t)*dW[0,0] + \\\n",
      "           0.5 * (d2_vec2 - 2*e1*d2_vec + (-e2 + 2*e1*e1)*rho_t)*(dW[0,0]*dW[0,0] - dt)"
     ],
     "language": "python",
     "metadata": {},
     "outputs": [],
     "prompt_number": 4
    },
    {
     "cell_type": "code",
     "collapsed": false,
     "input": [
      "#Default Euler-Maruyama\n",
      "sol_eul = smesolve(H, rho0, tlist, c_op, sc_op, e_op,\n",
      "                   nsubsteps=Nsub, method='homodyne',\n",
      "                   options=Odeoptions(store_states=True, average_states=False))"
     ],
     "language": "python",
     "metadata": {},
     "outputs": [
      {
       "output_type": "stream",
       "stream": "stdout",
       "text": [
        "Total run time:  14.85s\n"
       ]
      }
     ],
     "prompt_number": 5
    },
    {
     "cell_type": "code",
     "collapsed": false,
     "input": [
      "#Fast Euler-Maruyama\n",
      "sol_eul_fast = smesolve(H, rho0, tlist, c_op, sc_op, e_op,\n",
      "                   nsubsteps=Nsub, method='homodyne', solver='euler-maruyama_fast',\n",
      "                   options=Odeoptions(store_states=True, average_states=False))"
     ],
     "language": "python",
     "metadata": {},
     "outputs": [
      {
       "output_type": "stream",
       "stream": "stdout",
       "text": [
        "Total run time:   3.47s\n"
       ]
      }
     ],
     "prompt_number": 6
    },
    {
     "cell_type": "code",
     "collapsed": false,
     "input": [
      "#Default Milstein\n",
      "sol_mil = smesolve(H, rho0, tlist, c_op, sc_op, e_op,\n",
      "                   nsubsteps=Nsub, method='homodyne', solver='milstein',\n",
      "                   options=Odeoptions(store_states=True, average_states=False))"
     ],
     "language": "python",
     "metadata": {},
     "outputs": [
      {
       "output_type": "stream",
       "stream": "stdout",
       "text": [
        "Total run time:  14.88s\n"
       ]
      }
     ],
     "prompt_number": 7
    },
    {
     "cell_type": "code",
     "collapsed": false,
     "input": [
      "#Fast Milstein\n",
      "sol_mil_fast = smesolve(H, rho0, tlist, c_op, sc_op, e_op,\n",
      "                   nsubsteps=Nsub, method='homodyne', solver='milstein_fast',\n",
      "                   options=Odeoptions(store_states=True, average_states=False))"
     ],
     "language": "python",
     "metadata": {},
     "outputs": [
      {
       "output_type": "stream",
       "stream": "stdout",
       "text": [
        "Total run time:   4.46s\n"
       ]
      }
     ],
     "prompt_number": 8
    },
    {
     "cell_type": "markdown",
     "metadata": {},
     "source": [
      "##Variance $V_{\\mathrm{c}}$ as a function of time"
     ]
    },
    {
     "cell_type": "code",
     "collapsed": false,
     "input": [
      "fig, ax = subplots()\n",
      "\n",
      "ax.plot(tlist,sol_eul.expect[1] - abs(sol_eul.expect[0])**2, label='Euler')\n",
      "ax.plot(tlist,sol_eul_fast.expect[1] - abs(sol_eul_fast.expect[0])**2, label='Euler-fast')\n",
      "ax.plot(tlist,sol_mil_fast.expect[1] - abs(sol_mil_fast.expect[0])**2, label='Milstein-fast')\n",
      "ax.plot(tlist,Vc*ones(NN), label='exact steady state solution')\n",
      "ax.plot(tlist,y, label=\"exact solution\")\n",
      "ax.legend();"
     ],
     "language": "python",
     "metadata": {},
     "outputs": [
      {
       "metadata": {},
       "output_type": "display_data",
       "png": "[encoded data removed]",
       "text": [
        "<matplotlib.figure.Figure at 0x7f29d5aee150>"
       ]
      }
     ],
     "prompt_number": 9
    },
    {
     "cell_type": "markdown",
     "metadata": {},
     "source": [
      "#Two stochastic operators"
     ]
    },
    {
     "cell_type": "code",
     "collapsed": false,
     "input": [
      "th = 0.1\n",
      "alpha = cos(th)\n",
      "beta = sin(th)\n",
      "gamma = 1\n",
      "eps = 0.3\n",
      "\n",
      "VcEps = ((1-2*eps)*alpha*beta - gamma + \\\n",
      "         sqrt((gamma-alpha*beta)**2 + 4*gamma*alpha*((1-eps)*alpha + eps*beta)))/(4*(1-eps)*alpha**2)\n",
      "UcEps = (-(1-2*eps)*alpha*beta - gamma + \\\n",
      "         sqrt((gamma-alpha*beta)**2 + 4*eps*beta*gamma*(beta-alpha)))/(4*eps*beta**2)\n",
      "\n",
      "NN = 200\n",
      "tlist = linspace(0,3,NN)\n",
      "Nsub = 200\n",
      "N = 20\n",
      "Id = qeye(N)\n",
      "a = destroy(N)\n",
      "s = 0.5*((alpha+beta)*a + (alpha-beta)*a.dag())\n",
      "x = (a + a.dag())/sqrt(2)\n",
      "H = Id\n",
      "c_op = [sqrt(gamma)*a]\n",
      "sc_op = [sqrt(1-eps)*s, sqrt(eps)*1j*s]\n",
      "e_op = [x, x*x]\n",
      "rho0 = fock_dm(N,0)\n",
      "y0 = 0.5"
     ],
     "language": "python",
     "metadata": {},
     "outputs": [],
     "prompt_number": 10
    },
    {
     "cell_type": "code",
     "collapsed": false,
     "input": [
      "def func(y, t):\n",
      "    return -(gamma - (1-2*eps)*alpha*beta)*y - 2*(1-eps)*alpha*alpha*y*y + 0.5*(gamma + eps*beta*beta)\n",
      "y = odeint(func, y0, tlist)\n",
      "\n",
      "def funcZ(z, t):\n",
      "    return -(gamma + (1-2*eps)*alpha*beta)*z - 2*eps*beta*beta*z*z + 0.5*(gamma + (1-eps)*alpha*alpha)\n",
      "z = odeint(funcZ, y0, tlist)"
     ],
     "language": "python",
     "metadata": {},
     "outputs": [],
     "prompt_number": 11
    },
    {
     "cell_type": "code",
     "collapsed": false,
     "input": [
      "#Default Euler-Maruyama\n",
      "sol_eul = smesolve(H, rho0, tlist, c_op, sc_op, e_op,\n",
      "                   nsubsteps=Nsub, method='homodyne',\n",
      "                   options=Odeoptions(store_states=True, average_states=False))"
     ],
     "language": "python",
     "metadata": {},
     "outputs": [
      {
       "output_type": "stream",
       "stream": "stdout",
       "text": [
        "Total run time:  28.98s\n"
       ]
      }
     ],
     "prompt_number": 12
    },
    {
     "cell_type": "code",
     "collapsed": false,
     "input": [
      "#Fast Euler-Maruyama\n",
      "sol_eul_fast = smesolve(H, rho0, tlist, c_op, sc_op, e_op,\n",
      "                   nsubsteps=Nsub, method='homodyne', solver='euler-maruyama_fast',\n",
      "                   options=Odeoptions(store_states=True, average_states=False))"
     ],
     "language": "python",
     "metadata": {},
     "outputs": [
      {
       "output_type": "stream",
       "stream": "stdout",
       "text": [
        "Total run time:   3.99s\n"
       ]
      }
     ],
     "prompt_number": 13
    },
    {
     "cell_type": "code",
     "collapsed": false,
     "input": [
      "#Default Milstein\n",
      "sol_mil = smesolve(H, rho0, tlist, c_op, sc_op, e_op,\n",
      "                   nsubsteps=Nsub, method='homodyne', solver='milstein',\n",
      "                   options=Odeoptions(store_states=True, average_states=False))"
     ],
     "language": "python",
     "metadata": {},
     "outputs": [
      {
       "output_type": "stream",
       "stream": "stdout",
       "text": [
        "Total run time:  43.02s\n"
       ]
      }
     ],
     "prompt_number": 14
    },
    {
     "cell_type": "code",
     "collapsed": false,
     "input": [
      "#Fast Milstein\n",
      "sol_mil_fast = smesolve(H, rho0, tlist, c_op, sc_op, e_op,\n",
      "                   nsubsteps=Nsub, method='homodyne', solver='milstein_fast',\n",
      "                   options=Odeoptions(store_states=True, average_states=False))"
     ],
     "language": "python",
     "metadata": {},
     "outputs": [
      {
       "output_type": "stream",
       "stream": "stdout",
       "text": [
        "Total run time:   7.52s\n"
       ]
      }
     ],
     "prompt_number": 15
    },
    {
     "cell_type": "markdown",
     "metadata": {},
     "source": [
      "##Variance $V_{\\mathrm{c}}$ as a function of time"
     ]
    },
    {
     "cell_type": "code",
     "collapsed": false,
     "input": [
      "fig, ax = subplots()\n",
      "\n",
      "ax.plot(tlist,sol_eul.expect[1] - abs(sol_eul.expect[0])**2, label='Euler')\n",
      "ax.plot(tlist,sol_eul_fast.expect[1] - abs(sol_eul_fast.expect[0])**2, label='Euler-fast')\n",
      "ax.plot(tlist,sol_mil_fast.expect[1] - abs(sol_mil_fast.expect[0])**2, label='Milstein-fast')\n",
      "ax.plot(tlist,VcEps*ones(NN), label='Exact steady state solution')\n",
      "ax.plot(tlist,y, label='Exact solution')\n",
      "\n",
      "ax.legend();"
     ],
     "language": "python",
     "metadata": {},
     "outputs": [
      {
       "metadata": {},
       "output_type": "display_data",
       "png": "[encoded data removed]",
       "text": [
        "<matplotlib.figure.Figure at 0x7f29d5ade2d0>"
       ]
      }
     ],
     "prompt_number": 16
    },
    {
     "cell_type": "markdown",
     "metadata": {},
     "source": [
      "#Multiple stochastic operators"
     ]
    },
    {
     "cell_type": "code",
     "collapsed": false,
     "input": [
      "#Default Euler-Maruyama\n",
      "sol_eul = smesolve(H, rho0, tlist, c_op, sc_op + sc_op, e_op,\n",
      "                   nsubsteps=Nsub, method='homodyne',\n",
      "                   options=Odeoptions(store_states=True, average_states=False))"
     ],
     "language": "python",
     "metadata": {},
     "outputs": [
      {
       "output_type": "stream",
       "stream": "stdout",
       "text": [
        "Total run time:  56.55s\n"
       ]
      }
     ],
     "prompt_number": 17
    },
    {
     "cell_type": "code",
     "collapsed": false,
     "input": [
      "#Fast Euler-Maruyama\n",
      "sol_eul_fast = smesolve(H, rho0, tlist, c_op, sc_op + sc_op, e_op,\n",
      "                   nsubsteps=Nsub, method='homodyne', solver='euler-maruyama_fast',\n",
      "                   options=Odeoptions(store_states=True, average_states=False))"
     ],
     "language": "python",
     "metadata": {},
     "outputs": [
      {
       "output_type": "stream",
       "stream": "stdout",
       "text": [
        "Total run time:   4.70s\n"
       ]
      }
     ],
     "prompt_number": 18
    },
    {
     "cell_type": "markdown",
     "metadata": {},
     "source": [
      "### Software versions"
     ]
    },
    {
     "cell_type": "code",
     "collapsed": false,
     "input": [
      "#%install_ext http://raw.github.com/jrjohansson/version_information/master/version_information.py"
     ],
     "language": "python",
     "metadata": {},
     "outputs": [],
     "prompt_number": 19
    },
    {
     "cell_type": "code",
     "collapsed": false,
     "input": [
      "%load_ext version_information"
     ],
     "language": "python",
     "metadata": {},
     "outputs": [],
     "prompt_number": 20
    },
    {
     "cell_type": "code",
     "collapsed": false,
     "input": [
      "%version_information Cython, numpy, matplotlib, scipy, qutip"
     ],
     "language": "python",
     "metadata": {},
     "outputs": [
      {
       "html": [
        "<table><tr><th>Software</th><th>Version</th></tr><tr><td>Python</td><td>3.3.2+ (default, Oct  9 2013, 14:50:09) [GCC 4.8.1]</td></tr><tr><td>IPython</td><td>2.0.0-dev</td></tr><tr><td>OS</td><td>posix [linux]</td></tr><tr><td>Cython</td><td>0.20.post0</td></tr><tr><td>numpy</td><td>1.9.0.dev-d4c7c3a</td></tr><tr><td>matplotlib</td><td>1.4.x</td></tr><tr><td>scipy</td><td>0.15.0.dev-c04c506</td></tr><tr><td>qutip</td><td>3.0.0.dev-8072d41</td></tr><tr><td colspan='2'>Fri Mar 07 16:26:14 2014 JST</td></tr></table>"
       ],
       "json": [
        "{\"Software versions\": [{\"version\": \"3.3.2+ (default, Oct  9 2013, 14:50:09) [GCC 4.8.1]\", \"module\": \"Python\"}, {\"version\": \"2.0.0-dev\", \"module\": \"IPython\"}, {\"version\": \"posix [linux]\", \"module\": \"OS\"}, {\"version\": \"0.20.post0\", \"module\": \"Cython\"}, {\"version\": \"1.9.0.dev-d4c7c3a\", \"module\": \"numpy\"}, {\"version\": \"1.4.x\", \"module\": \"matplotlib\"}, {\"version\": \"0.15.0.dev-c04c506\", \"module\": \"scipy\"}, {\"version\": \"3.0.0.dev-8072d41\", \"module\": \"qutip\"}]}"
       ],
       "latex": [
        "\\begin{tabular}{|l|l|}\\hline\n",
        "{\\bf Software} & {\\bf Version} \\\\ \\hline\\hline\n",
        "Python & 3.3.2+ (default, Oct  9 2013, 14:50:09) [GCC 4.8.1] \\\\ \\hline\n",
        "IPython & 2.0.0-dev \\\\ \\hline\n",
        "OS & posix [linux] \\\\ \\hline\n",
        "Cython & 0.20.post0 \\\\ \\hline\n",
        "numpy & 1.9.0.dev-d4c7c3a \\\\ \\hline\n",
        "matplotlib & 1.4.x \\\\ \\hline\n",
        "scipy & 0.15.0.dev-c04c506 \\\\ \\hline\n",
        "qutip & 3.0.0.dev-8072d41 \\\\ \\hline\n",
        "\\hline \\multicolumn{2}{|l|}{Fri Mar 07 16:26:14 2014 JST} \\\\ \\hline\n",
        "\\end{tabular}\n"
       ],
       "metadata": {},
       "output_type": "pyout",
       "prompt_number": 21,
       "text": [
        "Software versions\n",
        "Python 3.3.2+ (default, Oct  9 2013, 14:50:09) [GCC 4.8.1]\n",
        "IPython 2.0.0-dev\n",
        "OS posix [linux]\n",
        "Cython 0.20.post0\n",
        "numpy 1.9.0.dev-d4c7c3a\n",
        "matplotlib 1.4.x\n",
        "scipy 0.15.0.dev-c04c506\n",
        "qutip 3.0.0.dev-8072d41\n",
        "\n",
        "Fri Mar 07 16:26:14 2014 JST"
       ]
      }
     ],
     "prompt_number": 21
    }
   ],
   "metadata": {}
  }
 ]
}