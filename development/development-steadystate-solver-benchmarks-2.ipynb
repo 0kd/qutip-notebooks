{
 "metadata": {
  "name": "development-steadystate-solver-benchmarks-2"
 },
 "nbformat": 3,
 "nbformat_minor": 0,
 "worksheets": [
  {
   "cells": [
    {
     "cell_type": "markdown",
     "metadata": {},
     "source": [
      "# QuTiP development notebook for testing steadystate solvers\n",
      "\n",
      "Copyright (C) 2013, Paul D. Nation & Robert J. Johansson"
     ]
    },
    {
     "cell_type": "code",
     "collapsed": false,
     "input": [
      "%pylab inline"
     ],
     "language": "python",
     "metadata": {},
     "outputs": [
      {
       "output_type": "stream",
       "stream": "stdout",
       "text": [
        "\n",
        "Welcome to pylab, a matplotlib-based Python environment [backend: module://IPython.kernel.zmq.pylab.backend_inline].\n",
        "For more information, type 'help(pylab)'.\n"
       ]
      }
     ],
     "prompt_number": 1
    },
    {
     "cell_type": "code",
     "collapsed": false,
     "input": [
      "from qutip import *"
     ],
     "language": "python",
     "metadata": {},
     "outputs": [],
     "prompt_number": 2
    },
    {
     "cell_type": "code",
     "collapsed": false,
     "input": [
      "import time"
     ],
     "language": "python",
     "metadata": {},
     "outputs": [],
     "prompt_number": 3
    },
    {
     "cell_type": "markdown",
     "metadata": {},
     "source": [
      "### Setup"
     ]
    },
    {
     "cell_type": "code",
     "collapsed": false,
     "input": [
      "reps = 1"
     ],
     "language": "python",
     "metadata": {},
     "outputs": [],
     "prompt_number": 4
    },
    {
     "cell_type": "code",
     "collapsed": false,
     "input": [
      "from IPython.display import HTML"
     ],
     "language": "python",
     "metadata": {},
     "outputs": [],
     "prompt_number": 5
    },
    {
     "cell_type": "code",
     "collapsed": false,
     "input": [
      "def show_bm_mat(bm_mat, solvers):\n",
      "    \n",
      "    m = bm_mat[bm_mat > 0].min()\n",
      "    \n",
      "    html = \"<table>\"\n",
      "\n",
      "    html += \"<tr><td><b>Solver</b></td><td><b>Elapsed time</b></td><td><b>Ratio</b></td></tr>\"\n",
      "    \n",
      "    for idx, (desc, func) in enumerate(solvers):\n",
      "    \n",
      "        if bm_mat[idx] == m:\n",
      "            html += \"<tr><td><b>%s</b></td><td><b>%.8f</b></td><td><b>%.2f</b></td></tr>\" % \\\n",
      "                (desc, bm_mat[idx], bm_mat[idx]/m)\n",
      "        else:\n",
      "            html += \"<tr><td>%s</td><td>%.8f</td><td>%.2f</td></tr>\" % \\\n",
      "                (desc, bm_mat[idx], bm_mat[idx]/m)\n",
      "            \n",
      "    \n",
      "    html += \"</table>\"\n",
      "\n",
      "    return HTML(html)"
     ],
     "language": "python",
     "metadata": {},
     "outputs": [],
     "prompt_number": 6
    },
    {
     "cell_type": "code",
     "collapsed": false,
     "input": [
      "def benchmark_steadystate_solvers(args, solvers, problem_func):\n",
      "\n",
      "    bm_mat = zeros(len(solvers))\n",
      "\n",
      "    H, c_ops = problem_func(args)\n",
      "    \n",
      "    for sol_idx, solver in enumerate(solvers):\n",
      "        solver_name, solver_func = solver\n",
      "        try:\n",
      "            t1 = time.time()\n",
      "            for r in range(reps):\n",
      "                rhoss = solver_func(H, c_ops)\n",
      "            t2 = time.time()\n",
      "            bm_mat[sol_idx] = (t2 - t1)/reps\n",
      "    \n",
      "        except:\n",
      "            bm_mat[sol_idx] = nan\n",
      "            \n",
      "    return bm_mat"
     ],
     "language": "python",
     "metadata": {},
     "outputs": [],
     "prompt_number": 7
    },
    {
     "cell_type": "code",
     "collapsed": false,
     "input": [
      "solvers = [[\"power use_umfpack=True\",          \n",
      "            lambda H, c_ops: steadystate(H, c_ops, method='power', use_umfpack=True)],\n",
      "           [\"power use_umfpack=False\",         \n",
      "            lambda H, c_ops: steadystate(H, c_ops, method='power', use_umfpack=False)],\n",
      "           [\"direct sparse use_umfpack=True\",  \n",
      "            lambda H, c_ops: steadystate(H, c_ops, use_umfpack=True, sparse=True)],\n",
      "           [\"direct sparse use_umfpack=False\", \n",
      "            lambda H, c_ops: steadystate(H, c_ops, use_umfpack=False, sparse=True)],\n",
      "           [\"iterative use_precond=True\",      \n",
      "            lambda H, c_ops: steadystate(H, c_ops, method='iterative', use_precond=True)],\n",
      "           [\"iterative use_precond=False\",     \n",
      "            lambda H, c_ops: steadystate(H, c_ops, method='iterative', use_precond=False)],\n",
      "           [\"iterative-bicg use_precond=True\",  \n",
      "            lambda H, c_ops: steadystate(H, c_ops, method='iterative-bicg', use_precond=True)],\n",
      "           [\"iterative-bicg use_precond=False\", \n",
      "            lambda H, c_ops: steadystate(H, c_ops, method='iterative-bicg', use_precond=False)],\n",
      "           [\"direct dense use_umfpack=True\",   \n",
      "            lambda H, c_ops: steadystate(H, c_ops, use_umfpack=True, sparse=False)],\n",
      "           [\"direct dense use_umfpack=False\",  \n",
      "            lambda H, c_ops: steadystate(H, c_ops, use_umfpack=False, sparse=False)],\n",
      "           [\"svd_dense\",                       \n",
      "            lambda H, c_ops: steadystate(H, c_ops, method='svd')],\n",
      "           [\"lu\",                              \n",
      "            lambda H, c_ops: steadystate(H, c_ops, method='lu')],\n",
      "          ]"
     ],
     "language": "python",
     "metadata": {},
     "outputs": [],
     "prompt_number": 8
    },
    {
     "cell_type": "code",
     "collapsed": false,
     "input": [
      "large_solvers = [\n",
      "    [\"power use_umfpack=True\",          \n",
      "     lambda H, c_ops: steadystate(H, c_ops, method='power', use_umfpack=True)],\n",
      "    [\"power use_umfpack=False\",         \n",
      "     lambda H, c_ops: steadystate(H, c_ops, method='power', use_umfpack=False)],\n",
      "    [\"direct sparse use_umfpack=True\",  \n",
      "     lambda H, c_ops: steadystate(H, c_ops, use_umfpack=True, sparse=True)],\n",
      "    [\"direct sparse use_umfpack=False\", \n",
      "     lambda H, c_ops: steadystate(H, c_ops, use_umfpack=False, sparse=True)],\n",
      "    [\"iterative use_precond=True\",      \n",
      "     lambda H, c_ops: steadystate(H, c_ops, method='iterative', use_precond=True)],\n",
      "    [\"iterative-bicg use_precond=True\",  \n",
      "     lambda H, c_ops: steadystate(H, c_ops, method='iterative-bicg', use_precond=True)],\n",
      "   ]"
     ],
     "language": "python",
     "metadata": {},
     "outputs": [],
     "prompt_number": 9
    },
    {
     "cell_type": "markdown",
     "metadata": {},
     "source": [
      "### Test problem 1"
     ]
    },
    {
     "cell_type": "code",
     "collapsed": false,
     "input": [
      "def bm_problem1(N):\n",
      "\n",
      "    a = tensor(destroy(N), identity(2))\n",
      "    b = tensor(identity(N), destroy(2))\n",
      "\n",
      "    H = a.dag() * a + b.dag() * b + 0.25 * (a + a.dag()) * (b + b.dag())\n",
      "\n",
      "    c_ops = [sqrt(0.1) * a, sqrt(0.075) * a.dag(), sqrt(0.1) * b]\n",
      "    \n",
      "    return H, c_ops"
     ],
     "language": "python",
     "metadata": {},
     "outputs": [],
     "prompt_number": 10
    },
    {
     "cell_type": "code",
     "collapsed": false,
     "input": [
      "bm_mat = benchmark_steadystate_solvers(10, solvers, bm_problem1)\n",
      "show_bm_mat(bm_mat, solvers)"
     ],
     "language": "python",
     "metadata": {},
     "outputs": [
      {
       "html": [
        "<table><tr><td><b>Solver</b></td><td><b>Elapsed time</b></td><td><b>Ratio</b></td></tr><tr><td>power use_umfpack=True</td><td>0.02930117</td><td>1.86</td></tr><tr><td>power use_umfpack=False</td><td>0.02769184</td><td>1.76</td></tr><tr><td>direct sparse use_umfpack=True</td><td>0.01657772</td><td>1.05</td></tr><tr><td><b>direct sparse use_umfpack=False</b></td><td><b>0.01577711</b></td><td><b>1.00</b></td></tr><tr><td>iterative use_precond=True</td><td>0.01887131</td><td>1.20</td></tr><tr><td>iterative use_precond=False</td><td>0.42715192</td><td>27.07</td></tr><tr><td>iterative-bicg use_precond=True</td><td>0.01824522</td><td>1.16</td></tr><tr><td>iterative-bicg use_precond=False</td><td>0.05967665</td><td>3.78</td></tr><tr><td>direct dense use_umfpack=True</td><td>0.03680706</td><td>2.33</td></tr><tr><td>direct dense use_umfpack=False</td><td>0.03597355</td><td>2.28</td></tr><tr><td>svd_dense</td><td>0.43549585</td><td>27.60</td></tr><tr><td>lu</td><td>0.01581359</td><td>1.00</td></tr></table>"
       ],
       "metadata": {},
       "output_type": "pyout",
       "prompt_number": 11,
       "text": [
        "<IPython.core.display.HTML at 0x7fd5c13e7dd0>"
       ]
      }
     ],
     "prompt_number": 11
    },
    {
     "cell_type": "code",
     "collapsed": false,
     "input": [
      "bm_mat = benchmark_steadystate_solvers(50, large_solvers, bm_problem1)\n",
      "show_bm_mat(bm_mat, large_solvers)"
     ],
     "language": "python",
     "metadata": {},
     "outputs": [
      {
       "html": [
        "<table><tr><td><b>Solver</b></td><td><b>Elapsed time</b></td><td><b>Ratio</b></td></tr><tr><td>power use_umfpack=True</td><td>0.30860066</td><td>2.16</td></tr><tr><td>power use_umfpack=False</td><td>0.30906749</td><td>2.16</td></tr><tr><td>direct sparse use_umfpack=True</td><td>0.26223445</td><td>1.83</td></tr><tr><td>direct sparse use_umfpack=False</td><td>0.30435157</td><td>2.13</td></tr><tr><td><b>iterative use_precond=True</b></td><td><b>0.14319158</b></td><td><b>1.00</b></td></tr><tr><td>iterative-bicg use_precond=True</td><td>0.14433670</td><td>1.01</td></tr></table>"
       ],
       "metadata": {},
       "output_type": "pyout",
       "prompt_number": 12,
       "text": [
        "<IPython.core.display.HTML at 0x7fd5d8392f50>"
       ]
      }
     ],
     "prompt_number": 12
    },
    {
     "cell_type": "markdown",
     "metadata": {},
     "source": [
      "### Test problem 2: high temperature harmonic oscillator"
     ]
    },
    {
     "cell_type": "code",
     "collapsed": false,
     "input": [
      "def bm_problem2(N):\n",
      "    \n",
      "    a = destroy(N)\n",
      "    H = a.dag() * a\n",
      "    nth = N / 4\n",
      "    gamma = 0.05\n",
      "    c_ops = [sqrt(gamma * (nth + 1)) * a, sqrt(gamma * nth) * a.dag()]\n",
      "\n",
      "    return H, c_ops"
     ],
     "language": "python",
     "metadata": {},
     "outputs": [],
     "prompt_number": 13
    },
    {
     "cell_type": "code",
     "collapsed": false,
     "input": [
      "bm_mat = benchmark_steadystate_solvers(50, solvers, bm_problem2)\n",
      "show_bm_mat(bm_mat, solvers)"
     ],
     "language": "python",
     "metadata": {},
     "outputs": [
      {
       "html": [
        "<table><tr><td><b>Solver</b></td><td><b>Elapsed time</b></td><td><b>Ratio</b></td></tr><tr><td>power use_umfpack=True</td><td>0.03091383</td><td>2.33</td></tr><tr><td>power use_umfpack=False</td><td>0.02793431</td><td>2.11</td></tr><tr><td>direct sparse use_umfpack=True</td><td>0.01574659</td><td>1.19</td></tr><tr><td><b>direct sparse use_umfpack=False</b></td><td><b>0.01326680</b></td><td><b>1.00</b></td></tr><tr><td>iterative use_precond=True</td><td>0.01814747</td><td>1.37</td></tr><tr><td>iterative use_precond=False</td><td>0.08728552</td><td>6.58</td></tr><tr><td>iterative-bicg use_precond=True</td><td>0.01731229</td><td>1.30</td></tr><tr><td>iterative-bicg use_precond=False</td><td>0.03140640</td><td>2.37</td></tr><tr><td>direct dense use_umfpack=True</td><td>3.13456941</td><td>236.27</td></tr><tr><td>direct dense use_umfpack=False</td><td>3.13574004</td><td>236.36</td></tr><tr><td>svd_dense</td><td>71.83850408</td><td>5414.91</td></tr><tr><td>lu</td><td>0.01391077</td><td>1.05</td></tr></table>"
       ],
       "metadata": {},
       "output_type": "pyout",
       "prompt_number": 14,
       "text": [
        "<IPython.core.display.HTML at 0x7fd5c1eb4b90>"
       ]
      }
     ],
     "prompt_number": 14
    },
    {
     "cell_type": "markdown",
     "metadata": {},
     "source": [
      "### Test problem 3: Coupled oscillators"
     ]
    },
    {
     "cell_type": "code",
     "collapsed": false,
     "input": [
      "def bm_problem3(N):\n",
      "    \n",
      "    a = tensor(destroy(N), identity(N))\n",
      "    b = tensor(identity(N), destroy(N))\n",
      "    \n",
      "    H = a.dag() * a + 0.25 * b.dag() * b + 0.05 * a.dag() * a * (b + b.dag()) + 0.1 * (a + a.dag()) \n",
      "\n",
      "    c_ops = [sqrt(0.05) * a, sqrt(0.015) * a.dag(), sqrt(0.1) * b, sqrt(0.075) * b.dag()]\n",
      "\n",
      "    return H, c_ops"
     ],
     "language": "python",
     "metadata": {},
     "outputs": [],
     "prompt_number": 15
    },
    {
     "cell_type": "code",
     "collapsed": false,
     "input": [
      "bm_mat = benchmark_steadystate_solvers(10, large_solvers, bm_problem3)\n",
      "show_bm_mat(bm_mat, large_solvers)"
     ],
     "language": "python",
     "metadata": {},
     "outputs": [
      {
       "html": [
        "<table><tr><td><b>Solver</b></td><td><b>Elapsed time</b></td><td><b>Ratio</b></td></tr><tr><td>power use_umfpack=True</td><td>5.09422636</td><td>7.99</td></tr><tr><td>power use_umfpack=False</td><td>35.79435349</td><td>56.16</td></tr><tr><td>direct sparse use_umfpack=True</td><td>5.80584502</td><td>9.11</td></tr><tr><td>direct sparse use_umfpack=False</td><td>30.20628524</td><td>47.40</td></tr><tr><td>iterative use_precond=True</td><td>0.71662021</td><td>1.12</td></tr><tr><td><b>iterative-bicg use_precond=True</b></td><td><b>0.63732290</b></td><td><b>1.00</b></td></tr></table>"
       ],
       "metadata": {},
       "output_type": "pyout",
       "prompt_number": 16,
       "text": [
        "<IPython.core.display.HTML at 0x7fd5bbc9b750>"
       ]
      }
     ],
     "prompt_number": 16
    },
    {
     "cell_type": "markdown",
     "metadata": {},
     "source": [
      "### Test problem 4: a two level system "
     ]
    },
    {
     "cell_type": "code",
     "collapsed": false,
     "input": [
      "def bm_problem4(args=None):\n",
      "\n",
      "    sz = sigmaz()    \n",
      "    sx = sigmax()\n",
      "    \n",
      "    H = sz\n",
      "    c_ops = [sqrt(0.05) * sx]\n",
      "\n",
      "    return H, c_ops"
     ],
     "language": "python",
     "metadata": {},
     "outputs": [],
     "prompt_number": 17
    },
    {
     "cell_type": "code",
     "collapsed": false,
     "input": [
      "bm_mat = benchmark_steadystate_solvers(None, solvers, bm_problem4)\n",
      "show_bm_mat(bm_mat, solvers)"
     ],
     "language": "python",
     "metadata": {},
     "outputs": [
      {
       "html": [
        "<table><tr><td><b>Solver</b></td><td><b>Elapsed time</b></td><td><b>Ratio</b></td></tr><tr><td>power use_umfpack=True</td><td>0.01852179</td><td>3.05</td></tr><tr><td>power use_umfpack=False</td><td>0.01754975</td><td>2.89</td></tr><tr><td>direct sparse use_umfpack=True</td><td>0.00707531</td><td>1.17</td></tr><tr><td>direct sparse use_umfpack=False</td><td>0.00687790</td><td>1.13</td></tr><tr><td>iterative use_precond=True</td><td>0.00709677</td><td>1.17</td></tr><tr><td>iterative use_precond=False</td><td>0.00711107</td><td>1.17</td></tr><tr><td>iterative-bicg use_precond=True</td><td>0.01673436</td><td>2.76</td></tr><tr><td>iterative-bicg use_precond=False</td><td>0.00678062</td><td>1.12</td></tr><tr><td>direct dense use_umfpack=True</td><td>0.00611544</td><td>1.01</td></tr><tr><td><b>direct dense use_umfpack=False</b></td><td><b>0.00606394</b></td><td><b>1.00</b></td></tr><tr><td>svd_dense</td><td>0.00769496</td><td>1.27</td></tr><tr><td>lu</td><td>0.00651836</td><td>1.07</td></tr></table>"
       ],
       "metadata": {},
       "output_type": "pyout",
       "prompt_number": 18,
       "text": [
        "<IPython.core.display.HTML at 0x7fd5bbca2550>"
       ]
      }
     ],
     "prompt_number": 18
    },
    {
     "cell_type": "markdown",
     "metadata": {},
     "source": [
      "### Test problem 5: spin chain"
     ]
    },
    {
     "cell_type": "code",
     "collapsed": false,
     "input": [
      "def bm_problem5(N=1):\n",
      "\n",
      "    H = 0\n",
      "    for m in range(N):\n",
      "        H += tensor([sigmaz() if n == m else identity(2) for n in range(N)])\n",
      "\n",
      "    for m in range(N-1):\n",
      "        H += tensor([sigmax() if n in [m,m+1] else identity(2) for n in range(N)])      \n",
      "        \n",
      "    c_ops = [sqrt(0.05) * tensor([sigmam() if n == m else identity(2) for n in range(N)])\n",
      "             for m in range(N)]\n",
      "   \n",
      "    return H, c_ops"
     ],
     "language": "python",
     "metadata": {},
     "outputs": [],
     "prompt_number": 19
    },
    {
     "cell_type": "code",
     "collapsed": false,
     "input": [
      "bm_mat = benchmark_steadystate_solvers(2, solvers, bm_problem5)\n",
      "show_bm_mat(bm_mat, solvers)"
     ],
     "language": "python",
     "metadata": {},
     "outputs": [
      {
       "html": [
        "<table><tr><td><b>Solver</b></td><td><b>Elapsed time</b></td><td><b>Ratio</b></td></tr><tr><td>power use_umfpack=True</td><td>0.02150130</td><td>2.35</td></tr><tr><td>power use_umfpack=False</td><td>0.02094078</td><td>2.28</td></tr><tr><td>direct sparse use_umfpack=True</td><td>0.01023006</td><td>1.12</td></tr><tr><td>direct sparse use_umfpack=False</td><td>0.00997591</td><td>1.09</td></tr><tr><td>iterative use_precond=True</td><td>0.01020479</td><td>1.11</td></tr><tr><td>iterative use_precond=False</td><td>0.01033449</td><td>1.13</td></tr><tr><td>iterative-bicg use_precond=True</td><td>0.00971484</td><td>1.06</td></tr><tr><td>iterative-bicg use_precond=False</td><td>0.01010346</td><td>1.10</td></tr><tr><td>direct dense use_umfpack=True</td><td>0.00918984</td><td>1.00</td></tr><tr><td><b>direct dense use_umfpack=False</b></td><td><b>0.00916553</b></td><td><b>1.00</b></td></tr><tr><td>svd_dense</td><td>0.01097131</td><td>1.20</td></tr><tr><td>lu</td><td>0.00957203</td><td>1.04</td></tr></table>"
       ],
       "metadata": {},
       "output_type": "pyout",
       "prompt_number": 20,
       "text": [
        "<IPython.core.display.HTML at 0x7fd5bbca2490>"
       ]
      }
     ],
     "prompt_number": 20
    },
    {
     "cell_type": "code",
     "collapsed": false,
     "input": [
      "bm_mat = benchmark_steadystate_solvers(4, solvers, bm_problem5)\n",
      "show_bm_mat(bm_mat, solvers)"
     ],
     "language": "python",
     "metadata": {},
     "outputs": [
      {
       "html": [
        "<table><tr><td><b>Solver</b></td><td><b>Elapsed time</b></td><td><b>Ratio</b></td></tr><tr><td>power use_umfpack=True</td><td>0.03119278</td><td>1.59</td></tr><tr><td>power use_umfpack=False</td><td>0.03097486</td><td>1.58</td></tr><tr><td><b>direct sparse use_umfpack=True</b></td><td><b>0.01957011</b></td><td><b>1.00</b></td></tr><tr><td>direct sparse use_umfpack=False</td><td>0.01961446</td><td>1.00</td></tr><tr><td>iterative use_precond=True</td><td>0.02565002</td><td>1.31</td></tr><tr><td>iterative use_precond=False</td><td>0.27903152</td><td>14.26</td></tr><tr><td>iterative-bicg use_precond=True</td><td>0.02416730</td><td>1.23</td></tr><tr><td>iterative-bicg use_precond=False</td><td>0.06678843</td><td>3.41</td></tr><tr><td>direct dense use_umfpack=True</td><td>0.02458715</td><td>1.26</td></tr><tr><td>direct dense use_umfpack=False</td><td>0.02418828</td><td>1.24</td></tr><tr><td>svd_dense</td><td>0.16517234</td><td>8.44</td></tr><tr><td>lu</td><td>0.01960063</td><td>1.00</td></tr></table>"
       ],
       "metadata": {},
       "output_type": "pyout",
       "prompt_number": 21,
       "text": [
        "<IPython.core.display.HTML at 0x7fd5bbc7c2d0>"
       ]
      }
     ],
     "prompt_number": 21
    },
    {
     "cell_type": "code",
     "collapsed": false,
     "input": [
      "bm_mat = benchmark_steadystate_solvers(6, large_solvers, bm_problem5)\n",
      "show_bm_mat(bm_mat, large_solvers)"
     ],
     "language": "python",
     "metadata": {},
     "outputs": [
      {
       "output_type": "stream",
       "stream": "stderr",
       "text": [
        "/usr/local/lib/python3.3/dist-packages/qutip/steadystate.py:314: UserWarning: Preconditioning failed. Continuing without.\n",
        "  UserWarning)\n"
       ]
      },
      {
       "html": [
        "<table><tr><td><b>Solver</b></td><td><b>Elapsed time</b></td><td><b>Ratio</b></td></tr><tr><td>power use_umfpack=True</td><td>1.09917188</td><td>1.08</td></tr><tr><td>power use_umfpack=False</td><td>9.79997540</td><td>9.60</td></tr><tr><td><b>direct sparse use_umfpack=True</b></td><td><b>1.02135420</b></td><td><b>1.00</b></td></tr><tr><td>direct sparse use_umfpack=False</td><td>9.18890977</td><td>9.00</td></tr><tr><td>iterative use_precond=True</td><td>13.48026681</td><td>13.20</td></tr><tr><td>iterative-bicg use_precond=True</td><td>2.67135262</td><td>2.62</td></tr></table>"
       ],
       "metadata": {},
       "output_type": "pyout",
       "prompt_number": 22,
       "text": [
        "<IPython.core.display.HTML at 0x7fd5bbc7ccd0>"
       ]
      }
     ],
     "prompt_number": 22
    },
    {
     "cell_type": "markdown",
     "metadata": {},
     "source": [
      "### Software versions"
     ]
    },
    {
     "cell_type": "code",
     "collapsed": false,
     "input": [
      "from qutip.ipynbtools import version_table\n",
      "\n",
      "version_table()"
     ],
     "language": "python",
     "metadata": {},
     "outputs": [
      {
       "html": [
        "<table><tr><th>Software</th><th>Version</th></tr><tr><td>OS</td><td>posix [linux]</td></tr><tr><td>IPython</td><td>1.0.dev</td></tr><tr><td>Numpy</td><td>1.8.0.dev-c5694c5</td></tr><tr><td>QuTiP</td><td>2.3.0.dev-169f358</td></tr><tr><td>Cython</td><td>0.19.1</td></tr><tr><td>SciPy</td><td>0.13.0.dev-38faf7c</td></tr><tr><td>Python</td><td>3.3.1 (default, Apr 17 2013, 22:30:32) \n",
        "[GCC 4.7.3]</td></tr><tr><td>matplotlib</td><td>1.4.x</td></tr><tr><td colspan='2'>Fri Jul 19 14:08:27 2013 JST</td></tr></table>"
       ],
       "metadata": {},
       "output_type": "pyout",
       "prompt_number": 23,
       "text": [
        "<IPython.core.display.HTML at 0x7fd5bbc7c8d0>"
       ]
      }
     ],
     "prompt_number": 23
    }
   ],
   "metadata": {}
  }
 ]
}