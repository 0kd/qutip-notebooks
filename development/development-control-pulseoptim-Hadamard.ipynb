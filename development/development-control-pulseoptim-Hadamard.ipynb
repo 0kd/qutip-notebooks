{
 "metadata": {
  "name": ""
 },
 "nbformat": 3,
 "nbformat_minor": 0,
 "worksheets": [
  {
   "cells": [
    {
     "cell_type": "heading",
     "level": 1,
     "metadata": {},
     "source": [
      "Calculation of control fields for Hadamard gate on single qubit using L-BFGS-B algorithm"
     ]
    },
    {
     "cell_type": "markdown",
     "metadata": {},
     "source": [
      "Alexander Pitchford (agp1@aber.ac.uk)"
     ]
    },
    {
     "cell_type": "raw",
     "metadata": {},
     "source": [
      "Example to demonstrate using the control library to determine control\n",
      "pulses using the ctrlpulseoptim.optimize_pulse_unitary function.\n",
      "The (default) L-BFGS-B algorithm is used to optimise the pulse to\n",
      "minimise the fidelity error, which is equivalent maximising the fidelity\n",
      "to optimal value of 1.\n",
      "\n",
      "The system in this example is a single qubit in a constant field in z\n",
      "with a variable control field in x\n",
      "The target evolution is the Hadamard gate irrespective of global phase\n",
      "\n",
      "The user can experiment with the timeslicing, by means of changing the\n",
      "number of timeslots and/or total time for the evolution.\n",
      "Different initial (starting) pulse types can be tried.\n",
      "The initial and final pulses are displayed in a plot"
     ]
    },
    {
     "cell_type": "code",
     "collapsed": false,
     "input": [
      "%matplotlib inline\n",
      "import numpy as np\n",
      "import matplotlib.pyplot as plt\n",
      "import datetime"
     ],
     "language": "python",
     "metadata": {},
     "outputs": [],
     "prompt_number": 1
    },
    {
     "cell_type": "code",
     "collapsed": false,
     "input": [
      "from qutip import Qobj, identity, sigmax, sigmaz\n",
      "from qutip.qip import hadamard_transform\n",
      "import qutip.logging as logging\n",
      "logger = logging.get_logger()\n",
      "#Set this to None or logging.WARN for 'quiet' execution\n",
      "log_level = logging.INFO\n",
      "#QuTiP control modules\n",
      "import qutip.control.pulseoptim as cpo\n",
      "\n",
      "example_name = 'Hadamard'\n"
     ],
     "language": "python",
     "metadata": {},
     "outputs": [],
     "prompt_number": 3
    },
    {
     "cell_type": "heading",
     "level": 3,
     "metadata": {},
     "source": [
      "Defining the physics"
     ]
    },
    {
     "cell_type": "code",
     "collapsed": false,
     "input": [
      "# Drift Hamiltonian\n",
      "H_d = sigmaz()\n",
      "# The (single) control Hamiltonian\n",
      "H_c = [sigmax()]\n",
      "# start point for the gate evolution\n",
      "U_0 = identity(2)\n",
      "# Target for the gate evolution Hadamard gate\n",
      "U_targ = Qobj(np.array([[1,1],[1,-1]], dtype=complex)/np.sqrt(2))"
     ],
     "language": "python",
     "metadata": {},
     "outputs": [],
     "prompt_number": 4
    },
    {
     "cell_type": "heading",
     "level": 3,
     "metadata": {},
     "source": [
      "Defining the time evolution parameters"
     ]
    },
    {
     "cell_type": "code",
     "collapsed": false,
     "input": [
      "# Number of time slots\n",
      "n_ts = 1000\n",
      "# Time allowed for the evolution\n",
      "evo_time = 10"
     ],
     "language": "python",
     "metadata": {},
     "outputs": [],
     "prompt_number": 5
    },
    {
     "cell_type": "heading",
     "level": 3,
     "metadata": {},
     "source": [
      "Set the conditions which will cause the pulse optimisation to terminate"
     ]
    },
    {
     "cell_type": "code",
     "collapsed": false,
     "input": [
      "# Fidelity error target\n",
      "fid_err_targ = 1e-10\n",
      "# Maximum iterations for the optisation algorithm\n",
      "max_iter = 200\n",
      "# Maximum (elapsed) time allowed in seconds\n",
      "max_wall_time = 120\n",
      "# Minimum gradient (sum of gradients squared)\n",
      "# as this tends to 0 -> local minima has been found\n",
      "min_grad = 1e-20"
     ],
     "language": "python",
     "metadata": {},
     "outputs": [],
     "prompt_number": 6
    },
    {
     "cell_type": "heading",
     "level": 3,
     "metadata": {},
     "source": [
      "Set the initial pulse type"
     ]
    },
    {
     "cell_type": "code",
     "collapsed": false,
     "input": [
      "# pulse type alternatives: RND|ZERO|LIN|SINE|SQUARE|SAW|TRIANGLE|\n",
      "p_type = 'RND'"
     ],
     "language": "python",
     "metadata": {},
     "outputs": [],
     "prompt_number": 7
    },
    {
     "cell_type": "heading",
     "level": 3,
     "metadata": {},
     "source": [
      "Give an extension for output files"
     ]
    },
    {
     "cell_type": "code",
     "collapsed": false,
     "input": [
      "#Set to None to suppress output files\n",
      "f_ext = \"{}_n_ts{}_ptype{}.txt\".format(example_name, n_ts, p_type)"
     ],
     "language": "python",
     "metadata": {},
     "outputs": [],
     "prompt_number": 8
    },
    {
     "cell_type": "heading",
     "level": 3,
     "metadata": {},
     "source": [
      "Run the optimisation"
     ]
    },
    {
     "cell_type": "code",
     "collapsed": false,
     "input": [
      "result = cpo.optimize_pulse_unitary(H_d, H_c, U_0, U_targ, n_ts, evo_time, \n",
      "                fid_err_targ=fid_err_targ, min_grad=min_grad, \n",
      "                max_iter=max_iter, max_wall_time=max_wall_time, \n",
      "                out_file_ext=f_ext, init_pulse_type=p_type, \n",
      "                log_level=log_level, gen_stats=True)"
     ],
     "language": "python",
     "metadata": {},
     "outputs": [
      {
       "output_type": "stream",
       "stream": "stderr",
       "text": [
        "INFO:qutip.control.pulseoptim:System configuration:\n",
        "Drift Hamiltonian:\n",
        "[[ 1.+0.j  0.+0.j]\n",
        " [ 0.+0.j -1.+0.j]]\n",
        "Control 1 Hamiltonian:\n",
        "[[ 0.+0.j  1.+0.j]\n",
        " [ 1.+0.j  0.+0.j]]\n",
        "Initial operator:\n",
        "[[ 1.+0.j  0.+0.j]\n",
        " [ 0.+0.j  1.+0.j]]\n",
        "Target operator:\n",
        "[[ 0.70710678+0.j  0.70710678+0.j]\n",
        " [ 0.70710678+0.j -0.70710678+0.j]]\n"
       ]
      },
      {
       "output_type": "stream",
       "stream": "stderr",
       "text": [
        "INFO:qutip.control.pulseoptim:Initial amplitudes output to file: ctrl_amps_initial_Hadamard_n_ts1000_ptypeRND.txt\n"
       ]
      },
      {
       "output_type": "stream",
       "stream": "stderr",
       "text": [
        "INFO:qutip.control.optimizer:Optimising pulse using L-BFGS-B\n"
       ]
      },
      {
       "output_type": "stream",
       "stream": "stderr",
       "text": [
        "INFO:qutip.control.pulseoptim:Final amplitudes output to file: ctrl_amps_final_Hadamard_n_ts1000_ptypeRND.txt\n"
       ]
      }
     ],
     "prompt_number": 9
    },
    {
     "cell_type": "heading",
     "level": 3,
     "metadata": {},
     "source": [
      "Report the results"
     ]
    },
    {
     "cell_type": "code",
     "collapsed": false,
     "input": [
      "result.stats.report()\n",
      "print(\"Final evolution\\n{}\\n\".format(result.evo_full_final))\n",
      "print(\"********* Summary *****************\")\n",
      "print(\"Final fidelity error {}\".format(result.fid_err))\n",
      "print(\"Final gradient normal {}\".format(result.grad_norm_final))\n",
      "print(\"Terminated due to {}\".format(result.termination_reason))\n",
      "print(\"Number of iterations {}\".format(result.num_iter))\n",
      "print(\"Completed in {} HH:MM:SS.US\".format(\n",
      "        datetime.timedelta(seconds=result.wall_time)))"
     ],
     "language": "python",
     "metadata": {},
     "outputs": [
      {
       "output_type": "stream",
       "stream": "stdout",
       "text": [
        "\n",
        "------------------------------------\n",
        "---- Control optimisation stats ----\n",
        "**** Timings (HH:MM:SS.US) ****\n",
        "Total wall time elapsed during optimisation: 0:00:00.952722\n",
        "Wall time computing Hamiltonians: 0:00:00.043594 (4.58%)\n",
        "Wall time computing propagators: 0:00:00.836582 (87.81%)\n",
        "Wall time computing forward propagation: 0:00:00.010091 (1.06%)\n",
        "Wall time computing onward propagation: 0:00:00.009666 (1.01%)\n",
        "Wall time computing gradient: 0:00:00.048821 (5.12%)\n",
        "\n",
        "**** Iterations and function calls ****\n",
        "Number of iterations: 8\n",
        "Number of fidelity function calls: 12\n",
        "Number of times fidelity is computed: 12\n",
        "Number of gradient function calls: 12\n",
        "Number of times gradients are computed: 12\n",
        "\n",
        "**** Control amplitudes ****\n",
        "Number of control amplitude updates: 12\n",
        "Mean number of updates per iteration: 1.5\n",
        "Number of timeslot values changed: 12000\n",
        "Mean number of timeslot changes per update: 1000.0\n",
        "Number of amplitude values changed: 12000\n",
        "Mean number of amplitude changes per update: 1000.0\n",
        "------------------------------------\n",
        "Final evolution\n",
        "Quantum object: dims = [[2], [2]], shape = [2, 2], type = oper, isherm = False\n",
        "Qobj data =\n",
        "[[  1.98396299e-05-0.70710362j  -2.10495900e-05-0.70710994j]\n",
        " [  2.10495900e-05-0.70710994j   1.98396299e-05+0.70710362j]]\n",
        "\n",
        "********* Summary *****************\n",
        "Final fidelity error 4.28289181897e-10\n",
        "Final gradient normal 4.1745220743e-06\n",
        "Terminated due to function converged\n",
        "Number of iterations 8\n",
        "Completed in 0:00:00.952722 HH:MM:SS.US\n"
       ]
      }
     ],
     "prompt_number": 10
    },
    {
     "cell_type": "heading",
     "level": 3,
     "metadata": {},
     "source": [
      "Plot the initial and final amplitudes"
     ]
    },
    {
     "cell_type": "code",
     "collapsed": false,
     "input": [
      "t = result.time[:n_ts]\n",
      "\n",
      "fig1 = plt.figure()\n",
      "ax1 = fig1.add_subplot(2, 1, 1)\n",
      "ax1.set_title(\"Initial Control amps\")\n",
      "ax1.set_xlabel(\"Time\")\n",
      "ax1.set_ylabel(\"Control amplitude\")\n",
      "ax1.plot(t, result.initial_amps[:, 0])\n",
      "\n",
      "ax2 = fig1.add_subplot(2, 1, 2)\n",
      "ax2.set_title(\"Optimised Control Amplitudes\")\n",
      "ax2.set_xlabel(\"Time\")\n",
      "ax2.set_ylabel(\"Control amplitude\")\n",
      "ax2.plot(t, result.final_amps[:, 0])\n",
      "\n",
      "plt.show()"
     ],
     "language": "python",
     "metadata": {},
     "outputs": [
      {
       "metadata": {},
       "output_type": "display_data",
       "png": "[encoded data removed]",
       "text": [
        "<matplotlib.figure.Figure at 0x7f4e02567e50>"
       ]
      }
     ],
     "prompt_number": 11
    },
    {
     "cell_type": "heading",
     "level": 3,
     "metadata": {},
     "source": [
      "Versions"
     ]
    },
    {
     "cell_type": "code",
     "collapsed": false,
     "input": [
      "from qutip.ipynbtools import version_table\n",
      "\n",
      "version_table()"
     ],
     "language": "python",
     "metadata": {},
     "outputs": [
      {
       "html": [
        "<table><tr><th>Software</th><th>Version</th></tr><tr><td>Cython</td><td>0.20.1post0</td></tr><tr><td>SciPy</td><td>0.13.3</td></tr><tr><td>QuTiP</td><td>3.0.1</td></tr><tr><td>Python</td><td>2.7.6 (default, Mar 22 2014, 22:59:56) \n",
        "[GCC 4.8.2]</td></tr><tr><td>IPython</td><td>1.2.1</td></tr><tr><td>OS</td><td>posix [linux2]</td></tr><tr><td>Numpy</td><td>1.8.2</td></tr><tr><td>matplotlib</td><td>1.3.1</td></tr><tr><td colspan='2'>Mon Nov 17 19:28:52 2014 GMT</td></tr></table>"
       ],
       "metadata": {},
       "output_type": "pyout",
       "prompt_number": 12,
       "text": [
        "<IPython.core.display.HTML at 0x7f4e05cf2c10>"
       ]
      }
     ],
     "prompt_number": 12
    },
    {
     "cell_type": "code",
     "collapsed": false,
     "input": [],
     "language": "python",
     "metadata": {},
     "outputs": []
    }
   ],
   "metadata": {}
  }
 ]
}