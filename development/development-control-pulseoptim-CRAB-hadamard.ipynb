{
 "metadata": {
  "name": "",
  "signature": "sha256:b72745a5714cf0d2cb6701691cb0cbad45b941e485fcb6e16d5943d60c04e41f"
 },
 "nbformat": 3,
 "nbformat_minor": 0,
 "worksheets": [
  {
   "cells": [
    {
     "cell_type": "heading",
     "level": 1,
     "metadata": {},
     "source": [
      "Calculation of control fields for Hadamard gate on single qubit using CRAB algorithm"
     ]
    },
    {
     "cell_type": "markdown",
     "metadata": {},
     "source": [
      "Alexander Pitchford (agp1@aber.ac.uk) and Jonathan Zoller (jonathan.zoller@uni-ulm.de)"
     ]
    },
    {
     "cell_type": "markdown",
     "metadata": {},
     "source": [
      "Example to demonstrate using the control library to determine control\n",
      "pulses using the ctrlpulseoptim.optimize_pulse_unitary function.\n",
      "The CRAB algorithm is used to optimise the pulse to\n",
      "minimise the fidelity error, which is equivalent maximising the fidelity\n",
      "to an optimal value of 1.\n",
      "\n",
      "The system in this example is a single qubit in a constant field in z\n",
      "with a variable control field in x\n",
      "The target evolution is the Hadamard gate irrespective of global phase\n",
      "\n",
      "The user can experiment with the timeslicing, by means of changing the\n",
      "number of timeslots and/or total time for the evolution.\n",
      "Different initial (starting) pulse types can be tried as well as\n",
      "boundaries on the control and a smooth ramping of the pulse when\n",
      "switching the control on and off (at the beginning and close to the end).\n",
      "The initial and final pulses are displayed in a plot\n",
      "\n",
      "An in depth discussion of using methods of this type can be found in [1,2]"
     ]
    },
    {
     "cell_type": "code",
     "collapsed": false,
     "input": [
      "%matplotlib inline\n",
      "import numpy as np\n",
      "import matplotlib.pyplot as plt\n",
      "import datetime"
     ],
     "language": "python",
     "metadata": {},
     "outputs": [],
     "prompt_number": 11
    },
    {
     "cell_type": "code",
     "collapsed": false,
     "input": [
      "from qutip import Qobj, identity, sigmax, sigmaz\n",
      "from qutip.qip import hadamard_transform\n",
      "import qutip.logging as logging\n",
      "logger = logging.get_logger()\n",
      "#Set this to None or logging.WARN for 'quiet' execution\n",
      "log_level = logging.INFO\n",
      "#QuTiP control modules\n",
      "import qutip.control.pulseoptim as cpo\n",
      "\n",
      "example_name = 'CRAB-Hadamard'\n"
     ],
     "language": "python",
     "metadata": {},
     "outputs": [],
     "prompt_number": 12
    },
    {
     "cell_type": "heading",
     "level": 3,
     "metadata": {},
     "source": [
      "Defining the physics"
     ]
    },
    {
     "cell_type": "markdown",
     "metadata": {},
     "source": [
      "The dynamics of the system are governed by the combined Hamiltonian:\n",
      "H(t) = H_d + sum(u1(t)*Hc1 + u2(t)*Hc2 + ....)\n",
      "That is the time-dependent Hamiltonian has a constant part (called here the drift) and time vary parts, which are the control Hamiltonians scaled by some functions u_j(t) known as control amplitudes\n",
      "In this case the drift is simply a rotation about z and the (time-varying) control is a rotation about x\n",
      "In theory this system is fully controllable (irrespective of global phase) and so any unitary target could be chosen; we have chosen the Hadamard gate."
     ]
    },
    {
     "cell_type": "code",
     "collapsed": false,
     "input": [
      "# Drift Hamiltonian\n",
      "H_d = sigmaz()\n",
      "# The (single) control Hamiltonian\n",
      "H_c = [sigmax()]\n",
      "# start point for the gate evolution\n",
      "U_0 = identity(2)\n",
      "# Target for the gate evolution Hadamard gate\n",
      "U_targ = hadamard_transform(1)"
     ],
     "language": "python",
     "metadata": {},
     "outputs": [],
     "prompt_number": 13
    },
    {
     "cell_type": "heading",
     "level": 3,
     "metadata": {},
     "source": [
      "Defining the time evolution parameters"
     ]
    },
    {
     "cell_type": "markdown",
     "metadata": {},
     "source": [
      "To solve the evolution the control amplitudes are considered constant within piecewise timeslots, hence the evolution during the timeslot can be calculated using U(t_k) = expm(-i*H(t_k)*dt). Combining these for all the timeslots gives the approximation to the evolution from the identity at t=0 to U(T) at the t=evo_time\n",
      "The number of timeslots and evo_time have to be chosen such that the timeslot durations (dt) are small compared with the dynamics of the system."
     ]
    },
    {
     "cell_type": "code",
     "collapsed": false,
     "input": [
      "# Number of time slots\n",
      "n_ts = 200\n",
      "# Time allowed for the evolution\n",
      "evo_time = 10"
     ],
     "language": "python",
     "metadata": {},
     "outputs": [],
     "prompt_number": 15
    },
    {
     "cell_type": "heading",
     "level": 3,
     "metadata": {},
     "source": [
      "Set the conditions which will cause the pulse optimisation to terminate"
     ]
    },
    {
     "cell_type": "markdown",
     "metadata": {},
     "source": [
      "At each iteration the fidelity of the evolution is tested by comparaing the calculated evolution U(T) with the target U_targ. For unitary systems such as this one this is typically:\n",
      "f = normalise(overlap(U(T), U_targ))\n",
      "For details of the normalisation see [1] or the source code.\n",
      "The maximum fidelity (for a unitary system) calculated this way would be 1, and hence the error is calculated as fid_err = 1 - fidelity. As such the optimisation is considered completed when the fid_err falls below such a target value.\n",
      "\n",
      "In some cases the optimisation either gets stuck in some local minima, or the fid_err_targ is just not achievable, therefore some limits are set to the time/effort allowed to find a solution.\n",
      "\n",
      "The algorithm uses gradients to direct its search for the minimum fidelity error. If the sum of all the gradients falls below the min_grad, then it is assumed some local minima has been found."
     ]
    },
    {
     "cell_type": "code",
     "collapsed": false,
     "input": [
      "# Fidelity error target\n",
      "fid_err_targ = 1e-5\n",
      "# Maximum iterations for the optisation algorithm\n",
      "max_iter = 200\n",
      "# Maximum (elapsed) time allowed in seconds\n",
      "max_wall_time = 120"
     ],
     "language": "python",
     "metadata": {},
     "outputs": [],
     "prompt_number": 16
    },
    {
     "cell_type": "heading",
     "level": 3,
     "metadata": {},
     "source": [
      "Set the initial pulse type"
     ]
    },
    {
     "cell_type": "markdown",
     "metadata": {},
     "source": [
      "The control amplitudes must be set to some initial values. Typically these are just random values for each control in each timeslot. These do however result in erratic optimised pulses. For this example, a solution will be found for any initial pulse, and so it can be interesting to look at the other initial pulse alternatives."
     ]
    },
    {
     "cell_type": "code",
     "collapsed": false,
     "input": [
      "# pulse type alternatives: RND|ZERO|LIN|SINE|SQUARE|SAW|TRIANGLE|\n",
      "p_type = 'LIN'"
     ],
     "language": "python",
     "metadata": {},
     "outputs": [],
     "prompt_number": 17
    },
    {
     "cell_type": "heading",
     "level": 3,
     "metadata": {},
     "source": [
      "Give an extension for output files"
     ]
    },
    {
     "cell_type": "code",
     "collapsed": false,
     "input": [
      "#Set to None to suppress output files\n",
      "f_ext = \"{}_n_ts{}_ptype{}.txt\".format(example_name, n_ts, p_type)"
     ],
     "language": "python",
     "metadata": {},
     "outputs": [],
     "prompt_number": 18
    },
    {
     "cell_type": "heading",
     "level": 3,
     "metadata": {},
     "source": [
      "Run the optimisation"
     ]
    },
    {
     "cell_type": "markdown",
     "metadata": {},
     "source": [
      "In this step the L-BFGS-B algorithm is invoked. At each iteration the gradient of the fidelity error w.r.t. each control amplitude in each timeslot is calculated using an exact gradient method (see [1]). Using the gradients the algorithm will determine a set of piecewise control amplitudes that reduce the fidelity error. With repeated iterations an approximation of the Hessian matrix (the 2nd order differentials) is calculated, which enables a quasi 2nd order Newton method for finding a minima.  The algorithm continues until one of the termination conditions defined above has been reached."
     ]
    },
    {
     "cell_type": "code",
     "collapsed": false,
     "input": [
      "result = cpo.opt_pulse_crab_unitary(H_d, H_c, U_0, U_targ, n_ts, evo_time, \n",
      "                fid_err_targ=fid_err_targ, \n",
      "                max_iter=max_iter, max_wall_time=max_wall_time, \n",
      "                init_coeff_scaling=0.1, method_params={'xtol':1e-3},\n",
      "                guess_pulse_type=p_type, guess_pulse_action='modulate',\n",
      "                guess_pulse_scaling=0.0, guess_pulse_offset=1.0,\n",
      "                ramping_pulse_type='GAUSSIAN_EDGE', \n",
      "                ramping_pulse_params={'decay_time':evo_time/100.0},\n",
      "                out_file_ext=f_ext,\n",
      "                log_level=log_level, gen_stats=True)"
     ],
     "language": "python",
     "metadata": {},
     "outputs": [
      {
       "output_type": "stream",
       "stream": "stderr",
       "text": [
        "INFO:qutip.control.pulsegen:The number of CRAB coefficients has been estimated as 4 based on the dimension (2) of the system\n"
       ]
      },
      {
       "output_type": "stream",
       "stream": "stderr",
       "text": [
        "INFO:qutip.control.pulseoptim:System configuration:\n",
        "Drift Hamiltonian:\n",
        "[[ 1.+0.j  0.+0.j]\n",
        " [ 0.+0.j -1.+0.j]]\n",
        "Control 1 Hamiltonian:\n",
        "[[ 0.+0.j  1.+0.j]\n",
        " [ 1.+0.j  0.+0.j]]\n",
        "Initial operator:\n",
        "[[ 1.+0.j  0.+0.j]\n",
        " [ 0.+0.j  1.+0.j]]\n",
        "Target operator:\n",
        "[[ 0.70710678+0.j  0.70710678+0.j]\n",
        " [ 0.70710678+0.j -0.70710678+0.j]]\n"
       ]
      },
      {
       "output_type": "stream",
       "stream": "stderr",
       "text": [
        "INFO:qutip.control.pulseoptim:Initial amplitudes output to file: ctrl_amps_initial_CRAB-Hadamard_n_ts200_ptypeLIN.txt\n"
       ]
      },
      {
       "output_type": "stream",
       "stream": "stderr",
       "text": [
        "INFO:qutip.control.optimizer:Optimising pulse using 'fmin' method\n"
       ]
      },
      {
       "output_type": "stream",
       "stream": "stderr",
       "text": [
        "INFO:qutip.control.pulseoptim:Final amplitudes output to file: ctrl_amps_final_CRAB-Hadamard_n_ts200_ptypeLIN.txt\n"
       ]
      }
     ],
     "prompt_number": 19
    },
    {
     "cell_type": "heading",
     "level": 3,
     "metadata": {},
     "source": [
      "Report the results"
     ]
    },
    {
     "cell_type": "markdown",
     "metadata": {},
     "source": [
      "Firstly the performace statistics are reported, which gives a breadown of the processing times. The times given are those that are associated with calculating the fidelity and the gradients. Any remaining processing time can be assumed to be used by the optimisation algorithm (L-BFGS-B) itself. In this example it can be seen that the majority of time is spent calculating the propagators, i.e. exponentiating the combined Hamiltonian.\n",
      "\n",
      "The optimised U(T) is reported as the 'final evolution', which is essentially the string representation of the Qobj that holds the full time evolution at the point when the optimisation is terminated.\n",
      "\n",
      "The key information is in the summary (given) last. Here the final fidelity is reported and the reasonn for termination of the algorithm."
     ]
    },
    {
     "cell_type": "code",
     "collapsed": false,
     "input": [
      "result.stats.report()\n",
      "print(\"Final evolution\\n{}\\n\".format(result.evo_full_final))\n",
      "print(\"********* Summary *****************\")\n",
      "print(\"Final fidelity error {}\".format(result.fid_err))\n",
      "print(\"Final gradient normal {}\".format(result.grad_norm_final))\n",
      "print(\"Terminated due to {}\".format(result.termination_reason))\n",
      "print(\"Number of iterations {}\".format(result.num_iter))\n",
      "print(\"Completed in {} HH:MM:SS.US\".format(\n",
      "        datetime.timedelta(seconds=result.wall_time)))"
     ],
     "language": "python",
     "metadata": {},
     "outputs": [
      {
       "output_type": "stream",
       "stream": "stdout",
       "text": [
        "\n",
        "------------------------------------\n",
        "---- Control optimisation stats ----\n",
        "**** Timings (HH:MM:SS.US) ****\n",
        "Total wall time elapsed during optimisation: 0:00:19.084144\n",
        "Wall time computing Hamiltonians: 0:00:00.472711 (2.48%)\n",
        "Wall time computing propagators: 0:00:18.417163 (96.51%)\n",
        "Wall time computing forward propagation: 0:00:00.090480 (0.47%)\n",
        "Wall time computing onward propagation: 0:00:00.076946 (0.40%)\n",
        "Wall time computing gradient: 0:00:00 (0.00%)\n",
        "\n",
        "**** Iterations and function calls ****\n",
        "Number of iterations: 200\n",
        "Number of fidelity function calls: 299\n",
        "Number of times fidelity is computed: 300\n",
        "Number of gradient function calls: 0\n",
        "Number of times gradients are computed: 0\n",
        "Number of times timeslot evolution is recomputed: 300\n",
        "\n",
        "**** Control amplitudes ****\n",
        "Number of control amplitude updates: 299\n",
        "Mean number of updates per iteration: 1.495\n",
        "Number of timeslot values changed: 59501\n",
        "Mean number of timeslot changes per update: 199.0\n",
        "Number of amplitude values changed: 59501\n",
        "Mean number of amplitude changes per update: 199.0\n",
        "------------------------------------\n",
        "Final evolution\n",
        "Quantum object: dims = [[2], [2]], shape = [2, 2], type = oper, isherm = False\n",
        "Qobj data =\n",
        "[[-0.00233435-0.707389j   0.01831375-0.7065833j]\n",
        " [-0.01831375-0.7065833j -0.00233435+0.707389j ]]\n"
       ]
      },
      {
       "output_type": "stream",
       "stream": "stdout",
       "text": [
        "\n",
        "********* Summary *****************\n",
        "Final fidelity error 0.000170598164747\n",
        "Final gradient normal 0.0\n",
        "Terminated due to Maximum number of iterations reached\n",
        "Number of iterations 200\n",
        "Completed in 0:00:19.084144 HH:MM:SS.US\n"
       ]
      }
     ],
     "prompt_number": 20
    },
    {
     "cell_type": "heading",
     "level": 3,
     "metadata": {},
     "source": [
      "Plot the initial and final amplitudes"
     ]
    },
    {
     "cell_type": "markdown",
     "metadata": {},
     "source": [
      "Here the (random) starting pulse is plotted along with the pulse (control amplitudes) that was found to produce the target gate evolution to within the specified error."
     ]
    },
    {
     "cell_type": "code",
     "collapsed": false,
     "input": [
      "t = result.time[:n_ts]\n",
      "\n",
      "fig1 = plt.figure()\n",
      "ax1 = fig1.add_subplot(2, 1, 1)\n",
      "ax1.set_title(\"Initial Control amps\")\n",
      "ax1.set_xlabel(\"Time\")\n",
      "ax1.set_ylabel(\"Control amplitude\")\n",
      "ax1.plot(t, result.initial_amps[:, 0])\n",
      "\n",
      "ax2 = fig1.add_subplot(2, 1, 2)\n",
      "ax2.set_title(\"Optimised Control Amplitudes\")\n",
      "ax2.set_xlabel(\"Time\")\n",
      "ax2.set_ylabel(\"Control amplitude\")\n",
      "ax2.plot(t, result.final_amps[:, 0])\n",
      "\n",
      "plt.show()"
     ],
     "language": "python",
     "metadata": {},
     "outputs": [
      {
       "metadata": {},
       "output_type": "display_data",
       "png": "[encoded data removed]",
       "text": [
        "<matplotlib.figure.Figure at 0x7f622b44ca50>"
       ]
      }
     ],
     "prompt_number": 21
    },
    {
     "cell_type": "heading",
     "level": 3,
     "metadata": {},
     "source": [
      "Versions"
     ]
    },
    {
     "cell_type": "code",
     "collapsed": false,
     "input": [
      "from qutip.ipynbtools import version_table\n",
      "\n",
      "version_table()"
     ],
     "language": "python",
     "metadata": {},
     "outputs": [
      {
       "html": [
        "<table><tr><th>Software</th><th>Version</th></tr><tr><td>Numpy</td><td>1.9.1</td></tr><tr><td>Cython</td><td>0.21.2</td></tr><tr><td>IPython</td><td>2.3.1</td></tr><tr><td>SciPy</td><td>0.14.1</td></tr><tr><td>Python</td><td>3.4.0 (default, Apr 11 2014, 13:05:11) \n",
        "[GCC 4.8.2]</td></tr><tr><td>matplotlib</td><td>1.4.2</td></tr><tr><td>OS</td><td>posix [linux]</td></tr><tr><td>QuTiP</td><td>3.1.0</td></tr><tr><td colspan='2'>Tue Jan 13 13:31:16 2015 JST</td></tr></table>"
       ],
       "metadata": {},
       "output_type": "pyout",
       "prompt_number": 11,
       "text": [
        "<IPython.core.display.HTML at 0x7f85e0497dd8>"
       ]
      }
     ],
     "prompt_number": 11
    },
    {
     "cell_type": "heading",
     "level": 3,
     "metadata": {},
     "source": [
      "References"
     ]
    },
    {
     "cell_type": "markdown",
     "metadata": {},
     "source": [
      "[1] Doria, P., Calarco, T. & Montangero, S.: Optimal Control Technique for Many-Body Quantum Dynamics. Phys. Rev. Lett. 106, 1\u20134 (2011).\n",
      "\n",
      "[2] Caneva, T., Calarco, T. & Montangero, S.: Chopped random-basis quantum optimization. Phys. Rev. A - At. Mol. Opt. Phys. 84, (2011)."
     ]
    }
   ],
   "metadata": {}
  }
 ]
}