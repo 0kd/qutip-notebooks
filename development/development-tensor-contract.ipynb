{
 "metadata": {
  "name": "",
  "signature": "sha256:a5121063024a2399ab95b80eab75e0b012ee96bb24b851b49349af938af1ba67"
 },
 "nbformat": 3,
 "nbformat_minor": 0,
 "worksheets": [
  {
   "cells": [
    {
     "cell_type": "heading",
     "level": 1,
     "metadata": {},
     "source": [
      "QuTiP Example: Superoperators, Pauli Basis and Channel Contraction"
     ]
    },
    {
     "cell_type": "markdown",
     "metadata": {},
     "source": [
      "[Christopher Granade](http://www.cgranade.com/) <br>\n",
      "Institute for Quantum Computing\n",
      "$\\newcommand{\\ket}[1]{\\left|#1\\right\\rangle}$\n",
      "$\\newcommand{\\bra}[1]{\\left\\langle#1\\right|}$\n",
      "$\\newcommand{\\cnot}{{\\scriptstyle \\rm CNOT}}$\n",
      "$\\newcommand{\\Tr}{\\operatorname{Tr}}$"
     ]
    },
    {
     "cell_type": "heading",
     "level": 2,
     "metadata": {},
     "source": [
      "Introduction"
     ]
    },
    {
     "cell_type": "markdown",
     "metadata": {},
     "source": [
      "In this notebook, we will demonstrate the ``tensor_contract`` function, which contracts one or more pairs of indices of a Qobj. This functionality can be used to find rectangular superoperators that implement the partial trace channel $S(\\rho) = \\Tr_2(\\rho)$, for instance. Using this functionality, we can quickly turn a system-environment representation of an open quantum process into a superoperator representation."
     ]
    },
    {
     "cell_type": "heading",
     "level": 2,
     "metadata": {},
     "source": [
      "Preamble"
     ]
    },
    {
     "cell_type": "heading",
     "level": 3,
     "metadata": {},
     "source": [
      "Features"
     ]
    },
    {
     "cell_type": "markdown",
     "metadata": {},
     "source": [
      "We enable a few features such that this notebook runs in both Python 2 and 3."
     ]
    },
    {
     "cell_type": "code",
     "collapsed": false,
     "input": [
      "from __future__ import division, print_function"
     ],
     "language": "python",
     "metadata": {},
     "outputs": [],
     "prompt_number": 1
    },
    {
     "cell_type": "heading",
     "level": 3,
     "metadata": {},
     "source": [
      "Imports"
     ]
    },
    {
     "cell_type": "code",
     "collapsed": false,
     "input": [
      "import numpy as np\n",
      "import qutip as qt\n",
      "\n",
      "from qutip.ipynbtools import version_table"
     ],
     "language": "python",
     "metadata": {},
     "outputs": [],
     "prompt_number": 2
    },
    {
     "cell_type": "heading",
     "level": 3,
     "metadata": {},
     "source": [
      "Plotting Support"
     ]
    },
    {
     "cell_type": "code",
     "collapsed": false,
     "input": [
      "%matplotlib inline"
     ],
     "language": "python",
     "metadata": {},
     "outputs": [],
     "prompt_number": 3
    },
    {
     "cell_type": "heading",
     "level": 3,
     "metadata": {},
     "source": [
      "Settings"
     ]
    },
    {
     "cell_type": "code",
     "collapsed": false,
     "input": [
      "qt.settings.colorblind_safe = True"
     ],
     "language": "python",
     "metadata": {},
     "outputs": [],
     "prompt_number": 4
    },
    {
     "cell_type": "heading",
     "level": 2,
     "metadata": {},
     "source": [
      "Superoperator Representations and Plotting"
     ]
    },
    {
     "cell_type": "markdown",
     "metadata": {},
     "source": [
      "We start off by first demonstrating plotting of superoperators, as this will be useful to us in visualizing the results of a contracted channel."
     ]
    },
    {
     "cell_type": "markdown",
     "metadata": {},
     "source": [
      "In particular, we will use Hinton diagrams as implemented by [``qutip.visualization.hinton``](http://qutip.org/docs/3.0.1/apidoc/functions.html#qutip.visualization.hinton), which\n",
      "show the real parts of matrix elements as squares whose size and color both correspond to the magnitude of each element. To illustrate, we first plot a few density operators."
     ]
    },
    {
     "cell_type": "code",
     "collapsed": false,
     "input": [
      "qt.visualization.hinton(qt.identity([2, 3]).unit());"
     ],
     "language": "python",
     "metadata": {},
     "outputs": [
      {
       "output_type": "stream",
       "stream": "stderr",
       "text": [
        "[2014-12-09 09:15:22] qutip.sparse[24745]: _dense_eigs: DEBUG: _dense_eigs: vectors = False\n"
       ]
      },
      {
       "output_type": "stream",
       "stream": "stdout",
       "text": [
        "sp_eigs\n"
       ]
      },
      {
       "metadata": {},
       "output_type": "display_data",
       "png": "[encoded data removed]",
       "text": [
        "<matplotlib.figure.Figure at 0x7f037bd54410>"
       ]
      }
     ],
     "prompt_number": 7
    },
    {
     "cell_type": "code",
     "collapsed": false,
     "input": [
      "qt.visualization.hinton(qt.Qobj([\n",
      "    [1, 0.5],\n",
      "    [0.5, 1]\n",
      "]).unit());"
     ],
     "language": "python",
     "metadata": {},
     "outputs": [
      {
       "output_type": "stream",
       "stream": "stderr",
       "text": [
        "[2014-12-09 09:15:23] qutip.sparse[24745]: _dense_eigs: DEBUG: _dense_eigs: vectors = False\n"
       ]
      },
      {
       "output_type": "stream",
       "stream": "stdout",
       "text": [
        "sp_eigs\n"
       ]
      },
      {
       "metadata": {},
       "output_type": "display_data",
       "png": "[encoded data removed]",
       "text": [
        "<matplotlib.figure.Figure at 0x7f037b8236d0>"
       ]
      }
     ],
     "prompt_number": 8
    },
    {
     "cell_type": "markdown",
     "metadata": {},
     "source": [
      "We show superoperators as matrices in the *Pauli basis*, such that any Hermicity-preserving map is represented by a real-valued matrix. This is especially convienent for use with Hinton diagrams, as the plot thus carries complete information about the channel.\n",
      "\n",
      "As an example, conjugation by $\\sigma_z$ leaves $\\mathbb{1}$ and $\\sigma_z$ invariant, but flips the sign of $\\sigma_x$ and $\\sigma_y$. This is indicated in Hinton diagrams by a negative-valued square for the sign change and a positive-valued square for a +1 sign."
     ]
    },
    {
     "cell_type": "code",
     "collapsed": false,
     "input": [
      "qt.visualization.hinton(qt.to_super(qt.sigmaz()));"
     ],
     "language": "python",
     "metadata": {},
     "outputs": [
      {
       "metadata": {},
       "output_type": "display_data",
       "png": "[encoded data removed]",
       "text": [
        "<matplotlib.figure.Figure at 0x7f037bcb55d0>"
       ]
      }
     ],
     "prompt_number": 9
    },
    {
     "cell_type": "markdown",
     "metadata": {},
     "source": [
      "As a couple more examples, we also consider the supermatrix for a Hadamard transform and for $\\sigma_z \\otimes H$."
     ]
    },
    {
     "cell_type": "code",
     "collapsed": false,
     "input": [
      "qt.visualization.hinton(qt.to_super(qt.hadamard_transform()));"
     ],
     "language": "python",
     "metadata": {},
     "outputs": [
      {
       "metadata": {},
       "output_type": "display_data",
       "png": "[encoded data removed]",
       "text": [
        "<matplotlib.figure.Figure at 0x415d490>"
       ]
      }
     ],
     "prompt_number": 7
    },
    {
     "cell_type": "code",
     "collapsed": false,
     "input": [
      "qt.visualization.hinton(qt.to_super(qt.tensor(qt.sigmaz(), qt.hadamard_transform())));"
     ],
     "language": "python",
     "metadata": {},
     "outputs": [
      {
       "metadata": {},
       "output_type": "display_data",
       "png": "[encoded data removed]",
       "text": [
        "<matplotlib.figure.Figure at 0x46173d0>"
       ]
      }
     ],
     "prompt_number": 8
    },
    {
     "cell_type": "heading",
     "level": 2,
     "metadata": {},
     "source": [
      "Reduced Channels"
     ]
    },
    {
     "cell_type": "markdown",
     "metadata": {},
     "source": [
      "As an example of tensor contraction, we now consider the map $S(\\rho) = \\Tr_2[\\cnot (\\rho \\otimes \\ket{0}\\bra{0}) \\cnot^\\dagger]$.\n",
      "We can think of the $\\cnot$ here as a system-environment representation of an open quantum process, in which an environment register is prepared in a state $\\rho_{\\text{anc}}$, then a unitary acts jointly on the system of interest and environment. Finally, the environment is traced out, leaving a *channel* on the system alone. In terms of [Wood diagrams](http://arxiv.org/abs/1111.6950), this can be represented as the composition of a preparation map, evolution under the system-environment unitary, and then a measurement map."
     ]
    },
    {
     "cell_type": "markdown",
     "metadata": {},
     "source": [
      "![](files/sprep-wood-diagram.png)"
     ]
    },
    {
     "cell_type": "markdown",
     "metadata": {},
     "source": [
      "The two tensor wires on the left indicate where we must take a tensor contraction to obtain the measurement map. Numbering the tensor wires from 0 to 3, this corresponds to a ``tensor_contract`` argument of ``(1, 3)``."
     ]
    },
    {
     "cell_type": "code",
     "collapsed": false,
     "input": [
      "s_meas = qt.tensor_contract(qt.to_super(qt.identity([2, 2])), (1, 3))\n",
      "s_meas"
     ],
     "language": "python",
     "metadata": {},
     "outputs": [
      {
       "latex": [
        "Quantum object: dims = [[[2], [2]], [[2, 2], [2, 2]]], shape = [4, 16], type = other\\begin{equation*}\\left(\\begin{array}{*{11}c}1.0 & 0.0 & 0.0 & 0.0 & 0.0 & 1.0 & 0.0 & 0.0 & 0.0 & 0.0 & 0.0 & 0.0 & 0.0 & 0.0 & 0.0 & 0.0\\\\0.0 & 0.0 & 1.0 & 0.0 & 0.0 & 0.0 & 0.0 & 1.0 & 0.0 & 0.0 & 0.0 & 0.0 & 0.0 & 0.0 & 0.0 & 0.0\\\\0.0 & 0.0 & 0.0 & 0.0 & 0.0 & 0.0 & 0.0 & 0.0 & 1.0 & 0.0 & 0.0 & 0.0 & 0.0 & 1.0 & 0.0 & 0.0\\\\0.0 & 0.0 & 0.0 & 0.0 & 0.0 & 0.0 & 0.0 & 0.0 & 0.0 & 0.0 & 1.0 & 0.0 & 0.0 & 0.0 & 0.0 & 1.0\\\\\\end{array}\\right)\\end{equation*}"
       ],
       "metadata": {},
       "output_type": "pyout",
       "prompt_number": 15,
       "text": [
        "Quantum object: dims = [[[2], [2]], [[2, 2], [2, 2]]], shape = [4, 16], type = other\n",
        "Qobj data =\n",
        "[[ 1.  0.  0.  0.  0.  1.  0.  0.  0.  0.  0.  0.  0.  0.  0.  0.]\n",
        " [ 0.  0.  1.  0.  0.  0.  0.  1.  0.  0.  0.  0.  0.  0.  0.  0.]\n",
        " [ 0.  0.  0.  0.  0.  0.  0.  0.  1.  0.  0.  0.  0.  1.  0.  0.]\n",
        " [ 0.  0.  0.  0.  0.  0.  0.  0.  0.  0.  1.  0.  0.  0.  0.  1.]]"
       ]
      }
     ],
     "prompt_number": 15
    },
    {
     "cell_type": "markdown",
     "metadata": {},
     "source": [
      "Meanwhile, the ``super_tensor`` function implements the swap on the right, such that we can quickly find the preparation map."
     ]
    },
    {
     "cell_type": "code",
     "collapsed": false,
     "input": [
      "q = qt.tensor(qt.identity(2), qt.basis(2))\n",
      "s_prep = qt.sprepost(q, q.dag())\n",
      "s_prep"
     ],
     "language": "python",
     "metadata": {},
     "outputs": [
      {
       "latex": [
        "Quantum object: dims = [[[2, 2], [2, 2]], [[2], [2]]], shape = [16, 4], type = other\\begin{equation*}\\left(\\begin{array}{*{11}c}1.0 & 0.0 & 0.0 & 0.0\\\\0.0 & 0.0 & 0.0 & 0.0\\\\0.0 & 1.0 & 0.0 & 0.0\\\\0.0 & 0.0 & 0.0 & 0.0\\\\0.0 & 0.0 & 0.0 & 0.0\\\\0.0 & 0.0 & 0.0 & 0.0\\\\0.0 & 0.0 & 0.0 & 0.0\\\\0.0 & 0.0 & 0.0 & 0.0\\\\0.0 & 0.0 & 1.0 & 0.0\\\\0.0 & 0.0 & 0.0 & 0.0\\\\0.0 & 0.0 & 0.0 & 1.0\\\\0.0 & 0.0 & 0.0 & 0.0\\\\0.0 & 0.0 & 0.0 & 0.0\\\\0.0 & 0.0 & 0.0 & 0.0\\\\0.0 & 0.0 & 0.0 & 0.0\\\\0.0 & 0.0 & 0.0 & 0.0\\\\\\end{array}\\right)\\end{equation*}"
       ],
       "metadata": {},
       "output_type": "pyout",
       "prompt_number": 16,
       "text": [
        "Quantum object: dims = [[[2, 2], [2, 2]], [[2], [2]]], shape = [16, 4], type = other\n",
        "Qobj data =\n",
        "[[ 1.  0.  0.  0.]\n",
        " [ 0.  0.  0.  0.]\n",
        " [ 0.  1.  0.  0.]\n",
        " [ 0.  0.  0.  0.]\n",
        " [ 0.  0.  0.  0.]\n",
        " [ 0.  0.  0.  0.]\n",
        " [ 0.  0.  0.  0.]\n",
        " [ 0.  0.  0.  0.]\n",
        " [ 0.  0.  1.  0.]\n",
        " [ 0.  0.  0.  0.]\n",
        " [ 0.  0.  0.  1.]\n",
        " [ 0.  0.  0.  0.]\n",
        " [ 0.  0.  0.  0.]\n",
        " [ 0.  0.  0.  0.]\n",
        " [ 0.  0.  0.  0.]\n",
        " [ 0.  0.  0.  0.]]"
       ]
      }
     ],
     "prompt_number": 16
    },
    {
     "cell_type": "markdown",
     "metadata": {},
     "source": [
      "For a $\\cnot$ system-environment model, the composition of these maps should give us a completely dephasing channel. The channel on both qubits is just the superunitary $\\cnot$ channel:"
     ]
    },
    {
     "cell_type": "code",
     "collapsed": false,
     "input": [
      "qt.visualization.hinton(qt.to_super(qt.cnot()))"
     ],
     "language": "python",
     "metadata": {},
     "outputs": [
      {
       "metadata": {},
       "output_type": "pyout",
       "prompt_number": 17,
       "text": [
        "(<matplotlib.figure.Figure at 0x7f037bbbee10>,\n",
        " <matplotlib.axes.AxesSubplot at 0x7f037bd44b10>)"
       ]
      },
      {
       "metadata": {},
       "output_type": "display_data",
       "png": "[encoded data removed]",
       "text": [
        "<matplotlib.figure.Figure at 0x7f037bbbee10>"
       ]
      }
     ],
     "prompt_number": 17
    },
    {
     "cell_type": "markdown",
     "metadata": {},
     "source": [
      "We now complete by multiplying the superunitary $\\cnot$ by the preparation channel above, then applying the partial trace channel by contracting the second and fourth index indices. As expected, this gives us a dephasing map."
     ]
    },
    {
     "cell_type": "code",
     "collapsed": false,
     "input": [
      "qt.tensor_contract(qt.to_super(qt.cnot()), (1, 3)) * s_prep"
     ],
     "language": "python",
     "metadata": {},
     "outputs": [
      {
       "latex": [
        "Quantum object: dims = [[[2], [2]], [[2], [2]]], shape = [4, 4], type = super, isherm = True\\begin{equation*}\\left(\\begin{array}{*{11}c}1.0 & 0.0 & 0.0 & 0.0\\\\0.0 & 0.0 & 0.0 & 0.0\\\\0.0 & 0.0 & 0.0 & 0.0\\\\0.0 & 0.0 & 0.0 & 1.0\\\\\\end{array}\\right)\\end{equation*}"
       ],
       "metadata": {},
       "output_type": "pyout",
       "prompt_number": 18,
       "text": [
        "Quantum object: dims = [[[2], [2]], [[2], [2]]], shape = [4, 4], type = super, isherm = True\n",
        "Qobj data =\n",
        "[[ 1.  0.  0.  0.]\n",
        " [ 0.  0.  0.  0.]\n",
        " [ 0.  0.  0.  0.]\n",
        " [ 0.  0.  0.  1.]]"
       ]
      }
     ],
     "prompt_number": 18
    },
    {
     "cell_type": "code",
     "collapsed": false,
     "input": [
      "qt.visualization.hinton(qt.tensor_contract(qt.to_super(qt.cnot()), (1, 3)) * s_prep)"
     ],
     "language": "python",
     "metadata": {},
     "outputs": [
      {
       "metadata": {},
       "output_type": "pyout",
       "prompt_number": 19,
       "text": [
        "(<matplotlib.figure.Figure at 0x7f037b627990>,\n",
        " <matplotlib.axes.AxesSubplot at 0x7f037b61dc90>)"
       ]
      },
      {
       "metadata": {},
       "output_type": "display_data",
       "png": "[encoded data removed]",
       "text": [
        "<matplotlib.figure.Figure at 0x7f037b627990>"
       ]
      }
     ],
     "prompt_number": 19
    },
    {
     "cell_type": "heading",
     "level": 2,
     "metadata": {},
     "source": [
      "Epilouge"
     ]
    },
    {
     "cell_type": "code",
     "collapsed": false,
     "input": [
      "version_table()"
     ],
     "language": "python",
     "metadata": {},
     "outputs": [
      {
       "html": [
        "<table><tr><th>Software</th><th>Version</th></tr><tr><td>Cython</td><td>0.20.2</td></tr><tr><td>SciPy</td><td>0.14.0</td></tr><tr><td>QuTiP</td><td>3.1.0.dev-0cf12ba</td></tr><tr><td>Python</td><td>2.7.8 (default, Oct 20 2014, 15:05:19) \n",
        "[GCC 4.9.1]</td></tr><tr><td>IPython</td><td>2.3.0</td></tr><tr><td>OS</td><td>posix [linux2]</td></tr><tr><td>Numpy</td><td>1.8.2</td></tr><tr><td>matplotlib</td><td>1.3.1</td></tr><tr><td colspan='2'>Tue Dec 09 09:36:31 2014 EST</td></tr></table>"
       ],
       "metadata": {},
       "output_type": "pyout",
       "prompt_number": 20,
       "text": [
        "<IPython.core.display.HTML at 0x7f037b62fe90>"
       ]
      }
     ],
     "prompt_number": 20
    },
    {
     "cell_type": "code",
     "collapsed": false,
     "input": [],
     "language": "python",
     "metadata": {},
     "outputs": [],
     "prompt_number": 13
    }
   ],
   "metadata": {}
  }
 ]
}