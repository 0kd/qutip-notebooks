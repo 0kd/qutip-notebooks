{
 "metadata": {
  "name": "",
  "signature": "sha256:c0bacdb88be89313a43b2dc94cfef6023646ec93b3ddff385be334702bc17f0d"
 },
 "nbformat": 3,
 "nbformat_minor": 0,
 "worksheets": [
  {
   "cells": [
    {
     "cell_type": "heading",
     "level": 1,
     "metadata": {},
     "source": [
      "GRAPE calculation of control fields for cnot implementation"
     ]
    },
    {
     "cell_type": "markdown",
     "metadata": {},
     "source": [
      "Robert Johansson (robert@riken.jp)"
     ]
    },
    {
     "cell_type": "code",
     "collapsed": false,
     "input": [
      "%matplotlib inline\n",
      "import matplotlib.pyplot as plt\n",
      "import time\n",
      "import numpy as np"
     ],
     "language": "python",
     "metadata": {},
     "outputs": [],
     "prompt_number": 1
    },
    {
     "cell_type": "code",
     "collapsed": false,
     "input": [
      "from qutip import *\n",
      "from qutip.control import *"
     ],
     "language": "python",
     "metadata": {},
     "outputs": [],
     "prompt_number": 2
    },
    {
     "cell_type": "code",
     "collapsed": false,
     "input": [
      "T = 2 * np.pi \n",
      "times = np.linspace(0, T, 100)"
     ],
     "language": "python",
     "metadata": {},
     "outputs": [],
     "prompt_number": 3
    },
    {
     "cell_type": "code",
     "collapsed": false,
     "input": [
      "U = cnot()\n",
      "R = 2500\n",
      "H_ops = [tensor(sigmax(), identity(2)),\n",
      "         tensor(sigmay(), identity(2)),\n",
      "         tensor(sigmaz(), identity(2)),\n",
      "         tensor(identity(2), sigmax()),\n",
      "         tensor(identity(2), sigmay()),\n",
      "         tensor(identity(2), sigmaz()),\n",
      "         tensor(sigmax(), sigmax()) +\n",
      "         tensor(sigmay(), sigmay()) +\n",
      "         tensor(sigmaz(), sigmaz())]\n",
      "\n",
      "H_labels = [r'$u_{1x}$', r'$u_{1y}$', r'$u_{1z}$',\n",
      "            r'$u_{2x}$', r'$u_{1y}$', r'$u_{2z}$',\n",
      "            r'$u_{xx}$',\n",
      "            r'$u_{yy}$',\n",
      "            r'$u_{zz}$',\n",
      "        ]"
     ],
     "language": "python",
     "metadata": {},
     "outputs": [],
     "prompt_number": 4
    },
    {
     "cell_type": "code",
     "collapsed": false,
     "input": [
      "H0 = 0 * np.pi * (tensor(sigmax(), identity(2)) + tensor(identity(2), sigmax()))\n",
      "\n",
      "c_ops = []\n",
      "\n",
      "# This is the analytical result in the absense of single-qubit tunnelling\n",
      "#g = pi/(4 * T)\n",
      "#H = g * (tensor(sigmax(), sigmax()) + tensor(sigmay(), sigmay()))"
     ],
     "language": "python",
     "metadata": {},
     "outputs": [],
     "prompt_number": 5
    },
    {
     "cell_type": "heading",
     "level": 1,
     "metadata": {},
     "source": [
      "GRAPE"
     ]
    },
    {
     "cell_type": "code",
     "collapsed": false,
     "input": [
      "from qutip.control.grape import plot_grape_control_fields, _overlap, grape_unitary_adaptive, cy_grape_unitary"
     ],
     "language": "python",
     "metadata": {},
     "outputs": [],
     "prompt_number": 6
    },
    {
     "cell_type": "code",
     "collapsed": false,
     "input": [
      "from scipy.interpolate import interp1d\n",
      "from qutip.ui.progressbar import TextProgressBar"
     ],
     "language": "python",
     "metadata": {},
     "outputs": [],
     "prompt_number": 7
    },
    {
     "cell_type": "code",
     "collapsed": false,
     "input": [
      "u0 = np.array([np.random.rand(len(times)) * 2 * np.pi * 0.05 for _ in range(len(H_ops))])\n",
      "\n",
      "u0 = [np.convolve(np.ones(10)/10, u0[idx,:], mode='same') for idx in range(len(H_ops))]\n",
      "\n",
      "u_limits = None #[0, 1 * 2 * pi]\n",
      "alpha = None"
     ],
     "language": "python",
     "metadata": {},
     "outputs": []
    },
    {
     "cell_type": "code",
     "collapsed": false,
     "input": [
      "result = cy_grape_unitary(U, H0, H_ops, R, times, u_start=u0, u_limits=u_limits,\n",
      "                          eps=2*np.pi*1, alpha=alpha, phase_sensitive=False,\n",
      "                          progress_bar=TextProgressBar())"
     ],
     "language": "python",
     "metadata": {},
     "outputs": []
    },
    {
     "cell_type": "raw",
     "metadata": {},
     "source": [
      "U_f, H_list_func, u = grape_unitary_adaptive(U, H0, H_ops, R, times, u_start=u0, u_limits=u_limits,\n",
      "                                    eps=2*pi*1, alpha=alpha, phase_sensitive=False,\n",
      "                                    overlap_terminate=0.9999,\n",
      "                                    progress_bar=TextProgressBar())"
     ]
    },
    {
     "cell_type": "heading",
     "level": 2,
     "metadata": {},
     "source": [
      "Plot control fields for cnot gate in the presense of single-qubit tunnelling"
     ]
    },
    {
     "cell_type": "code",
     "collapsed": false,
     "input": [
      "plot_grape_control_fields(times, result.u / (2 * np.pi), H_labels, uniform_axes=True);"
     ],
     "language": "python",
     "metadata": {},
     "outputs": []
    },
    {
     "cell_type": "heading",
     "level": 2,
     "metadata": {},
     "source": [
      "Fidelity/overlap"
     ]
    },
    {
     "cell_type": "code",
     "collapsed": false,
     "input": [
      "U"
     ],
     "language": "python",
     "metadata": {},
     "outputs": []
    },
    {
     "cell_type": "code",
     "collapsed": false,
     "input": [
      "result.U_f"
     ],
     "language": "python",
     "metadata": {},
     "outputs": []
    },
    {
     "cell_type": "code",
     "collapsed": false,
     "input": [
      "result.U_f/result.U_f[0,0]"
     ],
     "language": "python",
     "metadata": {},
     "outputs": []
    },
    {
     "cell_type": "code",
     "collapsed": false,
     "input": [
      "_overlap(U, result.U_f).real, abs(_overlap(U, result.U_f)) ** 2"
     ],
     "language": "python",
     "metadata": {},
     "outputs": []
    },
    {
     "cell_type": "heading",
     "level": 2,
     "metadata": {},
     "source": [
      "Test numerical integration of GRAPE pulse"
     ]
    },
    {
     "cell_type": "code",
     "collapsed": false,
     "input": [
      "U_f_numerical = propagator(result.H_t, times[-1], [], options=Odeoptions(nsteps=5000), args={})\n",
      "U_f_numerical"
     ],
     "language": "python",
     "metadata": {},
     "outputs": []
    },
    {
     "cell_type": "code",
     "collapsed": false,
     "input": [
      "U_f_numerical / U_f_numerical[0,0]"
     ],
     "language": "python",
     "metadata": {},
     "outputs": []
    },
    {
     "cell_type": "code",
     "collapsed": false,
     "input": [
      "_overlap(result.U_f, U_f_numerical).real, abs(_overlap(result.U_f, U_f_numerical))**2"
     ],
     "language": "python",
     "metadata": {},
     "outputs": []
    },
    {
     "cell_type": "heading",
     "level": 1,
     "metadata": {},
     "source": [
      "Process tomography"
     ]
    },
    {
     "cell_type": "heading",
     "level": 2,
     "metadata": {},
     "source": [
      "Ideal cnot gate"
     ]
    },
    {
     "cell_type": "code",
     "collapsed": false,
     "input": [
      "op_basis = [[qeye(2), sigmax(), sigmay(), sigmaz()]] * 2\n",
      "op_label = [[\"i\", \"x\", \"y\", \"z\"]] * 2"
     ],
     "language": "python",
     "metadata": {},
     "outputs": []
    },
    {
     "cell_type": "code",
     "collapsed": false,
     "input": [
      "fig = plt.figure(figsize=(12,6))\n",
      "\n",
      "U_i_s = to_super(U)\n",
      "\n",
      "chi = qpt(U_i_s, op_basis)\n",
      "\n",
      "fig = qpt_plot_combined(chi, op_label, fig=fig, threshold=0.001)"
     ],
     "language": "python",
     "metadata": {},
     "outputs": []
    },
    {
     "cell_type": "heading",
     "level": 2,
     "metadata": {},
     "source": [
      "cnot gate calculated using GRAPE"
     ]
    },
    {
     "cell_type": "code",
     "collapsed": false,
     "input": [
      "fig = plt.figure(figsize=(12,6))\n",
      "\n",
      "U_f_s = to_super(result.U_f)\n",
      "\n",
      "chi = qpt(U_f_s, op_basis)\n",
      "\n",
      "fig = qpt_plot_combined(chi, op_label, fig=fig, threshold=0.001)"
     ],
     "language": "python",
     "metadata": {},
     "outputs": []
    },
    {
     "cell_type": "heading",
     "level": 2,
     "metadata": {},
     "source": [
      "Versions"
     ]
    },
    {
     "cell_type": "code",
     "collapsed": false,
     "input": [
      "from qutip.ipynbtools import version_table\n",
      "\n",
      "version_table()"
     ],
     "language": "python",
     "metadata": {},
     "outputs": []
    }
   ],
   "metadata": {}
  }
 ]
}