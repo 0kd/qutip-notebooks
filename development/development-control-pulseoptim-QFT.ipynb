{
 "metadata": {
  "name": ""
 },
 "nbformat": 3,
 "nbformat_minor": 0,
 "worksheets": [
  {
   "cells": [
    {
     "cell_type": "heading",
     "level": 1,
     "metadata": {},
     "source": [
      "Calculation of control fields for QFT gate on two qubits using L-BFGS-B algorithm"
     ]
    },
    {
     "cell_type": "markdown",
     "metadata": {},
     "source": [
      "Alexander Pitchford (agp1@aber.ac.uk)"
     ]
    },
    {
     "cell_type": "raw",
     "metadata": {},
     "source": [
      "Example to demonstrate using the control library to determine control\n",
      "pulses using the ctrlpulseoptim.create_pulse_optimizer function to \n",
      "generate an Optimizer object, through which the configuration can be\n",
      "manipulated before running the optmisation algorithm. In this case it is\n",
      "demonstrated by modifying the initial ctrl pulses.\n",
      "\n",
      "The (default) L-BFGS-B algorithm is used to optimise the pulse to\n",
      "minimise the fidelity error, which is equivalent maximising the fidelity\n",
      "to optimal value of 1.\n",
      "\n",
      "The system in this example is two qubits in constant fields in x, y and z\n",
      "with a variable independant controls fields in x and y acting on each qubit\n",
      "The target evolution is the QFT gate. The user can experiment with the\n",
      "different:\n",
      "    phase options - phase_option = SU or PSU\n",
      "    propagtor computer type prop_type = DIAG or FRECHET\n",
      "    fidelity measures - fid_type = UNIT or TRACEDIFF\n",
      "\n",
      "The user can experiment with the timeslicing, by means of changing the\n",
      "number of timeslots and/or total time for the evolution.\n",
      "Different initial (starting) pulse types can be tried.\n",
      "The initial and final pulses are displayed in a plot"
     ]
    },
    {
     "cell_type": "code",
     "collapsed": false,
     "input": [
      "%matplotlib inline\n",
      "import numpy as np\n",
      "import matplotlib.pyplot as plt\n",
      "import datetime"
     ],
     "language": "python",
     "metadata": {},
     "outputs": [],
     "prompt_number": 1
    },
    {
     "cell_type": "code",
     "collapsed": false,
     "input": [
      "from qutip import Qobj, identity, sigmax, sigmay, sigmaz, tensor\n",
      "from qutip.qip.algorithms import qft\n",
      "import qutip.logging as logging\n",
      "logger = logging.get_logger()\n",
      "#Set this to None or logging.WARN for 'quiet' execution\n",
      "log_level = logging.INFO\n",
      "#QuTiP control modules\n",
      "import qutip.control.pulseoptim as cpo\n",
      "import qutip.control.pulsegen as pulsegen\n",
      "\n",
      "example_name = 'QFT'\n"
     ],
     "language": "python",
     "metadata": {},
     "outputs": [],
     "prompt_number": 2
    },
    {
     "cell_type": "heading",
     "level": 3,
     "metadata": {},
     "source": [
      "Defining the physics"
     ]
    },
    {
     "cell_type": "code",
     "collapsed": false,
     "input": [
      "Sx = sigmax()\n",
      "Sy = sigmay()\n",
      "Sz = sigmaz()\n",
      "Si = 0.5*identity(2)\n",
      "\n",
      "# Drift Hamiltonian\n",
      "H_d = 0.5*(tensor(Sx, Sx) + tensor(Sy, Sy) + tensor(Sz, Sz))\n",
      "# The (four) control Hamiltonians\n",
      "H_c = [tensor(Sx, Si), tensor(Sy, Si), tensor(Si, Sx), tensor(Si, Sy)]\n",
      "n_ctrls = len(H_c)\n",
      "# start point for the gate evolution\n",
      "U_0 = identity(4)\n",
      "# Target for the gate evolution - Quantum Fourier Transform gate\n",
      "U_targ = qft.qft(2)"
     ],
     "language": "python",
     "metadata": {},
     "outputs": [],
     "prompt_number": 3
    },
    {
     "cell_type": "heading",
     "level": 3,
     "metadata": {},
     "source": [
      "Defining the time evolution parameters"
     ]
    },
    {
     "cell_type": "code",
     "collapsed": false,
     "input": [
      "# Number of time slots\n",
      "n_ts = 500\n",
      "# Time allowed for the evolution\n",
      "evo_time = 10"
     ],
     "language": "python",
     "metadata": {},
     "outputs": [],
     "prompt_number": 4
    },
    {
     "cell_type": "heading",
     "level": 3,
     "metadata": {},
     "source": [
      "Set the conditions which will cause the pulse optimisation to terminate"
     ]
    },
    {
     "cell_type": "code",
     "collapsed": false,
     "input": [
      "# Fidelity error target\n",
      "fid_err_targ = 1e-10\n",
      "# Maximum iterations for the optisation algorithm\n",
      "max_iter = 200\n",
      "# Maximum (elapsed) time allowed in seconds\n",
      "max_wall_time = 120\n",
      "# Minimum gradient (sum of gradients squared)\n",
      "# as this tends to 0 -> local minima has been found\n",
      "min_grad = 1e-20"
     ],
     "language": "python",
     "metadata": {},
     "outputs": [],
     "prompt_number": 5
    },
    {
     "cell_type": "heading",
     "level": 3,
     "metadata": {},
     "source": [
      "Set the initial pulse type"
     ]
    },
    {
     "cell_type": "code",
     "collapsed": false,
     "input": [
      "# pulse type alternatives: RND|ZERO|LIN|SINE|SQUARE|SAW|TRIANGLE|\n",
      "p_type = 'LIN'"
     ],
     "language": "python",
     "metadata": {},
     "outputs": [],
     "prompt_number": 6
    },
    {
     "cell_type": "heading",
     "level": 3,
     "metadata": {},
     "source": [
      "Give an extension for output files"
     ]
    },
    {
     "cell_type": "code",
     "collapsed": false,
     "input": [
      "#Set to None to suppress output files\n",
      "f_ext = \"{}_n_ts{}_ptype{}.txt\".format(example_name, n_ts, p_type)"
     ],
     "language": "python",
     "metadata": {},
     "outputs": [],
     "prompt_number": 7
    },
    {
     "cell_type": "heading",
     "level": 3,
     "metadata": {},
     "source": [
      "Create the optimiser objects"
     ]
    },
    {
     "cell_type": "code",
     "collapsed": false,
     "input": [
      "optim = cpo.create_pulse_optimizer(H_d, H_c, U_0, U_targ, n_ts, evo_time, \n",
      "                amp_lbound=-5.0, amp_ubound=5.0, \n",
      "                fid_err_targ=fid_err_targ, min_grad=min_grad, \n",
      "                max_iter=max_iter, max_wall_time=max_wall_time, \n",
      "                optim_alg='LBFGSB', max_metric_corr=20, accuracy_factor=1e8,\n",
      "                dyn_type='UNIT', \n",
      "                prop_type='DIAG', fid_type='UNIT', phase_option='PSU', \n",
      "                init_pulse_type=p_type, \n",
      "                log_level=log_level, gen_stats=True)\n",
      "                "
     ],
     "language": "python",
     "metadata": {},
     "outputs": [],
     "prompt_number": 9
    },
    {
     "cell_type": "heading",
     "level": 3,
     "metadata": {},
     "source": [
      "Generate different initial pulses for each of the controls"
     ]
    },
    {
     "cell_type": "code",
     "collapsed": false,
     "input": [
      "dyn = optim.dynamics\n",
      "p_gen = optim.pulse_generator\n",
      "init_amps = np.zeros([n_ts, n_ctrls])\n",
      "if (p_gen.periodic):\n",
      "    phase_diff = np.pi / n_ctrls\n",
      "    for j in range(n_ctrls):\n",
      "        init_amps[:, j] = p_gen.gen_pulse(start_phase=phase_diff*j)\n",
      "elif (isinstance(p_gen, pulsegen.PulseGenLinear)):\n",
      "    for j in range(n_ctrls):\n",
      "        p_gen.scaling = float(j) - float(n_ctrls - 1)/2\n",
      "        init_amps[:, j] = p_gen.gen_pulse()\n",
      "elif (isinstance(p_gen, pulsegen.PulseGenZero)):\n",
      "    for j in range(n_ctrls):\n",
      "        p_gen.offset = sf = float(j) - float(n_ctrls - 1)/2\n",
      "        init_amps[:, j] = p_gen.gen_pulse()\n",
      "else:\n",
      "    # Should be random pulse\n",
      "    for j in range(n_ctrls):\n",
      "        init_amps[:, j] = p_gen.gen_pulse()\n",
      "\n",
      "dyn.initialize_controls(init_amps)"
     ],
     "language": "python",
     "metadata": {},
     "outputs": [],
     "prompt_number": 10
    },
    {
     "cell_type": "heading",
     "level": 3,
     "metadata": {},
     "source": [
      "Run the pulse optimisation"
     ]
    },
    {
     "cell_type": "code",
     "collapsed": false,
     "input": [
      "# Save initial amplitudes to a text file\n",
      "if f_ext is not None:\n",
      "    pulsefile = \"ctrl_amps_initial_\" + f_ext\n",
      "    dyn.save_amps(pulsefile)\n",
      "    print(\"Initial amplitudes output to file: \" + pulsefile)\n",
      "\n",
      "print(\"***********************************\")\n",
      "print(\"Starting pulse optimisation\")\n",
      "result = optim.run_optimization()\n",
      "\n",
      "# Save final amplitudes to a text file\n",
      "if f_ext is not None:\n",
      "    pulsefile = \"ctrl_amps_final_\" + f_ext\n",
      "    dyn.save_amps(pulsefile)\n",
      "    print(\"Final amplitudes output to file: \" + pulsefile)"
     ],
     "language": "python",
     "metadata": {},
     "outputs": [
      {
       "output_type": "stream",
       "stream": "stderr",
       "text": [
        "INFO:qutip.control.optimizer:Optimising pulse using L-BFGS-B\n"
       ]
      },
      {
       "output_type": "stream",
       "stream": "stdout",
       "text": [
        "Initial amplitudes output to file: ctrl_amps_initial_QFT_n_ts500_ptypeLIN.txt\n",
        "***********************************\n",
        "Starting pulse optimisation\n",
        "Final amplitudes output to file: ctrl_amps_final_QFT_n_ts500_ptypeLIN.txt"
       ]
      },
      {
       "output_type": "stream",
       "stream": "stdout",
       "text": [
        "\n"
       ]
      }
     ],
     "prompt_number": 11
    },
    {
     "cell_type": "heading",
     "level": 3,
     "metadata": {},
     "source": [
      "Report the results"
     ]
    },
    {
     "cell_type": "code",
     "collapsed": false,
     "input": [
      "result.stats.report()\n",
      "print(\"Final evolution\\n{}\\n\".format(result.evo_full_final))\n",
      "print(\"********* Summary *****************\")\n",
      "print(\"Final fidelity error {}\".format(result.fid_err))\n",
      "print(\"Final gradient normal {}\".format(result.grad_norm_final))\n",
      "print(\"Terminated due to {}\".format(result.termination_reason))\n",
      "print(\"Number of iterations {}\".format(result.num_iter))\n",
      "print(\"Completed in {} HH:MM:SS.US\".format(\n",
      "        datetime.timedelta(seconds=result.wall_time)))"
     ],
     "language": "python",
     "metadata": {},
     "outputs": [
      {
       "output_type": "stream",
       "stream": "stdout",
       "text": [
        "\n",
        "------------------------------------\n",
        "---- Control optimisation stats ----\n",
        "**** Timings (HH:MM:SS.US) ****\n",
        "Total wall time elapsed during optimisation: 0:00:01.865875\n",
        "Wall time computing Hamiltonians: 0:00:00.148558 (7.96%)\n",
        "Wall time computing propagators: 0:00:01.426000 (76.43%)\n",
        "Wall time computing forward propagation: 0:00:00.012903 (0.69%)\n",
        "Wall time computing onward propagation: 0:00:00.011604 (0.62%)\n",
        "Wall time computing gradient: 0:00:00.253130 (13.57%)\n",
        "\n",
        "**** Iterations and function calls ****\n",
        "Number of iterations: 22\n",
        "Number of fidelity function calls: 28\n",
        "Number of times fidelity is computed: 28\n",
        "Number of gradient function calls: 28\n",
        "Number of times gradients are computed: 28\n",
        "\n",
        "**** Control amplitudes ****\n",
        "Number of control amplitude updates: 28\n",
        "Mean number of updates per iteration: 1.27272727273\n",
        "Number of timeslot values changed: 14000\n",
        "Mean number of timeslot changes per update: 500.0\n",
        "Number of amplitude values changed: 56000\n",
        "Mean number of amplitude changes per update: 2000.0\n",
        "------------------------------------\n",
        "Final evolution\n",
        "Quantum object: dims = [[4], [4]], shape = [4, 4], type = oper, isherm = False\n",
        "Qobj data =\n",
        "[[ 0.19135003-0.46187736j  0.19135968-0.46197464j  0.19132133-0.46194777j\n",
        "   0.19135876-0.46194979j]\n",
        " [ 0.19137166-0.46196085j  0.46193169+0.19131208j -0.19130810+0.46193902j\n",
        "  -0.46194339-0.19133666j]\n",
        " [ 0.19137858-0.46196444j -0.19134711+0.46190977j  0.19130945-0.46197259j\n",
        "  -0.19130399+0.46192375j]\n",
        " [ 0.19138419-0.4619077j  -0.46193159-0.19137542j -0.19132303+0.46194316j\n",
        "   0.46195873+0.19132739j]]\n",
        "\n",
        "********* Summary *****************\n",
        "Final fidelity error 2.68531785697e-09\n",
        "Final gradient normal 3.02063315024e-06\n",
        "Terminated due to function converged\n",
        "Number of iterations 22\n",
        "Completed in 0:00:01.865875 HH:MM:SS.US\n"
       ]
      }
     ],
     "prompt_number": 12
    },
    {
     "cell_type": "heading",
     "level": 3,
     "metadata": {},
     "source": [
      "Plot the initial and final amplitudes"
     ]
    },
    {
     "cell_type": "code",
     "collapsed": false,
     "input": [
      "t = result.time[:n_ts]\n",
      "\n",
      "fig1 = plt.figure()\n",
      "ax1 = fig1.add_subplot(2, 1, 1)\n",
      "ax1.set_title(\"Initial Control amps\")\n",
      "ax1.set_xlabel(\"Time\")\n",
      "ax1.set_ylabel(\"Control amplitude\")\n",
      "for j in range(n_ctrls):\n",
      "    amps = result.initial_amps[:, j]\n",
      "    ax1.plot(t, amps)\n",
      "\n",
      "ax2 = fig1.add_subplot(2, 1, 2)\n",
      "ax2.set_title(\"Optimised Control Amplitudes\")\n",
      "ax2.set_xlabel(\"Time\")\n",
      "ax2.set_ylabel(\"Control amplitude\")\n",
      "for j in range(n_ctrls):\n",
      "    amps = result.final_amps[:, j]\n",
      "    ax2.plot(t, amps)\n",
      "\n",
      "plt.show()"
     ],
     "language": "python",
     "metadata": {},
     "outputs": [
      {
       "metadata": {},
       "output_type": "display_data",
       "png": "[encoded data removed]",
       "text": [
        "<matplotlib.figure.Figure at 0x7f1f29c43250>"
       ]
      }
     ],
     "prompt_number": 13
    },
    {
     "cell_type": "heading",
     "level": 3,
     "metadata": {},
     "source": [
      "Versions"
     ]
    },
    {
     "cell_type": "code",
     "collapsed": false,
     "input": [
      "from qutip.ipynbtools import version_table\n",
      "\n",
      "version_table()"
     ],
     "language": "python",
     "metadata": {},
     "outputs": [
      {
       "html": [
        "<table><tr><th>Software</th><th>Version</th></tr><tr><td>Cython</td><td>0.20.1post0</td></tr><tr><td>SciPy</td><td>0.13.3</td></tr><tr><td>QuTiP</td><td>3.1.0.dev-24aa453</td></tr><tr><td>Python</td><td>2.7.6 (default, Mar 22 2014, 22:59:56) \n",
        "[GCC 4.8.2]</td></tr><tr><td>IPython</td><td>1.2.1</td></tr><tr><td>OS</td><td>posix [linux2]</td></tr><tr><td>Numpy</td><td>1.8.2</td></tr><tr><td>matplotlib</td><td>1.3.1</td></tr><tr><td colspan='2'>Mon Nov 24 17:11:52 2014 GMT</td></tr></table>"
       ],
       "metadata": {},
       "output_type": "pyout",
       "prompt_number": 14,
       "text": [
        "<IPython.core.display.HTML at 0x7f1f068db890>"
       ]
      }
     ],
     "prompt_number": 14
    },
    {
     "cell_type": "code",
     "collapsed": false,
     "input": [],
     "language": "python",
     "metadata": {},
     "outputs": []
    }
   ],
   "metadata": {}
  }
 ]
}