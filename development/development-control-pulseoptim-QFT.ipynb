{
 "metadata": {
  "name": ""
 },
 "nbformat": 3,
 "nbformat_minor": 0,
 "worksheets": [
  {
   "cells": [
    {
     "cell_type": "heading",
     "level": 1,
     "metadata": {},
     "source": [
      "Calculation of control fields for QFT gate on two qubits using L-BFGS-B algorithm"
     ]
    },
    {
     "cell_type": "markdown",
     "metadata": {},
     "source": [
      "Alexander Pitchford (agp1@aber.ac.uk)"
     ]
    },
    {
     "cell_type": "raw",
     "metadata": {},
     "source": [
      "Example to demonstrate using the control library to determine control\n",
      "pulses using the ctrlpulseoptim.create_pulse_optimizer function to \n",
      "generate an Optimizer object, through which the configuration can be\n",
      "manipulated before running the optmisation algorithm. In this case it is\n",
      "demonstrated by modifying the initial ctrl pulses. \n",
      "\n",
      "Also re-uses objects in repeated runs with different total evolution times.\n",
      "\n",
      "The (default) L-BFGS-B algorithm is used to optimise the pulse to\n",
      "minimise the fidelity error, which is equivalent maximising the fidelity\n",
      "to optimal value of 1.\n",
      "\n",
      "The system in this example is two qubits in constant fields in x, y and z\n",
      "with a variable independant controls fields in x and y acting on each qubit\n",
      "The target evolution is the QFT gate. The user can experiment with the\n",
      "different:\n",
      "    evolution times - evo_times list values, try anything \n",
      "    phase options - phase_option = SU or PSU\n",
      "    propagtor computer type prop_type = DIAG or FRECHET\n",
      "    fidelity measures - fid_type = UNIT or TRACEDIFF\n",
      "\n",
      "The user can experiment with the timeslicing, by means of changing the\n",
      "timeslots durations.\n",
      "Different initial (starting) pulse types can be tried.\n",
      "The initial and final pulses are displayed in a plot"
     ]
    },
    {
     "cell_type": "code",
     "collapsed": false,
     "input": [
      "%matplotlib inline\n",
      "import numpy as np\n",
      "import matplotlib.pyplot as plt\n",
      "import datetime"
     ],
     "language": "python",
     "metadata": {},
     "outputs": [],
     "prompt_number": 1
    },
    {
     "cell_type": "code",
     "collapsed": false,
     "input": [
      "from qutip import Qobj, identity, sigmax, sigmay, sigmaz, tensor\n",
      "from qutip.qip.algorithms import qft\n",
      "import qutip.logging as logging\n",
      "logger = logging.get_logger()\n",
      "#Set this to None or logging.WARN for 'quiet' execution\n",
      "log_level = logging.INFO\n",
      "#QuTiP control modules\n",
      "import qutip.control.pulseoptim as cpo\n",
      "import qutip.control.pulsegen as pulsegen\n",
      "\n",
      "example_name = 'QFT'"
     ],
     "language": "python",
     "metadata": {},
     "outputs": [],
     "prompt_number": 2
    },
    {
     "cell_type": "heading",
     "level": 3,
     "metadata": {},
     "source": [
      "Defining the physics"
     ]
    },
    {
     "cell_type": "code",
     "collapsed": false,
     "input": [
      "Sx = sigmax()\n",
      "Sy = sigmay()\n",
      "Sz = sigmaz()\n",
      "Si = 0.5*identity(2)\n",
      "\n",
      "# Drift Hamiltonian\n",
      "H_d = 0.5*(tensor(Sx, Sx) + tensor(Sy, Sy) + tensor(Sz, Sz))\n",
      "# The (four) control Hamiltonians\n",
      "H_c = [tensor(Sx, Si), tensor(Sy, Si), tensor(Si, Sx), tensor(Si, Sy)]\n",
      "n_ctrls = len(H_c)\n",
      "# start point for the gate evolution\n",
      "U_0 = identity(4)\n",
      "# Target for the gate evolution - Quantum Fourier Transform gate\n",
      "U_targ = qft.qft(2)"
     ],
     "language": "python",
     "metadata": {},
     "outputs": [],
     "prompt_number": 3
    },
    {
     "cell_type": "heading",
     "level": 3,
     "metadata": {},
     "source": [
      "Defining the time evolution parameters"
     ]
    },
    {
     "cell_type": "code",
     "collapsed": false,
     "input": [
      "# Duration of each timeslot\n",
      "dt = 0.02\n",
      "# List of evolution times to try\n",
      "evo_times = [1, 3, 6]\n",
      "n_evo_times = len(evo_times)\n",
      "evo_time = evo_times[0]\n",
      "n_ts = int(float(evo_time) / dt)\n",
      "#Empty list that will hold the results for each evolution time\n",
      "results = list()"
     ],
     "language": "python",
     "metadata": {},
     "outputs": [],
     "prompt_number": 4
    },
    {
     "cell_type": "heading",
     "level": 3,
     "metadata": {},
     "source": [
      "Set the conditions which will cause the pulse optimisation to terminate"
     ]
    },
    {
     "cell_type": "code",
     "collapsed": false,
     "input": [
      "# Fidelity error target\n",
      "fid_err_targ = 1e-10\n",
      "# Maximum iterations for the optisation algorithm\n",
      "max_iter = 200\n",
      "# Maximum (elapsed) time allowed in seconds\n",
      "max_wall_time = 120\n",
      "# Minimum gradient (sum of gradients squared)\n",
      "# as this tends to 0 -> local minima has been found\n",
      "min_grad = 1e-20"
     ],
     "language": "python",
     "metadata": {},
     "outputs": [],
     "prompt_number": 5
    },
    {
     "cell_type": "heading",
     "level": 3,
     "metadata": {},
     "source": [
      "Set the initial pulse type"
     ]
    },
    {
     "cell_type": "code",
     "collapsed": false,
     "input": [
      "# pulse type alternatives: RND|ZERO|LIN|SINE|SQUARE|SAW|TRIANGLE|\n",
      "p_type = 'LIN'"
     ],
     "language": "python",
     "metadata": {},
     "outputs": [],
     "prompt_number": 6
    },
    {
     "cell_type": "heading",
     "level": 3,
     "metadata": {},
     "source": [
      "Give an extension for output files"
     ]
    },
    {
     "cell_type": "code",
     "collapsed": false,
     "input": [
      "#Set to None to suppress output files\n",
      "f_ext = \"{}_n_ts{}_ptype{}.txt\".format(example_name, n_ts, p_type)"
     ],
     "language": "python",
     "metadata": {},
     "outputs": [],
     "prompt_number": 7
    },
    {
     "cell_type": "heading",
     "level": 3,
     "metadata": {},
     "source": [
      "Create the optimiser objects"
     ]
    },
    {
     "cell_type": "code",
     "collapsed": false,
     "input": [
      "optim = cpo.create_pulse_optimizer(H_d, H_c, U_0, U_targ, n_ts, evo_time, \n",
      "                amp_lbound=-5.0, amp_ubound=5.0, \n",
      "                fid_err_targ=fid_err_targ, min_grad=min_grad, \n",
      "                max_iter=max_iter, max_wall_time=max_wall_time, \n",
      "                optim_alg='LBFGSB', max_metric_corr=20, accuracy_factor=1e8,\n",
      "                dyn_type='UNIT', \n",
      "                prop_type='DIAG', fid_type='UNIT', phase_option='PSU', \n",
      "                init_pulse_type=p_type, \n",
      "                log_level=log_level, gen_stats=True)\n",
      "\n",
      "# **** get handles to the other objects ****\n",
      "optim.test_out_files = 0\n",
      "dyn = optim.dynamics\n",
      "dyn.test_out_files = 0\n",
      "p_gen = optim.pulse_generator\n",
      "                "
     ],
     "language": "python",
     "metadata": {},
     "outputs": [],
     "prompt_number": 8
    },
    {
     "cell_type": "heading",
     "level": 3,
     "metadata": {},
     "source": [
      "Optimise the pulse for each of the different evolution times"
     ]
    },
    {
     "cell_type": "code",
     "collapsed": false,
     "input": [
      "for i in range(n_evo_times):\n",
      "    # Generate the tau (duration) and time (cumulative) arrays\n",
      "    # so that it can be used to create the pulse generator\n",
      "    # with matching timeslots\n",
      "    dyn.init_time_slots()\n",
      "    if i > 0:\n",
      "        # Create a new pulse generator for the new dynamics\n",
      "        p_gen = pulsegen.create_pulse_gen(p_type, dyn)\n",
      "        \n",
      "    #Generate different initial pulses for each of the controls\n",
      "    init_amps = np.zeros([n_ts, n_ctrls])\n",
      "    if (p_gen.periodic):\n",
      "        phase_diff = np.pi / n_ctrls\n",
      "        for j in range(n_ctrls):\n",
      "            init_amps[:, j] = p_gen.gen_pulse(start_phase=phase_diff*j)\n",
      "    elif (isinstance(p_gen, pulsegen.PulseGenLinear)):\n",
      "        for j in range(n_ctrls):\n",
      "            p_gen.scaling = float(j) - float(n_ctrls - 1)/2\n",
      "            init_amps[:, j] = p_gen.gen_pulse()\n",
      "    elif (isinstance(p_gen, pulsegen.PulseGenZero)):\n",
      "        for j in range(n_ctrls):\n",
      "            p_gen.offset = sf = float(j) - float(n_ctrls - 1)/2\n",
      "            init_amps[:, j] = p_gen.gen_pulse()\n",
      "    else:\n",
      "        # Should be random pulse\n",
      "        for j in range(n_ctrls):\n",
      "            init_amps[:, j] = p_gen.gen_pulse()\n",
      "    \n",
      "    dyn.initialize_controls(init_amps)\n",
      "    \n",
      "    # Save initial amplitudes to a text file\n",
      "    if f_ext is not None:\n",
      "        pulsefile = \"ctrl_amps_initial_\" + f_ext\n",
      "        dyn.save_amps(pulsefile)\n",
      "        print(\"Initial amplitudes output to file: \" + pulsefile)\n",
      "\n",
      "    print(\"***********************************\")\n",
      "    print(\"Starting pulse optimisation for T={}\".format(evo_time))\n",
      "    result = optim.run_optimization()\n",
      "    results.append(result)\n",
      "\n",
      "    # Save final amplitudes to a text file\n",
      "    if f_ext is not None:\n",
      "        pulsefile = \"ctrl_amps_final_\" + f_ext\n",
      "        dyn.save_amps(pulsefile)\n",
      "        print(\"Final amplitudes output to file: \" + pulsefile)\n",
      "    \n",
      "    # Report the results\n",
      "    result.stats.report()\n",
      "    print(\"Final evolution\\n{}\\n\".format(result.evo_full_final))\n",
      "    print(\"********* Summary *****************\")\n",
      "    print(\"Final fidelity error {}\".format(result.fid_err))\n",
      "    print(\"Final gradient normal {}\".format(result.grad_norm_final))\n",
      "    print(\"Terminated due to {}\".format(result.termination_reason))\n",
      "    print(\"Number of iterations {}\".format(result.num_iter))\n",
      "    print(\"Completed in {} HH:MM:SS.US\".format(\n",
      "            datetime.timedelta(seconds=result.wall_time)))\n",
      "    \n",
      "    if i+1 < len(evo_times):\n",
      "        # reconfigure the dynamics for the next evo time\n",
      "        evo_time = evo_times[i+1]\n",
      "        n_ts = int(float(evo_time) / dt)\n",
      "        dyn.tau = None\n",
      "        dyn.evo_time = evo_time\n",
      "        dyn.num_tslots = n_ts"
     ],
     "language": "python",
     "metadata": {},
     "outputs": [
      {
       "output_type": "stream",
       "stream": "stderr",
       "text": [
        "INFO:qutip.control.optimizer:Optimising pulse using L-BFGS-B\n"
       ]
      },
      {
       "output_type": "stream",
       "stream": "stdout",
       "text": [
        "Initial amplitudes output to file: ctrl_amps_initial_QFT_n_ts50_ptypeLIN.txt\n",
        "***********************************\n",
        "Starting pulse optimisation for T=1\n",
        "Final amplitudes output to file: ctrl_amps_final_QFT_n_ts50_ptypeLIN.txt"
       ]
      },
      {
       "output_type": "stream",
       "stream": "stderr",
       "text": [
        "INFO:qutip.control.optimizer:Optimising pulse using L-BFGS-B\n"
       ]
      },
      {
       "output_type": "stream",
       "stream": "stdout",
       "text": [
        "\n",
        "\n",
        "------------------------------------\n",
        "---- Control optimisation stats ----\n",
        "**** Timings (HH:MM:SS.US) ****\n",
        "Total wall time elapsed during optimisation: 0:00:01.762624\n",
        "Wall time computing Hamiltonians: 0:00:00.137219 (7.78%)\n",
        "Wall time computing propagators: 0:00:01.336529 (75.83%)\n",
        "Wall time computing forward propagation: 0:00:00.011845 (0.67%)\n",
        "Wall time computing onward propagation: 0:00:00.011325 (0.64%)\n",
        "Wall time computing gradient: 0:00:00.219414 (12.45%)\n",
        "\n",
        "**** Iterations and function calls ****\n",
        "Number of iterations: 202\n",
        "Number of fidelity function calls: 248\n",
        "Number of times fidelity is computed: 248\n",
        "Number of gradient function calls: 248\n",
        "Number of times gradients are computed: 248\n",
        "\n",
        "**** Control amplitudes ****\n",
        "Number of control amplitude updates: 248\n",
        "Mean number of updates per iteration: 1.22772277228\n",
        "Number of timeslot values changed: 12400\n",
        "Mean number of timeslot changes per update: 50.0\n",
        "Number of amplitude values changed: 49600\n",
        "Mean number of amplitude changes per update: 200.0\n",
        "------------------------------------\n",
        "Final evolution\n",
        "Quantum object: dims = [[4], [4]], shape = [4, 4], type = oper, isherm = False\n",
        "Qobj data =\n",
        "[[-0.09442646-0.60768356j  0.19393761-0.36663879j  0.39969182-0.34149239j\n",
        "   0.18706312-0.37202866j]\n",
        " [ 0.18961973-0.36255866j  0.22549954+0.02540913j -0.18990408+0.37492715j\n",
        "  -0.72650134-0.27687865j]\n",
        " [ 0.39859345-0.34490281j -0.18074294+0.37161359j -0.09301049-0.61016628j\n",
        "  -0.19600422+0.36335815j]\n",
        " [ 0.19215746-0.37368533j -0.72864016-0.27347283j -0.19074493+0.36008055j\n",
        "   0.22546899+0.02920654j]]\n",
        "\n",
        "********* Summary *****************\n",
        "Final fidelity error 0.0889653322441\n",
        "Final gradient normal 0.00511597414827\n",
        "Terminated due to Iteration or fidelity function call limit reached\n",
        "Number of iterations 202\n",
        "Completed in 0:00:01.762624 HH:MM:SS.US\n",
        "Initial amplitudes output to file: ctrl_amps_initial_QFT_n_ts50_ptypeLIN.txt\n",
        "***********************************\n",
        "Starting pulse optimisation for T=3\n",
        "Final amplitudes output to file: ctrl_amps_final_QFT_n_ts50_ptypeLIN.txt"
       ]
      },
      {
       "output_type": "stream",
       "stream": "stderr",
       "text": [
        "INFO:qutip.control.optimizer:Optimising pulse using L-BFGS-B\n"
       ]
      },
      {
       "output_type": "stream",
       "stream": "stdout",
       "text": [
        "\n",
        "\n",
        "------------------------------------\n",
        "---- Control optimisation stats ----\n",
        "**** Timings (HH:MM:SS.US) ****\n",
        "Total wall time elapsed during optimisation: 0:00:01.165234\n",
        "Wall time computing Hamiltonians: 0:00:00.227844 (19.55%)\n",
        "Wall time computing propagators: 0:00:02.232110 (191.56%)\n",
        "Wall time computing forward propagation: 0:00:00.020109 (1.73%)\n",
        "Wall time computing onward propagation: 0:00:00.018964 (1.63%)\n",
        "Wall time computing gradient: 0:00:00.368927 (31.66%)\n",
        "\n",
        "**** Iterations and function calls ****\n",
        "Number of iterations: 37\n",
        "Number of fidelity function calls: 303\n",
        "Number of times fidelity is computed: 303\n",
        "Number of gradient function calls: 303\n",
        "Number of times gradients are computed: 303\n",
        "\n",
        "**** Control amplitudes ****\n",
        "Number of control amplitude updates: 55\n",
        "Mean number of updates per iteration: 1.48648648649\n",
        "Number of timeslot values changed: 8250\n",
        "Mean number of timeslot changes per update: 150.0\n",
        "Number of amplitude values changed: 33000\n",
        "Mean number of amplitude changes per update: 600.0\n",
        "------------------------------------\n",
        "Final evolution\n",
        "Quantum object: dims = [[4], [4]], shape = [4, 4], type = oper, isherm = False\n",
        "Qobj data =\n",
        "[[-0.19141078+0.46195237j -0.19129161+0.46195071j -0.19134877+0.46191885j\n",
        "  -0.19137944+0.46191073j]\n",
        " [-0.19132697+0.46191872j -0.46198053-0.19129459j  0.19129814-0.46194661j\n",
        "   0.46195538+0.19134532j]\n",
        " [-0.19138126+0.46190272j  0.19133408-0.46198232j -0.19140417+0.46191134j\n",
        "   0.19139569-0.46190123j]\n",
        " [-0.19131462+0.46195759j  0.46193353+0.19123402j  0.19133341-0.46197496j\n",
        "  -0.46193863-0.19137458j]]\n",
        "\n",
        "********* Summary *****************\n",
        "Final fidelity error 5.75598313457e-09\n",
        "Final gradient normal 4.17719073123e-06\n",
        "Terminated due to function converged\n",
        "Number of iterations 37\n",
        "Completed in 0:00:01.165234 HH:MM:SS.US\n",
        "Initial amplitudes output to file: ctrl_amps_initial_QFT_n_ts50_ptypeLIN.txt\n",
        "***********************************\n",
        "Starting pulse optimisation for T=6\n",
        "Final amplitudes output to file: ctrl_amps_final_QFT_n_ts50_ptypeLIN.txt"
       ]
      },
      {
       "output_type": "stream",
       "stream": "stdout",
       "text": [
        "\n",
        "\n",
        "------------------------------------\n",
        "---- Control optimisation stats ----\n",
        "**** Timings (HH:MM:SS.US) ****\n",
        "Total wall time elapsed during optimisation: 0:00:01.661289\n",
        "Wall time computing Hamiltonians: 0:00:00.360281 (21.69%)\n",
        "Wall time computing propagators: 0:00:03.511461 (211.37%)\n",
        "Wall time computing forward propagation: 0:00:00.031339 (1.89%)\n",
        "Wall time computing onward propagation: 0:00:00.029727 (1.79%)\n",
        "Wall time computing gradient: 0:00:00.581759 (35.02%)\n",
        "\n",
        "**** Iterations and function calls ****\n",
        "Number of iterations: 30\n",
        "Number of fidelity function calls: 343\n",
        "Number of times fidelity is computed: 343\n",
        "Number of gradient function calls: 343\n",
        "Number of times gradients are computed: 343\n",
        "\n",
        "**** Control amplitudes ****\n",
        "Number of control amplitude updates: 40\n",
        "Mean number of updates per iteration: 1.33333333333\n",
        "Number of timeslot values changed: 12000\n",
        "Mean number of timeslot changes per update: 300.0\n",
        "Number of amplitude values changed: 48000\n",
        "Mean number of amplitude changes per update: 1200.0\n",
        "------------------------------------\n",
        "Final evolution\n",
        "Quantum object: dims = [[4], [4]], shape = [4, 4], type = oper, isherm = False\n",
        "Qobj data =\n",
        "[[ 0.46196616+0.19133261j  0.46189141+0.19135946j  0.46196059+0.19133184j\n",
        "   0.46195347+0.19131259j]\n",
        " [ 0.46189646+0.19134815j -0.19134122+0.46195251j -0.46197017-0.19135997j\n",
        "   0.19133342-0.46193334j]\n",
        " [ 0.46194096+0.19133875j -0.46195837-0.19135204j  0.46190385+0.19133346j\n",
        "  -0.46193897-0.19138344j]\n",
        " [ 0.46195960+0.1913374j   0.19134245-0.46194505j -0.46192036-0.19135148j\n",
        "  -0.19130915+0.46194499j]]\n",
        "\n",
        "********* Summary *****************\n",
        "Final fidelity error 1.75129266644e-09\n",
        "Final gradient normal 4.11491482183e-06\n",
        "Terminated due to function converged\n",
        "Number of iterations 30\n",
        "Completed in 0:00:01.661289 HH:MM:SS.US\n"
       ]
      }
     ],
     "prompt_number": 9
    },
    {
     "cell_type": "heading",
     "level": 3,
     "metadata": {},
     "source": [
      "Plot the initial and final amplitudes"
     ]
    },
    {
     "cell_type": "code",
     "collapsed": false,
     "input": [
      "fig1 = plt.figure()\n",
      "for i in range(n_evo_times):\n",
      "    #Initial amps\n",
      "    ax1 = fig1.add_subplot(2, n_evo_times, i+1)\n",
      "    ax1.set_title(\"Init amps T={}\".format(evo_times[i]))\n",
      "    # ax1.set_xlabel(\"Time\")\n",
      "    ax1.get_xaxis().set_visible(False)\n",
      "    if i == 0:\n",
      "        ax1.set_ylabel(\"Control amplitude\")\n",
      "    t = results[i].time[:-1]\n",
      "    for j in range(n_ctrls):\n",
      "        amps = results[i].initial_amps[:, j]\n",
      "        ax1.plot(t, amps)\n",
      "        \n",
      "    ax2 = fig1.add_subplot(2, n_evo_times, i+n_evo_times+1)\n",
      "    ax2.set_title(\"Final amps T={}\".format(evo_times[i]))\n",
      "    ax2.set_xlabel(\"Time\")\n",
      "    #Optimised amps\n",
      "    if i == 0:\n",
      "        ax2.set_ylabel(\"Control amplitude\")\n",
      "    for j in range(n_ctrls):\n",
      "        amps = results[i].final_amps[:, j]\n",
      "        ax2.plot(t, amps)\n",
      "\n",
      "plt.show()"
     ],
     "language": "python",
     "metadata": {},
     "outputs": [
      {
       "metadata": {},
       "output_type": "display_data",
       "png": "[encoded data removed]",
       "text": [
        "<matplotlib.figure.Figure at 0x7f5985e371d0>"
       ]
      }
     ],
     "prompt_number": 10
    },
    {
     "cell_type": "heading",
     "level": 3,
     "metadata": {},
     "source": [
      "Versions"
     ]
    },
    {
     "cell_type": "code",
     "collapsed": false,
     "input": [
      "from qutip.ipynbtools import version_table\n",
      "\n",
      "version_table()"
     ],
     "language": "python",
     "metadata": {},
     "outputs": [
      {
       "html": [
        "<table><tr><th>Software</th><th>Version</th></tr><tr><td>Cython</td><td>0.20.1post0</td></tr><tr><td>SciPy</td><td>0.13.3</td></tr><tr><td>QuTiP</td><td>3.1.0.dev-24aa453</td></tr><tr><td>Python</td><td>2.7.6 (default, Mar 22 2014, 22:59:56) \n",
        "[GCC 4.8.2]</td></tr><tr><td>IPython</td><td>1.2.1</td></tr><tr><td>OS</td><td>posix [linux2]</td></tr><tr><td>Numpy</td><td>1.8.2</td></tr><tr><td>matplotlib</td><td>1.3.1</td></tr><tr><td colspan='2'>Wed Dec 10 15:40:52 2014 GMT</td></tr></table>"
       ],
       "metadata": {},
       "output_type": "pyout",
       "prompt_number": 11,
       "text": [
        "<IPython.core.display.HTML at 0x7f5962867e90>"
       ]
      }
     ],
     "prompt_number": 11
    },
    {
     "cell_type": "code",
     "collapsed": false,
     "input": [],
     "language": "python",
     "metadata": {},
     "outputs": []
    }
   ],
   "metadata": {}
  }
 ]
}