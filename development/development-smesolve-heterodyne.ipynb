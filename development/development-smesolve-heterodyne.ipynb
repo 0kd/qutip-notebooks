{
 "metadata": {
  "name": ""
 },
 "nbformat": 3,
 "nbformat_minor": 0,
 "worksheets": [
  {
   "cells": [
    {
     "cell_type": "heading",
     "level": 1,
     "metadata": {},
     "source": [
      "Two implementations of heterodyne: direct heterodyne and as two homodyne measurements"
     ]
    },
    {
     "cell_type": "code",
     "collapsed": false,
     "input": [
      "%pylab inline"
     ],
     "language": "python",
     "metadata": {},
     "outputs": []
    },
    {
     "cell_type": "code",
     "collapsed": false,
     "input": [
      "from qutip import *"
     ],
     "language": "python",
     "metadata": {},
     "outputs": []
    },
    {
     "cell_type": "heading",
     "level": 2,
     "metadata": {},
     "source": [
      "Introduction"
     ]
    },
    {
     "cell_type": "markdown",
     "metadata": {},
     "source": [
      "Homodyne and hetrodyne detection are techniques for measuring the quadratures of a field using photocounters. Homodyne detection (on-resonant) measures one quadrature and with heterodyne detection (off-resonant) both quadratures can be detected simulateously.\n",
      "\n",
      "The evolution of a quantum system that is coupled to a field that is monitored with homodyne and heterodyne detector can be described with stochastic master equations. This notebook compares two different ways to implement the heterodyne detection stochastic master equation in QuTiP."
     ]
    },
    {
     "cell_type": "heading",
     "level": 2,
     "metadata": {},
     "source": [
      "Deterministic reference"
     ]
    },
    {
     "cell_type": "code",
     "collapsed": false,
     "input": [
      "N = 15\n",
      "w0 = 1.0 * 2 * pi\n",
      "A = 0.1 * 2 * pi\n",
      "times = linspace(0, 15, 150)\n",
      "gamma = 0.25\n",
      "\n",
      "a = destroy(N)\n",
      "x = a + a.dag()\n",
      "y = 1j*(a - a.dag())\n",
      "\n",
      "H = w0 * a.dag() * a + A * (a + a.dag())\n",
      "\n",
      "rho0 = coherent(N, sqrt(5.0))\n",
      "c_ops = [sqrt(gamma) * a]\n",
      "e_ops = [a.dag() * a, x, y]"
     ],
     "language": "python",
     "metadata": {},
     "outputs": []
    },
    {
     "cell_type": "code",
     "collapsed": false,
     "input": [
      "result_ref = mesolve(H, rho0, times, c_ops, e_ops)"
     ],
     "language": "python",
     "metadata": {},
     "outputs": []
    },
    {
     "cell_type": "code",
     "collapsed": false,
     "input": [
      "plot_expectation_values(result_ref);"
     ],
     "language": "python",
     "metadata": {},
     "outputs": []
    },
    {
     "cell_type": "heading",
     "level": 2,
     "metadata": {},
     "source": [
      "Heterodyne implementation #1"
     ]
    },
    {
     "cell_type": "markdown",
     "metadata": {},
     "source": [
      "Stochastic master equation for heterodyne in Milburn's formulation\n",
      "\n",
      "$\\displaystyle d\\rho(t) = -i[H, \\rho(t)]dt + \\gamma\\mathcal{D}[a]\\rho(t) dt + \\frac{1}{\\sqrt{2}} dW_1(t) \\sqrt{\\gamma} \\mathcal{H}[a] \\rho(t) + \\frac{1}{\\sqrt{2}} dW_2(t) \\sqrt{\\gamma} \\mathcal{H}[-ia] \\rho(t)$\n",
      "\n",
      "where $\\mathcal{D}$ is the standard Lindblad dissipator superoperator, and $\\mathcal{H}$ is defined as above,\n",
      "and $dW_i(t)$ is a normal distributed increment with $E[dW_i(t)] = \\sqrt{dt}$.\n",
      "\n",
      "\n",
      "In QuTiP format we have:\n",
      "\n",
      "$\\displaystyle d\\rho(t) = -i[H, \\rho(t)]dt +  D_{1}[A]\\rho(t) dt + D_{2}^{(1)}[A]\\rho(t) dW_1 + D_{2}^{(2)}[A]\\rho(t) dW_2$\n",
      "\n",
      "where $A = \\sqrt{\\gamma} a$, so we can identify"
     ]
    },
    {
     "cell_type": "markdown",
     "metadata": {},
     "source": [
      "$\\displaystyle D_{1}[A]\\rho = \\gamma \\mathcal{D}[a]\\rho = \\mathcal{D}[A]\\rho$"
     ]
    },
    {
     "cell_type": "code",
     "collapsed": false,
     "input": [
      "def d1_rho_func(A, rho_vec):\n",
      "    return A[7] * rho_vec"
     ],
     "language": "python",
     "metadata": {},
     "outputs": []
    },
    {
     "cell_type": "markdown",
     "metadata": {},
     "source": [
      "$D_{2}^{(1)}[A]\\rho = \\frac{1}{\\sqrt{2}} \\sqrt{\\gamma} \\mathcal{H}[a] \\rho =\n",
      "\\frac{1}{\\sqrt{2}} \\mathcal{H}[A] \\rho =\n",
      "\\frac{1}{\\sqrt{2}}(A\\rho + \\rho A^\\dagger - \\mathrm{Tr}[A\\rho + \\rho A^\\dagger] \\rho)\n",
      "\\rightarrow \\frac{1}{\\sqrt{2}} \\left\\{(A_L +  A_R^\\dagger)\\rho_v - \\mathrm{Tr}[(A_L +  A_R^\\dagger)\\rho_v] \\rho_v\\right\\}$\n",
      "\n",
      "$D_{2}^{(2)}[A]\\rho = \\frac{1}{\\sqrt{2}} \\sqrt{\\gamma} \\mathcal{H}[-ia] \\rho \n",
      "= \\frac{1}{\\sqrt{2}} \\mathcal{H}[-iA] \\rho =\n",
      "\\frac{-i}{\\sqrt{2}}(A\\rho - \\rho A^\\dagger - \\mathrm{Tr}[A\\rho - \\rho A^\\dagger] \\rho)\n",
      "\\rightarrow \\frac{-i}{\\sqrt{2}} \\left\\{(A_L -  A_R^\\dagger)\\rho_v - \\mathrm{Tr}[(A_L - A_R^\\dagger)\\rho_v] \\rho_v\\right\\}$"
     ]
    },
    {
     "cell_type": "code",
     "collapsed": false,
     "input": [
      "def d2_rho_func(A, rho_vec):\n",
      "\n",
      "    B = A[0] + A[3]\n",
      "    e1 = expect_rho_vec(B, rho_vec)\n",
      "    drho1 = B * rho_vec - e1 * rho_vec\n",
      "\n",
      "    B = A[0] - A[3]\n",
      "    e1 = expect_rho_vec(B, rho_vec)\n",
      "    drho2 = B * rho_vec - e1 * rho_vec\n",
      "\n",
      "    return [1.0/sqrt(2) * drho1, -1.0j/sqrt(2) * drho2]"
     ],
     "language": "python",
     "metadata": {},
     "outputs": []
    },
    {
     "cell_type": "markdown",
     "metadata": {},
     "source": [
      "The heterdyne currents for the $x$ and $y$ quadratures are\n",
      "\n",
      "$J_x(t) = \\left<x\\right> + \\sqrt{2} \\xi(t)$\n",
      "\n",
      "$J_y(t) = \\left<y\\right> + \\sqrt{2} \\xi(t)$\n",
      "\n",
      "where $\\xi(t) = \\frac{dW}{dt}$.\n",
      "\n",
      "In qutip we define these measurement operators using the `m_ops = [[x, y]]` and the coefficients to the noise terms `d2_factor = [sqrt(2), sqrt(2)]`."
     ]
    },
    {
     "cell_type": "code",
     "collapsed": false,
     "input": [
      "result = smesolve(H, rho0, times, [], c_ops, e_ops, \n",
      "                  ntraj=100, nsubsteps=500,\n",
      "                  d1=d1_rho_func, d2=d2_rho_func, d2_len=2, d2_factors=[sqrt(2), sqrt(2)], m_ops=[[x, y]],\n",
      "                  distribution='normal', store_measurement=True)"
     ],
     "language": "python",
     "metadata": {},
     "outputs": []
    },
    {
     "cell_type": "code",
     "collapsed": false,
     "input": [
      "plot_expectation_values([result, result_ref]);"
     ],
     "language": "python",
     "metadata": {},
     "outputs": []
    },
    {
     "cell_type": "code",
     "collapsed": false,
     "input": [
      "fig, ax = subplots(figsize=(8,4))\n",
      "\n",
      "for m in result.measurement:\n",
      "    ax.plot(times, m[:, 0, 0], 'b', alpha=0.25)\n",
      "    ax.plot(times, m[:, 0, 1], 'r', alpha=0.25)\n",
      "\n",
      "ax.plot(times, result_ref.expect[1], 'b', lw=2);\n",
      "ax.plot(times, result_ref.expect[2], 'r', lw=2);\n",
      "\n",
      "ax.set_xlim(0, times.max())\n",
      "ax.set_xlabel('time', fontsize=12)\n",
      "ax.plot(times, array(result.measurement).mean(axis=0)[:,0,0], 'k', lw=2);\n",
      "ax.plot(times, array(result.measurement).mean(axis=0)[:,0,1], 'k', lw=2);"
     ],
     "language": "python",
     "metadata": {},
     "outputs": []
    },
    {
     "cell_type": "heading",
     "level": 2,
     "metadata": {},
     "source": [
      "Heterodyne implementation #2: using two homodyne measurements"
     ]
    },
    {
     "cell_type": "markdown",
     "metadata": {},
     "source": [
      "\n",
      "We can also write the heterodyne equation as\n",
      "\n",
      "$\\displaystyle d\\rho(t) = -i[H, \\rho(t)]dt + \\frac{1}{2}\\gamma\\mathcal{D}[a]\\rho(t) dt + \\frac{1}{\\sqrt{2}} dW_1(t) \\sqrt{\\gamma} \\mathcal{H}[a] \\rho(t) + \\frac{1}{2}\\gamma\\mathcal{D}[a]\\rho(t) dt + \\frac{1}{\\sqrt{2}} dW_2(t) \\sqrt{\\gamma} \\mathcal{H}[-ia] \\rho(t)$\n",
      "\n",
      "\n",
      "And using the QuTiP format for two stochastic collapse operators, we have:\n",
      "\n",
      "$\\displaystyle d\\rho(t) = -i[H, \\rho(t)]dt + D_{1}[A_1]\\rho(t) dt + D_{2}[A_1]\\rho(t) dW_1 + D_{1}[A_2]\\rho(t) dt + D_{2}[A_2]\\rho(t) dW_2$\n",
      "\n",
      "so we can also identify"
     ]
    },
    {
     "cell_type": "markdown",
     "metadata": {},
     "source": [
      "$\\displaystyle D_{1}[A_1]\\rho = \\frac{1}{2}\\gamma \\mathcal{D}[a]\\rho = \\mathcal{D}[\\sqrt{\\gamma}a/\\sqrt{2}]\\rho = \\mathcal{D}[A_1]\\rho$\n",
      "\n",
      "$\\displaystyle D_{1}[A_2]\\rho = \\frac{1}{2}\\gamma \\mathcal{D}[a]\\rho = \\mathcal{D}[-i\\sqrt{\\gamma}a/\\sqrt{2}]\\rho = \\mathcal{D}[A_2]\\rho$\n"
     ]
    },
    {
     "cell_type": "markdown",
     "metadata": {},
     "source": [
      "$D_{2}[A_1]\\rho = \\frac{1}{\\sqrt{2}} \\sqrt{\\gamma} \\mathcal{H}[a] \\rho = \\mathcal{H}[A_1] \\rho$\n",
      "\n",
      "$D_{2}[A_2]\\rho = \\frac{1}{\\sqrt{2}} \\sqrt{\\gamma} \\mathcal{H}[-ia] \\rho  = \\mathcal{H}[A_2] \\rho $"
     ]
    },
    {
     "cell_type": "markdown",
     "metadata": {},
     "source": [
      "where $A_1 = \\sqrt{\\gamma} a / \\sqrt{2}$ and $A_2 = -i \\sqrt{\\gamma} a / \\sqrt{2}$."
     ]
    },
    {
     "cell_type": "markdown",
     "metadata": {},
     "source": [
      "In summary we have\n",
      "\n",
      "$\\displaystyle d\\rho(t) = -i[H, \\rho(t)]dt + \\sum_i\\left\\{\\mathcal{D}[A_i]\\rho(t) dt + \\mathcal{H}[A_i]\\rho(t) dW_i\\right\\}$\n",
      "\n",
      "which is a simultaneous homodyne detection with $A_1 = \\sqrt{\\gamma}a/\\sqrt{2}$ and $A_2 = -i\\sqrt{\\gamma}a/\\sqrt{2}$"
     ]
    },
    {
     "cell_type": "markdown",
     "metadata": {},
     "source": [
      "Here the two heterdyne currents for the $x$ and $y$ quadratures are\n",
      "\n",
      "$J_x(t) = \\left<x\\right> + \\sqrt{2} \\xi(t)$\n",
      "\n",
      "$J_y(t) = \\left<y\\right> + \\sqrt{2} \\xi(t)$\n",
      "\n",
      "where $\\xi(t) = \\frac{dW}{dt}$.\n",
      "\n",
      "In qutip we can use the predefined homodyne solver for solving this problem."
     ]
    },
    {
     "cell_type": "code",
     "collapsed": false,
     "input": [
      "result = smesolve(H, rho0, times, [], [sqrt(gamma/2) * a, -1.0j * sqrt(gamma/2) * a],\n",
      "                  e_ops, ntraj=100, nsubsteps=250,\n",
      "                  method='homodyne', store_measurement=True)"
     ],
     "language": "python",
     "metadata": {},
     "outputs": []
    },
    {
     "cell_type": "code",
     "collapsed": false,
     "input": [
      "plot_expectation_values([result, result_ref]);"
     ],
     "language": "python",
     "metadata": {},
     "outputs": []
    },
    {
     "cell_type": "code",
     "collapsed": false,
     "input": [
      "fig, ax = subplots(figsize=(8,4))\n",
      "\n",
      "for m in result.measurement:\n",
      "    ax.plot(times, m[:, 0], 'b', alpha=0.25)\n",
      "    ax.plot(times, m[:, 1], 'r', alpha=0.25)\n",
      "\n",
      "ax.plot(times, result_ref.expect[1], 'b', lw=2);\n",
      "ax.plot(times, result_ref.expect[2], 'r', lw=2);\n",
      "\n",
      "ax.set_xlim(0, times.max())\n",
      "ax.set_ylim(-10, 10)\n",
      "ax.set_xlabel('time', fontsize=12)\n",
      "ax.plot(times, array(result.measurement).mean(axis=0)[:,0] / sqrt(gamma), 'k', lw=2);\n",
      "ax.plot(times, array(result.measurement).mean(axis=0)[:,1] / sqrt(gamma), 'k', lw=2);"
     ],
     "language": "python",
     "metadata": {},
     "outputs": []
    },
    {
     "cell_type": "heading",
     "level": 2,
     "metadata": {},
     "source": [
      "Implementation #3: builtin function for heterodyne"
     ]
    },
    {
     "cell_type": "code",
     "collapsed": false,
     "input": [
      "result = smesolve(H, rho0, times, [], [sqrt(gamma) * a],\n",
      "                  e_ops, m_ops=[[x, y]], ntraj=10, nsubsteps=250,\n",
      "                  method='heterodyne', store_measurement=True)"
     ],
     "language": "python",
     "metadata": {},
     "outputs": []
    },
    {
     "cell_type": "code",
     "collapsed": false,
     "input": [
      "plot_expectation_values([result, result_ref]);"
     ],
     "language": "python",
     "metadata": {},
     "outputs": []
    },
    {
     "cell_type": "code",
     "collapsed": false,
     "input": [
      "fig, ax = subplots(figsize=(8,4))\n",
      "\n",
      "for m in result.measurement:\n",
      "    ax.plot(times, m[:, 0, 0], 'b', alpha=0.25)\n",
      "    ax.plot(times, m[:, 0, 1], 'r', alpha=0.25)\n",
      "\n",
      "ax.plot(times, result_ref.expect[1], 'b', lw=2);\n",
      "ax.plot(times, result_ref.expect[2], 'r', lw=2);\n",
      "\n",
      "ax.set_xlim(0, times.max())\n",
      "#ax.set_ylim(-10, 10)\n",
      "ax.set_xlabel('time', fontsize=12)\n",
      "ax.plot(times, array(result.measurement).mean(axis=0)[:, 0, 0], 'k', lw=2);\n",
      "ax.plot(times, array(result.measurement).mean(axis=0)[:, 0, 1], 'k', lw=2);"
     ],
     "language": "python",
     "metadata": {},
     "outputs": []
    },
    {
     "cell_type": "heading",
     "level": 2,
     "metadata": {},
     "source": [
      "Software versions"
     ]
    },
    {
     "cell_type": "code",
     "collapsed": false,
     "input": [
      "from qutip.ipynbtools import version_table\n",
      "\n",
      "version_table()"
     ],
     "language": "python",
     "metadata": {},
     "outputs": []
    }
   ],
   "metadata": {}
  }
 ]
}