{
 "cells": [
  {
   "cell_type": "markdown",
   "metadata": {},
   "source": [
    "# Timing for QobjEvo\n",
    "\n",
    "Made by Eric Giguere"
   ]
  },
  {
   "cell_type": "code",
   "execution_count": 1,
   "metadata": {},
   "outputs": [],
   "source": [
    "import qutip as qt\n",
    "import numpy as np\n",
    "from qutip import QobjEvo\n",
    "%load_ext cython"
   ]
  },
  {
   "cell_type": "code",
   "execution_count": 2,
   "metadata": {},
   "outputs": [],
   "source": [
    "N = 10\n",
    "destroy, create, Id = qt.destroy(N), qt.create(N), qt.qeye(N)\n",
    "def exp_i(t,args):\n",
    "    return np.exp(-1j*t)\n",
    "def cos_w(t,args):\n",
    "    return np.cos(args[\"w\"]*t)\n",
    "tlist = np.linspace(0,10,10000)\n",
    "tlistlog = np.logspace(-3,1,10000)\n",
    "\n",
    "# state vector as np array\n",
    "vec = np.arange(N)*.5+.5j\n",
    "vec_super = np.arange(N**2)*.5+.5j\n",
    "mat_c = (np.arange(N**2)*.5+.5j).reshape((10,10))\n",
    "mat_f = np.asfortranarray(mat_c*1.)\n",
    "\n",
    "# Construct QobjEvo of all type\n",
    "td_cte1 = QobjEvo(Id)\n",
    "td_cte2 = QobjEvo([Id])\n",
    "\n",
    "td_func = QobjEvo([Id,[create,exp_i],[destroy,cos_w]],args={\"w\":2})\n",
    "td_str = QobjEvo([Id,[create,\"exp(-1j*t)\"],[destroy,\"cos(w*t)\"]],args={'w':2.})\n",
    "td_array = QobjEvo([Id,[create,np.exp(-1j*tlist)],[destroy,np.cos(2*tlist)]],tlist=tlist)\n",
    "td_array_log = QobjEvo([Id,[create,np.exp(-1j*tlistlog)],[destroy,np.cos(2*tlistlog)]],tlist=tlistlog)\n",
    "\n",
    "td_super = qt.liouvillian(td_func, c_ops=td_cte1)"
   ]
  },
  {
   "cell_type": "markdown",
   "metadata": {},
   "source": [
    "## Compilation and speed\n",
    "\n",
    "Timing check for all coeff formats.  \n",
    "Still use the old \"get_compiled_call\" which kept the python and cython function separated.  \n",
    "Now once compiled, the cython method is used by the usual method."
   ]
  },
  {
   "cell_type": "code",
   "execution_count": 3,
   "metadata": {},
   "outputs": [
    {
     "name": "stdout",
     "output_type": "stream",
     "text": [
      "Time for cte\n",
      "52.3 µs ± 704 ns per loop (mean ± std. dev. of 7 runs, 10000 loops each)\n",
      "11.1 µs ± 208 ns per loop (mean ± std. dev. of 7 runs, 100000 loops each)\n",
      "Time for compiled cte\n",
      "52.5 µs ± 400 ns per loop (mean ± std. dev. of 7 runs, 10000 loops each)\n",
      "11.1 µs ± 87.3 ns per loop (mean ± std. dev. of 7 runs, 100000 loops each)\n"
     ]
    }
   ],
   "source": [
    "# The compiled version build the scipy object from the sparce matrix if not used with data=True\n",
    "print(\"Time for cte\")\n",
    "td_cte1.compiled = False\n",
    "%timeit td_cte1(2)\n",
    "%timeit td_cte1(2, data=True)\n",
    "print(\"Time for compiled cte\")\n",
    "td_cte1.compile()\n",
    "%timeit td_cte1(2)\n",
    "%timeit td_cte1(2, data=True)"
   ]
  },
  {
   "cell_type": "code",
   "execution_count": 4,
   "metadata": {},
   "outputs": [
    {
     "name": "stdout",
     "output_type": "stream",
     "text": [
      "Time for str\n",
      "596 µs ± 5.69 µs per loop (mean ± std. dev. of 7 runs, 1000 loops each)\n",
      "188 µs ± 708 ns per loop (mean ± std. dev. of 7 runs, 10000 loops each)\n",
      "68.6 µs ± 65.2 ns per loop (mean ± std. dev. of 7 runs, 10000 loops each)\n",
      "12.9 µs ± 33 ns per loop (mean ± std. dev. of 7 runs, 100000 loops each)\n"
     ]
    }
   ],
   "source": [
    "print(\"Time for str\")\n",
    "td_str.compiled = False\n",
    "%timeit td_str(2)\n",
    "%timeit td_str(2, data=True)\n",
    "td_str.compile()\n",
    "%timeit td_str(2)\n",
    "%timeit td_str(2, data=True)"
   ]
  },
  {
   "cell_type": "code",
   "execution_count": 5,
   "metadata": {},
   "outputs": [
    {
     "name": "stdout",
     "output_type": "stream",
     "text": [
      "Time for function\n",
      "532 µs ± 3.91 µs per loop (mean ± std. dev. of 7 runs, 1000 loops each)\n",
      "146 µs ± 2.63 µs per loop (mean ± std. dev. of 7 runs, 10000 loops each)\n",
      "77.9 µs ± 2.03 µs per loop (mean ± std. dev. of 7 runs, 10000 loops each)\n",
      "20.3 µs ± 144 ns per loop (mean ± std. dev. of 7 runs, 10000 loops each)\n"
     ]
    }
   ],
   "source": [
    "print(\"Time for function\")\n",
    "td_func.compiled = False\n",
    "%timeit td_func(2)\n",
    "%timeit td_func(2, data=True)\n",
    "td_func.compile()\n",
    "%timeit td_func(2)\n",
    "%timeit td_func(2, data=True)"
   ]
  },
  {
   "cell_type": "code",
   "execution_count": 6,
   "metadata": {},
   "outputs": [
    {
     "name": "stdout",
     "output_type": "stream",
     "text": [
      "Time for array\n",
      "576 µs ± 1.56 µs per loop (mean ± std. dev. of 7 runs, 1000 loops each)\n",
      "186 µs ± 2.38 µs per loop (mean ± std. dev. of 7 runs, 10000 loops each)\n",
      "67.9 µs ± 190 ns per loop (mean ± std. dev. of 7 runs, 10000 loops each)\n",
      "12.4 µs ± 209 ns per loop (mean ± std. dev. of 7 runs, 100000 loops each)\n"
     ]
    }
   ],
   "source": [
    "print(\"Time for array\")\n",
    "td_array.compiled = False\n",
    "%timeit td_array(2)\n",
    "%timeit td_array(2, data=True)\n",
    "td_array.compile()\n",
    "%timeit td_array(2)\n",
    "%timeit td_array(2, data=True)"
   ]
  },
  {
   "cell_type": "code",
   "execution_count": 7,
   "metadata": {},
   "outputs": [
    {
     "name": "stdout",
     "output_type": "stream",
     "text": [
      "Time for array with variable time step\n",
      "577 µs ± 10.1 µs per loop (mean ± std. dev. of 7 runs, 1000 loops each)\n",
      "184 µs ± 446 ns per loop (mean ± std. dev. of 7 runs, 10000 loops each)\n",
      "68 µs ± 86.1 ns per loop (mean ± std. dev. of 7 runs, 10000 loops each)\n",
      "12.5 µs ± 53.5 ns per loop (mean ± std. dev. of 7 runs, 100000 loops each)\n"
     ]
    }
   ],
   "source": [
    "print(\"Time for array with variable time step\")\n",
    "td_array_log.compiled = False\n",
    "%timeit td_array_log(2)\n",
    "%timeit td_array_log(2, data=True)\n",
    "td_array_log.compile()\n",
    "%timeit td_array_log(2)\n",
    "%timeit td_array_log(2, data=True)"
   ]
  },
  {
   "cell_type": "markdown",
   "metadata": {},
   "source": [
    "## Timing for rhs vs spmv"
   ]
  },
  {
   "cell_type": "code",
   "execution_count": 8,
   "metadata": {},
   "outputs": [
    {
     "name": "stdout",
     "output_type": "stream",
     "text": [
      "timing for rhs: cte\n",
      "19.4 µs ± 132 ns per loop (mean ± std. dev. of 7 runs, 10000 loops each)\n",
      "5.78 µs ± 113 ns per loop (mean ± std. dev. of 7 runs, 100000 loops each)\n",
      "23.6 µs ± 869 ns per loop (mean ± std. dev. of 7 runs, 10000 loops each)\n",
      "5.89 µs ± 20.3 ns per loop (mean ± std. dev. of 7 runs, 100000 loops each)\n"
     ]
    }
   ],
   "source": [
    "print(\"timing for rhs: cte\")\n",
    "td_cte1.compiled = False\n",
    "%timeit qt.cy.spmv(td_cte1(2, data=True), vec)\n",
    "%timeit qt.cy.spmv(Id.data, vec)\n",
    "%timeit td_cte1.mul_vec(2,vec)\n",
    "td_cte1.compile()\n",
    "%timeit td_cte1.mul_vec(2,vec)"
   ]
  },
  {
   "cell_type": "code",
   "execution_count": 9,
   "metadata": {},
   "outputs": [
    {
     "name": "stdout",
     "output_type": "stream",
     "text": [
      "timing for rhs: str\n",
      "216 µs ± 16.1 µs per loop (mean ± std. dev. of 7 runs, 1000 loops each)\n",
      "216 µs ± 14.2 µs per loop (mean ± std. dev. of 7 runs, 1000 loops each)\n",
      "8.74 µs ± 201 ns per loop (mean ± std. dev. of 7 runs, 100000 loops each)\n"
     ]
    }
   ],
   "source": [
    "print(\"timing for rhs: str\")\n",
    "td_str.compiled = False\n",
    "%timeit qt.cy.spmv(td_str(2, data=True), vec)\n",
    "%timeit td_str.mul_vec(2,vec)\n",
    "td_str.compile()\n",
    "%timeit td_str.mul_vec(2,vec)"
   ]
  },
  {
   "cell_type": "code",
   "execution_count": 10,
   "metadata": {},
   "outputs": [
    {
     "name": "stdout",
     "output_type": "stream",
     "text": [
      "timing for rhs: cte\n",
      "155 µs ± 472 ns per loop (mean ± std. dev. of 7 runs, 10000 loops each)\n",
      "158 µs ± 139 ns per loop (mean ± std. dev. of 7 runs, 10000 loops each)\n",
      "16 µs ± 44.6 ns per loop (mean ± std. dev. of 7 runs, 100000 loops each)\n"
     ]
    }
   ],
   "source": [
    "print(\"timing for rhs: cte\")\n",
    "td_func.compiled = False\n",
    "%timeit qt.cy.spmv(td_func(2, data=True), vec)\n",
    "%timeit td_func.mul_vec(2,vec)\n",
    "td_func.compile()\n",
    "%timeit td_func.mul_vec(2,vec)"
   ]
  },
  {
   "cell_type": "code",
   "execution_count": 11,
   "metadata": {},
   "outputs": [
    {
     "name": "stdout",
     "output_type": "stream",
     "text": [
      "timing for rhs: cte\n",
      "198 µs ± 2.5 µs per loop (mean ± std. dev. of 7 runs, 1000 loops each)\n",
      "200 µs ± 2.66 µs per loop (mean ± std. dev. of 7 runs, 1000 loops each)\n",
      "8.13 µs ± 25.4 ns per loop (mean ± std. dev. of 7 runs, 100000 loops each)\n"
     ]
    }
   ],
   "source": [
    "print(\"timing for rhs: cte\")\n",
    "td_array.compiled = False\n",
    "%timeit qt.cy.spmv(td_array(2, data=True), vec)\n",
    "%timeit td_array.mul_vec(2,vec)\n",
    "td_array.compile()\n",
    "%timeit td_array.mul_vec(2,vec)"
   ]
  },
  {
   "cell_type": "code",
   "execution_count": 12,
   "metadata": {},
   "outputs": [
    {
     "name": "stdout",
     "output_type": "stream",
     "text": [
      "timing for rhs: cte\n",
      "200 µs ± 4.15 µs per loop (mean ± std. dev. of 7 runs, 1000 loops each)\n",
      "201 µs ± 4.74 µs per loop (mean ± std. dev. of 7 runs, 1000 loops each)\n",
      "8.2 µs ± 54.4 ns per loop (mean ± std. dev. of 7 runs, 100000 loops each)\n"
     ]
    }
   ],
   "source": [
    "print(\"timing for rhs: cte\")\n",
    "td_array_log.compiled = False\n",
    "%timeit qt.cy.spmv(td_array_log(2, data=True), vec)\n",
    "%timeit td_array_log.mul_vec(2,vec)\n",
    "td_array_log.compile()\n",
    "%timeit td_array_log.mul_vec(2,vec)"
   ]
  },
  {
   "cell_type": "markdown",
   "metadata": {},
   "source": [
    "## Timing for spmm"
   ]
  },
  {
   "cell_type": "code",
   "execution_count": 13,
   "metadata": {},
   "outputs": [
    {
     "name": "stdout",
     "output_type": "stream",
     "text": [
      "timing for mul_mat: c format sparce\n",
      "204 µs ± 4.72 µs per loop (mean ± std. dev. of 7 runs, 1000 loops each)\n",
      "223 µs ± 19.3 µs per loop (mean ± std. dev. of 7 runs, 1000 loops each)\n",
      "11.3 µs ± 673 ns per loop (mean ± std. dev. of 7 runs, 100000 loops each)\n"
     ]
    }
   ],
   "source": [
    "print(\"timing for mul_mat: c format sparce\")\n",
    "td_str.compiled = False\n",
    "%timeit td_str(2, data=True) * mat_c\n",
    "%timeit td_str.mul_mat(2,mat_c)\n",
    "td_str.compile()\n",
    "%timeit td_str.mul_mat(2,mat_c)"
   ]
  },
  {
   "cell_type": "code",
   "execution_count": 14,
   "metadata": {},
   "outputs": [
    {
     "name": "stdout",
     "output_type": "stream",
     "text": [
      "timing for mul_mat: c format dense\n",
      "206 µs ± 5.79 µs per loop (mean ± std. dev. of 7 runs, 1000 loops each)\n",
      "211 µs ± 5.02 µs per loop (mean ± std. dev. of 7 runs, 1000 loops each)\n",
      "14.3 µs ± 89.4 ns per loop (mean ± std. dev. of 7 runs, 100000 loops each)\n"
     ]
    }
   ],
   "source": [
    "print(\"timing for mul_mat: c format dense\")\n",
    "td_str.compiled = False\n",
    "%timeit td_str(2, data=True) * mat_c\n",
    "%timeit td_str.mul_mat(2,mat_c)\n",
    "td_str.compile(dense=True)\n",
    "%timeit td_str.mul_mat(2,mat_c)"
   ]
  },
  {
   "cell_type": "code",
   "execution_count": 15,
   "metadata": {},
   "outputs": [
    {
     "name": "stdout",
     "output_type": "stream",
     "text": [
      "timing for mul_mat: f format sparce\n",
      "214 µs ± 21.6 µs per loop (mean ± std. dev. of 7 runs, 1000 loops each)\n",
      "231 µs ± 22.3 µs per loop (mean ± std. dev. of 7 runs, 1000 loops each)\n",
      "13 µs ± 48.7 ns per loop (mean ± std. dev. of 7 runs, 100000 loops each)\n"
     ]
    }
   ],
   "source": [
    "print(\"timing for mul_mat: f format sparce\")\n",
    "td_str.compiled = False\n",
    "%timeit td_str(2, data=True) * mat_f\n",
    "%timeit td_str.mul_mat(2,mat_f)\n",
    "td_str.compile()\n",
    "%timeit td_str.mul_mat(2,mat_f)"
   ]
  },
  {
   "cell_type": "code",
   "execution_count": 16,
   "metadata": {},
   "outputs": [
    {
     "name": "stdout",
     "output_type": "stream",
     "text": [
      "timing for mul_mat: f format dense\n",
      "210 µs ± 3.47 µs per loop (mean ± std. dev. of 7 runs, 1000 loops each)\n",
      "222 µs ± 9.36 µs per loop (mean ± std. dev. of 7 runs, 1000 loops each)\n",
      "14.4 µs ± 38.5 ns per loop (mean ± std. dev. of 7 runs, 100000 loops each)\n"
     ]
    }
   ],
   "source": [
    "print(\"timing for mul_mat: f format dense\")\n",
    "td_str.compiled = False\n",
    "%timeit td_str(2, data=True) * mat_f\n",
    "%timeit td_str.mul_mat(2,mat_f)\n",
    "td_str.compile(dense=True)\n",
    "%timeit td_str.mul_mat(2,mat_f)"
   ]
  },
  {
   "cell_type": "markdown",
   "metadata": {},
   "source": [
    "## Timing for expect"
   ]
  },
  {
   "cell_type": "code",
   "execution_count": 17,
   "metadata": {},
   "outputs": [
    {
     "name": "stdout",
     "output_type": "stream",
     "text": [
      "timing for expect: cte\n",
      "16 µs ± 31.1 ns per loop (mean ± std. dev. of 7 runs, 100000 loops each)\n",
      "23 µs ± 2.09 µs per loop (mean ± std. dev. of 7 runs, 10000 loops each)\n",
      "7.92 µs ± 27.2 ns per loop (mean ± std. dev. of 7 runs, 100000 loops each)\n"
     ]
    }
   ],
   "source": [
    "print(\"timing for expect: cte\")\n",
    "td_cte1.compiled = False\n",
    "%timeit qt.cy.cy_expect_psi(td_cte1(2, data=True), vec, 0)\n",
    "%timeit td_cte1.expect(2,vec,0)\n",
    "td_cte1.compile()\n",
    "%timeit td_cte1.expect(2,vec,0)"
   ]
  },
  {
   "cell_type": "code",
   "execution_count": 18,
   "metadata": {},
   "outputs": [
    {
     "name": "stdout",
     "output_type": "stream",
     "text": [
      "timing for expect: str\n",
      "212 µs ± 19.4 µs per loop (mean ± std. dev. of 7 runs, 1000 loops each)\n",
      "216 µs ± 15.8 µs per loop (mean ± std. dev. of 7 runs, 1000 loops each)\n",
      "10.7 µs ± 16.1 ns per loop (mean ± std. dev. of 7 runs, 100000 loops each)\n"
     ]
    }
   ],
   "source": [
    "print(\"timing for expect: str\")\n",
    "td_str.compiled = False\n",
    "%timeit qt.cy.cy_expect_psi(td_str(2, data=True), vec, 0)\n",
    "%timeit td_str.expect(2,vec,0)\n",
    "td_str.compile()\n",
    "%timeit td_str.expect(2,vec,0)"
   ]
  },
  {
   "cell_type": "code",
   "execution_count": 19,
   "metadata": {},
   "outputs": [
    {
     "name": "stdout",
     "output_type": "stream",
     "text": [
      "timing for expect: func\n",
      "154 µs ± 1.85 µs per loop (mean ± std. dev. of 7 runs, 10000 loops each)\n",
      "161 µs ± 2.91 µs per loop (mean ± std. dev. of 7 runs, 10000 loops each)\n",
      "18.1 µs ± 108 ns per loop (mean ± std. dev. of 7 runs, 100000 loops each)\n"
     ]
    }
   ],
   "source": [
    "print(\"timing for expect: func\")\n",
    "td_func.compiled = False\n",
    "%timeit qt.cy.cy_expect_psi(td_func(2, data=True), vec, 0)\n",
    "%timeit td_func.expect(2,vec,0)\n",
    "td_func.compile()\n",
    "%timeit td_func.expect(2,vec,0)"
   ]
  },
  {
   "cell_type": "code",
   "execution_count": 20,
   "metadata": {},
   "outputs": [
    {
     "name": "stdout",
     "output_type": "stream",
     "text": [
      "timing for expect: array\n",
      "200 µs ± 15.8 µs per loop (mean ± std. dev. of 7 runs, 1000 loops each)\n",
      "204 µs ± 5.04 µs per loop (mean ± std. dev. of 7 runs, 1000 loops each)\n",
      "10.3 µs ± 102 ns per loop (mean ± std. dev. of 7 runs, 100000 loops each)\n"
     ]
    }
   ],
   "source": [
    "print(\"timing for expect: array\")\n",
    "td_array.compiled = False\n",
    "%timeit qt.cy.cy_expect_psi(td_array(2, data=True), vec, 0)\n",
    "%timeit td_array.expect(2,vec,0)\n",
    "td_array.compile()\n",
    "%timeit td_array.expect(2,vec,0)"
   ]
  },
  {
   "cell_type": "code",
   "execution_count": 21,
   "metadata": {},
   "outputs": [
    {
     "name": "stdout",
     "output_type": "stream",
     "text": [
      "timing for expect: array logscale\n",
      "201 µs ± 16.3 µs per loop (mean ± std. dev. of 7 runs, 1000 loops each)\n",
      "212 µs ± 34.2 µs per loop (mean ± std. dev. of 7 runs, 1000 loops each)\n",
      "10.4 µs ± 65.5 ns per loop (mean ± std. dev. of 7 runs, 100000 loops each)\n"
     ]
    }
   ],
   "source": [
    "print(\"timing for expect: array logscale\")\n",
    "td_array_log.compiled = False\n",
    "%timeit qt.cy.cy_expect_psi(td_array_log(2, data=True), vec, 0)\n",
    "%timeit td_array_log.expect(2,vec,0)\n",
    "td_array_log.compile()\n",
    "%timeit td_array_log.expect(2,vec,0)"
   ]
  },
  {
   "cell_type": "code",
   "execution_count": 22,
   "metadata": {},
   "outputs": [
    {
     "name": "stdout",
     "output_type": "stream",
     "text": [
      "timing for expect_rho: func\n",
      "161 µs ± 392 ns per loop (mean ± std. dev. of 7 runs, 10000 loops each)\n",
      "167 µs ± 2.61 µs per loop (mean ± std. dev. of 7 runs, 10000 loops each)\n",
      "15.2 µs ± 193 ns per loop (mean ± std. dev. of 7 runs, 100000 loops each)\n"
     ]
    }
   ],
   "source": [
    "print(\"timing for expect_rho: func\")\n",
    "td_super.compiled = False\n",
    "%timeit qt.cy.cy_expect_rho_vec(td_super(2, data=True), vec_super, 0)\n",
    "%timeit td_super.expect(2,vec_super,0)\n",
    "td_super.compile()\n",
    "%timeit td_super.expect(2,vec_super,0)"
   ]
  },
  {
   "cell_type": "markdown",
   "metadata": {},
   "source": [
    "## Timing with_args"
   ]
  },
  {
   "cell_type": "code",
   "execution_count": 23,
   "metadata": {},
   "outputs": [],
   "source": [
    "td_args = QobjEvo([Id,[destroy,cos_w]],args={\"w\":1})"
   ]
  },
  {
   "cell_type": "code",
   "execution_count": 25,
   "metadata": {},
   "outputs": [
    {
     "name": "stdout",
     "output_type": "stream",
     "text": [
      "295 µs ± 10.6 µs per loop (mean ± std. dev. of 7 runs, 1000 loops each)\n",
      "291 µs ± 13.6 µs per loop (mean ± std. dev. of 7 runs, 1000 loops each)\n",
      "82.7 µs ± 1.47 µs per loop (mean ± std. dev. of 7 runs, 10000 loops each)\n",
      "79.7 µs ± 1.77 µs per loop (mean ± std. dev. of 7 runs, 10000 loops each)\n",
      "300 µs ± 17.2 µs per loop (mean ± std. dev. of 7 runs, 1000 loops each)\n",
      "73.4 µs ± 393 ns per loop (mean ± std. dev. of 7 runs, 10000 loops each)\n",
      "83.3 µs ± 2.86 µs per loop (mean ± std. dev. of 7 runs, 10000 loops each)\n",
      "16.6 µs ± 21.5 ns per loop (mean ± std. dev. of 7 runs, 100000 loops each)\n"
     ]
    }
   ],
   "source": [
    "%timeit td_args(2,args={\"w\":2})\n",
    "%timeit td_args(2)\n",
    "%timeit td_args(2,args={\"w\":2},data=True)\n",
    "%timeit td_args(2,data=True)\n",
    "td_args.compile()\n",
    "%timeit td_args(2,args={\"w\":2})\n",
    "%timeit td_args(2)\n",
    "%timeit td_args(2,args={\"w\":2},data=True)\n",
    "%timeit td_args(2,data=True)"
   ]
  },
  {
   "cell_type": "code",
   "execution_count": 26,
   "metadata": {},
   "outputs": [],
   "source": [
    "td_args = QobjEvo([Id,[destroy,\"cos(w*t)\"]],args={\"w\":1})"
   ]
  },
  {
   "cell_type": "code",
   "execution_count": 27,
   "metadata": {},
   "outputs": [
    {
     "name": "stdout",
     "output_type": "stream",
     "text": [
      "330 µs ± 2.81 µs per loop (mean ± std. dev. of 7 runs, 1000 loops each)\n",
      "326 µs ± 1.49 µs per loop (mean ± std. dev. of 7 runs, 1000 loops each)\n",
      "106 µs ± 860 ns per loop (mean ± std. dev. of 7 runs, 10000 loops each)\n",
      "103 µs ± 1.25 µs per loop (mean ± std. dev. of 7 runs, 10000 loops each)\n",
      "328 µs ± 12.9 µs per loop (mean ± std. dev. of 7 runs, 1000 loops each)\n",
      "67.3 µs ± 174 ns per loop (mean ± std. dev. of 7 runs, 10000 loops each)\n",
      "104 µs ± 2.35 µs per loop (mean ± std. dev. of 7 runs, 10000 loops each)\n",
      "12.1 µs ± 214 ns per loop (mean ± std. dev. of 7 runs, 100000 loops each)\n"
     ]
    }
   ],
   "source": [
    "%timeit td_args(2,args={\"w\":2})\n",
    "%timeit td_args(2)\n",
    "%timeit td_args(2,args={\"w\":2},data=True)\n",
    "%timeit td_args(2,data=True)\n",
    "td_args.compile()\n",
    "%timeit td_args(2,args={\"w\":2})\n",
    "%timeit td_args(2)\n",
    "%timeit td_args(2,args={\"w\":2},data=True)\n",
    "%timeit td_args(2,data=True)"
   ]
  },
  {
   "cell_type": "markdown",
   "metadata": {},
   "source": [
    "## Timing with_state"
   ]
  },
  {
   "cell_type": "code",
   "execution_count": 29,
   "metadata": {},
   "outputs": [
    {
     "name": "stdout",
     "output_type": "stream",
     "text": [
      "89.2 µs ± 235 ns per loop (mean ± std. dev. of 7 runs, 10000 loops each)\n",
      "29 µs ± 183 ns per loop (mean ± std. dev. of 7 runs, 10000 loops each)\n"
     ]
    }
   ],
   "source": [
    "def coeff_state(t, args):\n",
    "    return np.max(args[\"vec\"])*args[\"w\"]\n",
    "td_state = QobjEvo([Id, [destroy, coeff_state]],args={\"w\":1,\"vec=vec\":vec})\n",
    "%timeit td_state(2, state=vec, data=True)\n",
    "td_state.compile()\n",
    "%timeit td_state(2, state=vec, data=True)"
   ]
  },
  {
   "cell_type": "code",
   "execution_count": null,
   "metadata": {},
   "outputs": [],
   "source": []
  }
 ],
 "metadata": {
  "kernelspec": {
   "display_name": "Python 3",
   "language": "python",
   "name": "python3"
  },
  "language_info": {
   "codemirror_mode": {
    "name": "ipython",
    "version": 3
   },
   "file_extension": ".py",
   "mimetype": "text/x-python",
   "name": "python",
   "nbconvert_exporter": "python",
   "pygments_lexer": "ipython3",
   "version": "3.7.0"
  }
 },
 "nbformat": 4,
 "nbformat_minor": 2
}
