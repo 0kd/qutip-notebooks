{
 "cells": [
  {
   "cell_type": "markdown",
   "metadata": {},
   "source": [
    "# The Su-Schrieffer–Heeger (SSH) model"
   ]
  },
  {
   "cell_type": "markdown",
   "metadata": {},
   "source": [
    "Saumya Biswas (saumyab@uoregon.edu)"
   ]
  },
  {
   "cell_type": "markdown",
   "metadata": {},
   "source": [
    "The celebrated SSH model is analyzed with QuTiP's lattice module below."
   ]
  },
  {
   "cell_type": "markdown",
   "metadata": {},
   "source": [
    "![title](images/SSH_E.png)"
   ]
  },
  {
   "cell_type": "markdown",
   "metadata": {},
   "source": [
    "The above figure shows a SSH model with 6 sites with periodic boundary condition. The same lattice with hardwall/aperiodic boundary condition would be the folloowing.\n",
    "![title](images/SSH_Ea.png)"
   ]
  },
  {
   "cell_type": "markdown",
   "metadata": {},
   "source": [
    "In the secod quantized formalism, the periodic lattice Hamiltonian can be written as\n",
    "\\begin{eqnarray}\n",
    "H_{per} = -t_{intra} (c_{-2}^{\\dagger} c_{-1} + c_{-1}^{\\dagger} c_{-2} ) -t_{intra} (c_{0}^{\\dagger} c_{1} + c_{1}^{\\dagger} c_{0} ) -t_{intra} (c_{2}^{\\dagger} c_{3} + c_{3}^{\\dagger} c_{2} ) \\nonumber \\\\ \n",
    " -t_{inter} (c_{-1}^{\\dagger} c_{0} + c_{0}^{\\dagger} c_{-1} ) -t_{inter} (c_{1}^{\\dagger} c_{2} + c_{2}^{\\dagger} c_{1} ) -t_{inter} (c_{3}^{\\dagger} c_{-2} + c_{-2}^{\\dagger} c_{3} ) \\nonumber \n",
    "\\end{eqnarray}\n",
    "The aperiodic lattice Hamiltonian can be obtained by discarding the very last term.\n",
    "\\begin{eqnarray}\n",
    "H_{aper} = -t_{intra} (c_{-2}^{\\dagger} c_{-1} + c_{-1}^{\\dagger} c_{-2} ) -t_{intra} (c_{0}^{\\dagger} c_{1} + c_{1}^{\\dagger} c_{0} ) -t_{intra} (c_{2}^{\\dagger} c_{3} + c_{3}^{\\dagger} c_{2} ) \\nonumber \\\\ \n",
    " -t_{inter} (c_{-1}^{\\dagger} c_{0} + c_{0}^{\\dagger} c_{-1} ) -t_{inter} (c_{1}^{\\dagger} c_{2} + c_{2}^{\\dagger} c_{1} ) \\ \\ \\ \\ \\ \\ \\ \\ \\ \\ \\ \\ \\ \\ \\ \\ \\ \\ \\ \\ \\ \\ \\ \\ \\ \\ \\ \\ \\ \\ \\ \\ \\ \\ \\ \\ \\ \\nonumber \n",
    "\\end{eqnarray}"
   ]
  },
  {
   "cell_type": "markdown",
   "metadata": {},
   "source": [
    "The representation in terms of unit cell blocks become obvious once we resolve the terms into unit cell operators.\n",
    "\\begin{eqnarray}\n",
    "H_{per}= \\begin{bmatrix}\n",
    "    c_{-2}^{\\dagger} & c_{-1}^{\\dagger}       \n",
    "\\end{bmatrix} \n",
    "\\begin{bmatrix}\n",
    "      o     & -t_1 \\\\\n",
    "    -t_1    & 0 \n",
    "\\end{bmatrix}\n",
    "\\begin{bmatrix}\n",
    "    c_{-2}  \\\\\n",
    "    c_{-1}  \n",
    "\\end{bmatrix} + \n",
    "\\begin{bmatrix}\n",
    "    c_{0}^{\\dagger} & c_{1}^{\\dagger}       \n",
    "\\end{bmatrix} \n",
    "\\begin{bmatrix}\n",
    "      o     & -t_1 \\\\\n",
    "    -t_1    & 0 \n",
    "\\end{bmatrix}\n",
    "\\begin{bmatrix}\n",
    "    c_{0}  \\\\\n",
    "    c_{1}  \n",
    "\\end{bmatrix} \n",
    "\\nonumber \\\\\n",
    "+ \\begin{bmatrix}\n",
    "    c_{2}^{\\dagger} & c_{3}^{\\dagger}       \n",
    "\\end{bmatrix} \n",
    "\\begin{bmatrix}\n",
    "      o     & -t_1 \\\\\n",
    "    -t_1    & 0 \n",
    "\\end{bmatrix}\n",
    "\\begin{bmatrix}\n",
    "    c_{2}  \\\\\n",
    "    c_{3}  \n",
    "\\end{bmatrix} \\nonumber \\\\\n",
    "+ \\begin{bmatrix}\n",
    "    c_{-2}^{\\dagger} & c_{-1}^{\\dagger}       \n",
    "\\end{bmatrix} \n",
    "\\begin{bmatrix}\n",
    "      o     & 0 \\\\\n",
    "    -t_2    & 0 \n",
    "\\end{bmatrix}\n",
    "\\begin{bmatrix}\n",
    "    c_{0}  \\\\\n",
    "    c_{1}  \n",
    "\\end{bmatrix} + \n",
    "\\begin{bmatrix}\n",
    "    c_{0}^{\\dagger} & c_{1}^{\\dagger}       \n",
    "\\end{bmatrix} \n",
    "\\begin{bmatrix}\n",
    "      o     & -t_2 \\\\\n",
    "      0     & 0 \n",
    "\\end{bmatrix}\n",
    "\\begin{bmatrix}\n",
    "    c_{-2}  \\\\\n",
    "    c_{-1}  \n",
    "\\end{bmatrix} \n",
    "\\nonumber \\\\\n",
    "+ \\begin{bmatrix}\n",
    "    c_{0}^{\\dagger} & c_{1}^{\\dagger}       \n",
    "\\end{bmatrix} \n",
    "\\begin{bmatrix}\n",
    "      o     & 0 \\\\\n",
    "    -t_2    & 0 \n",
    "\\end{bmatrix}\n",
    "\\begin{bmatrix}\n",
    "    c_{2}  \\\\\n",
    "    c_{3}  \n",
    "\\end{bmatrix} + \n",
    "\\begin{bmatrix}\n",
    "    c_{2}^{\\dagger} & c_{3}^{\\dagger}       \n",
    "\\end{bmatrix} \n",
    "\\begin{bmatrix}\n",
    "      o     & -t_2 \\\\\n",
    "      0     & 0 \n",
    "\\end{bmatrix}\n",
    "\\begin{bmatrix}\n",
    "    c_{0}  \\\\\n",
    "    c_{1}  \n",
    "\\end{bmatrix} \n",
    "\\nonumber \\\\\n",
    "+ \\begin{bmatrix}\n",
    "    c_{2}^{\\dagger} & c_{3}^{\\dagger}       \n",
    "\\end{bmatrix} \n",
    "\\begin{bmatrix}\n",
    "      o     & 0 \\\\\n",
    "    -t_2    & 0 \n",
    "\\end{bmatrix}\n",
    "\\begin{bmatrix}\n",
    "    c_{-2}  \\\\\n",
    "    c_{-1}  \n",
    "\\end{bmatrix} + \n",
    "\\begin{bmatrix}\n",
    "    c_{-2}^{\\dagger} & c_{-1}^{\\dagger}       \n",
    "\\end{bmatrix} \n",
    "\\begin{bmatrix}\n",
    "      o     & -t_2 \\\\\n",
    "      0     & 0 \n",
    "\\end{bmatrix}\n",
    "\\begin{bmatrix}\n",
    "    c_{2}  \\\\\n",
    "    c_{3}  \n",
    "\\end{bmatrix} \\nonumber\n",
    "\\end{eqnarray}\n"
   ]
  },
  {
   "cell_type": "markdown",
   "metadata": {},
   "source": [
    "Hence, $H_{TB}$ can be succinctly put in the form:\n",
    "\\begin{eqnarray}\n",
    "H_{per/aper} = \\sum_i \\psi_i^{\\dagger} D \\psi_i + \\sum_{i} \\left( \\psi_i^{\\dagger} T \\psi_{i+1} +  \\psi_{i+1}^{\\dagger} T^{\\dagger} \\psi_i  \\right) \\label{eq:TB_block} \n",
    "\\end{eqnarray}\n",
    "where $D = \\begin{bmatrix}\n",
    "    0 & -t_{intra}  \\\\\n",
    "    -t_{intra} & 0  \n",
    "\\end{bmatrix}$ and $T = \\begin{bmatrix}\n",
    "    0 & 0  \\\\\n",
    "    -t_{inter} & 0  \n",
    "\\end{bmatrix}$. The $\\psi_i = \\begin{bmatrix}\n",
    "    c^0_{i}  \\\\\n",
    "    c^1_{i}  \n",
    "\\end{bmatrix}$ is associated with $\\vec{R}=\\vec{R}_i$ and $\\psi_{i+1}$ is associated with $\\vec{R}=\\vec{R}_i + \\hat{x}$, with $\\hat{x}$ being the unit vector along the x direction.\n",
    "\n",
    "The equation above can be put into the alternate form (also changing the summation variables to m,n to distinguish them from the imaginary i):\n",
    "\n",
    "\\begin{eqnarray}\n",
    "H_{per/aper} = \\sum_{m,n} \\psi_m^{\\dagger} (D \\delta_{m,n} + T \\delta_{m,n-1} + T^{\\dagger} \\delta_{m,n+1} ) \\psi_n \\label{eq:TB_block_1} \n",
    "\\end{eqnarray}\n",
    "\n"
   ]
  },
  {
   "cell_type": "markdown",
   "metadata": {},
   "source": [
    "So far, we have see that a SSH lattice can be put into the unit cell representations and the lattice can be completely defied with two matrices D and T. In declaring an instance of Qutip.lattice.Lattice1d we only need to input the two matrices. "
   ]
  },
  {
   "cell_type": "markdown",
   "metadata": {},
   "source": [
    "In declaring an instance of Lattice1d class, the two arguments cell_Hamiltonian\n",
    "and inter_hop are set to D and T respectively. The matrix structure of D and T can be\n",
    "obtained from the aide function cell_structures()."
   ]
  },
  {
   "cell_type": "code",
   "execution_count": 1,
   "metadata": {},
   "outputs": [],
   "source": [
    "from qutip import *\n",
    "import matplotlib.pyplot as plt\n",
    "import numpy as np"
   ]
  },
  {
   "cell_type": "code",
   "execution_count": 2,
   "metadata": {},
   "outputs": [],
   "source": [
    "val_s = ['site0','site1']\n",
    "(cell_H_form,inter_cell_T_form,cell_H,inter_cell_T) = cell_structures( val_s)"
   ]
  },
  {
   "cell_type": "code",
   "execution_count": 3,
   "metadata": {},
   "outputs": [
    {
     "data": {
      "text/plain": [
       "[['<site0 H site0>', '<site0 H site1>'],\n",
       " ['<site1 H site0>', '<site1 H site1>']]"
      ]
     },
     "execution_count": 3,
     "metadata": {},
     "output_type": "execute_result"
    }
   ],
   "source": [
    "cell_H_form"
   ]
  },
  {
   "cell_type": "code",
   "execution_count": 4,
   "metadata": {},
   "outputs": [
    {
     "data": {
      "text/plain": [
       "[['<cell(i):site0 H site0:cell(i+1) >', '<cell(i):site0 H site1:cell(i+1) >'],\n",
       " ['<cell(i):site1 H site0:cell(i+1) >', '<cell(i):site1 H site1:cell(i+1) >']]"
      ]
     },
     "execution_count": 4,
     "metadata": {},
     "output_type": "execute_result"
    }
   ],
   "source": [
    "inter_cell_T_form"
   ]
  },
  {
   "cell_type": "markdown",
   "metadata": {},
   "source": [
    "Guided by cell_H_form and inter_cell_T_form, we can set values to cell_H and inter_cell_T which were initialized to all zero elements by cell_structures()."
   ]
  },
  {
   "cell_type": "code",
   "execution_count": 5,
   "metadata": {},
   "outputs": [],
   "source": [
    "t_intra = -0.5\n",
    "t_inter = -0.5\n",
    "cell_H[0,1] = t_intra\n",
    "cell_H[1,0] = t_intra\n",
    "inter_cell_T[1,0] = t_inter\n",
    "cell_H = Qobj(cell_H)\n",
    "inter_cell_T = Qobj(inter_cell_T)"
   ]
  },
  {
   "cell_type": "markdown",
   "metadata": {},
   "source": [
    "Using cell_structures() is completely optional. The user could equally well have defined cell_H and inter_cell_T directly."
   ]
  },
  {
   "cell_type": "code",
   "execution_count": 6,
   "metadata": {},
   "outputs": [],
   "source": [
    "cell_H = Qobj( np.array( [[ 0, t_intra ],[t_intra,0]] )  )\n",
    "inter_cell_T =  Qobj( np.array( [[ 0, 0 ],[t_inter,0]] )  ) "
   ]
  },
  {
   "cell_type": "markdown",
   "metadata": {},
   "source": [
    "For our SSH lattice with 3 unit cells, 2 sites in each unit cell, and [1] degree of freedom per each site, we can initiate an instance of the Lattice1d class at this stage. "
   ]
  },
  {
   "cell_type": "code",
   "execution_count": 7,
   "metadata": {},
   "outputs": [],
   "source": [
    "boundary_condition = \"periodic\"\n",
    "cells = 3\n",
    "cell_sites = 2\n",
    "site_dof = [1]\n",
    "SSH_lattice = Lattice1d(num_cell=cells, boundary = boundary_condition, cell_num_site = cell_sites, cell_site_dof = site_dof, cell_Hamiltonian = cell_H, inter_hop = inter_cell_T )"
   ]
  },
  {
   "cell_type": "markdown",
   "metadata": {},
   "source": [
    "The model can be visualized with the display functions."
   ]
  },
  {
   "cell_type": "code",
   "execution_count": 8,
   "metadata": {},
   "outputs": [
    {
     "data": {
      "image/png": "[encoded data removed]",
      "text/plain": [
       "<Figure size 288x360 with 1 Axes>"
      ]
     },
     "metadata": {
      "needs_background": "light"
     },
     "output_type": "display_data"
    },
    {
     "data": {
      "image/png": "[encoded data removed]",
      "text/plain": [
       "<Figure size 648x648 with 1 Axes>"
      ]
     },
     "metadata": {
      "needs_background": "light"
     },
     "output_type": "display_data"
    }
   ],
   "source": [
    "H = SSH_lattice.display_unit_cell(label_on = True)\n",
    "T = SSH_lattice.display_lattice()"
   ]
  },
  {
   "cell_type": "markdown",
   "metadata": {},
   "source": [
    "The Hamiltonian of the lattice can be obtained with the method Hamiltonian()"
   ]
  },
  {
   "cell_type": "code",
   "execution_count": 9,
   "metadata": {},
   "outputs": [
    {
     "data": {
      "text/latex": [
       "Quantum object: dims = [[3, 2, 1], [3, 2, 1]], shape = (6, 6), type = oper, isherm = True\\begin{equation*}\\left(\\begin{array}{*{11}c}0.0 & -0.500 & 0.0 & 0.0 & 0.0 & -0.500\\\\-0.500 & 0.0 & -0.500 & 0.0 & 0.0 & 0.0\\\\0.0 & -0.500 & 0.0 & -0.500 & 0.0 & 0.0\\\\0.0 & 0.0 & -0.500 & 0.0 & -0.500 & 0.0\\\\0.0 & 0.0 & 0.0 & -0.500 & 0.0 & -0.500\\\\-0.500 & 0.0 & 0.0 & 0.0 & -0.500 & 0.0\\\\\\end{array}\\right)\\end{equation*}"
      ],
      "text/plain": [
       "Quantum object: dims = [[3, 2, 1], [3, 2, 1]], shape = (6, 6), type = oper, isherm = True\n",
       "Qobj data =\n",
       "[[ 0.  -0.5  0.   0.   0.  -0.5]\n",
       " [-0.5  0.  -0.5  0.   0.   0. ]\n",
       " [ 0.  -0.5  0.  -0.5  0.   0. ]\n",
       " [ 0.   0.  -0.5  0.  -0.5  0. ]\n",
       " [ 0.   0.   0.  -0.5  0.  -0.5]\n",
       " [-0.5  0.   0.   0.  -0.5  0. ]]"
      ]
     },
     "execution_count": 9,
     "metadata": {},
     "output_type": "execute_result"
    }
   ],
   "source": [
    "Haml = SSH_lattice.Hamiltonian()\n",
    "Haml"
   ]
  },
  {
   "cell_type": "markdown",
   "metadata": {},
   "source": [
    "The dispersion relationship for the lattice can be obtained with plot_dispersio() method."
   ]
  },
  {
   "cell_type": "code",
   "execution_count": 10,
   "metadata": {},
   "outputs": [
    {
     "data": {
      "image/png": "[encoded data removed]",
      "text/plain": [
       "<Figure size 432x288 with 1 Axes>"
      ]
     },
     "metadata": {
      "needs_background": "light"
     },
     "output_type": "display_data"
    }
   ],
   "source": [
    "SSH_lattice.plot_dispersion()"
   ]
  },
  {
   "cell_type": "markdown",
   "metadata": {},
   "source": [
    "plot_dispersion() plots the 3(since number of unit cells in 3) points in k-space \n",
    "(the first and last one are the same) over the dispersion relation of an infinite\n",
    "crystal. "
   ]
  },
  {
   "cell_type": "code",
   "execution_count": 11,
   "metadata": {},
   "outputs": [],
   "source": [
    "[V,[S0,S1,S2,S3,S4,S5]]=Haml.eigenstates()"
   ]
  },
  {
   "cell_type": "code",
   "execution_count": 12,
   "metadata": {},
   "outputs": [
    {
     "data": {
      "text/plain": [
       "array([-1. , -0.5, -0.5,  0.5,  0.5,  1. ])"
      ]
     },
     "execution_count": 12,
     "metadata": {},
     "output_type": "execute_result"
    }
   ],
   "source": [
    "V"
   ]
  },
  {
   "cell_type": "markdown",
   "metadata": {},
   "source": [
    "Unsurprisingly, diagonalizing the Hamiltonian gives the same spectrum of eigen-values\n",
    "as the one obtained from the plot_dispersion() function."
   ]
  },
  {
   "cell_type": "markdown",
   "metadata": {},
   "source": [
    "### The trivial Insulator:\n",
    "The latice become a gapped system when $t_{inter}$ does not equal $t_{intra}$. For the case of $|t_{inter}| < |t_{intra}|$, the lattice is a topologically trivial insulator.\n",
    "\n",
    "\n",
    "\n"
   ]
  },
  {
   "cell_type": "code",
   "execution_count": 13,
   "metadata": {},
   "outputs": [],
   "source": [
    "t_intra = -0.5\n",
    "t_inter = -0.35\n",
    "cell_H = Qobj( np.array( [[ 0, t_intra ],[t_intra,0]] )  )\n",
    "inter_cell_T =  Qobj( np.array( [[ 0, 0 ],[t_inter,0]] )  ) \n",
    "SSH_lattice_TrI = Lattice1d(num_cell=100, boundary = \"periodic\", cell_num_site = 2, cell_site_dof = [1], cell_Hamiltonian = cell_H, inter_hop = inter_cell_T )"
   ]
  },
  {
   "cell_type": "code",
   "execution_count": 14,
   "metadata": {},
   "outputs": [
    {
     "data": {
      "image/png": "[encoded data removed]",
      "text/plain": [
       "<Figure size 432x288 with 1 Axes>"
      ]
     },
     "metadata": {
      "needs_background": "light"
     },
     "output_type": "display_data"
    }
   ],
   "source": [
    "SSH_lattice_TrI.plot_dispersion()"
   ]
  },
  {
   "cell_type": "code",
   "execution_count": 15,
   "metadata": {},
   "outputs": [],
   "source": [
    "SSH_H_t = SSH_lattice_TrI.Hamiltonian()\n",
    "D = SSH_H_t.eigenenergies()"
   ]
  },
  {
   "cell_type": "code",
   "execution_count": 16,
   "metadata": {},
   "outputs": [
    {
     "data": {
      "image/png": "[encoded data removed]",
      "text/plain": [
       "<Figure size 432x288 with 1 Axes>"
      ]
     },
     "metadata": {
      "needs_background": "light"
     },
     "output_type": "display_data"
    }
   ],
   "source": [
    "plt.plot(D,'ro')\n",
    "plt.xlabel('index of eigen values')\n",
    "plt.ylabel('eigen values')\n",
    "plt.show()\n",
    "plt.close()"
   ]
  },
  {
   "cell_type": "markdown",
   "metadata": {},
   "source": [
    "Unsurprisingly, we see a gap in the dispersion relationship and also in the spectrum of\n",
    "eigen values of the Hamiltonian."
   ]
  },
  {
   "cell_type": "markdown",
   "metadata": {},
   "source": [
    "However, a calculation of the winding number yields 0, since it has trivial topology."
   ]
  },
  {
   "cell_type": "code",
   "execution_count": 30,
   "metadata": {},
   "outputs": [
    {
     "data": {
      "image/png": "[encoded data removed]",
      "text/plain": [
       "<Figure size 197.1x197.1 with 1 Axes>"
      ]
     },
     "metadata": {
      "needs_background": "light"
     },
     "output_type": "display_data"
    },
    {
     "data": {
      "text/plain": [
       "0.0"
      ]
     },
     "execution_count": 30,
     "metadata": {},
     "output_type": "execute_result"
    }
   ],
   "source": [
    "SSH_lattice_TrI.winding_number()"
   ]
  },
  {
   "cell_type": "markdown",
   "metadata": {},
   "source": [
    "### The Topologically Nontrivial Insulator\n",
    "The other limit ($|t_{inter}| < |t_{intra}| $) is the interesting one, although the same\n",
    "calculations on a lattice with periodic boundary condition reveal nothing interesting."
   ]
  },
  {
   "cell_type": "code",
   "execution_count": 17,
   "metadata": {},
   "outputs": [],
   "source": [
    "t_intra = -0.5\n",
    "t_inter = -0.65\n",
    "cell_H = Qobj( np.array( [[ 0, t_intra ],[t_intra,0]] )  )\n",
    "inter_cell_T =  Qobj( np.array( [[ 0, 0 ],[t_inter,0]] )  ) \n",
    "pSSH_lattice_nTrI = Lattice1d(num_cell=100, boundary = \"periodic\", cell_num_site = 2, cell_site_dof = [1], cell_Hamiltonian = cell_H, inter_hop = inter_cell_T )"
   ]
  },
  {
   "cell_type": "code",
   "execution_count": 18,
   "metadata": {},
   "outputs": [
    {
     "data": {
      "image/png": "[encoded data removed]",
      "text/plain": [
       "<Figure size 432x288 with 1 Axes>"
      ]
     },
     "metadata": {
      "needs_background": "light"
     },
     "output_type": "display_data"
    }
   ],
   "source": [
    "pSSH_lattice_nTrI.plot_dispersion()"
   ]
  },
  {
   "cell_type": "code",
   "execution_count": 19,
   "metadata": {},
   "outputs": [],
   "source": [
    "pSSH_H_nt = pSSH_lattice_nTrI.Hamiltonian()\n",
    "nD = pSSH_H_nt.eigenenergies()"
   ]
  },
  {
   "cell_type": "code",
   "execution_count": 20,
   "metadata": {},
   "outputs": [
    {
     "data": {
      "image/png": "[encoded data removed]",
      "text/plain": [
       "<Figure size 432x288 with 1 Axes>"
      ]
     },
     "metadata": {
      "needs_background": "light"
     },
     "output_type": "display_data"
    }
   ],
   "source": [
    "plt.plot(nD,'ro')\n",
    "plt.ylabel('eigen values')\n",
    "plt.show()\n",
    "plt.close()"
   ]
  },
  {
   "cell_type": "markdown",
   "metadata": {},
   "source": [
    "### Topologically Nontrivial Insulator: Hardwall Boundary Condition\n",
    "To reveal the topological nontriviality, we have to put the insulator next to a \n",
    "boundary, i.e. use a hardwall boundary condition and the spectrum of eigenvalues of\n",
    "the Hamiltonian shows the conspicuous edge states which plotted as a eigenvector\n",
    "are dense towards the edge considerably. However, the dispersion looks completely the\n",
    "same."
   ]
  },
  {
   "cell_type": "code",
   "execution_count": 21,
   "metadata": {},
   "outputs": [],
   "source": [
    "t_intra = -0.5\n",
    "t_inter = -0.65\n",
    "cell_H = Qobj( np.array( [[ 0, t_intra ],[t_intra,0]] )  )\n",
    "inter_cell_T =  Qobj( np.array( [[ 0, 0 ],[t_inter,0]] )  ) \n",
    "apSSH_lattice_nTrI = Lattice1d(num_cell=100, boundary = \"aperiodic\", cell_num_site = 2, cell_site_dof = [1], cell_Hamiltonian = cell_H, inter_hop = inter_cell_T )"
   ]
  },
  {
   "cell_type": "code",
   "execution_count": 24,
   "metadata": {},
   "outputs": [
    {
     "data": {
      "image/png": "[encoded data removed]",
      "text/plain": [
       "<Figure size 261.9x261.9 with 1 Axes>"
      ]
     },
     "metadata": {
      "needs_background": "light"
     },
     "output_type": "display_data"
    },
    {
     "data": {
      "text/plain": [
       "1.0"
      ]
     },
     "execution_count": 24,
     "metadata": {},
     "output_type": "execute_result"
    }
   ],
   "source": [
    "apSSH_lattice_nTrI.winding_number()"
   ]
  },
  {
   "cell_type": "code",
   "execution_count": 25,
   "metadata": {},
   "outputs": [],
   "source": [
    "apSSH_H_nt = apSSH_lattice_nTrI.Hamiltonian()\n",
    "[n_D,Vx] = apSSH_H_nt.eigenstates()"
   ]
  },
  {
   "cell_type": "code",
   "execution_count": 26,
   "metadata": {},
   "outputs": [
    {
     "data": {
      "image/png": "[encoded data removed]",
      "text/plain": [
       "<Figure size 432x288 with 1 Axes>"
      ]
     },
     "metadata": {
      "needs_background": "light"
     },
     "output_type": "display_data"
    }
   ],
   "source": [
    "plt.plot(n_D,'ro')\n",
    "plt.ylabel('eigen values')\n",
    "plt.show()\n",
    "plt.close()"
   ]
  },
  {
   "cell_type": "markdown",
   "metadata": {},
   "source": [
    "We observe the much celebrated mid-gap edge states, who appear at mid-gaps. The nontriviality of the topological insulator is revealed with their placement next to a boundary. The edge states are the consequences of the bulk-bundary correspondence. Plotting the absolute values of the eigen-functions reveal that they are localized at the edges. We plot the absolute values of the eigenfunctions corresponding to the two eigenvalues found at mid-gaps."
   ]
  },
  {
   "cell_type": "code",
   "execution_count": 27,
   "metadata": {},
   "outputs": [
    {
     "data": {
      "image/png": "[encoded data removed]",
      "text/plain": [
       "<Figure size 720x288 with 2 Axes>"
      ]
     },
     "metadata": {
      "needs_background": "light"
     },
     "output_type": "display_data"
    }
   ],
   "source": [
    "xA = [i for i in range(200)]\n",
    "Es0 = np.abs(Vx[99])\n",
    "Es1 = np.abs(Vx[100])\n",
    "fig, (ax1, ax2) = plt.subplots(1, 2, figsize=(10, 4), sharey=True)\n",
    "ax1.plot(xA, Es0, label=\"State0\")\n",
    "ax2.plot(xA, Es1, label=\"State1\")\n",
    "ax1.legend()\n",
    "ax2.legend()\n",
    "plt.show()\n",
    "fig.suptitle('Mid-gap Edge states')\n",
    "plt.close()"
   ]
  },
  {
   "cell_type": "code",
   "execution_count": 28,
   "metadata": {},
   "outputs": [
    {
     "name": "stdout",
     "output_type": "stream",
     "text": [
      "\n",
      "QuTiP: Quantum Toolbox in Python\n",
      "================================\n",
      "Copyright (c) QuTiP team 2011 and later.\n",
      "Original developers: R. J. Johansson & P. D. Nation.\n",
      "Current admin team: Alexander Pitchford, Paul D. Nation, Nathan Shammah, Shahnawaz Ahmed, Neill Lambert, and Eric Giguère.\n",
      "Project Manager: Franco Nori.\n",
      "Currently developed through wide collaboration. See https://github.com/qutip for details.\n",
      "\n",
      "QuTiP Version:      4.5.0.dev0+c8074e5\n",
      "Numpy Version:      1.15.2\n",
      "Scipy Version:      1.1.0\n",
      "Cython Version:     0.28.5\n",
      "Matplotlib Version: 3.0.0\n",
      "Python Version:     3.5.4\n",
      "Number of CPUs:     2\n",
      "BLAS Info:          INTEL MKL\n",
      "OPENMP Installed:   True\n",
      "INTEL MKL Ext:      True\n",
      "Platform Info:      Linux (x86_64)\n",
      "Installation path:  /home/ssaumya7/Desktop/GSOC/Aug5/qutip/qutip\n",
      "==============================================================================\n",
      "Please cite QuTiP in your publication.\n",
      "==============================================================================\n",
      "For your convenience a bibtex reference can be easily generated using `qutip.cite()`\n"
     ]
    }
   ],
   "source": [
    "qutip.about()"
   ]
  },
  {
   "cell_type": "code",
   "execution_count": 29,
   "metadata": {},
   "outputs": [
    {
     "name": "stdout",
     "output_type": "stream",
     "text": [
      "@article{qutip2,\n",
      "doi = {10.1016/j.cpc.2012.11.019},\n",
      "url = {https://doi.org/10.1016/j.cpc.2012.11.019},\n",
      "year  = {2013},\n",
      "month = {apr},\n",
      "publisher = {Elsevier {BV}},\n",
      "volume = {184},\n",
      "number = {4},\n",
      "pages = {1234--1240},\n",
      "author = {J.R. Johansson and P.D. Nation and F. Nori},\n",
      "title = {{QuTiP} 2: A {P}ython framework for the dynamics of open quantum systems},\n",
      "journal = {Computer Physics Communications}\n",
      "}\n",
      "@article{qutip1,\n",
      "doi = {10.1016/j.cpc.2012.02.021},\n",
      "url = {https://doi.org/10.1016/j.cpc.2012.02.021},\n",
      "year  = {2012},\n",
      "month = {aug},\n",
      "publisher = {Elsevier {BV}},\n",
      "volume = {183},\n",
      "number = {8},\n",
      "pages = {1760--1772},\n",
      "author = {J.R. Johansson and P.D. Nation and F. Nori},\n",
      "title = {{QuTiP}: An open-source {P}ython framework for the dynamics of open quantum systems},\n",
      "journal = {Computer Physics Communications}\n",
      "}\n"
     ]
    }
   ],
   "source": [
    "qutip.cite()"
   ]
  }
 ],
 "metadata": {
  "kernelspec": {
   "display_name": "Python 3",
   "language": "python",
   "name": "python3"
  },
  "language_info": {
   "codemirror_mode": {
    "name": "ipython",
    "version": 3
   },
   "file_extension": ".py",
   "mimetype": "text/x-python",
   "name": "python",
   "nbconvert_exporter": "python",
   "pygments_lexer": "ipython3",
   "version": "3.5.4"
  }
 },
 "nbformat": 4,
 "nbformat_minor": 2
}
