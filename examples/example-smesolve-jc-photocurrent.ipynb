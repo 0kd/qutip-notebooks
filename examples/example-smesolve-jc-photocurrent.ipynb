{
 "metadata": {
  "name": "",
  "signature": "sha256:ecb7f4664ec4d643889ab8ea4dc59a7bdc5532dbaf00bc2cd05b290144ceb31f"
 },
 "nbformat": 3,
 "nbformat_minor": 0,
 "worksheets": [
  {
   "cells": [
    {
     "cell_type": "heading",
     "level": 1,
     "metadata": {},
     "source": [
      "Stochastic photo-current detection in a JC model"
     ]
    },
    {
     "cell_type": "heading",
     "level": 2,
     "metadata": {},
     "source": [
      "Mixing stochastic and deterministic master equations"
     ]
    },
    {
     "cell_type": "markdown",
     "metadata": {},
     "source": [
      "Copyright (C) 2011 and later, Paul D. Nation & Robert J. Johansson"
     ]
    },
    {
     "cell_type": "code",
     "collapsed": false,
     "input": [
      "%matplotlib inline\n",
      "import matplotlib.pyplot as plt"
     ],
     "language": "python",
     "metadata": {},
     "outputs": [],
     "prompt_number": 1
    },
    {
     "cell_type": "code",
     "collapsed": true,
     "input": [
      "import numpy as np\n",
      "import qutip.settings \n",
      "qutip.settings.debug = True\n",
      "from qutip import *"
     ],
     "language": "python",
     "metadata": {},
     "outputs": [],
     "prompt_number": 2
    },
    {
     "cell_type": "code",
     "collapsed": false,
     "input": [
      "from qutip.ipynbtools import HTMLProgressBar"
     ],
     "language": "python",
     "metadata": {},
     "outputs": [],
     "prompt_number": 3
    },
    {
     "cell_type": "code",
     "collapsed": false,
     "input": [
      "from matplotlib import rcParams\n",
      "rcParams['font.family'] = 'STIXGeneral'\n",
      "rcParams['mathtext.fontset'] = 'stix'\n",
      "rcParams['font.size'] = '14'"
     ],
     "language": "python",
     "metadata": {},
     "outputs": [],
     "prompt_number": 4
    },
    {
     "cell_type": "code",
     "collapsed": false,
     "input": [
      "N = 15\n",
      "w0 = 1.0 * 2 * np.pi\n",
      "g = 0.2 * 2 * np.pi\n",
      "times = np.linspace(0, 15, 150)\n",
      "dt = times[1] - times[0]\n",
      "gamma = 0.01\n",
      "kappa = 0.1\n",
      "ntraj = 150"
     ],
     "language": "python",
     "metadata": {},
     "outputs": [],
     "prompt_number": 5
    },
    {
     "cell_type": "code",
     "collapsed": false,
     "input": [
      "a = tensor(destroy(N), identity(2))\n",
      "sm = tensor(identity(N), destroy(2))"
     ],
     "language": "python",
     "metadata": {},
     "outputs": [],
     "prompt_number": 6
    },
    {
     "cell_type": "code",
     "collapsed": false,
     "input": [
      "H = w0 * a.dag() * a + w0 * sm.dag() * sm + g * (sm * a.dag() + sm.dag() * a)"
     ],
     "language": "python",
     "metadata": {},
     "outputs": [],
     "prompt_number": 7
    },
    {
     "cell_type": "code",
     "collapsed": false,
     "input": [
      "rho0 = tensor(fock(N, 5), fock(2, 0))"
     ],
     "language": "python",
     "metadata": {},
     "outputs": [],
     "prompt_number": 8
    },
    {
     "cell_type": "code",
     "collapsed": false,
     "input": [
      "e_ops = [a.dag() * a, a + a.dag(), sm.dag() * sm]"
     ],
     "language": "python",
     "metadata": {},
     "outputs": [],
     "prompt_number": 9
    },
    {
     "cell_type": "heading",
     "level": 3,
     "metadata": {},
     "source": [
      "Highly efficient detection"
     ]
    },
    {
     "cell_type": "code",
     "collapsed": false,
     "input": [
      "c_ops = [np.sqrt(gamma) * sm]  # collapse operator for qubit\n",
      "sc_ops = [np.sqrt(kappa) * a]  # stochastic collapse for resonator"
     ],
     "language": "python",
     "metadata": {},
     "outputs": [],
     "prompt_number": 10
    },
    {
     "cell_type": "code",
     "collapsed": false,
     "input": [
      "result_ref = mesolve(H, rho0, times, c_ops+sc_ops, e_ops)"
     ],
     "language": "python",
     "metadata": {},
     "outputs": [],
     "prompt_number": 11
    },
    {
     "cell_type": "code",
     "collapsed": false,
     "input": [
      "result1 = smesolve(H, rho0, times, c_ops=c_ops, sc_ops=sc_ops, e_ops=e_ops, \n",
      "                   ntraj=1, nsubsteps=100, method='photocurrent',\n",
      "                   store_measurement=True,\n",
      "                   options=Options(store_states=True))"
     ],
     "language": "python",
     "metadata": {},
     "outputs": [
      {
       "output_type": "stream",
       "stream": "stdout",
       "text": [
        "\r",
        " [          0%           ] Elapsed 0.00s / Remaining 00:00:00:00"
       ]
      },
      {
       "output_type": "stream",
       "stream": "stdout",
       "text": [
        "\r",
        " Total run time:   5.00s\n"
       ]
      }
     ],
     "prompt_number": 12
    },
    {
     "cell_type": "markdown",
     "metadata": {},
     "source": [
      "Run the `smesolve` solver in parallel by passing the keyword argument `map_func=parallel_map`:"
     ]
    },
    {
     "cell_type": "code",
     "collapsed": false,
     "input": [
      "result2 = smesolve(H, rho0, times, c_ops=c_ops, sc_ops=sc_ops, e_ops=e_ops, \n",
      "                   ntraj=ntraj, nsubsteps=100, method='photocurrent',\n",
      "                   store_measurement=True,\n",
      "                   options=Options(store_states=True),\n",
      "                   progress_bar=HTMLProgressBar(),\n",
      "                   map_func=parallel_map)"
     ],
     "language": "python",
     "metadata": {},
     "outputs": [
      {
       "html": [
        "<div style=\"border: 1px solid grey; width: 600px\">\n",
        "  <div id=\"132a1492-d4e9-4ad4-a077-4ee46b43da89\" style=\"background-color: rgba(0,200,0,0.35); width:0%\">&nbsp;</div>\n",
        "</div>\n",
        "<p id=\"1431dc1e-5e63-4aab-91d4-e2548e85cc1c\"></p>\n"
       ],
       "metadata": {},
       "output_type": "display_data",
       "text": [
        "<IPython.core.display.HTML at 0x10c0097f0>"
       ]
      },
      {
       "javascript": [
        "$('div#132a1492-d4e9-4ad4-a077-4ee46b43da89').width('1%');$('p#1431dc1e-5e63-4aab-91d4-e2548e85cc1c').text('Elapsed time:   5.54s. Est. remaining time: 00:00:06:49.');"
       ],
       "metadata": {},
       "output_type": "display_data",
       "text": [
        "<IPython.core.display.Javascript at 0x10cf7f8d0>"
       ]
      },
      {
       "javascript": [
        "$('div#132a1492-d4e9-4ad4-a077-4ee46b43da89').width('2%');$('p#1431dc1e-5e63-4aab-91d4-e2548e85cc1c').text('Elapsed time:   5.55s. Est. remaining time: 00:00:04:32.');"
       ],
       "metadata": {},
       "output_type": "display_data",
       "text": [
        "<IPython.core.display.Javascript at 0x10cf7f8d0>"
       ]
      },
      {
       "javascript": [
        "$('div#132a1492-d4e9-4ad4-a077-4ee46b43da89').width('3%');$('p#1431dc1e-5e63-4aab-91d4-e2548e85cc1c').text('Elapsed time:  10.95s. Est. remaining time: 00:00:05:17.');"
       ],
       "metadata": {},
       "output_type": "display_data",
       "text": [
        "<IPython.core.display.Javascript at 0x107d51cf8>"
       ]
      },
      {
       "javascript": [
        "$('div#132a1492-d4e9-4ad4-a077-4ee46b43da89').width('4%');$('p#1431dc1e-5e63-4aab-91d4-e2548e85cc1c').text('Elapsed time:  10.97s. Est. remaining time: 00:00:04:23.');"
       ],
       "metadata": {},
       "output_type": "display_data",
       "text": [
        "<IPython.core.display.Javascript at 0x107d598d0>"
       ]
      },
      {
       "javascript": [
        "$('div#132a1492-d4e9-4ad4-a077-4ee46b43da89').width('5%');$('p#1431dc1e-5e63-4aab-91d4-e2548e85cc1c').text('Elapsed time:  11.03s. Est. remaining time: 00:00:03:15.');"
       ],
       "metadata": {},
       "output_type": "display_data",
       "text": [
        "<IPython.core.display.Javascript at 0x107da2908>"
       ]
      },
      {
       "javascript": [
        "$('div#132a1492-d4e9-4ad4-a077-4ee46b43da89').width('6%');$('p#1431dc1e-5e63-4aab-91d4-e2548e85cc1c').text('Elapsed time:  16.33s. Est. remaining time: 00:00:04:15.');"
       ],
       "metadata": {},
       "output_type": "display_data",
       "text": [
        "<IPython.core.display.Javascript at 0x107da04e0>"
       ]
      },
      {
       "javascript": [
        "$('div#132a1492-d4e9-4ad4-a077-4ee46b43da89').width('7%');$('p#1431dc1e-5e63-4aab-91d4-e2548e85cc1c').text('Elapsed time:  16.40s. Est. remaining time: 00:00:03:27.');"
       ],
       "metadata": {},
       "output_type": "display_data",
       "text": [
        "<IPython.core.display.Javascript at 0x10a0d7518>"
       ]
      },
      {
       "javascript": [
        "$('div#132a1492-d4e9-4ad4-a077-4ee46b43da89').width('8%');$('p#1431dc1e-5e63-4aab-91d4-e2548e85cc1c').text('Elapsed time:  16.46s. Est. remaining time: 00:00:03:09.');"
       ],
       "metadata": {},
       "output_type": "display_data",
       "text": [
        "<IPython.core.display.Javascript at 0x10a0cf0f0>"
       ]
      },
      {
       "javascript": [
        "$('div#132a1492-d4e9-4ad4-a077-4ee46b43da89').width('9%');$('p#1431dc1e-5e63-4aab-91d4-e2548e85cc1c').text('Elapsed time:  22.59s. Est. remaining time: 00:00:03:39.');"
       ],
       "metadata": {},
       "output_type": "display_data",
       "text": [
        "<IPython.core.display.Javascript at 0x10a93e320>"
       ]
      },
      {
       "javascript": [
        "$('div#132a1492-d4e9-4ad4-a077-4ee46b43da89').width('10%');$('p#1431dc1e-5e63-4aab-91d4-e2548e85cc1c').text('Elapsed time:  22.65s. Est. remaining time: 00:00:03:23.');"
       ],
       "metadata": {},
       "output_type": "display_data",
       "text": [
        "<IPython.core.display.Javascript at 0x10a956f60>"
       ]
      },
      {
       "javascript": [
        "$('div#132a1492-d4e9-4ad4-a077-4ee46b43da89').width('11%');$('p#1431dc1e-5e63-4aab-91d4-e2548e85cc1c').text('Elapsed time:  29.15s. Est. remaining time: 00:00:03:48.');"
       ],
       "metadata": {},
       "output_type": "display_data",
       "text": [
        "<IPython.core.display.Javascript at 0x10cfdbcf8>"
       ]
      },
      {
       "javascript": [
        "$('div#132a1492-d4e9-4ad4-a077-4ee46b43da89').width('12%');$('p#1431dc1e-5e63-4aab-91d4-e2548e85cc1c').text('Elapsed time:  29.24s. Est. remaining time: 00:00:03:34.');"
       ],
       "metadata": {},
       "output_type": "display_data",
       "text": [
        "<IPython.core.display.Javascript at 0x10cfd98d0>"
       ]
      },
      {
       "javascript": [
        "$('div#132a1492-d4e9-4ad4-a077-4ee46b43da89').width('13%');$('p#1431dc1e-5e63-4aab-91d4-e2548e85cc1c').text('Elapsed time:  29.33s. Est. remaining time: 00:00:03:10.');"
       ],
       "metadata": {},
       "output_type": "display_data",
       "text": [
        "<IPython.core.display.Javascript at 0x10d021908>"
       ]
      },
      {
       "javascript": [
        "$('div#132a1492-d4e9-4ad4-a077-4ee46b43da89').width('14%');$('p#1431dc1e-5e63-4aab-91d4-e2548e85cc1c').text('Elapsed time:  35.24s. Est. remaining time: 00:00:03:36.');"
       ],
       "metadata": {},
       "output_type": "display_data",
       "text": [
        "<IPython.core.display.Javascript at 0x10d01b4e0>"
       ]
      },
      {
       "javascript": [
        "$('div#132a1492-d4e9-4ad4-a077-4ee46b43da89').width('15%');$('p#1431dc1e-5e63-4aab-91d4-e2548e85cc1c').text('Elapsed time:  35.33s. Est. remaining time: 00:00:03:15.');"
       ],
       "metadata": {},
       "output_type": "display_data",
       "text": [
        "<IPython.core.display.Javascript at 0x10d07c198>"
       ]
      },
      {
       "javascript": [
        "$('div#132a1492-d4e9-4ad4-a077-4ee46b43da89').width('16%');$('p#1431dc1e-5e63-4aab-91d4-e2548e85cc1c').text('Elapsed time:  35.40s. Est. remaining time: 00:00:03:05.');"
       ],
       "metadata": {},
       "output_type": "display_data",
       "text": [
        "<IPython.core.display.Javascript at 0x10cf7f550>"
       ]
      },
      {
       "javascript": [
        "$('div#132a1492-d4e9-4ad4-a077-4ee46b43da89').width('17%');$('p#1431dc1e-5e63-4aab-91d4-e2548e85cc1c').text('Elapsed time:  40.90s. Est. remaining time: 00:00:03:15.');"
       ],
       "metadata": {},
       "output_type": "display_data",
       "text": [
        "<IPython.core.display.Javascript at 0x10d0ab748>"
       ]
      },
      {
       "javascript": [
        "$('div#132a1492-d4e9-4ad4-a077-4ee46b43da89').width('18%');$('p#1431dc1e-5e63-4aab-91d4-e2548e85cc1c').text('Elapsed time:  40.93s. Est. remaining time: 00:00:03:06.');"
       ],
       "metadata": {},
       "output_type": "display_data",
       "text": [
        "<IPython.core.display.Javascript at 0x10d0a6320>"
       ]
      },
      {
       "javascript": [
        "$('div#132a1492-d4e9-4ad4-a077-4ee46b43da89').width('19%');$('p#1431dc1e-5e63-4aab-91d4-e2548e85cc1c').text('Elapsed time:  46.60s. Est. remaining time: 00:00:03:14.');"
       ],
       "metadata": {},
       "output_type": "display_data",
       "text": [
        "<IPython.core.display.Javascript at 0x10d0f5358>"
       ]
      },
      {
       "javascript": [
        "$('div#132a1492-d4e9-4ad4-a077-4ee46b43da89').width('20%');$('p#1431dc1e-5e63-4aab-91d4-e2548e85cc1c').text('Elapsed time:  46.64s. Est. remaining time: 00:00:03:06.');"
       ],
       "metadata": {},
       "output_type": "display_data",
       "text": [
        "<IPython.core.display.Javascript at 0x10d113ef0>"
       ]
      },
      {
       "javascript": [
        "$('div#132a1492-d4e9-4ad4-a077-4ee46b43da89').width('21%');$('p#1431dc1e-5e63-4aab-91d4-e2548e85cc1c').text('Elapsed time:  46.74s. Est. remaining time: 00:00:02:52.');"
       ],
       "metadata": {},
       "output_type": "display_data",
       "text": [
        "<IPython.core.display.Javascript at 0x10d12ef28>"
       ]
      },
      {
       "javascript": [
        "$('div#132a1492-d4e9-4ad4-a077-4ee46b43da89').width('22%');$('p#1431dc1e-5e63-4aab-91d4-e2548e85cc1c').text('Elapsed time:  52.31s. Est. remaining time: 00:00:03:05.');"
       ],
       "metadata": {},
       "output_type": "display_data",
       "text": [
        "<IPython.core.display.Javascript at 0x10d128b00>"
       ]
      },
      {
       "javascript": [
        "$('div#132a1492-d4e9-4ad4-a077-4ee46b43da89').width('23%');$('p#1431dc1e-5e63-4aab-91d4-e2548e85cc1c').text('Elapsed time:  52.36s. Est. remaining time: 00:00:02:52.');"
       ],
       "metadata": {},
       "output_type": "display_data",
       "text": [
        "<IPython.core.display.Javascript at 0x10d19b0b8>"
       ]
      },
      {
       "javascript": [
        "$('div#132a1492-d4e9-4ad4-a077-4ee46b43da89').width('24%');$('p#1431dc1e-5e63-4aab-91d4-e2548e85cc1c').text('Elapsed time:  52.47s. Est. remaining time: 00:00:02:46.');"
       ],
       "metadata": {},
       "output_type": "display_data",
       "text": [
        "<IPython.core.display.Javascript at 0x10d18d470>"
       ]
      },
      {
       "javascript": [
        "$('div#132a1492-d4e9-4ad4-a077-4ee46b43da89').width('25%');$('p#1431dc1e-5e63-4aab-91d4-e2548e85cc1c').text('Elapsed time:  58.23s. Est. remaining time: 00:00:02:51.');"
       ],
       "metadata": {},
       "output_type": "display_data",
       "text": [
        "<IPython.core.display.Javascript at 0x10d1be748>"
       ]
      },
      {
       "javascript": [
        "$('div#132a1492-d4e9-4ad4-a077-4ee46b43da89').width('26%');$('p#1431dc1e-5e63-4aab-91d4-e2548e85cc1c').text('Elapsed time:  58.26s. Est. remaining time: 00:00:02:45.');"
       ],
       "metadata": {},
       "output_type": "display_data",
       "text": [
        "<IPython.core.display.Javascript at 0x10d1b8320>"
       ]
      },
      {
       "javascript": [
        "$('div#132a1492-d4e9-4ad4-a077-4ee46b43da89').width('27%');$('p#1431dc1e-5e63-4aab-91d4-e2548e85cc1c').text('Elapsed time:  64.09s. Est. remaining time: 00:00:02:50.');"
       ],
       "metadata": {},
       "output_type": "display_data",
       "text": [
        "<IPython.core.display.Javascript at 0x10d206358>"
       ]
      },
      {
       "javascript": [
        "$('div#132a1492-d4e9-4ad4-a077-4ee46b43da89').width('28%');$('p#1431dc1e-5e63-4aab-91d4-e2548e85cc1c').text('Elapsed time:  64.18s. Est. remaining time: 00:00:02:45.');"
       ],
       "metadata": {},
       "output_type": "display_data",
       "text": [
        "<IPython.core.display.Javascript at 0x10d226ef0>"
       ]
      },
      {
       "javascript": [
        "$('div#132a1492-d4e9-4ad4-a077-4ee46b43da89').width('29%');$('p#1431dc1e-5e63-4aab-91d4-e2548e85cc1c').text('Elapsed time:  64.27s. Est. remaining time: 00:00:02:34.');"
       ],
       "metadata": {},
       "output_type": "display_data",
       "text": [
        "<IPython.core.display.Javascript at 0x10d242f28>"
       ]
      },
      {
       "javascript": [
        "$('div#132a1492-d4e9-4ad4-a077-4ee46b43da89').width('30%');$('p#1431dc1e-5e63-4aab-91d4-e2548e85cc1c').text('Elapsed time:  69.91s. Est. remaining time: 00:00:02:43.');"
       ],
       "metadata": {},
       "output_type": "display_data",
       "text": [
        "<IPython.core.display.Javascript at 0x10d23eb00>"
       ]
      },
      {
       "javascript": [
        "$('div#132a1492-d4e9-4ad4-a077-4ee46b43da89').width('31%');$('p#1431dc1e-5e63-4aab-91d4-e2548e85cc1c').text('Elapsed time:  70.00s. Est. remaining time: 00:00:02:33.');"
       ],
       "metadata": {},
       "output_type": "display_data",
       "text": [
        "<IPython.core.display.Javascript at 0x10d286b38>"
       ]
      },
      {
       "javascript": [
        "$('div#132a1492-d4e9-4ad4-a077-4ee46b43da89').width('32%');$('p#1431dc1e-5e63-4aab-91d4-e2548e85cc1c').text('Elapsed time:  70.06s. Est. remaining time: 00:00:02:28.');"
       ],
       "metadata": {},
       "output_type": "display_data",
       "text": [
        "<IPython.core.display.Javascript at 0x10d284710>"
       ]
      },
      {
       "javascript": [
        "$('div#132a1492-d4e9-4ad4-a077-4ee46b43da89').width('33%');$('p#1431dc1e-5e63-4aab-91d4-e2548e85cc1c').text('Elapsed time:  75.59s. Est. remaining time: 00:00:02:31.');"
       ],
       "metadata": {},
       "output_type": "display_data",
       "text": [
        "<IPython.core.display.Javascript at 0x10d2cc748>"
       ]
      },
      {
       "javascript": [
        "$('div#132a1492-d4e9-4ad4-a077-4ee46b43da89').width('34%');$('p#1431dc1e-5e63-4aab-91d4-e2548e85cc1c').text('Elapsed time:  75.63s. Est. remaining time: 00:00:02:26.');"
       ],
       "metadata": {},
       "output_type": "display_data",
       "text": [
        "<IPython.core.display.Javascript at 0x10d2c7320>"
       ]
      },
      {
       "javascript": [
        "$('div#132a1492-d4e9-4ad4-a077-4ee46b43da89').width('35%');$('p#1431dc1e-5e63-4aab-91d4-e2548e85cc1c').text('Elapsed time:  80.86s. Est. remaining time: 00:00:02:27.');"
       ],
       "metadata": {},
       "output_type": "display_data",
       "text": [
        "<IPython.core.display.Javascript at 0x10d317358>"
       ]
      },
      {
       "javascript": [
        "$('div#132a1492-d4e9-4ad4-a077-4ee46b43da89').width('36%');$('p#1431dc1e-5e63-4aab-91d4-e2548e85cc1c').text('Elapsed time:  80.96s. Est. remaining time: 00:00:02:23.');"
       ],
       "metadata": {},
       "output_type": "display_data",
       "text": [
        "<IPython.core.display.Javascript at 0x10d336ef0>"
       ]
      },
      {
       "javascript": [
        "$('div#132a1492-d4e9-4ad4-a077-4ee46b43da89').width('37%');$('p#1431dc1e-5e63-4aab-91d4-e2548e85cc1c').text('Elapsed time:  81.06s. Est. remaining time: 00:00:02:16.');"
       ],
       "metadata": {},
       "output_type": "display_data",
       "text": [
        "<IPython.core.display.Javascript at 0x10d3516a0>"
       ]
      },
      {
       "javascript": [
        "$('div#132a1492-d4e9-4ad4-a077-4ee46b43da89').width('38%');$('p#1431dc1e-5e63-4aab-91d4-e2548e85cc1c').text('Elapsed time:  87.65s. Est. remaining time: 00:00:02:23.');"
       ],
       "metadata": {},
       "output_type": "display_data",
       "text": [
        "<IPython.core.display.Javascript at 0x10d35f9e8>"
       ]
      },
      {
       "javascript": [
        "$('div#132a1492-d4e9-4ad4-a077-4ee46b43da89').width('39%');$('p#1431dc1e-5e63-4aab-91d4-e2548e85cc1c').text('Elapsed time:  88.08s. Est. remaining time: 00:00:02:15.');"
       ],
       "metadata": {},
       "output_type": "display_data",
       "text": [
        "<IPython.core.display.Javascript at 0x10d326b00>"
       ]
      },
      {
       "javascript": [
        "$('div#132a1492-d4e9-4ad4-a077-4ee46b43da89').width('40%');$('p#1431dc1e-5e63-4aab-91d4-e2548e85cc1c').text('Elapsed time:  88.16s. Est. remaining time: 00:00:02:12.');"
       ],
       "metadata": {},
       "output_type": "display_data",
       "text": [
        "<IPython.core.display.Javascript at 0x10d3d59b0>"
       ]
      },
      {
       "javascript": [
        "$('div#132a1492-d4e9-4ad4-a077-4ee46b43da89').width('41%');$('p#1431dc1e-5e63-4aab-91d4-e2548e85cc1c').text('Elapsed time:  94.64s. Est. remaining time: 00:00:02:14.');"
       ],
       "metadata": {},
       "output_type": "display_data",
       "text": [
        "<IPython.core.display.Javascript at 0x10d3dd898>"
       ]
      },
      {
       "javascript": [
        "$('div#132a1492-d4e9-4ad4-a077-4ee46b43da89').width('42%');$('p#1431dc1e-5e63-4aab-91d4-e2548e85cc1c').text('Elapsed time:  94.66s. Est. remaining time: 00:00:02:10.');"
       ],
       "metadata": {},
       "output_type": "display_data",
       "text": [
        "<IPython.core.display.Javascript at 0x10d3e2470>"
       ]
      },
      {
       "javascript": [
        "$('div#132a1492-d4e9-4ad4-a077-4ee46b43da89').width('43%');$('p#1431dc1e-5e63-4aab-91d4-e2548e85cc1c').text('Elapsed time: 100.47s. Est. remaining time: 00:00:02:11.');"
       ],
       "metadata": {},
       "output_type": "display_data",
       "text": [
        "<IPython.core.display.Javascript at 0x10d42d4a8>"
       ]
      },
      {
       "javascript": [
        "$('div#132a1492-d4e9-4ad4-a077-4ee46b43da89').width('44%');$('p#1431dc1e-5e63-4aab-91d4-e2548e85cc1c').text('Elapsed time: 100.83s. Est. remaining time: 00:00:02:08.');"
       ],
       "metadata": {},
       "output_type": "display_data",
       "text": [
        "<IPython.core.display.Javascript at 0x10d44cb00>"
       ]
      },
      {
       "javascript": [
        "$('div#132a1492-d4e9-4ad4-a077-4ee46b43da89').width('45%');$('p#1431dc1e-5e63-4aab-91d4-e2548e85cc1c').text('Elapsed time: 100.85s. Est. remaining time: 00:00:02:01.');"
       ],
       "metadata": {},
       "output_type": "display_data",
       "text": [
        "<IPython.core.display.Javascript at 0x10d472a58>"
       ]
      },
      {
       "javascript": [
        "$('div#132a1492-d4e9-4ad4-a077-4ee46b43da89').width('46%');$('p#1431dc1e-5e63-4aab-91d4-e2548e85cc1c').text('Elapsed time: 106.35s. Est. remaining time: 00:00:02:04.');"
       ],
       "metadata": {},
       "output_type": "display_data",
       "text": [
        "<IPython.core.display.Javascript at 0x107d58278>"
       ]
      },
      {
       "javascript": [
        "$('div#132a1492-d4e9-4ad4-a077-4ee46b43da89').width('47%');$('p#1431dc1e-5e63-4aab-91d4-e2548e85cc1c').text('Elapsed time: 106.64s. Est. remaining time: 00:00:01:58.');"
       ],
       "metadata": {},
       "output_type": "display_data",
       "text": [
        "<IPython.core.display.Javascript at 0x10d4b0518>"
       ]
      },
      {
       "javascript": [
        "$('div#132a1492-d4e9-4ad4-a077-4ee46b43da89').width('48%');$('p#1431dc1e-5e63-4aab-91d4-e2548e85cc1c').text('Elapsed time: 106.68s. Est. remaining time: 00:00:01:55.');"
       ],
       "metadata": {},
       "output_type": "display_data",
       "text": [
        "<IPython.core.display.Javascript at 0x10d4a90f0>"
       ]
      },
      {
       "javascript": [
        "$('div#132a1492-d4e9-4ad4-a077-4ee46b43da89').width('49%');$('p#1431dc1e-5e63-4aab-91d4-e2548e85cc1c').text('Elapsed time: 112.60s. Est. remaining time: 00:00:01:55.');"
       ],
       "metadata": {},
       "output_type": "display_data",
       "text": [
        "<IPython.core.display.Javascript at 0x10d4f6128>"
       ]
      },
      {
       "javascript": [
        "$('div#132a1492-d4e9-4ad4-a077-4ee46b43da89').width('50%');$('p#1431dc1e-5e63-4aab-91d4-e2548e85cc1c').text('Elapsed time: 112.61s. Est. remaining time: 00:00:01:52.');"
       ],
       "metadata": {},
       "output_type": "display_data",
       "text": [
        "<IPython.core.display.Javascript at 0x10d4eacc0>"
       ]
      },
      {
       "javascript": [
        "$('div#132a1492-d4e9-4ad4-a077-4ee46b43da89').width('51%');$('p#1431dc1e-5e63-4aab-91d4-e2548e85cc1c').text('Elapsed time: 117.77s. Est. remaining time: 00:00:01:51.');"
       ],
       "metadata": {},
       "output_type": "display_data",
       "text": [
        "<IPython.core.display.Javascript at 0x10d52f278>"
       ]
      },
      {
       "javascript": [
        "$('div#132a1492-d4e9-4ad4-a077-4ee46b43da89').width('52%');$('p#1431dc1e-5e63-4aab-91d4-e2548e85cc1c').text('Elapsed time: 117.96s. Est. remaining time: 00:00:01:48.');"
       ],
       "metadata": {},
       "output_type": "display_data",
       "text": [
        "<IPython.core.display.Javascript at 0x10d55def0>"
       ]
      },
      {
       "javascript": [
        "$('div#132a1492-d4e9-4ad4-a077-4ee46b43da89').width('53%');$('p#1431dc1e-5e63-4aab-91d4-e2548e85cc1c').text('Elapsed time: 118.00s. Est. remaining time: 00:00:01:43.');"
       ],
       "metadata": {},
       "output_type": "display_data",
       "text": [
        "<IPython.core.display.Javascript at 0x10d58d208>"
       ]
      },
      {
       "javascript": [
        "$('div#132a1492-d4e9-4ad4-a077-4ee46b43da89').width('54%');$('p#1431dc1e-5e63-4aab-91d4-e2548e85cc1c').text('Elapsed time: 123.17s. Est. remaining time: 00:00:01:44.');"
       ],
       "metadata": {},
       "output_type": "display_data",
       "text": [
        "<IPython.core.display.Javascript at 0x10d573470>"
       ]
      },
      {
       "javascript": [
        "$('div#132a1492-d4e9-4ad4-a077-4ee46b43da89').width('55%');$('p#1431dc1e-5e63-4aab-91d4-e2548e85cc1c').text('Elapsed time: 123.41s. Est. remaining time: 00:00:01:39.');"
       ],
       "metadata": {},
       "output_type": "display_data",
       "text": [
        "<IPython.core.display.Javascript at 0x10d5c44a8>"
       ]
      },
      {
       "javascript": [
        "$('div#132a1492-d4e9-4ad4-a077-4ee46b43da89').width('56%');$('p#1431dc1e-5e63-4aab-91d4-e2548e85cc1c').text('Elapsed time: 123.42s. Est. remaining time: 00:00:01:36.');"
       ],
       "metadata": {},
       "output_type": "display_data",
       "text": [
        "<IPython.core.display.Javascript at 0x10d5bf080>"
       ]
      },
      {
       "javascript": [
        "$('div#132a1492-d4e9-4ad4-a077-4ee46b43da89').width('57%');$('p#1431dc1e-5e63-4aab-91d4-e2548e85cc1c').text('Elapsed time: 128.75s. Est. remaining time: 00:00:01:35.');"
       ],
       "metadata": {},
       "output_type": "display_data",
       "text": [
        "<IPython.core.display.Javascript at 0x10d60a0b8>"
       ]
      },
      {
       "javascript": [
        "$('div#132a1492-d4e9-4ad4-a077-4ee46b43da89').width('58%');$('p#1431dc1e-5e63-4aab-91d4-e2548e85cc1c').text('Elapsed time: 128.77s. Est. remaining time: 00:00:01:30.');"
       ],
       "metadata": {},
       "output_type": "display_data",
       "text": [
        "<IPython.core.display.Javascript at 0x10d62f6a0>"
       ]
      },
      {
       "javascript": [
        "$('div#132a1492-d4e9-4ad4-a077-4ee46b43da89').width('59%');$('p#1431dc1e-5e63-4aab-91d4-e2548e85cc1c').text('Elapsed time: 133.98s. Est. remaining time: 00:00:01:31.');"
       ],
       "metadata": {},
       "output_type": "display_data",
       "text": [
        "<IPython.core.display.Javascript at 0x10d6313c8>"
       ]
      },
      {
       "javascript": [
        "$('div#132a1492-d4e9-4ad4-a077-4ee46b43da89').width('60%');$('p#1431dc1e-5e63-4aab-91d4-e2548e85cc1c').text('Elapsed time: 134.27s. Est. remaining time: 00:00:01:29.');"
       ],
       "metadata": {},
       "output_type": "display_data",
       "text": [
        "<IPython.core.display.Javascript at 0x10d657080>"
       ]
      },
      {
       "javascript": [
        "$('div#132a1492-d4e9-4ad4-a077-4ee46b43da89').width('61%');$('p#1431dc1e-5e63-4aab-91d4-e2548e85cc1c').text('Elapsed time: 134.30s. Est. remaining time: 00:00:01:24.');"
       ],
       "metadata": {},
       "output_type": "display_data",
       "text": [
        "<IPython.core.display.Javascript at 0x10d688940>"
       ]
      },
      {
       "javascript": [
        "$('div#132a1492-d4e9-4ad4-a077-4ee46b43da89').width('62%');$('p#1431dc1e-5e63-4aab-91d4-e2548e85cc1c').text('Elapsed time: 139.44s. Est. remaining time: 00:00:01:25.');"
       ],
       "metadata": {},
       "output_type": "display_data",
       "text": [
        "<IPython.core.display.Javascript at 0x10d685470>"
       ]
      },
      {
       "javascript": [
        "$('div#132a1492-d4e9-4ad4-a077-4ee46b43da89').width('63%');$('p#1431dc1e-5e63-4aab-91d4-e2548e85cc1c').text('Elapsed time: 139.76s. Est. remaining time: 00:00:01:20.');"
       ],
       "metadata": {},
       "output_type": "display_data",
       "text": [
        "<IPython.core.display.Javascript at 0x10d6d54a8>"
       ]
      },
      {
       "javascript": [
        "$('div#132a1492-d4e9-4ad4-a077-4ee46b43da89').width('64%');$('p#1431dc1e-5e63-4aab-91d4-e2548e85cc1c').text('Elapsed time: 139.79s. Est. remaining time: 00:00:01:18.');"
       ],
       "metadata": {},
       "output_type": "display_data",
       "text": [
        "<IPython.core.display.Javascript at 0x10d6d0080>"
       ]
      },
      {
       "javascript": [
        "$('div#132a1492-d4e9-4ad4-a077-4ee46b43da89').width('65%');$('p#1431dc1e-5e63-4aab-91d4-e2548e85cc1c').text('Elapsed time: 145.08s. Est. remaining time: 00:00:01:16.');"
       ],
       "metadata": {},
       "output_type": "display_data",
       "text": [
        "<IPython.core.display.Javascript at 0x10d71a0b8>"
       ]
      },
      {
       "javascript": [
        "$('div#132a1492-d4e9-4ad4-a077-4ee46b43da89').width('66%');$('p#1431dc1e-5e63-4aab-91d4-e2548e85cc1c').text('Elapsed time: 145.10s. Est. remaining time: 00:00:01:14.');"
       ],
       "metadata": {},
       "output_type": "display_data",
       "text": [
        "<IPython.core.display.Javascript at 0x10d707c50>"
       ]
      },
      {
       "javascript": [
        "$('div#132a1492-d4e9-4ad4-a077-4ee46b43da89').width('67%');$('p#1431dc1e-5e63-4aab-91d4-e2548e85cc1c').text('Elapsed time: 150.49s. Est. remaining time: 00:00:01:13.');"
       ],
       "metadata": {},
       "output_type": "display_data",
       "text": [
        "<IPython.core.display.Javascript at 0x10d755c88>"
       ]
      },
      {
       "javascript": [
        "$('div#132a1492-d4e9-4ad4-a077-4ee46b43da89').width('68%');$('p#1431dc1e-5e63-4aab-91d4-e2548e85cc1c').text('Elapsed time: 150.81s. Est. remaining time: 00:00:01:10.');"
       ],
       "metadata": {},
       "output_type": "display_data",
       "text": [
        "<IPython.core.display.Javascript at 0x10d753860>"
       ]
      },
      {
       "javascript": [
        "$('div#132a1492-d4e9-4ad4-a077-4ee46b43da89').width('69%');$('p#1431dc1e-5e63-4aab-91d4-e2548e85cc1c').text('Elapsed time: 150.91s. Est. remaining time: 00:00:01:06.');"
       ],
       "metadata": {},
       "output_type": "display_data",
       "text": [
        "<IPython.core.display.Javascript at 0x10d79e898>"
       ]
      },
      {
       "javascript": [
        "$('div#132a1492-d4e9-4ad4-a077-4ee46b43da89').width('70%');$('p#1431dc1e-5e63-4aab-91d4-e2548e85cc1c').text('Elapsed time: 155.99s. Est. remaining time: 00:00:01:06.');"
       ],
       "metadata": {},
       "output_type": "display_data",
       "text": [
        "<IPython.core.display.Javascript at 0x10d796470>"
       ]
      },
      {
       "javascript": [
        "$('div#132a1492-d4e9-4ad4-a077-4ee46b43da89').width('71%');$('p#1431dc1e-5e63-4aab-91d4-e2548e85cc1c').text('Elapsed time: 156.35s. Est. remaining time: 00:00:01:02.');"
       ],
       "metadata": {},
       "output_type": "display_data",
       "text": [
        "<IPython.core.display.Javascript at 0x10d7e54a8>"
       ]
      },
      {
       "javascript": [
        "$('div#132a1492-d4e9-4ad4-a077-4ee46b43da89').width('72%');$('p#1431dc1e-5e63-4aab-91d4-e2548e85cc1c').text('Elapsed time: 156.46s. Est. remaining time: 00:00:01:00.');"
       ],
       "metadata": {},
       "output_type": "display_data",
       "text": [
        "<IPython.core.display.Javascript at 0x10d7e2080>"
       ]
      },
      {
       "javascript": [
        "$('div#132a1492-d4e9-4ad4-a077-4ee46b43da89').width('73%');$('p#1431dc1e-5e63-4aab-91d4-e2548e85cc1c').text('Elapsed time: 161.69s. Est. remaining time: 00:00:00:58.');"
       ],
       "metadata": {},
       "output_type": "display_data",
       "text": [
        "<IPython.core.display.Javascript at 0x10d8445f8>"
       ]
      },
      {
       "javascript": [
        "$('div#132a1492-d4e9-4ad4-a077-4ee46b43da89').width('74%');$('p#1431dc1e-5e63-4aab-91d4-e2548e85cc1c').text('Elapsed time: 161.91s. Est. remaining time: 00:00:00:56.');"
       ],
       "metadata": {},
       "output_type": "display_data",
       "text": [
        "<IPython.core.display.Javascript at 0x10d82e9b0>"
       ]
      },
      {
       "javascript": [
        "$('div#132a1492-d4e9-4ad4-a077-4ee46b43da89').width('75%');$('p#1431dc1e-5e63-4aab-91d4-e2548e85cc1c').text('Elapsed time: 167.00s. Est. remaining time: 00:00:00:54.');"
       ],
       "metadata": {},
       "output_type": "display_data",
       "text": [
        "<IPython.core.display.Javascript at 0x10d865dd8>"
       ]
      },
      {
       "javascript": [
        "$('div#132a1492-d4e9-4ad4-a077-4ee46b43da89').width('76%');$('p#1431dc1e-5e63-4aab-91d4-e2548e85cc1c').text('Elapsed time: 167.17s. Est. remaining time: 00:00:00:52.');"
       ],
       "metadata": {},
       "output_type": "display_data",
       "text": [
        "<IPython.core.display.Javascript at 0x10d8639b0>"
       ]
      },
      {
       "javascript": [
        "$('div#132a1492-d4e9-4ad4-a077-4ee46b43da89').width('77%');$('p#1431dc1e-5e63-4aab-91d4-e2548e85cc1c').text('Elapsed time: 167.49s. Est. remaining time: 00:00:00:49.');"
       ],
       "metadata": {},
       "output_type": "display_data",
       "text": [
        "<IPython.core.display.Javascript at 0x10d8ad9e8>"
       ]
      },
      {
       "javascript": [
        "$('div#132a1492-d4e9-4ad4-a077-4ee46b43da89').width('78%');$('p#1431dc1e-5e63-4aab-91d4-e2548e85cc1c').text('Elapsed time: 172.44s. Est. remaining time: 00:00:00:48.');"
       ],
       "metadata": {},
       "output_type": "display_data",
       "text": [
        "<IPython.core.display.Javascript at 0x10d8a65c0>"
       ]
      },
      {
       "javascript": [
        "$('div#132a1492-d4e9-4ad4-a077-4ee46b43da89').width('79%');$('p#1431dc1e-5e63-4aab-91d4-e2548e85cc1c').text('Elapsed time: 172.88s. Est. remaining time: 00:00:00:45.');"
       ],
       "metadata": {},
       "output_type": "display_data",
       "text": [
        "<IPython.core.display.Javascript at 0x10d8f55f8>"
       ]
      },
      {
       "javascript": [
        "$('div#132a1492-d4e9-4ad4-a077-4ee46b43da89').width('80%');$('p#1431dc1e-5e63-4aab-91d4-e2548e85cc1c').text('Elapsed time: 172.99s. Est. remaining time: 00:00:00:43.');"
       ],
       "metadata": {},
       "output_type": "display_data",
       "text": [
        "<IPython.core.display.Javascript at 0x10d8f21d0>"
       ]
      },
      {
       "javascript": [
        "$('div#132a1492-d4e9-4ad4-a077-4ee46b43da89').width('81%');$('p#1431dc1e-5e63-4aab-91d4-e2548e85cc1c').text('Elapsed time: 178.24s. Est. remaining time: 00:00:00:40.');"
       ],
       "metadata": {},
       "output_type": "display_data",
       "text": [
        "<IPython.core.display.Javascript at 0x10d93d208>"
       ]
      },
      {
       "javascript": [
        "$('div#132a1492-d4e9-4ad4-a077-4ee46b43da89').width('82%');$('p#1431dc1e-5e63-4aab-91d4-e2548e85cc1c').text('Elapsed time: 178.46s. Est. remaining time: 00:00:00:39.');"
       ],
       "metadata": {},
       "output_type": "display_data",
       "text": [
        "<IPython.core.display.Javascript at 0x10d95bda0>"
       ]
      },
      {
       "javascript": [
        "$('div#132a1492-d4e9-4ad4-a077-4ee46b43da89').width('83%');$('p#1431dc1e-5e63-4aab-91d4-e2548e85cc1c').text('Elapsed time: 183.42s. Est. remaining time: 00:00:00:36.');"
       ],
       "metadata": {},
       "output_type": "display_data",
       "text": [
        "<IPython.core.display.Javascript at 0x10d975dd8>"
       ]
      },
      {
       "javascript": [
        "$('div#132a1492-d4e9-4ad4-a077-4ee46b43da89').width('84%');$('p#1431dc1e-5e63-4aab-91d4-e2548e85cc1c').text('Elapsed time: 183.69s. Est. remaining time: 00:00:00:34.');"
       ],
       "metadata": {},
       "output_type": "display_data",
       "text": [
        "<IPython.core.display.Javascript at 0x10d9a4470>"
       ]
      },
      {
       "javascript": [
        "$('div#132a1492-d4e9-4ad4-a077-4ee46b43da89').width('85%');$('p#1431dc1e-5e63-4aab-91d4-e2548e85cc1c').text('Elapsed time: 183.99s. Est. remaining time: 00:00:00:31.');"
       ],
       "metadata": {},
       "output_type": "display_data",
       "text": [
        "<IPython.core.display.Javascript at 0x10d9cb748>"
       ]
      },
      {
       "javascript": [
        "$('div#132a1492-d4e9-4ad4-a077-4ee46b43da89').width('86%');$('p#1431dc1e-5e63-4aab-91d4-e2548e85cc1c').text('Elapsed time: 188.93s. Est. remaining time: 00:00:00:30.');"
       ],
       "metadata": {},
       "output_type": "display_data",
       "text": [
        "<IPython.core.display.Javascript at 0x10d9ba5c0>"
       ]
      },
      {
       "javascript": [
        "$('div#132a1492-d4e9-4ad4-a077-4ee46b43da89').width('87%');$('p#1431dc1e-5e63-4aab-91d4-e2548e85cc1c').text('Elapsed time: 189.43s. Est. remaining time: 00:00:00:27.');"
       ],
       "metadata": {},
       "output_type": "display_data",
       "text": [
        "<IPython.core.display.Javascript at 0x10d9f6b38>"
       ]
      },
      {
       "javascript": [
        "$('div#132a1492-d4e9-4ad4-a077-4ee46b43da89').width('88%');$('p#1431dc1e-5e63-4aab-91d4-e2548e85cc1c').text('Elapsed time: 189.51s. Est. remaining time: 00:00:00:25.');"
       ],
       "metadata": {},
       "output_type": "display_data",
       "text": [
        "<IPython.core.display.Javascript at 0x10da27ef0>"
       ]
      },
      {
       "javascript": [
        "$('div#132a1492-d4e9-4ad4-a077-4ee46b43da89').width('89%');$('p#1431dc1e-5e63-4aab-91d4-e2548e85cc1c').text('Elapsed time: 194.51s. Est. remaining time: 00:00:00:23.');"
       ],
       "metadata": {},
       "output_type": "display_data",
       "text": [
        "<IPython.core.display.Javascript at 0x10da4d208>"
       ]
      },
      {
       "javascript": [
        "$('div#132a1492-d4e9-4ad4-a077-4ee46b43da89').width('90%');$('p#1431dc1e-5e63-4aab-91d4-e2548e85cc1c').text('Elapsed time: 194.78s. Est. remaining time: 00:00:00:21.');"
       ],
       "metadata": {},
       "output_type": "display_data",
       "text": [
        "<IPython.core.display.Javascript at 0x10da6dda0>"
       ]
      },
      {
       "javascript": [
        "$('div#132a1492-d4e9-4ad4-a077-4ee46b43da89').width('91%');$('p#1431dc1e-5e63-4aab-91d4-e2548e85cc1c').text('Elapsed time: 199.63s. Est. remaining time: 00:00:00:18.');"
       ],
       "metadata": {},
       "output_type": "display_data",
       "text": [
        "<IPython.core.display.Javascript at 0x10da89dd8>"
       ]
      },
      {
       "javascript": [
        "$('div#132a1492-d4e9-4ad4-a077-4ee46b43da89').width('92%');$('p#1431dc1e-5e63-4aab-91d4-e2548e85cc1c').text('Elapsed time: 199.85s. Est. remaining time: 00:00:00:17.');"
       ],
       "metadata": {},
       "output_type": "display_data",
       "text": [
        "<IPython.core.display.Javascript at 0x10da859b0>"
       ]
      },
      {
       "javascript": [
        "$('div#132a1492-d4e9-4ad4-a077-4ee46b43da89').width('93%');$('p#1431dc1e-5e63-4aab-91d4-e2548e85cc1c').text('Elapsed time: 200.19s. Est. remaining time: 00:00:00:14.');"
       ],
       "metadata": {},
       "output_type": "display_data",
       "text": [
        "<IPython.core.display.Javascript at 0x10dad09e8>"
       ]
      },
      {
       "javascript": [
        "$('div#132a1492-d4e9-4ad4-a077-4ee46b43da89').width('94%');$('p#1431dc1e-5e63-4aab-91d4-e2548e85cc1c').text('Elapsed time: 205.10s. Est. remaining time: 00:00:00:13.');"
       ],
       "metadata": {},
       "output_type": "display_data",
       "text": [
        "<IPython.core.display.Javascript at 0x10dad35c0>"
       ]
      },
      {
       "javascript": [
        "$('div#132a1492-d4e9-4ad4-a077-4ee46b43da89').width('95%');$('p#1431dc1e-5e63-4aab-91d4-e2548e85cc1c').text('Elapsed time: 205.69s. Est. remaining time: 00:00:00:10.');"
       ],
       "metadata": {},
       "output_type": "display_data",
       "text": [
        "<IPython.core.display.Javascript at 0x10db155f8>"
       ]
      },
      {
       "javascript": [
        "$('div#132a1492-d4e9-4ad4-a077-4ee46b43da89').width('96%');$('p#1431dc1e-5e63-4aab-91d4-e2548e85cc1c').text('Elapsed time: 205.75s. Est. remaining time: 00:00:00:08.');"
       ],
       "metadata": {},
       "output_type": "display_data",
       "text": [
        "<IPython.core.display.Javascript at 0x10db0e1d0>"
       ]
      },
      {
       "javascript": [
        "$('div#132a1492-d4e9-4ad4-a077-4ee46b43da89').width('97%');$('p#1431dc1e-5e63-4aab-91d4-e2548e85cc1c').text('Elapsed time: 210.92s. Est. remaining time: 00:00:00:05.');"
       ],
       "metadata": {},
       "output_type": "display_data",
       "text": [
        "<IPython.core.display.Javascript at 0x10db5e208>"
       ]
      },
      {
       "javascript": [
        "$('div#132a1492-d4e9-4ad4-a077-4ee46b43da89').width('98%');$('p#1431dc1e-5e63-4aab-91d4-e2548e85cc1c').text('Elapsed time: 211.24s. Est. remaining time: 00:00:00:04.');"
       ],
       "metadata": {},
       "output_type": "display_data",
       "text": [
        "<IPython.core.display.Javascript at 0x10db33588>"
       ]
      },
      {
       "javascript": [
        "$('div#132a1492-d4e9-4ad4-a077-4ee46b43da89').width('99%');$('p#1431dc1e-5e63-4aab-91d4-e2548e85cc1c').text('Elapsed time: 215.84s. Est. remaining time: 00:00:00:01.');"
       ],
       "metadata": {},
       "output_type": "display_data",
       "text": [
        "<IPython.core.display.Javascript at 0x10db81dd8>"
       ]
      },
      {
       "javascript": [
        "$('div#132a1492-d4e9-4ad4-a077-4ee46b43da89').width('100%');$('p#1431dc1e-5e63-4aab-91d4-e2548e85cc1c').text('Elapsed time: 216.13s. Est. remaining time: 00:00:00:00.');"
       ],
       "metadata": {},
       "output_type": "display_data",
       "text": [
        "<IPython.core.display.Javascript at 0x10dbac400>"
       ]
      },
      {
       "javascript": [
        "$('div#132a1492-d4e9-4ad4-a077-4ee46b43da89').width('100%');$('p#1431dc1e-5e63-4aab-91d4-e2548e85cc1c').text('Elapsed time: 216.13s');"
       ],
       "metadata": {},
       "output_type": "display_data",
       "text": [
        "<IPython.core.display.Javascript at 0x10c050fd0>"
       ]
      }
     ],
     "prompt_number": 13
    },
    {
     "cell_type": "raw",
     "metadata": {},
     "source": [
      "# alternative: use the parallel_map based on IPython.parallel\n",
      "from qutip.ipynbtools import parallel_map as ip_parallel_map\n",
      "result2 = smesolve(H, rho0, times, c_ops=c_ops, sc_ops=sc_ops, e_ops=e_ops, \n",
      "                   ntraj=ntraj, nsubsteps=100, method='photocurrent',\n",
      "                   store_measurement=True,\n",
      "                   options=Options(store_states=True),\n",
      "                   progress_bar=HTMLProgressBar(),\n",
      "                   map_func=ip_parallel_map)"
     ]
    },
    {
     "cell_type": "code",
     "collapsed": false,
     "input": [
      "fig, axes = plt.subplots(2, 3, figsize=(16, 8), sharex=True)\n",
      "\n",
      "axes[0,0].plot(times, result1.expect[0], label=r'Stochastic ME (ntraj = 1)', lw=2)\n",
      "axes[0,0].plot(times, result_ref.expect[0], label=r'Lindblad ME', lw=2)\n",
      "axes[0,0].set_title(\"Cavity photon number (ntraj = 1)\")\n",
      "axes[0,0].legend()\n",
      "\n",
      "axes[1,0].plot(times, result2.expect[0], label=r'Stochatic ME (ntraj = %d)' % ntraj, lw=2)\n",
      "axes[1,0].plot(times, result_ref.expect[0], label=r'Lindblad ME', lw=2)\n",
      "axes[1,0].set_title(\"Cavity photon number (ntraj = 10)\")\n",
      "axes[1,0].legend()\n",
      "\n",
      "\n",
      "axes[0,1].plot(times, result1.expect[2], label=r'Stochastic ME (ntraj = 1)', lw=2)\n",
      "axes[0,1].plot(times, result_ref.expect[2], label=r'Lindblad ME', lw=2)\n",
      "axes[0,1].set_title(\"Qubit excition probability (ntraj = 1)\")\n",
      "axes[0,1].legend()\n",
      "\n",
      "axes[1,1].plot(times, result2.expect[2], label=r'Stochatic ME (ntraj = %d)' % ntraj, lw=2)\n",
      "axes[1,1].plot(times, result_ref.expect[2], label=r'Lindblad ME', lw=2)\n",
      "axes[1,1].set_title(\"Qubit excition probability (ntraj = %d)\" % ntraj)\n",
      "axes[1,1].legend()\n",
      "\n",
      "\n",
      "axes[0,2].step(times, dt * np.cumsum(result1.measurement[0].real), lw=2)\n",
      "axes[0,2].set_title(\"Cummulative photon detections (ntraj = 1)\")\n",
      "axes[1,2].step(times, dt * np.cumsum(np.array(result2.measurement).sum(axis=0).real) / ntraj, lw=2)\n",
      "axes[1,2].set_title(\"Cummulative avg. photon detections (ntraj = %d)\" % ntraj)\n",
      "\n",
      "fig.tight_layout()"
     ],
     "language": "python",
     "metadata": {},
     "outputs": [
      {
       "metadata": {},
       "output_type": "display_data",
       "png": "[encoded data removed]",
       "text": [
        "<matplotlib.figure.Figure at 0x10d65f5f8>"
       ]
      }
     ],
     "prompt_number": 14
    },
    {
     "cell_type": "heading",
     "level": 2,
     "metadata": {},
     "source": [
      "Versions"
     ]
    },
    {
     "cell_type": "code",
     "collapsed": false,
     "input": [
      "from qutip.ipynbtools import version_table\n",
      "\n",
      "version_table()"
     ],
     "language": "python",
     "metadata": {},
     "outputs": [
      {
       "html": [
        "<table><tr><th>Software</th><th>Version</th></tr><tr><td>Python</td><td>3.4.2 (default, Oct 19 2014, 08:26:16) \n",
        "[GCC 4.2.1 Compatible Apple LLVM 6.0 (clang-600.0.51)]</td></tr><tr><td>matplotlib</td><td>1.4.2</td></tr><tr><td>Numpy</td><td>1.10.0.dev-27d73bf</td></tr><tr><td>Cython</td><td>0.20.1</td></tr><tr><td>OS</td><td>posix [darwin]</td></tr><tr><td>SciPy</td><td>0.14.0</td></tr><tr><td>QuTiP</td><td>3.1.0.dev-080a16c</td></tr><tr><td>IPython</td><td>2.3.0</td></tr><tr><td colspan='2'>Sat Nov 22 14:50:30 2014 JST</td></tr></table>"
       ],
       "metadata": {},
       "output_type": "pyout",
       "prompt_number": 15,
       "text": [
        "<IPython.core.display.HTML at 0x10bfff4a8>"
       ]
      }
     ],
     "prompt_number": 15
    }
   ],
   "metadata": {}
  }
 ]
}