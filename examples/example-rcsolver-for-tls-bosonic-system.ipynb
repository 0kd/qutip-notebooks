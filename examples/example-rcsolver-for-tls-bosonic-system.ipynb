{
 "metadata": {
  "name": "",
  "signature": "sha256:3025b3595430ee1a72cfc05ab2abf30701d43ca0e85f105f02a638581034776f"
 },
 "nbformat": 3,
 "nbformat_minor": 0,
 "worksheets": [
  {
   "cells": [
    {
     "cell_type": "heading",
     "level": 1,
     "metadata": {},
     "source": [
      "Reaction coordinate solver for 2-level bosonic system  "
     ]
    },
    {
     "cell_type": "markdown",
     "metadata": {},
     "source": [
      "Author: Neill Lambert (nwlambert@gmail.com)\n",
      "        Anubhav Vardhan (anubhavvardhan@gmail.com)\n",
      "\n",
      "For more information about QuTiP see http://qutip.org"
     ]
    },
    {
     "cell_type": "heading",
     "level": 3,
     "metadata": {},
     "source": [
      "Introduction"
     ]
    },
    {
     "cell_type": "markdown",
     "metadata": {},
     "source": [
      "Reference: link.aps.org/doi/10.1103/PhysRevA.90.032114 "
     ]
    },
    {
     "cell_type": "markdown",
     "metadata": {},
     "source": [
      "In this model, we take a quantum system coupled to a bosonic environment and map to a model\n",
      "in which a collective mode of the environment, known as the reaction coordinate \n",
      "(RC), is incorporated within an effective system Hamiltonian. We then treat the \n",
      "residual environment within a full second-order Born-Markov master equation\n",
      "formalism. Thus, all important system-bath, and indeed intrabath, correlations \n",
      "are incorporated into the system-RC Hamiltonian in the regimes we study.\n",
      "\n"
     ]
    },
    {
     "cell_type": "markdown",
     "metadata": {},
     "source": [
      "\n"
     ]
    },
    {
     "cell_type": "code",
     "collapsed": false,
     "input": [
      "%pylab inline\n",
      "from qutip import *"
     ],
     "language": "python",
     "metadata": {},
     "outputs": [
      {
       "output_type": "stream",
       "stream": "stdout",
       "text": [
        "Populating the interactive namespace from numpy and matplotlib\n"
       ]
      }
     ],
     "prompt_number": 1
    },
    {
     "cell_type": "code",
     "collapsed": false,
     "input": [
      "from qutip import rcsolve"
     ],
     "language": "python",
     "metadata": {},
     "outputs": [],
     "prompt_number": 2
    },
    {
     "cell_type": "heading",
     "level": 3,
     "metadata": {},
     "source": [
      "Defining the 2-level system"
     ]
    },
    {
     "cell_type": "code",
     "collapsed": false,
     "input": [
      "Del = 1.0    # The number of qubits in the system.\n",
      "wq = 0.5     # Energy of the 2-level system.\n",
      "Hsys = 0.5 * wq * sigmaz() + 0.5 * Del * sigmax()"
     ],
     "language": "python",
     "metadata": {},
     "outputs": [],
     "prompt_number": 3
    },
    {
     "cell_type": "code",
     "collapsed": false,
     "input": [
      "Q = sigmaz()"
     ],
     "language": "python",
     "metadata": {},
     "outputs": [],
     "prompt_number": 4
    },
    {
     "cell_type": "markdown",
     "metadata": {},
     "source": [
      "Defining the coupling Q such that:\n",
      "\n",
      "Decoupled Hamiltonian-\n",
      "#### $H_0 = \\omega a^\\dagger a + \\frac{1}{2}\\omega_q\\sigma_z + \\frac{1}{2}\\delta\\sigma_x$ \n",
      "\n",
      "Interaction-\n",
      "#### $H_1 = g(a^\\dagger + a)\\sigma_z$\n",
      "\n",
      "Total Hamiltonian-\n",
      "#### $H = H_0 + H_1$"
     ]
    },
    {
     "cell_type": "heading",
     "level": 3,
     "metadata": {},
     "source": [
      "Solving the RC master equation"
     ]
    },
    {
     "cell_type": "code",
     "collapsed": false,
     "input": [
      "wc = 0.05                # Cutoff frequency.\n",
      "alpha = 2.5/pi           # Coupling strength.\n",
      "N = 10                   # Number of cavity fock states.\n",
      "Temperature = 1/0.95     # Tempertaure.\n",
      "tlist = np.linspace(0, 40, 600)\n",
      "initial_state = basis(2,1) * basis(2,1).dag()                # Initial state of the system.\n",
      "return_vals = [tensor(qeye(N), kk) for kk in [Q]]            # List for which to calculate expectation value\n",
      "eigen_sparse = False\n",
      "calc_time = True                                             \n",
      "options = Options(nsteps=15000, store_states=True)        # Options for the solver.\n",
      "\n",
      "output = rcsolve(Hsys, Q, wc, alpha, N, Temperature, tlist, initial_state,\n",
      "                 return_vals, eigen_sparse, calc_time, options)"
     ],
     "language": "python",
     "metadata": {},
     "outputs": [
      {
       "output_type": "stream",
       "stream": "stdout",
       "text": [
        "Integration required 18.3831 seconds\n"
       ]
      }
     ],
     "prompt_number": 5
    },
    {
     "cell_type": "heading",
     "level": 3,
     "metadata": {},
     "source": [
      "Plotting the TLS state occupation"
     ]
    },
    {
     "cell_type": "code",
     "collapsed": false,
     "input": [
      "fig, axes = subplots(1, 1, sharex=True, figsize=(8,4))\n",
      "axes.plot(tlist, real(output.expect[0]), 'b', linewidth=2, label=\"P12\")\n",
      "\n",
      "axes.legend(loc=0)"
     ],
     "language": "python",
     "metadata": {},
     "outputs": [
      {
       "metadata": {},
       "output_type": "pyout",
       "prompt_number": 6,
       "text": [
        "<matplotlib.legend.Legend at 0x7fc2d015b278>"
       ]
      },
      {
       "metadata": {},
       "output_type": "display_data",
       "png": "[encoded data removed]",
       "text": [
        "<matplotlib.figure.Figure at 0x7fc2d01e7cf8>"
       ]
      }
     ],
     "prompt_number": 6
    },
    {
     "cell_type": "heading",
     "level": 3,
     "metadata": {},
     "source": [
      "Plotting the photon distributions at arbitrary times"
     ]
    },
    {
     "cell_type": "code",
     "collapsed": false,
     "input": [
      "output.states[0]"
     ],
     "language": "python",
     "metadata": {},
     "outputs": [
      {
       "ename": "IndexError",
       "evalue": "list index out of range",
       "output_type": "pyerr",
       "traceback": [
        "\u001b[1;31m---------------------------------------------------------------------------\u001b[0m\n\u001b[1;31mIndexError\u001b[0m                                Traceback (most recent call last)",
        "\u001b[1;32m<ipython-input-8-237a227a88b7>\u001b[0m in \u001b[0;36m<module>\u001b[1;34m()\u001b[0m\n\u001b[1;32m----> 1\u001b[1;33m \u001b[0moutput\u001b[0m\u001b[1;33m.\u001b[0m\u001b[0mstates\u001b[0m\u001b[1;33m[\u001b[0m\u001b[1;36m0\u001b[0m\u001b[1;33m]\u001b[0m\u001b[1;33m\u001b[0m\u001b[0m\n\u001b[0m",
        "\u001b[1;31mIndexError\u001b[0m: list index out of range"
       ]
      }
     ],
     "prompt_number": 8
    },
    {
     "cell_type": "code",
     "collapsed": false,
     "input": [
      "t_idx_vec = range(0,len(tlist),200) \n",
      "\n",
      "fig, axes = subplots(len(t_idx_vec), 1, sharey=True, figsize=(8,2*len(t_idx_vec)))\n",
      "\n",
      "for idx, t_idx in enumerate(t_idx_vec):\n",
      "\n",
      "    psi_a = ptrace(output.states[t_idx], 0)\n",
      "    \n",
      "    cont1 = axes[idx].bar(range(0, N), real(psi_a.diag()))\n",
      "    \n",
      "fig.tight_layout()"
     ],
     "language": "python",
     "metadata": {},
     "outputs": [
      {
       "ename": "IndexError",
       "evalue": "list index out of range",
       "output_type": "pyerr",
       "traceback": [
        "\u001b[1;31m---------------------------------------------------------------------------\u001b[0m\n\u001b[1;31mIndexError\u001b[0m                                Traceback (most recent call last)",
        "\u001b[1;32m<ipython-input-7-c15375dda79f>\u001b[0m in \u001b[0;36m<module>\u001b[1;34m()\u001b[0m\n\u001b[0;32m      5\u001b[0m \u001b[1;32mfor\u001b[0m \u001b[0midx\u001b[0m\u001b[1;33m,\u001b[0m \u001b[0mt_idx\u001b[0m \u001b[1;32min\u001b[0m \u001b[0menumerate\u001b[0m\u001b[1;33m(\u001b[0m\u001b[0mt_idx_vec\u001b[0m\u001b[1;33m)\u001b[0m\u001b[1;33m:\u001b[0m\u001b[1;33m\u001b[0m\u001b[0m\n\u001b[0;32m      6\u001b[0m \u001b[1;33m\u001b[0m\u001b[0m\n\u001b[1;32m----> 7\u001b[1;33m     \u001b[0mpsi_a\u001b[0m \u001b[1;33m=\u001b[0m \u001b[0mptrace\u001b[0m\u001b[1;33m(\u001b[0m\u001b[0moutput\u001b[0m\u001b[1;33m.\u001b[0m\u001b[0mstates\u001b[0m\u001b[1;33m[\u001b[0m\u001b[0mt_idx\u001b[0m\u001b[1;33m]\u001b[0m\u001b[1;33m,\u001b[0m \u001b[1;36m0\u001b[0m\u001b[1;33m)\u001b[0m\u001b[1;33m\u001b[0m\u001b[0m\n\u001b[0m\u001b[0;32m      8\u001b[0m \u001b[1;33m\u001b[0m\u001b[0m\n\u001b[0;32m      9\u001b[0m     \u001b[0mcont1\u001b[0m \u001b[1;33m=\u001b[0m \u001b[0maxes\u001b[0m\u001b[1;33m[\u001b[0m\u001b[0midx\u001b[0m\u001b[1;33m]\u001b[0m\u001b[1;33m.\u001b[0m\u001b[0mbar\u001b[0m\u001b[1;33m(\u001b[0m\u001b[0mrange\u001b[0m\u001b[1;33m(\u001b[0m\u001b[1;36m0\u001b[0m\u001b[1;33m,\u001b[0m \u001b[0mN\u001b[0m\u001b[1;33m)\u001b[0m\u001b[1;33m,\u001b[0m \u001b[0mreal\u001b[0m\u001b[1;33m(\u001b[0m\u001b[0mpsi_a\u001b[0m\u001b[1;33m.\u001b[0m\u001b[0mdiag\u001b[0m\u001b[1;33m(\u001b[0m\u001b[1;33m)\u001b[0m\u001b[1;33m)\u001b[0m\u001b[1;33m)\u001b[0m\u001b[1;33m\u001b[0m\u001b[0m\n",
        "\u001b[1;31mIndexError\u001b[0m: list index out of range"
       ]
      },
      {
       "metadata": {},
       "output_type": "display_data",
       "png": "[encoded data removed]",
       "text": [
        "<matplotlib.figure.Figure at 0x7fc2d01030f0>"
       ]
      }
     ],
     "prompt_number": 7
    },
    {
     "cell_type": "heading",
     "level": 3,
     "metadata": {},
     "source": [
      "Plotting the wigner function at arbitrary times"
     ]
    },
    {
     "cell_type": "code",
     "collapsed": false,
     "input": [
      "xvec = linspace(-5,5,200)\n",
      "t_idx_vec = range(0,len(tlist),200) \n",
      "\n",
      "fig, axes = subplots(len(t_idx_vec), 1, sharex=True, sharey=True, figsize=(8,4*len(t_idx_vec)))\n",
      "\n",
      "for idx, t_idx in enumerate(t_idx_vec):\n",
      "    psi_a = ptrace(output.states[t_idx], 0)\n",
      "    \n",
      "    W_a = wigner(psi_a, xvec, xvec)\n",
      "    \n",
      "    \n",
      "    cont1 = axes[idx].contourf(xvec, xvec, W_a, 100)\n",
      "   "
     ],
     "language": "python",
     "metadata": {},
     "outputs": []
    },
    {
     "cell_type": "heading",
     "level": 3,
     "metadata": {},
     "source": [
      "Software versions"
     ]
    },
    {
     "cell_type": "code",
     "collapsed": false,
     "input": [
      "from qutip.ipynbtools import version_table\n",
      "\n",
      "version_table()"
     ],
     "language": "python",
     "metadata": {},
     "outputs": []
    }
   ],
   "metadata": {}
  }
 ]
}