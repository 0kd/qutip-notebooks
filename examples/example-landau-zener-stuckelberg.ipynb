{
 "metadata": {
  "name": ""
 },
 "nbformat": 3,
 "nbformat_minor": 0,
 "worksheets": [
  {
   "cells": [
    {
     "cell_type": "heading",
     "level": 1,
     "metadata": {},
     "source": [
      "QuTiP example: Landau-Zener-Stuckelberg inteferometry"
     ]
    },
    {
     "cell_type": "markdown",
     "metadata": {},
     "source": [
      "J.R. Johansson and P.D. Nation\n",
      "\n",
      "For more information about QuTiP see [http://qutip.org](http://qutip.org)"
     ]
    },
    {
     "cell_type": "code",
     "collapsed": false,
     "input": [
      "%pylab inline"
     ],
     "language": "python",
     "metadata": {},
     "outputs": [
      {
       "output_type": "stream",
       "stream": "stdout",
       "text": [
        "Populating the interactive namespace from numpy and matplotlib\n"
       ]
      }
     ],
     "prompt_number": 1
    },
    {
     "cell_type": "code",
     "collapsed": false,
     "input": [
      "from qutip import *\n",
      "from qutip.gui.progressbar import TextProgressBar as ProgressBar"
     ],
     "language": "python",
     "metadata": {},
     "outputs": [],
     "prompt_number": 2
    },
    {
     "cell_type": "code",
     "collapsed": false,
     "input": [
      "import time"
     ],
     "language": "python",
     "metadata": {},
     "outputs": [],
     "prompt_number": 3
    },
    {
     "cell_type": "markdown",
     "metadata": {},
     "source": [
      "Landau-Zener-Stuckelberg interferometry: Steady state of a strongly driven two-level system, using the one-period propagator. "
     ]
    },
    {
     "cell_type": "code",
     "collapsed": false,
     "input": [
      "# set up the parameters and start calculation\n",
      "delta  = 1.0  * 2 * pi  # qubit sigma_x coefficient\n",
      "w      = 2.0  * 2 * pi  # driving frequency\n",
      "T      = 2 * pi / w     # driving period \n",
      "gamma1 = 0.00001        # relaxation rate\n",
      "gamma2 = 0.005          # dephasing  rate\n",
      "\n",
      "eps_list = linspace(-10.0, 10.0, 31) * 2 * pi\n",
      "A_list   = linspace(  0.0, 10.0, 31) * 2 * pi\n",
      "\n",
      "# pre-calculate the necessary operators\n",
      "sx = sigmax(); sz = sigmaz(); sm = destroy(2); sn = num(2)\n",
      "\n",
      "# collapse operators\n",
      "c_op_list = [sqrt(gamma1) * sm, sqrt(gamma2) * sz]  # relaxation and dephasing"
     ],
     "language": "python",
     "metadata": {},
     "outputs": [],
     "prompt_number": 4
    },
    {
     "cell_type": "code",
     "collapsed": false,
     "input": [
      "# ODE settings (for list-str format)\n",
      "options = Odeoptions()\n",
      "options.rhs_reuse = True\n",
      "options.atol = 1e-6 # reduce accuracy to speed\n",
      "options.rtol = 1e-5 # up the calculation a bit"
     ],
     "language": "python",
     "metadata": {},
     "outputs": [],
     "prompt_number": 5
    },
    {
     "cell_type": "code",
     "collapsed": false,
     "input": [
      "# for function-callback style time-dependence\n",
      "def hamiltonian_t(t, args):\n",
      "    \"\"\" evaluate the hamiltonian at time t. \"\"\"\n",
      "    H0 = args[0]\n",
      "    H1 = args[1]\n",
      "    w  = args[2]\n",
      "    return H0 + H1 * sin(w * t)"
     ],
     "language": "python",
     "metadata": {},
     "outputs": [],
     "prompt_number": 6
    },
    {
     "cell_type": "code",
     "collapsed": false,
     "input": [
      "# perform the calculation for each combination of eps and A, store the result\n",
      "# in a matrix\n",
      "def calculate():\n",
      "\n",
      "    p_mat = zeros((len(eps_list),len(A_list)))\n",
      "\n",
      "    pbar = ProgressBar(len(eps_list))\n",
      "    \n",
      "    for m, eps in enumerate(eps_list):\n",
      "        H0 = - delta/2.0 * sx - eps/2.0 * sz\n",
      "\n",
      "        pbar.update(m)\n",
      "\n",
      "        for n, A in enumerate(A_list):\n",
      "            H1 = (A/2) * sz\n",
      "\n",
      "            # function callback format\n",
      "            #args = (H0, H1, w); H_td = hamiltonian_t\n",
      "\n",
      "            # list-str format\n",
      "            #args = {'w': w}; H_td = [H0, [H1, 'sin(w * t)']]\n",
      "\n",
      "            # list-function format\n",
      "            args = w; H_td = [H0, [H1, lambda t, w: sin(w * t)]]\n",
      "\n",
      "            U = propagator(H_td, T, c_op_list, args, options)\n",
      "            rho_ss = propagator_steadystate(U)\n",
      "\n",
      "            p_mat[m,n] = real(expect(sn, rho_ss))\n",
      "\n",
      "    return p_mat"
     ],
     "language": "python",
     "metadata": {},
     "outputs": [],
     "prompt_number": 8
    },
    {
     "cell_type": "code",
     "collapsed": false,
     "input": [
      "p_mat = calculate()"
     ],
     "language": "python",
     "metadata": {},
     "outputs": [
      {
       "output_type": "stream",
       "stream": "stdout",
       "text": [
        "Completed:  0.0%. Elapsed time:   0.01s. Est. remaining time: 00:00:00:00.\n",
        "Completed: 12.9%. Elapsed time: 133.62s. Est. remaining time: 00:00:15:01."
       ]
      },
      {
       "output_type": "stream",
       "stream": "stdout",
       "text": [
        "\n",
        "Completed: 22.6%. Elapsed time: 222.70s. Est. remaining time: 00:00:12:43."
       ]
      },
      {
       "output_type": "stream",
       "stream": "stdout",
       "text": [
        "\n",
        "Completed: 32.3%. Elapsed time: 298.59s. Est. remaining time: 00:00:10:27."
       ]
      },
      {
       "output_type": "stream",
       "stream": "stdout",
       "text": [
        "\n",
        "Completed: 41.9%. Elapsed time: 365.58s. Est. remaining time: 00:00:08:26."
       ]
      },
      {
       "output_type": "stream",
       "stream": "stdout",
       "text": [
        "\n",
        "Completed: 51.6%. Elapsed time: 435.31s. Est. remaining time: 00:00:06:48."
       ]
      },
      {
       "output_type": "stream",
       "stream": "stdout",
       "text": [
        "\n",
        "Completed: 61.3%. Elapsed time: 503.52s. Est. remaining time: 00:00:05:18."
       ]
      },
      {
       "output_type": "stream",
       "stream": "stdout",
       "text": [
        "\n",
        "Completed: 71.0%. Elapsed time: 570.32s. Est. remaining time: 00:00:03:53."
       ]
      },
      {
       "output_type": "stream",
       "stream": "stdout",
       "text": [
        "\n",
        "Completed: 80.6%. Elapsed time: 644.29s. Est. remaining time: 00:00:02:34."
       ]
      },
      {
       "output_type": "stream",
       "stream": "stdout",
       "text": [
        "\n",
        "Completed: 90.3%. Elapsed time: 730.05s. Est. remaining time: 00:00:01:18."
       ]
      },
      {
       "output_type": "stream",
       "stream": "stdout",
       "text": [
        "\n"
       ]
      },
      {
       "output_type": "stream",
       "stream": "stderr",
       "text": [
        "/usr/local/lib/python3.3/dist-packages/qutip/propagator.py:79: UserWarning: propagator is using previously defined rhs function (options.rhs_reuse = True)\n",
        "  warnings.warn(msg)\n"
       ]
      }
     ],
     "prompt_number": 9
    },
    {
     "cell_type": "code",
     "collapsed": false,
     "input": [
      "figure(figsize=(8, 8))\n",
      "\n",
      "A_mat, eps_mat = meshgrid(A_list/(2*pi), eps_list/(2*pi))\n",
      "pcolor(eps_mat, A_mat, p_mat)\n",
      "xlabel(r'Bias point $\\epsilon$')\n",
      "ylabel(r'Amplitude $A$')\n",
      "title(r'Steadystate excitation probability\\n' +\n",
      "      r'$H = -\\frac{1}{2}\\Delta\\sigma_x -\\frac{1}{2}\\epsilon\\sigma_z - \\frac{1}{2}A\\sin(\\omega t)$\\n');"
     ],
     "language": "python",
     "metadata": {},
     "outputs": [
      {
       "metadata": {},
       "output_type": "display_data",
       "png": "[encoded data removed]",
       "text": [
        "<matplotlib.figure.Figure at 0x7f424f532450>"
       ]
      }
     ],
     "prompt_number": 10
    },
    {
     "cell_type": "heading",
     "level": 2,
     "metadata": {},
     "source": [
      "Versions"
     ]
    },
    {
     "cell_type": "code",
     "collapsed": false,
     "input": [
      "from qutip.ipynbtools import version_table\n",
      "\n",
      "version_table()"
     ],
     "language": "python",
     "metadata": {},
     "outputs": [
      {
       "html": [
        "<table><tr><th>Software</th><th>Version</th></tr><tr><td>QuTiP</td><td>2.3.0.dev-eece79f</td></tr><tr><td>Cython</td><td>0.19</td></tr><tr><td>SciPy</td><td>0.14.0.dev-2a4ba40</td></tr><tr><td>OS</td><td>posix [linux]</td></tr><tr><td>IPython</td><td>2.0.0-dev</td></tr><tr><td>Python</td><td>3.3.1 (default, Apr 17 2013, 22:30:32) \n",
        "[GCC 4.7.3]</td></tr><tr><td>Numpy</td><td>1.7.1</td></tr><tr><td>matplotlib</td><td>1.4.x</td></tr><tr><td colspan='2'>Thu Oct 03 23:05:49 2013 JST</td></tr></table>"
       ],
       "metadata": {},
       "output_type": "pyout",
       "prompt_number": 11,
       "text": [
        "<IPython.core.display.HTML at 0x7f424eda8850>"
       ]
      }
     ],
     "prompt_number": 11
    }
   ],
   "metadata": {}
  }
 ]
}