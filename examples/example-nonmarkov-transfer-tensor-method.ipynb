{
 "metadata": {
  "name": "",
  "signature": "sha256:7324c1d28b1ecebab8bf0e66cd60a04fb3ddf6dcf5605efa05f002132edc9bf6"
 },
 "nbformat": 3,
 "nbformat_minor": 0,
 "worksheets": [
  {
   "cells": [
    {
     "cell_type": "heading",
     "level": 1,
     "metadata": {},
     "source": [
      "QuTiP Example: The Transfer Tensor Method for Non-Markovian Open Quantum Systems"
     ]
    },
    {
     "cell_type": "markdown",
     "metadata": {},
     "source": [
      "[Arne L. Grimsmo](http://arnegrimsmo.weebly.com/) <br>\n",
      "Universit\u00e9 de Sherbrooke <br>\n",
      "[arne.grimsmo@gmail.com](email:arne.grimsmo@gmail.com)\n",
      "$\\newcommand{\\ket}[1]{\\left|#1\\right\\rangle}$\n",
      "$\\newcommand{\\bra}[1]{\\left\\langle#1\\right|}$"
     ]
    },
    {
     "cell_type": "heading",
     "level": 2,
     "metadata": {},
     "source": [
      "Introduction"
     ]
    },
    {
     "cell_type": "markdown",
     "metadata": {},
     "source": [
      "The \"Transfer Tensor Method\" was introduced by Cerrillo and Cao in [Phys. Rev. Lett 112, 110401 (2014)](http://journals.aps.org/prl/abstract/10.1103/PhysRevLett.112.110401) ([arXiv link](http://arxiv.org/abs/1307.7743)), as a general method for evolving non-Markovian open quantum systems.\n",
      "\n",
      "The method takes as input a set of dynamical maps $\\mathcal{E}_k$, such that\n",
      "\n",
      "$$\n",
      "\\rho(t_k) = \\mathcal{E}_k \\rho(0)\n",
      "$$\n",
      "\n",
      "for an intial set of times $t_k$. This set of dynamical maps could be the result of experimental process tomography of they could be precomputed through some other (typically costly) method. The idea is that based on knowledge of these maps, one can try to exptrapolate the, in general non-Markovian, time-evolution to larger times, $t_n > t_k$. The method assumes that there is no explicit time-dependence in the total system-bath Hamiltonian."
     ]
    },
    {
     "cell_type": "heading",
     "level": 2,
     "metadata": {},
     "source": [
      "Preamble"
     ]
    },
    {
     "cell_type": "heading",
     "level": 3,
     "metadata": {},
     "source": [
      "Imports"
     ]
    },
    {
     "cell_type": "code",
     "collapsed": false,
     "input": [
      "import numpy as np\n",
      "\n",
      "import qutip as qt\n",
      "from qutip.ipynbtools import version_table\n",
      "\n",
      "import qutip.nonmarkov.transfertensormethod as ttm"
     ],
     "language": "python",
     "metadata": {},
     "outputs": [],
     "prompt_number": 1
    },
    {
     "cell_type": "heading",
     "level": 3,
     "metadata": {},
     "source": [
      "Plotting Support"
     ]
    },
    {
     "cell_type": "code",
     "collapsed": false,
     "input": [
      "%matplotlib inline\n",
      "import matplotlib.pyplot as plt"
     ],
     "language": "python",
     "metadata": {},
     "outputs": [],
     "prompt_number": 17
    },
    {
     "cell_type": "heading",
     "level": 2,
     "metadata": {},
     "source": [
      "Jaynes-Cummings model, with the cavity as a non-Markovian bath"
     ]
    },
    {
     "cell_type": "markdown",
     "metadata": {},
     "source": [
      "As a simple example, we consider the Jaynes-Cummings mode, and the non-Markovian dynamics of the qubit when the cavity is traced out. In this example, the dynamical maps $\\mathcal{E}_k$ are the reduced time-propagators for the qubit, after evolving and tracing out the cavity, i.e.\n",
      "\n",
      "$$\n",
      "\\mathcal{E}_k \\rho = {\\rm tr}_{\\rm cav} \\left[ {\\rm e}^{\\mathcal{L} t_k} \\rho \\otimes \\rho_{0,{\\rm cav}} \\right],\n",
      "$$\n",
      "\n",
      "where $\\mathcal{L}$ is the Lindbladian for the dissipative JC model (defined below) and $\\rho_{0,{\\rm cav}}$ is the initial state of the cavity."
     ]
    },
    {
     "cell_type": "heading",
     "level": 2,
     "metadata": {},
     "source": [
      "Problem setup"
     ]
    },
    {
     "cell_type": "code",
     "collapsed": false,
     "input": [
      "reload(ttm)\n",
      "\n",
      "kappa = 1.0 # cavity decay rate\n",
      "wc = 0.0*kappa # cavity frequency\n",
      "wa = 0.0*kappa # qubit frequency\n",
      "g = 10.0*kappa # coupling strength\n",
      "N = 3 # size of cavity basis\n",
      "\n",
      "# intial state\n",
      "psi0c = qt.basis(N,0)\n",
      "rho0c = qt.ket2dm(psi0c)\n",
      "rho0a = qt.ket2dm(qt.basis(2,0))\n",
      "rho0 = qt.tensor(rho0a,rho0c)\n",
      "rho0avec = qt.operator_to_vector(rho0a)\n",
      "\n",
      "# identity superoperator\n",
      "Id = qt.tensor(qeye(2),qeye(N))\n",
      "E0 = qt.sprepost(Id,Id)\n",
      "\n",
      "# partial trace over the cavity, reprsented as a superoperator\n",
      "ptracesuper = qt.tensor_contract(E0,(1,3))\n",
      "\n",
      "# intial state of the cavity, represented as a superoperator\n",
      "superrho0cav = qt.sprepost(qt.tensor(qeye(2),psi0c),\n",
      "                           qt.tensor(qeye(2),psi0c.dag()))\n",
      "\n",
      "# operators\n",
      "a  = qt.tensor(qt.qeye(2), qt.destroy(N))\n",
      "sm = qt.tensor(qt.sigmam(), qt.qeye(N))\n",
      "sz = qt.tensor(qt.sigmaz(), qt.qeye(N))\n",
      "\n",
      "# Hamiltonian\n",
      "H = wc * a.dag() * a + wa * sm.dag() * sm + g * (a.dag() * sm + a * sm.dag())\n",
      "c_ops = [np.sqrt(kappa)*a]"
     ],
     "language": "python",
     "metadata": {},
     "outputs": [],
     "prompt_number": 18
    },
    {
     "cell_type": "heading",
     "level": 2,
     "metadata": {},
     "source": [
      "Exact timepropagators to learn from"
     ]
    },
    {
     "cell_type": "markdown",
     "metadata": {},
     "source": [
      "The function `dynmap` generates an exact timepropagator for the qubit $\\mathcal{E}_{k}$ for a time $t_k$. <br>"
     ]
    },
    {
     "cell_type": "code",
     "collapsed": false,
     "input": [
      "def dynmap(t):\n",
      "    # reduced dynamical map for the qubit at time t\n",
      "    Et = qt.mesolve(H, E0, [0.,t], c_ops, []).states[-1]\n",
      "    return ptracesuper*(Et*superrho0cav)"
     ],
     "language": "python",
     "metadata": {},
     "outputs": [],
     "prompt_number": 19
    },
    {
     "cell_type": "heading",
     "level": 2,
     "metadata": {},
     "source": [
      "Exact time evolution using standard mesolve method"
     ]
    },
    {
     "cell_type": "code",
     "collapsed": false,
     "input": [
      "exacttimes = np.arange(0,5,0.01)\n",
      "exactsol = qt.mesolve(H, rho0, exacttimes, c_ops, [])"
     ],
     "language": "python",
     "metadata": {},
     "outputs": [],
     "prompt_number": 20
    },
    {
     "cell_type": "heading",
     "level": 2,
     "metadata": {},
     "source": [
      "Approximate solution using the Transfer Tensor Method for different learning times"
     ]
    },
    {
     "cell_type": "code",
     "collapsed": false,
     "input": [
      "times = np.arange(0,5,0.1) # total extrapolation time\n",
      "ttmsols = []\n",
      "maxlearningtimes = [0.5, 2.0] # maximal learning times\n",
      "for T in maxlearningtimes:\n",
      "    learningtimes = np.arange(0,T,0.1)\n",
      "    learningmaps = [dynmap(t) for t in learningtimes] # generate exact dynamical maps to learn from\n",
      "    ttmsols.append(ttm.ttmsolve(learningmaps, rho0a, times)) # extrapolate using TTM"
     ],
     "language": "python",
     "metadata": {},
     "outputs": [],
     "prompt_number": 21
    },
    {
     "cell_type": "heading",
     "level": 2,
     "metadata": {},
     "source": [
      "Visualize results"
     ]
    },
    {
     "cell_type": "code",
     "collapsed": false,
     "input": [
      "fig, ax = plt.subplots(figsize=(10,7))\n",
      "ax.plot(exactsol.times, qt.expect(sz, exactsol.states),'-b',linewidth=3.0)\n",
      "style = ['og','or']\n",
      "for i,ttmsol in enumerate(ttmsols):\n",
      "    ax.plot(ttmsol.times, qt.expect(qt.sigmaz(), ttmsol.states),style[i],linewidth=1.5,)\n",
      "ax.legend(['exact',str(maxlearningtimes[0]),str(maxlearningtimes[1])])\n",
      "ax.set_xlabel(r'$\\kappa t$', fontsize=20)\n",
      "ax.set_ylabel(r'$\\sigma_z$', fontsize=20)"
     ],
     "language": "python",
     "metadata": {},
     "outputs": [
      {
       "metadata": {},
       "output_type": "pyout",
       "prompt_number": 22,
       "text": [
        "<matplotlib.text.Text at 0x107b3b150>"
       ]
      },
      {
       "metadata": {},
       "output_type": "display_data",
       "png": "[encoded data removed]",
       "text": [
        "<matplotlib.figure.Figure at 0x107ff6e90>"
       ]
      }
     ],
     "prompt_number": 22
    },
    {
     "cell_type": "heading",
     "level": 1,
     "metadata": {},
     "source": [
      "Discussion"
     ]
    },
    {
     "cell_type": "markdown",
     "metadata": {},
     "source": [
      "The figure above illustrates how the transfer tensor method needs a sufficiently long set of learning times to get good results. The green dots show results for learning times $t_k=0,0.1,\\dots,0.5$, which is clearly not sufficient. The red dots show results for $t_k=0,0.1,\\dots,2.0$, which gives results that are in very good agreement with the exact solution."
     ]
    },
    {
     "cell_type": "heading",
     "level": 2,
     "metadata": {},
     "source": [
      "Epilouge"
     ]
    },
    {
     "cell_type": "code",
     "collapsed": false,
     "input": [
      "version_table()"
     ],
     "language": "python",
     "metadata": {},
     "outputs": [
      {
       "html": [
        "<table><tr><th>Software</th><th>Version</th></tr><tr><td>QuTiP</td><td>3.1.0.dev-f5274ef</td></tr><tr><td>Numpy</td><td>1.8.2</td></tr><tr><td>SciPy</td><td>0.14.0</td></tr><tr><td>matplotlib</td><td>1.4.0</td></tr><tr><td>Cython</td><td>0.21</td></tr><tr><td>IPython</td><td>2.2.0</td></tr><tr><td>Python</td><td>2.7.10 |Anaconda 2.1.0 (x86_64)| (default, Sep 15 2015, 14:29:08) \n",
        "[GCC 4.2.1 (Apple Inc. build 5577)]</td></tr><tr><td>Number of CPUs</td><td>2</td></tr><tr><td>OS</td><td>posix [darwin]</td></tr><tr><td colspan='2'>Tue Dec 08 22:46:39 2015 EST</td></tr></table>"
       ],
       "metadata": {},
       "output_type": "pyout",
       "prompt_number": 23,
       "text": [
        "<IPython.core.display.HTML at 0x107a70610>"
       ]
      }
     ],
     "prompt_number": 23
    },
    {
     "cell_type": "code",
     "collapsed": false,
     "input": [],
     "language": "python",
     "metadata": {},
     "outputs": []
    }
   ],
   "metadata": {}
  }
 ]
}