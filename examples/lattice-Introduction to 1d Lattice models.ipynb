{
 "cells": [
  {
   "cell_type": "markdown",
   "metadata": {},
   "source": [
    "# Introduction to the 1d Lattice models in QuTiP"
   ]
  },
  {
   "cell_type": "markdown",
   "metadata": {},
   "source": [
    "Saumya Biswas (saumyab@uoregon.edu)\n",
    "\n",
    "For more information about QuTiP see [http://qutip.org](http://qutip.org)"
   ]
  },
  {
   "cell_type": "markdown",
   "metadata": {},
   "source": [
    "### Module\n",
    "\n",
    "We introduce the basic functionality of QuTiPs Lattice1d class of the lattice module.\n",
    "\n",
    "![title](images/latt_1.png)\n",
    "\n",
    "### Introduction to Second Quantized notation\n",
    "\n",
    "We are interested in the static and dynamic properties of 1d lattices. A 1d lattice can be conveniently represented by a second quantized Hamiltonian. \n",
    "\n",
    "\\begin{eqnarray}\n",
    "H = \\sum_i \\psi_i^{\\dagger} D \\psi_i + \\sum_{i} \\left( \\psi_i^{\\dagger} T \\psi_{i+1} +  \\psi_{i+1}^{\\dagger} T^{\\dagger} \\psi_i  \\right) \\label{eq:TB_block} \n",
    "\\end{eqnarray}\n",
    "\n",
    "An 1d lattice is constituted by a repition of a unit cell a finite number of times along a direction x.\n",
    "\n",
    "where $\\psi_i$ is the annihilation operator for a unit cell at coordinate i,$D$ is the cell Hamltonian of the unit cell, $T$ is the inter cell hopping. Any 1d lattice can be put in the form of the equation above by resolving it into unit cells with nearest neighbor coupling only.\n"
   ]
  },
  {
   "cell_type": "markdown",
   "metadata": {},
   "source": [
    "The Lattice1d class operates based on this unit cell and nearest neighbor interaction format. A unit cell can be comprised one or more sites with one or more orbitals, spins, excitations or any other degrees of freedom. A 1d lattice with next nearest neighbor coupling can be equivalently represented as a 1d lattice with a unit cell of two sites keeping the hopping interaction to nearest neighbors only."
   ]
  },
  {
   "cell_type": "markdown",
   "metadata": {},
   "source": [
    "### Declaration"
   ]
  },
  {
   "cell_type": "code",
   "execution_count": 1,
   "metadata": {},
   "outputs": [],
   "source": [
    "from qutip import *\n",
    "import matplotlib.pyplot as plt\n",
    "import numpy as np"
   ]
  },
  {
   "cell_type": "markdown",
   "metadata": {},
   "source": [
    "#### Declaring a tight binding chain with a single site unit cell\n",
    "As a default the instance of Lattice1d class is initialized a atomic chain with a unit\n",
    "cell with one atom only. The user need only define the number of cells and the boundary\n",
    "condition."
   ]
  },
  {
   "cell_type": "code",
   "execution_count": 2,
   "metadata": {},
   "outputs": [],
   "source": [
    "boundary_condition = \"periodic\"\n",
    "cells = 3\n",
    "Periodic_Atom_Chain = Lattice1d(num_cell=cells, boundary = boundary_condition)"
   ]
  },
  {
   "cell_type": "markdown",
   "metadata": {},
   "source": [
    "The user can call Periodic_Atom_Chain to print all its information."
   ]
  },
  {
   "cell_type": "code",
   "execution_count": 3,
   "metadata": {},
   "outputs": [
    {
     "data": {
      "text/plain": [
       "Lattice1d object: Number of cells = 3,\n",
       "Number of sites in the cell = 1,\n",
       "Degrees of freedom per site = [],\n",
       "Lattice tensor configuration = [3],\n",
       "basis_Hamiltonian = Quantum object: dims = [[1], [1]], shape = (1, 1), type = bra\n",
       "Qobj data =\n",
       "[[0.]],\n",
       "inter_hop = [Quantum object: dims = [[1], [1]], shape = (1, 1), type = bra\n",
       "Qobj data =\n",
       "[[-1.]]],\n",
       "cell_tensor_config = [1]\n",
       "Boundary Condition:  Periodic"
      ]
     },
     "execution_count": 3,
     "metadata": {},
     "output_type": "execute_result"
    }
   ],
   "source": [
    "Periodic_Atom_Chain"
   ]
  },
  {
   "cell_type": "markdown",
   "metadata": {},
   "source": [
    "To define a lattice with more than one site per unit cell and one or more degrees of freedom per site, the cell_num_site and cell_site_dof arguments must be used. In a case like this, specifying the intra and inter cell interactions would also be necessary (through the arguments cell_Hamiltonian and inter_hop) in most cases. However, Lattice1d() will initiate the instance with default cell_Hamiltonian and inter_hop\n",
    "if the user does not input it."
   ]
  },
  {
   "cell_type": "markdown",
   "metadata": {},
   "source": [
    "The functions display_unit_cell() and display_lattice() can be used at any stage to produce visual symbolizations and elementwise information. "
   ]
  },
  {
   "cell_type": "code",
   "execution_count": 4,
   "metadata": {},
   "outputs": [
    {
     "data": {
      "image/png": "[encoded data removed]",
      "text/plain": [
       "<Figure size 144x180 with 1 Axes>"
      ]
     },
     "metadata": {
      "needs_background": "light"
     },
     "output_type": "display_data"
    },
    {
     "data": {
      "image/png": "[encoded data removed]",
      "text/plain": [
       "<Figure size 648x648 with 1 Axes>"
      ]
     },
     "metadata": {
      "needs_background": "light"
     },
     "output_type": "display_data"
    }
   ],
   "source": [
    "H = Periodic_Atom_Chain.display_unit_cell(label_on = True)\n",
    "T = Periodic_Atom_Chain.display_lattice()"
   ]
  },
  {
   "cell_type": "markdown",
   "metadata": {},
   "source": [
    "The user can review the attribute values of H and T from the retuned Qobjs."
   ]
  },
  {
   "cell_type": "code",
   "execution_count": 5,
   "metadata": {},
   "outputs": [
    {
     "name": "stdout",
     "output_type": "stream",
     "text": [
      "Quantum object: dims = [[1], [1]], shape = (1, 1), type = bra\n",
      "Qobj data =\n",
      "[[0.]]\n",
      "Quantum object: dims = [[1], [1]], shape = (1, 1), type = bra\n",
      "Qobj data =\n",
      "[[-1.]]\n"
     ]
    }
   ],
   "source": [
    "print(H[0][0])\n",
    "print(T)"
   ]
  },
  {
   "cell_type": "markdown",
   "metadata": {},
   "source": [
    "Specifying cell_num_site enables choosing multiple sites for a unit call and any combination of degrees of freedom can be chosen for each site with cell_site_dof."
   ]
  },
  {
   "cell_type": "code",
   "execution_count": 6,
   "metadata": {},
   "outputs": [],
   "source": [
    "boundary_condition = \"periodic\"\n",
    "cells = 3\n",
    "cell_num_site = 2\n",
    "cell_site_dof = [2,3]    # It could be 2 orbitals and 3 spins per sites or\n",
    "                         # any other combination of such degrees of freedom\n",
    "lattice_3223 = Lattice1d(num_cell=cells, boundary = boundary_condition, \\\n",
    "                           cell_num_site = cell_num_site, cell_site_dof = cell_site_dof)"
   ]
  },
  {
   "cell_type": "markdown",
   "metadata": {},
   "source": [
    "There is an aide function that help the user form the cell_Hamiltonian and inter_hop\n",
    "arguments namely cell_structures()."
   ]
  },
  {
   "cell_type": "code",
   "execution_count": 7,
   "metadata": {},
   "outputs": [],
   "source": [
    "val_s = ['site0', 'site1', 'site2']\n",
    "val_t = [' orb0', ' orb1']\n",
    "(cell_H_form,inter_cell_T_form,cell_H,inter_cell_T) = \\\n",
    "                        cell_structures( val_s, val_t)"
   ]
  },
  {
   "cell_type": "markdown",
   "metadata": {},
   "source": [
    "The cell_structure() function returns two list of lists cell_H_form and inter_cell_T_form\n",
    "that prints str s that can guide the user enter the nonzero elements at cell_H \n",
    "and inter_cell_T which are np.zeros with the appropriate size. The procedure would\n",
    "be to check a certain element in cell_H_form and insert the value for cell_H and so on."
   ]
  },
  {
   "cell_type": "code",
   "execution_count": 8,
   "metadata": {},
   "outputs": [
    {
     "data": {
      "text/plain": [
       "'<site0 orb0 H site2 orb1>'"
      ]
     },
     "execution_count": 8,
     "metadata": {},
     "output_type": "execute_result"
    }
   ],
   "source": [
    "cell_H_form[0][5]"
   ]
  },
  {
   "cell_type": "code",
   "execution_count": 9,
   "metadata": {},
   "outputs": [],
   "source": [
    "cell_H[0][5] = -1-0.5j   # Calculated value from hand calculation\n",
    "cell_H[5][0] = -1+0.5j   # keeping it Hermitian"
   ]
  },
  {
   "cell_type": "markdown",
   "metadata": {},
   "source": [
    "Similarly, we set more elements to non-zero values."
   ]
  },
  {
   "cell_type": "code",
   "execution_count": 10,
   "metadata": {},
   "outputs": [
    {
     "data": {
      "text/plain": [
       "'<site1 orb0 H site2 orb1>'"
      ]
     },
     "execution_count": 10,
     "metadata": {},
     "output_type": "execute_result"
    }
   ],
   "source": [
    "cell_H_form[2][5]"
   ]
  },
  {
   "cell_type": "code",
   "execution_count": 11,
   "metadata": {},
   "outputs": [],
   "source": [
    "cell_H[2][5] = -1+0.25j   # Calculated value from hand calculation\n",
    "cell_H[5][2] = -1-0.25j   # keeping it Hermitian"
   ]
  },
  {
   "cell_type": "markdown",
   "metadata": {},
   "source": [
    "The user would have to enter all the nonzero elements in cell_H and inter_cell_T\n",
    "and then convert them into Qobjs and use them in declaring the instance of Lattice_1d."
   ]
  },
  {
   "cell_type": "code",
   "execution_count": 12,
   "metadata": {},
   "outputs": [
    {
     "data": {
      "text/plain": [
       "'<cell(i):site2 orb1 H site0 orb0:cell(i+1) >'"
      ]
     },
     "execution_count": 12,
     "metadata": {},
     "output_type": "execute_result"
    }
   ],
   "source": [
    "inter_cell_T_form[5][0]"
   ]
  },
  {
   "cell_type": "code",
   "execution_count": 13,
   "metadata": {},
   "outputs": [],
   "source": [
    "inter_cell_T[5][0] = -0.5\n",
    "inter_cell_T[0][5] = -0.5"
   ]
  },
  {
   "cell_type": "code",
   "execution_count": 14,
   "metadata": {},
   "outputs": [],
   "source": [
    "cell_H = Qobj(cell_H)\n",
    "inter_cell_T = Qobj(inter_cell_T)\n",
    "lattice_324 = Lattice1d(num_cell=3, boundary = \"periodic\", cell_num_site = 3, cell_site_dof = [2], cell_Hamiltonian = cell_H, inter_hop = inter_cell_T )"
   ]
  },
  {
   "cell_type": "markdown",
   "metadata": {},
   "source": [
    "cell_cite_dof can take care of composite degrees of freedom such as orbits, spins and/or excitations. For example, if each site has 4 orbitals and 2 spins, we set cell_site_dof = [4,2] defines that lattice. With the aid of the Lattice1d.basis() operator we can access particles localized at specific cell,site,orbitals and spin.\n",
    "Valid inputs for cell_site_dof are one int(e.g. 4) or a list of int's(e.g. [4,2]). A single dof can be entered either as an int or a list with that int. So cell_site_dof = [4] and cell_site_dof = 4 are the same. "
   ]
  },
  {
   "cell_type": "code",
   "execution_count": 15,
   "metadata": {},
   "outputs": [
    {
     "data": {
      "image/png": "[encoded data removed]",
      "text/plain": [
       "<Figure size 432x540 with 1 Axes>"
      ]
     },
     "metadata": {
      "needs_background": "light"
     },
     "output_type": "display_data"
    },
    {
     "data": {
      "image/png": "[encoded data removed]",
      "text/plain": [
       "<Figure size 648x648 with 1 Axes>"
      ]
     },
     "metadata": {
      "needs_background": "light"
     },
     "output_type": "display_data"
    }
   ],
   "source": [
    "H = lattice_324.display_unit_cell(label_on = True)\n",
    "T = lattice_324.display_lattice()"
   ]
  },
  {
   "cell_type": "markdown",
   "metadata": {},
   "source": [
    "The labels of the diagrams can be read off from the returned H and T Qobjs. For example, $H_{12}$ can be read off as follows."
   ]
  },
  {
   "cell_type": "code",
   "execution_count": 16,
   "metadata": {},
   "outputs": [
    {
     "data": {
      "text/latex": [
       "Quantum object: dims = [[2], [2]], shape = (2, 2), type = oper, isherm = False\\begin{equation*}\\left(\\begin{array}{*{11}c}0.0 & (-1.0+0.250j)\\\\0.0 & 0.0\\\\\\end{array}\\right)\\end{equation*}"
      ],
      "text/plain": [
       "Quantum object: dims = [[2], [2]], shape = (2, 2), type = oper, isherm = False\n",
       "Qobj data =\n",
       "[[ 0.+0.j   -1.+0.25j]\n",
       " [ 0.+0.j    0.+0.j  ]]"
      ]
     },
     "execution_count": 16,
     "metadata": {},
     "output_type": "execute_result"
    }
   ],
   "source": [
    "H[1][2]"
   ]
  },
  {
   "cell_type": "markdown",
   "metadata": {},
   "source": [
    "### basis fucntion: ket vector initialized at specific cell,site,dof:\n",
    "\n",
    "The basis() function enables the user to initialize a ket vector at a specific cell,\n",
    "site and dof."
   ]
  },
  {
   "cell_type": "code",
   "execution_count": 17,
   "metadata": {},
   "outputs": [
    {
     "name": "stdout",
     "output_type": "stream",
     "text": [
      "Quantum object: dims = [[1, 1, 1, 1], [3, 2, 4, 2]], shape = (1, 48), type = bra\n",
      "Qobj data =\n",
      "[[0. 0. 0. 0. 0. 0. 0. 0. 0. 0. 0. 0. 0. 0. 0. 0. 0. 0. 0. 0. 0. 1. 0. 0.\n",
      "  0. 0. 0. 0. 0. 0. 0. 0. 0. 0. 0. 0. 0. 0. 0. 0. 0. 0. 0. 0. 0. 0. 0. 0.]]\n"
     ]
    }
   ],
   "source": [
    "lattice_3224 = Lattice1d(num_cell=3, boundary = \"periodic\", \\\n",
    "                           cell_num_site = 2, cell_site_dof = [4,2])\n",
    "psi0 = lattice_3224.basis(1,0,[2,1])\n",
    "print( psi0.dag() )  # Because plotting the dag() takes up less space"
   ]
  },
  {
   "cell_type": "markdown",
   "metadata": {},
   "source": [
    "### Position Operator\n",
    "\n",
    "Calling the position operator, x() returns an operator in matrix form that gives the\n",
    "cell number for all the dofs present on the diagonal elements. The length of the unit\n",
    "cell is always considered 1."
   ]
  },
  {
   "cell_type": "code",
   "execution_count": 18,
   "metadata": {},
   "outputs": [
    {
     "data": {
      "text/latex": [
       "Quantum object: dims = [[4, 2], [4, 2]], shape = (8, 8), type = oper, isherm = True\\begin{equation*}\\left(\\begin{array}{*{11}c}0.0 & 0.0 & 0.0 & 0.0 & 0.0 & 0.0 & 0.0 & 0.0\\\\0.0 & 0.0 & 0.0 & 0.0 & 0.0 & 0.0 & 0.0 & 0.0\\\\0.0 & 0.0 & 1.0 & 0.0 & 0.0 & 0.0 & 0.0 & 0.0\\\\0.0 & 0.0 & 0.0 & 1.0 & 0.0 & 0.0 & 0.0 & 0.0\\\\0.0 & 0.0 & 0.0 & 0.0 & 2.0 & 0.0 & 0.0 & 0.0\\\\0.0 & 0.0 & 0.0 & 0.0 & 0.0 & 2.0 & 0.0 & 0.0\\\\0.0 & 0.0 & 0.0 & 0.0 & 0.0 & 0.0 & 3.0 & 0.0\\\\0.0 & 0.0 & 0.0 & 0.0 & 0.0 & 0.0 & 0.0 & 3.0\\\\\\end{array}\\right)\\end{equation*}"
      ],
      "text/plain": [
       "Quantum object: dims = [[4, 2], [4, 2]], shape = (8, 8), type = oper, isherm = True\n",
       "Qobj data =\n",
       "[[0. 0. 0. 0. 0. 0. 0. 0.]\n",
       " [0. 0. 0. 0. 0. 0. 0. 0.]\n",
       " [0. 0. 1. 0. 0. 0. 0. 0.]\n",
       " [0. 0. 0. 1. 0. 0. 0. 0.]\n",
       " [0. 0. 0. 0. 2. 0. 0. 0.]\n",
       " [0. 0. 0. 0. 0. 2. 0. 0.]\n",
       " [0. 0. 0. 0. 0. 0. 3. 0.]\n",
       " [0. 0. 0. 0. 0. 0. 0. 3.]]"
      ]
     },
     "execution_count": 18,
     "metadata": {},
     "output_type": "execute_result"
    }
   ],
   "source": [
    "lattice_412 = Lattice1d(num_cell=4, boundary = \"periodic\", cell_num_site = 1, cell_site_dof = [2])\n",
    "lattice_412.x()"
   ]
  },
  {
   "cell_type": "markdown",
   "metadata": {},
   "source": [
    "### Distribute A Operator\n",
    "The operator_at_cells() function distributes a user input operator on cells specified \n",
    "in a list and identity operator on the rest.\n",
    "The operator distribute_operator() distributes it over all the cells indiscriinately."
   ]
  },
  {
   "cell_type": "code",
   "execution_count": 19,
   "metadata": {},
   "outputs": [
    {
     "name": "stdout",
     "output_type": "stream",
     "text": [
      "Quantum object: dims = [[4, 2], [4, 2]], shape = (8, 8), type = oper, isherm = True\n",
      "Qobj data =\n",
      "[[0. 0. 0. 0. 0. 0. 0. 0.]\n",
      " [0. 0. 0. 0. 0. 0. 0. 0.]\n",
      " [0. 0. 0. 1. 0. 0. 0. 0.]\n",
      " [0. 0. 1. 0. 0. 0. 0. 0.]\n",
      " [0. 0. 0. 0. 0. 1. 0. 0.]\n",
      " [0. 0. 0. 0. 1. 0. 0. 0.]\n",
      " [0. 0. 0. 0. 0. 0. 0. 0.]\n",
      " [0. 0. 0. 0. 0. 0. 0. 0.]]\n",
      "Quantum object: dims = [[4, 2], [4, 2]], shape = (8, 8), type = oper, isherm = True\n",
      "Qobj data =\n",
      "[[0. 1. 0. 0. 0. 0. 0. 0.]\n",
      " [1. 0. 0. 0. 0. 0. 0. 0.]\n",
      " [0. 0. 0. 1. 0. 0. 0. 0.]\n",
      " [0. 0. 1. 0. 0. 0. 0. 0.]\n",
      " [0. 0. 0. 0. 0. 1. 0. 0.]\n",
      " [0. 0. 0. 0. 1. 0. 0. 0.]\n",
      " [0. 0. 0. 0. 0. 0. 0. 1.]\n",
      " [0. 0. 0. 0. 0. 0. 1. 0.]]\n"
     ]
    }
   ],
   "source": [
    "lattice_412 = Lattice1d(num_cell=4, boundary = \"periodic\", cell_num_site = 1, cell_site_dof = [2])\n",
    "op = Qobj(np.array([[0,1],[1,0]]) )\n",
    "op_sp = lattice_412.operator_at_cells(op, cells = [1,2])\n",
    "op_all = lattice_412.distribute_operator(op)\n",
    "print(op_sp)\n",
    "print(op_all)"
   ]
  },
  {
   "cell_type": "markdown",
   "metadata": {},
   "source": [
    "### Hamiltonian:\n",
    "The Hamiltoian() function returns the Hamiltonian for the lattice.\n"
   ]
  },
  {
   "cell_type": "code",
   "execution_count": 20,
   "metadata": {},
   "outputs": [
    {
     "name": "stdout",
     "output_type": "stream",
     "text": [
      "Quantum object: dims = [[8], [8]], shape = (8, 8), type = oper, isherm = True\n",
      "Qobj data =\n",
      "[[ 0. -1.  0.  0.  0.  0.  0. -1.]\n",
      " [-1.  0. -1.  0.  0.  0.  0.  0.]\n",
      " [ 0. -1.  0. -1.  0.  0.  0.  0.]\n",
      " [ 0.  0. -1.  0. -1.  0.  0.  0.]\n",
      " [ 0.  0.  0. -1.  0. -1.  0.  0.]\n",
      " [ 0.  0.  0.  0. -1.  0. -1.  0.]\n",
      " [ 0.  0.  0.  0.  0. -1.  0. -1.]\n",
      " [-1.  0.  0.  0.  0.  0. -1.  0.]]\n"
     ]
    }
   ],
   "source": [
    "boundary_condition = \"periodic\"\n",
    "cells = 8\n",
    "Periodic_Atom_Chain = Lattice1d(num_cell=cells, boundary = boundary_condition)\n",
    "Hamt = Periodic_Atom_Chain.Hamiltonian()\n",
    "print(Hamt)"
   ]
  },
  {
   "cell_type": "markdown",
   "metadata": {},
   "source": [
    "### Dispersion Relation:\n",
    "plot_dispersion() plots the valid (same as the number of unit cells) points in k-space\n",
    "over the dispersion relation of an infinite crystal.\n",
    "\n",
    "get_dispersion() returns the tuple of two np.ndarrays (knxA,val_kns). knxA has the valid k-values in it and val_kns has the band energies at those k-values. The length of \n",
    "the unit cell is always set to 1."
   ]
  },
  {
   "cell_type": "code",
   "execution_count": 21,
   "metadata": {},
   "outputs": [
    {
     "data": {
      "image/png": "[encoded data removed]",
      "text/plain": [
       "<Figure size 432x288 with 1 Axes>"
      ]
     },
     "metadata": {
      "needs_background": "light"
     },
     "output_type": "display_data"
    },
    {
     "name": "stdout",
     "output_type": "stream",
     "text": [
      "[[-3.14159265]\n",
      " [-2.35619449]\n",
      " [-1.57079633]\n",
      " [-0.78539816]\n",
      " [ 0.        ]\n",
      " [ 0.78539816]\n",
      " [ 1.57079633]\n",
      " [ 2.35619449]]\n",
      "[[ 2.          1.41421356  0.         -1.41421356 -2.         -1.41421356\n",
      "   0.          1.41421356]]\n"
     ]
    }
   ],
   "source": [
    "Periodic_Atom_Chain.plot_dispersion()\n",
    "[knxA,val_kns] = Periodic_Atom_Chain.get_dispersion()\n",
    "print(knxA)\n",
    "print(val_kns)"
   ]
  },
  {
   "cell_type": "markdown",
   "metadata": {},
   "source": [
    "### Example: Single site Cell with 2 dof: Coupled Resonator Optical Waveguide(CROW)\n",
    "We demonstrate declaration of a lattice1d instance for the CROW example in Ref. [2]."
   ]
  },
  {
   "cell_type": "markdown",
   "metadata": {},
   "source": [
    "\n",
    "![title](images/CROW.png)\n"
   ]
  },
  {
   "cell_type": "markdown",
   "metadata": {},
   "source": [
    "\\begin{eqnarray}\n",
    "H_0 = \\sum\\limits_{n} \\left(H_a + H_b + H_{ab} + H^{\\dagger}_{ab}   \\right) \\\\\n",
    "H_a = \\frac{J}{2} a_n^{\\dagger} \\left( e^{-i\\eta} a_{n-1} + e^{i\\eta} a_{n+1} \\right) \\\\\n",
    "H_b = \\frac{J}{2} b_n^{\\dagger} \\left( e^{i\\eta} b_{n-1} + e^{-i\\eta} b_{n+1} \\right) \\\\\n",
    "H_{ab} = J a_n^{\\dagger} \\left( sin (\\eta) b_n + \\frac{1}{2} \\left(b_{n-1} + b_{n+1}  \\right)  \\right)\n",
    "\\end{eqnarray}"
   ]
  },
  {
   "cell_type": "markdown",
   "metadata": {},
   "source": [
    "For implementation with Lattice1d class, we resolve the Hamiltonian into unitcells.\n",
    "\\begin{equation}\n",
    "H = \\sum\\limits_{n} H_n\n",
    "\\end{equation}"
   ]
  },
  {
   "cell_type": "markdown",
   "metadata": {},
   "source": [
    "\\begin{eqnarray}\n",
    "H_{n}= \\begin{bmatrix}\n",
    "    a_{n}^{\\dagger} & b_{n}^{\\dagger}       \n",
    "\\end{bmatrix} \n",
    "\\begin{bmatrix}\n",
    "      o     & J sin(\\eta) \\\\\n",
    "    J sin(\\eta)    & 0 \n",
    "\\end{bmatrix}\n",
    "\\begin{bmatrix}\n",
    "    a_{n}  \\\\\n",
    "    b_{n}  \n",
    "\\end{bmatrix} \n",
    "\\ \\ \\ \\ \\ \\ \\ \\ \\ \\ \\\\\n",
    "+ \\left( \\begin{bmatrix}\n",
    "    a_{n}^{\\dagger} & b_{n}^{\\dagger}       \n",
    "\\end{bmatrix} \n",
    "\\begin{bmatrix}\n",
    "      e^{i\\eta}     & 1 \\\\\n",
    "    1    & e^{-i\\eta} \n",
    "\\end{bmatrix}\n",
    "\\begin{bmatrix}\n",
    "    a_{n+1}  \\\\\n",
    "    b_{n+1}  \n",
    "\\end{bmatrix} + H.C. \\right)\n",
    "\\end{eqnarray}"
   ]
  },
  {
   "cell_type": "markdown",
   "metadata": {},
   "source": [
    "In the present case, we have 1 site in every unit cell and 2 dofs per site. And"
   ]
  },
  {
   "cell_type": "markdown",
   "metadata": {},
   "source": [
    "\\begin{equation}\n",
    "\\text{cell_Hamiltonian} = \\begin{bmatrix}\n",
    "      o     & J sin(\\eta) \\\\\n",
    "    J sin(\\eta)    & 0 \n",
    "\\end{bmatrix}\n",
    "\\end{equation}\n",
    "\\begin{equation}\n",
    "\\text{inter_hop} = \\begin{bmatrix}\n",
    "      e^{i\\eta}     & 1 \\\\\n",
    "    1    & e^{-i\\eta} \n",
    "\\end{bmatrix}\n",
    "\\end{equation}"
   ]
  },
  {
   "cell_type": "code",
   "execution_count": 22,
   "metadata": {},
   "outputs": [
    {
     "data": {
      "image/png": "[encoded data removed]",
      "text/plain": [
       "<Figure size 432x288 with 1 Axes>"
      ]
     },
     "metadata": {
      "needs_background": "light"
     },
     "output_type": "display_data"
    }
   ],
   "source": [
    "cell_num_site = 1\n",
    "cell_site_dof = [2]\n",
    "J = 2\n",
    " ### For eta = 0\n",
    "eta = 0\n",
    "cell_H = Qobj( np.array( [[0,J*np.sin(eta)  ],[J*np.sin(eta), 0]]   ) )\n",
    "inter_cell_T = (J/2)*Qobj(  np.array( [[ np.exp(eta * 1j) , 1 ],[1,np.exp(-eta*1j)]] )  )\n",
    "CROW_lattice = Lattice1d(num_cell=4, boundary = \"periodic\", cell_num_site = 1,\n",
    "                         cell_site_dof = [2], cell_Hamiltonian = cell_H,\n",
    "                         inter_hop = inter_cell_T )\n",
    "CROW_lattice.plot_dispersion()\n"
   ]
  },
  {
   "cell_type": "code",
   "execution_count": 23,
   "metadata": {},
   "outputs": [
    {
     "data": {
      "image/png": "[encoded data removed]",
      "text/plain": [
       "<Figure size 432x288 with 1 Axes>"
      ]
     },
     "metadata": {
      "needs_background": "light"
     },
     "output_type": "display_data"
    }
   ],
   "source": [
    " ### For eta = pi/4\n",
    "eta = np.pi/4\n",
    "cell_H = Qobj( np.array( [[0,J*np.sin(eta)  ],[J*np.sin(eta), 0]]   ) )\n",
    "inter_cell_T = (J/2)*Qobj(  np.array( [[ np.exp(eta * 1j) , 1 ],[1,np.exp(-eta*1j)]] )  )\n",
    "CROW_lattice = Lattice1d(num_cell=4, boundary = \"periodic\", cell_num_site = 1,\n",
    "                         cell_site_dof = [2], cell_Hamiltonian = cell_H,\n",
    "                         inter_hop = inter_cell_T )\n",
    "CROW_lattice.plot_dispersion()"
   ]
  },
  {
   "cell_type": "code",
   "execution_count": 24,
   "metadata": {},
   "outputs": [
    {
     "data": {
      "image/png": "[encoded data removed]",
      "text/plain": [
       "<Figure size 432x288 with 1 Axes>"
      ]
     },
     "metadata": {
      "needs_background": "light"
     },
     "output_type": "display_data"
    }
   ],
   "source": [
    " ### For eta = pi/2\n",
    "eta = np.pi/2\n",
    "cell_H = Qobj( np.array( [[0,J*np.sin(eta)  ],[J*np.sin(eta), 0]]   ) )\n",
    "inter_cell_T = (J/2)*Qobj(  np.array( [[ np.exp(eta * 1j) , 1 ],[1,np.exp(-eta*1j)]] )  )\n",
    "CROW_lattice = Lattice1d(num_cell=4, boundary = \"periodic\", cell_num_site = 1,\n",
    "                         cell_site_dof = [2], cell_Hamiltonian = cell_H,\n",
    "                         inter_hop = inter_cell_T )\n",
    "CROW_lattice.plot_dispersion()"
   ]
  },
  {
   "cell_type": "markdown",
   "metadata": {},
   "source": [
    "The three dispersion relationships for the three values of $\\eta$ can be compared with the published results in Ref [2]."
   ]
  },
  {
   "cell_type": "markdown",
   "metadata": {},
   "source": [
    "### References\n",
    "[1] J. R. Johansson, P. D. Nation, and F. Nori, Comp. Phys. Comm. 183, 1760 (2012). http://qutip.org\n",
    "\n",
    "[2] Han, JungYun, Clemens Gneiting, and Daniel Leykam. \"Helical transport in coupled resonator waveguides.\" Physical Review B 99.22 (2019): 224201.\n",
    "https://journals.aps.org/prb/abstract/10.1103/PhysRevB.99.224201#"
   ]
  },
  {
   "cell_type": "code",
   "execution_count": 25,
   "metadata": {},
   "outputs": [
    {
     "name": "stdout",
     "output_type": "stream",
     "text": [
      "\n",
      "QuTiP: Quantum Toolbox in Python\n",
      "================================\n",
      "Copyright (c) QuTiP team 2011 and later.\n",
      "Original developers: R. J. Johansson & P. D. Nation.\n",
      "Current admin team: Alexander Pitchford, Paul D. Nation, Nathan Shammah, Shahnawaz Ahmed, Neill Lambert, and Eric Giguère.\n",
      "Project Manager: Franco Nori.\n",
      "Currently developed through wide collaboration. See https://github.com/qutip for details.\n",
      "\n",
      "QuTiP Version:      4.5.0.dev0+c8074e5\n",
      "Numpy Version:      1.15.2\n",
      "Scipy Version:      1.1.0\n",
      "Cython Version:     0.28.5\n",
      "Matplotlib Version: 3.0.0\n",
      "Python Version:     3.5.4\n",
      "Number of CPUs:     2\n",
      "BLAS Info:          INTEL MKL\n",
      "OPENMP Installed:   True\n",
      "INTEL MKL Ext:      True\n",
      "Platform Info:      Linux (x86_64)\n",
      "Installation path:  /home/ssaumya7/Desktop/GSOC/Aug5/qutip/qutip\n",
      "==============================================================================\n",
      "Please cite QuTiP in your publication.\n",
      "==============================================================================\n",
      "For your convenience a bibtex reference can be easily generated using `qutip.cite()`\n"
     ]
    }
   ],
   "source": [
    "qutip.about()"
   ]
  },
  {
   "cell_type": "code",
   "execution_count": 26,
   "metadata": {},
   "outputs": [
    {
     "name": "stdout",
     "output_type": "stream",
     "text": [
      "@article{qutip2,\n",
      "doi = {10.1016/j.cpc.2012.11.019},\n",
      "url = {https://doi.org/10.1016/j.cpc.2012.11.019},\n",
      "year  = {2013},\n",
      "month = {apr},\n",
      "publisher = {Elsevier {BV}},\n",
      "volume = {184},\n",
      "number = {4},\n",
      "pages = {1234--1240},\n",
      "author = {J.R. Johansson and P.D. Nation and F. Nori},\n",
      "title = {{QuTiP} 2: A {P}ython framework for the dynamics of open quantum systems},\n",
      "journal = {Computer Physics Communications}\n",
      "}\n",
      "@article{qutip1,\n",
      "doi = {10.1016/j.cpc.2012.02.021},\n",
      "url = {https://doi.org/10.1016/j.cpc.2012.02.021},\n",
      "year  = {2012},\n",
      "month = {aug},\n",
      "publisher = {Elsevier {BV}},\n",
      "volume = {183},\n",
      "number = {8},\n",
      "pages = {1760--1772},\n",
      "author = {J.R. Johansson and P.D. Nation and F. Nori},\n",
      "title = {{QuTiP}: An open-source {P}ython framework for the dynamics of open quantum systems},\n",
      "journal = {Computer Physics Communications}\n",
      "}\n"
     ]
    }
   ],
   "source": [
    "qutip.cite()"
   ]
  }
 ],
 "metadata": {
  "kernelspec": {
   "display_name": "Python 3",
   "language": "python",
   "name": "python3"
  },
  "language_info": {
   "codemirror_mode": {
    "name": "ipython",
    "version": 3
   },
   "file_extension": ".py",
   "mimetype": "text/x-python",
   "name": "python",
   "nbconvert_exporter": "python",
   "pygments_lexer": "ipython3",
   "version": "3.5.4"
  }
 },
 "nbformat": 4,
 "nbformat_minor": 2
}
