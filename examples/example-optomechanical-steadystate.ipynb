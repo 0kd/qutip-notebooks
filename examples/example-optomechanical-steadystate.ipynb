{
 "metadata": {
  "name": "",
  "signature": "sha256:2f3c0dfffd2bd3a577a08b7693a4b4adeff226150ffed3904e95df14f1357f0a"
 },
 "nbformat": 3,
 "nbformat_minor": 0,
 "worksheets": [
  {
   "cells": [
    {
     "cell_type": "heading",
     "level": 1,
     "metadata": {},
     "source": [
      "QuTiP Example: Steady State for an Optomechanical System in the Single-Photon Strong-Coupling Regime"
     ]
    },
    {
     "cell_type": "markdown",
     "metadata": {},
     "source": [
      "P.D. Nation and J.R. Johansson\n",
      "\n",
      "For more information about QuTiP see [http://qutip.org](http://qutip.org)"
     ]
    },
    {
     "cell_type": "code",
     "collapsed": false,
     "input": [
      "%pylab inline"
     ],
     "language": "python",
     "metadata": {},
     "outputs": [
      {
       "output_type": "stream",
       "stream": "stdout",
       "text": [
        "Populating the interactive namespace from numpy and matplotlib\n"
       ]
      }
     ],
     "prompt_number": 1
    },
    {
     "cell_type": "code",
     "collapsed": false,
     "input": [
      "from qutip import *"
     ],
     "language": "python",
     "metadata": {},
     "outputs": [],
     "prompt_number": 2
    },
    {
     "cell_type": "heading",
     "level": 2,
     "metadata": {},
     "source": [
      "Optomechanical Hamiltonian"
     ]
    },
    {
     "cell_type": "markdown",
     "metadata": {},
     "source": [
      "The optomechanical Hamiltonian arrises from the radiation pressure interaction of light in an optical cavity where one of the cavity mirrors is mechanically compliant."
     ]
    },
    {
     "cell_type": "markdown",
     "metadata": {},
     "source": [
      "<img src=\"../files/images/optomechanical_Setup.png\" style=\"width:400px\">"
     ]
    },
    {
     "cell_type": "markdown",
     "metadata": {},
     "source": [
      "Assuming that $a^{+}$, $a$ and $b^{+}$,$b$ are the raising and lowering operators for the cavity and mechanical oscillator, respectively, the Hamiltonian for an optomechanical system driven by a classical monochromatic pump term can be written as "
     ]
    },
    {
     "cell_type": "markdown",
     "metadata": {},
     "source": [
      "\\begin{equation}\n",
      "\\frac{\\hat{H}}{\\hbar}=-\\Delta\\hat{a}^{+}\\hat{a}+\\omega_{m}\\hat{b}^{+}\\hat{b}+g_{0}(\\hat{b}+\\hat{b}^{+})\\hat{a}^{+}\\hat{a}+E\\left(\\hat{a}+\\hat{a}^{+}\\right),\n",
      "\\end{equation}"
     ]
    },
    {
     "cell_type": "markdown",
     "metadata": {},
     "source": [
      "where $\\Delta=\\omega_{p}-\\omega_{c}$ is the detuning between the pump ($\\omega_{p}$) and cavity ($\\omega_{c}$) mode frequencies, $g_{0}$ is the single-photon coupling strength, and $E$ is the amplitude of the pump mode. It is known that in the single-photon strong-coupling regime, where the cavity frequency shift per phonon is larger than the cavity line width, $g_{0}/\\kappa \\gtrsim 1$ where $\\kappa$ is the decay rate of the cavity, and a single single photon displaces the mechanical oscillator by more than its zero-point amplitude $g_{0}/\\omega_{m} \\gtrsim 1$, or equiviently, $g^{2}_{0}/\\kappa\\omega_{m} \\gtrsim 1$, the mechanical oscillator can be driven into a nonclassical steady state of the system$+$environment dynamics.  Here, we will use the steady state solvers in QuTiP to explore such a state and compare the various solvers."
     ]
    },
    {
     "cell_type": "heading",
     "level": 2,
     "metadata": {},
     "source": [
      "Solving for the Steady State Density Matrix"
     ]
    },
    {
     "cell_type": "markdown",
     "metadata": {},
     "source": [
      "The steady state density matrix of the optomechanical system plus the environment can be found from the Liouvillian superoperator $\\mathcal{L}$ via\n",
      "\n",
      "\\begin{equation}\n",
      "\\frac{d\\rho}{dt}=\\mathcal{L}\\rho=0\\rho,\n",
      "\\end{equation}\n",
      "\n",
      "where $\\mathcal{L}$ is typically given in Lindblad form\n",
      "\\begin{align}\n",
      "\\mathcal{L}[\\hat{\\rho}]=&-i[\\hat{H},\\hat{\\rho}]+\\kappa \\mathcal{D}\\left[\\hat{a},\\hat{\\rho}\\right]\\\\\n",
      "&+\\Gamma_{m}(1+n_{\\rm{th}})\\mathcal{D}[\\hat{b},\\hat{\\rho}]+\\Gamma_{m}n_{\\rm th}\\mathcal{D}[\\hat{b}^{+},\\hat{\\rho}], \\nonumber\n",
      "\\end{align}\n",
      "\n",
      "where $\\Gamma_{m}$ is the coulping strength of the mechanical oscillator to its thermal environment with average occupation number $n_{th}$.  As is customary, here we assume that the cavity mode is coupled to the vacuum.\n",
      "\n",
      "Although, the steady state solution is nothing but an eigenvalue equation, the numerical solution to this equation is anything but trivial due to the non-Hermitian structure of $\\mathcal{L}$ and its worsening condition number has the dimensionality of the truncated Hilbert space increases."
     ]
    },
    {
     "cell_type": "heading",
     "level": 2,
     "metadata": {},
     "source": [
      "Steady State Solvers in QuTiP v3.0+"
     ]
    },
    {
     "cell_type": "markdown",
     "metadata": {},
     "source": [
      "As of QuTiP version 3.0, the following steady state solvers are available:\n",
      "\n",
      "- **direct**: Direct LU factorization\n",
      "- **eigen**: Calculates the eigenvector associated with the zero eigenvalue of $\\mathcal{L}\\rho$.\n",
      "- **power**: Finds zero eigenvector using inverse-power method.\n",
      "- **iterative-gmres**: Iterative solution via the GMRES solver.\n",
      "- **iterative-lgmres**: Iterative solution via the LGMRES solver.\n",
      "- **iterative-bicgstab**: Iterative solution via the BICGSTAB solver.\n",
      "- **svd**: Solution via SVD decomposition (dense matrices only)."
     ]
    },
    {
     "cell_type": "heading",
     "level": 2,
     "metadata": {},
     "source": [
      "Setup and Solution"
     ]
    },
    {
     "cell_type": "heading",
     "level": 3,
     "metadata": {},
     "source": [
      "System Parameters"
     ]
    },
    {
     "cell_type": "code",
     "collapsed": false,
     "input": [
      "# System Parameters (in units of wm)\n",
      "#-----------------------------------\n",
      "Nc = 4                      # Number of cavity states\n",
      "Nm = 80                     # Number of mech states\n",
      "kappa = 0.3                 # Cavity damping rate\n",
      "E = 0.1                     # Driving Amplitude         \n",
      "g0 = 2.4*kappa              # Coupling strength\n",
      "Qm = 1e4                    # Mech quality factor\n",
      "gamma = 1/Qm                # Mech damping rate\n",
      "n_th = 1                    # Mech bath temperature\n",
      "delta = -0.43               # Detuning"
     ],
     "language": "python",
     "metadata": {},
     "outputs": [],
     "prompt_number": 3
    },
    {
     "cell_type": "heading",
     "level": 3,
     "metadata": {},
     "source": [
      "Build Hamiltonian and Collapse Operators"
     ]
    },
    {
     "cell_type": "code",
     "collapsed": false,
     "input": [
      "# Operators\n",
      "#----------\n",
      "a = tensor(destroy(Nc),qeye(Nm))\n",
      "b = tensor(qeye(Nc),destroy(Nm))\n",
      "num_b = b.dag()*b\n",
      "num_a = a.dag()*a\n",
      "\n",
      "# Hamiltonian\n",
      "#------------\n",
      "H = -delta*(num_a)+num_b+g0*(b.dag()+b)*num_a+E*(a.dag()+a)\n",
      "\n",
      "# Collapse operators\n",
      "#-------------------\n",
      "cc = sqrt(kappa)*a\n",
      "cm = sqrt(gamma*(1.0 + n_th))*b\n",
      "cp = sqrt(gamma*n_th)*b.dag()\n",
      "c_ops = [cc,cm,cp]"
     ],
     "language": "python",
     "metadata": {},
     "outputs": [],
     "prompt_number": 4
    },
    {
     "cell_type": "heading",
     "level": 3,
     "metadata": {},
     "source": [
      "Run Steady State Solvers"
     ]
    },
    {
     "cell_type": "code",
     "collapsed": false,
     "input": [
      "solvers = ['direct','eigen','power','iterative-gmres','iterative-bicgstab']\n",
      "mech_dms = []\n",
      "\n",
      "for ss in solvers:\n",
      "    if ss in ['iterative-gmres','iterative-bicgstab']:\n",
      "        use_rcm = True\n",
      "    else:\n",
      "        use_rcm = False\n",
      "    rho_ss, info = steadystate(H, c_ops, method=ss,use_precond=True, \n",
      "                use_rcm=use_rcm, tol=1e-15, return_info=True)\n",
      "    print(ss,'solution time =',info['solution_time'])\n",
      "    rho_mech = ptrace(rho_ss,1)\n",
      "    mech_dms.append(rho_mech)\n",
      "mech_dms = asarray(mech_dms)"
     ],
     "language": "python",
     "metadata": {},
     "outputs": [
      {
       "output_type": "stream",
       "stream": "stdout",
       "text": [
        "direct solution time = 213.71365809440613\n",
        "eigen"
       ]
      },
      {
       "output_type": "stream",
       "stream": "stdout",
       "text": [
        " solution time = 224.14764595031738\n",
        "power"
       ]
      },
      {
       "output_type": "stream",
       "stream": "stdout",
       "text": [
        " solution time = 0.7819640636444092\n",
        "iterative-gmres"
       ]
      },
      {
       "output_type": "stream",
       "stream": "stdout",
       "text": [
        " solution time = 92.44742679595947\n",
        "iterative-bicgstab"
       ]
      },
      {
       "output_type": "stream",
       "stream": "stdout",
       "text": [
        " solution time = 99.713711977005\n"
       ]
      }
     ],
     "prompt_number": 5
    },
    {
     "cell_type": "heading",
     "level": 3,
     "metadata": {},
     "source": [
      "Check Consistancy of Solutions"
     ]
    },
    {
     "cell_type": "markdown",
     "metadata": {},
     "source": [
      "Can check to see if the solutions are the same by looking at the number of nonzero elements (NNZ) in the difference between mechanical density matrices."
     ]
    },
    {
     "cell_type": "code",
     "collapsed": false,
     "input": [
      "for kk in range(len(mech_dms)):\n",
      "    print((mech_dms[kk]-mech_dms[0]).data.nnz)"
     ],
     "language": "python",
     "metadata": {},
     "outputs": [
      {
       "output_type": "stream",
       "stream": "stdout",
       "text": [
        "0\n",
        "98\n",
        "0\n",
        "0\n",
        "0\n"
       ]
      }
     ],
     "prompt_number": 10
    },
    {
     "cell_type": "markdown",
     "metadata": {},
     "source": [
      "It seems that the eigensolver solution is not exactly the same.  Lets check the magnitude of the elements to see if they are small."
     ]
    },
    {
     "cell_type": "code",
     "collapsed": false,
     "input": [
      "for kk in range(len(mech_dms)):\n",
      "    print(any(abs((mech_dms[kk]-mech_dms[0]).data.data)>1e-11))"
     ],
     "language": "python",
     "metadata": {},
     "outputs": [
      {
       "output_type": "stream",
       "stream": "stdout",
       "text": [
        "False\n",
        "False\n",
        "False\n",
        "False\n",
        "False\n"
       ]
      }
     ],
     "prompt_number": 13
    },
    {
     "cell_type": "heading",
     "level": 2,
     "metadata": {},
     "source": [
      "Plot the Mechanical Oscillator Wigner Function"
     ]
    },
    {
     "cell_type": "markdown",
     "metadata": {},
     "source": [
      "It is known that the density matrix for the mechanical oscillator is diagoinal in the Fock basis due to phase diffusion.  However, since we have a truncated Hilbert space, some small off-diagonal terms show up"
     ]
    },
    {
     "cell_type": "code",
     "collapsed": false,
     "input": [
      "spy(rho_mech.data,ms=1)"
     ],
     "language": "python",
     "metadata": {},
     "outputs": [
      {
       "metadata": {},
       "output_type": "pyout",
       "prompt_number": 17,
       "text": [
        "<matplotlib.lines.Line2D at 0x10b941a58>"
       ]
      },
      {
       "metadata": {},
       "output_type": "display_data",
       "png": "[encoded data removed]",
       "text": [
        "<matplotlib.figure.Figure at 0x10c623978>"
       ]
      }
     ],
     "prompt_number": 17
    },
    {
     "cell_type": "markdown",
     "metadata": {},
     "source": [
      "Therefore, to remove this error, let use explicitly take the diagonal elements are form a new operator out of them"
     ]
    },
    {
     "cell_type": "code",
     "collapsed": false,
     "input": [
      "diag=rho_mech.diag()\n",
      "rho_mech=qdiags(diag,0,dims=rho_mech.dims,shape=rho_mech.shape)\n",
      "spy(rho_mech.data,ms=1)"
     ],
     "language": "python",
     "metadata": {},
     "outputs": [
      {
       "metadata": {},
       "output_type": "pyout",
       "prompt_number": 21,
       "text": [
        "<matplotlib.lines.Line2D at 0x11a4c1eb8>"
       ]
      },
      {
       "metadata": {},
       "output_type": "display_data",
       "png": "[encoded data removed]",
       "text": [
        "<matplotlib.figure.Figure at 0x10bd4f0f0>"
       ]
      }
     ],
     "prompt_number": 21
    },
    {
     "cell_type": "markdown",
     "metadata": {},
     "source": [
      "Now lets compute the oscillator Wigner function and plot it to see if there are any regions of negativity."
     ]
    },
    {
     "cell_type": "code",
     "collapsed": false,
     "input": [
      "xvec=linspace(-20,20,1024)\n",
      "W,yvec = wigner(rho_mech,xvec,xvec,method='fft')\n",
      "wmap=wigner_cmap(W,shift=-1e-5)\n",
      "contourf(xvec,yvec,W,256,cmap=wmap)\n",
      "xlim([-10,10])\n",
      "ylim([-10,10])\n",
      "colorbar()\n",
      "show()"
     ],
     "language": "python",
     "metadata": {},
     "outputs": [
      {
       "metadata": {},
       "output_type": "display_data",
       "png": "[encoded data removed]",
       "text": [
        "<matplotlib.figure.Figure at 0x118676588>"
       ]
      }
     ],
     "prompt_number": 20
    },
    {
     "cell_type": "heading",
     "level": 2,
     "metadata": {},
     "source": [
      "Versions"
     ]
    },
    {
     "cell_type": "code",
     "collapsed": false,
     "input": [
      "from qutip.ipynbtools import version_table\n",
      "\n",
      "version_table()"
     ],
     "language": "python",
     "metadata": {},
     "outputs": [
      {
       "html": [
        "<table><tr><th>Software</th><th>Version</th></tr><tr><td>Python</td><td>3.4.2 (default, Oct 21 2014, 00:46:44) \n",
        "[GCC 4.2.1 Compatible Apple LLVM 6.0 (clang-600.0.54)]</td></tr><tr><td>OS</td><td>posix [darwin]</td></tr><tr><td>Cython</td><td>0.21.1</td></tr><tr><td>Numpy</td><td>1.9.1</td></tr><tr><td>IPython</td><td>2.3.0</td></tr><tr><td>QuTiP</td><td>3.1.0.dev-e0948f0</td></tr><tr><td>matplotlib</td><td>1.4.2</td></tr><tr><td>SciPy</td><td>0.14.0</td></tr><tr><td colspan='2'>Tue Nov 11 20:53:25 2014 KST</td></tr></table>"
       ],
       "metadata": {},
       "output_type": "pyout",
       "prompt_number": 9,
       "text": [
        "<IPython.core.display.HTML at 0x10b5d6860>"
       ]
      }
     ],
     "prompt_number": 9
    }
   ],
   "metadata": {}
  }
 ]
}