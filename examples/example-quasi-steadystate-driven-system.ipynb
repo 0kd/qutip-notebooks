{
 "metadata": {
  "name": "",
  "signature": "sha256:3ce43435d9dff93d7f6fdcf78a1d7c52b9c45b3ef6d32bd04c738c4a637e5559"
 },
 "nbformat": 3,
 "nbformat_minor": 0,
 "worksheets": [
  {
   "cells": [
    {
     "cell_type": "heading",
     "level": 1,
     "metadata": {},
     "source": [
      "QuTiP example: Calculate the quasi-steadystate of a time-dependent (period) quantum system"
     ]
    },
    {
     "cell_type": "markdown",
     "metadata": {},
     "source": [
      "J.R. Johansson and P.D. Nation\n",
      "\n",
      "For more information about QuTiP see [http://qutip.org](http://qutip.org)"
     ]
    },
    {
     "cell_type": "markdown",
     "metadata": {},
     "source": [
      "Find the steady state of a driven qubit, by finding the eigenstates of the propagator for one driving period"
     ]
    },
    {
     "cell_type": "code",
     "collapsed": false,
     "input": [
      "%pylab inline"
     ],
     "language": "python",
     "metadata": {},
     "outputs": [
      {
       "output_type": "stream",
       "stream": "stdout",
       "text": [
        "Populating the interactive namespace from numpy and matplotlib\n"
       ]
      }
     ],
     "prompt_number": 1
    },
    {
     "cell_type": "code",
     "collapsed": false,
     "input": [
      "from qutip import *"
     ],
     "language": "python",
     "metadata": {},
     "outputs": [],
     "prompt_number": 2
    },
    {
     "cell_type": "code",
     "collapsed": false,
     "input": [
      "def hamiltonian_t(t, args):\n",
      "    #\n",
      "    # evaluate the hamiltonian at time t. \n",
      "    #\n",
      "    H0 = args['H0']\n",
      "    H1 = args['H1']\n",
      "    w  = args['w']\n",
      "\n",
      "    return H0 + H1 * sin(w * t)"
     ],
     "language": "python",
     "metadata": {},
     "outputs": [],
     "prompt_number": 3
    },
    {
     "cell_type": "code",
     "collapsed": false,
     "input": [
      "def sd_qubit_integrate(delta, eps0, A, w, gamma1, gamma2, psi0, tlist):\n",
      "\n",
      "    # Hamiltonian\n",
      "    sx = sigmax()\n",
      "    sz = sigmaz()\n",
      "    sm = destroy(2)\n",
      "\n",
      "    H0 = - delta/2.0 * sx - eps0/2.0 * sz\n",
      "    H1 = - A * sx\n",
      "        \n",
      "    H_args = {'H0': H0, 'H1': H1, 'w': w}\n",
      "    # collapse operators\n",
      "    c_op_list = []\n",
      "\n",
      "    n_th = 0.5 # zero temperature\n",
      "\n",
      "    # relaxation\n",
      "    rate = gamma1 * (1 + n_th)\n",
      "    if rate > 0.0:\n",
      "        c_op_list.append(sqrt(rate) * sm)\n",
      "\n",
      "    # excitation\n",
      "    rate = gamma1 * n_th\n",
      "    if rate > 0.0:\n",
      "        c_op_list.append(sqrt(rate) * sm.dag())\n",
      "\n",
      "    # dephasing \n",
      "    rate = gamma2\n",
      "    if rate > 0.0:\n",
      "        c_op_list.append(sqrt(rate) * sz)\n",
      "\n",
      "\n",
      "    # evolve and calculate expectation values\n",
      "    output = mesolve(hamiltonian_t, psi0, tlist, c_op_list, [sm.dag() * sm], H_args)  \n",
      "\n",
      "    T = 2 * pi / w\n",
      "\n",
      "    U = propagator(hamiltonian_t, T, c_op_list, H_args)\n",
      "\n",
      "    rho_ss = propagator_steadystate(U)\n",
      "\n",
      "    return output.expect[0], expect(sm.dag() * sm, rho_ss) * ones(shape(tlist))"
     ],
     "language": "python",
     "metadata": {},
     "outputs": [],
     "prompt_number": 4
    },
    {
     "cell_type": "code",
     "collapsed": false,
     "input": [
      "delta = 0.3  * 2 * pi   # qubit sigma_x coefficient\n",
      "eps0  = 1.0  * 2 * pi   # qubit sigma_z coefficient\n",
      "A     = 0.05 * 2 * pi   # driving amplitude (sigma_x coupled)\n",
      "w     = 1.0  * 2 * pi   # driving frequency\n",
      "\n",
      "gamma1 = 0.15          # relaxation rate\n",
      "gamma2 = 0.05           # dephasing  rate\n",
      "\n",
      "# intial state\n",
      "psi0 = basis(2,0)\n",
      "tlist = linspace(0,50,500)"
     ],
     "language": "python",
     "metadata": {},
     "outputs": [],
     "prompt_number": 5
    },
    {
     "cell_type": "code",
     "collapsed": false,
     "input": [
      "p_ex, p_ex_ss = sd_qubit_integrate(delta, eps0, A, w, gamma1, gamma2, psi0, tlist)"
     ],
     "language": "python",
     "metadata": {},
     "outputs": [],
     "prompt_number": 6
    },
    {
     "cell_type": "code",
     "collapsed": false,
     "input": [
      "figure(figsize=(12,6))\n",
      "\n",
      "plot(tlist, real(p_ex))\n",
      "plot(tlist, real(p_ex_ss))\n",
      "xlabel('Time')\n",
      "ylabel('P_ex')\n",
      "ylim(0,1)\n",
      "title('Excitation probabilty of qubit');"
     ],
     "language": "python",
     "metadata": {},
     "outputs": [
      {
       "metadata": {},
       "output_type": "display_data",
       "png": "[encoded data removed]",
       "text": [
        "<matplotlib.figure.Figure at 0x7f065f16ec88>"
       ]
      }
     ],
     "prompt_number": 7
    },
    {
     "cell_type": "heading",
     "level": 2,
     "metadata": {},
     "source": [
      "Software version:"
     ]
    },
    {
     "cell_type": "code",
     "collapsed": false,
     "input": [
      "from qutip.ipynbtools import version_table\n",
      "\n",
      "version_table()"
     ],
     "language": "python",
     "metadata": {},
     "outputs": [
      {
       "html": [
        "<table><tr><th>Software</th><th>Version</th></tr><tr><td>QuTiP</td><td>3.0.0.dev-526f1d2</td></tr><tr><td>matplotlib</td><td>1.3.1</td></tr><tr><td>Python</td><td>3.4.1 (default, Jun  9 2014, 17:34:49) \n",
        "[GCC 4.8.3]</td></tr><tr><td>OS</td><td>posix [linux]</td></tr><tr><td>Cython</td><td>0.20.1post0</td></tr><tr><td>IPython</td><td>2.0.0</td></tr><tr><td>SciPy</td><td>0.13.3</td></tr><tr><td>Numpy</td><td>1.8.1</td></tr><tr><td colspan='2'>Wed Jun 25 15:38:41 2014 JST</td></tr></table>"
       ],
       "metadata": {},
       "output_type": "pyout",
       "prompt_number": 8,
       "text": [
        "<IPython.core.display.HTML at 0x7f065f3c9828>"
       ]
      }
     ],
     "prompt_number": 8
    }
   ],
   "metadata": {}
  }
 ]
}