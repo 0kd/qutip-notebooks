{
 "cells": [
  {
   "cell_type": "markdown",
   "metadata": {},
   "source": [
    "# Calculation of control fields for QFT gate on two qubits using the CRAB algorithm"
   ]
  },
  {
   "cell_type": "markdown",
   "metadata": {},
   "source": [
    "Alexander Pitchford (agp1@aber.ac.uk)"
   ]
  },
  {
   "cell_type": "raw",
   "metadata": {},
   "source": [
    "Example to demonstrate using the CRAB [1][2] algorithm in the control library \n",
    "to determine control pulses using the ctrlpulseoptim.create_pulse_optimizer function to \n",
    "generate an Optimizer object, through which the configuration can be\n",
    "manipulated before running the optmisation algorithm. In this case it is\n",
    "demonstrated by modifying the CRAB pulse parameters to show how pulse constraints\n",
    "for controls can be applied.\n",
    "\n",
    "The system in this example is two qubits in constant fields in x, y and z\n",
    "with a variable independant controls fields in x and y acting on each qubit\n",
    "The target evolution is the QFT gate. The user can experiment with the\n",
    "different:\n",
    "    phase options - phase_option = SU or PSU\n",
    "    propagtor computer type prop_type = DIAG or FRECHET\n",
    "    fidelity measures - fid_type = UNIT or TRACEDIFF\n",
    "\n",
    "The user can experiment with the timeslicing, by means of changing the\n",
    "number of timeslots and/or total time for the evolution.\n",
    "Different guess and ramping pulse parameters can be tried.\n",
    "The initial and final pulses are displayed in a plot"
   ]
  },
  {
   "cell_type": "code",
   "execution_count": 1,
   "metadata": {
    "collapsed": false
   },
   "outputs": [],
   "source": [
    "%matplotlib inline\n",
    "import numpy as np\n",
    "import matplotlib.pyplot as plt\n",
    "import datetime"
   ]
  },
  {
   "cell_type": "code",
   "execution_count": 2,
   "metadata": {
    "collapsed": false
   },
   "outputs": [],
   "source": [
    "from qutip import Qobj, identity, sigmax, sigmay, sigmaz, tensor\n",
    "from qutip.qip.algorithms import qft\n",
    "import qutip.logging_utils as logging\n",
    "logger = logging.get_logger()\n",
    "#Set this to None or logging.WARN for 'quiet' execution\n",
    "log_level = logging.INFO\n",
    "#QuTiP control modules\n",
    "import qutip.control.pulseoptim as cpo\n",
    "import qutip.control.pulsegen as pulsegen\n",
    "\n",
    "example_name = 'QFT'\n"
   ]
  },
  {
   "cell_type": "markdown",
   "metadata": {},
   "source": [
    "### Defining the physics"
   ]
  },
  {
   "cell_type": "code",
   "execution_count": 3,
   "metadata": {
    "collapsed": false
   },
   "outputs": [],
   "source": [
    "Sx = sigmax()\n",
    "Sy = sigmay()\n",
    "Sz = sigmaz()\n",
    "Si = 0.5*identity(2)\n",
    "\n",
    "# Drift Hamiltonian\n",
    "H_d = 0.5*(tensor(Sx, Sx) + tensor(Sy, Sy) + tensor(Sz, Sz))\n",
    "# The (four) control Hamiltonians\n",
    "H_c = [tensor(Sx, Si), tensor(Sy, Si), tensor(Si, Sx), tensor(Si, Sy)]\n",
    "n_ctrls = len(H_c)\n",
    "# start point for the gate evolution\n",
    "U_0 = identity(4)\n",
    "# Target for the gate evolution - Quantum Fourier Transform gate\n",
    "U_targ = qft.qft(2)"
   ]
  },
  {
   "cell_type": "markdown",
   "metadata": {},
   "source": [
    "### Defining the time evolution parameters"
   ]
  },
  {
   "cell_type": "code",
   "execution_count": 4,
   "metadata": {
    "collapsed": false
   },
   "outputs": [],
   "source": [
    "# Number of time slots\n",
    "n_ts = 200\n",
    "# Time allowed for the evolution\n",
    "evo_time = 10"
   ]
  },
  {
   "cell_type": "markdown",
   "metadata": {},
   "source": [
    "### Set the conditions which will cause the pulse optimisation to terminate"
   ]
  },
  {
   "cell_type": "code",
   "execution_count": 5,
   "metadata": {
    "collapsed": false
   },
   "outputs": [],
   "source": [
    "# Fidelity error target\n",
    "fid_err_targ = 1e-3\n",
    "# Maximum iterations for the optisation algorithm\n",
    "max_iter = 20000\n",
    "# Maximum (elapsed) time allowed in seconds\n",
    "max_wall_time = 300"
   ]
  },
  {
   "cell_type": "markdown",
   "metadata": {},
   "source": [
    "### Give an extension for output files"
   ]
  },
  {
   "cell_type": "code",
   "execution_count": 6,
   "metadata": {
    "collapsed": false
   },
   "outputs": [],
   "source": [
    "#Set to None to suppress output files\n",
    "f_ext = \"{}_n_ts{}.txt\".format(example_name, n_ts)"
   ]
  },
  {
   "cell_type": "markdown",
   "metadata": {},
   "source": [
    "### Create the optimiser objects"
   ]
  },
  {
   "cell_type": "code",
   "execution_count": 7,
   "metadata": {
    "collapsed": false
   },
   "outputs": [],
   "source": [
    "optim = cpo.create_pulse_optimizer(H_d, H_c, U_0, U_targ, n_ts, evo_time, \n",
    "                fid_err_targ=fid_err_targ, \n",
    "                max_iter=max_iter, max_wall_time=max_wall_time,\n",
    "                alg='CRAB', \n",
    "                dyn_type='UNIT', \n",
    "                prop_type='DIAG', \n",
    "                fid_type='UNIT', fid_params={'phase_option':'PSU'}, \n",
    "                log_level=log_level, gen_stats=True)\n",
    "                "
   ]
  },
  {
   "cell_type": "markdown",
   "metadata": {},
   "source": [
    "### Configure the pulses for each of the controls"
   ]
  },
  {
   "cell_type": "code",
   "execution_count": 8,
   "metadata": {
    "collapsed": false
   },
   "outputs": [
    {
     "name": "stderr",
     "output_type": "stream",
     "text": [
      "INFO:qutip.control.pulsegen:The number of CRAB coefficients per basis function has been estimated as 3, which means a total of 6 optimisation variables for this pulse. Based on the dimension (4) of the system\n",
      "INFO:qutip.control.pulsegen:The number of CRAB coefficients per basis function has been estimated as 3, which means a total of 6 optimisation variables for this pulse. Based on the dimension (4) of the system\n",
      "INFO:qutip.control.pulsegen:The number of CRAB coefficients per basis function has been estimated as 3, which means a total of 6 optimisation variables for this pulse. Based on the dimension (4) of the system\n",
      "INFO:qutip.control.dynamics:Internal operator data type choosen to be <class 'numpy.ndarray'>\n"
     ]
    }
   ],
   "source": [
    "dyn = optim.dynamics\n",
    "\n",
    "# Control 1\n",
    "crab_pgen = optim.pulse_generator[0]\n",
    "# Start from a ramped pulse\n",
    "guess_pgen = pulsegen.create_pulse_gen('LIN', dyn=dyn, \n",
    "                                           pulse_params={'scaling':3.0})\n",
    "crab_pgen.guess_pulse = guess_pgen.gen_pulse()\n",
    "crab_pgen.scaling = 0.0\n",
    "# Add some higher frequency components\n",
    "crab_pgen.num_coeffs = 5\n",
    "\n",
    "# Control 2\n",
    "crab_pgen = optim.pulse_generator[1]\n",
    "# Apply a ramping pulse that will force the start and end to zero\n",
    "ramp_pgen = pulsegen.create_pulse_gen('GAUSSIAN_EDGE', dyn=dyn, \n",
    "                                    pulse_params={'decay_time':evo_time/50.0})\n",
    "crab_pgen.ramping_pulse = ramp_pgen.gen_pulse()\n",
    "\n",
    "# Control 3\n",
    "crab_pgen = optim.pulse_generator[2]\n",
    "# Add bounds\n",
    "crab_pgen.scaling = 0.5\n",
    "crab_pgen.lbound = -2.0\n",
    "crab_pgen.ubound = 2.0\n",
    "\n",
    "\n",
    "# Control 4\n",
    "crab_pgen = optim.pulse_generator[3]\n",
    "# Start from a triangular pulse with small signal\n",
    "guess_pgen = pulsegen.PulseGenTriangle(dyn=dyn)\n",
    "guess_pgen.num_waves = 1\n",
    "guess_pgen.scaling = 2.0\n",
    "guess_pgen.offset = 2.0\n",
    "crab_pgen.guess_pulse = guess_pgen.gen_pulse()\n",
    "crab_pgen.scaling = 0.1\n",
    "\n",
    "init_amps = np.zeros([n_ts, n_ctrls])\n",
    "for j in range(dyn.num_ctrls):\n",
    "    pgen = optim.pulse_generator[j]\n",
    "    pgen.init_pulse()\n",
    "    init_amps[:, j] = pgen.gen_pulse()\n",
    "\n",
    "dyn.initialize_controls(init_amps)"
   ]
  },
  {
   "cell_type": "markdown",
   "metadata": {},
   "source": [
    "### Run the pulse optimisation"
   ]
  },
  {
   "cell_type": "code",
   "execution_count": 9,
   "metadata": {
    "collapsed": false
   },
   "outputs": [
    {
     "name": "stderr",
     "output_type": "stream",
     "text": [
      "INFO:qutip.control.optimizer:Optimising pulse(s) using CRAB with 'fmin' (Nelder-Mead) method\n"
     ]
    },
    {
     "name": "stdout",
     "output_type": "stream",
     "text": [
      "Initial amplitudes output to file: ctrl_amps_initial_QFT_n_ts200.txt\n",
      "***********************************\n",
      "Starting pulse optimisation\n",
      "Final amplitudes output to file: ctrl_amps_final_QFT_n_ts200.txt\n"
     ]
    }
   ],
   "source": [
    "# Save initial amplitudes to a text file\n",
    "if f_ext is not None:\n",
    "    pulsefile = \"ctrl_amps_initial_\" + f_ext\n",
    "    dyn.save_amps(pulsefile)\n",
    "    print(\"Initial amplitudes output to file: \" + pulsefile)\n",
    "\n",
    "print(\"***********************************\")\n",
    "print(\"Starting pulse optimisation\")\n",
    "result = optim.run_optimization()\n",
    "\n",
    "# Save final amplitudes to a text file\n",
    "if f_ext is not None:\n",
    "    pulsefile = \"ctrl_amps_final_\" + f_ext\n",
    "    dyn.save_amps(pulsefile)\n",
    "    print(\"Final amplitudes output to file: \" + pulsefile)"
   ]
  },
  {
   "cell_type": "markdown",
   "metadata": {},
   "source": [
    "### Report the results"
   ]
  },
  {
   "cell_type": "code",
   "execution_count": 11,
   "metadata": {
    "collapsed": false
   },
   "outputs": [
    {
     "name": "stdout",
     "output_type": "stream",
     "text": [
      "\n",
      "------------------------------------\n",
      "---- Control optimisation stats ----\n",
      "**** Timings (HH:MM:SS.US) ****\n",
      "Total wall time elapsed during optimisation: 0:05:00.016535\n",
      "Wall time computing Hamiltonians: 0:00:20.479213 (6.83%)\n",
      "Wall time computing propagators: 0:04:30.015947 (90.00%)\n",
      "Wall time computing forward propagation: 0:00:02.478687 (0.83%)\n",
      "Wall time computing onward propagation: 0:00:02.429233 (0.81%)\n",
      "Wall time computing gradient: 0:00:00 (0.00%)\n",
      "\n",
      "**** Iterations and function calls ****\n",
      "Number of iterations: 10573\n",
      "Number of fidelity function calls: 12759\n",
      "Number of times fidelity is computed: 12759\n",
      "Number of gradient function calls: 0\n",
      "Number of times gradients are computed: 0\n",
      "Number of times timeslot evolution is recomputed: 12759\n",
      "\n",
      "**** Control amplitudes ****\n",
      "Number of control amplitude updates: 12758\n",
      "Mean number of updates per iteration: 1.2066584696869385\n",
      "Number of timeslot values changed: 2551594\n",
      "Mean number of timeslot changes per update: 199.9995297068506\n",
      "Number of amplitude values changed: 10177461\n",
      "Mean number of amplitude changes per update: 797.7316977582693\n",
      "------------------------------------\n",
      "Final evolution\n",
      "Quantum object: dims = [[2, 2], [2, 2]], shape = [4, 4], type = oper, isherm = False\n",
      "Qobj data =\n",
      "[[ 0.21307013-0.44155393j  0.19809060-0.46910743j  0.17600153-0.44246615j\n",
      "   0.19770839-0.48423976j]\n",
      " [ 0.20593541-0.42448327j  0.47341323+0.18903883j -0.19025956+0.4822047j\n",
      "  -0.45390752-0.2068736j ]\n",
      " [ 0.20506881-0.51284292j -0.18303284+0.46852988j  0.18935993-0.43885861j\n",
      "  -0.16534742+0.4314207j ]\n",
      " [ 0.17047596-0.4504583j  -0.43762630-0.19053746j -0.20351516+0.48441162j\n",
      "   0.48415672+0.1724042j ]]\n",
      "\n",
      "********* Summary *****************\n",
      "Initial fidelity error 0.7565483849013139\n",
      "Final fidelity error 0.0015384636946687014\n",
      "Terminated due to Max wall time exceeded\n",
      "Number of iterations 10573\n",
      "Completed in 0:05:00.016535 HH:MM:SS.US\n"
     ]
    }
   ],
   "source": [
    "result.stats.report()\n",
    "print(\"Final evolution\\n{}\\n\".format(result.evo_full_final))\n",
    "print(\"********* Summary *****************\")\n",
    "print(\"Initial fidelity error {}\".format(result.initial_fid_err))\n",
    "print(\"Final fidelity error {}\".format(result.fid_err))\n",
    "print(\"Terminated due to {}\".format(result.termination_reason))\n",
    "print(\"Number of iterations {}\".format(result.num_iter))\n",
    "print(\"Completed in {} HH:MM:SS.US\".format(\n",
    "        datetime.timedelta(seconds=result.wall_time)))"
   ]
  },
  {
   "cell_type": "markdown",
   "metadata": {},
   "source": [
    "### Plot the initial and final amplitudes"
   ]
  },
  {
   "cell_type": "code",
   "execution_count": 12,
   "metadata": {
    "collapsed": false
   },
   "outputs": [
    {
     "data": {
      "image/png": "[encoded data removed]",
      "text/plain": [
       "<matplotlib.figure.Figure at 0x7fa5166f2630>"
      ]
     },
     "metadata": {},
     "output_type": "display_data"
    }
   ],
   "source": [
    "t = result.time[:n_ts]\n",
    "\n",
    "fig1 = plt.figure()\n",
    "ax1 = fig1.add_subplot(2, 1, 1)\n",
    "ax1.set_title(\"Initial Control amps\")\n",
    "ax1.set_xlabel(\"Time\")\n",
    "ax1.set_ylabel(\"Control amplitude\")\n",
    "for j in range(n_ctrls):\n",
    "    amps = result.initial_amps[:, j]\n",
    "    ax1.plot(t, amps)\n",
    "\n",
    "ax2 = fig1.add_subplot(2, 1, 2)\n",
    "ax2.set_title(\"Optimised Control Amplitudes\")\n",
    "ax2.set_xlabel(\"Time\")\n",
    "ax2.set_ylabel(\"Control amplitude\")\n",
    "for j in range(n_ctrls):\n",
    "    amps = result.final_amps[:, j]\n",
    "    ax2.plot(t, amps, label='u{}'.format(j))\n",
    "    \n",
    "ax2.legend(loc=8, ncol=n_ctrls)\n",
    "\n",
    "plt.show()"
   ]
  },
  {
   "cell_type": "markdown",
   "metadata": {},
   "source": [
    "### Versions"
   ]
  },
  {
   "cell_type": "code",
   "execution_count": 13,
   "metadata": {
    "collapsed": false
   },
   "outputs": [
    {
     "data": {
      "text/html": [
       "<table><tr><th>Software</th><th>Version</th></tr><tr><td>QuTiP</td><td>3.2.0.dev-66bfaac</td></tr><tr><td>Numpy</td><td>1.10.1</td></tr><tr><td>SciPy</td><td>0.16.0</td></tr><tr><td>matplotlib</td><td>1.4.3</td></tr><tr><td>Cython</td><td>0.23.1</td></tr><tr><td>IPython</td><td>4.0.1</td></tr><tr><td>Python</td><td>3.4.3 |Continuum Analytics, Inc.| (default, Oct 19 2015, 21:52:17) \n",
       "[GCC 4.4.7 20120313 (Red Hat 4.4.7-1)]</td></tr><tr><td>Number of CPUs</td><td>4</td></tr><tr><td>OS</td><td>posix [linux]</td></tr><tr><td colspan='2'>Wed Dec 16 18:08:02 2015 GMT</td></tr></table>"
      ],
      "text/plain": [
       "<IPython.core.display.HTML object>"
      ]
     },
     "execution_count": 13,
     "metadata": {},
     "output_type": "execute_result"
    }
   ],
   "source": [
    "from qutip.ipynbtools import version_table\n",
    "\n",
    "version_table()"
   ]
  },
  {
   "cell_type": "raw",
   "metadata": {},
   "source": [
    "References:\n",
    "\n",
    "3.  Doria, P., Calarco, T. & Montangero, S. \n",
    "    Optimal Control Technique for Many-Body Quantum Dynamics. \n",
    "    Phys. Rev. Lett. 106, 1–4 (2011).\n",
    "\n",
    "4.  Caneva, T., Calarco, T. & Montangero, S. \n",
    "    Chopped random-basis quantum optimization. \n",
    "    Phys. Rev. A - At. Mol. Opt. Phys. 84, (2011)."
   ]
  }
 ],
 "metadata": {
  "kernelspec": {
   "display_name": "Python 3",
   "language": "python",
   "name": "python3"
  },
  "language_info": {
   "codemirror_mode": {
    "name": "ipython",
    "version": 3
   },
   "file_extension": ".py",
   "mimetype": "text/x-python",
   "name": "python",
   "nbconvert_exporter": "python",
   "pygments_lexer": "ipython3",
   "version": "3.4.3"
  }
 },
 "nbformat": 4,
 "nbformat_minor": 0
}
