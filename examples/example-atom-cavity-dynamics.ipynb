{
 "metadata": {
  "name": "",
  "signature": "sha256:f70f7f631a02ab0ffc921bc9efa9d6dee9f394ab138e03981877e96adb1020ba"
 },
 "nbformat": 3,
 "nbformat_minor": 0,
 "worksheets": [
  {
   "cells": [
    {
     "cell_type": "heading",
     "level": 1,
     "metadata": {},
     "source": [
      "QuTiP example: Dynamics of an atom-cavity system using three different solvers"
     ]
    },
    {
     "cell_type": "markdown",
     "metadata": {},
     "source": [
      "J.R. Johansson and P.D. Nation\n",
      "\n",
      "For more information about QuTiP see [http://qutip.org](http://qutip.org)"
     ]
    },
    {
     "cell_type": "code",
     "collapsed": false,
     "input": [
      "%pylab inline"
     ],
     "language": "python",
     "metadata": {},
     "outputs": [
      {
       "output_type": "stream",
       "stream": "stdout",
       "text": [
        "Populating the interactive namespace from numpy and matplotlib\n"
       ]
      }
     ],
     "prompt_number": 1
    },
    {
     "cell_type": "code",
     "collapsed": false,
     "input": [
      "from qutip import *\n",
      "import time"
     ],
     "language": "python",
     "metadata": {},
     "outputs": [],
     "prompt_number": 2
    },
    {
     "cell_type": "heading",
     "level": 2,
     "metadata": {},
     "source": [
      "Model and parameters"
     ]
    },
    {
     "cell_type": "code",
     "collapsed": false,
     "input": [
      "kappa = 2; \n",
      "gamma = 0.2;\n",
      "g  = 1; \n",
      "wc = 0; \n",
      "w0 = 0; \n",
      "wl = 0;\n",
      "N  = 4; \n",
      "E  = 0.5;\n",
      "tlist = linspace(0,10,200);"
     ],
     "language": "python",
     "metadata": {},
     "outputs": [],
     "prompt_number": 3
    },
    {
     "cell_type": "heading",
     "level": 3,
     "metadata": {},
     "source": [
      "mesolve"
     ]
    },
    {
     "cell_type": "code",
     "collapsed": false,
     "input": [
      "def solve(E,kappa,gamma,g,wc,w0,wl,N,tlist):\n",
      "\n",
      "    ida    = qeye(N)\n",
      "    idatom = qeye(2)\n",
      "\n",
      "    # Define cavity field and atomic operators\n",
      "    a  = tensor(destroy(N),idatom)\n",
      "    sm = tensor(ida,sigmam())\n",
      "\n",
      "    # Hamiltonian\n",
      "    H = (w0-wl)*sm.dag()*sm + (wc-wl)*a.dag()*a + 1j*g*(a.dag()*sm - sm.dag()*a) \\\n",
      "        + E*(a.dag()+a)\n",
      "\n",
      "    #collapse operators\n",
      "    C1=sqrt(2*kappa)*a\n",
      "    C2=sqrt(gamma)*sm\n",
      "    C1dC1=C1.dag()*C1\n",
      "    C2dC2=C2.dag()*C2\n",
      "\n",
      "    #intial state\n",
      "    psi0 = tensor(basis(N,0),basis(2,1))\n",
      "    rho0 = psi0.dag() * psi0;\n",
      "\n",
      "    # evolve and calculate expectation values\n",
      "    output = mesolve(H, psi0, tlist, [C1, C2], [C1dC1, C2dC2, a])  \n",
      "\n",
      "    return output.expect[0], output.expect[1], output.expect[2]"
     ],
     "language": "python",
     "metadata": {},
     "outputs": [],
     "prompt_number": 4
    },
    {
     "cell_type": "code",
     "collapsed": false,
     "input": [
      "start_time=time.time()\n",
      "count1, count2, infield = solve(E,kappa,gamma,g,wc,w0,wl,N,tlist)\n",
      "print('time elapsed = ' +str(time.time()-start_time)) "
     ],
     "language": "python",
     "metadata": {},
     "outputs": [
      {
       "output_type": "stream",
       "stream": "stdout",
       "text": [
        "time elapsed = 0.054757118225097656\n"
       ]
      }
     ],
     "prompt_number": 5
    },
    {
     "cell_type": "code",
     "collapsed": false,
     "input": [
      "figure(figsize=(12,6))\n",
      "plot(tlist,real(count1))\n",
      "plot(tlist,real(count2))\n",
      "xlabel('Time')\n",
      "ylabel('Transmitted Intensity and Spontaneous Emission');"
     ],
     "language": "python",
     "metadata": {},
     "outputs": [
      {
       "metadata": {},
       "output_type": "display_data",
       "png": "[encoded data removed]",
       "text": [
        "<matplotlib.figure.Figure at 0x7fe5babc8588>"
       ]
      }
     ],
     "prompt_number": 6
    },
    {
     "cell_type": "heading",
     "level": 3,
     "metadata": {},
     "source": [
      "eseries"
     ]
    },
    {
     "cell_type": "code",
     "collapsed": false,
     "input": [
      "def solve(E,kappa,gamma,g,wc,w0,wl,N,tlist):\n",
      "\n",
      "    # Define cavity field and atomic operators\n",
      "    a  = tensor(destroy(N),qeye(2))\n",
      "    sm = tensor(qeye(N),sigmam())\n",
      "\n",
      "    # Hamiltonian\n",
      "    H = (w0-wl)*sm.dag()*sm + (wc-wl)*a.dag()*a + 1j*g*(a.dag()*sm - sm.dag()*a) \\\n",
      "        + E*(a.dag()+a)\n",
      "\n",
      "    #collapse operators\n",
      "    C1 = sqrt(2*kappa)*a\n",
      "    C2 = sqrt(gamma)*sm\n",
      "    C1dC1 = C1.dag() * C1\n",
      "    C2dC2 = C2.dag() * C2\n",
      "\n",
      "    #intial state\n",
      "    psi0 = tensor(basis(N,0),basis(2,1))\n",
      "    rho0 = ket2dm(psi0)\n",
      "\n",
      "    # Calculate the Liouvillian\n",
      "    L = liouvillian(H, [C1, C2])\n",
      "\n",
      "    # Calculate solution as an exponential series\n",
      "    start_time = time.time()\n",
      "    rhoES = ode2es(L,rho0);\n",
      "    print('time elapsed (ode2es) = ' + str(time.time()-start_time)) \n",
      "    \n",
      "    # Calculate expectation values\n",
      "    start_time = time.time()\n",
      "    count1  = esval(expect(C1dC1,rhoES),tlist);\n",
      "    count2  = esval(expect(C2dC2,rhoES),tlist);\n",
      "    infield = esval(expect(a,rhoES),tlist);\n",
      "    print('time elapsed (esval) = ' +str(time.time()-start_time)) \n",
      "\n",
      "    # alternative\n",
      "    start_time = time.time()\n",
      "    expt_list = essolve(H, psi0, tlist, [C1, C2], [C1dC1, C2dC2, a]).expect\n",
      "    print('time elapsed (essolve) = ' +str(time.time()-start_time)) \n",
      "\n",
      "    return count1, count2, infield, expt_list[0], expt_list[1], expt_list[2]\n"
     ],
     "language": "python",
     "metadata": {},
     "outputs": []
    },
    {
     "cell_type": "code",
     "collapsed": false,
     "input": [
      "start_time = time.time()\n",
      "count1, count2, infield, count1_2, count2_2, \\\n",
      "infield_2 = solve(E,kappa,gamma,g,wc,w0,wl,N,tlist);\n",
      "print('time elapsed = ' + str(time.time()-start_time))"
     ],
     "language": "python",
     "metadata": {},
     "outputs": []
    },
    {
     "cell_type": "code",
     "collapsed": false,
     "input": [
      "figure(figsize=(12,6))\n",
      "plot(tlist, real(count1), tlist, real(count1_2), '.')\n",
      "plot(tlist, real(count2), tlist, real(count2_2), '.')\n",
      "xlabel('Time')\n",
      "ylabel('Transmitted Intensity and Spontaneous Emission');"
     ],
     "language": "python",
     "metadata": {},
     "outputs": []
    },
    {
     "cell_type": "heading",
     "level": 3,
     "metadata": {},
     "source": [
      "mcsolve"
     ]
    },
    {
     "cell_type": "code",
     "collapsed": false,
     "input": [
      "ntraj = 500 #number of Monte-Carlo trajectories\n",
      "# Hamiltonian\n",
      "ida = qeye(N)\n",
      "idatom = qeye(2)\n",
      "a = tensor(destroy(N),idatom)\n",
      "sm = tensor(ida,sigmam())\n",
      "H = (w0-wl)*sm.dag()*sm + (wc-wl)*a.dag()*a + 1j*g*(a.dag()*sm-sm.dag()*a) \\\n",
      "    + E*(a.dag()+a)\n",
      "#collapse operators\n",
      "C1 = sqrt(2*kappa) * a\n",
      "C2 = sqrt(gamma) * sm\n",
      "C1dC1 = C1.dag() * C1\n",
      "C2dC2 = C2.dag() * C2\n",
      "#intial state\n",
      "psi0=tensor(basis(N,0),basis(2,1))"
     ],
     "language": "python",
     "metadata": {},
     "outputs": []
    },
    {
     "cell_type": "code",
     "collapsed": false,
     "input": [
      "start_time = time.time()\n",
      "avg = mcsolve(H,psi0,tlist,[C1,C2],[C1dC1,C2dC2],ntraj)\n",
      "elapsed_time = time.time() - start_time\n",
      "print(\"elapsed time =\", elapsed_time)"
     ],
     "language": "python",
     "metadata": {},
     "outputs": []
    },
    {
     "cell_type": "code",
     "collapsed": false,
     "input": [
      "figure(figsize=(12, 6))\n",
      "plot(tlist,avg.expect[0],tlist,avg.expect[1],'--')\n",
      "xlabel('Time')\n",
      "ylabel('Photocount rates')\n",
      "legend(('Cavity ouput', 'Spontaneous emission'));"
     ],
     "language": "python",
     "metadata": {},
     "outputs": []
    },
    {
     "cell_type": "heading",
     "level": 2,
     "metadata": {},
     "source": [
      "Versions"
     ]
    },
    {
     "cell_type": "code",
     "collapsed": false,
     "input": [
      "from qutip.ipynbtools import version_table\n",
      "\n",
      "version_table()"
     ],
     "language": "python",
     "metadata": {},
     "outputs": []
    }
   ],
   "metadata": {}
  }
 ]
}