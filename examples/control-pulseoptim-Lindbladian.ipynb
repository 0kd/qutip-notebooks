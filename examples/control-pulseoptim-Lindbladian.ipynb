{
 "cells": [
  {
   "cell_type": "markdown",
   "metadata": {},
   "source": [
    "# Calculation of control fields for Lindbladian dynamics using L-BFGS-B algorithm"
   ]
  },
  {
   "cell_type": "markdown",
   "metadata": {},
   "source": [
    "Christian Arenz (christianarenz.ca@gmail.com), Alexander Pitchford (alex.pitchford@gmail.com)"
   ]
  },
  {
   "cell_type": "markdown",
   "metadata": {},
   "source": [
    "Example to demonstrate using the control library to determine control\n",
    "pulses using the ctrlpulseoptim.optimize_pulse function.\n",
    "The (default) L-BFGS-B algorithm is used to optimise the pulse to\n",
    "minimise the fidelity error, which in this case is given by the\n",
    "'Trace difference' norm.\n",
    "\n",
    "This in an open quantum system example, with a single qubit subject to\n",
    "an amplitude damping channel. The target evolution is the Hadamard gate.\n",
    "For a $d$ dimensional quantum system in general we represent the Lindbladian\n",
    "as a $d^2 \\times d^2$ dimensional matrix by vectorizing the denisty operator (row vectorization).\n",
    "Here done for the Lindbladian that describes the amplitude damping channel\n",
    "and the coherent drift- and control generators.\n",
    "The user can experiment with the strength of the amplitude damping by\n",
    "changing the gamma variable value\n",
    "\n",
    "The user can experiment with the timeslicing, by means of changing the\n",
    "number of timeslots and/or total time for the evolution.\n",
    "Different initial (starting) pulse types can be tried.\n",
    "The initial and final pulses are displayed in a plot\n",
    "\n",
    "For more background on the pulse optimisation see:\n",
    "[QuTiP overview - Optimal Control](http://nbviewer.ipython.org/github/qutip/qutip-notebooks/blob/master/examples/example-optimal-control-overview.ipynb)  "
   ]
  },
  {
   "cell_type": "code",
   "execution_count": 1,
   "metadata": {
    "collapsed": false
   },
   "outputs": [],
   "source": [
    "%matplotlib inline\n",
    "import numpy as np\n",
    "import matplotlib.pyplot as plt\n",
    "import datetime"
   ]
  },
  {
   "cell_type": "code",
   "execution_count": 2,
   "metadata": {
    "collapsed": false
   },
   "outputs": [],
   "source": [
    "from qutip import Qobj, identity, sigmax, sigmay, sigmaz, tensor\n",
    "from qutip.qip import hadamard_transform\n",
    "import qutip.logging_utils as logging\n",
    "logger = logging.get_logger()\n",
    "#Set this to None or logging.WARN for 'quiet' execution\n",
    "log_level = logging.INFO\n",
    "#QuTiP control modules\n",
    "import qutip.control.pulseoptim as cpo\n",
    "\n",
    "example_name = 'Lindblad'"
   ]
  },
  {
   "cell_type": "markdown",
   "metadata": {},
   "source": [
    "### Defining the physics"
   ]
  },
  {
   "cell_type": "code",
   "execution_count": 3,
   "metadata": {
    "collapsed": false
   },
   "outputs": [],
   "source": [
    "Sx = sigmax()\n",
    "Sy = sigmay()\n",
    "Sz = sigmaz()\n",
    "Si = identity(2)\n",
    "\n",
    "Sd = Qobj(np.array([[0, 1],\n",
    "             [0, 0]]))\n",
    "Sm = Qobj(np.array([[0, 0],\n",
    "             [1, 0]]))\n",
    "Sd_m = Qobj(np.array([[1, 0],\n",
    "              [0, 0]]))\n",
    "Sm_d = Qobj(np.array([[0, 0],\n",
    "              [0, 1]]))\n",
    "\n",
    "#Amplitude damping#\n",
    "#Damping rate:\n",
    "gamma = 0.1\n",
    "L0_Ad = gamma*(2*tensor(Sm, Sd.trans()) - \n",
    "            (tensor(Sd_m, Si) + tensor(Si, Sd_m.trans())))\n",
    "#sigma X control\n",
    "LC_x = -1j*(tensor(Sx, Si) - tensor(Si, Sx))\n",
    "#sigma Y control\n",
    "LC_y = -1j*(tensor(Sy, Si) - tensor(Si, Sy.trans()))\n",
    "#sigma Z control\n",
    "LC_z = -1j*(tensor(Sz, Si) - tensor(Si, Sz))\n",
    "\n",
    "#Drift\n",
    "drift = L0_Ad\n",
    "#Controls\n",
    "ctrls = [LC_z, LC_x]\n",
    "# Number of ctrls\n",
    "n_ctrls = len(ctrls)\n",
    "\n",
    "initial = identity(4)\n",
    "#Target\n",
    "#Hadamard gate\n",
    "had_gate = hadamard_transform(1)\n",
    "target_DP = tensor(had_gate, had_gate)"
   ]
  },
  {
   "cell_type": "markdown",
   "metadata": {},
   "source": [
    "### Defining the time evolution parameters"
   ]
  },
  {
   "cell_type": "code",
   "execution_count": 4,
   "metadata": {
    "collapsed": false
   },
   "outputs": [],
   "source": [
    "# Number of time slots\n",
    "n_ts = 10\n",
    "# Time allowed for the evolution\n",
    "evo_time = 2"
   ]
  },
  {
   "cell_type": "markdown",
   "metadata": {},
   "source": [
    "### Set the conditions which will cause the pulse optimisation to terminate"
   ]
  },
  {
   "cell_type": "code",
   "execution_count": 6,
   "metadata": {
    "collapsed": false
   },
   "outputs": [],
   "source": [
    "# Fidelity error target\n",
    "fid_err_targ = 1e-3\n",
    "# Maximum iterations for the optisation algorithm\n",
    "max_iter = 200\n",
    "# Maximum (elapsed) time allowed in seconds\n",
    "max_wall_time = 30\n",
    "# Minimum gradient (sum of gradients squared)\n",
    "# as this tends to 0 -> local minima has been found\n",
    "min_grad = 1e-20"
   ]
  },
  {
   "cell_type": "markdown",
   "metadata": {},
   "source": [
    "### Set the initial pulse type"
   ]
  },
  {
   "cell_type": "code",
   "execution_count": 7,
   "metadata": {
    "collapsed": false
   },
   "outputs": [],
   "source": [
    "# pulse type alternatives: RND|ZERO|LIN|SINE|SQUARE|SAW|TRIANGLE|\n",
    "p_type = 'RND'"
   ]
  },
  {
   "cell_type": "markdown",
   "metadata": {},
   "source": [
    "### Give an extension for output files"
   ]
  },
  {
   "cell_type": "code",
   "execution_count": 8,
   "metadata": {
    "collapsed": false
   },
   "outputs": [],
   "source": [
    "#Set to None to suppress output files\n",
    "f_ext = \"{}_n_ts{}_ptype{}.txt\".format(example_name, n_ts, p_type)"
   ]
  },
  {
   "cell_type": "markdown",
   "metadata": {},
   "source": [
    "### Run the optimisation"
   ]
  },
  {
   "cell_type": "code",
   "execution_count": 9,
   "metadata": {
    "collapsed": false
   },
   "outputs": [
    {
     "name": "stderr",
     "output_type": "stream",
     "text": [
      "INFO:qutip.control.dynamics:Setting memory optimisations for level 0\n",
      "INFO:qutip.control.dynamics:Internal operator data type choosen to be <class 'numpy.ndarray'>\n",
      "INFO:qutip.control.dynamics:phased dynamics generator caching True\n",
      "INFO:qutip.control.dynamics:propagator gradient caching True\n",
      "INFO:qutip.control.dynamics:eigenvector adjoint caching True\n",
      "INFO:qutip.control.dynamics:use sparse eigen decomp False\n",
      "INFO:qutip.control.pulseoptim:System configuration:\n",
      "Drift dynamics generator:\n",
      "Quantum object: dims = [[2, 2], [2, 2]], shape = [4, 4], type = oper, isherm = False\n",
      "Qobj data =\n",
      "[[-0.2  0.   0.   0. ]\n",
      " [ 0.  -0.1  0.   0. ]\n",
      " [ 0.   0.  -0.1  0. ]\n",
      " [ 0.2  0.   0.   0. ]]\n",
      "Control 1 dynamics generator:\n",
      "Quantum object: dims = [[2, 2], [2, 2]], shape = [4, 4], type = oper, isherm = False\n",
      "Qobj data =\n",
      "[[ 0.+0.j  0.+0.j  0.+0.j  0.+0.j]\n",
      " [ 0.+0.j  0.-2.j  0.+0.j  0.+0.j]\n",
      " [ 0.+0.j  0.+0.j  0.+2.j  0.+0.j]\n",
      " [ 0.+0.j  0.+0.j  0.+0.j  0.+0.j]]\n",
      "Control 2 dynamics generator:\n",
      "Quantum object: dims = [[2, 2], [2, 2]], shape = [4, 4], type = oper, isherm = False\n",
      "Qobj data =\n",
      "[[ 0.+0.j  0.+1.j  0.-1.j  0.+0.j]\n",
      " [ 0.+1.j  0.+0.j  0.+0.j  0.-1.j]\n",
      " [ 0.-1.j  0.+0.j  0.+0.j  0.+1.j]\n",
      " [ 0.+0.j  0.-1.j  0.+1.j  0.+0.j]]\n",
      "Initial state / operator:\n",
      "Quantum object: dims = [[4], [4]], shape = [4, 4], type = oper, isherm = True\n",
      "Qobj data =\n",
      "[[ 1.  0.  0.  0.]\n",
      " [ 0.  1.  0.  0.]\n",
      " [ 0.  0.  1.  0.]\n",
      " [ 0.  0.  0.  1.]]\n",
      "Target state / operator:\n",
      "Quantum object: dims = [[2, 2], [2, 2]], shape = [4, 4], type = oper, isherm = True\n",
      "Qobj data =\n",
      "[[ 0.5  0.5  0.5  0.5]\n",
      " [ 0.5 -0.5  0.5 -0.5]\n",
      " [ 0.5  0.5 -0.5 -0.5]\n",
      " [ 0.5 -0.5 -0.5  0.5]]\n",
      "INFO:qutip.control.pulseoptim:Initial amplitudes output to file: ctrl_amps_initial_Lindblad_n_ts10_ptypeRND.txt\n",
      "INFO:qutip.control.optimizer:Optimising pulse(s) using GRAPE with 'fmin_l_bfgs_b' method\n",
      "INFO:qutip.control.pulseoptim:Final amplitudes output to file: ctrl_amps_final_Lindblad_n_ts10_ptypeRND.txt\n"
     ]
    }
   ],
   "source": [
    "# Note that this call will take the defaults\n",
    "#    dyn_type='GEN_MAT'\n",
    "# This means that matrices that describe the dynamics are assumed to be\n",
    "# general, i.e. the propagator can be calculated using:\n",
    "# expm(combined_dynamics*dt)\n",
    "#    prop_type='FRECHET'\n",
    "# and the propagators and their gradients will be calculated using the\n",
    "# Frechet method, i.e. an exact gradent\n",
    "#    fid_type='TRACEDIFF'\n",
    "# and that the fidelity error, i.e. distance from the target, is give\n",
    "# by the trace of the difference between the target and evolved operators \n",
    "result = cpo.optimize_pulse(drift, ctrls, initial, target_DP, n_ts, evo_time, \n",
    "                fid_err_targ=fid_err_targ, min_grad=min_grad, \n",
    "                max_iter=max_iter, max_wall_time=max_wall_time, \n",
    "                out_file_ext=f_ext, init_pulse_type=p_type, \n",
    "                log_level=log_level, gen_stats=True)"
   ]
  },
  {
   "cell_type": "markdown",
   "metadata": {},
   "source": [
    "### Report the results"
   ]
  },
  {
   "cell_type": "code",
   "execution_count": 10,
   "metadata": {
    "collapsed": false
   },
   "outputs": [
    {
     "name": "stdout",
     "output_type": "stream",
     "text": [
      "\n",
      "------------------------------------\n",
      "---- Control optimisation stats ----\n",
      "**** Timings (HH:MM:SS.US) ****\n",
      "Total wall time elapsed during optimisation: 0:00:04.874630\n",
      "Wall time computing Hamiltonians: 0:00:00.062323 (1.28%)\n",
      "Wall time computing propagators: 0:00:04.274333 (87.69%)\n",
      "Wall time computing forward propagation: 0:00:00.021540 (0.44%)\n",
      "Wall time computing onward propagation: 0:00:00.019031 (0.39%)\n",
      "Wall time computing gradient: 0:00:00.380857 (7.81%)\n",
      "\n",
      "**** Iterations and function calls ****\n",
      "Number of iterations: 201\n",
      "Number of fidelity function calls: 233\n",
      "Number of times fidelity is computed: 233\n",
      "Number of gradient function calls: 233\n",
      "Number of times gradients are computed: 233\n",
      "Number of times timeslot evolution is recomputed: 233\n",
      "\n",
      "**** Control amplitudes ****\n",
      "Number of control amplitude updates: 232\n",
      "Mean number of updates per iteration: 1.154228855721393\n",
      "Number of timeslot values changed: 2320\n",
      "Mean number of timeslot changes per update: 10.0\n",
      "Number of amplitude values changed: 4640\n",
      "Mean number of amplitude changes per update: 20.0\n",
      "------------------------------------\n",
      "Final evolution\n",
      "Quantum object: dims = [[4], [4]], shape = [4, 4], type = oper, isherm = False\n",
      "Qobj data =\n",
      "[[ 0.49967645 -1.28843329e-16j  0.38166867 +1.30835126e-03j\n",
      "   0.38166867 -1.30835126e-03j  0.50121076 -2.65531925e-17j]\n",
      " [ 0.38563717 -2.04858025e-03j -0.38240540 -6.24457546e-04j\n",
      "   0.38085752 +3.29247948e-03j -0.38560700 +1.83803097e-03j]\n",
      " [ 0.38563717 +2.04858025e-03j  0.38085752 -3.29247948e-03j\n",
      "  -0.38240540 +6.24457546e-04j -0.38560700 -1.83803097e-03j]\n",
      " [ 0.50032355 +6.92357336e-17j -0.38166867 -1.30835126e-03j\n",
      "  -0.38166867 +1.30835126e-03j  0.49878924 -5.23206722e-17j]]\n",
      "\n",
      "********* Summary *****************\n",
      "Initial fidelity error 0.559946772847538\n",
      "Final fidelity error 0.02055411061787354\n",
      "Final gradient normal 2.533072483565302e-05\n",
      "Terminated due to Iteration or fidelity function call limit reached\n",
      "Number of iterations 201\n",
      "Completed in 0:00:04.874630 HH:MM:SS.US\n"
     ]
    }
   ],
   "source": [
    "result.stats.report()\n",
    "print(\"Final evolution\\n{}\\n\".format(result.evo_full_final))\n",
    "print(\"********* Summary *****************\")\n",
    "print(\"Initial fidelity error {}\".format(result.initial_fid_err))\n",
    "print(\"Final fidelity error {}\".format(result.fid_err))\n",
    "print(\"Final gradient normal {}\".format(result.grad_norm_final))\n",
    "print(\"Terminated due to {}\".format(result.termination_reason))\n",
    "print(\"Number of iterations {}\".format(result.num_iter))\n",
    "print(\"Completed in {} HH:MM:SS.US\".format(datetime.timedelta(seconds=result.wall_time)))"
   ]
  },
  {
   "cell_type": "markdown",
   "metadata": {},
   "source": [
    "### Plot the initial and final amplitudes"
   ]
  },
  {
   "cell_type": "code",
   "execution_count": 12,
   "metadata": {
    "collapsed": false
   },
   "outputs": [
    {
     "data": {
      "image/png": "[encoded data removed]",
      "text/plain": [
       "<matplotlib.figure.Figure at 0x7f27fe4077f0>"
      ]
     },
     "metadata": {},
     "output_type": "display_data"
    }
   ],
   "source": [
    "fig1 = plt.figure()\n",
    "ax1 = fig1.add_subplot(2, 1, 1)\n",
    "ax1.set_title(\"Initial control amps\")\n",
    "ax1.set_xlabel(\"Time\")\n",
    "ax1.set_ylabel(\"Control amplitude\")\n",
    "for j in range(n_ctrls):\n",
    "    ax1.step(result.time, \n",
    "             np.hstack((result.initial_amps[:, j], result.initial_amps[-1, j])), \n",
    "             where='post')\n",
    "\n",
    "ax2 = fig1.add_subplot(2, 1, 2)\n",
    "ax2.set_title(\"Optimised Control Sequences\")\n",
    "ax2.set_xlabel(\"Time\")\n",
    "ax2.set_ylabel(\"Control amplitude\")\n",
    "for j in range(n_ctrls):\n",
    "    ax2.step(result.time, \n",
    "             np.hstack((result.final_amps[:, j], result.final_amps[-1, j])), \n",
    "             where='post')"
   ]
  },
  {
   "cell_type": "markdown",
   "metadata": {},
   "source": [
    "### Versions"
   ]
  },
  {
   "cell_type": "code",
   "execution_count": 13,
   "metadata": {
    "collapsed": false
   },
   "outputs": [
    {
     "data": {
      "text/html": [
       "<table><tr><th>Software</th><th>Version</th></tr><tr><td>QuTiP</td><td>4.0.0.dev0+b4cddb1</td></tr><tr><td>Numpy</td><td>1.11.2</td></tr><tr><td>SciPy</td><td>0.18.1</td></tr><tr><td>matplotlib</td><td>1.5.3</td></tr><tr><td>Cython</td><td>0.25.1</td></tr><tr><td>Number of CPUs</td><td>2</td></tr><tr><td>BLAS Info</td><td>INTEL MKL</td></tr><tr><td>IPython</td><td>5.1.0</td></tr><tr><td>Python</td><td>3.4.5 |Continuum Analytics, Inc.| (default, Jul  2 2016, 17:47:47) \n",
       "[GCC 4.4.7 20120313 (Red Hat 4.4.7-1)]</td></tr><tr><td>OS</td><td>posix [linux]</td></tr><tr><td colspan='2'>Fri Dec 09 15:33:22 2016 JST</td></tr></table>"
      ],
      "text/plain": [
       "<IPython.core.display.HTML object>"
      ]
     },
     "execution_count": 13,
     "metadata": {},
     "output_type": "execute_result"
    }
   ],
   "source": [
    "from qutip.ipynbtools import version_table\n",
    "\n",
    "version_table()"
   ]
  },
  {
   "cell_type": "code",
   "execution_count": null,
   "metadata": {
    "collapsed": true
   },
   "outputs": [],
   "source": []
  }
 ],
 "metadata": {
  "anaconda-cloud": {},
  "kernelspec": {
   "display_name": "Python 3",
   "language": "python",
   "name": "python3"
  },
  "language_info": {
   "codemirror_mode": {
    "name": "ipython",
    "version": 3
   },
   "file_extension": ".py",
   "mimetype": "text/x-python",
   "name": "python",
   "nbconvert_exporter": "python",
   "pygments_lexer": "ipython3",
   "version": "3.4.5"
  }
 },
 "nbformat": 4,
 "nbformat_minor": 0
}
