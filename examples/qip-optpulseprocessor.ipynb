{
 "cells": [
  {
   "cell_type": "markdown",
   "metadata": {},
   "source": [
    "# Examples for OptPulseProcessor"
   ]
  },
  {
   "cell_type": "code",
   "execution_count": 1,
   "metadata": {},
   "outputs": [],
   "source": [
    "from qutip.qip.models.optpulseprocessor import OptPulseProcessor\n",
    "from qutip.qip import QubitCircuit, expand_operator\n",
    "from qutip import sigmaz, sigmax, basis, fidelity, identity, toffoli, tensor"
   ]
  },
  {
   "cell_type": "markdown",
   "metadata": {},
   "source": [
    "The `qutip.OptPulseProcessor` is a the simulator integrated with the optimal pulse algorithm from the `qutip.control` module. It is a subclass of `qutip.Circuitprocessor` and is equipted with a method to transfer a `qutip.QubitCircuit` or a list of `qutip.Qobj` into a pulse sequence.\n",
    "\n",
    "## Single-qubit gate\n",
    "Like the `Circuitprocessor`, we need to first define the available Hamiltonians in the system. The `OptPulseProcessor` has one more parameter, that is the drift Hamiltonian, who has no time-dependent coefficients and thus won't be optimized."
   ]
  },
  {
   "cell_type": "code",
   "execution_count": 2,
   "metadata": {},
   "outputs": [],
   "source": [
    "N = 1\n",
    "# Drift Hamiltonian\n",
    "H_d = sigmaz()\n",
    "# The (single) control Hamiltonian\n",
    "H_c = [sigmax()]\n",
    "processor = OptPulseProcessor(N, drift=H_d, ctrls=H_c)"
   ]
  },
  {
   "cell_type": "markdown",
   "metadata": {},
   "source": [
    "The method load_circuit calls `qutip.control.optimize_pulse_unitary` and return the pulse coefficients."
   ]
  },
  {
   "cell_type": "code",
   "execution_count": 3,
   "metadata": {},
   "outputs": [
    {
     "data": {
      "image/png": "[encoded data removed]",
      "text/plain": [
       "<Figure size 432x288 with 1 Axes>"
      ]
     },
     "metadata": {
      "needs_background": "light"
     },
     "output_type": "display_data"
    }
   ],
   "source": [
    "qc = QubitCircuit(N)\n",
    "qc.add_gate(\"SNOT\", 0)\n",
    "\n",
    "# This method calls optimize_pulse_unitary\n",
    "tlist, coeffs = processor.load_circuit(qc, min_grad=1e-20, init_pulse_type='RND',\n",
    "                                       num_tslots=6, evo_time=1)\n",
    "processor.plot_pulses(title=\"Control pulse for hadamard gate\");"
   ]
  },
  {
   "cell_type": "markdown",
   "metadata": {},
   "source": [
    "Like the `CircuitProcessor`, the simulation is calculated with the QuTiP solver. The method `run_state` calls `mesolve` and return the result. One can also add noise to see the change in the fidelity."
   ]
  },
  {
   "cell_type": "code",
   "execution_count": 4,
   "metadata": {},
   "outputs": [
    {
     "name": "stdout",
     "output_type": "stream",
     "text": [
      "Fidelity: 1.0000000090124874\n",
      "Fidelity with qubit relaxation: 0.9934265329366634\n"
     ]
    }
   ],
   "source": [
    "rho0 = basis(2,1)\n",
    "plus = (basis(2,0) + basis(2,1)).unit()\n",
    "minus = (basis(2,0) - basis(2,1)).unit()\n",
    "result = processor.run_state(rho0=rho0)\n",
    "result.states[-3]\n",
    "print(\"Fidelity:\", fidelity(result.states[-1], minus))\n",
    "\n",
    "# add noise\n",
    "processor.T1 = 40.0\n",
    "result = processor.run_state(rho0=rho0)\n",
    "print(\"Fidelity with qubit relaxation:\", fidelity(result.states[-1], minus))"
   ]
  },
  {
   "cell_type": "markdown",
   "metadata": {},
   "source": [
    "## Multi-qubit gate"
   ]
  },
  {
   "cell_type": "markdown",
   "metadata": {},
   "source": [
    "In the following example, we use `OptPulseProcessor` to find the optmal control pulse of a multi-qubit circuit. For simplicity, the circuit contains only one toffoli gate."
   ]
  },
  {
   "cell_type": "code",
   "execution_count": 5,
   "metadata": {},
   "outputs": [
    {
     "data": {
      "text/latex": [
       "Quantum object: dims = [[2, 2, 2], [2, 2, 2]], shape = (8, 8), type = oper, isherm = True\\begin{equation*}\\left(\\begin{array}{*{11}c}1.0 & 0.0 & 0.0 & 0.0 & 0.0 & 0.0 & 0.0 & 0.0\\\\0.0 & 1.0 & 0.0 & 0.0 & 0.0 & 0.0 & 0.0 & 0.0\\\\0.0 & 0.0 & 1.0 & 0.0 & 0.0 & 0.0 & 0.0 & 0.0\\\\0.0 & 0.0 & 0.0 & 1.0 & 0.0 & 0.0 & 0.0 & 0.0\\\\0.0 & 0.0 & 0.0 & 0.0 & 1.0 & 0.0 & 0.0 & 0.0\\\\0.0 & 0.0 & 0.0 & 0.0 & 0.0 & 1.0 & 0.0 & 0.0\\\\0.0 & 0.0 & 0.0 & 0.0 & 0.0 & 0.0 & 0.0 & 1.0\\\\0.0 & 0.0 & 0.0 & 0.0 & 0.0 & 0.0 & 1.0 & 0.0\\\\\\end{array}\\right)\\end{equation*}"
      ],
      "text/plain": [
       "Quantum object: dims = [[2, 2, 2], [2, 2, 2]], shape = (8, 8), type = oper, isherm = True\n",
       "Qobj data =\n",
       "[[1. 0. 0. 0. 0. 0. 0. 0.]\n",
       " [0. 1. 0. 0. 0. 0. 0. 0.]\n",
       " [0. 0. 1. 0. 0. 0. 0. 0.]\n",
       " [0. 0. 0. 1. 0. 0. 0. 0.]\n",
       " [0. 0. 0. 0. 1. 0. 0. 0.]\n",
       " [0. 0. 0. 0. 0. 1. 0. 0.]\n",
       " [0. 0. 0. 0. 0. 0. 0. 1.]\n",
       " [0. 0. 0. 0. 0. 0. 1. 0.]]"
      ]
     },
     "execution_count": 5,
     "metadata": {},
     "output_type": "execute_result"
    }
   ],
   "source": [
    "toffoli()"
   ]
  },
  {
   "cell_type": "markdown",
   "metadata": {},
   "source": [
    "We have single qubit control $\\sigma_x$ and $\\sigma_z$, with the argument `expand_type=\"periodic\"`, it creates 3 operators each targeted on one qubit."
   ]
  },
  {
   "cell_type": "code",
   "execution_count": 6,
   "metadata": {},
   "outputs": [],
   "source": [
    "N = 3\n",
    "H_d = tensor([identity(2)] * 3)\n",
    "test_processor = OptPulseProcessor(N, H_d, [])\n",
    "test_processor.add_ctrl(sigmaz(), cyclic_permutation=True)\n",
    "test_processor.add_ctrl(sigmax(), cyclic_permutation=True)"
   ]
  },
  {
   "cell_type": "markdown",
   "metadata": {},
   "source": [
    "The interaction is generated by $\\sigma_x\\sigma_x$ between the qubit 0 & 1 and qubit 1 & 2. `expand_operator` can be used to expand the operator to a larger dimension with given target qubits."
   ]
  },
  {
   "cell_type": "code",
   "execution_count": 7,
   "metadata": {},
   "outputs": [],
   "source": [
    "sxsx = tensor([sigmax(),sigmax()])\n",
    "sxsx01 = expand_operator(sxsx, N=3, targets=[0,1])\n",
    "sxsx12 = expand_operator(sxsx, N=3, targets=[1,2])\n",
    "test_processor.add_ctrl(sxsx01)\n",
    "test_processor.add_ctrl(sxsx12)"
   ]
  },
  {
   "cell_type": "markdown",
   "metadata": {},
   "source": [
    "Find the optimal pulse with 6 time slots. Instead of a `QubitCircuit`, a list of operators can also be given as an input."
   ]
  },
  {
   "cell_type": "code",
   "execution_count": 8,
   "metadata": {},
   "outputs": [
    {
     "name": "stdout",
     "output_type": "stream",
     "text": [
      "********** Gate 0 **********\n",
      "Final fidelity error 2.506400305080092e-07\n",
      "Final gradient normal 4.686700909448288e-05\n",
      "Terminated due to Iteration or fidelity function call limit reached\n",
      "Number of iterations 500\n"
     ]
    },
    {
     "data": {
      "image/png": "[encoded data removed]",
      "text/plain": [
       "<Figure size 432x288 with 1 Axes>"
      ]
     },
     "metadata": {
      "needs_background": "light"
     },
     "output_type": "display_data"
    }
   ],
   "source": [
    "test_processor.load_circuit([toffoli()], num_tslots=6, evo_time=1, verbose=True);\n",
    "test_processor.plot_pulses(title=\"Contorl pulse for toffoli gate\");"
   ]
  },
  {
   "cell_type": "code",
   "execution_count": 9,
   "metadata": {},
   "outputs": [
    {
     "data": {
      "text/html": [
       "<table><tr><th>Software</th><th>Version</th></tr><tr><td>QuTiP</td><td>4.5.0.dev0+c50c4bc9</td></tr><tr><td>Numpy</td><td>1.16.2</td></tr><tr><td>SciPy</td><td>1.2.1</td></tr><tr><td>matplotlib</td><td>3.0.3</td></tr><tr><td>Cython</td><td>0.29.12</td></tr><tr><td>Number of CPUs</td><td>12</td></tr><tr><td>BLAS Info</td><td>INTEL MKL</td></tr><tr><td>IPython</td><td>7.4.0</td></tr><tr><td>Python</td><td>3.7.3 (default, Mar 27 2019, 17:13:21) [MSC v.1915 64 bit (AMD64)]</td></tr><tr><td>OS</td><td>nt [win32]</td></tr><tr><td colspan='2'>Sun Aug 11 20:28:55 2019 W. Europe Daylight Time</td></tr></table>"
      ],
      "text/plain": [
       "<IPython.core.display.HTML object>"
      ]
     },
     "execution_count": 9,
     "metadata": {},
     "output_type": "execute_result"
    }
   ],
   "source": [
    "from qutip.ipynbtools import version_table\n",
    "version_table()"
   ]
  }
 ],
 "metadata": {
  "kernelspec": {
   "display_name": "Python 3",
   "language": "python",
   "name": "python3"
  },
  "language_info": {
   "codemirror_mode": {
    "name": "ipython",
    "version": 3
   },
   "file_extension": ".py",
   "mimetype": "text/x-python",
   "name": "python",
   "nbconvert_exporter": "python",
   "pygments_lexer": "ipython3",
   "version": "3.7.3"
  }
 },
 "nbformat": 4,
 "nbformat_minor": 2
}
