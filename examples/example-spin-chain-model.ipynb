{
 "metadata": {
  "name": "",
  "signature": "sha256:63e32dc1eff2ff1ff7e885386b22e0a6c2a431db06bdf269fc4898dc7ac16325"
 },
 "nbformat": 3,
 "nbformat_minor": 0,
 "worksheets": [
  {
   "cells": [
    {
     "cell_type": "heading",
     "level": 1,
     "metadata": {},
     "source": [
      "QuTiP example: Physical implementation of Spin Chain Qubit model"
     ]
    },
    {
     "cell_type": "markdown",
     "metadata": {},
     "source": [
      "\n",
      "Author: Anubhav Vardhan (anubhavvardhan@gmail.com)\n",
      "\n",
      "\n",
      "For more information about QuTiP see [http://qutip.org](http://qutip.org)"
     ]
    },
    {
     "cell_type": "code",
     "collapsed": false,
     "input": [
      "%pylab inline"
     ],
     "language": "python",
     "metadata": {},
     "outputs": [
      {
       "output_type": "stream",
       "stream": "stdout",
       "text": [
        "Populating the interactive namespace from numpy and matplotlib\n"
       ]
      }
     ],
     "prompt_number": 1
    },
    {
     "cell_type": "code",
     "collapsed": false,
     "input": [
      "from qutip import *"
     ],
     "language": "python",
     "metadata": {},
     "outputs": [],
     "prompt_number": 2
    },
    {
     "cell_type": "code",
     "collapsed": false,
     "input": [
      "from qutip.qip.models.circuitprocessor import *"
     ],
     "language": "python",
     "metadata": {},
     "outputs": [],
     "prompt_number": 3
    },
    {
     "cell_type": "code",
     "collapsed": false,
     "input": [
      "from qutip.qip.models.spinchain import *"
     ],
     "language": "python",
     "metadata": {},
     "outputs": [],
     "prompt_number": 4
    },
    {
     "cell_type": "heading",
     "level": 2,
     "metadata": {},
     "source": [
      "Hamiltonian:"
     ]
    },
    {
     "cell_type": "markdown",
     "metadata": {},
     "source": [
      "\n",
      "$\\displaystyle H = - \\frac{1}{2}\\sum_n^N h_n \\sigma_z(n) - \\frac{1}{2} \\sum_n^{N-1} [ J_x^{(n)} \\sigma_x(n) \\sigma_x(n+1) + J_y^{(n)} \\sigma_y(n) \\sigma_y(n+1) +J_z^{(n)} \\sigma_z(n) \\sigma_z(n+1)]$"
     ]
    },
    {
     "cell_type": "markdown",
     "metadata": {},
     "source": [
      "The linear and circular spin chain models employing the nearest neighbor interaction can be implemented using the SpinChain class."
     ]
    },
    {
     "cell_type": "heading",
     "level": 2,
     "metadata": {},
     "source": [
      "Circuit Setup"
     ]
    },
    {
     "cell_type": "code",
     "collapsed": false,
     "input": [
      "N = 6\n",
      "qc = QubitCircuit(N)\n",
      "\n",
      "qc.add_gate(\"CNOT\", targets=[1], controls=[5])\n",
      "\n",
      "qc.png"
     ],
     "language": "python",
     "metadata": {},
     "outputs": [
      {
       "metadata": {},
       "output_type": "pyout",
       "png": "[encoded data removed]",
       "prompt_number": 5,
       "text": [
        "<IPython.core.display.Image at 0x7fa272e9e390>"
       ]
      }
     ],
     "prompt_number": 5
    },
    {
     "cell_type": "markdown",
     "metadata": {},
     "source": [
      "The non-adjacent interactions are broken into a series of adjacent ones by the program automatically."
     ]
    },
    {
     "cell_type": "code",
     "collapsed": false,
     "input": [
      "U_ideal = gate_sequence_product(qc.unitary_matrix())\n",
      "\n",
      "U_ideal"
     ],
     "language": "python",
     "metadata": {},
     "outputs": [
      {
       "latex": [
        "Quantum object: dims = [[2, 2, 2, 2, 2, 2], [2, 2, 2, 2, 2, 2]], shape = [64, 64], type = oper, isherm = True\\begin{equation*}\\begin{pmatrix}1.0 & 0.0 & 0.0 & 0.0 & 0.0 & \\cdots & 0.0 & 0.0 & 0.0 & 0.0 & 0.0\\\\0.0 & 0.0 & 0.0 & 0.0 & 0.0 & \\cdots & 0.0 & 0.0 & 0.0 & 0.0 & 0.0\\\\0.0 & 0.0 & 1.0 & 0.0 & 0.0 & \\cdots & 0.0 & 0.0 & 0.0 & 0.0 & 0.0\\\\0.0 & 0.0 & 0.0 & 0.0 & 0.0 & \\cdots & 0.0 & 0.0 & 0.0 & 0.0 & 0.0\\\\0.0 & 0.0 & 0.0 & 0.0 & 1.0 & \\cdots & 0.0 & 0.0 & 0.0 & 0.0 & 0.0\\\\\\vdots & \\vdots & \\vdots & \\vdots & \\vdots & \\ddots & \\vdots & \\vdots & \\vdots & \\vdots & \\vdots\\\\0.0 & 0.0 & 0.0 & 0.0 & 0.0 & \\cdots & 0.0 & 0.0 & 0.0 & 0.0 & 0.0\\\\0.0 & 0.0 & 0.0 & 0.0 & 0.0 & \\cdots & 0.0 & 1.0 & 0.0 & 0.0 & 0.0\\\\0.0 & 0.0 & 0.0 & 0.0 & 0.0 & \\cdots & 0.0 & 0.0 & 0.0 & 0.0 & 0.0\\\\0.0 & 0.0 & 0.0 & 0.0 & 0.0 & \\cdots & 0.0 & 0.0 & 0.0 & 1.0 & 0.0\\\\0.0 & 0.0 & 0.0 & 0.0 & 0.0 & \\cdots & 0.0 & 0.0 & 0.0 & 0.0 & 0.0\\\\\\end{pmatrix}\\end{equation*}"
       ],
       "metadata": {},
       "output_type": "pyout",
       "prompt_number": 6,
       "text": [
        "Quantum object: dims = [[2, 2, 2, 2, 2, 2], [2, 2, 2, 2, 2, 2]], shape = [64, 64], type = oper, isherm = True\n",
        "Qobj data =\n",
        "[[ 1.  0.  0. ...,  0.  0.  0.]\n",
        " [ 0.  0.  0. ...,  0.  0.  0.]\n",
        " [ 0.  0.  1. ...,  0.  0.  0.]\n",
        " ..., \n",
        " [ 0.  0.  0. ...,  0.  0.  0.]\n",
        " [ 0.  0.  0. ...,  0.  1.  0.]\n",
        " [ 0.  0.  0. ...,  0.  0.  0.]]"
       ]
      }
     ],
     "prompt_number": 6
    },
    {
     "cell_type": "heading",
     "level": 2,
     "metadata": {},
     "source": [
      "Circular Spin Chain Model Implementation"
     ]
    },
    {
     "cell_type": "code",
     "collapsed": false,
     "input": [
      "p1 = CircularSpinChain(N, correct_global_phase=True)\n",
      "\n",
      "U_list = p1.run(qc)\n",
      "\n",
      "U_physical = gate_sequence_product(U_list)\n",
      "\n",
      "U_physical.tidyup(atol=1e-5)"
     ],
     "language": "python",
     "metadata": {},
     "outputs": [
      {
       "latex": [
        "Quantum object: dims = [[2, 2, 2, 2, 2, 2], [2, 2, 2, 2, 2, 2]], shape = [64, 64], type = oper, isherm = True\\begin{equation*}\\begin{pmatrix}1.000 & 0.0 & 0.0 & 0.0 & 0.0 & \\cdots & 0.0 & 0.0 & 0.0 & 0.0 & 0.0\\\\0.0 & 0.0 & 0.0 & 0.0 & 0.0 & \\cdots & 0.0 & 0.0 & 0.0 & 0.0 & 0.0\\\\0.0 & 0.0 & 1.000 & 0.0 & 0.0 & \\cdots & 0.0 & 0.0 & 0.0 & 0.0 & 0.0\\\\0.0 & 0.0 & 0.0 & 0.0 & 0.0 & \\cdots & 0.0 & 0.0 & 0.0 & 0.0 & 0.0\\\\0.0 & 0.0 & 0.0 & 0.0 & 1.000 & \\cdots & 0.0 & 0.0 & 0.0 & 0.0 & 0.0\\\\\\vdots & \\vdots & \\vdots & \\vdots & \\vdots & \\ddots & \\vdots & \\vdots & \\vdots & \\vdots & \\vdots\\\\0.0 & 0.0 & 0.0 & 0.0 & 0.0 & \\cdots & 0.0 & 0.0 & 0.0 & 0.0 & 0.0\\\\0.0 & 0.0 & 0.0 & 0.0 & 0.0 & \\cdots & 0.0 & 1.000 & 0.0 & 0.0 & 0.0\\\\0.0 & 0.0 & 0.0 & 0.0 & 0.0 & \\cdots & 0.0 & 0.0 & 0.0 & 0.0 & 0.0\\\\0.0 & 0.0 & 0.0 & 0.0 & 0.0 & \\cdots & 0.0 & 0.0 & 0.0 & 1.000 & 0.0\\\\0.0 & 0.0 & 0.0 & 0.0 & 0.0 & \\cdots & 0.0 & 0.0 & 0.0 & 0.0 & 0.0\\\\\\end{pmatrix}\\end{equation*}"
       ],
       "metadata": {},
       "output_type": "pyout",
       "prompt_number": 7,
       "text": [
        "Quantum object: dims = [[2, 2, 2, 2, 2, 2], [2, 2, 2, 2, 2, 2]], shape = [64, 64], type = oper, isherm = True\n",
        "Qobj data =\n",
        "[[ 1.  0.  0. ...,  0.  0.  0.]\n",
        " [ 0.  0.  0. ...,  0.  0.  0.]\n",
        " [ 0.  0.  1. ...,  0.  0.  0.]\n",
        " ..., \n",
        " [ 0.  0.  0. ...,  0.  0.  0.]\n",
        " [ 0.  0.  0. ...,  0.  1.  0.]\n",
        " [ 0.  0.  0. ...,  0.  0.  0.]]"
       ]
      }
     ],
     "prompt_number": 7
    },
    {
     "cell_type": "code",
     "collapsed": false,
     "input": [
      "(U_ideal - U_physical).norm()"
     ],
     "language": "python",
     "metadata": {},
     "outputs": [
      {
       "metadata": {},
       "output_type": "pyout",
       "prompt_number": 8,
       "text": [
        "0.0"
       ]
      }
     ],
     "prompt_number": 8
    },
    {
     "cell_type": "markdown",
     "metadata": {},
     "source": [
      "The results obtained from the physical implementation agree with the ideal result."
     ]
    },
    {
     "cell_type": "code",
     "collapsed": false,
     "input": [
      "p1.qc0.gates"
     ],
     "language": "python",
     "metadata": {},
     "outputs": [
      {
       "metadata": {},
       "output_type": "pyout",
       "prompt_number": 9,
       "text": [
        "[Gate(CNOT, targets=[1], controls=[5])]"
       ]
      }
     ],
     "prompt_number": 9
    },
    {
     "cell_type": "markdown",
     "metadata": {},
     "source": [
      "The gates are first convert to gates with adjacent interactions moving in the direction with the least number of qubits in between."
     ]
    },
    {
     "cell_type": "code",
     "collapsed": false,
     "input": [
      "p1.qc1.gates"
     ],
     "language": "python",
     "metadata": {},
     "outputs": [
      {
       "metadata": {},
       "output_type": "pyout",
       "prompt_number": 10,
       "text": [
        "[Gate(SWAP, targets=[5, 0], controls=None),\n",
        " Gate(CNOT, targets=[1], controls=[0]),\n",
        " Gate(SWAP, targets=[5, 0], controls=None)]"
       ]
      }
     ],
     "prompt_number": 10
    },
    {
     "cell_type": "markdown",
     "metadata": {},
     "source": [
      "They are then converted into the basis [ISWAP, RX, RZ]"
     ]
    },
    {
     "cell_type": "code",
     "collapsed": false,
     "input": [
      "p1.qc2.gates"
     ],
     "language": "python",
     "metadata": {},
     "outputs": [
      {
       "metadata": {},
       "output_type": "pyout",
       "prompt_number": 11,
       "text": [
        "[Gate(GLOBALPHASE, targets=None, controls=None),\n",
        " Gate(ISWAP, targets=[5, 0], controls=None),\n",
        " Gate(RX, targets=[5], controls=None),\n",
        " Gate(ISWAP, targets=[5, 0], controls=None),\n",
        " Gate(RX, targets=[0], controls=None),\n",
        " Gate(ISWAP, targets=[0, 5], controls=None),\n",
        " Gate(RX, targets=[5], controls=None),\n",
        " Gate(GLOBALPHASE, targets=None, controls=None),\n",
        " Gate(ISWAP, targets=[0, 1], controls=None),\n",
        " Gate(RZ, targets=[1], controls=None),\n",
        " Gate(RZ, targets=[0], controls=None),\n",
        " Gate(RX, targets=[0], controls=None),\n",
        " Gate(RZ, targets=[0], controls=None),\n",
        " Gate(RZ, targets=[0], controls=None),\n",
        " Gate(ISWAP, targets=[0, 1], controls=None),\n",
        " Gate(RZ, targets=[1], controls=None),\n",
        " Gate(RX, targets=[1], controls=None),\n",
        " Gate(RZ, targets=[1], controls=None),\n",
        " Gate(RZ, targets=[1], controls=None),\n",
        " Gate(GLOBALPHASE, targets=None, controls=None),\n",
        " Gate(ISWAP, targets=[5, 0], controls=None),\n",
        " Gate(RX, targets=[5], controls=None),\n",
        " Gate(ISWAP, targets=[5, 0], controls=None),\n",
        " Gate(RX, targets=[0], controls=None),\n",
        " Gate(ISWAP, targets=[0, 5], controls=None),\n",
        " Gate(RX, targets=[5], controls=None)]"
       ]
      }
     ],
     "prompt_number": 11
    },
    {
     "cell_type": "markdown",
     "metadata": {},
     "source": [
      "The time for each applied gate:"
     ]
    },
    {
     "cell_type": "code",
     "collapsed": false,
     "input": [
      "p1.T_list"
     ],
     "language": "python",
     "metadata": {},
     "outputs": [
      {
       "metadata": {},
       "output_type": "pyout",
       "prompt_number": 12,
       "text": [
        "[1.25,\n",
        " 0.5,\n",
        " 1.25,\n",
        " 0.5,\n",
        " 1.25,\n",
        " 0.5,\n",
        " 1.25,\n",
        " 0.125,\n",
        " 0.125,\n",
        " 0.5,\n",
        " 0.125,\n",
        " 0.125,\n",
        " 1.25,\n",
        " 0.125,\n",
        " 0.5,\n",
        " 0.125,\n",
        " 0.125,\n",
        " 1.25,\n",
        " 0.5,\n",
        " 1.25,\n",
        " 0.5,\n",
        " 1.25,\n",
        " 0.5]"
       ]
      }
     ],
     "prompt_number": 12
    },
    {
     "cell_type": "markdown",
     "metadata": {},
     "source": [
      "The pulse can be plotted as:"
     ]
    },
    {
     "cell_type": "code",
     "collapsed": false,
     "input": [
      "p1.plot_pulses()"
     ],
     "language": "python",
     "metadata": {},
     "outputs": [
      {
       "metadata": {},
       "output_type": "pyout",
       "prompt_number": 13,
       "text": [
        "(<matplotlib.figure.Figure at 0x7fa272eab320>,\n",
        " <matplotlib.axes.AxesSubplot at 0x7fa272e44080>)"
       ]
      },
      {
       "metadata": {},
       "output_type": "display_data",
       "png": "[encoded data removed]",
       "text": [
        "<matplotlib.figure.Figure at 0x7fa272eab320>"
       ]
      }
     ],
     "prompt_number": 13
    },
    {
     "cell_type": "heading",
     "level": 2,
     "metadata": {},
     "source": [
      "Linear Spin Chain Model Implementation"
     ]
    },
    {
     "cell_type": "code",
     "collapsed": false,
     "input": [
      "p2 = LinearSpinChain(N, correct_global_phase=True)\n",
      "\n",
      "U_list = p2.run(qc)\n",
      "\n",
      "U_physical = gate_sequence_product(U_list)\n",
      "\n",
      "U_physical.tidyup(atol=1e-5)"
     ],
     "language": "python",
     "metadata": {},
     "outputs": [
      {
       "latex": [
        "Quantum object: dims = [[2, 2, 2, 2, 2, 2], [2, 2, 2, 2, 2, 2]], shape = [64, 64], type = oper, isherm = True\\begin{equation*}\\begin{pmatrix}1.000 & 0.0 & 0.0 & 0.0 & 0.0 & \\cdots & 0.0 & 0.0 & 0.0 & 0.0 & 0.0\\\\0.0 & 0.0 & 0.0 & 0.0 & 0.0 & \\cdots & 0.0 & 0.0 & 0.0 & 0.0 & 0.0\\\\0.0 & 0.0 & 1.000 & 0.0 & 0.0 & \\cdots & 0.0 & 0.0 & 0.0 & 0.0 & 0.0\\\\0.0 & 0.0 & 0.0 & 0.0 & 0.0 & \\cdots & 0.0 & 0.0 & 0.0 & 0.0 & 0.0\\\\0.0 & 0.0 & 0.0 & 0.0 & 1.000 & \\cdots & 0.0 & 0.0 & 0.0 & 0.0 & 0.0\\\\\\vdots & \\vdots & \\vdots & \\vdots & \\vdots & \\ddots & \\vdots & \\vdots & \\vdots & \\vdots & \\vdots\\\\0.0 & 0.0 & 0.0 & 0.0 & 0.0 & \\cdots & 0.0 & 0.0 & 0.0 & 0.0 & 0.0\\\\0.0 & 0.0 & 0.0 & 0.0 & 0.0 & \\cdots & 0.0 & 1.000 & 0.0 & 0.0 & 0.0\\\\0.0 & 0.0 & 0.0 & 0.0 & 0.0 & \\cdots & 0.0 & 0.0 & 0.0 & 0.0 & 0.0\\\\0.0 & 0.0 & 0.0 & 0.0 & 0.0 & \\cdots & 0.0 & 0.0 & 0.0 & 1.000 & 0.0\\\\0.0 & 0.0 & 0.0 & 0.0 & 0.0 & \\cdots & 0.0 & 0.0 & 0.0 & 0.0 & 0.0\\\\\\end{pmatrix}\\end{equation*}"
       ],
       "metadata": {},
       "output_type": "pyout",
       "prompt_number": 14,
       "text": [
        "Quantum object: dims = [[2, 2, 2, 2, 2, 2], [2, 2, 2, 2, 2, 2]], shape = [64, 64], type = oper, isherm = True\n",
        "Qobj data =\n",
        "[[ 1.  0.  0. ...,  0.  0.  0.]\n",
        " [ 0.  0.  0. ...,  0.  0.  0.]\n",
        " [ 0.  0.  1. ...,  0.  0.  0.]\n",
        " ..., \n",
        " [ 0.  0.  0. ...,  0.  0.  0.]\n",
        " [ 0.  0.  0. ...,  0.  1.  0.]\n",
        " [ 0.  0.  0. ...,  0.  0.  0.]]"
       ]
      }
     ],
     "prompt_number": 14
    },
    {
     "cell_type": "code",
     "collapsed": false,
     "input": [
      "(U_ideal - U_physical).norm()"
     ],
     "language": "python",
     "metadata": {},
     "outputs": [
      {
       "metadata": {},
       "output_type": "pyout",
       "prompt_number": 15,
       "text": [
        "0.0"
       ]
      }
     ],
     "prompt_number": 15
    },
    {
     "cell_type": "markdown",
     "metadata": {},
     "source": [
      "The results obtained from the physical implementation agree with the ideal result."
     ]
    },
    {
     "cell_type": "code",
     "collapsed": false,
     "input": [
      "p2.qc0.gates"
     ],
     "language": "python",
     "metadata": {},
     "outputs": [
      {
       "metadata": {},
       "output_type": "pyout",
       "prompt_number": 16,
       "text": [
        "[Gate(CNOT, targets=[1], controls=[5])]"
       ]
      }
     ],
     "prompt_number": 16
    },
    {
     "cell_type": "markdown",
     "metadata": {},
     "source": [
      "The gates are first convert to gates with adjacent interactions moving in the direction with the least number of qubits in between."
     ]
    },
    {
     "cell_type": "code",
     "collapsed": false,
     "input": [
      "p2.qc1.gates"
     ],
     "language": "python",
     "metadata": {},
     "outputs": [
      {
       "metadata": {},
       "output_type": "pyout",
       "prompt_number": 17,
       "text": [
        "[Gate(SWAP, targets=[1, 2], controls=None),\n",
        " Gate(SWAP, targets=[4, 5], controls=None),\n",
        " Gate(SWAP, targets=[2, 3], controls=None),\n",
        " Gate(CNOT, targets=[3], controls=[4]),\n",
        " Gate(SWAP, targets=[2, 3], controls=None),\n",
        " Gate(SWAP, targets=[4, 5], controls=None),\n",
        " Gate(SWAP, targets=[1, 2], controls=None)]"
       ]
      }
     ],
     "prompt_number": 17
    },
    {
     "cell_type": "markdown",
     "metadata": {},
     "source": [
      "They are then converted into the basis [ISWAP, RX, RZ]"
     ]
    },
    {
     "cell_type": "code",
     "collapsed": false,
     "input": [
      "p2.qc2.gates"
     ],
     "language": "python",
     "metadata": {},
     "outputs": [
      {
       "metadata": {},
       "output_type": "pyout",
       "prompt_number": 18,
       "text": [
        "[Gate(GLOBALPHASE, targets=None, controls=None),\n",
        " Gate(ISWAP, targets=[1, 2], controls=None),\n",
        " Gate(RX, targets=[1], controls=None),\n",
        " Gate(ISWAP, targets=[1, 2], controls=None),\n",
        " Gate(RX, targets=[2], controls=None),\n",
        " Gate(ISWAP, targets=[2, 1], controls=None),\n",
        " Gate(RX, targets=[1], controls=None),\n",
        " Gate(GLOBALPHASE, targets=None, controls=None),\n",
        " Gate(ISWAP, targets=[4, 5], controls=None),\n",
        " Gate(RX, targets=[4], controls=None),\n",
        " Gate(ISWAP, targets=[4, 5], controls=None),\n",
        " Gate(RX, targets=[5], controls=None),\n",
        " Gate(ISWAP, targets=[5, 4], controls=None),\n",
        " Gate(RX, targets=[4], controls=None),\n",
        " Gate(GLOBALPHASE, targets=None, controls=None),\n",
        " Gate(ISWAP, targets=[2, 3], controls=None),\n",
        " Gate(RX, targets=[2], controls=None),\n",
        " Gate(ISWAP, targets=[2, 3], controls=None),\n",
        " Gate(RX, targets=[3], controls=None),\n",
        " Gate(ISWAP, targets=[3, 2], controls=None),\n",
        " Gate(RX, targets=[2], controls=None),\n",
        " Gate(GLOBALPHASE, targets=None, controls=None),\n",
        " Gate(ISWAP, targets=[4, 3], controls=None),\n",
        " Gate(RZ, targets=[3], controls=None),\n",
        " Gate(RZ, targets=[4], controls=None),\n",
        " Gate(RX, targets=[4], controls=None),\n",
        " Gate(RZ, targets=[4], controls=None),\n",
        " Gate(RZ, targets=[4], controls=None),\n",
        " Gate(ISWAP, targets=[4, 3], controls=None),\n",
        " Gate(RZ, targets=[3], controls=None),\n",
        " Gate(RX, targets=[3], controls=None),\n",
        " Gate(RZ, targets=[3], controls=None),\n",
        " Gate(RZ, targets=[3], controls=None),\n",
        " Gate(GLOBALPHASE, targets=None, controls=None),\n",
        " Gate(ISWAP, targets=[2, 3], controls=None),\n",
        " Gate(RX, targets=[2], controls=None),\n",
        " Gate(ISWAP, targets=[2, 3], controls=None),\n",
        " Gate(RX, targets=[3], controls=None),\n",
        " Gate(ISWAP, targets=[3, 2], controls=None),\n",
        " Gate(RX, targets=[2], controls=None),\n",
        " Gate(GLOBALPHASE, targets=None, controls=None),\n",
        " Gate(ISWAP, targets=[4, 5], controls=None),\n",
        " Gate(RX, targets=[4], controls=None),\n",
        " Gate(ISWAP, targets=[4, 5], controls=None),\n",
        " Gate(RX, targets=[5], controls=None),\n",
        " Gate(ISWAP, targets=[5, 4], controls=None),\n",
        " Gate(RX, targets=[4], controls=None),\n",
        " Gate(GLOBALPHASE, targets=None, controls=None),\n",
        " Gate(ISWAP, targets=[1, 2], controls=None),\n",
        " Gate(RX, targets=[1], controls=None),\n",
        " Gate(ISWAP, targets=[1, 2], controls=None),\n",
        " Gate(RX, targets=[2], controls=None),\n",
        " Gate(ISWAP, targets=[2, 1], controls=None),\n",
        " Gate(RX, targets=[1], controls=None)]"
       ]
      }
     ],
     "prompt_number": 18
    },
    {
     "cell_type": "markdown",
     "metadata": {},
     "source": [
      "The time for each applied gate:"
     ]
    },
    {
     "cell_type": "code",
     "collapsed": false,
     "input": [
      "p2.T_list"
     ],
     "language": "python",
     "metadata": {},
     "outputs": [
      {
       "metadata": {},
       "output_type": "pyout",
       "prompt_number": 19,
       "text": [
        "[1.25,\n",
        " 0.5,\n",
        " 1.25,\n",
        " 0.5,\n",
        " 1.25,\n",
        " 0.5,\n",
        " 1.25,\n",
        " 0.5,\n",
        " 1.25,\n",
        " 0.5,\n",
        " 1.25,\n",
        " 0.5,\n",
        " 1.25,\n",
        " 0.5,\n",
        " 1.25,\n",
        " 0.5,\n",
        " 1.25,\n",
        " 0.5,\n",
        " 1.25,\n",
        " 0.125,\n",
        " 0.125,\n",
        " 0.5,\n",
        " 0.125,\n",
        " 0.125,\n",
        " 1.25,\n",
        " 0.125,\n",
        " 0.5,\n",
        " 0.125,\n",
        " 0.125,\n",
        " 1.25,\n",
        " 0.5,\n",
        " 1.25,\n",
        " 0.5,\n",
        " 1.25,\n",
        " 0.5,\n",
        " 1.25,\n",
        " 0.5,\n",
        " 1.25,\n",
        " 0.5,\n",
        " 1.25,\n",
        " 0.5,\n",
        " 1.25,\n",
        " 0.5,\n",
        " 1.25,\n",
        " 0.5,\n",
        " 1.25,\n",
        " 0.5]"
       ]
      }
     ],
     "prompt_number": 19
    },
    {
     "cell_type": "markdown",
     "metadata": {},
     "source": [
      "The pulse can be plotted as:"
     ]
    },
    {
     "cell_type": "code",
     "collapsed": false,
     "input": [
      "p2.plot_pulses()"
     ],
     "language": "python",
     "metadata": {},
     "outputs": [
      {
       "metadata": {},
       "output_type": "pyout",
       "prompt_number": 20,
       "text": [
        "(<matplotlib.figure.Figure at 0x7fa272e8de10>,\n",
        " <matplotlib.axes.AxesSubplot at 0x7fa272eab978>)"
       ]
      },
      {
       "metadata": {},
       "output_type": "display_data",
       "png": "[encoded data removed]",
       "text": [
        "<matplotlib.figure.Figure at 0x7fa272e8de10>"
       ]
      }
     ],
     "prompt_number": 20
    },
    {
     "cell_type": "heading",
     "level": 3,
     "metadata": {},
     "source": [
      "Software versions:"
     ]
    },
    {
     "cell_type": "code",
     "collapsed": false,
     "input": [
      "from qutip.ipynbtools import version_table\n",
      "version_table()"
     ],
     "language": "python",
     "metadata": {},
     "outputs": [
      {
       "html": [
        "<table><tr><th>Software</th><th>Version</th></tr><tr><td>QuTiP</td><td>3.0.0.dev-526f1d2</td></tr><tr><td>IPython</td><td>2.0.0</td></tr><tr><td>matplotlib</td><td>1.3.1</td></tr><tr><td>Cython</td><td>0.20.1post0</td></tr><tr><td>SciPy</td><td>0.13.3</td></tr><tr><td>Python</td><td>3.4.1 (default, Jun  9 2014, 17:34:49) \n",
        "[GCC 4.8.3]</td></tr><tr><td>OS</td><td>posix [linux]</td></tr><tr><td>Numpy</td><td>1.8.1</td></tr><tr><td colspan='2'>Wed Jun 25 15:07:06 2014 JST</td></tr></table>"
       ],
       "metadata": {},
       "output_type": "pyout",
       "prompt_number": 21,
       "text": [
        "<IPython.core.display.HTML at 0x7fa272e10c88>"
       ]
      }
     ],
     "prompt_number": 21
    }
   ],
   "metadata": {}
  }
 ]
}