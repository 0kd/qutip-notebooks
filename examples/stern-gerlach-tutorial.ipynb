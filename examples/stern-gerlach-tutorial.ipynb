{
 "cells": [
  {
   "cell_type": "markdown",
   "metadata": {
    "slideshow": {
     "slide_type": "slide"
    }
   },
   "source": [
    "# Performing Quantum Measurements in QuTiP\n",
    "\n",
    "* EuroSciPy 2019\n",
    "* Simon Cross"
   ]
  },
  {
   "cell_type": "markdown",
   "metadata": {
    "slideshow": {
     "slide_type": "slide"
    }
   },
   "source": [
    "### Outline\n",
    "\n",
    "* Why this weird quantum mechanics anyway?\n",
    "* Simulating a simple classical system.\n",
    "* What is a classical bit?\n",
    "* What is a qubit?\n",
    "* Measuring a qubit.\n",
    "* Simulating a simple quantum experiment in QuTiP."
   ]
  },
  {
   "cell_type": "markdown",
   "metadata": {
    "slideshow": {
     "slide_type": "subslide"
    }
   },
   "source": [
    "### Meta goals\n",
    "\n",
    "* Use QuTiP to try things out.\n",
    "* Try understand what we're doing!"
   ]
  },
  {
   "cell_type": "markdown",
   "metadata": {
    "slideshow": {
     "slide_type": "slide"
    }
   },
   "source": [
    "# Imports: Our tools"
   ]
  },
  {
   "cell_type": "code",
   "execution_count": null,
   "metadata": {
    "slideshow": {
     "slide_type": "subslide"
    }
   },
   "outputs": [],
   "source": [
    "%matplotlib inline\n",
    "\n",
    "from collections import namedtuple\n",
    "\n",
    "import matplotlib.pyplot as plt\n",
    "import numpy as np\n",
    "import qutip\n",
    "from qutip import Qobj, Bloch, basis, ket, tensor"
   ]
  },
  {
   "cell_type": "markdown",
   "metadata": {
    "slideshow": {
     "slide_type": "subslide"
    }
   },
   "source": [
    "Define LaTeX commands:\n",
    "* $\\newcommand{\\ket}[1]{\\left|{#1}\\right\\rangle}$ $\\ket{0}$\n",
    "* $\\newcommand{\\bra}[1]{\\left\\langle{#1}\\right|}$ $\\bra{1}$\n",
    "* $\\newcommand{\\abs}[1]{\\lvert{#1}\\rvert}$ $\\abs{x}$"
   ]
  },
  {
   "cell_type": "markdown",
   "metadata": {
    "slideshow": {
     "slide_type": "slide"
    }
   },
   "source": [
    "# The Stern-Gerlach Experiment\n",
    "\n",
    "Why this weird quantum mechanics anyway?"
   ]
  },
  {
   "cell_type": "markdown",
   "metadata": {
    "slideshow": {
     "slide_type": "subslide"
    }
   },
   "source": [
    "### Apparatus\n",
    "\n",
    "<center><img src=\"images/stern-gerlach-apparatus-cm.png\"></center>\n",
    "\n",
    "Great drawing from: http://hyperphysics.phy-astr.gsu.edu/hbase/spin.html"
   ]
  },
  {
   "cell_type": "markdown",
   "metadata": {
    "slideshow": {
     "slide_type": "subslide"
    }
   },
   "source": [
    "See also:\n",
    "    \n",
    "* https://plato.stanford.edu/entries/physics-experiment/app5.html.\n",
    "* https://en.wikipedia.org/wiki/Stern%E2%80%93Gerlach_experiment#History\n",
    "    \n",
    "for more on the history of the Stern-Gerlach experiment."
   ]
  },
  {
   "cell_type": "markdown",
   "metadata": {
    "slideshow": {
     "slide_type": "notes"
    }
   },
   "source": [
    "Why did they decide to do this?\n",
    "\n",
    "It had become generally accepted that atoms could behave as tiny magnets.\n",
    "\n",
    "In the classical model of the atom, electrons orbit the nucleus. A charge orbiting in a circle generates a magnetic field -- so atoms should act like tiny magnets and be deflected by an inhomogenous magnetic field.\n",
    "\n",
    "Stern had the idea that this deflection would help better measure and understand the magnetic moment of the atoms & Gerlach brought the experimental expertise."
   ]
  },
  {
   "cell_type": "markdown",
   "metadata": {
    "slideshow": {
     "slide_type": "subslide"
    }
   },
   "source": [
    "\\begin{align}\n",
    "F_z & = \\mu_z \\frac{\\partial B}{\\partial z} \\\\\n",
    "    & = ( \\hat{\\mu} \\cdot \\hat{z} ) |\\mu| \\frac{\\partial B}{\\partial z} \\\\\n",
    "    & \\propto \\hat{\\mu} \\cdot \\hat{z}\n",
    "\\end{align}"
   ]
  },
  {
   "cell_type": "markdown",
   "metadata": {
    "slideshow": {
     "slide_type": "notes"
    }
   },
   "source": [
    "Here $\\hat \\mu$ is the magnetic moment (strength and direction of the atom's magnetic field) and $\\hat z$ is the direction in which the magnetic field varies (and which the measurement is made in).\n",
    "\n",
    "The assumptions that the magnitude of the the atoms magnetic moment $\\abs{\\mu}$ and the inhomogeneity of the magnetic field are constant allow us to make the last statement that $F_z$ is proportional to the dot product of $\\hat \\mu$ and $\\hat z$.\n",
    "\n",
    "Now for fun, let's display the $\\hat \\mu$ and $\\hat z$ vectors using QuTiP's `Bloch` class. For now consider this class just a handy way to plot vectors -- we will be learning more about what it is later on."
   ]
  },
  {
   "cell_type": "code",
   "execution_count": null,
   "metadata": {
    "slideshow": {
     "slide_type": "subslide"
    }
   },
   "outputs": [],
   "source": [
    "z = np.array([0, 0, 1])\n",
    "mu = np.array([0, 1, 1]) / np.sqrt(2)\n",
    "\n",
    "bloch = Bloch()\n",
    "bloch.zlabel=(\"z\", \"\")\n",
    "bloch.add_vectors([z, mu])\n",
    "bloch.show()"
   ]
  },
  {
   "cell_type": "markdown",
   "metadata": {
    "slideshow": {
     "slide_type": "slide"
    }
   },
   "source": [
    "# Let's simulate the Stern-Gerlach in Python!\n",
    "\n",
    "Simulating a simple classical system."
   ]
  },
  {
   "cell_type": "code",
   "execution_count": null,
   "metadata": {
    "slideshow": {
     "slide_type": "subslide"
    }
   },
   "outputs": [],
   "source": [
    "# Simulation of expected results in the classical case\n",
    "\n",
    "Direction = namedtuple(\"Direction\", [\"theta\", \"phi\"])\n",
    "\n",
    "\n",
    "def random_direction():\n",
    "    \"\"\" Generate a random direction. \"\"\"\n",
    "    # See http://mathworld.wolfram.com/SpherePointPicking.html\n",
    "    r = 0\n",
    "    while r == 0:\n",
    "        x, y, z = np.random.normal(0, 1, 3)\n",
    "        r = np.sqrt(x**2 + y**2 + z**2)\n",
    "    phi = np.arctan2(y, x)\n",
    "    theta = np.arccos(z / r)\n",
    "    return Direction(theta=theta, phi=phi)"
   ]
  },
  {
   "cell_type": "code",
   "execution_count": null,
   "metadata": {
    "slideshow": {
     "slide_type": "subslide"
    }
   },
   "outputs": [],
   "source": [
    "def classical_state(d):\n",
    "    \"\"\" Prepare a spin state given a direction. \"\"\"\n",
    "    x = np.sin(d.theta) * np.cos(d.phi) \n",
    "    y = np.sin(d.theta) * np.sin(d.phi)\n",
    "    z = np.cos(d.theta)\n",
    "    return np.array([x, y, z])"
   ]
  },
  {
   "cell_type": "code",
   "execution_count": null,
   "metadata": {
    "slideshow": {
     "slide_type": "subslide"
    }
   },
   "outputs": [],
   "source": [
    "classical_up = np.array([0, 0, 1])\n",
    "\n",
    "def classical_spin(c):\n",
    "    \"\"\" Measure the z-component of the spin. \"\"\"\n",
    "    return classical_up.dot(c)"
   ]
  },
  {
   "cell_type": "code",
   "execution_count": null,
   "metadata": {
    "slideshow": {
     "slide_type": "subslide"
    }
   },
   "outputs": [],
   "source": [
    "def classical_stern_gerlach(n):\n",
    "    \"\"\" Simulate the Stern-Gerlach experiment \"\"\"\n",
    "    directions = [random_direction() for _ in range(n)]\n",
    "    atoms = [classical_state(d) for d in directions]\n",
    "    spins = [classical_spin(c) for c in atoms]\n",
    "    return atoms, spins"
   ]
  },
  {
   "cell_type": "code",
   "execution_count": null,
   "metadata": {
    "slideshow": {
     "slide_type": "subslide"
    }
   },
   "outputs": [],
   "source": [
    "def plot_classical_results(atoms, spins):\n",
    "    fig = plt.figure(figsize=(18.0, 8.0))\n",
    "    fig.suptitle(\"Stern-Gerlach Experiment: Classical Outcome\", fontsize=\"xx-large\")\n",
    "\n",
    "    ax1 = plt.subplot(1, 2, 1, projection='3d')\n",
    "    ax2 = plt.subplot(1, 2, 2)\n",
    "\n",
    "    b = Bloch(fig=fig, axes=ax1)\n",
    "    b.vector_width = 1\n",
    "    b.vector_color = [\"#ff{:x}0ff\".format(i, i) for i in range(10)]\n",
    "    b.zlabel = [\"$z$\", \"\"]\n",
    "    b.add_vectors(atoms)\n",
    "    b.render(fig=fig, axes=ax1)\n",
    "\n",
    "    ax2.hist(spins)\n",
    "    ax2.set_xlabel(\"Z-component of spin\")\n",
    "    ax2.set_ylabel(\"# of atoms\")"
   ]
  },
  {
   "cell_type": "code",
   "execution_count": null,
   "metadata": {
    "slideshow": {
     "slide_type": "subslide"
    }
   },
   "outputs": [],
   "source": [
    "atoms, spins = classical_stern_gerlach(1000)\n",
    "plot_classical_results(atoms, spins)"
   ]
  },
  {
   "cell_type": "markdown",
   "metadata": {
    "slideshow": {
     "slide_type": "slide"
    }
   },
   "source": [
    "# The actual results\n",
    "\n",
    "<img src=\"images/stern-gerlach-fig13-results.jpg\">"
   ]
  },
  {
   "cell_type": "code",
   "execution_count": null,
   "metadata": {
    "slideshow": {
     "slide_type": "subslide"
    }
   },
   "outputs": [],
   "source": [
    "def plot_real_vs_actual(spins):\n",
    "    fig = plt.figure(figsize=(18.0, 8.0))\n",
    "    fig.suptitle(\"Stern-Gerlach Experiment: Real vs Actual\", fontsize=\"xx-large\")\n",
    "\n",
    "    ax1 = plt.subplot(1, 2, 1)\n",
    "    ax2 = plt.subplot(1, 2, 2)\n",
    "\n",
    "    ax1.hist([np.random.choice([1, -1]) for _ in spins])\n",
    "    ax1.set_xlabel(\"Z-component of spin\")\n",
    "    ax1.set_ylabel(\"# of atoms\")\n",
    "    \n",
    "    ax2.hist(spins)\n",
    "    ax2.set_xlabel(\"Z-component of spin\")\n",
    "    ax2.set_ylabel(\"# of atoms\")"
   ]
  },
  {
   "cell_type": "code",
   "execution_count": null,
   "metadata": {
    "slideshow": {
     "slide_type": "subslide"
    }
   },
   "outputs": [],
   "source": [
    "plot_real_vs_actual(spins)"
   ]
  },
  {
   "cell_type": "markdown",
   "metadata": {
    "slideshow": {
     "slide_type": "slide"
    }
   },
   "source": [
    "# Uh-oh.\n",
    "\n",
    "This really is a system with two outcomes."
   ]
  },
  {
   "cell_type": "markdown",
   "metadata": {
    "slideshow": {
     "slide_type": "subslide"
    }
   },
   "source": [
    "# If we align all the spins perpendicular to the z-axis:\n",
    "\n",
    "* Our classical simulator would show no force on any of the atoms.\n",
    "* The actual result would be the same as for the random spin case."
   ]
  },
  {
   "cell_type": "markdown",
   "metadata": {
    "slideshow": {
     "slide_type": "slide"
    }
   },
   "source": [
    "# If we align all the spins with the z-axis:\n",
    "\n",
    "* Our classical simulator would show always 1.\n",
    "* The actual result would match that of the classical simulator."
   ]
  },
  {
   "cell_type": "markdown",
   "metadata": {
    "slideshow": {
     "slide_type": "subslide"
    }
   },
   "source": [
    "## It's like tossing a biased coin."
   ]
  },
  {
   "cell_type": "markdown",
   "metadata": {
    "slideshow": {
     "slide_type": "slide"
    }
   },
   "source": [
    "# Classical bit\n",
    "\n",
    "Something we're familiar with."
   ]
  },
  {
   "cell_type": "markdown",
   "metadata": {
    "slideshow": {
     "slide_type": "subslide"
    }
   },
   "source": [
    "### Classical bit\n",
    "\n",
    "A *classical bit* (bit) is classical system with *two states* and *two outcomes*.\n",
    "\n",
    "* States: `0` and `1`\n",
    "* Outcomes: `0` and `1`"
   ]
  },
  {
   "cell_type": "markdown",
   "metadata": {
    "slideshow": {
     "slide_type": "notes"
    }
   },
   "source": [
    "### Classical bit\n",
    "\n",
    "A *classical bit* (bit) is classical system with *two states* and *two outcomes*.\n",
    "\n",
    "* We can label these two states `0` and `1`.\n",
    "* Measuring state `0` produces an outcome which we will also label `0`.\n",
    "* Measuring state `1` produces an outcome which we will also label `1`.\n",
    "* These are the only two states.\n",
    "* Measuring the same state always produces the same outcome.\n",
    "\n",
    "The state is like a Python object. Measurement is an operation that acts on the state and returns an outcome.\n",
    "\n",
    "Bit is a portmanteau of *binary digit*.\n",
    "\n",
    "Examples:\n",
    "\n",
    "* A coin can lie on a surface in two different ways. We measure it by looking at it. We call the outcomes `heads` and `tails`.\n",
    "* A digital signal can have one of two different voltages. We measure it by measuring the voltage. We call the outcomes `high` and `low` (or `1` and `0`).\n",
    "\n",
    "With two bits there are four outcomes. With three bits there are eight outcomes. With `n` bits there are `2^n` outcomes.\n",
    "\n",
    "We need `n` bits to represent `n` bits."
   ]
  },
  {
   "cell_type": "code",
   "execution_count": null,
   "metadata": {
    "slideshow": {
     "slide_type": "subslide"
    }
   },
   "outputs": [],
   "source": [
    "class ClassicalBit:\n",
    "    def __init__(self, outcome):\n",
    "        self.outcome = outcome\n",
    "            \n",
    "b0 = heads = ClassicalBit(outcome=0)\n",
    "b1 = tails = ClassicalBit(outcome=1)\n",
    "\n",
    "def measure_cbit(cbit):\n",
    "    return cbit.outcome\n",
    "\n",
    "print(\"State:\\n\", b0)\n",
    "print(\"Outcome:\", measure_cbit(b0))"
   ]
  },
  {
   "cell_type": "markdown",
   "metadata": {
    "slideshow": {
     "slide_type": "slide"
    }
   },
   "source": [
    "# Quantum bit\n",
    "\n",
    "Putting the puzzle pieces together."
   ]
  },
  {
   "cell_type": "markdown",
   "metadata": {
    "slideshow": {
     "slide_type": "subslide"
    }
   },
   "source": [
    "### Quantum bit\n",
    "\n",
    "A *quantum bit* (qubit) is quantum system with two *basis states* and *two outcomes*.\n",
    "\n",
    "* Basis states: `|0>` and `|1>`\n",
    "* Outcomes: `0` and `1`\n",
    "\n",
    "*Basis* means \"we will construct more states from these later\"."
   ]
  },
  {
   "cell_type": "markdown",
   "metadata": {
    "slideshow": {
     "slide_type": "notes"
    }
   },
   "source": [
    "### Quantum Bit\n",
    "\n",
    "A *quantum bit* (qubit) is quantum system with two two *basis states* and two outcomes.\n",
    "\n",
    "* We can label these two basis states `|0>` and `|1>`.\n",
    "* Measuring state `|0>` produces an outcome which we will label `0`.\n",
    "* Measuring state `|1>` produces an outcome which we will label `1`.\n",
    "* There are other states called *superpositions* which we label `a|0> + b|1>`.\n",
    "  * `a` and `b` are complex numbers.\n",
    "* Measuring a state produces outcome `0` with probability `|a|^2` and outcome `1` with probability `|b|^2`. \n",
    "\n",
    "Qubit is a portmanteau of *quantum bit* (it's portmanatees all the way down).\n",
    "\n",
    "Examples:\n",
    "\n",
    "* A coin can lie on a surface in two different ways. We measure it by looking at it. We call the outcomes `heads` and `tails`.\n",
    "* A digital signal can have one of two different volates. We measure it by measuring the voltage. We call the outcomes `high` and `low` (or `1` and `0`).\n",
    "\n",
    "With two qubits there are four outcomes. With three qubits there are eight outcomes. With `n` qubits there are `2^n` outcomes.\n",
    "\n",
    "We `2^n` (minus 1) complex numbers to represent `n` qubits."
   ]
  },
  {
   "cell_type": "code",
   "execution_count": null,
   "metadata": {
    "slideshow": {
     "slide_type": "subslide"
    }
   },
   "outputs": [],
   "source": [
    "b0 = ket(\"0\")  # |0>\n",
    "b1 = ket(\"1\")  # |1>\n",
    "\n",
    "print(\"State:\\n\", b1)"
   ]
  },
  {
   "cell_type": "code",
   "execution_count": null,
   "metadata": {
    "slideshow": {
     "slide_type": "subslide"
    }
   },
   "outputs": [],
   "source": [
    "def measure_qbit(qbit):\n",
    "    if qbit == ket(\"0\"):\n",
    "        return 0\n",
    "    if qbit == ket(\"1\"):\n",
    "        return 1\n",
    "    raise NotImplementedError(\"No clue yet. :)\")\n",
    "    \n",
    "print(\"Outcome:\", measure_qbit(b1))"
   ]
  },
  {
   "cell_type": "markdown",
   "metadata": {
    "slideshow": {
     "slide_type": "slide"
    }
   },
   "source": [
    "# What about the \"in between\" states?\n",
    "\n",
    "The tricky part. :)"
   ]
  },
  {
   "cell_type": "markdown",
   "metadata": {
    "slideshow": {
     "slide_type": "subslide"
    }
   },
   "source": [
    "# We want probabilistic outcomes\n",
    "\n",
    "Let's try something simple for the other states:\n",
    "\n",
    "* $a \\ket{0} + b \\ket{1}$\n",
    "* Probability of outcome $0$: $a$\n",
    "* Probability of outcome $1$: $b$"
   ]
  },
  {
   "cell_type": "markdown",
   "metadata": {
    "slideshow": {
     "slide_type": "subslide"
    }
   },
   "source": [
    "We need:\n",
    "\n",
    "* $a + b = 1$\n",
    "* $1 >= a >= 0$\n",
    "* $1 >= b >= 0$"
   ]
  },
  {
   "cell_type": "code",
   "execution_count": null,
   "metadata": {
    "slideshow": {
     "slide_type": "subslide"
    }
   },
   "outputs": [],
   "source": [
    "def plot_real_a_b():\n",
    "    fig = plt.figure(figsize=(18.0, 8.0))\n",
    "    fig.suptitle(\"Probabilities: Real $a$ and $b$\", fontsize=\"xx-large\")\n",
    "\n",
    "    ax = plt.subplot(1, 1, 1)\n",
    "\n",
    "    ax.plot([0, 1], [1, 0])\n",
    "    ax.set_xlabel(\"$a$\")\n",
    "    ax.set_xlim(-0.5, 1.5)\n",
    "    ax.set_ylabel(\"$b$\")\n",
    "    ax.set_ylim(-0.5, 1.5)"
   ]
  },
  {
   "cell_type": "code",
   "execution_count": null,
   "metadata": {
    "slideshow": {
     "slide_type": "subslide"
    }
   },
   "outputs": [],
   "source": [
    "plot_real_a_b()"
   ]
  },
  {
   "cell_type": "markdown",
   "metadata": {
    "slideshow": {
     "slide_type": "slide"
    }
   },
   "source": [
    "# Hmm. That didn't work.\n",
    "\n",
    "Let's try something slightly more complicated:\n",
    "\n",
    "* $a \\ket{0} + b \\ket{1}$\n",
    "* $a, b \\in \\mathbb{C}$\n",
    "* Probability of outcome $0$: $\\abs{a}^2$\n",
    "* Probability of outcome $1$: $\\abs{b}^2$"
   ]
  },
  {
   "cell_type": "markdown",
   "metadata": {
    "slideshow": {
     "slide_type": "subslide"
    }
   },
   "source": [
    "<center><img src=\"images/complex-movie-loop-f7.gif\"></center>"
   ]
  },
  {
   "cell_type": "markdown",
   "metadata": {
    "slideshow": {
     "slide_type": "subslide"
    }
   },
   "source": [
    "<center><img src=\"images/complex-movie-loop.gif\"></center>"
   ]
  },
  {
   "cell_type": "markdown",
   "metadata": {
    "slideshow": {
     "slide_type": "subslide"
    }
   },
   "source": [
    "# Complex numbers summary\n",
    "\n",
    "* $a = x + y \\cdot j$\n",
    "    * Length: $\\sqrt{x^2 + y^2}$\n",
    "    * Angle ($\\theta$): $arctan(y / x)$\n",
    "* Python:\n",
    "    * Length: `np.abs(a)`\n",
    "    * Angle ($\\theta$): `np.angle(a)`"
   ]
  },
  {
   "cell_type": "markdown",
   "metadata": {
    "slideshow": {
     "slide_type": "subslide"
    }
   },
   "source": [
    "# Complex numbers in terms of length and angle\n",
    "\n",
    "* $a = m \\cdot cos(t) + m \\cdot sin(t) \\cdot j$\n",
    "* $a = m \\cdot e ^ {t \\cdot j}$\n",
    "    * Length: $m$\n",
    "    * Angle: $t$"
   ]
  },
  {
   "cell_type": "markdown",
   "metadata": {
    "slideshow": {
     "slide_type": "subslide"
    }
   },
   "source": [
    "# Global phase\n",
    "\n",
    "* 4 real parameters, minus one from $\\abs{a}^2 + \\abs{b}^2 = 1$\n",
    "* Still one too many.\n",
    "* Let's remove one!\n",
    "* Declare that only the relative angles of $a$ and $b$ are important."
   ]
  },
  {
   "cell_type": "markdown",
   "metadata": {
    "slideshow": {
     "slide_type": "notes"
    }
   },
   "source": [
    "This means we can rotate the two vectors on the complex plane as long as we don't change the angle between them. Note that this doesn't change the magnitude of a or b (and thus doesn't change the probabilities)."
   ]
  },
  {
   "cell_type": "markdown",
   "metadata": {
    "slideshow": {
     "slide_type": "slide"
    }
   },
   "source": [
    "# The qubit states\n",
    "\n",
    "* General state: `a|0> + b|1>`\n",
    "  * where $a$ and $b$ are complex numbers\n",
    "  * $\\abs{a}^2 + \\abs{b}^2 = 1$\n",
    "  * global phase is irrelevant:\n",
    "    * $a = a \\cdot e^{t \\cdot j}, b = b \\cdot e^{t \\cdot j}$\n",
    "* Outcome:\n",
    "  * `0` with probability $\\abs{a}^2$\n",
    "  * `1` with probability $\\abs{b}^2$"
   ]
  },
  {
   "cell_type": "markdown",
   "metadata": {
    "slideshow": {
     "slide_type": "slide"
    }
   },
   "source": [
    "### Bloch sphere\n",
    "\n",
    "This leaves only two real numbers:\n",
    "\n",
    "* The relative magnitudes of `|a|` and `|b|`.\n",
    "* The relative angle between `a` and `b`.\n",
    "\n",
    "Both of these form circles -- and the together the two circles form a sphere!\n",
    "\n",
    "Named after Felix Block (also the first director of CERN!)"
   ]
  },
  {
   "cell_type": "markdown",
   "metadata": {
    "slideshow": {
     "slide_type": "notes"
    }
   },
   "source": [
    "Wow, this looks a lot like a direction in space! Making progress!"
   ]
  },
  {
   "cell_type": "markdown",
   "metadata": {
    "slideshow": {
     "slide_type": "subslide"
    }
   },
   "source": [
    "# How to sound smart at parties\n",
    "\n",
    "* SU(2) is isomorphic to SO(3)"
   ]
  },
  {
   "cell_type": "markdown",
   "metadata": {
    "slideshow": {
     "slide_type": "fragment"
    }
   },
   "source": [
    "* `SU(2)` - the state space of qubits, aka the bloch sphere.\n",
    "* `SO(3)` - the space of directions in 3D, aka a sphere.\n",
    "* The state space of possible qubits is a sphere."
   ]
  },
  {
   "cell_type": "markdown",
   "metadata": {
    "slideshow": {
     "slide_type": "slide"
    }
   },
   "source": [
    "# QuTiP has nice tools for visualising Bloch spheres"
   ]
  },
  {
   "cell_type": "code",
   "execution_count": null,
   "metadata": {
    "slideshow": {
     "slide_type": "subslide"
    }
   },
   "outputs": [],
   "source": [
    "b = Bloch()\n",
    "b.show()"
   ]
  },
  {
   "cell_type": "code",
   "execution_count": null,
   "metadata": {
    "slideshow": {
     "slide_type": "subslide"
    }
   },
   "outputs": [],
   "source": [
    "b = Bloch()\n",
    "up = ket(\"0\")\n",
    "down = ket(\"1\")\n",
    "b.add_states([up, down])\n",
    "b.show()"
   ]
  },
  {
   "cell_type": "code",
   "execution_count": null,
   "metadata": {
    "slideshow": {
     "slide_type": "subslide"
    }
   },
   "outputs": [],
   "source": [
    "x = (up + down).unit()\n",
    "y = (up + (0 + 1j) * down).unit()\n",
    "z = up\n",
    "b = Bloch()\n",
    "b.add_states([x, y, z])\n",
    "b.show()"
   ]
  },
  {
   "cell_type": "code",
   "execution_count": null,
   "metadata": {
    "slideshow": {
     "slide_type": "subslide"
    }
   },
   "outputs": [],
   "source": [
    "def plot_bloch(fig, ax, title, states, color_template):\n",
    "    \"\"\" Plot some states on the bloch sphere. \"\"\"\n",
    "    b = Bloch(fig=fig, axes=ax)\n",
    "    ax.set_title(title, y=-0.01)\n",
    "    b.vector_width = 1\n",
    "    b.vector_color = [color_template.format(i * 10) for i in range(len(states))]\n",
    "    b.add_states(states)\n",
    "    b.render(fig=fig, axes=ax)"
   ]
  },
  {
   "cell_type": "code",
   "execution_count": null,
   "metadata": {
    "slideshow": {
     "slide_type": "subslide"
    }
   },
   "outputs": [],
   "source": [
    "def plot_multi_blochs(plots):\n",
    "    \"\"\" Plot multiple sets of states on bloch spheres. \"\"\"\n",
    "    fig = plt.figure(figsize=(18.0, 8.0))\n",
    "    fig.suptitle(\"Bloch Sphere\", fontsize=\"xx-large\")\n",
    "    n = len(plots)\n",
    "    axes = [plt.subplot(1, n, i + 1, projection='3d') for i in range(n)]\n",
    "    for i, (title, states, color_template) in enumerate(plots):\n",
    "        plot_bloch(fig, axes[i], title, states, color_template)"
   ]
  },
  {
   "cell_type": "code",
   "execution_count": null,
   "metadata": {
    "slideshow": {
     "slide_type": "subslide"
    }
   },
   "outputs": [],
   "source": [
    "up = ket(\"0\")\n",
    "down = ket(\"1\")\n",
    "\n",
    "# magnitude_circle = [Qobj([[a], [np.sqrt(1 - a**2)]]) for a in np.linspace(0, 1, 20)]\n",
    "magnitude_circle = [\n",
    "    (a * up + np.sqrt(1 - a**2) * down)\n",
    "    for a in np.linspace(0, 1, 20)\n",
    "]\n",
    "# angular_circle = [Qobj([[np.sqrt(0.5)], [np.sqrt(0.5) * np.e ** (1j * theta)]]) for theta in np.linspace(0, np.pi, 20)]\n",
    "angular_circle = [\n",
    "    (np.sqrt(0.5) * up + np.sqrt(0.5) * down * np.e ** (1j * theta))\n",
    "    for theta in np.linspace(0, np.pi, 20)\n",
    "]"
   ]
  },
  {
   "cell_type": "code",
   "execution_count": null,
   "metadata": {
    "slideshow": {
     "slide_type": "subslide"
    }
   },
   "outputs": [],
   "source": [
    "plot_multi_blochs([\n",
    "    [\"Changing relative magnitude\", magnitude_circle, \"#ff{:02x}ff\"],\n",
    "    [\"Changing relative angle\", angular_circle, \"#{:02x}ffff\"],\n",
    "])"
   ]
  },
  {
   "cell_type": "markdown",
   "metadata": {
    "slideshow": {
     "slide_type": "slide"
    }
   },
   "source": [
    "# Measuring a general state"
   ]
  },
  {
   "cell_type": "code",
   "execution_count": null,
   "metadata": {
    "slideshow": {
     "slide_type": "subslide"
    }
   },
   "outputs": [],
   "source": [
    "def measure_qbit(qbit):\n",
    "    a = qbit.full()[0][0]  # a\n",
    "    b = qbit.full()[1][0]  # b\n",
    "    if np.random.random() <= np.abs(a) ** 2:\n",
    "        return 0\n",
    "    else:\n",
    "        return 1"
   ]
  },
  {
   "cell_type": "code",
   "execution_count": null,
   "metadata": {
    "slideshow": {
     "slide_type": "subslide"
    }
   },
   "outputs": [],
   "source": [
    "# |a|**2 + |b|**2 == 1\n",
    "\n",
    "a = (1 + 0j) / np.sqrt(2)\n",
    "b = (0 + 1j) / np.sqrt(2)\n",
    "qbit = a * ket(\"0\") + b * ket(\"1\")\n",
    "    \n",
    "print(\"State:\\n\", qbit)\n",
    "print(\"Outcome:\", measure_qbit(qbit))"
   ]
  },
  {
   "cell_type": "code",
   "execution_count": null,
   "metadata": {
    "slideshow": {
     "slide_type": "subslide"
    }
   },
   "outputs": [],
   "source": [
    "qbit = (1 * ket(\"0\")) + (1j * ket(\"1\"))\n",
    "qbit = qbit.unit()\n",
    "\n",
    "print(\"State:\\n\", qbit)\n",
    "print(\"Outcome:\", measure_qbit(qbit))"
   ]
  },
  {
   "cell_type": "markdown",
   "metadata": {
    "slideshow": {
     "slide_type": "subslide"
    }
   },
   "source": [
    "### Other measures\n",
    "\n",
    "* Was there really anything special about $\\ket{0}$ and $\\ket{1}$?\n",
    "* No! :D\n",
    "  * Except they pointed in opposite directions.\n",
    "* Can we make other measurements?\n",
    "  * Yes!"
   ]
  },
  {
   "cell_type": "code",
   "execution_count": null,
   "metadata": {
    "slideshow": {
     "slide_type": "subslide"
    }
   },
   "outputs": [],
   "source": [
    "def component(qbit, direction):\n",
    "    component_op = direction.dag()\n",
    "    a = component_op * qbit\n",
    "    return a[0][0]\n",
    "\n",
    "def measure_qbit(qbit, direction):\n",
    "    a = component(qbit, direction)\n",
    "    if np.random.random() <= np.abs(a) ** 2:\n",
    "        return 0\n",
    "    else:\n",
    "        return 1"
   ]
  },
  {
   "cell_type": "code",
   "execution_count": null,
   "metadata": {
    "slideshow": {
     "slide_type": "subslide"
    }
   },
   "outputs": [],
   "source": [
    "up, down = ket(\"0\"), ket(\"1\")\n",
    "x, y, z = (up + down).unit(), (up + (0 + 1j) * down).unit(), up\n",
    "\n",
    "print(\"State:\\n\", x)\n",
    "print(\"Outcomes:\", [measure_qbit(x, direction=up) for _ in range(10)])"
   ]
  },
  {
   "cell_type": "markdown",
   "metadata": {
    "slideshow": {
     "slide_type": "slide"
    }
   },
   "source": [
    "# Let's simulate the Stern-Gerlach with QuTiP!\n",
    "\n",
    "Simulating a simple ~~classical~~ quantum system."
   ]
  },
  {
   "cell_type": "code",
   "execution_count": null,
   "metadata": {
    "slideshow": {
     "slide_type": "subslide"
    }
   },
   "outputs": [],
   "source": [
    "def quantum_state(d):\n",
    "    \"\"\" Prepare a spin state given a direction. \"\"\"\n",
    "    return np.cos(d.theta / 2) * up + np.exp(1j * d.phi) * np.sin(d.theta / 2) * down"
   ]
  },
  {
   "cell_type": "code",
   "execution_count": null,
   "metadata": {
    "slideshow": {
     "slide_type": "subslide"
    }
   },
   "outputs": [],
   "source": [
    "up = ket('0')\n",
    "\n",
    "def quantum_spin(q):\n",
    "    \"\"\" Measurement the z-component of the spin. \"\"\"\n",
    "    a_up = (up.dag() * q).tr()\n",
    "    prob_up = np.abs(a_up) ** 2\n",
    "    return 1 if np.random.uniform(0, 1) <= prob_up else -1"
   ]
  },
  {
   "cell_type": "code",
   "execution_count": null,
   "metadata": {
    "slideshow": {
     "slide_type": "subslide"
    }
   },
   "outputs": [],
   "source": [
    "def quantum_stern_gerlach(n):\n",
    "    \"\"\" Simulate the Stern-Gerlach experiment \"\"\"\n",
    "    directions = [random_direction() for _ in range(n)]\n",
    "    atoms = [quantum_state(d) for d in directions]\n",
    "    spins = [quantum_spin(q) for q in atoms]\n",
    "    return atoms, spins"
   ]
  },
  {
   "cell_type": "code",
   "execution_count": null,
   "metadata": {
    "slideshow": {
     "slide_type": "subslide"
    }
   },
   "outputs": [],
   "source": [
    "def plot_quantum_results(atoms, spins):\n",
    "    fig = plt.figure(figsize=(18.0, 8.0))\n",
    "    fig.suptitle(\"Stern-Gerlach Experiment: Quantum Outcome\", fontsize=\"xx-large\")\n",
    "\n",
    "    ax1 = plt.subplot(1, 2, 1, projection='3d')\n",
    "    ax2 = plt.subplot(1, 2, 2)\n",
    "\n",
    "    b = Bloch(fig=fig, axes=ax1)\n",
    "    b.vector_width = 1\n",
    "    b.vector_color = [\"#{:x}0{:x}0ff\".format(i, i) for i in range(10)]\n",
    "    b.add_states(atoms)\n",
    "    b.render(fig=fig, axes=ax1)\n",
    "\n",
    "    ax2.hist(spins)\n",
    "    ax2.set_xlabel(\"Z-component of spin\")\n",
    "    ax2.set_ylabel(\"# of atoms\")"
   ]
  },
  {
   "cell_type": "code",
   "execution_count": null,
   "metadata": {
    "slideshow": {
     "slide_type": "subslide"
    }
   },
   "outputs": [],
   "source": [
    "atoms, spins = quantum_stern_gerlach(1000)\n",
    "plot_quantum_results(atoms, spins)"
   ]
  },
  {
   "cell_type": "markdown",
   "metadata": {
    "slideshow": {
     "slide_type": "slide"
    }
   },
   "source": [
    "# Further reading\n",
    "\n",
    "1. QuTiP documentation [ https://qutip.org/ ]\n",
    "\n",
    "2. Quantum Computing for the Determined by Michael Nielsen\n",
    "   [ https://michaelnielsen.org/blog/quantum-computing-for-the-determined/ ]\n",
    "\n",
    "3. Quantum Computing StackExchange\n",
    "   [ https://quantumcomputing.stackexchange.com/ ]\n",
    "\n",
    "4. History of the Stern-Gerlach experiment\n",
    "   [ https://plato.stanford.edu/entries/physics-experiment/app5.html ]\n",
    "\n",
    "5. Picking a random point on a sphere\n",
    "   [ http://mathworld.wolfram.com/SpherePointPicking.html ]"
   ]
  },
  {
   "cell_type": "markdown",
   "metadata": {
    "slideshow": {
     "slide_type": "slide"
    }
   },
   "source": [
    "# The End"
   ]
  }
 ],
 "metadata": {
  "celltoolbar": "Slideshow",
  "kernelspec": {
   "display_name": "Python 3",
   "language": "python",
   "name": "python3"
  },
  "language_info": {
   "codemirror_mode": {
    "name": "ipython",
    "version": 3
   },
   "file_extension": ".py",
   "mimetype": "text/x-python",
   "name": "python",
   "nbconvert_exporter": "python",
   "pygments_lexer": "ipython3",
   "version": "3.6.8"
  }
 },
 "nbformat": 4,
 "nbformat_minor": 2
}
