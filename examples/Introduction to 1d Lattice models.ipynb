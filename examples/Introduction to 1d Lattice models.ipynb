{
 "cells": [
  {
   "cell_type": "markdown",
   "metadata": {},
   "source": [
    "# Introduction to the 1d Lattice models in QuTiP"
   ]
  },
  {
   "cell_type": "markdown",
   "metadata": {},
   "source": [
    "Saumya Biswas (saumyab@uoregon.edu)\n",
    "\n",
    "For more information about QuTiP see [http://qutip.org](http://qutip.org)"
   ]
  },
  {
   "cell_type": "markdown",
   "metadata": {},
   "source": [
    "### Module\n",
    "\n",
    "We introduce the basic functionality of QuTiPs Lattice1d class of the lattice module.\n",
    "\n",
    "![title](images/latt_1.png)\n",
    "\n",
    "### Introduction to Second Quantized notation\n",
    "\n",
    "We are interested in the static and dynamic properties of 1d lattices. A 1d lattice can be conveniently represented by a second quantized Hamiltonian. \n",
    "\n",
    "\\begin{eqnarray}\n",
    "H = \\sum_i \\psi_i^{\\dagger} D \\psi_i + \\sum_{i} \\left( \\psi_i^{\\dagger} T \\psi_{i+1} +  \\psi_{i+1}^{\\dagger} T^{\\dagger} \\psi_i  \\right) \\label{eq:TB_block} \n",
    "\\end{eqnarray}\n",
    "\n",
    "An 1d lattice is constituted by a repition of a unit cell a finite number of times along a direction x.\n",
    "\n",
    "where $\\psi_i$ is the annihilation operator for a unit cell at coordinate i,$D$ is the cell Hamltonian of the unit cell, $T$ is the inter cell hopping. Any 1d lattice can be put in the form of the equation above by resolving it into unit cells with nearest neighbor coupling only.\n"
   ]
  },
  {
   "cell_type": "markdown",
   "metadata": {},
   "source": [
    "The Lattice1d class operates based on this unit cell and nearest neighbor interaction format. A unit cell can be comprised one or more sites with one or more orbitals, spins, excitations or any other degrees of freedom. A 1d lattice with next nearest neighbor coupling can be equivalently represented as a 1d lattice with a unit cell of two sites keeping the hopping interaction to nearest neighbors only."
   ]
  },
  {
   "cell_type": "markdown",
   "metadata": {},
   "source": [
    "### Declaration"
   ]
  },
  {
   "cell_type": "code",
   "execution_count": 1,
   "metadata": {},
   "outputs": [],
   "source": [
    "from qutip import *\n",
    "from matplotlib.pyplot import *\n",
    "import numpy as np"
   ]
  },
  {
   "cell_type": "markdown",
   "metadata": {},
   "source": [
    "#### Declaring a tight binding chain with a single site unit cell\n",
    "As a default the instance of Lattice1d class is initialized a atomic chain with a unit\n",
    "cell with one atom only. The user need only define the number of cells and the boundary\n",
    "condition.\n",
    "\n",
    "The defined Lattice1d instance can always be visualized with display_lattice()\n",
    "and display_unit_cell() functions."
   ]
  },
  {
   "cell_type": "code",
   "execution_count": 2,
   "metadata": {},
   "outputs": [
    {
     "data": {
      "image/png": "[encoded data removed]",
      "text/plain": [
       "<Figure size 288x360 with 1 Axes>"
      ]
     },
     "metadata": {
      "needs_background": "light"
     },
     "output_type": "display_data"
    },
    {
     "data": {
      "image/png": "[encoded data removed]",
      "text/plain": [
       "<Figure size 648x648 with 1 Axes>"
      ]
     },
     "metadata": {
      "needs_background": "light"
     },
     "output_type": "display_data"
    }
   ],
   "source": [
    "boundary_condition = \"periodic\"\n",
    "cells = 3\n",
    "Periodic_Atom_Chain = Lattice1d(num_cell=cells, boundary = boundary_condition)\n",
    "Periodic_Atom_Chain.display_unit_cell(print_info = True)\n",
    "Periodic_Atom_Chain.display_lattice(print_info = True)"
   ]
  },
  {
   "cell_type": "markdown",
   "metadata": {},
   "source": [
    "Alternatively, the user can call Periodic_Atom_Chain to print all its information."
   ]
  },
  {
   "cell_type": "code",
   "execution_count": 3,
   "metadata": {},
   "outputs": [
    {
     "data": {
      "text/plain": [
       "Lattice1d object: Number of cells = 3,\n",
       "Number of sites in the cell = 1,\n",
       "Degrees of freedom per site = [1],\n",
       "Lattice tensor configuration = [3, 1, 1],\n",
       "basis_Hamiltonian = Quantum object: dims = [[1, 1], [1, 1]], shape = (1, 1), type = bra\n",
       "Qobj data =\n",
       "[[0.]],\n",
       "inter_hop = [Quantum object: dims = [[1, 1], [1, 1]], shape = (1, 1), type = bra\n",
       "Qobj data =\n",
       "[[-1.]]],\n",
       "inter_hop = [1, 1], isherm = [1, 1]\n",
       "Boundary Condition:  Periodic"
      ]
     },
     "execution_count": 3,
     "metadata": {},
     "output_type": "execute_result"
    }
   ],
   "source": [
    "Periodic_Atom_Chain"
   ]
  },
  {
   "cell_type": "markdown",
   "metadata": {},
   "source": [
    "To define a lattice with more than one site per unit cell and one or more degrees of freedom per site, the cell_num_site and cell_site_dof arguments must be used. In a case like this, specifying the intra and inter cell interactions would also be necessary (through the arguments cell_Hamiltonian and inter_hop) in most cases. However, Lattice1d() will initiate the instance with default cell_Hamiltonian and inter_hop\n",
    "if the user does not input it."
   ]
  },
  {
   "cell_type": "code",
   "execution_count": 4,
   "metadata": {},
   "outputs": [
    {
     "data": {
      "image/png": "[encoded data removed]",
      "text/plain": [
       "<Figure size 576x720 with 1 Axes>"
      ]
     },
     "metadata": {
      "needs_background": "light"
     },
     "output_type": "display_data"
    },
    {
     "data": {
      "image/png": "[encoded data removed]",
      "text/plain": [
       "<Figure size 648x648 with 1 Axes>"
      ]
     },
     "metadata": {
      "needs_background": "light"
     },
     "output_type": "display_data"
    }
   ],
   "source": [
    "boundary_condition = \"periodic\"\n",
    "cells = 3\n",
    "cell_num_site = 2\n",
    "cell_site_dof = [2,3]    # It could be 2 orbitals and 3 spins per sites or\n",
    "                         # any other combination of such degrees of freedom\n",
    "lattice_3223 = Lattice1d(num_cell=cells, boundary = boundary_condition, \\\n",
    "                           cell_num_site = cell_num_site, cell_site_dof = cell_site_dof)\n",
    "lattice_3223.display_unit_cell(print_info = False)\n",
    "lattice_3223.display_lattice(print_info = False)"
   ]
  },
  {
   "cell_type": "markdown",
   "metadata": {},
   "source": [
    "There is an aide function that help the user form the cell_Hamiltonian and inter_hop\n",
    "arguments namely cell_structures()."
   ]
  },
  {
   "cell_type": "code",
   "execution_count": 5,
   "metadata": {},
   "outputs": [],
   "source": [
    "val_s = ['site0','site1']\n",
    "val_t = [' orb0',' orb1']\n",
    "val_u = [' ex0',' ex1',' ex2']\n",
    "(cell_H_form,inter_cell_T_form,cell_H,inter_cell_T) = \\\n",
    "                        cell_structures( val_s, val_t, val_u)"
   ]
  },
  {
   "cell_type": "markdown",
   "metadata": {},
   "source": [
    "The cell_structure() function returns two list of lists cell_H_form and inter_cell_T_form\n",
    "that prints str s that can guide the user enter the nonzero elements at cell_H \n",
    "and inter_cell_T which are np.zeros with the appropriate size. The procedure would\n",
    "be to check a certain element in cell_H_form and insert the value for cell_H and so on."
   ]
  },
  {
   "cell_type": "code",
   "execution_count": 6,
   "metadata": {},
   "outputs": [
    {
     "data": {
      "text/plain": [
       "'<site0 orb1 ex1 H site1 orb0 ex2>'"
      ]
     },
     "execution_count": 6,
     "metadata": {},
     "output_type": "execute_result"
    }
   ],
   "source": [
    "cell_H_form[4][8]"
   ]
  },
  {
   "cell_type": "code",
   "execution_count": 7,
   "metadata": {},
   "outputs": [],
   "source": [
    "cell_H[4][8] = -1-0.5j   # Calculated value from hand calculation\n",
    "cell_H[8][4] = -1+0.5j"
   ]
  },
  {
   "cell_type": "markdown",
   "metadata": {},
   "source": [
    "The user would have to enter all the nonzero elements in cell_H and inter_cell_T\n",
    "and then convert them into Qobjs and use them in declaring the instance of Lattice_1d."
   ]
  },
  {
   "cell_type": "code",
   "execution_count": 8,
   "metadata": {},
   "outputs": [],
   "source": [
    "cell_H = Qobj(cell_H)\n",
    "inter_cell_T = Qobj(inter_cell_T)\n",
    "lattice_4223 = Lattice1d(num_cell=4, boundary = \"periodic\", cell_num_site = 2, cell_site_dof = [2,3], cell_Hamiltonian = cell_H, inter_hop = inter_cell_T )"
   ]
  },
  {
   "cell_type": "markdown",
   "metadata": {},
   "source": [
    "### Position Operator\n",
    "\n",
    "Calling the position operator, x() returns an operator in matrix form that gives the\n",
    "cell number for all the dofs present on the diagonal elements. The length of the unit\n",
    "cell is always considered 1."
   ]
  },
  {
   "cell_type": "code",
   "execution_count": 9,
   "metadata": {},
   "outputs": [
    {
     "data": {
      "text/latex": [
       "Quantum object: dims = [[8], [8]], shape = (8, 8), type = oper, isherm = True\\begin{equation*}\\left(\\begin{array}{*{11}c}0.0 & 0.0 & 0.0 & 0.0 & 0.0 & 0.0 & 0.0 & 0.0\\\\0.0 & 0.0 & 0.0 & 0.0 & 0.0 & 0.0 & 0.0 & 0.0\\\\0.0 & 0.0 & 1.0 & 0.0 & 0.0 & 0.0 & 0.0 & 0.0\\\\0.0 & 0.0 & 0.0 & 1.0 & 0.0 & 0.0 & 0.0 & 0.0\\\\0.0 & 0.0 & 0.0 & 0.0 & 2.0 & 0.0 & 0.0 & 0.0\\\\0.0 & 0.0 & 0.0 & 0.0 & 0.0 & 2.0 & 0.0 & 0.0\\\\0.0 & 0.0 & 0.0 & 0.0 & 0.0 & 0.0 & 3.0 & 0.0\\\\0.0 & 0.0 & 0.0 & 0.0 & 0.0 & 0.0 & 0.0 & 3.0\\\\\\end{array}\\right)\\end{equation*}"
      ],
      "text/plain": [
       "Quantum object: dims = [[8], [8]], shape = (8, 8), type = oper, isherm = True\n",
       "Qobj data =\n",
       "[[0. 0. 0. 0. 0. 0. 0. 0.]\n",
       " [0. 0. 0. 0. 0. 0. 0. 0.]\n",
       " [0. 0. 1. 0. 0. 0. 0. 0.]\n",
       " [0. 0. 0. 1. 0. 0. 0. 0.]\n",
       " [0. 0. 0. 0. 2. 0. 0. 0.]\n",
       " [0. 0. 0. 0. 0. 2. 0. 0.]\n",
       " [0. 0. 0. 0. 0. 0. 3. 0.]\n",
       " [0. 0. 0. 0. 0. 0. 0. 3.]]"
      ]
     },
     "execution_count": 9,
     "metadata": {},
     "output_type": "execute_result"
    }
   ],
   "source": [
    "lattice_412 = Lattice1d(num_cell=4, boundary = \"periodic\", cell_num_site = 1, cell_site_dof = [2])\n",
    "lattice_412.x()"
   ]
  },
  {
   "cell_type": "markdown",
   "metadata": {},
   "source": [
    "### Distribute A Operator\n",
    "The operator_at_cells() function distributes a user input operator on cells specified \n",
    "in a list and identity operator on the rest.\n",
    "The operator distribute_operator() distributes it over all the cells indiscriinately."
   ]
  },
  {
   "cell_type": "code",
   "execution_count": 10,
   "metadata": {},
   "outputs": [
    {
     "name": "stdout",
     "output_type": "stream",
     "text": [
      "Quantum object: dims = [[8], [8]], shape = (8, 8), type = oper, isherm = True\n",
      "Qobj data =\n",
      "[[1. 0. 0. 0. 0. 0. 0. 0.]\n",
      " [0. 1. 0. 0. 0. 0. 0. 0.]\n",
      " [0. 0. 0. 1. 0. 0. 0. 0.]\n",
      " [0. 0. 1. 0. 0. 0. 0. 0.]\n",
      " [0. 0. 0. 0. 0. 1. 0. 0.]\n",
      " [0. 0. 0. 0. 1. 0. 0. 0.]\n",
      " [0. 0. 0. 0. 0. 0. 1. 0.]\n",
      " [0. 0. 0. 0. 0. 0. 0. 1.]]\n",
      "Quantum object: dims = [[8], [8]], shape = (8, 8), type = oper, isherm = True\n",
      "Qobj data =\n",
      "[[0. 1. 0. 0. 0. 0. 0. 0.]\n",
      " [1. 0. 0. 0. 0. 0. 0. 0.]\n",
      " [0. 0. 0. 1. 0. 0. 0. 0.]\n",
      " [0. 0. 1. 0. 0. 0. 0. 0.]\n",
      " [0. 0. 0. 0. 0. 1. 0. 0.]\n",
      " [0. 0. 0. 0. 1. 0. 0. 0.]\n",
      " [0. 0. 0. 0. 0. 0. 0. 1.]\n",
      " [0. 0. 0. 0. 0. 0. 1. 0.]]\n"
     ]
    }
   ],
   "source": [
    "lattice_412 = Lattice1d(num_cell=4, boundary = \"periodic\", cell_num_site = 1, cell_site_dof = [2])\n",
    "op = Qobj(np.array([[0,1],[1,0]]) )\n",
    "op_sp = lattice_412.operator_at_cells(op, cells = [1,2])\n",
    "op_all = lattice_412.distribute_operator(op)\n",
    "print(op_sp)\n",
    "print(op_all)"
   ]
  },
  {
   "cell_type": "markdown",
   "metadata": {},
   "source": [
    "### basis fucntion: ket vector initialized at specific cell,site,dof:\n",
    "\n",
    "The basis() function enables the user to initialize a ket vector at a specific cell,\n",
    "site and dof."
   ]
  },
  {
   "cell_type": "code",
   "execution_count": 11,
   "metadata": {},
   "outputs": [
    {
     "name": "stdout",
     "output_type": "stream",
     "text": [
      "Quantum object: dims = [[1, 1, 1, 1], [3, 2, 2, 4]], shape = (1, 48), type = bra\n",
      "Qobj data =\n",
      "[[0. 0. 0. 0. 0. 0. 0. 0. 0. 0. 0. 0. 0. 0. 0. 0. 0. 0. 0. 0. 0. 0. 1. 0.\n",
      "  0. 0. 0. 0. 0. 0. 0. 0. 0. 0. 0. 0. 0. 0. 0. 0. 0. 0. 0. 0. 0. 0. 0. 0.]]\n"
     ]
    }
   ],
   "source": [
    "lattice_3224 = Lattice1d(num_cell=3, boundary = \"periodic\", \\\n",
    "                           cell_num_site = 2, cell_site_dof = [2,4])\n",
    "psi0 = lattice_3224.basis(1,0,[1,2])\n",
    "print( psi0.dag() )  # Because plotting the dag() takes up less space"
   ]
  },
  {
   "cell_type": "markdown",
   "metadata": {},
   "source": [
    "### Hamiltonian:\n",
    "The Hamiltoian() function returns the Hamiltonian for the lattice.\n"
   ]
  },
  {
   "cell_type": "code",
   "execution_count": 12,
   "metadata": {},
   "outputs": [
    {
     "name": "stdout",
     "output_type": "stream",
     "text": [
      "Quantum object: dims = [[8, 1, 1], [8, 1, 1]], shape = (8, 8), type = oper, isherm = True\n",
      "Qobj data =\n",
      "[[ 0. -1.  0.  0.  0.  0.  0. -1.]\n",
      " [-1.  0. -1.  0.  0.  0.  0.  0.]\n",
      " [ 0. -1.  0. -1.  0.  0.  0.  0.]\n",
      " [ 0.  0. -1.  0. -1.  0.  0.  0.]\n",
      " [ 0.  0.  0. -1.  0. -1.  0.  0.]\n",
      " [ 0.  0.  0.  0. -1.  0. -1.  0.]\n",
      " [ 0.  0.  0.  0.  0. -1.  0. -1.]\n",
      " [-1.  0.  0.  0.  0.  0. -1.  0.]]\n"
     ]
    }
   ],
   "source": [
    "boundary_condition = \"periodic\"\n",
    "cells = 8\n",
    "Periodic_Atom_Chain = Lattice1d(num_cell=cells, boundary = boundary_condition)\n",
    "Hamt = Periodic_Atom_Chain.Hamiltonian()\n",
    "print(Hamt)"
   ]
  },
  {
   "cell_type": "markdown",
   "metadata": {},
   "source": [
    "### Dispersion Relation:\n",
    "plot_dispersion() plots the valid (same as the number of unit cells) points in k-space\n",
    "over the dispersion relation of an infinite crystal.\n",
    "\n",
    "get_dispersion() returns the tuple of two np.ndarrays (knxA,val_kns). knxA has the valid k-values in it and val_kns has the band energies at those k-values. The length of \n",
    "the unit cell is always set to 1."
   ]
  },
  {
   "cell_type": "code",
   "execution_count": 13,
   "metadata": {},
   "outputs": [
    {
     "data": {
      "image/png": "[encoded data removed]",
      "text/plain": [
       "<Figure size 432x288 with 1 Axes>"
      ]
     },
     "metadata": {
      "needs_background": "light"
     },
     "output_type": "display_data"
    },
    {
     "name": "stdout",
     "output_type": "stream",
     "text": [
      "[[-3.14159265 -2.35619449 -1.57079633 -0.78539816  0.          0.78539816\n",
      "   1.57079633  2.35619449]]\n",
      "[[ 2.          1.41421356  0.         -1.41421356 -2.         -1.41421356\n",
      "   0.          1.41421356]]\n"
     ]
    }
   ],
   "source": [
    "Periodic_Atom_Chain.plot_dispersion()\n",
    "[knxA,val_kns] = Periodic_Atom_Chain.get_dispersion()\n",
    "print(knxA)\n",
    "print(val_kns)"
   ]
  },
  {
   "cell_type": "markdown",
   "metadata": {},
   "source": [
    "### References\n",
    "[1] J. R. Johansson, P. D. Nation, and F. Nori, Comp. Phys. Comm. 183, 1760 (2012). http://qutip.org\n",
    "\n"
   ]
  },
  {
   "cell_type": "code",
   "execution_count": 14,
   "metadata": {},
   "outputs": [
    {
     "name": "stdout",
     "output_type": "stream",
     "text": [
      "\n",
      "QuTiP: Quantum Toolbox in Python\n",
      "Copyright (c) 2011 and later.\n",
      "A. J. Pitchford, P. D. Nation, R. J. Johansson, A. Grimsmo, and C. Granade\n",
      "\n",
      "QuTiP Version:      4.4.0.dev0+ce05217\n",
      "Numpy Version:      1.15.2\n",
      "Scipy Version:      1.1.0\n",
      "Cython Version:     0.28.5\n",
      "Matplotlib Version: 3.0.0\n",
      "Python Version:     3.5.4\n",
      "Number of CPUs:     2\n",
      "BLAS Info:          INTEL MKL\n",
      "OPENMP Installed:   True\n",
      "INTEL MKL Ext:      True\n",
      "Platform Info:      Linux (x86_64)\n",
      "Installation path:  /home/ssaumya7/Desktop/GSOC/Jun14/qutipOasis/qutip\n",
      "==============================================================================\n",
      "Please cite QuTiP in your publication.\n",
      "==============================================================================\n",
      "For your convenience a bibtex reference can be easily generated using `qutip.cite()`\n"
     ]
    }
   ],
   "source": [
    "qutip.about()"
   ]
  },
  {
   "cell_type": "code",
   "execution_count": 15,
   "metadata": {},
   "outputs": [
    {
     "name": "stdout",
     "output_type": "stream",
     "text": [
      "@article{qutip2,\n",
      "doi = {10.1016/j.cpc.2012.11.019},\n",
      "url = {https://doi.org/10.1016/j.cpc.2012.11.019},\n",
      "year  = {2013},\n",
      "month = {apr},\n",
      "publisher = {Elsevier {BV}},\n",
      "volume = {184},\n",
      "number = {4},\n",
      "pages = {1234--1240},\n",
      "author = {J.R. Johansson and P.D. Nation and F. Nori},\n",
      "title = {{QuTiP} 2: A {P}ython framework for the dynamics of open quantum systems},\n",
      "journal = {Computer Physics Communications}\n",
      "}\n",
      "@article{qutip1,\n",
      "doi = {10.1016/j.cpc.2012.02.021},\n",
      "url = {https://doi.org/10.1016/j.cpc.2012.02.021},\n",
      "year  = {2012},\n",
      "month = {aug},\n",
      "publisher = {Elsevier {BV}},\n",
      "volume = {183},\n",
      "number = {8},\n",
      "pages = {1760--1772},\n",
      "author = {J.R. Johansson and P.D. Nation and F. Nori},\n",
      "title = {{QuTiP}: An open-source {P}ython framework for the dynamics of open quantum systems},\n",
      "journal = {Computer Physics Communications}\n",
      "}\n"
     ]
    }
   ],
   "source": [
    "qutip.cite()"
   ]
  }
 ],
 "metadata": {
  "kernelspec": {
   "display_name": "Python 3",
   "language": "python",
   "name": "python3"
  },
  "language_info": {
   "codemirror_mode": {
    "name": "ipython",
    "version": 3
   },
   "file_extension": ".py",
   "mimetype": "text/x-python",
   "name": "python",
   "nbconvert_exporter": "python",
   "pygments_lexer": "ipython3",
   "version": "3.5.4"
  }
 },
 "nbformat": 4,
 "nbformat_minor": 2
}
