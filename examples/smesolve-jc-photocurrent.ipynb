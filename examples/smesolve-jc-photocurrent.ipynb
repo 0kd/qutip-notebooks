{
 "cells": [
  {
   "cell_type": "markdown",
   "metadata": {},
   "source": [
    "# Stochastic photo-current detection in a JC model"
   ]
  },
  {
   "cell_type": "markdown",
   "metadata": {},
   "source": [
    "## Mixing stochastic and deterministic master equations"
   ]
  },
  {
   "cell_type": "markdown",
   "metadata": {},
   "source": [
    "Copyright (C) 2011 and later, Paul D. Nation & Robert J. Johansson"
   ]
  },
  {
   "cell_type": "code",
   "execution_count": 1,
   "metadata": {},
   "outputs": [],
   "source": [
    "%matplotlib inline\n",
    "import matplotlib.pyplot as plt"
   ]
  },
  {
   "cell_type": "code",
   "execution_count": 2,
   "metadata": {},
   "outputs": [],
   "source": [
    "import numpy as np\n",
    "import qutip.settings \n",
    "from qutip import *"
   ]
  },
  {
   "cell_type": "code",
   "execution_count": 3,
   "metadata": {},
   "outputs": [],
   "source": [
    "from qutip.ipynbtools import HTMLProgressBar"
   ]
  },
  {
   "cell_type": "code",
   "execution_count": 4,
   "metadata": {},
   "outputs": [],
   "source": [
    "from matplotlib import rcParams\n",
    "rcParams['font.family'] = 'STIXGeneral'\n",
    "rcParams['mathtext.fontset'] = 'stix'\n",
    "rcParams['font.size'] = '14'"
   ]
  },
  {
   "cell_type": "code",
   "execution_count": 5,
   "metadata": {},
   "outputs": [],
   "source": [
    "N = 15\n",
    "w0 = 1.0 * 2 * np.pi\n",
    "g = 0.2 * 2 * np.pi\n",
    "times = np.linspace(0, 15, 150)\n",
    "dt = times[1] - times[0]\n",
    "gamma = 0.01\n",
    "kappa = 0.1\n",
    "ntraj = 150"
   ]
  },
  {
   "cell_type": "code",
   "execution_count": 6,
   "metadata": {},
   "outputs": [],
   "source": [
    "a = tensor(destroy(N), identity(2))\n",
    "sm = tensor(identity(N), destroy(2))"
   ]
  },
  {
   "cell_type": "code",
   "execution_count": 7,
   "metadata": {},
   "outputs": [],
   "source": [
    "H = w0 * a.dag() * a + w0 * sm.dag() * sm + g * (sm * a.dag() + sm.dag() * a)"
   ]
  },
  {
   "cell_type": "code",
   "execution_count": 8,
   "metadata": {},
   "outputs": [],
   "source": [
    "rho0 = tensor(fock(N, 5), fock(2, 0))"
   ]
  },
  {
   "cell_type": "code",
   "execution_count": 9,
   "metadata": {},
   "outputs": [],
   "source": [
    "e_ops = [a.dag() * a, a + a.dag(), sm.dag() * sm]"
   ]
  },
  {
   "cell_type": "markdown",
   "metadata": {},
   "source": [
    "### Highly efficient detection"
   ]
  },
  {
   "cell_type": "code",
   "execution_count": 10,
   "metadata": {},
   "outputs": [],
   "source": [
    "c_ops = [np.sqrt(gamma) * sm]  # collapse operator for qubit\n",
    "sc_ops = [np.sqrt(kappa) * a]  # stochastic collapse for resonator"
   ]
  },
  {
   "cell_type": "code",
   "execution_count": 11,
   "metadata": {},
   "outputs": [],
   "source": [
    "result_ref = mesolve(H, rho0, times, c_ops+sc_ops, e_ops)"
   ]
  },
  {
   "cell_type": "code",
   "execution_count": 12,
   "metadata": {},
   "outputs": [
    {
     "name": "stdout",
     "output_type": "stream",
     "text": [
      "Total run time:   1.92s\n"
     ]
    }
   ],
   "source": [
    "result1 = photocurrentmesolve(H, rho0, times, c_ops=c_ops, sc_ops=sc_ops, e_ops=e_ops, \n",
    "                   ntraj=1, nsubsteps=100, \n",
    "                   store_measurement=True,\n",
    "                   options=Options(store_states=True))"
   ]
  },
  {
   "cell_type": "markdown",
   "metadata": {},
   "source": [
    "Run the `smesolve` solver in parallel by passing the keyword argument `map_func=parallel_map`:"
   ]
  },
  {
   "cell_type": "code",
   "execution_count": 13,
   "metadata": {},
   "outputs": [
    {
     "data": {
      "text/html": [
       "<div style=\"border: 2px solid grey; width: 600px\">\n",
       "  <div id=\"9347df1b-7919-45cc-be98-c02ce08be7e9\" style=\"background-color: rgba(121,195,106,0.75); width:0%\">&nbsp;</div>\n",
       "</div>\n",
       "<p id=\"550215e7-85e6-43f0-a200-bc2bf447d94e\"></p>\n"
      ],
      "text/plain": [
       "<IPython.core.display.HTML object>"
      ]
     },
     "metadata": {},
     "output_type": "display_data"
    },
    {
     "data": {
      "application/javascript": [
       "$('div#9347df1b-7919-45cc-be98-c02ce08be7e9').width('1%');$('p#550215e7-85e6-43f0-a200-bc2bf447d94e').text('Elapsed time:   4.07s. Est. remaining time: 00:00:05:01.');"
      ],
      "text/plain": [
       "<IPython.core.display.Javascript object>"
      ]
     },
     "metadata": {},
     "output_type": "display_data"
    },
    {
     "data": {
      "application/javascript": [
       "$('div#9347df1b-7919-45cc-be98-c02ce08be7e9').width('2%');$('p#550215e7-85e6-43f0-a200-bc2bf447d94e').text('Elapsed time:   7.53s. Est. remaining time: 00:00:06:08.');"
      ],
      "text/plain": [
       "<IPython.core.display.Javascript object>"
      ]
     },
     "metadata": {},
     "output_type": "display_data"
    },
    {
     "data": {
      "application/javascript": [
       "$('div#9347df1b-7919-45cc-be98-c02ce08be7e9').width('3%');$('p#550215e7-85e6-43f0-a200-bc2bf447d94e').text('Elapsed time:  11.51s. Est. remaining time: 00:00:05:33.');"
      ],
      "text/plain": [
       "<IPython.core.display.Javascript object>"
      ]
     },
     "metadata": {},
     "output_type": "display_data"
    },
    {
     "data": {
      "application/javascript": [
       "$('div#9347df1b-7919-45cc-be98-c02ce08be7e9').width('4%');$('p#550215e7-85e6-43f0-a200-bc2bf447d94e').text('Elapsed time:  11.77s. Est. remaining time: 00:00:04:42.');"
      ],
      "text/plain": [
       "<IPython.core.display.Javascript object>"
      ]
     },
     "metadata": {},
     "output_type": "display_data"
    },
    {
     "data": {
      "application/javascript": [
       "$('div#9347df1b-7919-45cc-be98-c02ce08be7e9').width('5%');$('p#550215e7-85e6-43f0-a200-bc2bf447d94e').text('Elapsed time:  14.70s. Est. remaining time: 00:00:04:20.');"
      ],
      "text/plain": [
       "<IPython.core.display.Javascript object>"
      ]
     },
     "metadata": {},
     "output_type": "display_data"
    },
    {
     "data": {
      "application/javascript": [
       "$('div#9347df1b-7919-45cc-be98-c02ce08be7e9').width('6%');$('p#550215e7-85e6-43f0-a200-bc2bf447d94e').text('Elapsed time:  17.44s. Est. remaining time: 00:00:04:33.');"
      ],
      "text/plain": [
       "<IPython.core.display.Javascript object>"
      ]
     },
     "metadata": {},
     "output_type": "display_data"
    },
    {
     "data": {
      "application/javascript": [
       "$('div#9347df1b-7919-45cc-be98-c02ce08be7e9').width('7%');$('p#550215e7-85e6-43f0-a200-bc2bf447d94e').text('Elapsed time:  21.43s. Est. remaining time: 00:00:04:30.');"
      ],
      "text/plain": [
       "<IPython.core.display.Javascript object>"
      ]
     },
     "metadata": {},
     "output_type": "display_data"
    },
    {
     "data": {
      "application/javascript": [
       "$('div#9347df1b-7919-45cc-be98-c02ce08be7e9').width('8%');$('p#550215e7-85e6-43f0-a200-bc2bf447d94e').text('Elapsed time:  21.75s. Est. remaining time: 00:00:04:10.');"
      ],
      "text/plain": [
       "<IPython.core.display.Javascript object>"
      ]
     },
     "metadata": {},
     "output_type": "display_data"
    },
    {
     "data": {
      "application/javascript": [
       "$('div#9347df1b-7919-45cc-be98-c02ce08be7e9').width('9%');$('p#550215e7-85e6-43f0-a200-bc2bf447d94e').text('Elapsed time:  25.24s. Est. remaining time: 00:00:04:05.');"
      ],
      "text/plain": [
       "<IPython.core.display.Javascript object>"
      ]
     },
     "metadata": {},
     "output_type": "display_data"
    },
    {
     "data": {
      "application/javascript": [
       "$('div#9347df1b-7919-45cc-be98-c02ce08be7e9').width('10%');$('p#550215e7-85e6-43f0-a200-bc2bf447d94e').text('Elapsed time:  28.83s. Est. remaining time: 00:00:04:19.');"
      ],
      "text/plain": [
       "<IPython.core.display.Javascript object>"
      ]
     },
     "metadata": {},
     "output_type": "display_data"
    },
    {
     "data": {
      "application/javascript": [
       "$('div#9347df1b-7919-45cc-be98-c02ce08be7e9').width('11%');$('p#550215e7-85e6-43f0-a200-bc2bf447d94e').text('Elapsed time:  32.60s. Est. remaining time: 00:00:04:15.');"
      ],
      "text/plain": [
       "<IPython.core.display.Javascript object>"
      ]
     },
     "metadata": {},
     "output_type": "display_data"
    },
    {
     "data": {
      "application/javascript": [
       "$('div#9347df1b-7919-45cc-be98-c02ce08be7e9').width('12%');$('p#550215e7-85e6-43f0-a200-bc2bf447d94e').text('Elapsed time:  33.72s. Est. remaining time: 00:00:04:07.');"
      ],
      "text/plain": [
       "<IPython.core.display.Javascript object>"
      ]
     },
     "metadata": {},
     "output_type": "display_data"
    },
    {
     "data": {
      "application/javascript": [
       "$('div#9347df1b-7919-45cc-be98-c02ce08be7e9').width('13%');$('p#550215e7-85e6-43f0-a200-bc2bf447d94e').text('Elapsed time:  37.13s. Est. remaining time: 00:00:04:01.');"
      ],
      "text/plain": [
       "<IPython.core.display.Javascript object>"
      ]
     },
     "metadata": {},
     "output_type": "display_data"
    },
    {
     "data": {
      "application/javascript": [
       "$('div#9347df1b-7919-45cc-be98-c02ce08be7e9').width('14%');$('p#550215e7-85e6-43f0-a200-bc2bf447d94e').text('Elapsed time:  40.47s. Est. remaining time: 00:00:04:08.');"
      ],
      "text/plain": [
       "<IPython.core.display.Javascript object>"
      ]
     },
     "metadata": {},
     "output_type": "display_data"
    },
    {
     "data": {
      "application/javascript": [
       "$('div#9347df1b-7919-45cc-be98-c02ce08be7e9').width('15%');$('p#550215e7-85e6-43f0-a200-bc2bf447d94e').text('Elapsed time:  44.16s. Est. remaining time: 00:00:04:03.');"
      ],
      "text/plain": [
       "<IPython.core.display.Javascript object>"
      ]
     },
     "metadata": {},
     "output_type": "display_data"
    },
    {
     "data": {
      "application/javascript": [
       "$('div#9347df1b-7919-45cc-be98-c02ce08be7e9').width('16%');$('p#550215e7-85e6-43f0-a200-bc2bf447d94e').text('Elapsed time:  44.94s. Est. remaining time: 00:00:03:55.');"
      ],
      "text/plain": [
       "<IPython.core.display.Javascript object>"
      ]
     },
     "metadata": {},
     "output_type": "display_data"
    },
    {
     "data": {
      "application/javascript": [
       "$('div#9347df1b-7919-45cc-be98-c02ce08be7e9').width('17%');$('p#550215e7-85e6-43f0-a200-bc2bf447d94e').text('Elapsed time:  48.78s. Est. remaining time: 00:00:03:52.');"
      ],
      "text/plain": [
       "<IPython.core.display.Javascript object>"
      ]
     },
     "metadata": {},
     "output_type": "display_data"
    },
    {
     "data": {
      "application/javascript": [
       "$('div#9347df1b-7919-45cc-be98-c02ce08be7e9').width('18%');$('p#550215e7-85e6-43f0-a200-bc2bf447d94e').text('Elapsed time:  50.63s. Est. remaining time: 00:00:03:50.');"
      ],
      "text/plain": [
       "<IPython.core.display.Javascript object>"
      ]
     },
     "metadata": {},
     "output_type": "display_data"
    },
    {
     "data": {
      "application/javascript": [
       "$('div#9347df1b-7919-45cc-be98-c02ce08be7e9').width('19%');$('p#550215e7-85e6-43f0-a200-bc2bf447d94e').text('Elapsed time:  54.07s. Est. remaining time: 00:00:03:45.');"
      ],
      "text/plain": [
       "<IPython.core.display.Javascript object>"
      ]
     },
     "metadata": {},
     "output_type": "display_data"
    },
    {
     "data": {
      "application/javascript": [
       "$('div#9347df1b-7919-45cc-be98-c02ce08be7e9').width('20%');$('p#550215e7-85e6-43f0-a200-bc2bf447d94e').text('Elapsed time:  57.18s. Est. remaining time: 00:00:03:48.');"
      ],
      "text/plain": [
       "<IPython.core.display.Javascript object>"
      ]
     },
     "metadata": {},
     "output_type": "display_data"
    },
    {
     "data": {
      "application/javascript": [
       "$('div#9347df1b-7919-45cc-be98-c02ce08be7e9').width('21%');$('p#550215e7-85e6-43f0-a200-bc2bf447d94e').text('Elapsed time:  60.79s. Est. remaining time: 00:00:03:44.');"
      ],
      "text/plain": [
       "<IPython.core.display.Javascript object>"
      ]
     },
     "metadata": {},
     "output_type": "display_data"
    },
    {
     "data": {
      "application/javascript": [
       "$('div#9347df1b-7919-45cc-be98-c02ce08be7e9').width('22%');$('p#550215e7-85e6-43f0-a200-bc2bf447d94e').text('Elapsed time:  61.20s. Est. remaining time: 00:00:03:36.');"
      ],
      "text/plain": [
       "<IPython.core.display.Javascript object>"
      ]
     },
     "metadata": {},
     "output_type": "display_data"
    },
    {
     "data": {
      "application/javascript": [
       "$('div#9347df1b-7919-45cc-be98-c02ce08be7e9').width('23%');$('p#550215e7-85e6-43f0-a200-bc2bf447d94e').text('Elapsed time:  64.94s. Est. remaining time: 00:00:03:33.');"
      ],
      "text/plain": [
       "<IPython.core.display.Javascript object>"
      ]
     },
     "metadata": {},
     "output_type": "display_data"
    },
    {
     "data": {
      "application/javascript": [
       "$('div#9347df1b-7919-45cc-be98-c02ce08be7e9').width('24%');$('p#550215e7-85e6-43f0-a200-bc2bf447d94e').text('Elapsed time:  66.61s. Est. remaining time: 00:00:03:30.');"
      ],
      "text/plain": [
       "<IPython.core.display.Javascript object>"
      ]
     },
     "metadata": {},
     "output_type": "display_data"
    },
    {
     "data": {
      "application/javascript": [
       "$('div#9347df1b-7919-45cc-be98-c02ce08be7e9').width('25%');$('p#550215e7-85e6-43f0-a200-bc2bf447d94e').text('Elapsed time:  69.64s. Est. remaining time: 00:00:03:25.');"
      ],
      "text/plain": [
       "<IPython.core.display.Javascript object>"
      ]
     },
     "metadata": {},
     "output_type": "display_data"
    },
    {
     "data": {
      "application/javascript": [
       "$('div#9347df1b-7919-45cc-be98-c02ce08be7e9').width('26%');$('p#550215e7-85e6-43f0-a200-bc2bf447d94e').text('Elapsed time:  72.22s. Est. remaining time: 00:00:03:25.');"
      ],
      "text/plain": [
       "<IPython.core.display.Javascript object>"
      ]
     },
     "metadata": {},
     "output_type": "display_data"
    },
    {
     "data": {
      "application/javascript": [
       "$('div#9347df1b-7919-45cc-be98-c02ce08be7e9').width('27%');$('p#550215e7-85e6-43f0-a200-bc2bf447d94e').text('Elapsed time:  75.90s. Est. remaining time: 00:00:03:21.');"
      ],
      "text/plain": [
       "<IPython.core.display.Javascript object>"
      ]
     },
     "metadata": {},
     "output_type": "display_data"
    },
    {
     "data": {
      "application/javascript": [
       "$('div#9347df1b-7919-45cc-be98-c02ce08be7e9').width('28%');$('p#550215e7-85e6-43f0-a200-bc2bf447d94e').text('Elapsed time:  76.01s. Est. remaining time: 00:00:03:15.');"
      ],
      "text/plain": [
       "<IPython.core.display.Javascript object>"
      ]
     },
     "metadata": {},
     "output_type": "display_data"
    },
    {
     "data": {
      "application/javascript": [
       "$('div#9347df1b-7919-45cc-be98-c02ce08be7e9').width('29%');$('p#550215e7-85e6-43f0-a200-bc2bf447d94e').text('Elapsed time:  80.37s. Est. remaining time: 00:00:03:13.');"
      ],
      "text/plain": [
       "<IPython.core.display.Javascript object>"
      ]
     },
     "metadata": {},
     "output_type": "display_data"
    },
    {
     "data": {
      "application/javascript": [
       "$('div#9347df1b-7919-45cc-be98-c02ce08be7e9').width('30%');$('p#550215e7-85e6-43f0-a200-bc2bf447d94e').text('Elapsed time:  82.85s. Est. remaining time: 00:00:03:13.');"
      ],
      "text/plain": [
       "<IPython.core.display.Javascript object>"
      ]
     },
     "metadata": {},
     "output_type": "display_data"
    },
    {
     "data": {
      "application/javascript": [
       "$('div#9347df1b-7919-45cc-be98-c02ce08be7e9').width('31%');$('p#550215e7-85e6-43f0-a200-bc2bf447d94e').text('Elapsed time:  86.13s. Est. remaining time: 00:00:03:08.');"
      ],
      "text/plain": [
       "<IPython.core.display.Javascript object>"
      ]
     },
     "metadata": {},
     "output_type": "display_data"
    },
    {
     "data": {
      "application/javascript": [
       "$('div#9347df1b-7919-45cc-be98-c02ce08be7e9').width('32%');$('p#550215e7-85e6-43f0-a200-bc2bf447d94e').text('Elapsed time:  88.27s. Est. remaining time: 00:00:03:07.');"
      ],
      "text/plain": [
       "<IPython.core.display.Javascript object>"
      ]
     },
     "metadata": {},
     "output_type": "display_data"
    },
    {
     "data": {
      "application/javascript": [
       "$('div#9347df1b-7919-45cc-be98-c02ce08be7e9').width('33%');$('p#550215e7-85e6-43f0-a200-bc2bf447d94e').text('Elapsed time:  92.11s. Est. remaining time: 00:00:03:04.');"
      ],
      "text/plain": [
       "<IPython.core.display.Javascript object>"
      ]
     },
     "metadata": {},
     "output_type": "display_data"
    },
    {
     "data": {
      "application/javascript": [
       "$('div#9347df1b-7919-45cc-be98-c02ce08be7e9').width('34%');$('p#550215e7-85e6-43f0-a200-bc2bf447d94e').text('Elapsed time:  92.66s. Est. remaining time: 00:00:02:59.');"
      ],
      "text/plain": [
       "<IPython.core.display.Javascript object>"
      ]
     },
     "metadata": {},
     "output_type": "display_data"
    },
    {
     "data": {
      "application/javascript": [
       "$('div#9347df1b-7919-45cc-be98-c02ce08be7e9').width('35%');$('p#550215e7-85e6-43f0-a200-bc2bf447d94e').text('Elapsed time:  95.77s. Est. remaining time: 00:00:02:55.');"
      ],
      "text/plain": [
       "<IPython.core.display.Javascript object>"
      ]
     },
     "metadata": {},
     "output_type": "display_data"
    },
    {
     "data": {
      "application/javascript": [
       "$('div#9347df1b-7919-45cc-be98-c02ce08be7e9').width('36%');$('p#550215e7-85e6-43f0-a200-bc2bf447d94e').text('Elapsed time:  98.89s. Est. remaining time: 00:00:02:55.');"
      ],
      "text/plain": [
       "<IPython.core.display.Javascript object>"
      ]
     },
     "metadata": {},
     "output_type": "display_data"
    },
    {
     "data": {
      "application/javascript": [
       "$('div#9347df1b-7919-45cc-be98-c02ce08be7e9').width('37%');$('p#550215e7-85e6-43f0-a200-bc2bf447d94e').text('Elapsed time: 101.98s. Est. remaining time: 00:00:02:51.');"
      ],
      "text/plain": [
       "<IPython.core.display.Javascript object>"
      ]
     },
     "metadata": {},
     "output_type": "display_data"
    },
    {
     "data": {
      "application/javascript": [
       "$('div#9347df1b-7919-45cc-be98-c02ce08be7e9').width('38%');$('p#550215e7-85e6-43f0-a200-bc2bf447d94e').text('Elapsed time: 102.72s. Est. remaining time: 00:00:02:47.');"
      ],
      "text/plain": [
       "<IPython.core.display.Javascript object>"
      ]
     },
     "metadata": {},
     "output_type": "display_data"
    },
    {
     "data": {
      "application/javascript": [
       "$('div#9347df1b-7919-45cc-be98-c02ce08be7e9').width('39%');$('p#550215e7-85e6-43f0-a200-bc2bf447d94e').text('Elapsed time: 105.77s. Est. remaining time: 00:00:02:43.');"
      ],
      "text/plain": [
       "<IPython.core.display.Javascript object>"
      ]
     },
     "metadata": {},
     "output_type": "display_data"
    },
    {
     "data": {
      "application/javascript": [
       "$('div#9347df1b-7919-45cc-be98-c02ce08be7e9').width('40%');$('p#550215e7-85e6-43f0-a200-bc2bf447d94e').text('Elapsed time: 108.27s. Est. remaining time: 00:00:02:42.');"
      ],
      "text/plain": [
       "<IPython.core.display.Javascript object>"
      ]
     },
     "metadata": {},
     "output_type": "display_data"
    },
    {
     "data": {
      "application/javascript": [
       "$('div#9347df1b-7919-45cc-be98-c02ce08be7e9').width('41%');$('p#550215e7-85e6-43f0-a200-bc2bf447d94e').text('Elapsed time: 112.03s. Est. remaining time: 00:00:02:39.');"
      ],
      "text/plain": [
       "<IPython.core.display.Javascript object>"
      ]
     },
     "metadata": {},
     "output_type": "display_data"
    },
    {
     "data": {
      "application/javascript": [
       "$('div#9347df1b-7919-45cc-be98-c02ce08be7e9').width('42%');$('p#550215e7-85e6-43f0-a200-bc2bf447d94e').text('Elapsed time: 112.66s. Est. remaining time: 00:00:02:35.');"
      ],
      "text/plain": [
       "<IPython.core.display.Javascript object>"
      ]
     },
     "metadata": {},
     "output_type": "display_data"
    },
    {
     "data": {
      "application/javascript": [
       "$('div#9347df1b-7919-45cc-be98-c02ce08be7e9').width('43%');$('p#550215e7-85e6-43f0-a200-bc2bf447d94e').text('Elapsed time: 116.03s. Est. remaining time: 00:00:02:31.');"
      ],
      "text/plain": [
       "<IPython.core.display.Javascript object>"
      ]
     },
     "metadata": {},
     "output_type": "display_data"
    },
    {
     "data": {
      "application/javascript": [
       "$('div#9347df1b-7919-45cc-be98-c02ce08be7e9').width('44%');$('p#550215e7-85e6-43f0-a200-bc2bf447d94e').text('Elapsed time: 119.23s. Est. remaining time: 00:00:02:31.');"
      ],
      "text/plain": [
       "<IPython.core.display.Javascript object>"
      ]
     },
     "metadata": {},
     "output_type": "display_data"
    },
    {
     "data": {
      "application/javascript": [
       "$('div#9347df1b-7919-45cc-be98-c02ce08be7e9').width('45%');$('p#550215e7-85e6-43f0-a200-bc2bf447d94e').text('Elapsed time: 123.36s. Est. remaining time: 00:00:02:28.');"
      ],
      "text/plain": [
       "<IPython.core.display.Javascript object>"
      ]
     },
     "metadata": {},
     "output_type": "display_data"
    },
    {
     "data": {
      "application/javascript": [
       "$('div#9347df1b-7919-45cc-be98-c02ce08be7e9').width('46%');$('p#550215e7-85e6-43f0-a200-bc2bf447d94e').text('Elapsed time: 124.03s. Est. remaining time: 00:00:02:25.');"
      ],
      "text/plain": [
       "<IPython.core.display.Javascript object>"
      ]
     },
     "metadata": {},
     "output_type": "display_data"
    },
    {
     "data": {
      "application/javascript": [
       "$('div#9347df1b-7919-45cc-be98-c02ce08be7e9').width('47%');$('p#550215e7-85e6-43f0-a200-bc2bf447d94e').text('Elapsed time: 127.82s. Est. remaining time: 00:00:02:22.');"
      ],
      "text/plain": [
       "<IPython.core.display.Javascript object>"
      ]
     },
     "metadata": {},
     "output_type": "display_data"
    },
    {
     "data": {
      "application/javascript": [
       "$('div#9347df1b-7919-45cc-be98-c02ce08be7e9').width('48%');$('p#550215e7-85e6-43f0-a200-bc2bf447d94e').text('Elapsed time: 131.45s. Est. remaining time: 00:00:02:22.');"
      ],
      "text/plain": [
       "<IPython.core.display.Javascript object>"
      ]
     },
     "metadata": {},
     "output_type": "display_data"
    },
    {
     "data": {
      "application/javascript": [
       "$('div#9347df1b-7919-45cc-be98-c02ce08be7e9').width('49%');$('p#550215e7-85e6-43f0-a200-bc2bf447d94e').text('Elapsed time: 139.35s. Est. remaining time: 00:00:02:23.');"
      ],
      "text/plain": [
       "<IPython.core.display.Javascript object>"
      ]
     },
     "metadata": {},
     "output_type": "display_data"
    },
    {
     "data": {
      "application/javascript": [
       "$('div#9347df1b-7919-45cc-be98-c02ce08be7e9').width('50%');$('p#550215e7-85e6-43f0-a200-bc2bf447d94e').text('Elapsed time: 140.50s. Est. remaining time: 00:00:02:20.');"
      ],
      "text/plain": [
       "<IPython.core.display.Javascript object>"
      ]
     },
     "metadata": {},
     "output_type": "display_data"
    },
    {
     "data": {
      "application/javascript": [
       "$('div#9347df1b-7919-45cc-be98-c02ce08be7e9').width('51%');$('p#550215e7-85e6-43f0-a200-bc2bf447d94e').text('Elapsed time: 149.72s. Est. remaining time: 00:00:02:21.');"
      ],
      "text/plain": [
       "<IPython.core.display.Javascript object>"
      ]
     },
     "metadata": {},
     "output_type": "display_data"
    },
    {
     "data": {
      "application/javascript": [
       "$('div#9347df1b-7919-45cc-be98-c02ce08be7e9').width('52%');$('p#550215e7-85e6-43f0-a200-bc2bf447d94e').text('Elapsed time: 156.93s. Est. remaining time: 00:00:02:24.');"
      ],
      "text/plain": [
       "<IPython.core.display.Javascript object>"
      ]
     },
     "metadata": {},
     "output_type": "display_data"
    },
    {
     "data": {
      "application/javascript": [
       "$('div#9347df1b-7919-45cc-be98-c02ce08be7e9').width('53%');$('p#550215e7-85e6-43f0-a200-bc2bf447d94e').text('Elapsed time: 162.28s. Est. remaining time: 00:00:02:21.');"
      ],
      "text/plain": [
       "<IPython.core.display.Javascript object>"
      ]
     },
     "metadata": {},
     "output_type": "display_data"
    },
    {
     "data": {
      "application/javascript": [
       "$('div#9347df1b-7919-45cc-be98-c02ce08be7e9').width('54%');$('p#550215e7-85e6-43f0-a200-bc2bf447d94e').text('Elapsed time: 162.33s. Est. remaining time: 00:00:02:18.');"
      ],
      "text/plain": [
       "<IPython.core.display.Javascript object>"
      ]
     },
     "metadata": {},
     "output_type": "display_data"
    },
    {
     "data": {
      "application/javascript": [
       "$('div#9347df1b-7919-45cc-be98-c02ce08be7e9').width('55%');$('p#550215e7-85e6-43f0-a200-bc2bf447d94e').text('Elapsed time: 166.38s. Est. remaining time: 00:00:02:14.');"
      ],
      "text/plain": [
       "<IPython.core.display.Javascript object>"
      ]
     },
     "metadata": {},
     "output_type": "display_data"
    },
    {
     "data": {
      "application/javascript": [
       "$('div#9347df1b-7919-45cc-be98-c02ce08be7e9').width('56%');$('p#550215e7-85e6-43f0-a200-bc2bf447d94e').text('Elapsed time: 169.72s. Est. remaining time: 00:00:02:13.');"
      ],
      "text/plain": [
       "<IPython.core.display.Javascript object>"
      ]
     },
     "metadata": {},
     "output_type": "display_data"
    },
    {
     "data": {
      "application/javascript": [
       "$('div#9347df1b-7919-45cc-be98-c02ce08be7e9').width('57%');$('p#550215e7-85e6-43f0-a200-bc2bf447d94e').text('Elapsed time: 173.03s. Est. remaining time: 00:00:02:08.');"
      ],
      "text/plain": [
       "<IPython.core.display.Javascript object>"
      ]
     },
     "metadata": {},
     "output_type": "display_data"
    },
    {
     "data": {
      "application/javascript": [
       "$('div#9347df1b-7919-45cc-be98-c02ce08be7e9').width('58%');$('p#550215e7-85e6-43f0-a200-bc2bf447d94e').text('Elapsed time: 177.05s. Est. remaining time: 00:00:02:04.');"
      ],
      "text/plain": [
       "<IPython.core.display.Javascript object>"
      ]
     },
     "metadata": {},
     "output_type": "display_data"
    },
    {
     "data": {
      "application/javascript": [
       "$('div#9347df1b-7919-45cc-be98-c02ce08be7e9').width('59%');$('p#550215e7-85e6-43f0-a200-bc2bf447d94e').text('Elapsed time: 177.23s. Est. remaining time: 00:00:02:01.');"
      ],
      "text/plain": [
       "<IPython.core.display.Javascript object>"
      ]
     },
     "metadata": {},
     "output_type": "display_data"
    },
    {
     "data": {
      "application/javascript": [
       "$('div#9347df1b-7919-45cc-be98-c02ce08be7e9').width('60%');$('p#550215e7-85e6-43f0-a200-bc2bf447d94e').text('Elapsed time: 180.21s. Est. remaining time: 00:00:02:00.');"
      ],
      "text/plain": [
       "<IPython.core.display.Javascript object>"
      ]
     },
     "metadata": {},
     "output_type": "display_data"
    },
    {
     "data": {
      "application/javascript": [
       "$('div#9347df1b-7919-45cc-be98-c02ce08be7e9').width('61%');$('p#550215e7-85e6-43f0-a200-bc2bf447d94e').text('Elapsed time: 184.13s. Est. remaining time: 00:00:01:56.');"
      ],
      "text/plain": [
       "<IPython.core.display.Javascript object>"
      ]
     },
     "metadata": {},
     "output_type": "display_data"
    },
    {
     "data": {
      "application/javascript": [
       "$('div#9347df1b-7919-45cc-be98-c02ce08be7e9').width('62%');$('p#550215e7-85e6-43f0-a200-bc2bf447d94e').text('Elapsed time: 185.27s. Est. remaining time: 00:00:01:53.');"
      ],
      "text/plain": [
       "<IPython.core.display.Javascript object>"
      ]
     },
     "metadata": {},
     "output_type": "display_data"
    },
    {
     "data": {
      "application/javascript": [
       "$('div#9347df1b-7919-45cc-be98-c02ce08be7e9').width('63%');$('p#550215e7-85e6-43f0-a200-bc2bf447d94e').text('Elapsed time: 189.13s. Est. remaining time: 00:00:01:49.');"
      ],
      "text/plain": [
       "<IPython.core.display.Javascript object>"
      ]
     },
     "metadata": {},
     "output_type": "display_data"
    },
    {
     "data": {
      "application/javascript": [
       "$('div#9347df1b-7919-45cc-be98-c02ce08be7e9').width('64%');$('p#550215e7-85e6-43f0-a200-bc2bf447d94e').text('Elapsed time: 191.58s. Est. remaining time: 00:00:01:47.');"
      ],
      "text/plain": [
       "<IPython.core.display.Javascript object>"
      ]
     },
     "metadata": {},
     "output_type": "display_data"
    },
    {
     "data": {
      "application/javascript": [
       "$('div#9347df1b-7919-45cc-be98-c02ce08be7e9').width('65%');$('p#550215e7-85e6-43f0-a200-bc2bf447d94e').text('Elapsed time: 195.08s. Est. remaining time: 00:00:01:43.');"
      ],
      "text/plain": [
       "<IPython.core.display.Javascript object>"
      ]
     },
     "metadata": {},
     "output_type": "display_data"
    },
    {
     "data": {
      "application/javascript": [
       "$('div#9347df1b-7919-45cc-be98-c02ce08be7e9').width('66%');$('p#550215e7-85e6-43f0-a200-bc2bf447d94e').text('Elapsed time: 196.02s. Est. remaining time: 00:00:01:40.');"
      ],
      "text/plain": [
       "<IPython.core.display.Javascript object>"
      ]
     },
     "metadata": {},
     "output_type": "display_data"
    },
    {
     "data": {
      "application/javascript": [
       "$('div#9347df1b-7919-45cc-be98-c02ce08be7e9').width('67%');$('p#550215e7-85e6-43f0-a200-bc2bf447d94e').text('Elapsed time: 199.16s. Est. remaining time: 00:00:01:36.');"
      ],
      "text/plain": [
       "<IPython.core.display.Javascript object>"
      ]
     },
     "metadata": {},
     "output_type": "display_data"
    },
    {
     "data": {
      "application/javascript": [
       "$('div#9347df1b-7919-45cc-be98-c02ce08be7e9').width('68%');$('p#550215e7-85e6-43f0-a200-bc2bf447d94e').text('Elapsed time: 202.30s. Est. remaining time: 00:00:01:35.');"
      ],
      "text/plain": [
       "<IPython.core.display.Javascript object>"
      ]
     },
     "metadata": {},
     "output_type": "display_data"
    },
    {
     "data": {
      "application/javascript": [
       "$('div#9347df1b-7919-45cc-be98-c02ce08be7e9').width('69%');$('p#550215e7-85e6-43f0-a200-bc2bf447d94e').text('Elapsed time: 205.82s. Est. remaining time: 00:00:01:31.');"
      ],
      "text/plain": [
       "<IPython.core.display.Javascript object>"
      ]
     },
     "metadata": {},
     "output_type": "display_data"
    },
    {
     "data": {
      "application/javascript": [
       "$('div#9347df1b-7919-45cc-be98-c02ce08be7e9').width('70%');$('p#550215e7-85e6-43f0-a200-bc2bf447d94e').text('Elapsed time: 206.19s. Est. remaining time: 00:00:01:28.');"
      ],
      "text/plain": [
       "<IPython.core.display.Javascript object>"
      ]
     },
     "metadata": {},
     "output_type": "display_data"
    },
    {
     "data": {
      "application/javascript": [
       "$('div#9347df1b-7919-45cc-be98-c02ce08be7e9').width('71%');$('p#550215e7-85e6-43f0-a200-bc2bf447d94e').text('Elapsed time: 209.90s. Est. remaining time: 00:00:01:24.');"
      ],
      "text/plain": [
       "<IPython.core.display.Javascript object>"
      ]
     },
     "metadata": {},
     "output_type": "display_data"
    },
    {
     "data": {
      "application/javascript": [
       "$('div#9347df1b-7919-45cc-be98-c02ce08be7e9').width('72%');$('p#550215e7-85e6-43f0-a200-bc2bf447d94e').text('Elapsed time: 213.11s. Est. remaining time: 00:00:01:22.');"
      ],
      "text/plain": [
       "<IPython.core.display.Javascript object>"
      ]
     },
     "metadata": {},
     "output_type": "display_data"
    },
    {
     "data": {
      "application/javascript": [
       "$('div#9347df1b-7919-45cc-be98-c02ce08be7e9').width('73%');$('p#550215e7-85e6-43f0-a200-bc2bf447d94e').text('Elapsed time: 216.79s. Est. remaining time: 00:00:01:18.');"
      ],
      "text/plain": [
       "<IPython.core.display.Javascript object>"
      ]
     },
     "metadata": {},
     "output_type": "display_data"
    },
    {
     "data": {
      "application/javascript": [
       "$('div#9347df1b-7919-45cc-be98-c02ce08be7e9').width('74%');$('p#550215e7-85e6-43f0-a200-bc2bf447d94e').text('Elapsed time: 217.24s. Est. remaining time: 00:00:01:16.');"
      ],
      "text/plain": [
       "<IPython.core.display.Javascript object>"
      ]
     },
     "metadata": {},
     "output_type": "display_data"
    },
    {
     "data": {
      "application/javascript": [
       "$('div#9347df1b-7919-45cc-be98-c02ce08be7e9').width('75%');$('p#550215e7-85e6-43f0-a200-bc2bf447d94e').text('Elapsed time: 221.17s. Est. remaining time: 00:00:01:12.');"
      ],
      "text/plain": [
       "<IPython.core.display.Javascript object>"
      ]
     },
     "metadata": {},
     "output_type": "display_data"
    },
    {
     "data": {
      "application/javascript": [
       "$('div#9347df1b-7919-45cc-be98-c02ce08be7e9').width('76%');$('p#550215e7-85e6-43f0-a200-bc2bf447d94e').text('Elapsed time: 224.25s. Est. remaining time: 00:00:01:10.');"
      ],
      "text/plain": [
       "<IPython.core.display.Javascript object>"
      ]
     },
     "metadata": {},
     "output_type": "display_data"
    },
    {
     "data": {
      "application/javascript": [
       "$('div#9347df1b-7919-45cc-be98-c02ce08be7e9').width('77%');$('p#550215e7-85e6-43f0-a200-bc2bf447d94e').text('Elapsed time: 227.81s. Est. remaining time: 00:00:01:06.');"
      ],
      "text/plain": [
       "<IPython.core.display.Javascript object>"
      ]
     },
     "metadata": {},
     "output_type": "display_data"
    },
    {
     "data": {
      "application/javascript": [
       "$('div#9347df1b-7919-45cc-be98-c02ce08be7e9').width('78%');$('p#550215e7-85e6-43f0-a200-bc2bf447d94e').text('Elapsed time: 228.39s. Est. remaining time: 00:00:01:04.');"
      ],
      "text/plain": [
       "<IPython.core.display.Javascript object>"
      ]
     },
     "metadata": {},
     "output_type": "display_data"
    },
    {
     "data": {
      "application/javascript": [
       "$('div#9347df1b-7919-45cc-be98-c02ce08be7e9').width('79%');$('p#550215e7-85e6-43f0-a200-bc2bf447d94e').text('Elapsed time: 232.54s. Est. remaining time: 00:00:01:00.');"
      ],
      "text/plain": [
       "<IPython.core.display.Javascript object>"
      ]
     },
     "metadata": {},
     "output_type": "display_data"
    },
    {
     "data": {
      "application/javascript": [
       "$('div#9347df1b-7919-45cc-be98-c02ce08be7e9').width('80%');$('p#550215e7-85e6-43f0-a200-bc2bf447d94e').text('Elapsed time: 235.78s. Est. remaining time: 00:00:00:58.');"
      ],
      "text/plain": [
       "<IPython.core.display.Javascript object>"
      ]
     },
     "metadata": {},
     "output_type": "display_data"
    },
    {
     "data": {
      "application/javascript": [
       "$('div#9347df1b-7919-45cc-be98-c02ce08be7e9').width('81%');$('p#550215e7-85e6-43f0-a200-bc2bf447d94e').text('Elapsed time: 239.28s. Est. remaining time: 00:00:00:54.');"
      ],
      "text/plain": [
       "<IPython.core.display.Javascript object>"
      ]
     },
     "metadata": {},
     "output_type": "display_data"
    },
    {
     "data": {
      "application/javascript": [
       "$('div#9347df1b-7919-45cc-be98-c02ce08be7e9').width('82%');$('p#550215e7-85e6-43f0-a200-bc2bf447d94e').text('Elapsed time: 240.11s. Est. remaining time: 00:00:00:52.');"
      ],
      "text/plain": [
       "<IPython.core.display.Javascript object>"
      ]
     },
     "metadata": {},
     "output_type": "display_data"
    },
    {
     "data": {
      "application/javascript": [
       "$('div#9347df1b-7919-45cc-be98-c02ce08be7e9').width('83%');$('p#550215e7-85e6-43f0-a200-bc2bf447d94e').text('Elapsed time: 245.27s. Est. remaining time: 00:00:00:49.');"
      ],
      "text/plain": [
       "<IPython.core.display.Javascript object>"
      ]
     },
     "metadata": {},
     "output_type": "display_data"
    },
    {
     "data": {
      "application/javascript": [
       "$('div#9347df1b-7919-45cc-be98-c02ce08be7e9').width('84%');$('p#550215e7-85e6-43f0-a200-bc2bf447d94e').text('Elapsed time: 249.37s. Est. remaining time: 00:00:00:47.');"
      ],
      "text/plain": [
       "<IPython.core.display.Javascript object>"
      ]
     },
     "metadata": {},
     "output_type": "display_data"
    },
    {
     "data": {
      "application/javascript": [
       "$('div#9347df1b-7919-45cc-be98-c02ce08be7e9').width('85%');$('p#550215e7-85e6-43f0-a200-bc2bf447d94e').text('Elapsed time: 253.19s. Est. remaining time: 00:00:00:43.');"
      ],
      "text/plain": [
       "<IPython.core.display.Javascript object>"
      ]
     },
     "metadata": {},
     "output_type": "display_data"
    },
    {
     "data": {
      "application/javascript": [
       "$('div#9347df1b-7919-45cc-be98-c02ce08be7e9').width('86%');$('p#550215e7-85e6-43f0-a200-bc2bf447d94e').text('Elapsed time: 254.41s. Est. remaining time: 00:00:00:41.');"
      ],
      "text/plain": [
       "<IPython.core.display.Javascript object>"
      ]
     },
     "metadata": {},
     "output_type": "display_data"
    },
    {
     "data": {
      "application/javascript": [
       "$('div#9347df1b-7919-45cc-be98-c02ce08be7e9').width('87%');$('p#550215e7-85e6-43f0-a200-bc2bf447d94e').text('Elapsed time: 258.51s. Est. remaining time: 00:00:00:37.');"
      ],
      "text/plain": [
       "<IPython.core.display.Javascript object>"
      ]
     },
     "metadata": {},
     "output_type": "display_data"
    },
    {
     "data": {
      "application/javascript": [
       "$('div#9347df1b-7919-45cc-be98-c02ce08be7e9').width('88%');$('p#550215e7-85e6-43f0-a200-bc2bf447d94e').text('Elapsed time: 261.06s. Est. remaining time: 00:00:00:35.');"
      ],
      "text/plain": [
       "<IPython.core.display.Javascript object>"
      ]
     },
     "metadata": {},
     "output_type": "display_data"
    },
    {
     "data": {
      "application/javascript": [
       "$('div#9347df1b-7919-45cc-be98-c02ce08be7e9').width('89%');$('p#550215e7-85e6-43f0-a200-bc2bf447d94e').text('Elapsed time: 265.69s. Est. remaining time: 00:00:00:31.');"
      ],
      "text/plain": [
       "<IPython.core.display.Javascript object>"
      ]
     },
     "metadata": {},
     "output_type": "display_data"
    },
    {
     "data": {
      "application/javascript": [
       "$('div#9347df1b-7919-45cc-be98-c02ce08be7e9').width('90%');$('p#550215e7-85e6-43f0-a200-bc2bf447d94e').text('Elapsed time: 267.24s. Est. remaining time: 00:00:00:29.');"
      ],
      "text/plain": [
       "<IPython.core.display.Javascript object>"
      ]
     },
     "metadata": {},
     "output_type": "display_data"
    },
    {
     "data": {
      "application/javascript": [
       "$('div#9347df1b-7919-45cc-be98-c02ce08be7e9').width('91%');$('p#550215e7-85e6-43f0-a200-bc2bf447d94e').text('Elapsed time: 272.36s. Est. remaining time: 00:00:00:25.');"
      ],
      "text/plain": [
       "<IPython.core.display.Javascript object>"
      ]
     },
     "metadata": {},
     "output_type": "display_data"
    },
    {
     "data": {
      "application/javascript": [
       "$('div#9347df1b-7919-45cc-be98-c02ce08be7e9').width('92%');$('p#550215e7-85e6-43f0-a200-bc2bf447d94e').text('Elapsed time: 275.41s. Est. remaining time: 00:00:00:23.');"
      ],
      "text/plain": [
       "<IPython.core.display.Javascript object>"
      ]
     },
     "metadata": {},
     "output_type": "display_data"
    },
    {
     "data": {
      "application/javascript": [
       "$('div#9347df1b-7919-45cc-be98-c02ce08be7e9').width('93%');$('p#550215e7-85e6-43f0-a200-bc2bf447d94e').text('Elapsed time: 279.79s. Est. remaining time: 00:00:00:19.');"
      ],
      "text/plain": [
       "<IPython.core.display.Javascript object>"
      ]
     },
     "metadata": {},
     "output_type": "display_data"
    },
    {
     "data": {
      "application/javascript": [
       "$('div#9347df1b-7919-45cc-be98-c02ce08be7e9').width('94%');$('p#550215e7-85e6-43f0-a200-bc2bf447d94e').text('Elapsed time: 281.66s. Est. remaining time: 00:00:00:17.');"
      ],
      "text/plain": [
       "<IPython.core.display.Javascript object>"
      ]
     },
     "metadata": {},
     "output_type": "display_data"
    },
    {
     "data": {
      "application/javascript": [
       "$('div#9347df1b-7919-45cc-be98-c02ce08be7e9').width('95%');$('p#550215e7-85e6-43f0-a200-bc2bf447d94e').text('Elapsed time: 285.39s. Est. remaining time: 00:00:00:13.');"
      ],
      "text/plain": [
       "<IPython.core.display.Javascript object>"
      ]
     },
     "metadata": {},
     "output_type": "display_data"
    },
    {
     "data": {
      "application/javascript": [
       "$('div#9347df1b-7919-45cc-be98-c02ce08be7e9').width('96%');$('p#550215e7-85e6-43f0-a200-bc2bf447d94e').text('Elapsed time: 287.55s. Est. remaining time: 00:00:00:11.');"
      ],
      "text/plain": [
       "<IPython.core.display.Javascript object>"
      ]
     },
     "metadata": {},
     "output_type": "display_data"
    },
    {
     "data": {
      "application/javascript": [
       "$('div#9347df1b-7919-45cc-be98-c02ce08be7e9').width('97%');$('p#550215e7-85e6-43f0-a200-bc2bf447d94e').text('Elapsed time: 292.67s. Est. remaining time: 00:00:00:08.');"
      ],
      "text/plain": [
       "<IPython.core.display.Javascript object>"
      ]
     },
     "metadata": {},
     "output_type": "display_data"
    },
    {
     "data": {
      "application/javascript": [
       "$('div#9347df1b-7919-45cc-be98-c02ce08be7e9').width('98%');$('p#550215e7-85e6-43f0-a200-bc2bf447d94e').text('Elapsed time: 293.38s. Est. remaining time: 00:00:00:05.');"
      ],
      "text/plain": [
       "<IPython.core.display.Javascript object>"
      ]
     },
     "metadata": {},
     "output_type": "display_data"
    },
    {
     "data": {
      "application/javascript": [
       "$('div#9347df1b-7919-45cc-be98-c02ce08be7e9').width('99%');$('p#550215e7-85e6-43f0-a200-bc2bf447d94e').text('Elapsed time: 297.09s. Est. remaining time: 00:00:00:01.');"
      ],
      "text/plain": [
       "<IPython.core.display.Javascript object>"
      ]
     },
     "metadata": {},
     "output_type": "display_data"
    },
    {
     "data": {
      "application/javascript": [
       "$('div#9347df1b-7919-45cc-be98-c02ce08be7e9').width('100%');$('p#550215e7-85e6-43f0-a200-bc2bf447d94e').text('Elapsed time: 299.16s. Est. remaining time: 00:00:00:00.');"
      ],
      "text/plain": [
       "<IPython.core.display.Javascript object>"
      ]
     },
     "metadata": {},
     "output_type": "display_data"
    },
    {
     "data": {
      "application/javascript": [
       "$('div#9347df1b-7919-45cc-be98-c02ce08be7e9').width('100%');$('p#550215e7-85e6-43f0-a200-bc2bf447d94e').text('Elapsed time: 299.24s');"
      ],
      "text/plain": [
       "<IPython.core.display.Javascript object>"
      ]
     },
     "metadata": {},
     "output_type": "display_data"
    }
   ],
   "source": [
    "result2 = photocurrentmesolve(H, rho0, times, c_ops=c_ops, sc_ops=sc_ops, e_ops=e_ops, \n",
    "                   ntraj=ntraj, nsubsteps=100,\n",
    "                   store_measurement=True,\n",
    "                   options=Options(store_states=True),\n",
    "                   progress_bar=HTMLProgressBar(),\n",
    "                   map_func=parallel_map)"
   ]
  },
  {
   "cell_type": "raw",
   "metadata": {},
   "source": [
    "# alternative: use the parallel_map based on IPython.parallel\n",
    "from qutip.ipynbtools import parallel_map as ip_parallel_map\n",
    "result2 = smesolve(H, rho0, times, c_ops=c_ops, sc_ops=sc_ops, e_ops=e_ops, \n",
    "                   ntraj=ntraj, nsubsteps=100, method='photocurrent',\n",
    "                   store_measurement=True,\n",
    "                   options=Options(store_states=True),\n",
    "                   progress_bar=HTMLProgressBar(),\n",
    "                   map_func=ip_parallel_map)"
   ]
  },
  {
   "cell_type": "code",
   "execution_count": 14,
   "metadata": {},
   "outputs": [
    {
     "data": {
      "image/png": "[encoded data removed]",
      "text/plain": [
       "<Figure size 1152x576 with 6 Axes>"
      ]
     },
     "metadata": {
      "needs_background": "light"
     },
     "output_type": "display_data"
    }
   ],
   "source": [
    "fig, axes = plt.subplots(2, 3, figsize=(16, 8), sharex=True)\n",
    "\n",
    "axes[0,0].plot(times, result1.expect[0], label=r'Stochastic ME (ntraj = 1)', lw=2)\n",
    "axes[0,0].plot(times, result_ref.expect[0], label=r'Lindblad ME', lw=2)\n",
    "axes[0,0].set_title(\"Cavity photon number (ntraj = 1)\")\n",
    "axes[0,0].legend()\n",
    "\n",
    "axes[1,0].plot(times, result2.expect[0], label=r'Stochatic ME (ntraj = %d)' % ntraj, lw=2)\n",
    "axes[1,0].plot(times, result_ref.expect[0], label=r'Lindblad ME', lw=2)\n",
    "axes[1,0].set_title(\"Cavity photon number (ntraj = 10)\")\n",
    "axes[1,0].legend()\n",
    "\n",
    "\n",
    "axes[0,1].plot(times, result1.expect[2], label=r'Stochastic ME (ntraj = 1)', lw=2)\n",
    "axes[0,1].plot(times, result_ref.expect[2], label=r'Lindblad ME', lw=2)\n",
    "axes[0,1].set_title(\"Qubit excition probability (ntraj = 1)\")\n",
    "axes[0,1].legend()\n",
    "\n",
    "axes[1,1].plot(times, result2.expect[2], label=r'Stochatic ME (ntraj = %d)' % ntraj, lw=2)\n",
    "axes[1,1].plot(times, result_ref.expect[2], label=r'Lindblad ME', lw=2)\n",
    "axes[1,1].set_title(\"Qubit excition probability (ntraj = %d)\" % ntraj)\n",
    "axes[1,1].legend()\n",
    "\n",
    "\n",
    "axes[0,2].step(times, dt * np.cumsum(result1.measurement[0].real), lw=2)\n",
    "axes[0,2].set_title(\"Cummulative photon detections (ntraj = 1)\")\n",
    "axes[1,2].step(times, dt * np.cumsum(np.array(result2.measurement).sum(axis=0).real) / ntraj, lw=2)\n",
    "axes[1,2].set_title(\"Cummulative avg. photon detections (ntraj = %d)\" % ntraj)\n",
    "\n",
    "fig.tight_layout()"
   ]
  },
  {
   "cell_type": "markdown",
   "metadata": {},
   "source": [
    "## Versions"
   ]
  },
  {
   "cell_type": "code",
   "execution_count": 15,
   "metadata": {},
   "outputs": [
    {
     "data": {
      "text/html": [
       "<table><tr><th>Software</th><th>Version</th></tr><tr><td>QuTiP</td><td>4.4.0.dev0+1cf1dd3e</td></tr><tr><td>Numpy</td><td>1.16.0</td></tr><tr><td>SciPy</td><td>1.2.0</td></tr><tr><td>matplotlib</td><td>3.0.2</td></tr><tr><td>Cython</td><td>0.29.2</td></tr><tr><td>Number of CPUs</td><td>2</td></tr><tr><td>BLAS Info</td><td>OPENBLAS</td></tr><tr><td>IPython</td><td>7.2.0</td></tr><tr><td>Python</td><td>3.6.7 (default, Oct 22 2018, 11:32:17) \n",
       "[GCC 8.2.0]</td></tr><tr><td>OS</td><td>posix [linux]</td></tr><tr><td colspan='2'>Tue Jan 15 17:38:22 2019 JST</td></tr></table>"
      ],
      "text/plain": [
       "<IPython.core.display.HTML object>"
      ]
     },
     "execution_count": 15,
     "metadata": {},
     "output_type": "execute_result"
    }
   ],
   "source": [
    "from qutip.ipynbtools import version_table\n",
    "\n",
    "version_table()"
   ]
  }
 ],
 "metadata": {
  "kernelspec": {
   "display_name": "Python 3",
   "language": "python",
   "name": "python3"
  },
  "language_info": {
   "codemirror_mode": {
    "name": "ipython",
    "version": 3
   },
   "file_extension": ".py",
   "mimetype": "text/x-python",
   "name": "python",
   "nbconvert_exporter": "python",
   "pygments_lexer": "ipython3",
   "version": "3.6.7"
  }
 },
 "nbformat": 4,
 "nbformat_minor": 1
}
