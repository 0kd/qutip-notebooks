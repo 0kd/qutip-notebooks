{
 "metadata": {
  "name": "",
  "signature": "sha256:73518d7f92da1a7ac59417e973dc6620025d63efe149cae91538f8f1bfb5005b"
 },
 "nbformat": 3,
 "nbformat_minor": 0,
 "worksheets": [
  {
   "cells": [
    {
     "cell_type": "code",
     "collapsed": false,
     "input": [
      "from IPython.core.display import HTML\n",
      "def css_styling():\n",
      "    styles = open(\"styles/style.css\", \"r\").read()\n",
      "    return HTML(styles)\n",
      "css_styling()"
     ],
     "language": "python",
     "metadata": {},
     "outputs": [
      {
       "html": [
        "<style>\n",
        "@import url('http://fonts.googleapis.com/css?family=Source+Sans+Pro');\n",
        "@import url('http://fonts.googleapis.com/css?family=Source+Code+Pro');\n",
        "\n",
        "body {\n",
        "    -webkit-font-smoothing: antialiased;\n",
        "    font-family: \"Source Sans Pro\", Helvetica, Arial, Verdana, sans-serif;\n",
        "}\n",
        "\n",
        "\n",
        "div.cell{\n",
        "    width:768px;\n",
        "    margin-left:10% !important;\n",
        "    margin-right:auto;\n",
        "}\n",
        "h1 {\n",
        "    font-family: \"Source Sans Pro\", ,Helvetica, Arial, serif;\n",
        "}\n",
        "h4{\n",
        "    font-family: \"Source Sans Pro\", Helvetica, Arial, serif;\n",
        "\tmargin-top:12px;\n",
        "    margin-bottom: 3px;\n",
        "   }\n",
        "div.text_cell_render{\n",
        "    font-family: \"Source Sans Pro\", Helvetica, Arial, sans-serif;\n",
        "    line-height: 125%;\n",
        "    font-size: 110%;\n",
        "    width:768px;\n",
        "    margin-left:auto;\n",
        "    margin-right:auto;\n",
        "}\n",
        ".CodeMirror{\n",
        "        font-family: \"Source Code Pro\", source-code-pro, Consolas, monospace;\n",
        "}\n",
        ".prompt{\n",
        "    display: None;\n",
        "}\n",
        ".text_cell_render h5 {\n",
        "    font-family: \"Source Sans Pro\", Helvetica, Arial, serif;\n",
        "    font-size: 20pt;\n",
        "    color: #0001E0;\n",
        "    margin-bottom: .5em;\n",
        "    margin-top: 0.5em;\n",
        "    display: block;\n",
        "}\n",
        "\n",
        ".warning{\n",
        "    color: rgb( 240, 20, 20 )\n",
        "    }  \n",
        "\n",
        "a {\n",
        "    color: #0D68AE;\n",
        "    text-decoration: none;\n",
        "    -webkit-transition: color 0.2s ease-in-out;\n",
        "    -moz-transition: color 0.2s ease-in-out;\n",
        "    -o-transition: color 0.2s ease-in-out;\n",
        "    -ms-transition: color 0.2s ease-in-out;\n",
        "    transition: color 0.2s ease-in-out;\n",
        "}\n",
        "a:hover {\n",
        "    color: #54ABE0;\n",
        "}\n",
        "\n",
        "table {\n",
        "    border: 0px solid rgba(0, 0, 0, 0.25);\n",
        "    border-collapse: collapse;\n",
        "    display: table;\n",
        "    empty-cells: hide;\n",
        "    margin: -1px 0 1.3125em;\n",
        "    padding: 0;\n",
        "    table-layout: fixed;\n",
        "}\n",
        "caption {\n",
        "    display: table-caption;\n",
        "    font-weight: 700;\n",
        "}\n",
        "col {\n",
        "    display: table-column;\n",
        "}\n",
        "colgroup {\n",
        "    display: table-column-group;\n",
        "}\n",
        "tbody {\n",
        "    display: table-row-group;\n",
        "}\n",
        "tfoot {\n",
        "    display: table-footer-group;\n",
        "}\n",
        "thead {\n",
        "    display: table-header-group;\n",
        "}\n",
        "td, th {\n",
        "    display: table-cell;\n",
        "}\n",
        "tr {\n",
        "    display: table-row;\n",
        "}\n",
        "table th, table td {\n",
        "    font-size: 1.1em;\n",
        "    line-height: 23px;\n",
        "    padding: 0 1em;\n",
        "}\n",
        "table thead {\n",
        "    background: rgba(0, 0, 0, 0.15);\n",
        "    border: 0px solid rgba(0, 0, 0, 0.15);\n",
        "    border-bottom: 0px solid rgba(0, 0, 0, 0.2);\n",
        "}\n",
        "table tbody {\n",
        "    background: #FFFFFF;\n",
        "}\n",
        "table tfoot {\n",
        "    background: rgba(0, 0, 0, 0.15);\n",
        "    border: 0px solid rgba(0, 0, 0, 0.15);\n",
        "    border-top: 0px solid rgba(0, 0, 0, 0.2);\n",
        "}\n",
        "\n",
        "figure {\n",
        "    display: inline-block;\n",
        "    position: relative;\n",
        "    margin: 1em 0 2em;\n",
        "}\n",
        "figcaption {\n",
        "    font-style: italic;\n",
        "    text-align: center;\n",
        "    background: white;\n",
        "    color: #666;\n",
        "    position: absolute;\n",
        "    left: 0;\n",
        "    bottom: -24px;\n",
        "    width: 98%;\n",
        "    padding: 1%;\n",
        "    -webkit-transition: all 0.2s ease-in-out;\n",
        "    -moz-transition: all 0.2s ease-in-out;\n",
        "    -o-transition: all 0.2s ease-in-out;\n",
        "    -ms-transition: all 0.2s ease-in-out;\n",
        "    transition: all 0.2s ease-in-out;\n",
        "}\n",
        "\n",
        "\n",
        "</style>\n",
        "\n",
        "<script>\n",
        "    MathJax.Hub.Config({\n",
        "                        TeX: {equationNumbers: { autoNumber: \"AMS\" },  \n",
        "                           extensions: [\"AMSmath.js\"]\n",
        "                           },\n",
        "                tex2jax: {\n",
        "                    inlineMath: [ ['$','$'], [\"\\\\(\",\"\\\\)\"] ],\n",
        "                    displayMath: [ ['$$','$$'], [\"\\\\[\",\"\\\\]\"] ]\n",
        "                },\n",
        "                displayAlign: 'center', // Change this to 'center' to center equations.\n",
        "                \"HTML-CSS\": {\n",
        "                    styles: {'.MathJax_Display': {\"margin\": 4}}\n",
        "                }\n",
        "        });\n",
        "</script>\n"
       ],
       "metadata": {},
       "output_type": "pyout",
       "prompt_number": 28,
       "text": [
        "<IPython.core.display.HTML at 0x1089f0a20>"
       ]
      }
     ],
     "prompt_number": 28
    },
    {
     "cell_type": "code",
     "collapsed": false,
     "input": [
      "%pylab inline"
     ],
     "language": "python",
     "metadata": {
      "slideshow": {
       "slide_type": "skip"
      }
     },
     "outputs": [
      {
       "output_type": "stream",
       "stream": "stdout",
       "text": [
        "Populating the interactive namespace from numpy and matplotlib\n"
       ]
      }
     ],
     "prompt_number": 10
    },
    {
     "cell_type": "heading",
     "level": 1,
     "metadata": {},
     "source": [
      "Brief Python Language Tutorial"
     ]
    },
    {
     "cell_type": "markdown",
     "metadata": {},
     "source": [
      "P.D. Nation and J.R. Johansson\n",
      "\n",
      "For more information about QuTiP see [http://qutip.org](http://qutip.org)"
     ]
    },
    {
     "cell_type": "heading",
     "level": 2,
     "metadata": {},
     "source": [
      "Using Python For Simple Calculations"
     ]
    },
    {
     "cell_type": "markdown",
     "metadata": {
      "slideshow": {
       "slide_type": "slide"
      }
     },
     "source": [
      "As a first step, lets try to use the interactive Python command line tool **iPython** as a basic calculator.  Addition, subtraction, and multiplication, all work in the same way as you would write the equations down on paper"
     ]
    },
    {
     "cell_type": "code",
     "collapsed": false,
     "input": [
      "10+5"
     ],
     "language": "python",
     "metadata": {
      "slideshow": {
       "slide_type": "-"
      }
     },
     "outputs": [
      {
       "metadata": {},
       "output_type": "pyout",
       "prompt_number": 11,
       "text": [
        "15"
       ]
      }
     ],
     "prompt_number": 11
    },
    {
     "cell_type": "code",
     "collapsed": false,
     "input": [
      "10-157"
     ],
     "language": "python",
     "metadata": {},
     "outputs": [
      {
       "metadata": {},
       "output_type": "pyout",
       "prompt_number": 12,
       "text": [
        "-147"
       ]
      }
     ],
     "prompt_number": 12
    },
    {
     "cell_type": "code",
     "collapsed": false,
     "input": [
      "4/3"
     ],
     "language": "python",
     "metadata": {
      "slideshow": {
       "slide_type": "-"
      }
     },
     "outputs": [
      {
       "metadata": {},
       "output_type": "pyout",
       "prompt_number": 13,
       "text": [
        "1.3333333333333333"
       ]
      }
     ],
     "prompt_number": 13
    },
    {
     "cell_type": "code",
     "collapsed": false,
     "input": [
      "(50-4)*10/5"
     ],
     "language": "python",
     "metadata": {
      "slideshow": {
       "slide_type": "-"
      }
     },
     "outputs": [
      {
       "metadata": {},
       "output_type": "pyout",
       "prompt_number": 14,
       "text": [
        "92.0"
       ]
      }
     ],
     "prompt_number": 14
    },
    {
     "cell_type": "markdown",
     "metadata": {
      "slideshow": {
       "slide_type": "slide"
      }
     },
     "source": [
      "However, things like raising a number to a power, $4^{4}$, are written differently."
     ]
    },
    {
     "cell_type": "code",
     "collapsed": false,
     "input": [
      "4**4"
     ],
     "language": "python",
     "metadata": {
      "slideshow": {
       "slide_type": "-"
      }
     },
     "outputs": [
      {
       "metadata": {},
       "output_type": "pyout",
       "prompt_number": 15,
       "text": [
        "256"
       ]
      }
     ],
     "prompt_number": 15
    },
    {
     "cell_type": "markdown",
     "metadata": {
      "slideshow": {
       "slide_type": "-"
      }
     },
     "source": [
      "We could also express this in the mathematically equivalent way as $4^{4.0}$.  However, inside of the computer, the result is not treated the same as the above answer."
     ]
    },
    {
     "cell_type": "code",
     "collapsed": false,
     "input": [
      "4**4.0"
     ],
     "language": "python",
     "metadata": {
      "slideshow": {
       "slide_type": "-"
      }
     },
     "outputs": [
      {
       "metadata": {},
       "output_type": "pyout",
       "prompt_number": 16,
       "text": [
        "256.0"
       ]
      }
     ],
     "prompt_number": 16
    },
    {
     "cell_type": "heading",
     "level": 2,
     "metadata": {},
     "source": [
      "Integers vs. Floating Point Numbers"
     ]
    },
    {
     "cell_type": "markdown",
     "metadata": {
      "slideshow": {
       "slide_type": "-"
      }
     },
     "source": [
      "All information stored in a computer must be represented in a binary format consisting of zeros and ones (e.g. $461\\rightarrow 111001101$).  Each zero or one is called a **bit**, and given $N$ bits, one can store all of the integers in the range $[0,2^{N-1}]$, where the $-1$ is due to the fact that the first bit is reserved for defining if a number is positive or negative   \n",
      "\n",
      "However, given a fixed number of bits, it is impossible to store an arbitrary number exactly.  Therefore, if one is given a random number, unless the number is exactly divisible by a factor of two, the conversion between the random number and the binary bit representation ultimately leads to a loss of precision, and what is known as **roundoff error**.\n"
     ]
    },
    {
     "cell_type": "markdown",
     "metadata": {
      "slideshow": {
       "slide_type": "slide"
      }
     },
     "source": [
      "When dealing with numbers inside a computer there are two distinct types of numbers to consider:\n",
      "\n",
      "\n",
      "- **Integers** - (1,2,4,-586,..) Are what are called **fixed-point numbers**, where the term fixed-point means that there is a fixed number of decimal places in the number (zero for integers).  These numbers can be stored exactly in a computer.\n",
      "\n",
      "\n",
      "- **Doubles/Floats** - (3.141,0.21,-0.1,..) These are **floating-point numbers** that are the binary equivalent to scientific notation $c=2.99792458\\times 10^{8}$.  Doubles (also called double-precision numbers) are floating point numbers that are written using 64-bits and, in general, are only accurate to the 15th or 16th decimal place.  Floats (or single-precision numbers) use 32-bits, and are good to 6-7 decimal places.  **Serious scientific calculations always require a combination of integers and double (64-bit) numbers**."
     ]
    },
    {
     "cell_type": "code",
     "collapsed": false,
     "input": [
      "7+0.000000000000001"
     ],
     "language": "python",
     "metadata": {
      "slideshow": {
       "slide_type": "-"
      }
     },
     "outputs": [
      {
       "metadata": {},
       "output_type": "pyout",
       "prompt_number": 17,
       "text": [
        "7.000000000000001"
       ]
      }
     ],
     "prompt_number": 17
    },
    {
     "cell_type": "code",
     "collapsed": false,
     "input": [
      "7+0.0000000000000001"
     ],
     "language": "python",
     "metadata": {
      "slideshow": {
       "slide_type": "-"
      }
     },
     "outputs": [
      {
       "metadata": {},
       "output_type": "pyout",
       "prompt_number": 18,
       "text": [
        "7.0"
       ]
      }
     ],
     "prompt_number": 18
    },
    {
     "cell_type": "code",
     "collapsed": false,
     "input": [
      "0.1+0.2"
     ],
     "language": "python",
     "metadata": {
      "slideshow": {
       "slide_type": "-"
      }
     },
     "outputs": [
      {
       "metadata": {},
       "output_type": "pyout",
       "prompt_number": 19,
       "text": [
        "0.30000000000000004"
       ]
      }
     ],
     "prompt_number": 19
    },
    {
     "cell_type": "markdown",
     "metadata": {
      "slideshow": {
       "slide_type": "slide"
      }
     },
     "source": [
      "This last example clearly highlights the fact that the computer does not store decimal (floating-point) numbers exactly.  The loss of precision in floating-point numbers can be characterized by the **machine precision**, $\\epsilon_{\\rm m}$, that is defined to be the smallest positive number such that \n",
      "\n",
      "$$1_{\\rm c}+\\epsilon_{\\rm m}\\neq 1_{\\rm c}$$\n",
      "\n",
      "where the subscript on $1_{\\rm c}$ is meant to remind you that this is a computer number.  Therefore, for any arbitrary number $N$ is related to its floating-point equivalent $N_{\\rm c}$ by\n",
      "\n",
      "$$N_{\\rm c}=N\\pm \\epsilon, \\ \\ \\forall~|\\epsilon|< \\epsilon_{\\rm m}.$$\n",
      "\n",
      "**Take Home Message** - All double-precision decimal numbers that are not factors of two will have error in the 15th decimal place.  This can lead to errors in your numerical solutions if you are not careful."
     ]
    },
    {
     "cell_type": "heading",
     "level": 2,
     "metadata": {},
     "source": [
      "Making Python Smarter Using NumPy"
     ]
    },
    {
     "cell_type": "markdown",
     "metadata": {
      "slideshow": {
       "slide_type": "slide"
      }
     },
     "source": [
      "Python itself as limited support for mathematics outside of simple arithmetic.  Therefore, we will use the functions in the NumPy module to do more impressive, and faster, calculations.  To load many, but not all, of the functions in NumPy we run the following command"
     ]
    },
    {
     "cell_type": "code",
     "collapsed": false,
     "input": [
      "from numpy import *"
     ],
     "language": "python",
     "metadata": {
      "slideshow": {
       "slide_type": "-"
      }
     },
     "outputs": [],
     "prompt_number": 20
    },
    {
     "cell_type": "markdown",
     "metadata": {
      "slideshow": {
       "slide_type": "-"
      }
     },
     "source": [
      "Here we are asking Python to get all of the basic functions (this is what * means) from the NumPy module.  We can now do more impressive calculations:"
     ]
    },
    {
     "cell_type": "code",
     "collapsed": false,
     "input": [
      "exp(2.34)"
     ],
     "language": "python",
     "metadata": {
      "slideshow": {
       "slide_type": "-"
      }
     },
     "outputs": [
      {
       "metadata": {},
       "output_type": "pyout",
       "prompt_number": 21,
       "text": [
        "10.381236562731843"
       ]
      }
     ],
     "prompt_number": 21
    },
    {
     "cell_type": "code",
     "collapsed": false,
     "input": [
      "sqrt(5)"
     ],
     "language": "python",
     "metadata": {
      "slideshow": {
       "slide_type": "-"
      }
     },
     "outputs": [
      {
       "metadata": {},
       "output_type": "pyout",
       "prompt_number": 22,
       "text": [
        "2.2360679774997898"
       ]
      }
     ],
     "prompt_number": 22
    },
    {
     "cell_type": "code",
     "collapsed": false,
     "input": [
      "sinc(0.5)"
     ],
     "language": "python",
     "metadata": {
      "slideshow": {
       "slide_type": "-"
      }
     },
     "outputs": [
      {
       "metadata": {},
       "output_type": "pyout",
       "prompt_number": 23,
       "text": [
        "0.63661977236758138"
       ]
      }
     ],
     "prompt_number": 23
    },
    {
     "cell_type": "heading",
     "level": 2,
     "metadata": {},
     "source": [
      "Variables"
     ]
    },
    {
     "cell_type": "markdown",
     "metadata": {
      "slideshow": {
       "slide_type": "slide"
      }
     },
     "source": [
      "If we want to be able to store the numbers and results from our calculations then we must define variables using the \"=\" sign:"
     ]
    },
    {
     "cell_type": "code",
     "collapsed": false,
     "input": [
      "radius=5\n",
      "area=pi*radius**2\n",
      "area"
     ],
     "language": "python",
     "metadata": {
      "slideshow": {
       "slide_type": "-"
      }
     },
     "outputs": [
      {
       "metadata": {},
       "output_type": "pyout",
       "prompt_number": 24,
       "text": [
        "78.53981633974483"
       ]
      }
     ],
     "prompt_number": 24
    },
    {
     "cell_type": "markdown",
     "metadata": {
      "slideshow": {
       "slide_type": "-"
      }
     },
     "source": [
      "We see that our variables name is defined on the left of the ```=``` sign and the value its given is defined on the right.  Here we have also used the ```pi``` variable that has been predefined by NumPy.  Variables can then be used in other expressions.  \n",
      "\n",
      "If a predefined variable is again used on the left side of ```=``` then its original value is replaced."
     ]
    },
    {
     "cell_type": "code",
     "collapsed": false,
     "input": [
      "x=10\n",
      "x=(x**2+25)/10\n",
      "x"
     ],
     "language": "python",
     "metadata": {
      "slideshow": {
       "slide_type": "-"
      }
     },
     "outputs": [
      {
       "metadata": {},
       "output_type": "pyout",
       "prompt_number": 25,
       "text": [
        "12.5"
       ]
      }
     ],
     "prompt_number": 25
    },
    {
     "cell_type": "markdown",
     "metadata": {
      "slideshow": {
       "slide_type": "-"
      }
     },
     "source": [
      "This is different than the mathematical equation $10x=x^{2}+25$  which has the solution $x=5$.  Therefore, it is important to remember that the ```=``` sign in a computer program is **not** equivalent to the mathematical equality. "
     ]
    },
    {
     "cell_type": "markdown",
     "metadata": {
      "slideshow": {
       "slide_type": "slide"
      }
     },
     "source": [
      "What happens if you try to use a variable without first defining it?  Lets try it:"
     ]
    },
    {
     "cell_type": "code",
     "collapsed": false,
     "input": [
      "weight"
     ],
     "language": "python",
     "metadata": {
      "slideshow": {
       "slide_type": "-"
      }
     },
     "outputs": [
      {
       "ename": "NameError",
       "evalue": "name 'weight' is not defined",
       "output_type": "pyerr",
       "traceback": [
        "\u001b[0;31m---------------------------------------------------------------------------\u001b[0m\n\u001b[0;31mNameError\u001b[0m                                 Traceback (most recent call last)",
        "\u001b[0;32m<ipython-input-26-4b1dcb7209a7>\u001b[0m in \u001b[0;36m<module>\u001b[0;34m()\u001b[0m\n\u001b[0;32m----> 1\u001b[0;31m \u001b[0mweight\u001b[0m\u001b[0;34m\u001b[0m\u001b[0m\n\u001b[0m",
        "\u001b[0;31mNameError\u001b[0m: name 'weight' is not defined"
       ]
      }
     ],
     "prompt_number": 26
    },
    {
     "cell_type": "markdown",
     "metadata": {
      "slideshow": {
       "slide_type": "-"
      }
     },
     "source": [
      "Python gives us an error that \"weight\" is not defined.  In addition, there are several words that are reserved by the Python language and cannot be used as variables:\n",
      "\n",
      "    and, as, assert, break, class, continue, def, del, elif, else, except, \n",
      "    exec, finally, for, from, global, if, import, in, is, lambda, not, or,\n",
      "    pass, print, raise, return, try, while, with, yield\n",
      "    \n",
      "Other than the above reserved words, your variables can be anything that starts with a letter or the underscore character \"$\\_$\" preceded by any combination of alphanumeric characters and \"$\\_$\".  Note that using upper or lower case letters will give you two different variables."
     ]
    },
    {
     "cell_type": "code",
     "collapsed": false,
     "input": [
      "_freq=8\n",
      "Oscillator_Energy=10\n",
      "_freq*Oscillator_Energy"
     ],
     "language": "python",
     "metadata": {
      "slideshow": {
       "slide_type": "-"
      }
     },
     "outputs": []
    },
    {
     "cell_type": "heading",
     "level": 3,
     "metadata": {},
     "source": [
      "Some Rules About Variables"
     ]
    },
    {
     "cell_type": "markdown",
     "metadata": {
      "slideshow": {
       "slide_type": "slide"
      }
     },
     "source": [
      "Although there are many ways to define variables in Python, it is best to try to define your variables in all the same way.  In this class, all of our variables will use only lower case characters. \n"
     ]
    },
    {
     "cell_type": "code",
     "collapsed": false,
     "input": [
      "speed_of_light=2.9979*10**8\n",
      "spring_constant=sqrt(2/5)"
     ],
     "language": "python",
     "metadata": {
      "slideshow": {
       "slide_type": "-"
      }
     },
     "outputs": []
    },
    {
     "cell_type": "markdown",
     "metadata": {
      "slideshow": {
       "slide_type": "-"
      }
     },
     "source": [
      "It is also good practice to use variable names that correspond to the physical quantity that the variable represents."
     ]
    },
    {
     "cell_type": "heading",
     "level": 2,
     "metadata": {},
     "source": [
      "Strings"
     ]
    },
    {
     "cell_type": "markdown",
     "metadata": {
      "slideshow": {
       "slide_type": "slide"
      }
     },
     "source": [
      "Often times we want to print some text along with our variables, ask the user for input, or actually use the words and letters themselves as variables (e.g. in DNA analysis).  All of these can be accomplished using **strings**.  We have already seen one string already in this class: "
     ]
    },
    {
     "cell_type": "code",
     "collapsed": false,
     "input": [
      "'Hello Class'"
     ],
     "language": "python",
     "metadata": {
      "slideshow": {
       "slide_type": "-"
      }
     },
     "outputs": []
    },
    {
     "cell_type": "markdown",
     "metadata": {
      "slideshow": {
       "slide_type": "-"
      }
     },
     "source": [
      "We can also use double quotes"
     ]
    },
    {
     "cell_type": "code",
     "collapsed": false,
     "input": [
      "\"Hello Class\""
     ],
     "language": "python",
     "metadata": {
      "slideshow": {
       "slide_type": "-"
      }
     },
     "outputs": []
    },
    {
     "cell_type": "markdown",
     "metadata": {
      "slideshow": {
       "slide_type": "-"
      }
     },
     "source": [
      "If we want to use the quote symbol in the string itself then we need to mix the two types "
     ]
    },
    {
     "cell_type": "code",
     "collapsed": false,
     "input": [
      "\"How was Hwajung's birthday party?\""
     ],
     "language": "python",
     "metadata": {
      "slideshow": {
       "slide_type": "-"
      }
     },
     "outputs": []
    },
    {
     "cell_type": "markdown",
     "metadata": {
      "slideshow": {
       "slide_type": "slide"
      }
     },
     "source": [
      "Just like we did with integers and doubles, we can assign a string to a variable, and we can even add two strings together."
     ]
    },
    {
     "cell_type": "code",
     "collapsed": false,
     "input": [
      "a=\"I like \" # There is a blank space at the end of this string.\n",
      "b=\"chicken and HOF\"\n",
      "a+b"
     ],
     "language": "python",
     "metadata": {
      "slideshow": {
       "slide_type": "-"
      }
     },
     "outputs": []
    },
    {
     "cell_type": "markdown",
     "metadata": {
      "slideshow": {
       "slide_type": "-"
      }
     },
     "source": [
      "Notice the blank space at the end of the string in variable \"a\" provides spacing between \"like\" and \"chicken\"."
     ]
    },
    {
     "cell_type": "markdown",
     "metadata": {
      "slideshow": {
       "slide_type": "-"
      }
     },
     "source": [
      "If we want to print out stuff, including strings and integers or doubles together, then we can use the builtin ```print``` function to accomplish this"
     ]
    },
    {
     "cell_type": "code",
     "collapsed": false,
     "input": [
      "temp=23\n",
      "text=\"The temperature right now is\"\n",
      "print(text,temp)"
     ],
     "language": "python",
     "metadata": {
      "slideshow": {
       "slide_type": "-"
      }
     },
     "outputs": []
    },
    {
     "cell_type": "markdown",
     "metadata": {
      "slideshow": {
       "slide_type": "-"
      }
     },
     "source": [
      "Notice how the print function automatically puts a space between the the two input arguments.  The ```print``` function automatically takes any number of string, integer, double, or other variables, converts them into strings, and then prints them for the user."
     ]
    },
    {
     "cell_type": "heading",
     "level": 2,
     "metadata": {},
     "source": [
      "Lists"
     ]
    },
    {
     "cell_type": "markdown",
     "metadata": {
      "slideshow": {
       "slide_type": "slide"
      }
     },
     "source": [
      "Often times we will want to group many variables together into one object.  In Python this is accomplished by using a **```list```** datatype variable."
     ]
    },
    {
     "cell_type": "code",
     "collapsed": false,
     "input": [
      "shopping_list=['eggs', 'bread', 'milk', 'bananas']"
     ],
     "language": "python",
     "metadata": {
      "slideshow": {
       "slide_type": "-"
      }
     },
     "outputs": []
    },
    {
     "cell_type": "markdown",
     "metadata": {
      "slideshow": {
       "slide_type": "-"
      }
     },
     "source": [
      "If we want to access a single variable inside of the list, then we need to use the **index** that corresponds to the variable inside of square brackets."
     ]
    },
    {
     "cell_type": "code",
     "collapsed": false,
     "input": [
      "shopping_list[2]"
     ],
     "language": "python",
     "metadata": {
      "slideshow": {
       "slide_type": "-"
      }
     },
     "outputs": []
    },
    {
     "cell_type": "markdown",
     "metadata": {
      "slideshow": {
       "slide_type": "-"
      }
     },
     "source": [
      "We see that the \"milk\" string can be accessed using the index number $2$.  However, we can see that this variable is actually the third string in the list.  This discrepancy is due to the fact that Python (like C-code) considers the first element in a list, or other multivariable data structures, to be at index $0$."
     ]
    },
    {
     "cell_type": "code",
     "collapsed": false,
     "input": [
      "shopping_list[0]"
     ],
     "language": "python",
     "metadata": {
      "slideshow": {
       "slide_type": "-"
      }
     },
     "outputs": []
    },
    {
     "cell_type": "markdown",
     "metadata": {
      "slideshow": {
       "slide_type": "-"
      }
     },
     "source": [
      "This is important to remember, and will take some getting used to before it becomes natural.  If we want to access the elements of the list from back to front, we can use negative indices"
     ]
    },
    {
     "cell_type": "code",
     "collapsed": false,
     "input": [
      "shopping_list[-1]"
     ],
     "language": "python",
     "metadata": {
      "slideshow": {
       "slide_type": "-"
      }
     },
     "outputs": []
    },
    {
     "cell_type": "code",
     "collapsed": false,
     "input": [
      "shopping_list[-2]"
     ],
     "language": "python",
     "metadata": {
      "slideshow": {
       "slide_type": "-"
      }
     },
     "outputs": []
    },
    {
     "cell_type": "markdown",
     "metadata": {
      "slideshow": {
       "slide_type": "slide"
      }
     },
     "source": [
      "If we are given a list variable and we want to known how many elements are inside of the list, then we can use the ```len``` function that returns an integer giving the length of the list."
     ]
    },
    {
     "cell_type": "code",
     "collapsed": false,
     "input": [
      "len(shopping_list)"
     ],
     "language": "python",
     "metadata": {
      "slideshow": {
       "slide_type": "-"
      }
     },
     "outputs": []
    },
    {
     "cell_type": "markdown",
     "metadata": {
      "slideshow": {
       "slide_type": "-"
      }
     },
     "source": [
      "If we want to change the length of the list by adding or removing elements, then we can use ```append``` and ```remove```, respectively."
     ]
    },
    {
     "cell_type": "code",
     "collapsed": false,
     "input": [
      "shopping_list.append('apples')\n",
      "shopping_list"
     ],
     "language": "python",
     "metadata": {
      "slideshow": {
       "slide_type": "-"
      }
     },
     "outputs": []
    },
    {
     "cell_type": "code",
     "collapsed": false,
     "input": [
      "shopping_list.remove('bread')\n",
      "shopping_list"
     ],
     "language": "python",
     "metadata": {
      "slideshow": {
       "slide_type": "-"
      }
     },
     "outputs": []
    },
    {
     "cell_type": "markdown",
     "metadata": {
      "slideshow": {
       "slide_type": "slide"
      }
     },
     "source": [
      "Note that lists to not have to have the same type of data in each element!  You can mix any data types you want."
     ]
    },
    {
     "cell_type": "code",
     "collapsed": false,
     "input": [
      "various_things=[1, \"hello\", -1.234, [-1, -2, -3]]\n",
      "various_things"
     ],
     "language": "python",
     "metadata": {
      "slideshow": {
       "slide_type": "-"
      }
     },
     "outputs": []
    },
    {
     "cell_type": "markdown",
     "metadata": {
      "slideshow": {
       "slide_type": "-"
      }
     },
     "source": [
      "All of these elements can be accessed in the usual way"
     ]
    },
    {
     "cell_type": "code",
     "collapsed": false,
     "input": [
      "various_things[0]"
     ],
     "language": "python",
     "metadata": {
      "slideshow": {
       "slide_type": "-"
      }
     },
     "outputs": []
    },
    {
     "cell_type": "code",
     "collapsed": false,
     "input": [
      "various_things[-1]"
     ],
     "language": "python",
     "metadata": {
      "slideshow": {
       "slide_type": "-"
      }
     },
     "outputs": []
    },
    {
     "cell_type": "code",
     "collapsed": false,
     "input": [
      "various_things[3][1]"
     ],
     "language": "python",
     "metadata": {
      "slideshow": {
       "slide_type": "-"
      }
     },
     "outputs": []
    },
    {
     "cell_type": "heading",
     "level": 2,
     "metadata": {},
     "source": [
      "Iterating Through Lists and Python Indention Rules"
     ]
    },
    {
     "cell_type": "markdown",
     "metadata": {
      "slideshow": {
       "slide_type": "slide"
      }
     },
     "source": [
      "One of the most important reasons for using lists is because one often wants to do the same type of manipulation on each of the elements one at a time.  Going through a list in this fashion is called **iteration** and is accomplished in Python using the ```for``` command: "
     ]
    },
    {
     "cell_type": "code",
     "collapsed": false,
     "input": [
      "items=['four calling birds', 'three french hens', \n",
      "        'two turtle doves', 'a partridge in a pear tree']\n",
      "for thing in items:\n",
      "    print(thing)"
     ],
     "language": "python",
     "metadata": {
      "slideshow": {
       "slide_type": "-"
      }
     },
     "outputs": []
    },
    {
     "cell_type": "markdown",
     "metadata": {
      "slideshow": {
       "slide_type": "-"
      }
     },
     "source": [
      "Here, \"thing\" is a variable that takes the value of each item in the list \"items\" and then gets sent to the ```print``` function.  We are free to call this variable anything we want.  "
     ]
    },
    {
     "cell_type": "code",
     "collapsed": false,
     "input": [
      "for variable in items:\n",
      "    print(variable)"
     ],
     "language": "python",
     "metadata": {
      "slideshow": {
       "slide_type": "-"
      }
     },
     "outputs": []
    },
    {
     "cell_type": "markdown",
     "metadata": {
      "slideshow": {
       "slide_type": "slide"
      }
     },
     "source": [
      "The next important thing to notice is that after the colon \":\" the print statement is indented.  This indention after a colon is required in the Python programming langage and represents a section of the code called a **block**.  If we did not intent the print function then Python would yell at us. "
     ]
    },
    {
     "cell_type": "code",
     "collapsed": false,
     "input": [
      "for variable in items:\n",
      "print(variable)"
     ],
     "language": "python",
     "metadata": {
      "slideshow": {
       "slide_type": "-"
      }
     },
     "outputs": []
    },
    {
     "cell_type": "markdown",
     "metadata": {
      "slideshow": {
       "slide_type": "-"
      }
     },
     "source": [
      "Blocks are a standard part of any programming language and are used for organization and flow-control in computer code.  Anything that is indented in the above example will be run for each item in the list"
     ]
    },
    {
     "cell_type": "code",
     "collapsed": false,
     "input": [
      "for variable in items:\n",
      "    print(\"My true love gave to me\", variable)"
     ],
     "language": "python",
     "metadata": {
      "slideshow": {
       "slide_type": "-"
      }
     },
     "outputs": []
    },
    {
     "cell_type": "heading",
     "level": 2,
     "metadata": {},
     "source": [
      "Slicing Lists"
     ]
    },
    {
     "cell_type": "markdown",
     "metadata": {
      "slideshow": {
       "slide_type": "slide"
      }
     },
     "source": [
      "If we want to grab certain elements from a list we can make use of **slicing** to conveniently access the elements.  Slicing can be used on any **sequence** such as lists, strings, and as we will see shortly, arrays. Consider our ```shopping_list``` list:"
     ]
    },
    {
     "cell_type": "code",
     "collapsed": false,
     "input": [
      "shopping_list=['eggs', 'bread', 'milk', 'bananas', 'apples']"
     ],
     "language": "python",
     "metadata": {
      "slideshow": {
       "slide_type": "-"
      }
     },
     "outputs": []
    },
    {
     "cell_type": "markdown",
     "metadata": {
      "slideshow": {
       "slide_type": "-"
      }
     },
     "source": [
      "To get the first element we used a single index"
     ]
    },
    {
     "cell_type": "code",
     "collapsed": false,
     "input": [
      "shopping_list[0]"
     ],
     "language": "python",
     "metadata": {
      "slideshow": {
       "slide_type": "-"
      }
     },
     "outputs": []
    },
    {
     "cell_type": "markdown",
     "metadata": {
      "slideshow": {
       "slide_type": "-"
      }
     },
     "source": [
      "But if we want to get the first three elements in the list we can use: "
     ]
    },
    {
     "cell_type": "code",
     "collapsed": false,
     "input": [
      "shopping_list[0:3]"
     ],
     "language": "python",
     "metadata": {
      "slideshow": {
       "slide_type": "-"
      }
     },
     "outputs": []
    },
    {
     "cell_type": "markdown",
     "metadata": {
      "slideshow": {
       "slide_type": "-"
      }
     },
     "source": [
      "We could also grab the last two elements using:"
     ]
    },
    {
     "cell_type": "code",
     "collapsed": false,
     "input": [
      "shopping_list[-2:]"
     ],
     "language": "python",
     "metadata": {
      "slideshow": {
       "slide_type": "-"
      }
     },
     "outputs": []
    },
    {
     "cell_type": "markdown",
     "metadata": {
      "slideshow": {
       "slide_type": "-"
      }
     },
     "source": [
      "Or, we can get even more complex and grab all of the even number elements by using a third argument in the brackets that tells use the step size:"
     ]
    },
    {
     "cell_type": "code",
     "collapsed": false,
     "input": [
      "shopping_list[0::2]"
     ],
     "language": "python",
     "metadata": {
      "slideshow": {
       "slide_type": "-"
      }
     },
     "outputs": []
    },
    {
     "cell_type": "heading",
     "level": 2,
     "metadata": {},
     "source": [
      "Conditional Statements"
     ]
    },
    {
     "cell_type": "markdown",
     "metadata": {
      "slideshow": {
       "slide_type": "slide"
      }
     },
     "source": [
      "We have now seen a collection of data types (integers, doubles/floats, lists, strings) but we have yet to discuss how to compare two different variables.  For example, how do we check if two different integers $a$ and $b$ are equal?  Or how do we know if $a\\ge b$?  This is accomplished using **conditional statements**.  The basic operations in boolean logic are \"equal\" (```==```), \"not equal\" (```!=```), \"greater than\" (```>```), \"greater than or equal\" (```>=```), \"less than\" (```<```), and \"less than or equal\" (```<=```).  All of these conditionals operate on two variables and return a simple boolean ```True``` or ```False``` answer.  For example"
     ]
    },
    {
     "cell_type": "code",
     "collapsed": false,
     "input": [
      "a=5;b=8\n",
      "a>b"
     ],
     "language": "python",
     "metadata": {
      "slideshow": {
       "slide_type": "-"
      }
     },
     "outputs": []
    },
    {
     "cell_type": "code",
     "collapsed": false,
     "input": [
      "c=0\n",
      "c<=0,c>=0"
     ],
     "language": "python",
     "metadata": {
      "slideshow": {
       "slide_type": "-"
      }
     },
     "outputs": []
    },
    {
     "cell_type": "code",
     "collapsed": false,
     "input": [
      "a=5;b=6\n",
      "a==b,a!=b"
     ],
     "language": "python",
     "metadata": {
      "slideshow": {
       "slide_type": "-"
      }
     },
     "outputs": []
    },
    {
     "cell_type": "markdown",
     "metadata": {
      "slideshow": {
       "slide_type": "-"
      }
     },
     "source": [
      "It is important to point out that in Python ```1``` and ```0``` are the same as ```True``` and ```False```, respectively."
     ]
    },
    {
     "cell_type": "code",
     "collapsed": false,
     "input": [
      "True==1,False==0"
     ],
     "language": "python",
     "metadata": {
      "slideshow": {
       "slide_type": "-"
      }
     },
     "outputs": []
    },
    {
     "cell_type": "markdown",
     "metadata": {
      "slideshow": {
       "slide_type": "slide"
      }
     },
     "source": [
      "We can also combine multiple conditional statements"
     ]
    },
    {
     "cell_type": "code",
     "collapsed": false,
     "input": [
      "a=-1;b=4;c=10;d=11\n",
      "a<b<c!=d"
     ],
     "language": "python",
     "metadata": {
      "slideshow": {
       "slide_type": "-"
      }
     },
     "outputs": []
    },
    {
     "cell_type": "markdown",
     "metadata": {
      "slideshow": {
       "slide_type": "-"
      }
     },
     "source": [
      "These operations can also be used on lists and strings:"
     ]
    },
    {
     "cell_type": "code",
     "collapsed": false,
     "input": [
      "[4,5,6]>=[4,5,7]"
     ],
     "language": "python",
     "metadata": {
      "slideshow": {
       "slide_type": "-"
      }
     },
     "outputs": []
    },
    {
     "cell_type": "code",
     "collapsed": false,
     "input": [
      "[4,5,6]<=[4,5,7]"
     ],
     "language": "python",
     "metadata": {
      "slideshow": {
       "slide_type": "-"
      }
     },
     "outputs": []
    },
    {
     "cell_type": "code",
     "collapsed": false,
     "input": [
      "'today'=='Today'"
     ],
     "language": "python",
     "metadata": {
      "slideshow": {
       "slide_type": "-"
      }
     },
     "outputs": []
    },
    {
     "cell_type": "heading",
     "level": 3,
     "metadata": {},
     "source": [
      "Conditional Statements and Flow Control"
     ]
    },
    {
     "cell_type": "markdown",
     "metadata": {
      "slideshow": {
       "slide_type": "slide"
      }
     },
     "source": [
      "The main purpose of these conditional statements is to control the flow of a Python program.  The result of a conditional statement can be used to control a program using ```if/else``` and ```while``` statements."
     ]
    },
    {
     "cell_type": "code",
     "collapsed": false,
     "input": [
      "today='friday'\n",
      "if today=='friday':\n",
      "    print('We have class today :(') # this is a code block\n",
      "else:\n",
      "    print('No class today :)') # this is also a code block"
     ],
     "language": "python",
     "metadata": {
      "slideshow": {
       "slide_type": "-"
      }
     },
     "outputs": []
    },
    {
     "cell_type": "markdown",
     "metadata": {
      "slideshow": {
       "slide_type": "-"
      }
     },
     "source": [
      "The code block below the ```if``` statement is run only if the conditional ```today=='friday'``` returns ```True```.  If the conditional is ```False``` then the code block inside the ```else``` statement is run.  We can also check multiple conditions by using the ``elif`` statement after ```if```:"
     ]
    },
    {
     "cell_type": "code",
     "collapsed": false,
     "input": [
      "today='thursday'\n",
      "if today=='friday':\n",
      "    print('We have class today :(')\n",
      "elif today=='thursday':\n",
      "    print('Our assignment is due today :(')\n",
      "else:\n",
      "    print('No class today :)')"
     ],
     "language": "python",
     "metadata": {
      "slideshow": {
       "slide_type": "-"
      }
     },
     "outputs": []
    },
    {
     "cell_type": "markdown",
     "metadata": {
      "slideshow": {
       "slide_type": "slide"
      }
     },
     "source": [
      "The other important flow control expression is the **```while``` loop** that executes a block of code repeatedly until the conditional statement at the start of the loop is ```False```."
     ]
    },
    {
     "cell_type": "code",
     "collapsed": false,
     "input": [
      "n=0\n",
      "while n<=10: #evaluate code block until n>10\n",
      "    print('The current value of n is:',n)\n",
      "    n=n+1 #increase the value of n by 1"
     ],
     "language": "python",
     "metadata": {
      "slideshow": {
       "slide_type": "-"
      }
     },
     "outputs": []
    },
    {
     "cell_type": "markdown",
     "metadata": {
      "slideshow": {
       "slide_type": "-"
      }
     },
     "source": [
      "When using a ```while``` loop you must make sure the conditional is not ```True``` forever.  Otherwise your program will be in an **infinite loop** that never ends."
     ]
    },
    {
     "cell_type": "heading",
     "level": 3,
     "metadata": {},
     "source": [
      "Example: Even and Odd Numbers"
     ]
    },
    {
     "cell_type": "markdown",
     "metadata": {
      "slideshow": {
       "slide_type": "slide"
      }
     },
     "source": [
      "Let us determine whether a given number between [1,10] is an even or odd number."
     ]
    },
    {
     "cell_type": "code",
     "collapsed": false,
     "input": [
      "for n in [1,2,3,4,5,6,7,8,9,10]:\n",
      "    if remainder(n,2)==0:\n",
      "        print(n,'is even')\n",
      "    else:\n",
      "        print(n,'is odd')"
     ],
     "language": "python",
     "metadata": {
      "slideshow": {
       "slide_type": "-"
      }
     },
     "outputs": []
    },
    {
     "cell_type": "markdown",
     "metadata": {
      "slideshow": {
       "slide_type": "-"
      }
     },
     "source": [
      "Typing lists with a long sequence of integers is quite annoying.  Fortunately, Python has a builtin function called ```range``` that makes creating sequences of integers very easy.  For instance, the above example becomes"
     ]
    },
    {
     "cell_type": "code",
     "collapsed": false,
     "input": [
      "for n in range(1,11):\n",
      "    if remainder(n,2)==0:\n",
      "        print(n,'is even')\n",
      "    else:\n",
      "        print(n,'is odd')"
     ],
     "language": "python",
     "metadata": {
      "slideshow": {
       "slide_type": "slide"
      }
     },
     "outputs": []
    },
    {
     "cell_type": "markdown",
     "metadata": {
      "slideshow": {
       "slide_type": "-"
      }
     },
     "source": [
      "Notice how the range function only counts to $10$ even though the range goes to $11$.  The endpoint is *never* part of the generated sequence when using ```range```.  If we wanted the ```range``` function to start at zero instead of one we could simply write ```range(11)```.  We can also make sequences that go in arbitrary steps:"
     ]
    },
    {
     "cell_type": "code",
     "collapsed": false,
     "input": [
      "for n in range(0,11,2):\n",
      "    print(n)"
     ],
     "language": "python",
     "metadata": {
      "slideshow": {
       "slide_type": "-"
      }
     },
     "outputs": []
    },
    {
     "cell_type": "markdown",
     "metadata": {
      "slideshow": {
       "slide_type": "-"
      }
     },
     "source": [
      "The ```range``` function does not return a list of integers but is something called a **generator**.  In general, the ```range``` function should only be used in combination with the ```for``` command."
     ]
    },
    {
     "cell_type": "heading",
     "level": 3,
     "metadata": {},
     "source": [
      "Example: Fibonacci Sequence"
     ]
    },
    {
     "cell_type": "markdown",
     "metadata": {
      "slideshow": {
       "slide_type": "slide"
      }
     },
     "source": [
      "Let us follow the Python documentation and calculate the first ten numbers in the Fibonacci sequence:"
     ]
    },
    {
     "cell_type": "code",
     "collapsed": false,
     "input": [
      "n = 10\n",
      "fib = [0,1]\n",
      "for i in range(2,n):\n",
      "    fib.append(fib[i-1]+fib[i-2])\n",
      "print(fib)"
     ],
     "language": "python",
     "metadata": {
      "slideshow": {
       "slide_type": "-"
      }
     },
     "outputs": []
    },
    {
     "cell_type": "markdown",
     "metadata": {
      "slideshow": {
       "slide_type": "-"
      }
     },
     "source": [
      "We can also write this using a ```while``` loop if we wanted to."
     ]
    },
    {
     "cell_type": "code",
     "collapsed": false,
     "input": [
      "n = 2\n",
      "fib = [0,1]\n",
      "while n<10:\n",
      "    fib.append(fib[n-1]+fib[n-2])\n",
      "    n = n+1\n",
      "print(fib)"
     ],
     "language": "python",
     "metadata": {
      "slideshow": {
       "slide_type": "-"
      }
     },
     "outputs": []
    },
    {
     "cell_type": "heading",
     "level": 2,
     "metadata": {},
     "source": [
      "Writing Scripts and Functions"
     ]
    },
    {
     "cell_type": "markdown",
     "metadata": {
      "slideshow": {
       "slide_type": "slide"
      }
     },
     "source": [
      "Up until now we have been running little code snippets but have not really been doing any real programming.  Recall that Python is a scripting language.  Therefore, most of the time, we want to write **scripts** that contain a collection of constants, variables, data structures, functions, comments, etc., that perform various complicated tasks. "
     ]
    },
    {
     "cell_type": "heading",
     "level": 3,
     "metadata": {},
     "source": [
      " Scripts"
     ]
    },
    {
     "cell_type": "markdown",
     "metadata": {
      "slideshow": {
       "slide_type": "-"
      }
     },
     "source": [
      "A Python script file is nothing but a text file containing Python code that ends with a **.py** extension.  Python scripts are also called Python **programs**.  If we open up any editor, then we are given a blank window that we can enter our Python commands in."
     ]
    },
    {
     "cell_type": "markdown",
     "metadata": {
      "slideshow": {
       "slide_type": "slide"
      }
     },
     "source": [
      "Before we begin to write our scripts, lets first discuss the best format for writing your scripts."
     ]
    },
    {
     "cell_type": "code",
     "collapsed": false,
     "input": [
      "# This is an example script for the P461 class\n",
      "# Here we will calculate the series expansion\n",
      "# for sin(x) up to an arbitrary order N.\n",
      "#\n",
      "# Paul Nation, 02/03/2014\n",
      "\n",
      "from numpy import *\n",
      "from scipy.misc import factorial\n",
      "\n",
      "N = 5        # The order of the series expansion\n",
      "x = pi/4.    # The point at which we want to evaluate sine\n",
      "\n",
      "ans = 0.0\n",
      "for k in range(N+1):\n",
      "    ans = ans+(-1)**k*x**(1+2*k)/factorial(1+2*k)\n",
      "print(\"Series approximation:\",ans)\n",
      "print(\"Error:\",sin(x)-ans)"
     ],
     "language": "python",
     "metadata": {
      "slideshow": {
       "slide_type": "-"
      }
     },
     "outputs": []
    },
    {
     "cell_type": "markdown",
     "metadata": {
      "slideshow": {
       "slide_type": "-"
      }
     },
     "source": [
      "We can see that the script has four main parts: First, we have a section of **comments** that describe what the script does and when it was created.  In python all comments start with the **```#```** symbol.  Everything after this symbol is ignored by the computer.  Second, we have the section of the scripts that load the necessary functions that we need from other packages.  Third is a section where we define all of the constants that are going to be used in the script. You should also add comments here that tell us what the constants are.  Finally, your main body of code goes after these sections."
     ]
    },
    {
     "cell_type": "heading",
     "level": 3,
     "metadata": {},
     "source": [
      "Functions"
     ]
    },
    {
     "cell_type": "markdown",
     "metadata": {
      "slideshow": {
       "slide_type": "slide"
      }
     },
     "source": [
      "We are finally in a position to look at one of the most important parts of any programming language **functions**.  Functions are blocks of code that accomplish a specific task. Functions usually take \"input arguments\", perform operations on these inputs, and then \"return\" one or more results. Functions can be used over and over again, and can also be \"called\" from the inside of other functions.  Let us rewrite our script for $sin(x)$ using a function and then describe each part."
     ]
    },
    {
     "cell_type": "code",
     "collapsed": false,
     "input": [
      "from numpy import *\n",
      "from scipy.misc import factorial\n",
      "\n",
      "N=5        # The order of the series expansion\n",
      "x=pi/4.    # The point at which we want to evaluate sine\n",
      "\n",
      "def sine_series(x,N):\n",
      "    ans=0.0\n",
      "    for k in range(N+1):\n",
      "        ans=ans+(-1)**k*x**(1+2*k)/factorial(1+2*k)\n",
      "    return ans\n",
      "\n",
      "result = sine_series(x,N)\n",
      "print(\"Series approximation:\",result)\n",
      "print(\"Error:\",sin(x)-result)"
     ],
     "language": "python",
     "metadata": {
      "slideshow": {
       "slide_type": "-"
      }
     },
     "outputs": []
    },
    {
     "cell_type": "markdown",
     "metadata": {
      "slideshow": {
       "slide_type": "slide"
      }
     },
     "source": [
      "We see see that a function is created using the keyword ```def``` which is short \"define\", then the name of the function followed by the input arguments in parentheses.  After the block of code called by the function, the ```return``` keyword specifies what variable(s) and/or data structure(s) are given as the output.  So a general functions call is"
     ]
    },
    {
     "cell_type": "code",
     "collapsed": false,
     "input": [
      "def function_name(arg1,arg2):\n",
      "    \"Block of code to run\"\n",
      "    \"...\"\n",
      "    return result"
     ],
     "language": "python",
     "metadata": {},
     "outputs": []
    },
    {
     "cell_type": "markdown",
     "metadata": {},
     "source": [
      "Again, everything after the colon (:) that is inside the function must be indented.  The beauty of using functions is that we can use the same code over and over, just by changing the constants near the top of our Python script.\n",
      "\n",
      "Variables that are defined inside of a function are called **local variables** and only defined for the block of code inside of the function.  In our previous example, ```k``` was a local variable.  The input arguments and return arguments are *not* local variables.  Once a function is done running, the local variables are erased from memory.  Therefore, if you want get something out of a function, your must return the value when your done."
     ]
    },
    {
     "cell_type": "markdown",
     "metadata": {
      "slideshow": {
       "slide_type": "slide"
      }
     },
     "source": [
      "If we want to return more than one thing at the end of the function then we just need to separate the different items by a comma."
     ]
    },
    {
     "cell_type": "code",
     "collapsed": false,
     "input": [
      "from numpy.random import random\n",
      "from pylab import *\n",
      "\n",
      "N=100 # Number of points to generate\n",
      "\n",
      "def random_coordinates(N):\n",
      "    x_coords=[]\n",
      "    y_coords=[]\n",
      "    for n in range(N):\n",
      "        xnew,ynew=random(2)\n",
      "        x_coords.append(xnew)\n",
      "        y_coords.append(ynew)\n",
      "    return x_coords,y_coords\n",
      "\n",
      "xc,yc=random_coordinates(N)\n",
      "plot(xc,yc,'ro',markersize=8)\n",
      "show()"
     ],
     "language": "python",
     "metadata": {
      "slideshow": {
       "slide_type": "-"
      }
     },
     "outputs": []
    },
    {
     "cell_type": "code",
     "collapsed": false,
     "input": [
      "from numpy.random import random\n",
      "from pylab import *\n",
      "\n",
      "N = 20 # Number of points to generate\n",
      "\n",
      "def random_coordinates(N):\n",
      "    x_coords = []\n",
      "    y_coords = []\n",
      "    for n in range(N):\n",
      "        xnew,ynew = random(2)\n",
      "        x_coords.append(xnew)\n",
      "        y_coords.append(ynew)\n",
      "    return x_coords,y_coords\n",
      "\n",
      "def dist2d(x1,y1,x2,y2):\n",
      "    return sqrt((x1-x2)**2+(y1-y2)**2)\n",
      "\n",
      "def max_dist(xc,yc):\n",
      "    max_dist = 0.0\n",
      "    num_points = len(xc)\n",
      "    for ii in range(num_points):\n",
      "        for jj in range(num_points):\n",
      "            dist = dist2d(xc[ii],yc[ii],xc[jj],yc[jj])\n",
      "            if dist > max_dist:\n",
      "                max_dist = dist\n",
      "                xvals = [xc[ii],xc[jj]]\n",
      "                yvals = [yc[ii],yc[jj]]\n",
      "    return max_dist, xvals, yvals\n",
      "\n",
      "xc,yc = random_coordinates(N)\n",
      "max_dist,pnt1,pnt2 = max_dist(xc,yc)\n",
      "plot(xc,yc,'ro',markersize=8)\n",
      "plot(pnt1,pnt2,'b-',lw=2)\n",
      "show()"
     ],
     "language": "python",
     "metadata": {
      "slideshow": {
       "slide_type": "slide"
      }
     },
     "outputs": []
    },
    {
     "cell_type": "markdown",
     "metadata": {
      "slideshow": {
       "slide_type": "slide"
      }
     },
     "source": [
      "Obvious this last example is more complex, and in particular, it is hard to understand what the functions.  Even for your own functions, you may often forget what your functions do unless you provide some documentation and comments in your scripts.  Here we will see how to properly document a function in Python by looking at the ```max_dist``` function:"
     ]
    },
    {
     "cell_type": "code",
     "collapsed": false,
     "input": [
      "def max_dist(xc,yc):\n",
      "    \"\"\"\n",
      "    Finds the maximum distance between any two points\n",
      "    in a collection of 2D points.  The points corresponding \n",
      "    to this distance are also returned.\n",
      "    \n",
      "    Parameters\n",
      "    ----------\n",
      "    xc : list\n",
      "        List of x-coordinates\n",
      "    yc : list\n",
      "        List of y-coordinates\n",
      "    \n",
      "    Returns\n",
      "    -------\n",
      "    max_dist : float\n",
      "        Maximum distance\n",
      "    xvals : list\n",
      "        x-coodinates of two points\n",
      "    yvals : list\n",
      "        y-coordinates of two points\n",
      "    \n",
      "    \"\"\"\n",
      "    max_dist=0.0       #initialize max_dist\n",
      "    num_points=len(xc) #number of points in collection\n",
      "    for ii in range(num_points):\n",
      "        for jj in range(num_points):\n",
      "            dist=dist2d(xc[ii],yc[ii],xc[jj],yc[jj])\n",
      "            if dist>max_dist:\n",
      "                max_dist=dist\n",
      "                xvals=[xc[ii],xc[jj]]\n",
      "                yvals=[yc[ii],yc[jj]]\n",
      "    return max_dist, xvals, yvals"
     ],
     "language": "python",
     "metadata": {},
     "outputs": []
    },
    {
     "cell_type": "markdown",
     "metadata": {},
     "source": [
      "Everything inbetween the ```\"\"\"...\"\"\"``` is called a **docstring** and it gives a tells someone who is not familiar with a partiular functions a detailed explaination as to what the function does, what parameters it takes as inputs, and what values it returns.  It is also good practice to put some comments next to your local variables so the user knows what each of these is for. Although it seems like a lot of work at first, writing docstrings will make you a much better programmer in the future."
     ]
    }
   ],
   "metadata": {}
  }
 ]
}