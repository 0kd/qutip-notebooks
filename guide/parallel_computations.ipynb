{
 "metadata": {
  "name": ""
 },
 "nbformat": 3,
 "nbformat_minor": 0,
 "worksheets": [
  {
   "cells": [
    {
     "cell_type": "code",
     "collapsed": false,
     "input": [
      "%pylab inline --no-import-all\n",
      "from qutip import * "
     ],
     "language": "python",
     "metadata": {},
     "outputs": [
      {
       "output_type": "stream",
       "stream": "stdout",
       "text": [
        "Populating the interactive namespace from numpy and matplotlib\n"
       ]
      }
     ],
     "prompt_number": 2
    },
    {
     "cell_type": "markdown",
     "metadata": {},
     "source": [
      "#Running Computations in Parallel Using <code>parfor</code> and <code>picloud</code>\n",
      "\n",
      "Often one is interested in the output of a given function as one or more parameters are varied.  For example, we can calculate the steady-state response of a cavity+qubit system as the frequency of the driving field is varied.  In cases such as this, where each iteration is independent of the others, we can speedup the calculation by performing the iterations in parallel.  In QuTiP, parallel computations may be performed one the users local machine using the <code>parfor</code> (parallel-for-loop), or on the cloud computing services provided by [PiCloud](http://www.picloud.com) using the <code>picloud</code> function.  Note, that PiCloud is a commerical company that charges for CPU time on their servers.  Therefore, using <code>picloud</code> requires an account with this company.  We are in no way affliated, or get any benefit, from this organization."
     ]
    },
    {
     "cell_type": "markdown",
     "metadata": {},
     "source": [
      "##<code>parfor</code>:\n",
      "To use the parfor function, we need to define a function of one or more variables, and the a range of values over which these variables are to be iterated.  For example, a single-variable function may be defined and run as:"
     ]
    },
    {
     "cell_type": "code",
     "collapsed": false,
     "input": [
      "def func1(x): \n",
      "    return x, x**2, x**3\n",
      "\n",
      "[a,b,c] = parfor(func1, range(10))\n",
      "print(a)\n",
      "print(b)\n",
      "print(c)"
     ],
     "language": "python",
     "metadata": {},
     "outputs": [
      {
       "output_type": "stream",
       "stream": "stdout",
       "text": [
        "[0 1 2 3 4 5 6 7 8 9]\n",
        "[ 0  1  4  9 16 25 36 49 64 81]\n",
        "[  0   1   8  27  64 125 216 343 512 729]\n"
       ]
      }
     ],
     "prompt_number": 3
    },
    {
     "cell_type": "markdown",
     "metadata": {},
     "source": [
      "One can also use a single output variable as:"
     ]
    },
    {
     "cell_type": "code",
     "collapsed": false,
     "input": [
      "x = parfor(func1, range(10))\n",
      "print(x[0])\n",
      "print(x[1])\n",
      "print(x[2])"
     ],
     "language": "python",
     "metadata": {},
     "outputs": [
      {
       "output_type": "stream",
       "stream": "stdout",
       "text": [
        "[0 1 2 3 4 5 6 7 8 9]\n",
        "[ 0  1  4  9 16 25 36 49 64 81]\n",
        "[  0   1   8  27  64 125 216 343 512 729]\n"
       ]
      }
     ],
     "prompt_number": 13
    },
    {
     "cell_type": "markdown",
     "metadata": {},
     "source": [
      "One can also define functions with multiple input arguments and even keyword arguments:"
     ]
    },
    {
     "cell_type": "code",
     "collapsed": false,
     "input": [
      "def sum_diff(x,y,hello=0): \n",
      "    return x+y,x-y,hello\n",
      "\n",
      "parfor(sum_diff,[1,2,3],[4,5,6],hello=5)"
     ],
     "language": "python",
     "metadata": {},
     "outputs": [
      {
       "metadata": {},
       "output_type": "pyout",
       "prompt_number": 17,
       "text": [
        "[array([5, 7, 9]), array([-3, -3, -3]), array([5, 5, 5])]"
       ]
      }
     ],
     "prompt_number": 17
    },
    {
     "cell_type": "markdown",
     "metadata": {},
     "source": [
      "Note that the keyword aguments can be anything you like, but the keyword values are <b>not</b> iterated over.  The keyword argument <code>num_cpus</code> is reserved as it sets the number of CPU's used by <code>parfor</code>.  By default, this value is set to the total number of physical processors on your system.  You can change this number to a lower value, however setting it higher than the number of CPU's will cause a drop in performance.\n",
      "\n",
      "As a straightforward example of how to use the <code>parfor</code> function in a QuTiP example, let us calculate the steady-state response of a coupled cavity+qubit system as the driving frequency is swept through resonance."
     ]
    },
    {
     "cell_type": "code",
     "collapsed": false,
     "input": [
      "# This does the calculate as a function of all the system parameters.\n",
      "#--------------------------------------------------------------------\n",
      "def probss(E,kappa,gamma,g,wc,w0,wl,N):\n",
      "    ida=qeye(N)\n",
      "    idatom=qeye(2)\n",
      "    a=tensor(destroy(N),idatom)\n",
      "    sm=tensor(ida,sigmam())\n",
      "    #Hamiltonian\n",
      "    H=(w0-wl)*sm.dag()*sm+(wc-wl)*a.dag()*a+1j*g*(a.dag()*sm-sm.dag()*a)+E*(a.dag()+a)\n",
      "    #Collapse operators\n",
      "    C1=sqrt(2*kappa)*a\n",
      "    C2=sqrt(gamma)*sm\n",
      "    C1dC1=C1.dag() * C1\n",
      "    C2dC2=C2.dag() * C2\n",
      "    #find steady state\n",
      "    rhoss=steadystate(H, [C1, C2])\n",
      "    #calculate expectation values\n",
      "    count1=expect(C1dC1,rhoss)\n",
      "    count2=expect(C2dC2,rhoss)\n",
      "    infield=expect(a,rhoss)\n",
      "    return count1,count2,infield\n",
      "\n",
      "# Setup the calculation\n",
      "#-----------------------\n",
      "kappa=2                     # Cavity decay rate.\n",
      "gamma=0.2                   # Qubit decay rate.\n",
      "g=1                         # Coupling strength.\n",
      "wc=0                        # Cavity frequency.\n",
      "w0=0                        # Qubit frequency.\n",
      "N=5                         # Number of basis states for the cavity mode.\n",
      "E=0.5                       # Amplitude of the driving field.\n",
      "nloop=101                   # Number of driving frequency values to consider.\n",
      "wlist=linspace(-5,5,nloop)  # Array of driving frequencies to iterate over.\n",
      "\n",
      "# Define a single-variable function that iterates over the driving-field only.\n",
      "# ----------------------------------------------------------------------------\n",
      "def func(wl):#function of wl only\n",
      "    count1,count2,infield=probss(E,kappa,gamma,g,wc,w0,wl,N)\n",
      "    return count1,count2,infield\n",
      "\n",
      "# Run parallel for-loop over wlist.\n",
      "# ---------------------------------\n",
      "[count1,count2,infield] = parfor(func,wlist)\n",
      "\n",
      "# Plot cavity and qubit response.\n",
      "# -------------------------------\n",
      "plot(wlist,count1,wlist,count2)\n",
      "xlabel('Detuning')\n",
      "ylabel('Count rates')\n",
      "show()"
     ],
     "language": "python",
     "metadata": {},
     "outputs": [
      {
       "metadata": {},
       "output_type": "display_data",
       "png": "[encoded data removed]",
       "text": [
        "<matplotlib.figure.Figure at 0x10abc2f90>"
       ]
      }
     ],
     "prompt_number": 28
    },
    {
     "cell_type": "markdown",
     "metadata": {},
     "source": [
      "##<code>picloud</code>:"
     ]
    },
    {
     "cell_type": "markdown",
     "metadata": {},
     "source": [
      "New to QuTiP version 3 is the option to run computations in parallel on the cloud computing platform provided by [PiCloud](http://www.picloud.com).  You must have their software installed on your machine, and an active account, for this function to work.  Note that, at present, the picloud software is only available for Python version 2.7.\n",
      "\n",
      "Using the <code>picloud</code> function is very similar to using <code>parfor</code>."
     ]
    },
    {
     "cell_type": "code",
     "collapsed": false,
     "input": [
      "def add(x,y):\n",
      "    return x+y\n",
      "\n",
      "picloud(add,[10,20,30],[5,6,7])"
     ],
     "language": "python",
     "metadata": {},
     "outputs": [
      {
       "output_type": "stream",
       "stream": "stderr",
       "text": [
        "DEBUG:Cloud.HTTPConnection:Trying https://api.picloud.com/\n"
       ]
      },
      {
       "output_type": "stream",
       "stream": "stderr",
       "text": [
        "INFO:Cloud.HTTPConnection:Connected to https://api.picloud.com/\n"
       ]
      },
      {
       "output_type": "stream",
       "stream": "stderr",
       "text": [
        "INFO:Cloud:Cloud started with adapter =<cloud.transport.adapter.DependencyAdapter object at 0x11230ff50>\n"
       ]
      },
      {
       "output_type": "stream",
       "stream": "stderr",
       "text": [
        "INFO:Cloud.HTTPConnection:query url package/list/ with post_values ={'language_version': '2.7.5 (default, Aug  1 2013, 01:01:17) \\n[GCC 4.2.1 Compatible Apple Clang 4.1 ((tags/Apple/clang-421.11.66))]', 'language': 'python'}\n"
       ]
      },
      {
       "output_type": "stream",
       "stream": "stderr",
       "text": [
        "DEBUG:Cloud.Transport:Dependent module qutip found (relfile=qutip/__init__.py, path=['/opt/local/Library/Frameworks/Python.framework/Versions/2.7/lib/python2.7/site-packages/qutip'], filename=/opt/local/Library/Frameworks/Python.framework/Versions/2.7/lib/python2.7/site-packages/qutip/__init__.py)\n"
       ]
      },
      {
       "output_type": "stream",
       "stream": "stderr",
       "text": [
        "DEBUG:Cloud.Transport:Dependent module qutip.settings found (relfile=qutip/settings.py, path=None, filename=/opt/local/Library/Frameworks/Python.framework/Versions/2.7/lib/python2.7/site-packages/qutip/settings.py)\n"
       ]
      },
      {
       "output_type": "stream",
       "stream": "stderr",
       "text": [
        "DEBUG:Cloud.Transport:Dependent module qutip._reset found (relfile=qutip/_reset.py, path=None, filename=/opt/local/Library/Frameworks/Python.framework/Versions/2.7/lib/python2.7/site-packages/qutip/_reset.py)\n"
       ]
      },
      {
       "output_type": "stream",
       "stream": "stderr",
       "text": [
        "DEBUG:Cloud.Transport:Dependent module qutip.hardware_info found (relfile=qutip/hardware_info.py, path=None, filename=/opt/local/Library/Frameworks/Python.framework/Versions/2.7/lib/python2.7/site-packages/qutip/hardware_info.py)\n"
       ]
      },
      {
       "output_type": "stream",
       "stream": "stderr",
       "text": [
        "DEBUG:Cloud.Transport:Dependent module qutip.version found (relfile=qutip/version.py, path=None, filename=/opt/local/Library/Frameworks/Python.framework/Versions/2.7/lib/python2.7/site-packages/qutip/version.py)\n"
       ]
      },
      {
       "output_type": "stream",
       "stream": "stderr",
       "text": [
        "DEBUG:Cloud.Transport:Dependent module qutip.fortran found (relfile=qutip/fortran/__init__.py, path=['/opt/local/Library/Frameworks/Python.framework/Versions/2.7/lib/python2.7/site-packages/qutip/fortran'], filename=/opt/local/Library/Frameworks/Python.framework/Versions/2.7/lib/python2.7/site-packages/qutip/fortran/__init__.py)\n"
       ]
      },
      {
       "output_type": "stream",
       "stream": "stderr",
       "text": [
        "DEBUG:Cloud.Transport:Dependent module qutip.fortran.mcsolve_f90 found (relfile=qutip/fortran/mcsolve_f90.py, path=None, filename=/opt/local/Library/Frameworks/Python.framework/Versions/2.7/lib/python2.7/site-packages/qutip/fortran/mcsolve_f90.py)\n"
       ]
      },
      {
       "output_type": "stream",
       "stream": "stderr",
       "text": [
        "WARNING:Cloud.Transport:Cloud cannot transmit python extension 'qutip.fortran.qutraj_run' located at '/opt/local/Library/Frameworks/Python.framework/Versions/2.7/lib/python2.7/site-packages/qutip/fortran/qutraj_run.so'.  Import errors may result; please see PiCloud documentation.\n"
       ]
      },
      {
       "output_type": "stream",
       "stream": "stderr",
       "text": [
        "DEBUG:Cloud.Transport:Dependent module qutip.odeconfig found (relfile=qutip/odeconfig.py, path=None, filename=/opt/local/Library/Frameworks/Python.framework/Versions/2.7/lib/python2.7/site-packages/qutip/odeconfig.py)\n"
       ]
      },
      {
       "output_type": "stream",
       "stream": "stderr",
       "text": [
        "DEBUG:Cloud.Transport:Dependent module qutip.qobj found (relfile=qutip/qobj.py, path=None, filename=/opt/local/Library/Frameworks/Python.framework/Versions/2.7/lib/python2.7/site-packages/qutip/qobj.py)\n"
       ]
      },
      {
       "output_type": "stream",
       "stream": "stderr",
       "text": [
        "DEBUG:Cloud.Transport:Dependent module qutip.ptrace found (relfile=qutip/ptrace.py, path=None, filename=/opt/local/Library/Frameworks/Python.framework/Versions/2.7/lib/python2.7/site-packages/qutip/ptrace.py)\n"
       ]
      },
      {
       "output_type": "stream",
       "stream": "stderr",
       "text": [
        "DEBUG:Cloud.Transport:Dependent module qutip.sparse found (relfile=qutip/sparse.py, path=None, filename=/opt/local/Library/Frameworks/Python.framework/Versions/2.7/lib/python2.7/site-packages/qutip/sparse.py)\n"
       ]
      },
      {
       "output_type": "stream",
       "stream": "stderr",
       "text": [
        "DEBUG:Cloud.Transport:Dependent module qutip.permute found (relfile=qutip/permute.py, path=None, filename=/opt/local/Library/Frameworks/Python.framework/Versions/2.7/lib/python2.7/site-packages/qutip/permute.py)\n"
       ]
      },
      {
       "output_type": "stream",
       "stream": "stderr",
       "text": [
        "DEBUG:Cloud.Transport:Dependent module qutip.eseries found (relfile=qutip/eseries.py, path=None, filename=/opt/local/Library/Frameworks/Python.framework/Versions/2.7/lib/python2.7/site-packages/qutip/eseries.py)\n"
       ]
      },
      {
       "output_type": "stream",
       "stream": "stderr",
       "text": [
        "DEBUG:Cloud.Transport:Dependent module qutip.mcsolve found (relfile=qutip/mcsolve.py, path=None, filename=/opt/local/Library/Frameworks/Python.framework/Versions/2.7/lib/python2.7/site-packages/qutip/mcsolve.py)\n"
       ]
      },
      {
       "output_type": "stream",
       "stream": "stderr",
       "text": [
        "DEBUG:Cloud.Transport:Dependent module qutip.expect found (relfile=qutip/expect.py, path=None, filename=/opt/local/Library/Frameworks/Python.framework/Versions/2.7/lib/python2.7/site-packages/qutip/expect.py)\n"
       ]
      },
      {
       "output_type": "stream",
       "stream": "stderr",
       "text": [
        "DEBUG:Cloud.Transport:Dependent module qutip.cyQ found (relfile=qutip/cyQ/__init__.py, path=['/opt/local/Library/Frameworks/Python.framework/Versions/2.7/lib/python2.7/site-packages/qutip/cyQ'], filename=/opt/local/Library/Frameworks/Python.framework/Versions/2.7/lib/python2.7/site-packages/qutip/cyQ/__init__.py)\n"
       ]
      },
      {
       "output_type": "stream",
       "stream": "stderr",
       "text": [
        "WARNING:Cloud.Transport:Cloud cannot transmit python extension 'qutip.cyQ.spmatfuncs' located at '/opt/local/Library/Frameworks/Python.framework/Versions/2.7/lib/python2.7/site-packages/qutip/cyQ/spmatfuncs.so'.  Import errors may result; please see PiCloud documentation.\n"
       ]
      },
      {
       "output_type": "stream",
       "stream": "stderr",
       "text": [
        "DEBUG:Cloud.Transport:Dependent module qutip.states found (relfile=qutip/states.py, path=None, filename=/opt/local/Library/Frameworks/Python.framework/Versions/2.7/lib/python2.7/site-packages/qutip/states.py)\n"
       ]
      },
      {
       "output_type": "stream",
       "stream": "stderr",
       "text": [
        "DEBUG:Cloud.Transport:Dependent module qutip.operators found (relfile=qutip/operators.py, path=None, filename=/opt/local/Library/Frameworks/Python.framework/Versions/2.7/lib/python2.7/site-packages/qutip/operators.py)\n"
       ]
      },
      {
       "output_type": "stream",
       "stream": "stderr",
       "text": [
        "DEBUG:Cloud.Transport:Dependent module qutip.tensor found (relfile=qutip/tensor.py, path=None, filename=/opt/local/Library/Frameworks/Python.framework/Versions/2.7/lib/python2.7/site-packages/qutip/tensor.py)\n"
       ]
      },
      {
       "output_type": "stream",
       "stream": "stderr",
       "text": [
        "DEBUG:Cloud.Transport:Dependent module qutip.parfor found (relfile=qutip/parfor.py, path=None, filename=/opt/local/Library/Frameworks/Python.framework/Versions/2.7/lib/python2.7/site-packages/qutip/parfor.py)\n"
       ]
      },
      {
       "output_type": "stream",
       "stream": "stderr",
       "text": [
        "DEBUG:Cloud.Transport:Dependent module qutip.odeoptions found (relfile=qutip/odeoptions.py, path=None, filename=/opt/local/Library/Frameworks/Python.framework/Versions/2.7/lib/python2.7/site-packages/qutip/odeoptions.py)\n"
       ]
      },
      {
       "output_type": "stream",
       "stream": "stderr",
       "text": [
        "DEBUG:Cloud.Transport:Dependent module qutip.cyQ.codegen found (relfile=qutip/cyQ/codegen.py, path=None, filename=/opt/local/Library/Frameworks/Python.framework/Versions/2.7/lib/python2.7/site-packages/qutip/cyQ/codegen.py)\n"
       ]
      },
      {
       "output_type": "stream",
       "stream": "stderr",
       "text": [
        "DEBUG:Cloud.Transport:Dependent module qutip.odedata found (relfile=qutip/odedata.py, path=None, filename=/opt/local/Library/Frameworks/Python.framework/Versions/2.7/lib/python2.7/site-packages/qutip/odedata.py)\n"
       ]
      },
      {
       "output_type": "stream",
       "stream": "stderr",
       "text": [
        "DEBUG:Cloud.Transport:Dependent module qutip.odechecks found (relfile=qutip/odechecks.py, path=None, filename=/opt/local/Library/Frameworks/Python.framework/Versions/2.7/lib/python2.7/site-packages/qutip/odechecks.py)\n"
       ]
      },
      {
       "output_type": "stream",
       "stream": "stderr",
       "text": [
        "DEBUG:Cloud.Transport:Dependent module qutip.gui found (relfile=qutip/gui/__init__.py, path=['/opt/local/Library/Frameworks/Python.framework/Versions/2.7/lib/python2.7/site-packages/qutip/gui'], filename=/opt/local/Library/Frameworks/Python.framework/Versions/2.7/lib/python2.7/site-packages/qutip/gui/__init__.py)\n"
       ]
      },
      {
       "output_type": "stream",
       "stream": "stderr",
       "text": [
        "DEBUG:Cloud.Transport:Dependent module qutip.gui.progressbar found (relfile=qutip/gui/progressbar.py, path=None, filename=/opt/local/Library/Frameworks/Python.framework/Versions/2.7/lib/python2.7/site-packages/qutip/gui/progressbar.py)\n"
       ]
      },
      {
       "output_type": "stream",
       "stream": "stderr",
       "text": [
        "DEBUG:Cloud.Transport:Dependent module Foundation found (relfile=Foundation/__init__.py, path=['/opt/local/Library/Frameworks/Python.framework/Versions/2.7/lib/python2.7/site-packages/Foundation'], filename=/opt/local/Library/Frameworks/Python.framework/Versions/2.7/lib/python2.7/site-packages/Foundation/__init__.py)\n"
       ]
      },
      {
       "output_type": "stream",
       "stream": "stderr",
       "text": [
        "DEBUG:Cloud.Transport:Dependent module objc found (relfile=objc/__init__.py, path=['/opt/local/Library/Frameworks/Python.framework/Versions/2.7/lib/python2.7/site-packages/PyObjC/objc'], filename=/opt/local/Library/Frameworks/Python.framework/Versions/2.7/lib/python2.7/site-packages/PyObjC/objc/__init__.py)\n"
       ]
      },
      {
       "output_type": "stream",
       "stream": "stderr",
       "text": [
        "DEBUG:Cloud.Transport:Dependent module objc._convenience found (relfile=objc/_convenience.py, path=None, filename=/opt/local/Library/Frameworks/Python.framework/Versions/2.7/lib/python2.7/site-packages/PyObjC/objc/_convenience.py)\n"
       ]
      },
      {
       "output_type": "stream",
       "stream": "stderr",
       "text": [
        "WARNING:Cloud.Transport:Cloud cannot transmit python extension 'objc._objc' located at '/opt/local/Library/Frameworks/Python.framework/Versions/2.7/lib/python2.7/site-packages/PyObjC/objc/_objc.so'.  Import errors may result; please see PiCloud documentation.\n"
       ]
      },
      {
       "output_type": "stream",
       "stream": "stderr",
       "text": [
        "DEBUG:Cloud.Transport:Dependent module objc._bridgesupport found (relfile=objc/_bridgesupport.py, path=None, filename=/opt/local/Library/Frameworks/Python.framework/Versions/2.7/lib/python2.7/site-packages/PyObjC/objc/_bridgesupport.py)\n"
       ]
      },
      {
       "output_type": "stream",
       "stream": "stderr",
       "text": [
        "DEBUG:Cloud.Transport:Dependent module objc._dyld found (relfile=objc/_dyld.py, path=None, filename=/opt/local/Library/Frameworks/Python.framework/Versions/2.7/lib/python2.7/site-packages/PyObjC/objc/_dyld.py)\n"
       ]
      },
      {
       "output_type": "stream",
       "stream": "stderr",
       "text": [
        "DEBUG:Cloud.Transport:Dependent module objc._framework found (relfile=objc/_framework.py, path=None, filename=/opt/local/Library/Frameworks/Python.framework/Versions/2.7/lib/python2.7/site-packages/PyObjC/objc/_framework.py)\n"
       ]
      },
      {
       "output_type": "stream",
       "stream": "stderr",
       "text": [
        "DEBUG:Cloud.Transport:Dependent module objc._protocols found (relfile=objc/_protocols.py, path=None, filename=/opt/local/Library/Frameworks/Python.framework/Versions/2.7/lib/python2.7/site-packages/PyObjC/objc/_protocols.py)\n"
       ]
      },
      {
       "output_type": "stream",
       "stream": "stderr",
       "text": [
        "DEBUG:Cloud.Transport:Dependent module objc._descriptors found (relfile=objc/_descriptors.py, path=None, filename=/opt/local/Library/Frameworks/Python.framework/Versions/2.7/lib/python2.7/site-packages/PyObjC/objc/_descriptors.py)\n"
       ]
      },
      {
       "output_type": "stream",
       "stream": "stderr",
       "text": [
        "DEBUG:Cloud.Transport:Dependent module objc._category found (relfile=objc/_category.py, path=None, filename=/opt/local/Library/Frameworks/Python.framework/Versions/2.7/lib/python2.7/site-packages/PyObjC/objc/_category.py)\n"
       ]
      },
      {
       "output_type": "stream",
       "stream": "stderr",
       "text": [
        "DEBUG:Cloud.Transport:Dependent module objc._bridges found (relfile=objc/_bridges.py, path=None, filename=/opt/local/Library/Frameworks/Python.framework/Versions/2.7/lib/python2.7/site-packages/PyObjC/objc/_bridges.py)\n"
       ]
      },
      {
       "output_type": "stream",
       "stream": "stderr",
       "text": [
        "DEBUG:Cloud.Transport:Dependent module objc._compat found (relfile=objc/_compat.py, path=None, filename=/opt/local/Library/Frameworks/Python.framework/Versions/2.7/lib/python2.7/site-packages/PyObjC/objc/_compat.py)\n"
       ]
      },
      {
       "output_type": "stream",
       "stream": "stderr",
       "text": [
        "DEBUG:Cloud.Transport:Dependent module objc._pythonify found (relfile=objc/_pythonify.py, path=None, filename=/opt/local/Library/Frameworks/Python.framework/Versions/2.7/lib/python2.7/site-packages/PyObjC/objc/_pythonify.py)\n"
       ]
      },
      {
       "output_type": "stream",
       "stream": "stderr",
       "text": [
        "DEBUG:Cloud.Transport:Dependent module objc._locking found (relfile=objc/_locking.py, path=None, filename=/opt/local/Library/Frameworks/Python.framework/Versions/2.7/lib/python2.7/site-packages/PyObjC/objc/_locking.py)\n"
       ]
      },
      {
       "output_type": "stream",
       "stream": "stderr",
       "text": [
        "DEBUG:Cloud.Transport:Dependent module objc._context found (relfile=objc/_context.py, path=None, filename=/opt/local/Library/Frameworks/Python.framework/Versions/2.7/lib/python2.7/site-packages/PyObjC/objc/_context.py)\n"
       ]
      },
      {
       "output_type": "stream",
       "stream": "stderr",
       "text": [
        "DEBUG:Cloud.Transport:Dependent module objc._properties found (relfile=objc/_properties.py, path=None, filename=/opt/local/Library/Frameworks/Python.framework/Versions/2.7/lib/python2.7/site-packages/PyObjC/objc/_properties.py)\n"
       ]
      },
      {
       "output_type": "stream",
       "stream": "stderr",
       "text": [
        "DEBUG:Cloud.Transport:Dependent module objc._lazyimport found (relfile=objc/_lazyimport.py, path=None, filename=/opt/local/Library/Frameworks/Python.framework/Versions/2.7/lib/python2.7/site-packages/PyObjC/objc/_lazyimport.py)\n"
       ]
      },
      {
       "output_type": "stream",
       "stream": "stderr",
       "text": [
        "DEBUG:Cloud.Transport:Dependent module objc._pycoder found (relfile=objc/_pycoder.py, path=None, filename=/opt/local/Library/Frameworks/Python.framework/Versions/2.7/lib/python2.7/site-packages/PyObjC/objc/_pycoder.py)\n"
       ]
      },
      {
       "output_type": "stream",
       "stream": "stderr",
       "text": [
        "DEBUG:Cloud.Transport:Dependent module CoreFoundation found (relfile=CoreFoundation/__init__.py, path=['/opt/local/Library/Frameworks/Python.framework/Versions/2.7/lib/python2.7/site-packages/CoreFoundation'], filename=/opt/local/Library/Frameworks/Python.framework/Versions/2.7/lib/python2.7/site-packages/CoreFoundation/__init__.py)\n"
       ]
      },
      {
       "output_type": "stream",
       "stream": "stderr",
       "text": [
        "DEBUG:Cloud.Transport:Dependent module CoreFoundation._metadata found (relfile=CoreFoundation/_metadata.py, path=None, filename=/opt/local/Library/Frameworks/Python.framework/Versions/2.7/lib/python2.7/site-packages/CoreFoundation/_metadata.py)\n"
       ]
      },
      {
       "output_type": "stream",
       "stream": "stderr",
       "text": [
        "WARNING:Cloud.Transport:Cloud cannot transmit python extension 'CoreFoundation._inlines' located at '/opt/local/Library/Frameworks/Python.framework/Versions/2.7/lib/python2.7/site-packages/CoreFoundation/_inlines.so'.  Import errors may result; please see PiCloud documentation.\n"
       ]
      },
      {
       "output_type": "stream",
       "stream": "stderr",
       "text": [
        "WARNING:Cloud.Transport:Cloud cannot transmit python extension 'CoreFoundation._CoreFoundation' located at '/opt/local/Library/Frameworks/Python.framework/Versions/2.7/lib/python2.7/site-packages/CoreFoundation/_CoreFoundation.so'.  Import errors may result; please see PiCloud documentation.\n"
       ]
      },
      {
       "output_type": "stream",
       "stream": "stderr",
       "text": [
        "DEBUG:Cloud.Transport:Dependent module CoreFoundation._static found (relfile=CoreFoundation/_static.py, path=None, filename=/opt/local/Library/Frameworks/Python.framework/Versions/2.7/lib/python2.7/site-packages/CoreFoundation/_static.py)\n"
       ]
      },
      {
       "output_type": "stream",
       "stream": "stderr",
       "text": [
        "DEBUG:Cloud.Transport:Dependent module Foundation._metadata found (relfile=Foundation/_metadata.py, path=None, filename=/opt/local/Library/Frameworks/Python.framework/Versions/2.7/lib/python2.7/site-packages/Foundation/_metadata.py)\n"
       ]
      },
      {
       "output_type": "stream",
       "stream": "stderr",
       "text": [
        "WARNING:Cloud.Transport:Cloud cannot transmit python extension 'Foundation._inlines' located at '/opt/local/Library/Frameworks/Python.framework/Versions/2.7/lib/python2.7/site-packages/Foundation/_inlines.so'.  Import errors may result; please see PiCloud documentation.\n"
       ]
      },
      {
       "output_type": "stream",
       "stream": "stderr",
       "text": [
        "WARNING:Cloud.Transport:Cloud cannot transmit python extension 'Foundation._Foundation' located at '/opt/local/Library/Frameworks/Python.framework/Versions/2.7/lib/python2.7/site-packages/Foundation/_Foundation.so'.  Import errors may result; please see PiCloud documentation.\n"
       ]
      },
      {
       "output_type": "stream",
       "stream": "stderr",
       "text": [
        "DEBUG:Cloud.Transport:Dependent module Foundation._nsobject found (relfile=Foundation/_nsobject.py, path=None, filename=/opt/local/Library/Frameworks/Python.framework/Versions/2.7/lib/python2.7/site-packages/Foundation/_nsobject.py)\n"
       ]
      },
      {
       "output_type": "stream",
       "stream": "stderr",
       "text": [
        "DEBUG:Cloud.Transport:Dependent module Foundation._nsindexset found (relfile=Foundation/_nsindexset.py, path=None, filename=/opt/local/Library/Frameworks/Python.framework/Versions/2.7/lib/python2.7/site-packages/Foundation/_nsindexset.py)\n"
       ]
      },
      {
       "output_type": "stream",
       "stream": "stderr",
       "text": [
        "DEBUG:Cloud.Transport:Dependent module Foundation._functiondefines found (relfile=Foundation/_functiondefines.py, path=None, filename=/opt/local/Library/Frameworks/Python.framework/Versions/2.7/lib/python2.7/site-packages/Foundation/_functiondefines.py)\n"
       ]
      },
      {
       "output_type": "stream",
       "stream": "stderr",
       "text": [
        "DEBUG:Cloud.Transport:Dependent module Foundation._context found (relfile=Foundation/_context.py, path=None, filename=/opt/local/Library/Frameworks/Python.framework/Versions/2.7/lib/python2.7/site-packages/Foundation/_context.py)\n"
       ]
      },
      {
       "output_type": "stream",
       "stream": "stderr",
       "text": [
        "DEBUG:Cloud.Transport:Dependent module PySide found (relfile=PySide/__init__.py, path=['/opt/local/Library/Frameworks/Python.framework/Versions/2.7/lib/python2.7/site-packages/PySide'], filename=/opt/local/Library/Frameworks/Python.framework/Versions/2.7/lib/python2.7/site-packages/PySide/__init__.py)\n"
       ]
      },
      {
       "output_type": "stream",
       "stream": "stderr",
       "text": [
        "DEBUG:Cloud.Transport:Dependent module PySide._utils found (relfile=PySide/_utils.py, path=None, filename=/opt/local/Library/Frameworks/Python.framework/Versions/2.7/lib/python2.7/site-packages/PySide/_utils.py)\n"
       ]
      },
      {
       "output_type": "stream",
       "stream": "stderr",
       "text": [
        "WARNING:Cloud.Transport:Cloud cannot transmit python extension 'PySide.QtCore' located at '/opt/local/Library/Frameworks/Python.framework/Versions/2.7/lib/python2.7/site-packages/PySide/QtCore.so'.  Import errors may result; please see PiCloud documentation.\n"
       ]
      },
      {
       "output_type": "stream",
       "stream": "stderr",
       "text": [
        "WARNING:Cloud.Transport:Cloud cannot transmit python extension 'PySide.QtNetwork' located at '/opt/local/Library/Frameworks/Python.framework/Versions/2.7/lib/python2.7/site-packages/PySide/QtNetwork.so'.  Import errors may result; please see PiCloud documentation.\n"
       ]
      },
      {
       "output_type": "stream",
       "stream": "stderr",
       "text": [
        "WARNING:Cloud.Transport:Cloud cannot transmit python extension 'PySide.QtGui' located at '/opt/local/Library/Frameworks/Python.framework/Versions/2.7/lib/python2.7/site-packages/PySide/QtGui.so'.  Import errors may result; please see PiCloud documentation.\n"
       ]
      },
      {
       "output_type": "stream",
       "stream": "stderr",
       "text": [
        "DEBUG:Cloud.Transport:Dependent module PyQt4 found (relfile=PyQt4/__init__.py, path=['/opt/local/Library/Frameworks/Python.framework/Versions/2.7/lib/python2.7/site-packages/PyQt4'], filename=/opt/local/Library/Frameworks/Python.framework/Versions/2.7/lib/python2.7/site-packages/PyQt4/__init__.py)\n"
       ]
      },
      {
       "output_type": "stream",
       "stream": "stderr",
       "text": [
        "WARNING:Cloud.Transport:Cloud cannot transmit python extension 'PyQt4.QtGui' located at '/opt/local/Library/Frameworks/Python.framework/Versions/2.7/lib/python2.7/site-packages/PyQt4/QtGui.so'.  Import errors may result; please see PiCloud documentation.\n"
       ]
      },
      {
       "output_type": "stream",
       "stream": "stderr",
       "text": [
        "WARNING:Cloud.Transport:Cloud cannot transmit python extension 'PyQt4.QtCore' located at '/opt/local/Library/Frameworks/Python.framework/Versions/2.7/lib/python2.7/site-packages/PyQt4/QtCore.so'.  Import errors may result; please see PiCloud documentation.\n"
       ]
      },
      {
       "output_type": "stream",
       "stream": "stderr",
       "text": [
        "DEBUG:Cloud.Transport:Dependent module qutip.gui.gui_progressbar found (relfile=qutip/gui/gui_progressbar.py, path=None, filename=/opt/local/Library/Frameworks/Python.framework/Versions/2.7/lib/python2.7/site-packages/qutip/gui/gui_progressbar.py)\n"
       ]
      },
      {
       "output_type": "stream",
       "stream": "stderr",
       "text": [
        "DEBUG:Cloud.Transport:Dependent module qutip.superoperator found (relfile=qutip/superoperator.py, path=None, filename=/opt/local/Library/Frameworks/Python.framework/Versions/2.7/lib/python2.7/site-packages/qutip/superoperator.py)\n"
       ]
      },
      {
       "output_type": "stream",
       "stream": "stderr",
       "text": [
        "DEBUG:Cloud.Transport:Dependent module qutip.bloch found (relfile=qutip/bloch.py, path=None, filename=/opt/local/Library/Frameworks/Python.framework/Versions/2.7/lib/python2.7/site-packages/qutip/bloch.py)\n"
       ]
      },
      {
       "output_type": "stream",
       "stream": "stderr",
       "text": [
        "DEBUG:Cloud.Transport:Dependent module qutip.visualization found (relfile=qutip/visualization.py, path=None, filename=/opt/local/Library/Frameworks/Python.framework/Versions/2.7/lib/python2.7/site-packages/qutip/visualization.py)\n"
       ]
      },
      {
       "output_type": "stream",
       "stream": "stderr",
       "text": [
        "DEBUG:Cloud.Transport:Dependent module qutip.wigner found (relfile=qutip/wigner.py, path=None, filename=/opt/local/Library/Frameworks/Python.framework/Versions/2.7/lib/python2.7/site-packages/qutip/wigner.py)\n"
       ]
      },
      {
       "output_type": "stream",
       "stream": "stderr",
       "text": [
        "DEBUG:Cloud.Transport:Dependent module qutip.orbital found (relfile=qutip/orbital.py, path=None, filename=/opt/local/Library/Frameworks/Python.framework/Versions/2.7/lib/python2.7/site-packages/qutip/orbital.py)\n"
       ]
      },
      {
       "output_type": "stream",
       "stream": "stderr",
       "text": [
        "DEBUG:Cloud.Transport:Dependent module mayavi found (relfile=mayavi/__init__.py, path=['/opt/local/Library/Frameworks/Python.framework/Versions/2.7/lib/python2.7/site-packages/mayavi'], filename=/opt/local/Library/Frameworks/Python.framework/Versions/2.7/lib/python2.7/site-packages/mayavi/__init__.py)\n"
       ]
      },
      {
       "output_type": "stream",
       "stream": "stderr",
       "text": [
        "DEBUG:Cloud.Transport:Dependent module qutip.bloch3d found (relfile=qutip/bloch3d.py, path=None, filename=/opt/local/Library/Frameworks/Python.framework/Versions/2.7/lib/python2.7/site-packages/qutip/bloch3d.py)\n"
       ]
      },
      {
       "output_type": "stream",
       "stream": "stderr",
       "text": [
        "DEBUG:Cloud.Transport:Dependent module mayavi.mlab found (relfile=mayavi/mlab.py, path=None, filename=/opt/local/Library/Frameworks/Python.framework/Versions/2.7/lib/python2.7/site-packages/mayavi/mlab.py)\n"
       ]
      },
      {
       "output_type": "stream",
       "stream": "stderr",
       "text": [
        "DEBUG:Cloud.Transport:Dependent module mayavi.tools found (relfile=mayavi/tools/__init__.py, path=['/opt/local/Library/Frameworks/Python.framework/Versions/2.7/lib/python2.7/site-packages/mayavi/tools'], filename=/opt/local/Library/Frameworks/Python.framework/Versions/2.7/lib/python2.7/site-packages/mayavi/tools/__init__.py)\n"
       ]
      },
      {
       "output_type": "stream",
       "stream": "stderr",
       "text": [
        "DEBUG:Cloud.Transport:Dependent module mayavi.tools.camera found (relfile=mayavi/tools/camera.py, path=None, filename=/opt/local/Library/Frameworks/Python.framework/Versions/2.7/lib/python2.7/site-packages/mayavi/tools/camera.py)\n"
       ]
      },
      {
       "output_type": "stream",
       "stream": "stderr",
       "text": [
        "DEBUG:Cloud.Transport:Dependent module mayavi.tools.engine_manager found (relfile=mayavi/tools/engine_manager.py, path=None, filename=/opt/local/Library/Frameworks/Python.framework/Versions/2.7/lib/python2.7/site-packages/mayavi/tools/engine_manager.py)\n"
       ]
      },
      {
       "output_type": "stream",
       "stream": "stderr",
       "text": [
        "DEBUG:Cloud.Transport:Dependent module mayavi.preferences found (relfile=mayavi/preferences/__init__.py, path=['/opt/local/Library/Frameworks/Python.framework/Versions/2.7/lib/python2.7/site-packages/mayavi/preferences'], filename=/opt/local/Library/Frameworks/Python.framework/Versions/2.7/lib/python2.7/site-packages/mayavi/preferences/__init__.py)\n"
       ]
      },
      {
       "output_type": "stream",
       "stream": "stderr",
       "text": [
        "DEBUG:Cloud.Transport:Dependent module mayavi.preferences.api found (relfile=mayavi/preferences/api.py, path=None, filename=/opt/local/Library/Frameworks/Python.framework/Versions/2.7/lib/python2.7/site-packages/mayavi/preferences/api.py)\n"
       ]
      },
      {
       "output_type": "stream",
       "stream": "stderr",
       "text": [
        "DEBUG:Cloud.Transport:Dependent module mayavi.preferences.preference_manager found (relfile=mayavi/preferences/preference_manager.py, path=None, filename=/opt/local/Library/Frameworks/Python.framework/Versions/2.7/lib/python2.7/site-packages/mayavi/preferences/preference_manager.py)\n"
       ]
      },
      {
       "output_type": "stream",
       "stream": "stderr",
       "text": [
        "DEBUG:Cloud.Transport:Dependent module apptools found (relfile=apptools/__init__.py, path=['/opt/local/Library/Frameworks/Python.framework/Versions/2.7/lib/python2.7/site-packages/apptools'], filename=/opt/local/Library/Frameworks/Python.framework/Versions/2.7/lib/python2.7/site-packages/apptools/__init__.py)\n"
       ]
      },
      {
       "output_type": "stream",
       "stream": "stderr",
       "text": [
        "DEBUG:Cloud.Transport:Dependent module apptools.preferences found (relfile=apptools/preferences/__init__.py, path=['/opt/local/Library/Frameworks/Python.framework/Versions/2.7/lib/python2.7/site-packages/apptools/preferences'], filename=/opt/local/Library/Frameworks/Python.framework/Versions/2.7/lib/python2.7/site-packages/apptools/preferences/__init__.py)\n"
       ]
      },
      {
       "output_type": "stream",
       "stream": "stderr",
       "text": [
        "DEBUG:Cloud.Transport:Dependent module apptools.preferences.api found (relfile=apptools/preferences/api.py, path=None, filename=/opt/local/Library/Frameworks/Python.framework/Versions/2.7/lib/python2.7/site-packages/apptools/preferences/api.py)\n"
       ]
      },
      {
       "output_type": "stream",
       "stream": "stderr",
       "text": [
        "DEBUG:Cloud.Transport:Dependent module apptools.preferences.i_preferences found (relfile=apptools/preferences/i_preferences.py, path=None, filename=/opt/local/Library/Frameworks/Python.framework/Versions/2.7/lib/python2.7/site-packages/apptools/preferences/i_preferences.py)\n"
       ]
      },
      {
       "output_type": "stream",
       "stream": "stderr",
       "text": [
        "DEBUG:Cloud.Transport:Dependent module apptools.preferences.package_globals found (relfile=apptools/preferences/package_globals.py, path=None, filename=/opt/local/Library/Frameworks/Python.framework/Versions/2.7/lib/python2.7/site-packages/apptools/preferences/package_globals.py)\n"
       ]
      },
      {
       "output_type": "stream",
       "stream": "stderr",
       "text": [
        "DEBUG:Cloud.Transport:Dependent module apptools.preferences.preferences found (relfile=apptools/preferences/preferences.py, path=None, filename=/opt/local/Library/Frameworks/Python.framework/Versions/2.7/lib/python2.7/site-packages/apptools/preferences/preferences.py)\n"
       ]
      },
      {
       "output_type": "stream",
       "stream": "stderr",
       "text": [
        "DEBUG:Cloud.Transport:Dependent module configobj found (relfile=configobj.py, path=None, filename=/opt/local/Library/Frameworks/Python.framework/Versions/2.7/lib/python2.7/site-packages/configobj.py)\n"
       ]
      },
      {
       "output_type": "stream",
       "stream": "stderr",
       "text": [
        "DEBUG:Cloud.Transport:Dependent module validate found (relfile=validate.py, path=None, filename=/opt/local/Library/Frameworks/Python.framework/Versions/2.7/lib/python2.7/site-packages/validate.py)\n"
       ]
      },
      {
       "output_type": "stream",
       "stream": "stderr",
       "text": [
        "DEBUG:Cloud.Transport:Dependent module apptools.preferences.preference_binding found (relfile=apptools/preferences/preference_binding.py, path=None, filename=/opt/local/Library/Frameworks/Python.framework/Versions/2.7/lib/python2.7/site-packages/apptools/preferences/preference_binding.py)\n"
       ]
      },
      {
       "output_type": "stream",
       "stream": "stderr",
       "text": [
        "DEBUG:Cloud.Transport:Dependent module apptools.preferences.preferences_helper found (relfile=apptools/preferences/preferences_helper.py, path=None, filename=/opt/local/Library/Frameworks/Python.framework/Versions/2.7/lib/python2.7/site-packages/apptools/preferences/preferences_helper.py)\n"
       ]
      },
      {
       "output_type": "stream",
       "stream": "stderr",
       "text": [
        "DEBUG:Cloud.Transport:Dependent module apptools.preferences.scoped_preferences found (relfile=apptools/preferences/scoped_preferences.py, path=None, filename=/opt/local/Library/Frameworks/Python.framework/Versions/2.7/lib/python2.7/site-packages/apptools/preferences/scoped_preferences.py)\n"
       ]
      },
      {
       "output_type": "stream",
       "stream": "stderr",
       "text": [
        "DEBUG:Cloud.Transport:Dependent module mayavi.preferences.preferences_helpers found (relfile=mayavi/preferences/preferences_helpers.py, path=None, filename=/opt/local/Library/Frameworks/Python.framework/Versions/2.7/lib/python2.7/site-packages/mayavi/preferences/preferences_helpers.py)\n"
       ]
      },
      {
       "output_type": "stream",
       "stream": "stderr",
       "text": [
        "DEBUG:Cloud.Transport:Dependent module mayavi.preferences.contrib_finder found (relfile=mayavi/preferences/contrib_finder.py, path=None, filename=/opt/local/Library/Frameworks/Python.framework/Versions/2.7/lib/python2.7/site-packages/mayavi/preferences/contrib_finder.py)\n"
       ]
      },
      {
       "output_type": "stream",
       "stream": "stderr",
       "text": [
        "DEBUG:Cloud.Transport:Dependent module mayavi.preferences.bindings found (relfile=mayavi/preferences/bindings.py, path=None, filename=/opt/local/Library/Frameworks/Python.framework/Versions/2.7/lib/python2.7/site-packages/mayavi/preferences/bindings.py)\n"
       ]
      },
      {
       "output_type": "stream",
       "stream": "stderr",
       "text": [
        "DEBUG:Cloud.Transport:Dependent module mayavi.core found (relfile=mayavi/core/__init__.py, path=['/opt/local/Library/Frameworks/Python.framework/Versions/2.7/lib/python2.7/site-packages/mayavi/core'], filename=/opt/local/Library/Frameworks/Python.framework/Versions/2.7/lib/python2.7/site-packages/mayavi/core/__init__.py)\n"
       ]
      },
      {
       "output_type": "stream",
       "stream": "stderr",
       "text": [
        "DEBUG:Cloud.Transport:Dependent module mayavi.core.registry found (relfile=mayavi/core/registry.py, path=None, filename=/opt/local/Library/Frameworks/Python.framework/Versions/2.7/lib/python2.7/site-packages/mayavi/core/registry.py)\n"
       ]
      },
      {
       "output_type": "stream",
       "stream": "stderr",
       "text": [
        "DEBUG:Cloud.Transport:Dependent module mayavi.core.metadata found (relfile=mayavi/core/metadata.py, path=None, filename=/opt/local/Library/Frameworks/Python.framework/Versions/2.7/lib/python2.7/site-packages/mayavi/core/metadata.py)\n"
       ]
      },
      {
       "output_type": "stream",
       "stream": "stderr",
       "text": [
        "DEBUG:Cloud.Transport:Dependent module mayavi.core.pipeline_info found (relfile=mayavi/core/pipeline_info.py, path=None, filename=/opt/local/Library/Frameworks/Python.framework/Versions/2.7/lib/python2.7/site-packages/mayavi/core/pipeline_info.py)\n"
       ]
      },
      {
       "output_type": "stream",
       "stream": "stderr",
       "text": [
        "DEBUG:Cloud.Transport:Dependent module mayavi.sources found (relfile=mayavi/sources/__init__.py, path=['/opt/local/Library/Frameworks/Python.framework/Versions/2.7/lib/python2.7/site-packages/mayavi/sources'], filename=/opt/local/Library/Frameworks/Python.framework/Versions/2.7/lib/python2.7/site-packages/mayavi/sources/__init__.py)\n"
       ]
      },
      {
       "output_type": "stream",
       "stream": "stderr",
       "text": [
        "DEBUG:Cloud.Transport:Dependent module mayavi.sources.metadata found (relfile=mayavi/sources/metadata.py, path=None, filename=/opt/local/Library/Frameworks/Python.framework/Versions/2.7/lib/python2.7/site-packages/mayavi/sources/metadata.py)\n"
       ]
      },
      {
       "output_type": "stream",
       "stream": "stderr",
       "text": [
        "DEBUG:Cloud.Transport:Dependent module mayavi.filters found (relfile=mayavi/filters/__init__.py, path=['/opt/local/Library/Frameworks/Python.framework/Versions/2.7/lib/python2.7/site-packages/mayavi/filters'], filename=/opt/local/Library/Frameworks/Python.framework/Versions/2.7/lib/python2.7/site-packages/mayavi/filters/__init__.py)\n"
       ]
      },
      {
       "output_type": "stream",
       "stream": "stderr",
       "text": [
        "DEBUG:Cloud.Transport:Dependent module mayavi.filters.metadata found (relfile=mayavi/filters/metadata.py, path=None, filename=/opt/local/Library/Frameworks/Python.framework/Versions/2.7/lib/python2.7/site-packages/mayavi/filters/metadata.py)\n"
       ]
      },
      {
       "output_type": "stream",
       "stream": "stderr",
       "text": [
        "DEBUG:Cloud.Transport:Dependent module mayavi.filters.user_defined found (relfile=mayavi/filters/user_defined.py, path=None, filename=/opt/local/Library/Frameworks/Python.framework/Versions/2.7/lib/python2.7/site-packages/mayavi/filters/user_defined.py)\n"
       ]
      },
      {
       "output_type": "stream",
       "stream": "stderr",
       "text": [
        "DEBUG:Cloud.Transport:Dependent module tvtk found (relfile=tvtk/__init__.py, path=['/opt/local/Library/Frameworks/Python.framework/Versions/2.7/lib/python2.7/site-packages/tvtk'], filename=/opt/local/Library/Frameworks/Python.framework/Versions/2.7/lib/python2.7/site-packages/tvtk/__init__.py)\n"
       ]
      },
      {
       "output_type": "stream",
       "stream": "stderr",
       "text": [
        "DEBUG:Cloud.Transport:Dependent module tvtk.tools found (relfile=tvtk/tools/__init__.py, path=['/opt/local/Library/Frameworks/Python.framework/Versions/2.7/lib/python2.7/site-packages/tvtk/tools'], filename=/opt/local/Library/Frameworks/Python.framework/Versions/2.7/lib/python2.7/site-packages/tvtk/tools/__init__.py)\n"
       ]
      },
      {
       "output_type": "stream",
       "stream": "stderr",
       "text": [
        "DEBUG:Cloud.Transport:Dependent module tvtk.tools.tvtk_doc found (relfile=tvtk/tools/tvtk_doc.py, path=None, filename=/opt/local/Library/Frameworks/Python.framework/Versions/2.7/lib/python2.7/site-packages/tvtk/tools/tvtk_doc.py)\n"
       ]
      },
      {
       "output_type": "stream",
       "stream": "stderr",
       "text": [
        "DEBUG:Cloud.Transport:Dependent module vtk found (relfile=vtk/__init__.py, path=['/opt/local/Library/Frameworks/Python.framework/Versions/2.7/lib/python2.7/site-packages/vtk'], filename=/opt/local/Library/Frameworks/Python.framework/Versions/2.7/lib/python2.7/site-packages/vtk/__init__.py)\n"
       ]
      },
      {
       "output_type": "stream",
       "stream": "stderr",
       "text": [
        "DEBUG:Cloud.Transport:Dependent module vtk.__helper found (relfile=vtk/__helper.py, path=None, filename=/opt/local/Library/Frameworks/Python.framework/Versions/2.7/lib/python2.7/site-packages/vtk/__helper.py)\n"
       ]
      },
      {
       "output_type": "stream",
       "stream": "stderr",
       "text": [
        "WARNING:Cloud.Transport:Cloud cannot transmit python extension 'vtk.vtkCommonPython' located at '/opt/local/Library/Frameworks/Python.framework/Versions/2.7/lib/python2.7/site-packages/vtk/vtkCommonPython.so'.  Import errors may result; please see PiCloud documentation.\n"
       ]
      },
      {
       "output_type": "stream",
       "stream": "stderr",
       "text": [
        "WARNING:Cloud.Transport:Cloud cannot transmit python extension 'vtk.vtkFilteringPython' located at '/opt/local/Library/Frameworks/Python.framework/Versions/2.7/lib/python2.7/site-packages/vtk/vtkFilteringPython.so'.  Import errors may result; please see PiCloud documentation.\n"
       ]
      },
      {
       "output_type": "stream",
       "stream": "stderr",
       "text": [
        "WARNING:Cloud.Transport:Cloud cannot transmit python extension 'vtk.vtkIOPython' located at '/opt/local/Library/Frameworks/Python.framework/Versions/2.7/lib/python2.7/site-packages/vtk/vtkIOPython.so'.  Import errors may result; please see PiCloud documentation.\n"
       ]
      },
      {
       "output_type": "stream",
       "stream": "stderr",
       "text": [
        "WARNING:Cloud.Transport:Cloud cannot transmit python extension 'vtk.vtkImagingPython' located at '/opt/local/Library/Frameworks/Python.framework/Versions/2.7/lib/python2.7/site-packages/vtk/vtkImagingPython.so'.  Import errors may result; please see PiCloud documentation.\n"
       ]
      },
      {
       "output_type": "stream",
       "stream": "stderr",
       "text": [
        "WARNING:Cloud.Transport:Cloud cannot transmit python extension 'vtk.vtkGraphicsPython' located at '/opt/local/Library/Frameworks/Python.framework/Versions/2.7/lib/python2.7/site-packages/vtk/vtkGraphicsPython.so'.  Import errors may result; please see PiCloud documentation.\n"
       ]
      },
      {
       "output_type": "stream",
       "stream": "stderr",
       "text": [
        "WARNING:Cloud.Transport:Cloud cannot transmit python extension 'vtk.vtkGenericFilteringPython' located at '/opt/local/Library/Frameworks/Python.framework/Versions/2.7/lib/python2.7/site-packages/vtk/vtkGenericFilteringPython.so'.  Import errors may result; please see PiCloud documentation.\n"
       ]
      },
      {
       "output_type": "stream",
       "stream": "stderr",
       "text": [
        "WARNING:Cloud.Transport:Cloud cannot transmit python extension 'vtk.vtkRenderingPython' located at '/opt/local/Library/Frameworks/Python.framework/Versions/2.7/lib/python2.7/site-packages/vtk/vtkRenderingPython.so'.  Import errors may result; please see PiCloud documentation.\n"
       ]
      },
      {
       "output_type": "stream",
       "stream": "stderr",
       "text": [
        "WARNING:Cloud.Transport:Cloud cannot transmit python extension 'vtk.vtkVolumeRenderingPython' located at '/opt/local/Library/Frameworks/Python.framework/Versions/2.7/lib/python2.7/site-packages/vtk/vtkVolumeRenderingPython.so'.  Import errors may result; please see PiCloud documentation.\n"
       ]
      },
      {
       "output_type": "stream",
       "stream": "stderr",
       "text": [
        "WARNING:Cloud.Transport:Cloud cannot transmit python extension 'vtk.vtkHybridPython' located at '/opt/local/Library/Frameworks/Python.framework/Versions/2.7/lib/python2.7/site-packages/vtk/vtkHybridPython.so'.  Import errors may result; please see PiCloud documentation.\n"
       ]
      },
      {
       "output_type": "stream",
       "stream": "stderr",
       "text": [
        "WARNING:Cloud.Transport:Cloud cannot transmit python extension 'vtk.vtkWidgetsPython' located at '/opt/local/Library/Frameworks/Python.framework/Versions/2.7/lib/python2.7/site-packages/vtk/vtkWidgetsPython.so'.  Import errors may result; please see PiCloud documentation.\n"
       ]
      },
      {
       "output_type": "stream",
       "stream": "stderr",
       "text": [
        "WARNING:Cloud.Transport:Cloud cannot transmit python extension 'vtk.vtkChartsPython' located at '/opt/local/Library/Frameworks/Python.framework/Versions/2.7/lib/python2.7/site-packages/vtk/vtkChartsPython.so'.  Import errors may result; please see PiCloud documentation.\n"
       ]
      },
      {
       "output_type": "stream",
       "stream": "stderr",
       "text": [
        "WARNING:Cloud.Transport:Cloud cannot transmit python extension 'vtk.vtkGeovisPython' located at '/opt/local/Library/Frameworks/Python.framework/Versions/2.7/lib/python2.7/site-packages/vtk/vtkGeovisPython.so'.  Import errors may result; please see PiCloud documentation.\n"
       ]
      },
      {
       "output_type": "stream",
       "stream": "stderr",
       "text": [
        "WARNING:Cloud.Transport:Cloud cannot transmit python extension 'vtk.vtkInfovisPython' located at '/opt/local/Library/Frameworks/Python.framework/Versions/2.7/lib/python2.7/site-packages/vtk/vtkInfovisPython.so'.  Import errors may result; please see PiCloud documentation.\n"
       ]
      },
      {
       "output_type": "stream",
       "stream": "stderr",
       "text": [
        "WARNING:Cloud.Transport:Cloud cannot transmit python extension 'vtk.vtkViewsPython' located at '/opt/local/Library/Frameworks/Python.framework/Versions/2.7/lib/python2.7/site-packages/vtk/vtkViewsPython.so'.  Import errors may result; please see PiCloud documentation.\n"
       ]
      },
      {
       "output_type": "stream",
       "stream": "stderr",
       "text": [
        "DEBUG:Cloud.Transport:Dependent module vtk.qvtk found (relfile=vtk/qvtk.py, path=None, filename=/opt/local/Library/Frameworks/Python.framework/Versions/2.7/lib/python2.7/site-packages/vtk/qvtk.py)\n"
       ]
      },
      {
       "output_type": "stream",
       "stream": "stderr",
       "text": [
        "DEBUG:Cloud.Transport:Dependent module vtk.util found (relfile=vtk/util/__init__.py, path=['/opt/local/Library/Frameworks/Python.framework/Versions/2.7/lib/python2.7/site-packages/vtk/util'], filename=/opt/local/Library/Frameworks/Python.framework/Versions/2.7/lib/python2.7/site-packages/vtk/util/__init__.py)\n"
       ]
      },
      {
       "output_type": "stream",
       "stream": "stderr",
       "text": [
        "DEBUG:Cloud.Transport:Dependent module vtk.util.vtkVariant found (relfile=vtk/util/vtkVariant.py, path=None, filename=/opt/local/Library/Frameworks/Python.framework/Versions/2.7/lib/python2.7/site-packages/vtk/util/vtkVariant.py)\n"
       ]
      },
      {
       "output_type": "stream",
       "stream": "stderr",
       "text": [
        "DEBUG:Cloud.Transport:Dependent module tvtk.api found (relfile=tvtk/api.py, path=None, filename=/opt/local/Library/Frameworks/Python.framework/Versions/2.7/lib/python2.7/site-packages/tvtk/api.py)\n"
       ]
      },
      {
       "output_type": "stream",
       "stream": "stderr",
       "text": [
        "DEBUG:Cloud.Transport:Dependent module tvtk.version found (relfile=tvtk/version.py, path=None, filename=/opt/local/Library/Frameworks/Python.framework/Versions/2.7/lib/python2.7/site-packages/tvtk/version.py)\n"
       ]
      },
      {
       "output_type": "stream",
       "stream": "stderr",
       "text": [
        "DEBUG:Cloud.Transport:Dependent module tvtk.tvtk_access found (relfile=tvtk/tvtk_access.py, path=None, filename=/opt/local/Library/Frameworks/Python.framework/Versions/2.7/lib/python2.7/site-packages/tvtk/tvtk_access.py)\n"
       ]
      },
      {
       "output_type": "stream",
       "stream": "stderr",
       "text": [
        "DEBUG:Cloud.Transport:Dependent module vtk.util.colors found (relfile=vtk/util/colors.py, path=None, filename=/opt/local/Library/Frameworks/Python.framework/Versions/2.7/lib/python2.7/site-packages/vtk/util/colors.py)\n"
       ]
      },
      {
       "output_type": "stream",
       "stream": "stderr",
       "text": [
        "DEBUG:Cloud.Transport:Dependent module tvtk.misc found (relfile=tvtk/misc.py, path=None, filename=/opt/local/Library/Frameworks/Python.framework/Versions/2.7/lib/python2.7/site-packages/tvtk/misc.py)\n"
       ]
      },
      {
       "output_type": "stream",
       "stream": "stderr",
       "text": [
        "DEBUG:Cloud.Transport:Dependent module tvtk.common found (relfile=tvtk/common.py, path=None, filename=/opt/local/Library/Frameworks/Python.framework/Versions/2.7/lib/python2.7/site-packages/tvtk/common.py)\n"
       ]
      },
      {
       "output_type": "stream",
       "stream": "stderr",
       "text": [
        "DEBUG:Cloud.Transport:Dependent module mayavi.filters.filter_base found (relfile=mayavi/filters/filter_base.py, path=None, filename=/opt/local/Library/Frameworks/Python.framework/Versions/2.7/lib/python2.7/site-packages/mayavi/filters/filter_base.py)\n"
       ]
      },
      {
       "output_type": "stream",
       "stream": "stderr",
       "text": [
        "DEBUG:Cloud.Transport:Dependent module mayavi.core.filter found (relfile=mayavi/core/filter.py, path=None, filename=/opt/local/Library/Frameworks/Python.framework/Versions/2.7/lib/python2.7/site-packages/mayavi/core/filter.py)\n"
       ]
      },
      {
       "output_type": "stream",
       "stream": "stderr",
       "text": [
        "DEBUG:Cloud.Transport:Dependent module mayavi.core.source found (relfile=mayavi/core/source.py, path=None, filename=/opt/local/Library/Frameworks/Python.framework/Versions/2.7/lib/python2.7/site-packages/mayavi/core/source.py)\n"
       ]
      },
      {
       "output_type": "stream",
       "stream": "stderr",
       "text": [
        "DEBUG:Cloud.Transport:Dependent module apptools.persistence found (relfile=apptools/persistence/__init__.py, path=['/opt/local/Library/Frameworks/Python.framework/Versions/2.7/lib/python2.7/site-packages/apptools/persistence'], filename=/opt/local/Library/Frameworks/Python.framework/Versions/2.7/lib/python2.7/site-packages/apptools/persistence/__init__.py)\n"
       ]
      },
      {
       "output_type": "stream",
       "stream": "stderr",
       "text": [
        "DEBUG:Cloud.Transport:Dependent module apptools.persistence.state_pickler found (relfile=apptools/persistence/state_pickler.py, path=None, filename=/opt/local/Library/Frameworks/Python.framework/Versions/2.7/lib/python2.7/site-packages/apptools/persistence/state_pickler.py)\n"
       ]
      },
      {
       "output_type": "stream",
       "stream": "stderr",
       "text": [
        "DEBUG:Cloud.Transport:Dependent module apptools.persistence.version_registry found (relfile=apptools/persistence/version_registry.py, path=None, filename=/opt/local/Library/Frameworks/Python.framework/Versions/2.7/lib/python2.7/site-packages/apptools/persistence/version_registry.py)\n"
       ]
      },
      {
       "output_type": "stream",
       "stream": "stderr",
       "text": [
        "DEBUG:Cloud.Transport:Dependent module apptools.persistence.file_path found (relfile=apptools/persistence/file_path.py, path=None, filename=/opt/local/Library/Frameworks/Python.framework/Versions/2.7/lib/python2.7/site-packages/apptools/persistence/file_path.py)\n"
       ]
      },
      {
       "output_type": "stream",
       "stream": "stderr",
       "text": [
        "DEBUG:Cloud.Transport:Dependent module apptools.scripting found (relfile=apptools/scripting/__init__.py, path=['/opt/local/Library/Frameworks/Python.framework/Versions/2.7/lib/python2.7/site-packages/apptools/scripting'], filename=/opt/local/Library/Frameworks/Python.framework/Versions/2.7/lib/python2.7/site-packages/apptools/scripting/__init__.py)\n"
       ]
      },
      {
       "output_type": "stream",
       "stream": "stderr",
       "text": [
        "DEBUG:Cloud.Transport:Dependent module apptools.scripting.api found (relfile=apptools/scripting/api.py, path=None, filename=/opt/local/Library/Frameworks/Python.framework/Versions/2.7/lib/python2.7/site-packages/apptools/scripting/api.py)\n"
       ]
      },
      {
       "output_type": "stream",
       "stream": "stderr",
       "text": [
        "DEBUG:Cloud.Transport:Dependent module apptools.scripting.recorder found (relfile=apptools/scripting/recorder.py, path=None, filename=/opt/local/Library/Frameworks/Python.framework/Versions/2.7/lib/python2.7/site-packages/apptools/scripting/recorder.py)\n"
       ]
      },
      {
       "output_type": "stream",
       "stream": "stderr",
       "text": [
        "DEBUG:Cloud.Transport:Dependent module apptools.scripting.recordable found (relfile=apptools/scripting/recordable.py, path=None, filename=/opt/local/Library/Frameworks/Python.framework/Versions/2.7/lib/python2.7/site-packages/apptools/scripting/recordable.py)\n"
       ]
      },
      {
       "output_type": "stream",
       "stream": "stderr",
       "text": [
        "DEBUG:Cloud.Transport:Dependent module apptools.scripting.package_globals found (relfile=apptools/scripting/package_globals.py, path=None, filename=/opt/local/Library/Frameworks/Python.framework/Versions/2.7/lib/python2.7/site-packages/apptools/scripting/package_globals.py)\n"
       ]
      },
      {
       "output_type": "stream",
       "stream": "stderr",
       "text": [
        "DEBUG:Cloud.Transport:Dependent module apptools.scripting.recorder_with_ui found (relfile=apptools/scripting/recorder_with_ui.py, path=None, filename=/opt/local/Library/Frameworks/Python.framework/Versions/2.7/lib/python2.7/site-packages/apptools/scripting/recorder_with_ui.py)\n"
       ]
      },
      {
       "output_type": "stream",
       "stream": "stderr",
       "text": [
        "DEBUG:Cloud.Transport:Dependent module apptools.scripting.util found (relfile=apptools/scripting/util.py, path=None, filename=/opt/local/Library/Frameworks/Python.framework/Versions/2.7/lib/python2.7/site-packages/apptools/scripting/util.py)\n"
       ]
      },
      {
       "output_type": "stream",
       "stream": "stderr",
       "text": [
        "DEBUG:Cloud.Transport:Dependent module mayavi.core.base found (relfile=mayavi/core/base.py, path=None, filename=/opt/local/Library/Frameworks/Python.framework/Versions/2.7/lib/python2.7/site-packages/mayavi/core/base.py)\n"
       ]
      },
      {
       "output_type": "stream",
       "stream": "stderr",
       "text": [
        "DEBUG:Cloud.Transport:Dependent module tvtk.pyface found (relfile=tvtk/pyface/__init__.py, path=['/opt/local/Library/Frameworks/Python.framework/Versions/2.7/lib/python2.7/site-packages/tvtk/pyface'], filename=/opt/local/Library/Frameworks/Python.framework/Versions/2.7/lib/python2.7/site-packages/tvtk/pyface/__init__.py)\n"
       ]
      },
      {
       "output_type": "stream",
       "stream": "stderr",
       "text": [
        "DEBUG:Cloud.Transport:Dependent module tvtk.pyface.tvtk_scene found (relfile=tvtk/pyface/tvtk_scene.py, path=None, filename=/opt/local/Library/Frameworks/Python.framework/Versions/2.7/lib/python2.7/site-packages/tvtk/pyface/tvtk_scene.py)\n"
       ]
      },
      {
       "output_type": "stream",
       "stream": "stderr",
       "text": [
        "DEBUG:Cloud.Transport:Dependent module tvtk.messenger found (relfile=tvtk/messenger.py, path=None, filename=/opt/local/Library/Frameworks/Python.framework/Versions/2.7/lib/python2.7/site-packages/tvtk/messenger.py)\n"
       ]
      },
      {
       "output_type": "stream",
       "stream": "stderr",
       "text": [
        "DEBUG:Cloud.Transport:Dependent module tvtk.tvtk_base found (relfile=tvtk/tvtk_base.py, path=None, filename=/opt/local/Library/Frameworks/Python.framework/Versions/2.7/lib/python2.7/site-packages/tvtk/tvtk_base.py)\n"
       ]
      },
      {
       "output_type": "stream",
       "stream": "stderr",
       "text": [
        "DEBUG:Cloud.Transport:Dependent module tvtk.pyface.light_manager found (relfile=tvtk/pyface/light_manager.py, path=None, filename=/opt/local/Library/Frameworks/Python.framework/Versions/2.7/lib/python2.7/site-packages/tvtk/pyface/light_manager.py)\n"
       ]
      },
      {
       "output_type": "stream",
       "stream": "stderr",
       "text": [
        "DEBUG:Cloud.Transport:Dependent module mayavi.core.common found (relfile=mayavi/core/common.py, path=None, filename=/opt/local/Library/Frameworks/Python.framework/Versions/2.7/lib/python2.7/site-packages/mayavi/core/common.py)\n"
       ]
      },
      {
       "output_type": "stream",
       "stream": "stderr",
       "text": [
        "DEBUG:Cloud.Transport:Dependent module mayavi.core.engine found (relfile=mayavi/core/engine.py, path=None, filename=/opt/local/Library/Frameworks/Python.framework/Versions/2.7/lib/python2.7/site-packages/mayavi/core/engine.py)\n"
       ]
      },
      {
       "output_type": "stream",
       "stream": "stderr",
       "text": [
        "DEBUG:Cloud.Transport:Dependent module mayavi.core.scene found (relfile=mayavi/core/scene.py, path=None, filename=/opt/local/Library/Frameworks/Python.framework/Versions/2.7/lib/python2.7/site-packages/mayavi/core/scene.py)\n"
       ]
      },
      {
       "output_type": "stream",
       "stream": "stderr",
       "text": [
        "DEBUG:Cloud.Transport:Dependent module mayavi.core.adder_node found (relfile=mayavi/core/adder_node.py, path=None, filename=/opt/local/Library/Frameworks/Python.framework/Versions/2.7/lib/python2.7/site-packages/mayavi/core/adder_node.py)\n"
       ]
      },
      {
       "output_type": "stream",
       "stream": "stderr",
       "text": [
        "DEBUG:Cloud.Transport:Dependent module mayavi.core.traits_menu found (relfile=mayavi/core/traits_menu.py, path=None, filename=/opt/local/Library/Frameworks/Python.framework/Versions/2.7/lib/python2.7/site-packages/mayavi/core/traits_menu.py)\n"
       ]
      },
      {
       "output_type": "stream",
       "stream": "stderr",
       "text": [
        "DEBUG:Cloud.Transport:Dependent module mayavi.core.mouse_pick_dispatcher found (relfile=mayavi/core/mouse_pick_dispatcher.py, path=None, filename=/opt/local/Library/Frameworks/Python.framework/Versions/2.7/lib/python2.7/site-packages/mayavi/core/mouse_pick_dispatcher.py)\n"
       ]
      },
      {
       "output_type": "stream",
       "stream": "stderr",
       "text": [
        "DEBUG:Cloud.Transport:Dependent module mayavi.core.ui found (relfile=mayavi/core/ui/__init__.py, path=['/opt/local/Library/Frameworks/Python.framework/Versions/2.7/lib/python2.7/site-packages/mayavi/core/ui'], filename=/opt/local/Library/Frameworks/Python.framework/Versions/2.7/lib/python2.7/site-packages/mayavi/core/ui/__init__.py)\n"
       ]
      },
      {
       "output_type": "stream",
       "stream": "stderr",
       "text": [
        "DEBUG:Cloud.Transport:Dependent module mayavi.core.ui.mayavi_scene found (relfile=mayavi/core/ui/mayavi_scene.py, path=None, filename=/opt/local/Library/Frameworks/Python.framework/Versions/2.7/lib/python2.7/site-packages/mayavi/core/ui/mayavi_scene.py)\n"
       ]
      },
      {
       "output_type": "stream",
       "stream": "stderr",
       "text": [
        "DEBUG:Cloud.Transport:Dependent module tvtk.tools.ivtk found (relfile=tvtk/tools/ivtk.py, path=None, filename=/opt/local/Library/Frameworks/Python.framework/Versions/2.7/lib/python2.7/site-packages/tvtk/tools/ivtk.py)\n"
       ]
      },
      {
       "output_type": "stream",
       "stream": "stderr",
       "text": [
        "DEBUG:Cloud.Transport:Dependent module tvtk.pyface.api found (relfile=tvtk/pyface/api.py, path=None, filename=/opt/local/Library/Frameworks/Python.framework/Versions/2.7/lib/python2.7/site-packages/tvtk/pyface/api.py)\n"
       ]
      },
      {
       "output_type": "stream",
       "stream": "stderr",
       "text": [
        "DEBUG:Cloud.Transport:Dependent module tvtk.pyface.decorated_scene found (relfile=tvtk/pyface/decorated_scene.py, path=None, filename=/opt/local/Library/Frameworks/Python.framework/Versions/2.7/lib/python2.7/site-packages/tvtk/pyface/decorated_scene.py)\n"
       ]
      },
      {
       "output_type": "stream",
       "stream": "stderr",
       "text": [
        "DEBUG:Cloud.Transport:Dependent module tvtk.pyface.toolkit found (relfile=tvtk/pyface/toolkit.py, path=None, filename=/opt/local/Library/Frameworks/Python.framework/Versions/2.7/lib/python2.7/site-packages/tvtk/pyface/toolkit.py)\n"
       ]
      },
      {
       "output_type": "stream",
       "stream": "stderr",
       "text": [
        "DEBUG:Cloud.Transport:Dependent module tvtk.pyface.scene found (relfile=tvtk/pyface/scene.py, path=None, filename=/opt/local/Library/Frameworks/Python.framework/Versions/2.7/lib/python2.7/site-packages/tvtk/pyface/scene.py)\n"
       ]
      },
      {
       "output_type": "stream",
       "stream": "stderr",
       "text": [
        "DEBUG:Cloud.Transport:Dependent module tvtk.pipeline found (relfile=tvtk/pipeline/__init__.py, path=['/opt/local/Library/Frameworks/Python.framework/Versions/2.7/lib/python2.7/site-packages/tvtk/pipeline'], filename=/opt/local/Library/Frameworks/Python.framework/Versions/2.7/lib/python2.7/site-packages/tvtk/pipeline/__init__.py)\n"
       ]
      },
      {
       "output_type": "stream",
       "stream": "stderr",
       "text": [
        "DEBUG:Cloud.Transport:Dependent module tvtk.pipeline.browser found (relfile=tvtk/pipeline/browser.py, path=None, filename=/opt/local/Library/Frameworks/Python.framework/Versions/2.7/lib/python2.7/site-packages/tvtk/pipeline/browser.py)\n"
       ]
      },
      {
       "output_type": "stream",
       "stream": "stderr",
       "text": [
        "DEBUG:Cloud.Transport:Dependent module tvtk.tvtk_base_handler found (relfile=tvtk/tvtk_base_handler.py, path=None, filename=/opt/local/Library/Frameworks/Python.framework/Versions/2.7/lib/python2.7/site-packages/tvtk/tvtk_base_handler.py)\n"
       ]
      },
      {
       "output_type": "stream",
       "stream": "stderr",
       "text": [
        "DEBUG:Cloud.Transport:Dependent module mayavi.tools.show found (relfile=mayavi/tools/show.py, path=None, filename=/opt/local/Library/Frameworks/Python.framework/Versions/2.7/lib/python2.7/site-packages/mayavi/tools/show.py)\n"
       ]
      },
      {
       "output_type": "stream",
       "stream": "stderr",
       "text": [
        "DEBUG:Cloud.Transport:Dependent module mayavi.core.ui.engine_rich_view found (relfile=mayavi/core/ui/engine_rich_view.py, path=None, filename=/opt/local/Library/Frameworks/Python.framework/Versions/2.7/lib/python2.7/site-packages/mayavi/core/ui/engine_rich_view.py)\n"
       ]
      },
      {
       "output_type": "stream",
       "stream": "stderr",
       "text": [
        "DEBUG:Cloud.Transport:Dependent module mayavi.preferences.preference_manager_view found (relfile=mayavi/preferences/preference_manager_view.py, path=None, filename=/opt/local/Library/Frameworks/Python.framework/Versions/2.7/lib/python2.7/site-packages/mayavi/preferences/preference_manager_view.py)\n"
       ]
      },
      {
       "output_type": "stream",
       "stream": "stderr",
       "text": [
        "DEBUG:Cloud.Transport:Dependent module apptools.preferences.ui found (relfile=apptools/preferences/ui/__init__.py, path=['/opt/local/Library/Frameworks/Python.framework/Versions/2.7/lib/python2.7/site-packages/apptools/preferences/ui'], filename=/opt/local/Library/Frameworks/Python.framework/Versions/2.7/lib/python2.7/site-packages/apptools/preferences/ui/__init__.py)\n"
       ]
      },
      {
       "output_type": "stream",
       "stream": "stderr",
       "text": [
        "DEBUG:Cloud.Transport:Dependent module apptools.preferences.ui.api found (relfile=apptools/preferences/ui/api.py, path=None, filename=/opt/local/Library/Frameworks/Python.framework/Versions/2.7/lib/python2.7/site-packages/apptools/preferences/ui/api.py)\n"
       ]
      },
      {
       "output_type": "stream",
       "stream": "stderr",
       "text": [
        "DEBUG:Cloud.Transport:Dependent module apptools.preferences.ui.i_preferences_page found (relfile=apptools/preferences/ui/i_preferences_page.py, path=None, filename=/opt/local/Library/Frameworks/Python.framework/Versions/2.7/lib/python2.7/site-packages/apptools/preferences/ui/i_preferences_page.py)\n"
       ]
      },
      {
       "output_type": "stream",
       "stream": "stderr",
       "text": [
        "DEBUG:Cloud.Transport:Dependent module apptools.preferences.ui.preferences_manager found (relfile=apptools/preferences/ui/preferences_manager.py, path=None, filename=/opt/local/Library/Frameworks/Python.framework/Versions/2.7/lib/python2.7/site-packages/apptools/preferences/ui/preferences_manager.py)\n"
       ]
      },
      {
       "output_type": "stream",
       "stream": "stderr",
       "text": [
        "DEBUG:Cloud.Transport:Dependent module apptools.preferences.ui.preferences_node found (relfile=apptools/preferences/ui/preferences_node.py, path=None, filename=/opt/local/Library/Frameworks/Python.framework/Versions/2.7/lib/python2.7/site-packages/apptools/preferences/ui/preferences_node.py)\n"
       ]
      },
      {
       "output_type": "stream",
       "stream": "stderr",
       "text": [
        "DEBUG:Cloud.Transport:Dependent module apptools.preferences.ui.tree_item found (relfile=apptools/preferences/ui/tree_item.py, path=None, filename=/opt/local/Library/Frameworks/Python.framework/Versions/2.7/lib/python2.7/site-packages/apptools/preferences/ui/tree_item.py)\n"
       ]
      },
      {
       "output_type": "stream",
       "stream": "stderr",
       "text": [
        "DEBUG:Cloud.Transport:Dependent module apptools.preferences.ui.preferences_page found (relfile=apptools/preferences/ui/preferences_page.py, path=None, filename=/opt/local/Library/Frameworks/Python.framework/Versions/2.7/lib/python2.7/site-packages/apptools/preferences/ui/preferences_page.py)\n"
       ]
      },
      {
       "output_type": "stream",
       "stream": "stderr",
       "text": [
        "DEBUG:Cloud.Transport:Dependent module mayavi.preferences.mayavi_preferences_page found (relfile=mayavi/preferences/mayavi_preferences_page.py, path=None, filename=/opt/local/Library/Frameworks/Python.framework/Versions/2.7/lib/python2.7/site-packages/mayavi/preferences/mayavi_preferences_page.py)\n"
       ]
      },
      {
       "output_type": "stream",
       "stream": "stderr",
       "text": [
        "DEBUG:Cloud.Transport:Dependent module mayavi.core.ui.engine_view found (relfile=mayavi/core/ui/engine_view.py, path=None, filename=/opt/local/Library/Frameworks/Python.framework/Versions/2.7/lib/python2.7/site-packages/mayavi/core/ui/engine_view.py)\n"
       ]
      },
      {
       "output_type": "stream",
       "stream": "stderr",
       "text": [
        "DEBUG:Cloud.Transport:Dependent module mayavi.action found (relfile=mayavi/action/__init__.py, path=['/opt/local/Library/Frameworks/Python.framework/Versions/2.7/lib/python2.7/site-packages/mayavi/action'], filename=/opt/local/Library/Frameworks/Python.framework/Versions/2.7/lib/python2.7/site-packages/mayavi/action/__init__.py)\n"
       ]
      },
      {
       "output_type": "stream",
       "stream": "stderr",
       "text": [
        "DEBUG:Cloud.Transport:Dependent module mayavi.action.help found (relfile=mayavi/action/help.py, path=None, filename=/opt/local/Library/Frameworks/Python.framework/Versions/2.7/lib/python2.7/site-packages/mayavi/action/help.py)\n"
       ]
      },
      {
       "output_type": "stream",
       "stream": "stderr",
       "text": [
        "DEBUG:Cloud.Transport:Dependent module mayavi.api found (relfile=mayavi/api.py, path=None, filename=/opt/local/Library/Frameworks/Python.framework/Versions/2.7/lib/python2.7/site-packages/mayavi/api.py)\n"
       ]
      },
      {
       "output_type": "stream",
       "stream": "stderr",
       "text": [
        "DEBUG:Cloud.Transport:Dependent module mayavi.version found (relfile=mayavi/version.py, path=None, filename=/opt/local/Library/Frameworks/Python.framework/Versions/2.7/lib/python2.7/site-packages/mayavi/version.py)\n"
       ]
      },
      {
       "output_type": "stream",
       "stream": "stderr",
       "text": [
        "DEBUG:Cloud.Transport:Dependent module mayavi.core.off_screen_engine found (relfile=mayavi/core/off_screen_engine.py, path=None, filename=/opt/local/Library/Frameworks/Python.framework/Versions/2.7/lib/python2.7/site-packages/mayavi/core/off_screen_engine.py)\n"
       ]
      },
      {
       "output_type": "stream",
       "stream": "stderr",
       "text": [
        "DEBUG:Cloud.Transport:Dependent module mayavi.tests found (relfile=mayavi/tests/__init__.py, path=['/opt/local/Library/Frameworks/Python.framework/Versions/2.7/lib/python2.7/site-packages/mayavi/tests'], filename=/opt/local/Library/Frameworks/Python.framework/Versions/2.7/lib/python2.7/site-packages/mayavi/tests/__init__.py)\n"
       ]
      },
      {
       "output_type": "stream",
       "stream": "stderr",
       "text": [
        "DEBUG:Cloud.Transport:Dependent module mayavi.tests.runtests found (relfile=mayavi/tests/runtests.py, path=None, filename=/opt/local/Library/Frameworks/Python.framework/Versions/2.7/lib/python2.7/site-packages/mayavi/tests/runtests.py)\n"
       ]
      },
      {
       "output_type": "stream",
       "stream": "stderr",
       "text": [
        "DEBUG:Cloud.Transport:Dependent module nose found (relfile=nose/__init__.py, path=['/opt/local/Library/Frameworks/Python.framework/Versions/2.7/lib/python2.7/site-packages/nose'], filename=/opt/local/Library/Frameworks/Python.framework/Versions/2.7/lib/python2.7/site-packages/nose/__init__.py)\n"
       ]
      },
      {
       "output_type": "stream",
       "stream": "stderr",
       "text": [
        "DEBUG:Cloud.Transport:Dependent module nose.core found (relfile=nose/core.py, path=None, filename=/opt/local/Library/Frameworks/Python.framework/Versions/2.7/lib/python2.7/site-packages/nose/core.py)\n"
       ]
      },
      {
       "output_type": "stream",
       "stream": "stderr",
       "text": [
        "DEBUG:Cloud.Transport:Dependent module nose.config found (relfile=nose/config.py, path=None, filename=/opt/local/Library/Frameworks/Python.framework/Versions/2.7/lib/python2.7/site-packages/nose/config.py)\n"
       ]
      },
      {
       "output_type": "stream",
       "stream": "stderr",
       "text": [
        "DEBUG:Cloud.Transport:Dependent module nose.util found (relfile=nose/util.py, path=None, filename=/opt/local/Library/Frameworks/Python.framework/Versions/2.7/lib/python2.7/site-packages/nose/util.py)\n"
       ]
      },
      {
       "output_type": "stream",
       "stream": "stderr",
       "text": [
        "DEBUG:Cloud.Transport:Dependent module nose.pyversion found (relfile=nose/pyversion.py, path=None, filename=/opt/local/Library/Frameworks/Python.framework/Versions/2.7/lib/python2.7/site-packages/nose/pyversion.py)\n"
       ]
      },
      {
       "output_type": "stream",
       "stream": "stderr",
       "text": [
        "DEBUG:Cloud.Transport:Dependent module nose.tools found (relfile=nose/tools/__init__.py, path=['/opt/local/Library/Frameworks/Python.framework/Versions/2.7/lib/python2.7/site-packages/nose/tools'], filename=/opt/local/Library/Frameworks/Python.framework/Versions/2.7/lib/python2.7/site-packages/nose/tools/__init__.py)\n"
       ]
      },
      {
       "output_type": "stream",
       "stream": "stderr",
       "text": [
        "DEBUG:Cloud.Transport:Dependent module nose.tools.nontrivial found (relfile=nose/tools/nontrivial.py, path=None, filename=/opt/local/Library/Frameworks/Python.framework/Versions/2.7/lib/python2.7/site-packages/nose/tools/nontrivial.py)\n"
       ]
      },
      {
       "output_type": "stream",
       "stream": "stderr",
       "text": [
        "DEBUG:Cloud.Transport:Dependent module nose.tools.trivial found (relfile=nose/tools/trivial.py, path=None, filename=/opt/local/Library/Frameworks/Python.framework/Versions/2.7/lib/python2.7/site-packages/nose/tools/trivial.py)\n"
       ]
      },
      {
       "output_type": "stream",
       "stream": "stderr",
       "text": [
        "DEBUG:Cloud.Transport:Dependent module nose.plugins found (relfile=nose/plugins/__init__.py, path=['/opt/local/Library/Frameworks/Python.framework/Versions/2.7/lib/python2.7/site-packages/nose/plugins'], filename=/opt/local/Library/Frameworks/Python.framework/Versions/2.7/lib/python2.7/site-packages/nose/plugins/__init__.py)\n"
       ]
      },
      {
       "output_type": "stream",
       "stream": "stderr",
       "text": [
        "DEBUG:Cloud.Transport:Dependent module nose.plugins.base found (relfile=nose/plugins/base.py, path=None, filename=/opt/local/Library/Frameworks/Python.framework/Versions/2.7/lib/python2.7/site-packages/nose/plugins/base.py)\n"
       ]
      },
      {
       "output_type": "stream",
       "stream": "stderr",
       "text": [
        "DEBUG:Cloud.Transport:Dependent module nose.plugins.manager found (relfile=nose/plugins/manager.py, path=None, filename=/opt/local/Library/Frameworks/Python.framework/Versions/2.7/lib/python2.7/site-packages/nose/plugins/manager.py)\n"
       ]
      },
      {
       "output_type": "stream",
       "stream": "stderr",
       "text": [
        "DEBUG:Cloud.Transport:Dependent module nose.failure found (relfile=nose/failure.py, path=None, filename=/opt/local/Library/Frameworks/Python.framework/Versions/2.7/lib/python2.7/site-packages/nose/failure.py)\n"
       ]
      },
      {
       "output_type": "stream",
       "stream": "stderr",
       "text": [
        "DEBUG:Cloud.Transport:Dependent module nose.exc found (relfile=nose/exc.py, path=None, filename=/opt/local/Library/Frameworks/Python.framework/Versions/2.7/lib/python2.7/site-packages/nose/exc.py)\n"
       ]
      },
      {
       "output_type": "stream",
       "stream": "stderr",
       "text": [
        "DEBUG:Cloud.Transport:Dependent module nose.plugins.skip found (relfile=nose/plugins/skip.py, path=None, filename=/opt/local/Library/Frameworks/Python.framework/Versions/2.7/lib/python2.7/site-packages/nose/plugins/skip.py)\n"
       ]
      },
      {
       "output_type": "stream",
       "stream": "stderr",
       "text": [
        "DEBUG:Cloud.Transport:Dependent module nose.plugins.errorclass found (relfile=nose/plugins/errorclass.py, path=None, filename=/opt/local/Library/Frameworks/Python.framework/Versions/2.7/lib/python2.7/site-packages/nose/plugins/errorclass.py)\n"
       ]
      },
      {
       "output_type": "stream",
       "stream": "stderr",
       "text": [
        "DEBUG:Cloud.Transport:Dependent module nose.result found (relfile=nose/result.py, path=None, filename=/opt/local/Library/Frameworks/Python.framework/Versions/2.7/lib/python2.7/site-packages/nose/result.py)\n"
       ]
      },
      {
       "output_type": "stream",
       "stream": "stderr",
       "text": [
        "DEBUG:Cloud.Transport:Dependent module nose.plugins.deprecated found (relfile=nose/plugins/deprecated.py, path=None, filename=/opt/local/Library/Frameworks/Python.framework/Versions/2.7/lib/python2.7/site-packages/nose/plugins/deprecated.py)\n"
       ]
      },
      {
       "output_type": "stream",
       "stream": "stderr",
       "text": [
        "DEBUG:Cloud.Transport:Dependent module nose.plugins.builtin found (relfile=nose/plugins/builtin.py, path=None, filename=/opt/local/Library/Frameworks/Python.framework/Versions/2.7/lib/python2.7/site-packages/nose/plugins/builtin.py)\n"
       ]
      },
      {
       "output_type": "stream",
       "stream": "stderr",
       "text": [
        "WARNING:Cloud.Transport:__import__ found within nose.plugins.builtin. Cloud cannot follow these dependencies. You MAY see importerror cloud exceptions. For more information, consult the PiCloud manual\n"
       ]
      },
      {
       "output_type": "stream",
       "stream": "stderr",
       "text": [
        "DEBUG:Cloud.Transport:Dependent module nose.plugins.plugintest found (relfile=nose/plugins/plugintest.py, path=None, filename=/opt/local/Library/Frameworks/Python.framework/Versions/2.7/lib/python2.7/site-packages/nose/plugins/plugintest.py)\n"
       ]
      },
      {
       "output_type": "stream",
       "stream": "stderr",
       "text": [
        "DEBUG:Cloud.Transport:Dependent module nose.importer found (relfile=nose/importer.py, path=None, filename=/opt/local/Library/Frameworks/Python.framework/Versions/2.7/lib/python2.7/site-packages/nose/importer.py)\n"
       ]
      },
      {
       "output_type": "stream",
       "stream": "stderr",
       "text": [
        "DEBUG:Cloud.Transport:Dependent module nose.loader found (relfile=nose/loader.py, path=None, filename=/opt/local/Library/Frameworks/Python.framework/Versions/2.7/lib/python2.7/site-packages/nose/loader.py)\n"
       ]
      },
      {
       "output_type": "stream",
       "stream": "stderr",
       "text": [
        "DEBUG:Cloud.Transport:Dependent module nose.case found (relfile=nose/case.py, path=None, filename=/opt/local/Library/Frameworks/Python.framework/Versions/2.7/lib/python2.7/site-packages/nose/case.py)\n"
       ]
      },
      {
       "output_type": "stream",
       "stream": "stderr",
       "text": [
        "DEBUG:Cloud.Transport:Dependent module nose.selector found (relfile=nose/selector.py, path=None, filename=/opt/local/Library/Frameworks/Python.framework/Versions/2.7/lib/python2.7/site-packages/nose/selector.py)\n"
       ]
      },
      {
       "output_type": "stream",
       "stream": "stderr",
       "text": [
        "DEBUG:Cloud.Transport:Dependent module nose.suite found (relfile=nose/suite.py, path=None, filename=/opt/local/Library/Frameworks/Python.framework/Versions/2.7/lib/python2.7/site-packages/nose/suite.py)\n"
       ]
      },
      {
       "output_type": "stream",
       "stream": "stderr",
       "text": [
        "DEBUG:Cloud.Transport:Dependent module nose.proxy found (relfile=nose/proxy.py, path=None, filename=/opt/local/Library/Frameworks/Python.framework/Versions/2.7/lib/python2.7/site-packages/nose/proxy.py)\n"
       ]
      },
      {
       "output_type": "stream",
       "stream": "stderr",
       "text": [
        "DEBUG:Cloud.Transport:Dependent module mayavi.core.pipeline_base found (relfile=mayavi/core/pipeline_base.py, path=None, filename=/opt/local/Library/Frameworks/Python.framework/Versions/2.7/lib/python2.7/site-packages/mayavi/core/pipeline_base.py)\n"
       ]
      },
      {
       "output_type": "stream",
       "stream": "stderr",
       "text": [
        "DEBUG:Cloud.Transport:Dependent module mayavi.core.module found (relfile=mayavi/core/module.py, path=None, filename=/opt/local/Library/Frameworks/Python.framework/Versions/2.7/lib/python2.7/site-packages/mayavi/core/module.py)\n"
       ]
      },
      {
       "output_type": "stream",
       "stream": "stderr",
       "text": [
        "DEBUG:Cloud.Transport:Dependent module mayavi.core.module_manager found (relfile=mayavi/core/module_manager.py, path=None, filename=/opt/local/Library/Frameworks/Python.framework/Versions/2.7/lib/python2.7/site-packages/mayavi/core/module_manager.py)\n"
       ]
      },
      {
       "output_type": "stream",
       "stream": "stderr",
       "text": [
        "DEBUG:Cloud.Transport:Dependent module mayavi.core.lut_manager found (relfile=mayavi/core/lut_manager.py, path=None, filename=/opt/local/Library/Frameworks/Python.framework/Versions/2.7/lib/python2.7/site-packages/mayavi/core/lut_manager.py)\n"
       ]
      },
      {
       "output_type": "stream",
       "stream": "stderr",
       "text": [
        "DEBUG:Cloud.Transport:Dependent module mayavi.core.lut found (relfile=mayavi/core/lut/__init__.py, path=['/opt/local/Library/Frameworks/Python.framework/Versions/2.7/lib/python2.7/site-packages/mayavi/core/lut'], filename=/opt/local/Library/Frameworks/Python.framework/Versions/2.7/lib/python2.7/site-packages/mayavi/core/lut/__init__.py)\n"
       ]
      },
      {
       "output_type": "stream",
       "stream": "stderr",
       "text": [
        "DEBUG:Cloud.Transport:Dependent module tvtk.util found (relfile=tvtk/util/__init__.py, path=['/opt/local/Library/Frameworks/Python.framework/Versions/2.7/lib/python2.7/site-packages/tvtk/util'], filename=/opt/local/Library/Frameworks/Python.framework/Versions/2.7/lib/python2.7/site-packages/tvtk/util/__init__.py)\n"
       ]
      },
      {
       "output_type": "stream",
       "stream": "stderr",
       "text": [
        "DEBUG:Cloud.Transport:Dependent module mayavi.modules found (relfile=mayavi/modules/__init__.py, path=['/opt/local/Library/Frameworks/Python.framework/Versions/2.7/lib/python2.7/site-packages/mayavi/modules'], filename=/opt/local/Library/Frameworks/Python.framework/Versions/2.7/lib/python2.7/site-packages/mayavi/modules/__init__.py)\n"
       ]
      },
      {
       "output_type": "stream",
       "stream": "stderr",
       "text": [
        "DEBUG:Cloud.Transport:Dependent module mayavi.modules.metadata found (relfile=mayavi/modules/metadata.py, path=None, filename=/opt/local/Library/Frameworks/Python.framework/Versions/2.7/lib/python2.7/site-packages/mayavi/modules/metadata.py)\n"
       ]
      },
      {
       "output_type": "stream",
       "stream": "stderr",
       "text": [
        "DEBUG:Cloud.Transport:Dependent module mayavi.core.customize found (relfile=mayavi/core/customize.py, path=None, filename=/opt/local/Library/Frameworks/Python.framework/Versions/2.7/lib/python2.7/site-packages/mayavi/core/customize.py)\n"
       ]
      },
      {
       "output_type": "stream",
       "stream": "stderr",
       "text": [
        "DEBUG:Cloud.Transport:Dependent module mayavi.core.null_engine found (relfile=mayavi/core/null_engine.py, path=None, filename=/opt/local/Library/Frameworks/Python.framework/Versions/2.7/lib/python2.7/site-packages/mayavi/core/null_engine.py)\n"
       ]
      },
      {
       "output_type": "stream",
       "stream": "stderr",
       "text": [
        "DEBUG:Cloud.Transport:Dependent module mayavi.tools.preferences_mirror found (relfile=mayavi/tools/preferences_mirror.py, path=None, filename=/opt/local/Library/Frameworks/Python.framework/Versions/2.7/lib/python2.7/site-packages/mayavi/tools/preferences_mirror.py)\n"
       ]
      },
      {
       "output_type": "stream",
       "stream": "stderr",
       "text": [
        "DEBUG:Cloud.Transport:Dependent module mayavi.plugins found (relfile=mayavi/plugins/__init__.py, path=['/opt/local/Library/Frameworks/Python.framework/Versions/2.7/lib/python2.7/site-packages/mayavi/plugins'], filename=/opt/local/Library/Frameworks/Python.framework/Versions/2.7/lib/python2.7/site-packages/mayavi/plugins/__init__.py)\n"
       ]
      },
      {
       "output_type": "stream",
       "stream": "stderr",
       "text": [
        "DEBUG:Cloud.Transport:Dependent module mayavi.plugins.app found (relfile=mayavi/plugins/app.py, path=None, filename=/opt/local/Library/Frameworks/Python.framework/Versions/2.7/lib/python2.7/site-packages/mayavi/plugins/app.py)\n"
       ]
      },
      {
       "output_type": "stream",
       "stream": "stderr",
       "text": [
        "DEBUG:Cloud.Transport:Dependent module apptools.logger found (relfile=apptools/logger/__init__.py, path=['/opt/local/Library/Frameworks/Python.framework/Versions/2.7/lib/python2.7/site-packages/apptools/logger'], filename=/opt/local/Library/Frameworks/Python.framework/Versions/2.7/lib/python2.7/site-packages/apptools/logger/__init__.py)\n"
       ]
      },
      {
       "output_type": "stream",
       "stream": "stderr",
       "text": [
        "DEBUG:Cloud.Transport:Dependent module apptools.logger.api found (relfile=apptools/logger/api.py, path=None, filename=/opt/local/Library/Frameworks/Python.framework/Versions/2.7/lib/python2.7/site-packages/apptools/logger/api.py)\n"
       ]
      },
      {
       "output_type": "stream",
       "stream": "stderr",
       "text": [
        "DEBUG:Cloud.Transport:Dependent module apptools.logger.logger found (relfile=apptools/logger/logger.py, path=None, filename=/opt/local/Library/Frameworks/Python.framework/Versions/2.7/lib/python2.7/site-packages/apptools/logger/logger.py)\n"
       ]
      },
      {
       "output_type": "stream",
       "stream": "stderr",
       "text": [
        "DEBUG:Cloud.Transport:Dependent module apptools.logger.log_queue_handler found (relfile=apptools/logger/log_queue_handler.py, path=None, filename=/opt/local/Library/Frameworks/Python.framework/Versions/2.7/lib/python2.7/site-packages/apptools/logger/log_queue_handler.py)\n"
       ]
      },
      {
       "output_type": "stream",
       "stream": "stderr",
       "text": [
        "DEBUG:Cloud.Transport:Dependent module apptools.logger.ring_buffer found (relfile=apptools/logger/ring_buffer.py, path=None, filename=/opt/local/Library/Frameworks/Python.framework/Versions/2.7/lib/python2.7/site-packages/apptools/logger/ring_buffer.py)\n"
       ]
      },
      {
       "output_type": "stream",
       "stream": "stderr",
       "text": [
        "DEBUG:Cloud.Transport:Dependent module apptools.logger.log_point found (relfile=apptools/logger/log_point.py, path=None, filename=/opt/local/Library/Frameworks/Python.framework/Versions/2.7/lib/python2.7/site-packages/apptools/logger/log_point.py)\n"
       ]
      },
      {
       "output_type": "stream",
       "stream": "stderr",
       "text": [
        "DEBUG:Cloud.Transport:Dependent module apptools.logger.filtering_handler found (relfile=apptools/logger/filtering_handler.py, path=None, filename=/opt/local/Library/Frameworks/Python.framework/Versions/2.7/lib/python2.7/site-packages/apptools/logger/filtering_handler.py)\n"
       ]
      },
      {
       "output_type": "stream",
       "stream": "stderr",
       "text": [
        "DEBUG:Cloud.Transport:Dependent module apptools.logger.util found (relfile=apptools/logger/util.py, path=None, filename=/opt/local/Library/Frameworks/Python.framework/Versions/2.7/lib/python2.7/site-packages/apptools/logger/util.py)\n"
       ]
      },
      {
       "output_type": "stream",
       "stream": "stderr",
       "text": [
        "DEBUG:Cloud.Transport:Dependent module apptools.logger.null_handler found (relfile=apptools/logger/null_handler.py, path=None, filename=/opt/local/Library/Frameworks/Python.framework/Versions/2.7/lib/python2.7/site-packages/apptools/logger/null_handler.py)\n"
       ]
      },
      {
       "output_type": "stream",
       "stream": "stderr",
       "text": [
        "DEBUG:Cloud.Transport:Dependent module mayavi.plugins.mayavi_workbench_application found (relfile=mayavi/plugins/mayavi_workbench_application.py, path=None, filename=/opt/local/Library/Frameworks/Python.framework/Versions/2.7/lib/python2.7/site-packages/mayavi/plugins/mayavi_workbench_application.py)\n"
       ]
      },
      {
       "output_type": "stream",
       "stream": "stderr",
       "text": [
        "DEBUG:Cloud.Transport:Dependent module envisage found (relfile=envisage/__init__.py, path=['/opt/local/Library/Frameworks/Python.framework/Versions/2.7/lib/python2.7/site-packages/envisage'], filename=/opt/local/Library/Frameworks/Python.framework/Versions/2.7/lib/python2.7/site-packages/envisage/__init__.py)\n"
       ]
      },
      {
       "output_type": "stream",
       "stream": "stderr",
       "text": [
        "DEBUG:Cloud.Transport:Dependent module envisage.ui found (relfile=envisage/ui/__init__.py, path=['/opt/local/Library/Frameworks/Python.framework/Versions/2.7/lib/python2.7/site-packages/envisage/ui'], filename=/opt/local/Library/Frameworks/Python.framework/Versions/2.7/lib/python2.7/site-packages/envisage/ui/__init__.py)\n"
       ]
      },
      {
       "output_type": "stream",
       "stream": "stderr",
       "text": [
        "DEBUG:Cloud.Transport:Dependent module envisage.ui.workbench found (relfile=envisage/ui/workbench/__init__.py, path=['/opt/local/Library/Frameworks/Python.framework/Versions/2.7/lib/python2.7/site-packages/envisage/ui/workbench'], filename=/opt/local/Library/Frameworks/Python.framework/Versions/2.7/lib/python2.7/site-packages/envisage/ui/workbench/__init__.py)\n"
       ]
      },
      {
       "output_type": "stream",
       "stream": "stderr",
       "text": [
        "DEBUG:Cloud.Transport:Dependent module envisage.ui.workbench.api found (relfile=envisage/ui/workbench/api.py, path=None, filename=/opt/local/Library/Frameworks/Python.framework/Versions/2.7/lib/python2.7/site-packages/envisage/ui/workbench/api.py)\n"
       ]
      },
      {
       "output_type": "stream",
       "stream": "stderr",
       "text": [
        "DEBUG:Cloud.Transport:Dependent module envisage.ui.workbench.workbench found (relfile=envisage/ui/workbench/workbench.py, path=None, filename=/opt/local/Library/Frameworks/Python.framework/Versions/2.7/lib/python2.7/site-packages/envisage/ui/workbench/workbench.py)\n"
       ]
      },
      {
       "output_type": "stream",
       "stream": "stderr",
       "text": [
        "DEBUG:Cloud.Transport:Dependent module envisage.api found (relfile=envisage/api.py, path=None, filename=/opt/local/Library/Frameworks/Python.framework/Versions/2.7/lib/python2.7/site-packages/envisage/api.py)\n"
       ]
      },
      {
       "output_type": "stream",
       "stream": "stderr",
       "text": [
        "DEBUG:Cloud.Transport:Dependent module envisage.i_application found (relfile=envisage/i_application.py, path=None, filename=/opt/local/Library/Frameworks/Python.framework/Versions/2.7/lib/python2.7/site-packages/envisage/i_application.py)\n"
       ]
      },
      {
       "output_type": "stream",
       "stream": "stderr",
       "text": [
        "DEBUG:Cloud.Transport:Dependent module envisage.i_extension_registry found (relfile=envisage/i_extension_registry.py, path=None, filename=/opt/local/Library/Frameworks/Python.framework/Versions/2.7/lib/python2.7/site-packages/envisage/i_extension_registry.py)\n"
       ]
      },
      {
       "output_type": "stream",
       "stream": "stderr",
       "text": [
        "DEBUG:Cloud.Transport:Dependent module envisage.i_import_manager found (relfile=envisage/i_import_manager.py, path=None, filename=/opt/local/Library/Frameworks/Python.framework/Versions/2.7/lib/python2.7/site-packages/envisage/i_import_manager.py)\n"
       ]
      },
      {
       "output_type": "stream",
       "stream": "stderr",
       "text": [
        "DEBUG:Cloud.Transport:Dependent module envisage.i_plugin_manager found (relfile=envisage/i_plugin_manager.py, path=None, filename=/opt/local/Library/Frameworks/Python.framework/Versions/2.7/lib/python2.7/site-packages/envisage/i_plugin_manager.py)\n"
       ]
      },
      {
       "output_type": "stream",
       "stream": "stderr",
       "text": [
        "DEBUG:Cloud.Transport:Dependent module envisage.plugin_event found (relfile=envisage/plugin_event.py, path=None, filename=/opt/local/Library/Frameworks/Python.framework/Versions/2.7/lib/python2.7/site-packages/envisage/plugin_event.py)\n"
       ]
      },
      {
       "output_type": "stream",
       "stream": "stderr",
       "text": [
        "DEBUG:Cloud.Transport:Dependent module envisage.i_service_registry found (relfile=envisage/i_service_registry.py, path=None, filename=/opt/local/Library/Frameworks/Python.framework/Versions/2.7/lib/python2.7/site-packages/envisage/i_service_registry.py)\n"
       ]
      },
      {
       "output_type": "stream",
       "stream": "stderr",
       "text": [
        "DEBUG:Cloud.Transport:Dependent module envisage.application_event found (relfile=envisage/application_event.py, path=None, filename=/opt/local/Library/Frameworks/Python.framework/Versions/2.7/lib/python2.7/site-packages/envisage/application_event.py)\n"
       ]
      },
      {
       "output_type": "stream",
       "stream": "stderr",
       "text": [
        "DEBUG:Cloud.Transport:Dependent module envisage.i_extension_point found (relfile=envisage/i_extension_point.py, path=None, filename=/opt/local/Library/Frameworks/Python.framework/Versions/2.7/lib/python2.7/site-packages/envisage/i_extension_point.py)\n"
       ]
      },
      {
       "output_type": "stream",
       "stream": "stderr",
       "text": [
        "DEBUG:Cloud.Transport:Dependent module envisage.i_extension_point_user found (relfile=envisage/i_extension_point_user.py, path=None, filename=/opt/local/Library/Frameworks/Python.framework/Versions/2.7/lib/python2.7/site-packages/envisage/i_extension_point_user.py)\n"
       ]
      },
      {
       "output_type": "stream",
       "stream": "stderr",
       "text": [
        "DEBUG:Cloud.Transport:Dependent module envisage.i_extension_provider found (relfile=envisage/i_extension_provider.py, path=None, filename=/opt/local/Library/Frameworks/Python.framework/Versions/2.7/lib/python2.7/site-packages/envisage/i_extension_provider.py)\n"
       ]
      },
      {
       "output_type": "stream",
       "stream": "stderr",
       "text": [
        "DEBUG:Cloud.Transport:Dependent module envisage.extension_point_changed_event found (relfile=envisage/extension_point_changed_event.py, path=None, filename=/opt/local/Library/Frameworks/Python.framework/Versions/2.7/lib/python2.7/site-packages/envisage/extension_point_changed_event.py)\n"
       ]
      },
      {
       "output_type": "stream",
       "stream": "stderr",
       "text": [
        "DEBUG:Cloud.Transport:Dependent module envisage.i_plugin found (relfile=envisage/i_plugin.py, path=None, filename=/opt/local/Library/Frameworks/Python.framework/Versions/2.7/lib/python2.7/site-packages/envisage/i_plugin.py)\n"
       ]
      },
      {
       "output_type": "stream",
       "stream": "stderr",
       "text": [
        "DEBUG:Cloud.Transport:Dependent module envisage.i_plugin_activator found (relfile=envisage/i_plugin_activator.py, path=None, filename=/opt/local/Library/Frameworks/Python.framework/Versions/2.7/lib/python2.7/site-packages/envisage/i_plugin_activator.py)\n"
       ]
      },
      {
       "output_type": "stream",
       "stream": "stderr",
       "text": [
        "DEBUG:Cloud.Transport:Dependent module envisage.application found (relfile=envisage/application.py, path=None, filename=/opt/local/Library/Frameworks/Python.framework/Versions/2.7/lib/python2.7/site-packages/envisage/application.py)\n"
       ]
      },
      {
       "output_type": "stream",
       "stream": "stderr",
       "text": [
        "DEBUG:Cloud.Transport:Dependent module envisage.import_manager found (relfile=envisage/import_manager.py, path=None, filename=/opt/local/Library/Frameworks/Python.framework/Versions/2.7/lib/python2.7/site-packages/envisage/import_manager.py)\n"
       ]
      },
      {
       "output_type": "stream",
       "stream": "stderr",
       "text": [
        "DEBUG:Cloud.Transport:Dependent module envisage.plugin_extension_registry found (relfile=envisage/plugin_extension_registry.py, path=None, filename=/opt/local/Library/Frameworks/Python.framework/Versions/2.7/lib/python2.7/site-packages/envisage/plugin_extension_registry.py)\n"
       ]
      },
      {
       "output_type": "stream",
       "stream": "stderr",
       "text": [
        "DEBUG:Cloud.Transport:Dependent module envisage.provider_extension_registry found (relfile=envisage/provider_extension_registry.py, path=None, filename=/opt/local/Library/Frameworks/Python.framework/Versions/2.7/lib/python2.7/site-packages/envisage/provider_extension_registry.py)\n"
       ]
      },
      {
       "output_type": "stream",
       "stream": "stderr",
       "text": [
        "DEBUG:Cloud.Transport:Dependent module envisage.extension_registry found (relfile=envisage/extension_registry.py, path=None, filename=/opt/local/Library/Frameworks/Python.framework/Versions/2.7/lib/python2.7/site-packages/envisage/extension_registry.py)\n"
       ]
      },
      {
       "output_type": "stream",
       "stream": "stderr",
       "text": [
        "DEBUG:Cloud.Transport:Dependent module envisage.safeweakref found (relfile=envisage/safeweakref.py, path=None, filename=/opt/local/Library/Frameworks/Python.framework/Versions/2.7/lib/python2.7/site-packages/envisage/safeweakref.py)\n"
       ]
      },
      {
       "output_type": "stream",
       "stream": "stderr",
       "text": [
        "DEBUG:Cloud.Transport:Dependent module envisage.unknown_extension_point found (relfile=envisage/unknown_extension_point.py, path=None, filename=/opt/local/Library/Frameworks/Python.framework/Versions/2.7/lib/python2.7/site-packages/envisage/unknown_extension_point.py)\n"
       ]
      },
      {
       "output_type": "stream",
       "stream": "stderr",
       "text": [
        "DEBUG:Cloud.Transport:Dependent module envisage.i_provider_extension_registry found (relfile=envisage/i_provider_extension_registry.py, path=None, filename=/opt/local/Library/Frameworks/Python.framework/Versions/2.7/lib/python2.7/site-packages/envisage/i_provider_extension_registry.py)\n"
       ]
      },
      {
       "output_type": "stream",
       "stream": "stderr",
       "text": [
        "DEBUG:Cloud.Transport:Dependent module envisage.plugin_manager found (relfile=envisage/plugin_manager.py, path=None, filename=/opt/local/Library/Frameworks/Python.framework/Versions/2.7/lib/python2.7/site-packages/envisage/plugin_manager.py)\n"
       ]
      },
      {
       "output_type": "stream",
       "stream": "stderr",
       "text": [
        "DEBUG:Cloud.Transport:Dependent module envisage.service_registry found (relfile=envisage/service_registry.py, path=None, filename=/opt/local/Library/Frameworks/Python.framework/Versions/2.7/lib/python2.7/site-packages/envisage/service_registry.py)\n"
       ]
      },
      {
       "output_type": "stream",
       "stream": "stderr",
       "text": [
        "DEBUG:Cloud.Transport:Dependent module envisage.category found (relfile=envisage/category.py, path=None, filename=/opt/local/Library/Frameworks/Python.framework/Versions/2.7/lib/python2.7/site-packages/envisage/category.py)\n"
       ]
      },
      {
       "output_type": "stream",
       "stream": "stderr",
       "text": [
        "DEBUG:Cloud.Transport:Dependent module envisage.class_load_hook found (relfile=envisage/class_load_hook.py, path=None, filename=/opt/local/Library/Frameworks/Python.framework/Versions/2.7/lib/python2.7/site-packages/envisage/class_load_hook.py)\n"
       ]
      },
      {
       "output_type": "stream",
       "stream": "stderr",
       "text": [
        "DEBUG:Cloud.Transport:Dependent module envisage.egg_plugin_manager found (relfile=envisage/egg_plugin_manager.py, path=None, filename=/opt/local/Library/Frameworks/Python.framework/Versions/2.7/lib/python2.7/site-packages/envisage/egg_plugin_manager.py)\n"
       ]
      },
      {
       "output_type": "stream",
       "stream": "stderr",
       "text": [
        "DEBUG:Cloud.Transport:Dependent module envisage.egg_utils found (relfile=envisage/egg_utils.py, path=None, filename=/opt/local/Library/Frameworks/Python.framework/Versions/2.7/lib/python2.7/site-packages/envisage/egg_utils.py)\n"
       ]
      },
      {
       "output_type": "stream",
       "stream": "stderr",
       "text": [
        "DEBUG:Cloud.Transport:Dependent module envisage.extension_point found (relfile=envisage/extension_point.py, path=None, filename=/opt/local/Library/Frameworks/Python.framework/Versions/2.7/lib/python2.7/site-packages/envisage/extension_point.py)\n"
       ]
      },
      {
       "output_type": "stream",
       "stream": "stderr",
       "text": [
        "DEBUG:Cloud.Transport:Dependent module envisage.extension_point_binding found (relfile=envisage/extension_point_binding.py, path=None, filename=/opt/local/Library/Frameworks/Python.framework/Versions/2.7/lib/python2.7/site-packages/envisage/extension_point_binding.py)\n"
       ]
      },
      {
       "output_type": "stream",
       "stream": "stderr",
       "text": [
        "DEBUG:Cloud.Transport:Dependent module envisage.extension_provider found (relfile=envisage/extension_provider.py, path=None, filename=/opt/local/Library/Frameworks/Python.framework/Versions/2.7/lib/python2.7/site-packages/envisage/extension_provider.py)\n"
       ]
      },
      {
       "output_type": "stream",
       "stream": "stderr",
       "text": [
        "DEBUG:Cloud.Transport:Dependent module envisage.plugin found (relfile=envisage/plugin.py, path=None, filename=/opt/local/Library/Frameworks/Python.framework/Versions/2.7/lib/python2.7/site-packages/envisage/plugin.py)\n"
       ]
      },
      {
       "output_type": "stream",
       "stream": "stderr",
       "text": [
        "DEBUG:Cloud.Transport:Dependent module envisage.i_service_user found (relfile=envisage/i_service_user.py, path=None, filename=/opt/local/Library/Frameworks/Python.framework/Versions/2.7/lib/python2.7/site-packages/envisage/i_service_user.py)\n"
       ]
      },
      {
       "output_type": "stream",
       "stream": "stderr",
       "text": [
        "DEBUG:Cloud.Transport:Dependent module envisage.plugin_activator found (relfile=envisage/plugin_activator.py, path=None, filename=/opt/local/Library/Frameworks/Python.framework/Versions/2.7/lib/python2.7/site-packages/envisage/plugin_activator.py)\n"
       ]
      },
      {
       "output_type": "stream",
       "stream": "stderr",
       "text": [
        "DEBUG:Cloud.Transport:Dependent module envisage.service found (relfile=envisage/service.py, path=None, filename=/opt/local/Library/Frameworks/Python.framework/Versions/2.7/lib/python2.7/site-packages/envisage/service.py)\n"
       ]
      },
      {
       "output_type": "stream",
       "stream": "stderr",
       "text": [
        "DEBUG:Cloud.Transport:Dependent module envisage.service_offer found (relfile=envisage/service_offer.py, path=None, filename=/opt/local/Library/Frameworks/Python.framework/Versions/2.7/lib/python2.7/site-packages/envisage/service_offer.py)\n"
       ]
      },
      {
       "output_type": "stream",
       "stream": "stderr",
       "text": [
        "DEBUG:Cloud.Transport:Dependent module envisage.twisted_application found (relfile=envisage/twisted_application.py, path=None, filename=/opt/local/Library/Frameworks/Python.framework/Versions/2.7/lib/python2.7/site-packages/envisage/twisted_application.py)\n"
       ]
      },
      {
       "output_type": "stream",
       "stream": "stderr",
       "text": [
        "DEBUG:Cloud.Transport:Dependent module envisage.unknown_extension found (relfile=envisage/unknown_extension.py, path=None, filename=/opt/local/Library/Frameworks/Python.framework/Versions/2.7/lib/python2.7/site-packages/envisage/unknown_extension.py)\n"
       ]
      },
      {
       "output_type": "stream",
       "stream": "stderr",
       "text": [
        "DEBUG:Cloud.Transport:Dependent module envisage.ui.workbench.workbench_preferences found (relfile=envisage/ui/workbench/workbench_preferences.py, path=None, filename=/opt/local/Library/Frameworks/Python.framework/Versions/2.7/lib/python2.7/site-packages/envisage/ui/workbench/workbench_preferences.py)\n"
       ]
      },
      {
       "output_type": "stream",
       "stream": "stderr",
       "text": [
        "DEBUG:Cloud.Transport:Dependent module envisage.ui.workbench.workbench_window found (relfile=envisage/ui/workbench/workbench_window.py, path=None, filename=/opt/local/Library/Frameworks/Python.framework/Versions/2.7/lib/python2.7/site-packages/envisage/ui/workbench/workbench_window.py)\n"
       ]
      },
      {
       "output_type": "stream",
       "stream": "stderr",
       "text": [
        "DEBUG:Cloud.Transport:Dependent module envisage.ui.action found (relfile=envisage/ui/action/__init__.py, path=['/opt/local/Library/Frameworks/Python.framework/Versions/2.7/lib/python2.7/site-packages/envisage/ui/action'], filename=/opt/local/Library/Frameworks/Python.framework/Versions/2.7/lib/python2.7/site-packages/envisage/ui/action/__init__.py)\n"
       ]
      },
      {
       "output_type": "stream",
       "stream": "stderr",
       "text": [
        "DEBUG:Cloud.Transport:Dependent module envisage.ui.action.api found (relfile=envisage/ui/action/api.py, path=None, filename=/opt/local/Library/Frameworks/Python.framework/Versions/2.7/lib/python2.7/site-packages/envisage/ui/action/api.py)\n"
       ]
      },
      {
       "output_type": "stream",
       "stream": "stderr",
       "text": [
        "DEBUG:Cloud.Transport:Dependent module envisage.ui.action.i_action_set found (relfile=envisage/ui/action/i_action_set.py, path=None, filename=/opt/local/Library/Frameworks/Python.framework/Versions/2.7/lib/python2.7/site-packages/envisage/ui/action/i_action_set.py)\n"
       ]
      },
      {
       "output_type": "stream",
       "stream": "stderr",
       "text": [
        "DEBUG:Cloud.Transport:Dependent module envisage.ui.action.action found (relfile=envisage/ui/action/action.py, path=None, filename=/opt/local/Library/Frameworks/Python.framework/Versions/2.7/lib/python2.7/site-packages/envisage/ui/action/action.py)\n"
       ]
      },
      {
       "output_type": "stream",
       "stream": "stderr",
       "text": [
        "DEBUG:Cloud.Transport:Dependent module envisage.ui.action.location found (relfile=envisage/ui/action/location.py, path=None, filename=/opt/local/Library/Frameworks/Python.framework/Versions/2.7/lib/python2.7/site-packages/envisage/ui/action/location.py)\n"
       ]
      },
      {
       "output_type": "stream",
       "stream": "stderr",
       "text": [
        "DEBUG:Cloud.Transport:Dependent module envisage.ui.action.group found (relfile=envisage/ui/action/group.py, path=None, filename=/opt/local/Library/Frameworks/Python.framework/Versions/2.7/lib/python2.7/site-packages/envisage/ui/action/group.py)\n"
       ]
      },
      {
       "output_type": "stream",
       "stream": "stderr",
       "text": [
        "DEBUG:Cloud.Transport:Dependent module envisage.ui.action.menu found (relfile=envisage/ui/action/menu.py, path=None, filename=/opt/local/Library/Frameworks/Python.framework/Versions/2.7/lib/python2.7/site-packages/envisage/ui/action/menu.py)\n"
       ]
      },
      {
       "output_type": "stream",
       "stream": "stderr",
       "text": [
        "DEBUG:Cloud.Transport:Dependent module envisage.ui.action.tool_bar found (relfile=envisage/ui/action/tool_bar.py, path=None, filename=/opt/local/Library/Frameworks/Python.framework/Versions/2.7/lib/python2.7/site-packages/envisage/ui/action/tool_bar.py)\n"
       ]
      },
      {
       "output_type": "stream",
       "stream": "stderr",
       "text": [
        "DEBUG:Cloud.Transport:Dependent module envisage.ui.action.i_action_manager_builder found (relfile=envisage/ui/action/i_action_manager_builder.py, path=None, filename=/opt/local/Library/Frameworks/Python.framework/Versions/2.7/lib/python2.7/site-packages/envisage/ui/action/i_action_manager_builder.py)\n"
       ]
      },
      {
       "output_type": "stream",
       "stream": "stderr",
       "text": [
        "DEBUG:Cloud.Transport:Dependent module envisage.ui.action.action_set found (relfile=envisage/ui/action/action_set.py, path=None, filename=/opt/local/Library/Frameworks/Python.framework/Versions/2.7/lib/python2.7/site-packages/envisage/ui/action/action_set.py)\n"
       ]
      },
      {
       "output_type": "stream",
       "stream": "stderr",
       "text": [
        "DEBUG:Cloud.Transport:Dependent module envisage.ui.action.abstract_action_manager_builder found (relfile=envisage/ui/action/abstract_action_manager_builder.py, path=None, filename=/opt/local/Library/Frameworks/Python.framework/Versions/2.7/lib/python2.7/site-packages/envisage/ui/action/abstract_action_manager_builder.py)\n"
       ]
      },
      {
       "output_type": "stream",
       "stream": "stderr",
       "text": [
        "DEBUG:Cloud.Transport:Dependent module envisage.ui.action.action_set_manager found (relfile=envisage/ui/action/action_set_manager.py, path=None, filename=/opt/local/Library/Frameworks/Python.framework/Versions/2.7/lib/python2.7/site-packages/envisage/ui/action/action_set_manager.py)\n"
       ]
      },
      {
       "output_type": "stream",
       "stream": "stderr",
       "text": [
        "DEBUG:Cloud.Transport:Dependent module envisage.ui.workbench.workbench_action_manager_builder found (relfile=envisage/ui/workbench/workbench_action_manager_builder.py, path=None, filename=/opt/local/Library/Frameworks/Python.framework/Versions/2.7/lib/python2.7/site-packages/envisage/ui/workbench/workbench_action_manager_builder.py)\n"
       ]
      },
      {
       "output_type": "stream",
       "stream": "stderr",
       "text": [
        "DEBUG:Cloud.Transport:Dependent module envisage.ui.workbench.workbench_editor_manager found (relfile=envisage/ui/workbench/workbench_editor_manager.py, path=None, filename=/opt/local/Library/Frameworks/Python.framework/Versions/2.7/lib/python2.7/site-packages/envisage/ui/workbench/workbench_editor_manager.py)\n"
       ]
      },
      {
       "output_type": "stream",
       "stream": "stderr",
       "text": [
        "DEBUG:Cloud.Transport:Dependent module envisage.ui.workbench.workbench_action_set found (relfile=envisage/ui/workbench/workbench_action_set.py, path=None, filename=/opt/local/Library/Frameworks/Python.framework/Versions/2.7/lib/python2.7/site-packages/envisage/ui/workbench/workbench_action_set.py)\n"
       ]
      },
      {
       "output_type": "stream",
       "stream": "stderr",
       "text": [
        "DEBUG:Cloud.Transport:Dependent module envisage.ui.workbench.workbench_application found (relfile=envisage/ui/workbench/workbench_application.py, path=None, filename=/opt/local/Library/Frameworks/Python.framework/Versions/2.7/lib/python2.7/site-packages/envisage/ui/workbench/workbench_application.py)\n"
       ]
      },
      {
       "output_type": "stream",
       "stream": "stderr",
       "text": [
        "DEBUG:Cloud.Transport:Dependent module envisage.core_plugin found (relfile=envisage/core_plugin.py, path=None, filename=/opt/local/Library/Frameworks/Python.framework/Versions/2.7/lib/python2.7/site-packages/envisage/core_plugin.py)\n"
       ]
      },
      {
       "output_type": "stream",
       "stream": "stderr",
       "text": [
        "DEBUG:Cloud.Transport:Dependent module envisage.resource found (relfile=envisage/resource/__init__.py, path=['/opt/local/Library/Frameworks/Python.framework/Versions/2.7/lib/python2.7/site-packages/envisage/resource'], filename=/opt/local/Library/Frameworks/Python.framework/Versions/2.7/lib/python2.7/site-packages/envisage/resource/__init__.py)\n"
       ]
      },
      {
       "output_type": "stream",
       "stream": "stderr",
       "text": [
        "DEBUG:Cloud.Transport:Dependent module envisage.resource.api found (relfile=envisage/resource/api.py, path=None, filename=/opt/local/Library/Frameworks/Python.framework/Versions/2.7/lib/python2.7/site-packages/envisage/resource/api.py)\n"
       ]
      },
      {
       "output_type": "stream",
       "stream": "stderr",
       "text": [
        "DEBUG:Cloud.Transport:Dependent module envisage.resource.i_resource_protocol found (relfile=envisage/resource/i_resource_protocol.py, path=None, filename=/opt/local/Library/Frameworks/Python.framework/Versions/2.7/lib/python2.7/site-packages/envisage/resource/i_resource_protocol.py)\n"
       ]
      },
      {
       "output_type": "stream",
       "stream": "stderr",
       "text": [
        "DEBUG:Cloud.Transport:Dependent module envisage.resource.i_resource_manager found (relfile=envisage/resource/i_resource_manager.py, path=None, filename=/opt/local/Library/Frameworks/Python.framework/Versions/2.7/lib/python2.7/site-packages/envisage/resource/i_resource_manager.py)\n"
       ]
      },
      {
       "output_type": "stream",
       "stream": "stderr",
       "text": [
        "DEBUG:Cloud.Transport:Dependent module envisage.resource.file_resource_protocol found (relfile=envisage/resource/file_resource_protocol.py, path=None, filename=/opt/local/Library/Frameworks/Python.framework/Versions/2.7/lib/python2.7/site-packages/envisage/resource/file_resource_protocol.py)\n"
       ]
      },
      {
       "output_type": "stream",
       "stream": "stderr",
       "text": [
        "DEBUG:Cloud.Transport:Dependent module envisage.resource.no_such_resource_error found (relfile=envisage/resource/no_such_resource_error.py, path=None, filename=/opt/local/Library/Frameworks/Python.framework/Versions/2.7/lib/python2.7/site-packages/envisage/resource/no_such_resource_error.py)\n"
       ]
      },
      {
       "output_type": "stream",
       "stream": "stderr",
       "text": [
        "DEBUG:Cloud.Transport:Dependent module envisage.resource.http_resource_protocol found (relfile=envisage/resource/http_resource_protocol.py, path=None, filename=/opt/local/Library/Frameworks/Python.framework/Versions/2.7/lib/python2.7/site-packages/envisage/resource/http_resource_protocol.py)\n"
       ]
      },
      {
       "output_type": "stream",
       "stream": "stderr",
       "text": [
        "DEBUG:Cloud.Transport:Dependent module envisage.resource.package_resource_protocol found (relfile=envisage/resource/package_resource_protocol.py, path=None, filename=/opt/local/Library/Frameworks/Python.framework/Versions/2.7/lib/python2.7/site-packages/envisage/resource/package_resource_protocol.py)\n"
       ]
      },
      {
       "output_type": "stream",
       "stream": "stderr",
       "text": [
        "DEBUG:Cloud.Transport:Dependent module envisage.resource.resource_manager found (relfile=envisage/resource/resource_manager.py, path=None, filename=/opt/local/Library/Frameworks/Python.framework/Versions/2.7/lib/python2.7/site-packages/envisage/resource/resource_manager.py)\n"
       ]
      },
      {
       "output_type": "stream",
       "stream": "stderr",
       "text": [
        "DEBUG:Cloud.Transport:Dependent module envisage.ui.workbench.workbench_plugin found (relfile=envisage/ui/workbench/workbench_plugin.py, path=None, filename=/opt/local/Library/Frameworks/Python.framework/Versions/2.7/lib/python2.7/site-packages/envisage/ui/workbench/workbench_plugin.py)\n"
       ]
      },
      {
       "output_type": "stream",
       "stream": "stderr",
       "text": [
        "DEBUG:Cloud.Transport:Dependent module envisage.ui.workbench.default_action_set found (relfile=envisage/ui/workbench/default_action_set.py, path=None, filename=/opt/local/Library/Frameworks/Python.framework/Versions/2.7/lib/python2.7/site-packages/envisage/ui/workbench/default_action_set.py)\n"
       ]
      },
      {
       "output_type": "stream",
       "stream": "stderr",
       "text": [
        "DEBUG:Cloud.Transport:Dependent module envisage.ui.workbench.workbench_preferences_page found (relfile=envisage/ui/workbench/workbench_preferences_page.py, path=None, filename=/opt/local/Library/Frameworks/Python.framework/Versions/2.7/lib/python2.7/site-packages/envisage/ui/workbench/workbench_preferences_page.py)\n"
       ]
      },
      {
       "output_type": "stream",
       "stream": "stderr",
       "text": [
        "DEBUG:Cloud.Transport:Dependent module tvtk.plugins found (relfile=tvtk/plugins/__init__.py, path=['/opt/local/Library/Frameworks/Python.framework/Versions/2.7/lib/python2.7/site-packages/tvtk/plugins'], filename=/opt/local/Library/Frameworks/Python.framework/Versions/2.7/lib/python2.7/site-packages/tvtk/plugins/__init__.py)\n"
       ]
      },
      {
       "output_type": "stream",
       "stream": "stderr",
       "text": [
        "DEBUG:Cloud.Transport:Dependent module tvtk.plugins.scene found (relfile=tvtk/plugins/scene/__init__.py, path=['/opt/local/Library/Frameworks/Python.framework/Versions/2.7/lib/python2.7/site-packages/tvtk/plugins/scene'], filename=/opt/local/Library/Frameworks/Python.framework/Versions/2.7/lib/python2.7/site-packages/tvtk/plugins/scene/__init__.py)\n"
       ]
      },
      {
       "output_type": "stream",
       "stream": "stderr",
       "text": [
        "DEBUG:Cloud.Transport:Dependent module tvtk.plugins.scene.scene_plugin found (relfile=tvtk/plugins/scene/scene_plugin.py, path=None, filename=/opt/local/Library/Frameworks/Python.framework/Versions/2.7/lib/python2.7/site-packages/tvtk/plugins/scene/scene_plugin.py)\n"
       ]
      },
      {
       "output_type": "stream",
       "stream": "stderr",
       "text": [
        "DEBUG:Cloud.Transport:Dependent module mayavi.plugins.mayavi_plugin found (relfile=mayavi/plugins/mayavi_plugin.py, path=None, filename=/opt/local/Library/Frameworks/Python.framework/Versions/2.7/lib/python2.7/site-packages/mayavi/plugins/mayavi_plugin.py)\n"
       ]
      },
      {
       "output_type": "stream",
       "stream": "stderr",
       "text": [
        "DEBUG:Cloud.Transport:Dependent module envisage.plugins found (relfile=envisage/plugins/__init__.py, path=['/opt/local/Library/Frameworks/Python.framework/Versions/2.7/lib/python2.7/site-packages/envisage/plugins'], filename=/opt/local/Library/Frameworks/Python.framework/Versions/2.7/lib/python2.7/site-packages/envisage/plugins/__init__.py)\n"
       ]
      },
      {
       "output_type": "stream",
       "stream": "stderr",
       "text": [
        "DEBUG:Cloud.Transport:Dependent module envisage.plugins.ipython_shell found (relfile=envisage/plugins/ipython_shell/__init__.py, path=['/opt/local/Library/Frameworks/Python.framework/Versions/2.7/lib/python2.7/site-packages/envisage/plugins/ipython_shell'], filename=/opt/local/Library/Frameworks/Python.framework/Versions/2.7/lib/python2.7/site-packages/envisage/plugins/ipython_shell/__init__.py)\n"
       ]
      },
      {
       "output_type": "stream",
       "stream": "stderr",
       "text": [
        "DEBUG:Cloud.Transport:Dependent module envisage.plugins.ipython_shell.view found (relfile=envisage/plugins/ipython_shell/view/__init__.py, path=['/opt/local/Library/Frameworks/Python.framework/Versions/2.7/lib/python2.7/site-packages/envisage/plugins/ipython_shell/view'], filename=/opt/local/Library/Frameworks/Python.framework/Versions/2.7/lib/python2.7/site-packages/envisage/plugins/ipython_shell/view/__init__.py)\n"
       ]
      },
      {
       "output_type": "stream",
       "stream": "stderr",
       "text": [
        "DEBUG:Cloud.Transport:Dependent module envisage.plugins.ipython_shell.view.ipython_shell_view found (relfile=envisage/plugins/ipython_shell/view/ipython_shell_view.py, path=None, filename=/opt/local/Library/Frameworks/Python.framework/Versions/2.7/lib/python2.7/site-packages/envisage/plugins/ipython_shell/view/ipython_shell_view.py)\n"
       ]
      },
      {
       "output_type": "stream",
       "stream": "stderr",
       "text": [
        "DEBUG:Cloud.Transport:Dependent module envisage.plugins.python_shell found (relfile=envisage/plugins/python_shell/__init__.py, path=['/opt/local/Library/Frameworks/Python.framework/Versions/2.7/lib/python2.7/site-packages/envisage/plugins/python_shell'], filename=/opt/local/Library/Frameworks/Python.framework/Versions/2.7/lib/python2.7/site-packages/envisage/plugins/python_shell/__init__.py)\n"
       ]
      },
      {
       "output_type": "stream",
       "stream": "stderr",
       "text": [
        "DEBUG:Cloud.Transport:Dependent module envisage.plugins.python_shell.api found (relfile=envisage/plugins/python_shell/api.py, path=None, filename=/opt/local/Library/Frameworks/Python.framework/Versions/2.7/lib/python2.7/site-packages/envisage/plugins/python_shell/api.py)\n"
       ]
      },
      {
       "output_type": "stream",
       "stream": "stderr",
       "text": [
        "DEBUG:Cloud.Transport:Dependent module envisage.plugins.python_shell.i_python_shell found (relfile=envisage/plugins/python_shell/i_python_shell.py, path=None, filename=/opt/local/Library/Frameworks/Python.framework/Versions/2.7/lib/python2.7/site-packages/envisage/plugins/python_shell/i_python_shell.py)\n"
       ]
      },
      {
       "output_type": "stream",
       "stream": "stderr",
       "text": [
        "DEBUG:Cloud.Transport:Dependent module envisage.plugins.ipython_shell.api found (relfile=envisage/plugins/ipython_shell/api.py, path=None, filename=/opt/local/Library/Frameworks/Python.framework/Versions/2.7/lib/python2.7/site-packages/envisage/plugins/ipython_shell/api.py)\n"
       ]
      },
      {
       "output_type": "stream",
       "stream": "stderr",
       "text": [
        "DEBUG:Cloud.Transport:Dependent module envisage.plugins.ipython_shell.i_namespace_view found (relfile=envisage/plugins/ipython_shell/i_namespace_view.py, path=None, filename=/opt/local/Library/Frameworks/Python.framework/Versions/2.7/lib/python2.7/site-packages/envisage/plugins/ipython_shell/i_namespace_view.py)\n"
       ]
      },
      {
       "output_type": "stream",
       "stream": "stderr",
       "text": [
        "DEBUG:Cloud.Transport:Dependent module envisage.plugins.ipython_shell.ipython_shell_plugin found (relfile=envisage/plugins/ipython_shell/ipython_shell_plugin.py, path=None, filename=/opt/local/Library/Frameworks/Python.framework/Versions/2.7/lib/python2.7/site-packages/envisage/plugins/ipython_shell/ipython_shell_plugin.py)\n"
       ]
      },
      {
       "output_type": "stream",
       "stream": "stderr",
       "text": [
        "DEBUG:Cloud.Transport:Dependent module envisage.plugins.ipython_shell.actions found (relfile=envisage/plugins/ipython_shell/actions/__init__.py, path=['/opt/local/Library/Frameworks/Python.framework/Versions/2.7/lib/python2.7/site-packages/envisage/plugins/ipython_shell/actions'], filename=/opt/local/Library/Frameworks/Python.framework/Versions/2.7/lib/python2.7/site-packages/envisage/plugins/ipython_shell/actions/__init__.py)\n"
       ]
      },
      {
       "output_type": "stream",
       "stream": "stderr",
       "text": [
        "DEBUG:Cloud.Transport:Dependent module envisage.plugins.ipython_shell.actions.ipython_shell_actions found (relfile=envisage/plugins/ipython_shell/actions/ipython_shell_actions.py, path=None, filename=/opt/local/Library/Frameworks/Python.framework/Versions/2.7/lib/python2.7/site-packages/envisage/plugins/ipython_shell/actions/ipython_shell_actions.py)\n"
       ]
      },
      {
       "output_type": "stream",
       "stream": "stderr",
       "text": [
        "DEBUG:Cloud.Transport:Dependent module envisage.plugins.ipython_shell.view.namespace_view found (relfile=envisage/plugins/ipython_shell/view/namespace_view.py, path=None, filename=/opt/local/Library/Frameworks/Python.framework/Versions/2.7/lib/python2.7/site-packages/envisage/plugins/ipython_shell/view/namespace_view.py)\n"
       ]
      },
      {
       "output_type": "stream",
       "stream": "stderr",
       "text": [
        "DEBUG:Cloud.Transport:Dependent module envisage.plugins.python_shell.python_shell_plugin found (relfile=envisage/plugins/python_shell/python_shell_plugin.py, path=None, filename=/opt/local/Library/Frameworks/Python.framework/Versions/2.7/lib/python2.7/site-packages/envisage/plugins/python_shell/python_shell_plugin.py)\n"
       ]
      },
      {
       "output_type": "stream",
       "stream": "stderr",
       "text": [
        "DEBUG:Cloud.Transport:Dependent module envisage.plugins.python_shell.view found (relfile=envisage/plugins/python_shell/view/__init__.py, path=['/opt/local/Library/Frameworks/Python.framework/Versions/2.7/lib/python2.7/site-packages/envisage/plugins/python_shell/view'], filename=/opt/local/Library/Frameworks/Python.framework/Versions/2.7/lib/python2.7/site-packages/envisage/plugins/python_shell/view/__init__.py)\n"
       ]
      },
      {
       "output_type": "stream",
       "stream": "stderr",
       "text": [
        "DEBUG:Cloud.Transport:Dependent module envisage.plugins.python_shell.view.python_shell_view found (relfile=envisage/plugins/python_shell/view/python_shell_view.py, path=None, filename=/opt/local/Library/Frameworks/Python.framework/Versions/2.7/lib/python2.7/site-packages/envisage/plugins/python_shell/view/python_shell_view.py)\n"
       ]
      },
      {
       "output_type": "stream",
       "stream": "stderr",
       "text": [
        "DEBUG:Cloud.Transport:Dependent module envisage.plugins.python_shell.view.namespace_view found (relfile=envisage/plugins/python_shell/view/namespace_view.py, path=None, filename=/opt/local/Library/Frameworks/Python.framework/Versions/2.7/lib/python2.7/site-packages/envisage/plugins/python_shell/view/namespace_view.py)\n"
       ]
      },
      {
       "output_type": "stream",
       "stream": "stderr",
       "text": [
        "DEBUG:Cloud.Transport:Dependent module envisage.plugins.text_editor found (relfile=envisage/plugins/text_editor/__init__.py, path=['/opt/local/Library/Frameworks/Python.framework/Versions/2.7/lib/python2.7/site-packages/envisage/plugins/text_editor'], filename=/opt/local/Library/Frameworks/Python.framework/Versions/2.7/lib/python2.7/site-packages/envisage/plugins/text_editor/__init__.py)\n"
       ]
      },
      {
       "output_type": "stream",
       "stream": "stderr",
       "text": [
        "DEBUG:Cloud.Transport:Dependent module envisage.plugins.text_editor.text_editor_plugin found (relfile=envisage/plugins/text_editor/text_editor_plugin.py, path=None, filename=/opt/local/Library/Frameworks/Python.framework/Versions/2.7/lib/python2.7/site-packages/envisage/plugins/text_editor/text_editor_plugin.py)\n"
       ]
      },
      {
       "output_type": "stream",
       "stream": "stderr",
       "text": [
        "DEBUG:Cloud.Transport:Dependent module envisage.plugins.text_editor.text_editor_action_set found (relfile=envisage/plugins/text_editor/text_editor_action_set.py, path=None, filename=/opt/local/Library/Frameworks/Python.framework/Versions/2.7/lib/python2.7/site-packages/envisage/plugins/text_editor/text_editor_action_set.py)\n"
       ]
      },
      {
       "output_type": "stream",
       "stream": "stderr",
       "text": [
        "DEBUG:Cloud.Transport:Dependent module apptools.logger.plugin found (relfile=apptools/logger/plugin/__init__.py, path=['/opt/local/Library/Frameworks/Python.framework/Versions/2.7/lib/python2.7/site-packages/apptools/logger/plugin'], filename=/opt/local/Library/Frameworks/Python.framework/Versions/2.7/lib/python2.7/site-packages/apptools/logger/plugin/__init__.py)\n"
       ]
      },
      {
       "output_type": "stream",
       "stream": "stderr",
       "text": [
        "DEBUG:Cloud.Transport:Dependent module apptools.logger.plugin.logger_plugin found (relfile=apptools/logger/plugin/logger_plugin.py, path=None, filename=/opt/local/Library/Frameworks/Python.framework/Versions/2.7/lib/python2.7/site-packages/apptools/logger/plugin/logger_plugin.py)\n"
       ]
      },
      {
       "output_type": "stream",
       "stream": "stderr",
       "text": [
        "DEBUG:Cloud.Transport:Dependent module apptools.logger.plugin.logger_preferences found (relfile=apptools/logger/plugin/logger_preferences.py, path=None, filename=/opt/local/Library/Frameworks/Python.framework/Versions/2.7/lib/python2.7/site-packages/apptools/logger/plugin/logger_preferences.py)\n"
       ]
      },
      {
       "output_type": "stream",
       "stream": "stderr",
       "text": [
        "DEBUG:Cloud.Transport:Dependent module apptools.logger.plugin.logger_service found (relfile=apptools/logger/plugin/logger_service.py, path=None, filename=/opt/local/Library/Frameworks/Python.framework/Versions/2.7/lib/python2.7/site-packages/apptools/logger/plugin/logger_service.py)\n"
       ]
      },
      {
       "output_type": "stream",
       "stream": "stderr",
       "text": [
        "DEBUG:Cloud.Transport:Dependent module apptools.logger.plugin.view found (relfile=apptools/logger/plugin/view/__init__.py, path=['/opt/local/Library/Frameworks/Python.framework/Versions/2.7/lib/python2.7/site-packages/apptools/logger/plugin/view'], filename=/opt/local/Library/Frameworks/Python.framework/Versions/2.7/lib/python2.7/site-packages/apptools/logger/plugin/view/__init__.py)\n"
       ]
      },
      {
       "output_type": "stream",
       "stream": "stderr",
       "text": [
        "DEBUG:Cloud.Transport:Dependent module apptools.logger.plugin.view.logger_preferences_page found (relfile=apptools/logger/plugin/view/logger_preferences_page.py, path=None, filename=/opt/local/Library/Frameworks/Python.framework/Versions/2.7/lib/python2.7/site-packages/apptools/logger/plugin/view/logger_preferences_page.py)\n"
       ]
      },
      {
       "output_type": "stream",
       "stream": "stderr",
       "text": [
        "DEBUG:Cloud.Transport:Dependent module apptools.logger.plugin.view.logger_view found (relfile=apptools/logger/plugin/view/logger_view.py, path=None, filename=/opt/local/Library/Frameworks/Python.framework/Versions/2.7/lib/python2.7/site-packages/apptools/logger/plugin/view/logger_view.py)\n"
       ]
      },
      {
       "output_type": "stream",
       "stream": "stderr",
       "text": [
        "DEBUG:Cloud.Transport:Dependent module apptools.logger.agent found (relfile=apptools/logger/agent/__init__.py, path=['/opt/local/Library/Frameworks/Python.framework/Versions/2.7/lib/python2.7/site-packages/apptools/logger/agent'], filename=/opt/local/Library/Frameworks/Python.framework/Versions/2.7/lib/python2.7/site-packages/apptools/logger/agent/__init__.py)\n"
       ]
      },
      {
       "output_type": "stream",
       "stream": "stderr",
       "text": [
        "DEBUG:Cloud.Transport:Dependent module apptools.logger.agent.quality_agent_view found (relfile=apptools/logger/agent/quality_agent_view.py, path=None, filename=/opt/local/Library/Frameworks/Python.framework/Versions/2.7/lib/python2.7/site-packages/apptools/logger/agent/quality_agent_view.py)\n"
       ]
      },
      {
       "output_type": "stream",
       "stream": "stderr",
       "text": [
        "DEBUG:Cloud.Transport:Dependent module tvtk.plugins.scene.ui found (relfile=tvtk/plugins/scene/ui/__init__.py, path=['/opt/local/Library/Frameworks/Python.framework/Versions/2.7/lib/python2.7/site-packages/tvtk/plugins/scene/ui'], filename=/opt/local/Library/Frameworks/Python.framework/Versions/2.7/lib/python2.7/site-packages/tvtk/plugins/scene/ui/__init__.py)\n"
       ]
      },
      {
       "output_type": "stream",
       "stream": "stderr",
       "text": [
        "DEBUG:Cloud.Transport:Dependent module tvtk.plugins.scene.ui.scene_ui_plugin found (relfile=tvtk/plugins/scene/ui/scene_ui_plugin.py, path=None, filename=/opt/local/Library/Frameworks/Python.framework/Versions/2.7/lib/python2.7/site-packages/tvtk/plugins/scene/ui/scene_ui_plugin.py)\n"
       ]
      },
      {
       "output_type": "stream",
       "stream": "stderr",
       "text": [
        "DEBUG:Cloud.Transport:Dependent module tvtk.plugins.scene.ui.scene_ui_action_set found (relfile=tvtk/plugins/scene/ui/scene_ui_action_set.py, path=None, filename=/opt/local/Library/Frameworks/Python.framework/Versions/2.7/lib/python2.7/site-packages/tvtk/plugins/scene/ui/scene_ui_action_set.py)\n"
       ]
      },
      {
       "output_type": "stream",
       "stream": "stderr",
       "text": [
        "DEBUG:Cloud.Transport:Dependent module tvtk.plugins.scene.ui.scene_preferences_page found (relfile=tvtk/plugins/scene/ui/scene_preferences_page.py, path=None, filename=/opt/local/Library/Frameworks/Python.framework/Versions/2.7/lib/python2.7/site-packages/tvtk/plugins/scene/ui/scene_preferences_page.py)\n"
       ]
      },
      {
       "output_type": "stream",
       "stream": "stderr",
       "text": [
        "DEBUG:Cloud.Transport:Dependent module mayavi.plugins.mayavi_ui_plugin found (relfile=mayavi/plugins/mayavi_ui_plugin.py, path=None, filename=/opt/local/Library/Frameworks/Python.framework/Versions/2.7/lib/python2.7/site-packages/mayavi/plugins/mayavi_ui_plugin.py)\n"
       ]
      },
      {
       "output_type": "stream",
       "stream": "stderr",
       "text": [
        "DEBUG:Cloud.Transport:Dependent module mayavi.plugins.mayavi_ui_action_set found (relfile=mayavi/plugins/mayavi_ui_action_set.py, path=None, filename=/opt/local/Library/Frameworks/Python.framework/Versions/2.7/lib/python2.7/site-packages/mayavi/plugins/mayavi_ui_action_set.py)\n"
       ]
      },
      {
       "output_type": "stream",
       "stream": "stderr",
       "text": [
        "DEBUG:Cloud.Transport:Dependent module mayavi.plugins.script found (relfile=mayavi/plugins/script.py, path=None, filename=/opt/local/Library/Frameworks/Python.framework/Versions/2.7/lib/python2.7/site-packages/mayavi/plugins/script.py)\n"
       ]
      },
      {
       "output_type": "stream",
       "stream": "stderr",
       "text": [
        "DEBUG:Cloud.Transport:Dependent module apptools.naming found (relfile=apptools/naming/__init__.py, path=['/opt/local/Library/Frameworks/Python.framework/Versions/2.7/lib/python2.7/site-packages/apptools/naming'], filename=/opt/local/Library/Frameworks/Python.framework/Versions/2.7/lib/python2.7/site-packages/apptools/naming/__init__.py)\n"
       ]
      },
      {
       "output_type": "stream",
       "stream": "stderr",
       "text": [
        "DEBUG:Cloud.Transport:Dependent module apptools.naming.api found (relfile=apptools/naming/api.py, path=None, filename=/opt/local/Library/Frameworks/Python.framework/Versions/2.7/lib/python2.7/site-packages/apptools/naming/api.py)\n"
       ]
      },
      {
       "output_type": "stream",
       "stream": "stderr",
       "text": [
        "DEBUG:Cloud.Transport:Dependent module apptools.naming.exception found (relfile=apptools/naming/exception.py, path=None, filename=/opt/local/Library/Frameworks/Python.framework/Versions/2.7/lib/python2.7/site-packages/apptools/naming/exception.py)\n"
       ]
      },
      {
       "output_type": "stream",
       "stream": "stderr",
       "text": [
        "DEBUG:Cloud.Transport:Dependent module apptools.naming.address found (relfile=apptools/naming/address.py, path=None, filename=/opt/local/Library/Frameworks/Python.framework/Versions/2.7/lib/python2.7/site-packages/apptools/naming/address.py)\n"
       ]
      },
      {
       "output_type": "stream",
       "stream": "stderr",
       "text": [
        "DEBUG:Cloud.Transport:Dependent module apptools.naming.binding found (relfile=apptools/naming/binding.py, path=None, filename=/opt/local/Library/Frameworks/Python.framework/Versions/2.7/lib/python2.7/site-packages/apptools/naming/binding.py)\n"
       ]
      },
      {
       "output_type": "stream",
       "stream": "stderr",
       "text": [
        "DEBUG:Cloud.Transport:Dependent module apptools.naming.context found (relfile=apptools/naming/context.py, path=None, filename=/opt/local/Library/Frameworks/Python.framework/Versions/2.7/lib/python2.7/site-packages/apptools/naming/context.py)\n"
       ]
      },
      {
       "output_type": "stream",
       "stream": "stderr",
       "text": [
        "DEBUG:Cloud.Transport:Dependent module apptools.type_manager found (relfile=apptools/type_manager/__init__.py, path=['/opt/local/Library/Frameworks/Python.framework/Versions/2.7/lib/python2.7/site-packages/apptools/type_manager'], filename=/opt/local/Library/Frameworks/Python.framework/Versions/2.7/lib/python2.7/site-packages/apptools/type_manager/__init__.py)\n"
       ]
      },
      {
       "output_type": "stream",
       "stream": "stderr",
       "text": [
        "DEBUG:Cloud.Transport:Dependent module apptools.type_manager.api found (relfile=apptools/type_manager/api.py, path=None, filename=/opt/local/Library/Frameworks/Python.framework/Versions/2.7/lib/python2.7/site-packages/apptools/type_manager/api.py)\n"
       ]
      },
      {
       "output_type": "stream",
       "stream": "stderr",
       "text": [
        "DEBUG:Cloud.Transport:Dependent module apptools.type_manager.abstract_adapter_factory found (relfile=apptools/type_manager/abstract_adapter_factory.py, path=None, filename=/opt/local/Library/Frameworks/Python.framework/Versions/2.7/lib/python2.7/site-packages/apptools/type_manager/abstract_adapter_factory.py)\n"
       ]
      },
      {
       "output_type": "stream",
       "stream": "stderr",
       "text": [
        "DEBUG:Cloud.Transport:Dependent module apptools.type_manager.adapter_manager found (relfile=apptools/type_manager/adapter_manager.py, path=None, filename=/opt/local/Library/Frameworks/Python.framework/Versions/2.7/lib/python2.7/site-packages/apptools/type_manager/adapter_manager.py)\n"
       ]
      },
      {
       "output_type": "stream",
       "stream": "stderr",
       "text": [
        "DEBUG:Cloud.Transport:Dependent module apptools.type_manager.abstract_type_system found (relfile=apptools/type_manager/abstract_type_system.py, path=None, filename=/opt/local/Library/Frameworks/Python.framework/Versions/2.7/lib/python2.7/site-packages/apptools/type_manager/abstract_type_system.py)\n"
       ]
      },
      {
       "output_type": "stream",
       "stream": "stderr",
       "text": [
        "DEBUG:Cloud.Transport:Dependent module apptools.type_manager.python_type_system found (relfile=apptools/type_manager/python_type_system.py, path=None, filename=/opt/local/Library/Frameworks/Python.framework/Versions/2.7/lib/python2.7/site-packages/apptools/type_manager/python_type_system.py)\n"
       ]
      },
      {
       "output_type": "stream",
       "stream": "stderr",
       "text": [
        "DEBUG:Cloud.Transport:Dependent module apptools.type_manager.abstract_factory found (relfile=apptools/type_manager/abstract_factory.py, path=None, filename=/opt/local/Library/Frameworks/Python.framework/Versions/2.7/lib/python2.7/site-packages/apptools/type_manager/abstract_factory.py)\n"
       ]
      },
      {
       "output_type": "stream",
       "stream": "stderr",
       "text": [
        "DEBUG:Cloud.Transport:Dependent module apptools.type_manager.adaptable found (relfile=apptools/type_manager/adaptable.py, path=None, filename=/opt/local/Library/Frameworks/Python.framework/Versions/2.7/lib/python2.7/site-packages/apptools/type_manager/adaptable.py)\n"
       ]
      },
      {
       "output_type": "stream",
       "stream": "stderr",
       "text": [
        "DEBUG:Cloud.Transport:Dependent module apptools.type_manager.adapter found (relfile=apptools/type_manager/adapter.py, path=None, filename=/opt/local/Library/Frameworks/Python.framework/Versions/2.7/lib/python2.7/site-packages/apptools/type_manager/adapter.py)\n"
       ]
      },
      {
       "output_type": "stream",
       "stream": "stderr",
       "text": [
        "DEBUG:Cloud.Transport:Dependent module apptools.type_manager.adapter_factory found (relfile=apptools/type_manager/adapter_factory.py, path=None, filename=/opt/local/Library/Frameworks/Python.framework/Versions/2.7/lib/python2.7/site-packages/apptools/type_manager/adapter_factory.py)\n"
       ]
      },
      {
       "output_type": "stream",
       "stream": "stderr",
       "text": [
        "DEBUG:Cloud.Transport:Dependent module apptools.type_manager.factory found (relfile=apptools/type_manager/factory.py, path=None, filename=/opt/local/Library/Frameworks/Python.framework/Versions/2.7/lib/python2.7/site-packages/apptools/type_manager/factory.py)\n"
       ]
      },
      {
       "output_type": "stream",
       "stream": "stderr",
       "text": [
        "DEBUG:Cloud.Transport:Dependent module apptools.type_manager.hook found (relfile=apptools/type_manager/hook.py, path=None, filename=/opt/local/Library/Frameworks/Python.framework/Versions/2.7/lib/python2.7/site-packages/apptools/type_manager/hook.py)\n"
       ]
      },
      {
       "output_type": "stream",
       "stream": "stderr",
       "text": [
        "DEBUG:Cloud.Transport:Dependent module apptools.type_manager.type_manager found (relfile=apptools/type_manager/type_manager.py, path=None, filename=/opt/local/Library/Frameworks/Python.framework/Versions/2.7/lib/python2.7/site-packages/apptools/type_manager/type_manager.py)\n"
       ]
      },
      {
       "output_type": "stream",
       "stream": "stderr",
       "text": [
        "DEBUG:Cloud.Transport:Dependent module apptools.naming.naming_event found (relfile=apptools/naming/naming_event.py, path=None, filename=/opt/local/Library/Frameworks/Python.framework/Versions/2.7/lib/python2.7/site-packages/apptools/naming/naming_event.py)\n"
       ]
      },
      {
       "output_type": "stream",
       "stream": "stderr",
       "text": [
        "DEBUG:Cloud.Transport:Dependent module apptools.naming.naming_manager found (relfile=apptools/naming/naming_manager.py, path=None, filename=/opt/local/Library/Frameworks/Python.framework/Versions/2.7/lib/python2.7/site-packages/apptools/naming/naming_manager.py)\n"
       ]
      },
      {
       "output_type": "stream",
       "stream": "stderr",
       "text": [
        "DEBUG:Cloud.Transport:Dependent module apptools.naming.object_factory found (relfile=apptools/naming/object_factory.py, path=None, filename=/opt/local/Library/Frameworks/Python.framework/Versions/2.7/lib/python2.7/site-packages/apptools/naming/object_factory.py)\n"
       ]
      },
      {
       "output_type": "stream",
       "stream": "stderr",
       "text": [
        "DEBUG:Cloud.Transport:Dependent module apptools.naming.state_factory found (relfile=apptools/naming/state_factory.py, path=None, filename=/opt/local/Library/Frameworks/Python.framework/Versions/2.7/lib/python2.7/site-packages/apptools/naming/state_factory.py)\n"
       ]
      },
      {
       "output_type": "stream",
       "stream": "stderr",
       "text": [
        "DEBUG:Cloud.Transport:Dependent module apptools.naming.unique_name found (relfile=apptools/naming/unique_name.py, path=None, filename=/opt/local/Library/Frameworks/Python.framework/Versions/2.7/lib/python2.7/site-packages/apptools/naming/unique_name.py)\n"
       ]
      },
      {
       "output_type": "stream",
       "stream": "stderr",
       "text": [
        "DEBUG:Cloud.Transport:Dependent module apptools.naming.context_adapter found (relfile=apptools/naming/context_adapter.py, path=None, filename=/opt/local/Library/Frameworks/Python.framework/Versions/2.7/lib/python2.7/site-packages/apptools/naming/context_adapter.py)\n"
       ]
      },
      {
       "output_type": "stream",
       "stream": "stderr",
       "text": [
        "DEBUG:Cloud.Transport:Dependent module apptools.naming.context_adapter_factory found (relfile=apptools/naming/context_adapter_factory.py, path=None, filename=/opt/local/Library/Frameworks/Python.framework/Versions/2.7/lib/python2.7/site-packages/apptools/naming/context_adapter_factory.py)\n"
       ]
      },
      {
       "output_type": "stream",
       "stream": "stderr",
       "text": [
        "DEBUG:Cloud.Transport:Dependent module apptools.naming.dynamic_context found (relfile=apptools/naming/dynamic_context.py, path=None, filename=/opt/local/Library/Frameworks/Python.framework/Versions/2.7/lib/python2.7/site-packages/apptools/naming/dynamic_context.py)\n"
       ]
      },
      {
       "output_type": "stream",
       "stream": "stderr",
       "text": [
        "DEBUG:Cloud.Transport:Dependent module apptools.naming.dir_context found (relfile=apptools/naming/dir_context.py, path=None, filename=/opt/local/Library/Frameworks/Python.framework/Versions/2.7/lib/python2.7/site-packages/apptools/naming/dir_context.py)\n"
       ]
      },
      {
       "output_type": "stream",
       "stream": "stderr",
       "text": [
        "DEBUG:Cloud.Transport:Dependent module apptools.naming.initial_context found (relfile=apptools/naming/initial_context.py, path=None, filename=/opt/local/Library/Frameworks/Python.framework/Versions/2.7/lib/python2.7/site-packages/apptools/naming/initial_context.py)\n"
       ]
      },
      {
       "output_type": "stream",
       "stream": "stderr",
       "text": [
        "DEBUG:Cloud.Transport:Dependent module apptools.naming.initial_context_factory found (relfile=apptools/naming/initial_context_factory.py, path=None, filename=/opt/local/Library/Frameworks/Python.framework/Versions/2.7/lib/python2.7/site-packages/apptools/naming/initial_context_factory.py)\n"
       ]
      },
      {
       "output_type": "stream",
       "stream": "stderr",
       "text": [
        "DEBUG:Cloud.Transport:Dependent module apptools.naming.object_serializer found (relfile=apptools/naming/object_serializer.py, path=None, filename=/opt/local/Library/Frameworks/Python.framework/Versions/2.7/lib/python2.7/site-packages/apptools/naming/object_serializer.py)\n"
       ]
      },
      {
       "output_type": "stream",
       "stream": "stderr",
       "text": [
        "DEBUG:Cloud.Transport:Dependent module apptools.sweet_pickle found (relfile=apptools/sweet_pickle/__init__.py, path=['/opt/local/Library/Frameworks/Python.framework/Versions/2.7/lib/python2.7/site-packages/apptools/sweet_pickle'], filename=/opt/local/Library/Frameworks/Python.framework/Versions/2.7/lib/python2.7/site-packages/apptools/sweet_pickle/__init__.py)\n"
       ]
      },
      {
       "output_type": "stream",
       "stream": "stderr",
       "text": [
        "DEBUG:Cloud.Transport:Dependent module apptools.sweet_pickle.versioned_unpickler found (relfile=apptools/sweet_pickle/versioned_unpickler.py, path=None, filename=/opt/local/Library/Frameworks/Python.framework/Versions/2.7/lib/python2.7/site-packages/apptools/sweet_pickle/versioned_unpickler.py)\n"
       ]
      },
      {
       "output_type": "stream",
       "stream": "stderr",
       "text": [
        "DEBUG:Cloud.Transport:Dependent module apptools.sweet_pickle.global_registry found (relfile=apptools/sweet_pickle/global_registry.py, path=None, filename=/opt/local/Library/Frameworks/Python.framework/Versions/2.7/lib/python2.7/site-packages/apptools/sweet_pickle/global_registry.py)\n"
       ]
      },
      {
       "output_type": "stream",
       "stream": "stderr",
       "text": [
        "DEBUG:Cloud.Transport:Dependent module apptools.sweet_pickle.updater found (relfile=apptools/sweet_pickle/updater.py, path=None, filename=/opt/local/Library/Frameworks/Python.framework/Versions/2.7/lib/python2.7/site-packages/apptools/sweet_pickle/updater.py)\n"
       ]
      },
      {
       "output_type": "stream",
       "stream": "stderr",
       "text": [
        "DEBUG:Cloud.Transport:Dependent module apptools.naming.py_context found (relfile=apptools/naming/py_context.py, path=None, filename=/opt/local/Library/Frameworks/Python.framework/Versions/2.7/lib/python2.7/site-packages/apptools/naming/py_context.py)\n"
       ]
      },
      {
       "output_type": "stream",
       "stream": "stderr",
       "text": [
        "DEBUG:Cloud.Transport:Dependent module apptools.naming.py_object_factory found (relfile=apptools/naming/py_object_factory.py, path=None, filename=/opt/local/Library/Frameworks/Python.framework/Versions/2.7/lib/python2.7/site-packages/apptools/naming/py_object_factory.py)\n"
       ]
      },
      {
       "output_type": "stream",
       "stream": "stderr",
       "text": [
        "DEBUG:Cloud.Transport:Dependent module apptools.naming.reference found (relfile=apptools/naming/reference.py, path=None, filename=/opt/local/Library/Frameworks/Python.framework/Versions/2.7/lib/python2.7/site-packages/apptools/naming/reference.py)\n"
       ]
      },
      {
       "output_type": "stream",
       "stream": "stderr",
       "text": [
        "DEBUG:Cloud.Transport:Dependent module apptools.naming.referenceable found (relfile=apptools/naming/referenceable.py, path=None, filename=/opt/local/Library/Frameworks/Python.framework/Versions/2.7/lib/python2.7/site-packages/apptools/naming/referenceable.py)\n"
       ]
      },
      {
       "output_type": "stream",
       "stream": "stderr",
       "text": [
        "DEBUG:Cloud.Transport:Dependent module apptools.naming.referenceable_state_factory found (relfile=apptools/naming/referenceable_state_factory.py, path=None, filename=/opt/local/Library/Frameworks/Python.framework/Versions/2.7/lib/python2.7/site-packages/apptools/naming/referenceable_state_factory.py)\n"
       ]
      },
      {
       "output_type": "stream",
       "stream": "stderr",
       "text": [
        "DEBUG:Cloud.Transport:Dependent module apptools.naming.pyfs_context found (relfile=apptools/naming/pyfs_context.py, path=None, filename=/opt/local/Library/Frameworks/Python.framework/Versions/2.7/lib/python2.7/site-packages/apptools/naming/pyfs_context.py)\n"
       ]
      },
      {
       "output_type": "stream",
       "stream": "stderr",
       "text": [
        "DEBUG:Cloud.Transport:Dependent module apptools.io found (relfile=apptools/io/__init__.py, path=['/opt/local/Library/Frameworks/Python.framework/Versions/2.7/lib/python2.7/site-packages/apptools/io'], filename=/opt/local/Library/Frameworks/Python.framework/Versions/2.7/lib/python2.7/site-packages/apptools/io/__init__.py)\n"
       ]
      },
      {
       "output_type": "stream",
       "stream": "stderr",
       "text": [
        "DEBUG:Cloud.Transport:Dependent module apptools.io.api found (relfile=apptools/io/api.py, path=None, filename=/opt/local/Library/Frameworks/Python.framework/Versions/2.7/lib/python2.7/site-packages/apptools/io/api.py)\n"
       ]
      },
      {
       "output_type": "stream",
       "stream": "stderr",
       "text": [
        "DEBUG:Cloud.Transport:Dependent module apptools.io.file found (relfile=apptools/io/file.py, path=None, filename=/opt/local/Library/Frameworks/Python.framework/Versions/2.7/lib/python2.7/site-packages/apptools/io/file.py)\n"
       ]
      },
      {
       "output_type": "stream",
       "stream": "stderr",
       "text": [
        "DEBUG:Cloud.Transport:Dependent module apptools.naming.pyfs_context_factory found (relfile=apptools/naming/pyfs_context_factory.py, path=None, filename=/opt/local/Library/Frameworks/Python.framework/Versions/2.7/lib/python2.7/site-packages/apptools/naming/pyfs_context_factory.py)\n"
       ]
      },
      {
       "output_type": "stream",
       "stream": "stderr",
       "text": [
        "DEBUG:Cloud.Transport:Dependent module apptools.naming.pyfs_object_factory found (relfile=apptools/naming/pyfs_object_factory.py, path=None, filename=/opt/local/Library/Frameworks/Python.framework/Versions/2.7/lib/python2.7/site-packages/apptools/naming/pyfs_object_factory.py)\n"
       ]
      },
      {
       "output_type": "stream",
       "stream": "stderr",
       "text": [
        "DEBUG:Cloud.Transport:Dependent module apptools.naming.pyfs_state_factory found (relfile=apptools/naming/pyfs_state_factory.py, path=None, filename=/opt/local/Library/Frameworks/Python.framework/Versions/2.7/lib/python2.7/site-packages/apptools/naming/pyfs_state_factory.py)\n"
       ]
      },
      {
       "output_type": "stream",
       "stream": "stderr",
       "text": [
        "DEBUG:Cloud.Transport:Dependent module apptools.naming.pyfs_initial_context_factory found (relfile=apptools/naming/pyfs_initial_context_factory.py, path=None, filename=/opt/local/Library/Frameworks/Python.framework/Versions/2.7/lib/python2.7/site-packages/apptools/naming/pyfs_initial_context_factory.py)\n"
       ]
      },
      {
       "output_type": "stream",
       "stream": "stderr",
       "text": [
        "DEBUG:Cloud.Transport:Dependent module apptools.naming.ui found (relfile=apptools/naming/ui/__init__.py, path=['/opt/local/Library/Frameworks/Python.framework/Versions/2.7/lib/python2.7/site-packages/apptools/naming/ui'], filename=/opt/local/Library/Frameworks/Python.framework/Versions/2.7/lib/python2.7/site-packages/apptools/naming/ui/__init__.py)\n"
       ]
      },
      {
       "output_type": "stream",
       "stream": "stderr",
       "text": [
        "DEBUG:Cloud.Transport:Dependent module apptools.naming.ui.api found (relfile=apptools/naming/ui/api.py, path=None, filename=/opt/local/Library/Frameworks/Python.framework/Versions/2.7/lib/python2.7/site-packages/apptools/naming/ui/api.py)\n"
       ]
      },
      {
       "output_type": "stream",
       "stream": "stderr",
       "text": [
        "DEBUG:Cloud.Transport:Dependent module apptools.naming.ui.context_monitor found (relfile=apptools/naming/ui/context_monitor.py, path=None, filename=/opt/local/Library/Frameworks/Python.framework/Versions/2.7/lib/python2.7/site-packages/apptools/naming/ui/context_monitor.py)\n"
       ]
      },
      {
       "output_type": "stream",
       "stream": "stderr",
       "text": [
        "DEBUG:Cloud.Transport:Dependent module apptools.naming.ui.context_node_type found (relfile=apptools/naming/ui/context_node_type.py, path=None, filename=/opt/local/Library/Frameworks/Python.framework/Versions/2.7/lib/python2.7/site-packages/apptools/naming/ui/context_node_type.py)\n"
       ]
      },
      {
       "output_type": "stream",
       "stream": "stderr",
       "text": [
        "DEBUG:Cloud.Transport:Dependent module apptools.naming.ui.explorer found (relfile=apptools/naming/ui/explorer.py, path=None, filename=/opt/local/Library/Frameworks/Python.framework/Versions/2.7/lib/python2.7/site-packages/apptools/naming/ui/explorer.py)\n"
       ]
      },
      {
       "output_type": "stream",
       "stream": "stderr",
       "text": [
        "DEBUG:Cloud.Transport:Dependent module apptools.naming.ui.naming_tree found (relfile=apptools/naming/ui/naming_tree.py, path=None, filename=/opt/local/Library/Frameworks/Python.framework/Versions/2.7/lib/python2.7/site-packages/apptools/naming/ui/naming_tree.py)\n"
       ]
      },
      {
       "output_type": "stream",
       "stream": "stderr",
       "text": [
        "DEBUG:Cloud.Transport:Dependent module apptools.naming.ui.naming_tree_model found (relfile=apptools/naming/ui/naming_tree_model.py, path=None, filename=/opt/local/Library/Frameworks/Python.framework/Versions/2.7/lib/python2.7/site-packages/apptools/naming/ui/naming_tree_model.py)\n"
       ]
      },
      {
       "output_type": "stream",
       "stream": "stderr",
       "text": [
        "DEBUG:Cloud.Transport:Dependent module apptools.naming.ui.naming_node_manager found (relfile=apptools/naming/ui/naming_node_manager.py, path=None, filename=/opt/local/Library/Frameworks/Python.framework/Versions/2.7/lib/python2.7/site-packages/apptools/naming/ui/naming_node_manager.py)\n"
       ]
      },
      {
       "output_type": "stream",
       "stream": "stderr",
       "text": [
        "DEBUG:Cloud.Transport:Dependent module apptools.naming.ui.object_node_type found (relfile=apptools/naming/ui/object_node_type.py, path=None, filename=/opt/local/Library/Frameworks/Python.framework/Versions/2.7/lib/python2.7/site-packages/apptools/naming/ui/object_node_type.py)\n"
       ]
      },
      {
       "output_type": "stream",
       "stream": "stderr",
       "text": [
        "DEBUG:Cloud.Transport:Dependent module mayavi.tools.figure found (relfile=mayavi/tools/figure.py, path=None, filename=/opt/local/Library/Frameworks/Python.framework/Versions/2.7/lib/python2.7/site-packages/mayavi/tools/figure.py)\n"
       ]
      },
      {
       "output_type": "stream",
       "stream": "stderr",
       "text": [
        "DEBUG:Cloud.Transport:Dependent module mayavi.tools.animator found (relfile=mayavi/tools/animator.py, path=None, filename=/opt/local/Library/Frameworks/Python.framework/Versions/2.7/lib/python2.7/site-packages/mayavi/tools/animator.py)\n"
       ]
      },
      {
       "output_type": "stream",
       "stream": "stderr",
       "text": [
        "DEBUG:Cloud.Transport:Dependent module mayavi.tools.helper_functions found (relfile=mayavi/tools/helper_functions.py, path=None, filename=/opt/local/Library/Frameworks/Python.framework/Versions/2.7/lib/python2.7/site-packages/mayavi/tools/helper_functions.py)\n"
       ]
      },
      {
       "output_type": "stream",
       "stream": "stderr",
       "text": [
        "DEBUG:Cloud.Transport:Dependent module mayavi.tools.modules found (relfile=mayavi/tools/modules.py, path=None, filename=/opt/local/Library/Frameworks/Python.framework/Versions/2.7/lib/python2.7/site-packages/mayavi/tools/modules.py)\n"
       ]
      },
      {
       "output_type": "stream",
       "stream": "stderr",
       "text": [
        "DEBUG:Cloud.Transport:Dependent module mayavi.modules.api found (relfile=mayavi/modules/api.py, path=None, filename=/opt/local/Library/Frameworks/Python.framework/Versions/2.7/lib/python2.7/site-packages/mayavi/modules/api.py)\n"
       ]
      },
      {
       "output_type": "stream",
       "stream": "stderr",
       "text": [
        "DEBUG:Cloud.Transport:Dependent module mayavi.modules.axes found (relfile=mayavi/modules/axes.py, path=None, filename=/opt/local/Library/Frameworks/Python.framework/Versions/2.7/lib/python2.7/site-packages/mayavi/modules/axes.py)\n"
       ]
      },
      {
       "output_type": "stream",
       "stream": "stderr",
       "text": [
        "DEBUG:Cloud.Transport:Dependent module mayavi.modules.contour_grid_plane found (relfile=mayavi/modules/contour_grid_plane.py, path=None, filename=/opt/local/Library/Frameworks/Python.framework/Versions/2.7/lib/python2.7/site-packages/mayavi/modules/contour_grid_plane.py)\n"
       ]
      },
      {
       "output_type": "stream",
       "stream": "stderr",
       "text": [
        "DEBUG:Cloud.Transport:Dependent module mayavi.components found (relfile=mayavi/components/__init__.py, path=['/opt/local/Library/Frameworks/Python.framework/Versions/2.7/lib/python2.7/site-packages/mayavi/components'], filename=/opt/local/Library/Frameworks/Python.framework/Versions/2.7/lib/python2.7/site-packages/mayavi/components/__init__.py)\n"
       ]
      },
      {
       "output_type": "stream",
       "stream": "stderr",
       "text": [
        "DEBUG:Cloud.Transport:Dependent module mayavi.components.grid_plane found (relfile=mayavi/components/grid_plane.py, path=None, filename=/opt/local/Library/Frameworks/Python.framework/Versions/2.7/lib/python2.7/site-packages/mayavi/components/grid_plane.py)\n"
       ]
      },
      {
       "output_type": "stream",
       "stream": "stderr",
       "text": [
        "DEBUG:Cloud.Transport:Dependent module mayavi.core.component found (relfile=mayavi/core/component.py, path=None, filename=/opt/local/Library/Frameworks/Python.framework/Versions/2.7/lib/python2.7/site-packages/mayavi/core/component.py)\n"
       ]
      },
      {
       "output_type": "stream",
       "stream": "stderr",
       "text": [
        "DEBUG:Cloud.Transport:Dependent module mayavi.components.contour found (relfile=mayavi/components/contour.py, path=None, filename=/opt/local/Library/Frameworks/Python.framework/Versions/2.7/lib/python2.7/site-packages/mayavi/components/contour.py)\n"
       ]
      },
      {
       "output_type": "stream",
       "stream": "stderr",
       "text": [
        "DEBUG:Cloud.Transport:Dependent module mayavi.components.common found (relfile=mayavi/components/common.py, path=None, filename=/opt/local/Library/Frameworks/Python.framework/Versions/2.7/lib/python2.7/site-packages/mayavi/components/common.py)\n"
       ]
      },
      {
       "output_type": "stream",
       "stream": "stderr",
       "text": [
        "DEBUG:Cloud.Transport:Dependent module mayavi.components.actor found (relfile=mayavi/components/actor.py, path=None, filename=/opt/local/Library/Frameworks/Python.framework/Versions/2.7/lib/python2.7/site-packages/mayavi/components/actor.py)\n"
       ]
      },
      {
       "output_type": "stream",
       "stream": "stderr",
       "text": [
        "DEBUG:Cloud.Transport:Dependent module mayavi.modules.custom_grid_plane found (relfile=mayavi/modules/custom_grid_plane.py, path=None, filename=/opt/local/Library/Frameworks/Python.framework/Versions/2.7/lib/python2.7/site-packages/mayavi/modules/custom_grid_plane.py)\n"
       ]
      },
      {
       "output_type": "stream",
       "stream": "stderr",
       "text": [
        "DEBUG:Cloud.Transport:Dependent module mayavi.components.custom_grid_plane found (relfile=mayavi/components/custom_grid_plane.py, path=None, filename=/opt/local/Library/Frameworks/Python.framework/Versions/2.7/lib/python2.7/site-packages/mayavi/components/custom_grid_plane.py)\n"
       ]
      },
      {
       "output_type": "stream",
       "stream": "stderr",
       "text": [
        "DEBUG:Cloud.Transport:Dependent module mayavi.modules.generic_module found (relfile=mayavi/modules/generic_module.py, path=None, filename=/opt/local/Library/Frameworks/Python.framework/Versions/2.7/lib/python2.7/site-packages/mayavi/modules/generic_module.py)\n"
       ]
      },
      {
       "output_type": "stream",
       "stream": "stderr",
       "text": [
        "DEBUG:Cloud.Transport:Dependent module mayavi.modules.glyph found (relfile=mayavi/modules/glyph.py, path=None, filename=/opt/local/Library/Frameworks/Python.framework/Versions/2.7/lib/python2.7/site-packages/mayavi/modules/glyph.py)\n"
       ]
      },
      {
       "output_type": "stream",
       "stream": "stderr",
       "text": [
        "DEBUG:Cloud.Transport:Dependent module mayavi.components.glyph found (relfile=mayavi/components/glyph.py, path=None, filename=/opt/local/Library/Frameworks/Python.framework/Versions/2.7/lib/python2.7/site-packages/mayavi/components/glyph.py)\n"
       ]
      },
      {
       "output_type": "stream",
       "stream": "stderr",
       "text": [
        "DEBUG:Cloud.Transport:Dependent module mayavi.components.glyph_source found (relfile=mayavi/components/glyph_source.py, path=None, filename=/opt/local/Library/Frameworks/Python.framework/Versions/2.7/lib/python2.7/site-packages/mayavi/components/glyph_source.py)\n"
       ]
      },
      {
       "output_type": "stream",
       "stream": "stderr",
       "text": [
        "DEBUG:Cloud.Transport:Dependent module mayavi.modules.grid_plane found (relfile=mayavi/modules/grid_plane.py, path=None, filename=/opt/local/Library/Frameworks/Python.framework/Versions/2.7/lib/python2.7/site-packages/mayavi/modules/grid_plane.py)\n"
       ]
      },
      {
       "output_type": "stream",
       "stream": "stderr",
       "text": [
        "DEBUG:Cloud.Transport:Dependent module mayavi.modules.hyper_streamline found (relfile=mayavi/modules/hyper_streamline.py, path=None, filename=/opt/local/Library/Frameworks/Python.framework/Versions/2.7/lib/python2.7/site-packages/mayavi/modules/hyper_streamline.py)\n"
       ]
      },
      {
       "output_type": "stream",
       "stream": "stderr",
       "text": [
        "DEBUG:Cloud.Transport:Dependent module mayavi.modules.image_actor found (relfile=mayavi/modules/image_actor.py, path=None, filename=/opt/local/Library/Frameworks/Python.framework/Versions/2.7/lib/python2.7/site-packages/mayavi/modules/image_actor.py)\n"
       ]
      },
      {
       "output_type": "stream",
       "stream": "stderr",
       "text": [
        "DEBUG:Cloud.Transport:Dependent module mayavi.modules.image_plane_widget found (relfile=mayavi/modules/image_plane_widget.py, path=None, filename=/opt/local/Library/Frameworks/Python.framework/Versions/2.7/lib/python2.7/site-packages/mayavi/modules/image_plane_widget.py)\n"
       ]
      },
      {
       "output_type": "stream",
       "stream": "stderr",
       "text": [
        "DEBUG:Cloud.Transport:Dependent module mayavi.modules.iso_surface found (relfile=mayavi/modules/iso_surface.py, path=None, filename=/opt/local/Library/Frameworks/Python.framework/Versions/2.7/lib/python2.7/site-packages/mayavi/modules/iso_surface.py)\n"
       ]
      },
      {
       "output_type": "stream",
       "stream": "stderr",
       "text": [
        "DEBUG:Cloud.Transport:Dependent module mayavi.components.poly_data_normals found (relfile=mayavi/components/poly_data_normals.py, path=None, filename=/opt/local/Library/Frameworks/Python.framework/Versions/2.7/lib/python2.7/site-packages/mayavi/components/poly_data_normals.py)\n"
       ]
      },
      {
       "output_type": "stream",
       "stream": "stderr",
       "text": [
        "DEBUG:Cloud.Transport:Dependent module mayavi.modules.labels found (relfile=mayavi/modules/labels.py, path=None, filename=/opt/local/Library/Frameworks/Python.framework/Versions/2.7/lib/python2.7/site-packages/mayavi/modules/labels.py)\n"
       ]
      },
      {
       "output_type": "stream",
       "stream": "stderr",
       "text": [
        "DEBUG:Cloud.Transport:Dependent module mayavi.filters.optional found (relfile=mayavi/filters/optional.py, path=None, filename=/opt/local/Library/Frameworks/Python.framework/Versions/2.7/lib/python2.7/site-packages/mayavi/filters/optional.py)\n"
       ]
      },
      {
       "output_type": "stream",
       "stream": "stderr",
       "text": [
        "DEBUG:Cloud.Transport:Dependent module mayavi.filters.wrapper found (relfile=mayavi/filters/wrapper.py, path=None, filename=/opt/local/Library/Frameworks/Python.framework/Versions/2.7/lib/python2.7/site-packages/mayavi/filters/wrapper.py)\n"
       ]
      },
      {
       "output_type": "stream",
       "stream": "stderr",
       "text": [
        "DEBUG:Cloud.Transport:Dependent module mayavi.filters.mask_points found (relfile=mayavi/filters/mask_points.py, path=None, filename=/opt/local/Library/Frameworks/Python.framework/Versions/2.7/lib/python2.7/site-packages/mayavi/filters/mask_points.py)\n"
       ]
      },
      {
       "output_type": "stream",
       "stream": "stderr",
       "text": [
        "DEBUG:Cloud.Transport:Dependent module mayavi.components.actor2d found (relfile=mayavi/components/actor2d.py, path=None, filename=/opt/local/Library/Frameworks/Python.framework/Versions/2.7/lib/python2.7/site-packages/mayavi/components/actor2d.py)\n"
       ]
      },
      {
       "output_type": "stream",
       "stream": "stderr",
       "text": [
        "DEBUG:Cloud.Transport:Dependent module mayavi.modules.orientation_axes found (relfile=mayavi/modules/orientation_axes.py, path=None, filename=/opt/local/Library/Frameworks/Python.framework/Versions/2.7/lib/python2.7/site-packages/mayavi/modules/orientation_axes.py)\n"
       ]
      },
      {
       "output_type": "stream",
       "stream": "stderr",
       "text": [
        "DEBUG:Cloud.Transport:Dependent module mayavi.modules.outline found (relfile=mayavi/modules/outline.py, path=None, filename=/opt/local/Library/Frameworks/Python.framework/Versions/2.7/lib/python2.7/site-packages/mayavi/modules/outline.py)\n"
       ]
      },
      {
       "output_type": "stream",
       "stream": "stderr",
       "text": [
        "DEBUG:Cloud.Transport:Dependent module mayavi.modules.scalar_cut_plane found (relfile=mayavi/modules/scalar_cut_plane.py, path=None, filename=/opt/local/Library/Frameworks/Python.framework/Versions/2.7/lib/python2.7/site-packages/mayavi/modules/scalar_cut_plane.py)\n"
       ]
      },
      {
       "output_type": "stream",
       "stream": "stderr",
       "text": [
        "DEBUG:Cloud.Transport:Dependent module mayavi.components.implicit_plane found (relfile=mayavi/components/implicit_plane.py, path=None, filename=/opt/local/Library/Frameworks/Python.framework/Versions/2.7/lib/python2.7/site-packages/mayavi/components/implicit_plane.py)\n"
       ]
      },
      {
       "output_type": "stream",
       "stream": "stderr",
       "text": [
        "DEBUG:Cloud.Transport:Dependent module mayavi.components.cutter found (relfile=mayavi/components/cutter.py, path=None, filename=/opt/local/Library/Frameworks/Python.framework/Versions/2.7/lib/python2.7/site-packages/mayavi/components/cutter.py)\n"
       ]
      },
      {
       "output_type": "stream",
       "stream": "stderr",
       "text": [
        "DEBUG:Cloud.Transport:Dependent module mayavi.filters.warp_scalar found (relfile=mayavi/filters/warp_scalar.py, path=None, filename=/opt/local/Library/Frameworks/Python.framework/Versions/2.7/lib/python2.7/site-packages/mayavi/filters/warp_scalar.py)\n"
       ]
      },
      {
       "output_type": "stream",
       "stream": "stderr",
       "text": [
        "DEBUG:Cloud.Transport:Dependent module mayavi.filters.poly_data_normals found (relfile=mayavi/filters/poly_data_normals.py, path=None, filename=/opt/local/Library/Frameworks/Python.framework/Versions/2.7/lib/python2.7/site-packages/mayavi/filters/poly_data_normals.py)\n"
       ]
      },
      {
       "output_type": "stream",
       "stream": "stderr",
       "text": [
        "DEBUG:Cloud.Transport:Dependent module mayavi.filters.poly_data_filter_base found (relfile=mayavi/filters/poly_data_filter_base.py, path=None, filename=/opt/local/Library/Frameworks/Python.framework/Versions/2.7/lib/python2.7/site-packages/mayavi/filters/poly_data_filter_base.py)\n"
       ]
      },
      {
       "output_type": "stream",
       "stream": "stderr",
       "text": [
        "DEBUG:Cloud.Transport:Dependent module mayavi.modules.slice_unstructured_grid found (relfile=mayavi/modules/slice_unstructured_grid.py, path=None, filename=/opt/local/Library/Frameworks/Python.framework/Versions/2.7/lib/python2.7/site-packages/mayavi/modules/slice_unstructured_grid.py)\n"
       ]
      },
      {
       "output_type": "stream",
       "stream": "stderr",
       "text": [
        "DEBUG:Cloud.Transport:Dependent module mayavi.modules.streamline found (relfile=mayavi/modules/streamline.py, path=None, filename=/opt/local/Library/Frameworks/Python.framework/Versions/2.7/lib/python2.7/site-packages/mayavi/modules/streamline.py)\n"
       ]
      },
      {
       "output_type": "stream",
       "stream": "stderr",
       "text": [
        "DEBUG:Cloud.Transport:Dependent module mayavi.components.source_widget found (relfile=mayavi/components/source_widget.py, path=None, filename=/opt/local/Library/Frameworks/Python.framework/Versions/2.7/lib/python2.7/site-packages/mayavi/components/source_widget.py)\n"
       ]
      },
      {
       "output_type": "stream",
       "stream": "stderr",
       "text": [
        "DEBUG:Cloud.Transport:Dependent module mayavi.modules.structured_grid_outline found (relfile=mayavi/modules/structured_grid_outline.py, path=None, filename=/opt/local/Library/Frameworks/Python.framework/Versions/2.7/lib/python2.7/site-packages/mayavi/modules/structured_grid_outline.py)\n"
       ]
      },
      {
       "output_type": "stream",
       "stream": "stderr",
       "text": [
        "DEBUG:Cloud.Transport:Dependent module mayavi.modules.surface found (relfile=mayavi/modules/surface.py, path=None, filename=/opt/local/Library/Frameworks/Python.framework/Versions/2.7/lib/python2.7/site-packages/mayavi/modules/surface.py)\n"
       ]
      },
      {
       "output_type": "stream",
       "stream": "stderr",
       "text": [
        "DEBUG:Cloud.Transport:Dependent module mayavi.modules.text found (relfile=mayavi/modules/text.py, path=None, filename=/opt/local/Library/Frameworks/Python.framework/Versions/2.7/lib/python2.7/site-packages/mayavi/modules/text.py)\n"
       ]
      },
      {
       "output_type": "stream",
       "stream": "stderr",
       "text": [
        "DEBUG:Cloud.Transport:Dependent module mayavi.modules.text3d found (relfile=mayavi/modules/text3d.py, path=None, filename=/opt/local/Library/Frameworks/Python.framework/Versions/2.7/lib/python2.7/site-packages/mayavi/modules/text3d.py)\n"
       ]
      },
      {
       "output_type": "stream",
       "stream": "stderr",
       "text": [
        "DEBUG:Cloud.Transport:Dependent module mayavi.modules.tensor_glyph found (relfile=mayavi/modules/tensor_glyph.py, path=None, filename=/opt/local/Library/Frameworks/Python.framework/Versions/2.7/lib/python2.7/site-packages/mayavi/modules/tensor_glyph.py)\n"
       ]
      },
      {
       "output_type": "stream",
       "stream": "stderr",
       "text": [
        "DEBUG:Cloud.Transport:Dependent module mayavi.modules.vector_cut_plane found (relfile=mayavi/modules/vector_cut_plane.py, path=None, filename=/opt/local/Library/Frameworks/Python.framework/Versions/2.7/lib/python2.7/site-packages/mayavi/modules/vector_cut_plane.py)\n"
       ]
      },
      {
       "output_type": "stream",
       "stream": "stderr",
       "text": [
        "DEBUG:Cloud.Transport:Dependent module mayavi.modules.vectors found (relfile=mayavi/modules/vectors.py, path=None, filename=/opt/local/Library/Frameworks/Python.framework/Versions/2.7/lib/python2.7/site-packages/mayavi/modules/vectors.py)\n"
       ]
      },
      {
       "output_type": "stream",
       "stream": "stderr",
       "text": [
        "DEBUG:Cloud.Transport:Dependent module mayavi.modules.volume found (relfile=mayavi/modules/volume.py, path=None, filename=/opt/local/Library/Frameworks/Python.framework/Versions/2.7/lib/python2.7/site-packages/mayavi/modules/volume.py)\n"
       ]
      },
      {
       "output_type": "stream",
       "stream": "stderr",
       "text": [
        "DEBUG:Cloud.Transport:Dependent module vtk.util.vtkConstants found (relfile=vtk/util/vtkConstants.py, path=None, filename=/opt/local/Library/Frameworks/Python.framework/Versions/2.7/lib/python2.7/site-packages/vtk/util/vtkConstants.py)\n"
       ]
      },
      {
       "output_type": "stream",
       "stream": "stderr",
       "text": [
        "DEBUG:Cloud.Transport:Dependent module tvtk.util.gradient_editor found (relfile=tvtk/util/gradient_editor.py, path=None, filename=/opt/local/Library/Frameworks/Python.framework/Versions/2.7/lib/python2.7/site-packages/tvtk/util/gradient_editor.py)\n"
       ]
      },
      {
       "output_type": "stream",
       "stream": "stderr",
       "text": [
        "DEBUG:Cloud.Transport:Dependent module tvtk.util.ctf found (relfile=tvtk/util/ctf.py, path=None, filename=/opt/local/Library/Frameworks/Python.framework/Versions/2.7/lib/python2.7/site-packages/tvtk/util/ctf.py)\n"
       ]
      },
      {
       "output_type": "stream",
       "stream": "stderr",
       "text": [
        "DEBUG:Cloud.Transport:Dependent module mayavi.core.trait_defs found (relfile=mayavi/core/trait_defs.py, path=None, filename=/opt/local/Library/Frameworks/Python.framework/Versions/2.7/lib/python2.7/site-packages/mayavi/core/trait_defs.py)\n"
       ]
      },
      {
       "output_type": "stream",
       "stream": "stderr",
       "text": [
        "DEBUG:Cloud.Transport:Dependent module tvtk.util.wx_gradient_editor found (relfile=tvtk/util/wx_gradient_editor.py, path=None, filename=/opt/local/Library/Frameworks/Python.framework/Versions/2.7/lib/python2.7/site-packages/tvtk/util/wx_gradient_editor.py)\n"
       ]
      },
      {
       "output_type": "stream",
       "stream": "stderr",
       "text": [
        "DEBUG:Cloud.Transport:Dependent module mayavi.modules.warp_vector_cut_plane found (relfile=mayavi/modules/warp_vector_cut_plane.py, path=None, filename=/opt/local/Library/Frameworks/Python.framework/Versions/2.7/lib/python2.7/site-packages/mayavi/modules/warp_vector_cut_plane.py)\n"
       ]
      },
      {
       "output_type": "stream",
       "stream": "stderr",
       "text": [
        "DEBUG:Cloud.Transport:Dependent module mayavi.filters.warp_vector found (relfile=mayavi/filters/warp_vector.py, path=None, filename=/opt/local/Library/Frameworks/Python.framework/Versions/2.7/lib/python2.7/site-packages/mayavi/filters/warp_vector.py)\n"
       ]
      },
      {
       "output_type": "stream",
       "stream": "stderr",
       "text": [
        "DEBUG:Cloud.Transport:Dependent module mayavi.tools.tools found (relfile=mayavi/tools/tools.py, path=None, filename=/opt/local/Library/Frameworks/Python.framework/Versions/2.7/lib/python2.7/site-packages/mayavi/tools/tools.py)\n"
       ]
      },
      {
       "output_type": "stream",
       "stream": "stderr",
       "text": [
        "DEBUG:Cloud.Transport:Dependent module mayavi.sources.vtk_data_source found (relfile=mayavi/sources/vtk_data_source.py, path=None, filename=/opt/local/Library/Frameworks/Python.framework/Versions/2.7/lib/python2.7/site-packages/mayavi/sources/vtk_data_source.py)\n"
       ]
      },
      {
       "output_type": "stream",
       "stream": "stderr",
       "text": [
        "DEBUG:Cloud.Transport:Dependent module mayavi.sources.vtk_xml_file_reader found (relfile=mayavi/sources/vtk_xml_file_reader.py, path=None, filename=/opt/local/Library/Frameworks/Python.framework/Versions/2.7/lib/python2.7/site-packages/mayavi/sources/vtk_xml_file_reader.py)\n"
       ]
      },
      {
       "output_type": "stream",
       "stream": "stderr",
       "text": [
        "DEBUG:Cloud.Transport:Dependent module mayavi.core.file_data_source found (relfile=mayavi/core/file_data_source.py, path=None, filename=/opt/local/Library/Frameworks/Python.framework/Versions/2.7/lib/python2.7/site-packages/mayavi/core/file_data_source.py)\n"
       ]
      },
      {
       "output_type": "stream",
       "stream": "stderr",
       "text": [
        "DEBUG:Cloud.Transport:Dependent module mayavi.tools.pipe_base found (relfile=mayavi/tools/pipe_base.py, path=None, filename=/opt/local/Library/Frameworks/Python.framework/Versions/2.7/lib/python2.7/site-packages/mayavi/tools/pipe_base.py)\n"
       ]
      },
      {
       "output_type": "stream",
       "stream": "stderr",
       "text": [
        "DEBUG:Cloud.Transport:Dependent module mayavi.tools.auto_doc found (relfile=mayavi/tools/auto_doc.py, path=None, filename=/opt/local/Library/Frameworks/Python.framework/Versions/2.7/lib/python2.7/site-packages/mayavi/tools/auto_doc.py)\n"
       ]
      },
      {
       "output_type": "stream",
       "stream": "stderr",
       "text": [
        "DEBUG:Cloud.Transport:Dependent module mayavi.tools.sources found (relfile=mayavi/tools/sources.py, path=None, filename=/opt/local/Library/Frameworks/Python.framework/Versions/2.7/lib/python2.7/site-packages/mayavi/tools/sources.py)\n"
       ]
      },
      {
       "output_type": "stream",
       "stream": "stderr",
       "text": [
        "DEBUG:Cloud.Transport:Dependent module mayavi.sources.array_source found (relfile=mayavi/sources/array_source.py, path=None, filename=/opt/local/Library/Frameworks/Python.framework/Versions/2.7/lib/python2.7/site-packages/mayavi/sources/array_source.py)\n"
       ]
      },
      {
       "output_type": "stream",
       "stream": "stderr",
       "text": [
        "DEBUG:Cloud.Transport:Dependent module tvtk.array_handler found (relfile=tvtk/array_handler.py, path=None, filename=/opt/local/Library/Frameworks/Python.framework/Versions/2.7/lib/python2.7/site-packages/tvtk/array_handler.py)\n"
       ]
      },
      {
       "output_type": "stream",
       "stream": "stderr",
       "text": [
        "DEBUG:Cloud.Transport:Dependent module vtk.util.numpy_support found (relfile=vtk/util/numpy_support.py, path=None, filename=/opt/local/Library/Frameworks/Python.framework/Versions/2.7/lib/python2.7/site-packages/vtk/util/numpy_support.py)\n"
       ]
      },
      {
       "output_type": "stream",
       "stream": "stderr",
       "text": [
        "WARNING:Cloud.Transport:Cloud cannot transmit python extension 'tvtk.array_ext' located at '/opt/local/Library/Frameworks/Python.framework/Versions/2.7/lib/python2.7/site-packages/tvtk/array_ext.so'.  Import errors may result; please see PiCloud documentation.\n"
       ]
      },
      {
       "output_type": "stream",
       "stream": "stderr",
       "text": [
        "DEBUG:Cloud.Transport:Dependent module mayavi.tools.filters found (relfile=mayavi/tools/filters.py, path=None, filename=/opt/local/Library/Frameworks/Python.framework/Versions/2.7/lib/python2.7/site-packages/mayavi/tools/filters.py)\n"
       ]
      },
      {
       "output_type": "stream",
       "stream": "stderr",
       "text": [
        "DEBUG:Cloud.Transport:Dependent module mayavi.filters.api found (relfile=mayavi/filters/api.py, path=None, filename=/opt/local/Library/Frameworks/Python.framework/Versions/2.7/lib/python2.7/site-packages/mayavi/filters/api.py)\n"
       ]
      },
      {
       "output_type": "stream",
       "stream": "stderr",
       "text": [
        "DEBUG:Cloud.Transport:Dependent module mayavi.filters.cell_derivatives found (relfile=mayavi/filters/cell_derivatives.py, path=None, filename=/opt/local/Library/Frameworks/Python.framework/Versions/2.7/lib/python2.7/site-packages/mayavi/filters/cell_derivatives.py)\n"
       ]
      },
      {
       "output_type": "stream",
       "stream": "stderr",
       "text": [
        "DEBUG:Cloud.Transport:Dependent module mayavi.filters.cell_to_point_data found (relfile=mayavi/filters/cell_to_point_data.py, path=None, filename=/opt/local/Library/Frameworks/Python.framework/Versions/2.7/lib/python2.7/site-packages/mayavi/filters/cell_to_point_data.py)\n"
       ]
      },
      {
       "output_type": "stream",
       "stream": "stderr",
       "text": [
        "DEBUG:Cloud.Transport:Dependent module mayavi.filters.collection found (relfile=mayavi/filters/collection.py, path=None, filename=/opt/local/Library/Frameworks/Python.framework/Versions/2.7/lib/python2.7/site-packages/mayavi/filters/collection.py)\n"
       ]
      },
      {
       "output_type": "stream",
       "stream": "stderr",
       "text": [
        "DEBUG:Cloud.Transport:Dependent module mayavi.filters.data_set_clipper found (relfile=mayavi/filters/data_set_clipper.py, path=None, filename=/opt/local/Library/Frameworks/Python.framework/Versions/2.7/lib/python2.7/site-packages/mayavi/filters/data_set_clipper.py)\n"
       ]
      },
      {
       "output_type": "stream",
       "stream": "stderr",
       "text": [
        "DEBUG:Cloud.Transport:Dependent module mayavi.components.implicit_widgets found (relfile=mayavi/components/implicit_widgets.py, path=None, filename=/opt/local/Library/Frameworks/Python.framework/Versions/2.7/lib/python2.7/site-packages/mayavi/components/implicit_widgets.py)\n"
       ]
      },
      {
       "output_type": "stream",
       "stream": "stderr",
       "text": [
        "DEBUG:Cloud.Transport:Dependent module mayavi.filters.contour found (relfile=mayavi/filters/contour.py, path=None, filename=/opt/local/Library/Frameworks/Python.framework/Versions/2.7/lib/python2.7/site-packages/mayavi/filters/contour.py)\n"
       ]
      },
      {
       "output_type": "stream",
       "stream": "stderr",
       "text": [
        "DEBUG:Cloud.Transport:Dependent module mayavi.filters.cut_plane found (relfile=mayavi/filters/cut_plane.py, path=None, filename=/opt/local/Library/Frameworks/Python.framework/Versions/2.7/lib/python2.7/site-packages/mayavi/filters/cut_plane.py)\n"
       ]
      },
      {
       "output_type": "stream",
       "stream": "stderr",
       "text": [
        "DEBUG:Cloud.Transport:Dependent module mayavi.filters.decimatepro found (relfile=mayavi/filters/decimatepro.py, path=None, filename=/opt/local/Library/Frameworks/Python.framework/Versions/2.7/lib/python2.7/site-packages/mayavi/filters/decimatepro.py)\n"
       ]
      },
      {
       "output_type": "stream",
       "stream": "stderr",
       "text": [
        "DEBUG:Cloud.Transport:Dependent module mayavi.filters.delaunay2d found (relfile=mayavi/filters/delaunay2d.py, path=None, filename=/opt/local/Library/Frameworks/Python.framework/Versions/2.7/lib/python2.7/site-packages/mayavi/filters/delaunay2d.py)\n"
       ]
      },
      {
       "output_type": "stream",
       "stream": "stderr",
       "text": [
        "DEBUG:Cloud.Transport:Dependent module mayavi.filters.delaunay3d found (relfile=mayavi/filters/delaunay3d.py, path=None, filename=/opt/local/Library/Frameworks/Python.framework/Versions/2.7/lib/python2.7/site-packages/mayavi/filters/delaunay3d.py)\n"
       ]
      },
      {
       "output_type": "stream",
       "stream": "stderr",
       "text": [
        "DEBUG:Cloud.Transport:Dependent module mayavi.filters.elevation_filter found (relfile=mayavi/filters/elevation_filter.py, path=None, filename=/opt/local/Library/Frameworks/Python.framework/Versions/2.7/lib/python2.7/site-packages/mayavi/filters/elevation_filter.py)\n"
       ]
      },
      {
       "output_type": "stream",
       "stream": "stderr",
       "text": [
        "DEBUG:Cloud.Transport:Dependent module mayavi.filters.extract_edges found (relfile=mayavi/filters/extract_edges.py, path=None, filename=/opt/local/Library/Frameworks/Python.framework/Versions/2.7/lib/python2.7/site-packages/mayavi/filters/extract_edges.py)\n"
       ]
      },
      {
       "output_type": "stream",
       "stream": "stderr",
       "text": [
        "DEBUG:Cloud.Transport:Dependent module mayavi.filters.extract_grid found (relfile=mayavi/filters/extract_grid.py, path=None, filename=/opt/local/Library/Frameworks/Python.framework/Versions/2.7/lib/python2.7/site-packages/mayavi/filters/extract_grid.py)\n"
       ]
      },
      {
       "output_type": "stream",
       "stream": "stderr",
       "text": [
        "DEBUG:Cloud.Transport:Dependent module mayavi.filters.extract_tensor_components found (relfile=mayavi/filters/extract_tensor_components.py, path=None, filename=/opt/local/Library/Frameworks/Python.framework/Versions/2.7/lib/python2.7/site-packages/mayavi/filters/extract_tensor_components.py)\n"
       ]
      },
      {
       "output_type": "stream",
       "stream": "stderr",
       "text": [
        "DEBUG:Cloud.Transport:Dependent module mayavi.filters.extract_unstructured_grid found (relfile=mayavi/filters/extract_unstructured_grid.py, path=None, filename=/opt/local/Library/Frameworks/Python.framework/Versions/2.7/lib/python2.7/site-packages/mayavi/filters/extract_unstructured_grid.py)\n"
       ]
      },
      {
       "output_type": "stream",
       "stream": "stderr",
       "text": [
        "DEBUG:Cloud.Transport:Dependent module mayavi.filters.extract_vector_components found (relfile=mayavi/filters/extract_vector_components.py, path=None, filename=/opt/local/Library/Frameworks/Python.framework/Versions/2.7/lib/python2.7/site-packages/mayavi/filters/extract_vector_components.py)\n"
       ]
      },
      {
       "output_type": "stream",
       "stream": "stderr",
       "text": [
        "DEBUG:Cloud.Transport:Dependent module mayavi.filters.extract_vector_norm found (relfile=mayavi/filters/extract_vector_norm.py, path=None, filename=/opt/local/Library/Frameworks/Python.framework/Versions/2.7/lib/python2.7/site-packages/mayavi/filters/extract_vector_norm.py)\n"
       ]
      },
      {
       "output_type": "stream",
       "stream": "stderr",
       "text": [
        "DEBUG:Cloud.Transport:Dependent module mayavi.filters.gaussian_splatter found (relfile=mayavi/filters/gaussian_splatter.py, path=None, filename=/opt/local/Library/Frameworks/Python.framework/Versions/2.7/lib/python2.7/site-packages/mayavi/filters/gaussian_splatter.py)\n"
       ]
      },
      {
       "output_type": "stream",
       "stream": "stderr",
       "text": [
        "DEBUG:Cloud.Transport:Dependent module mayavi.filters.greedy_terrain_decimation found (relfile=mayavi/filters/greedy_terrain_decimation.py, path=None, filename=/opt/local/Library/Frameworks/Python.framework/Versions/2.7/lib/python2.7/site-packages/mayavi/filters/greedy_terrain_decimation.py)\n"
       ]
      },
      {
       "output_type": "stream",
       "stream": "stderr",
       "text": [
        "DEBUG:Cloud.Transport:Dependent module mayavi.filters.image_change_information found (relfile=mayavi/filters/image_change_information.py, path=None, filename=/opt/local/Library/Frameworks/Python.framework/Versions/2.7/lib/python2.7/site-packages/mayavi/filters/image_change_information.py)\n"
       ]
      },
      {
       "output_type": "stream",
       "stream": "stderr",
       "text": [
        "DEBUG:Cloud.Transport:Dependent module mayavi.filters.image_data_probe found (relfile=mayavi/filters/image_data_probe.py, path=None, filename=/opt/local/Library/Frameworks/Python.framework/Versions/2.7/lib/python2.7/site-packages/mayavi/filters/image_data_probe.py)\n"
       ]
      },
      {
       "output_type": "stream",
       "stream": "stderr",
       "text": [
        "DEBUG:Cloud.Transport:Dependent module mayavi.filters.point_to_cell_data found (relfile=mayavi/filters/point_to_cell_data.py, path=None, filename=/opt/local/Library/Frameworks/Python.framework/Versions/2.7/lib/python2.7/site-packages/mayavi/filters/point_to_cell_data.py)\n"
       ]
      },
      {
       "output_type": "stream",
       "stream": "stderr",
       "text": [
        "DEBUG:Cloud.Transport:Dependent module mayavi.filters.quadric_decimation found (relfile=mayavi/filters/quadric_decimation.py, path=None, filename=/opt/local/Library/Frameworks/Python.framework/Versions/2.7/lib/python2.7/site-packages/mayavi/filters/quadric_decimation.py)\n"
       ]
      },
      {
       "output_type": "stream",
       "stream": "stderr",
       "text": [
        "DEBUG:Cloud.Transport:Dependent module mayavi.filters.select_output found (relfile=mayavi/filters/select_output.py, path=None, filename=/opt/local/Library/Frameworks/Python.framework/Versions/2.7/lib/python2.7/site-packages/mayavi/filters/select_output.py)\n"
       ]
      },
      {
       "output_type": "stream",
       "stream": "stderr",
       "text": [
        "DEBUG:Cloud.Transport:Dependent module mayavi.filters.set_active_attribute found (relfile=mayavi/filters/set_active_attribute.py, path=None, filename=/opt/local/Library/Frameworks/Python.framework/Versions/2.7/lib/python2.7/site-packages/mayavi/filters/set_active_attribute.py)\n"
       ]
      },
      {
       "output_type": "stream",
       "stream": "stderr",
       "text": [
        "DEBUG:Cloud.Transport:Dependent module mayavi.filters.stripper found (relfile=mayavi/filters/stripper.py, path=None, filename=/opt/local/Library/Frameworks/Python.framework/Versions/2.7/lib/python2.7/site-packages/mayavi/filters/stripper.py)\n"
       ]
      },
      {
       "output_type": "stream",
       "stream": "stderr",
       "text": [
        "DEBUG:Cloud.Transport:Dependent module mayavi.filters.threshold found (relfile=mayavi/filters/threshold.py, path=None, filename=/opt/local/Library/Frameworks/Python.framework/Versions/2.7/lib/python2.7/site-packages/mayavi/filters/threshold.py)\n"
       ]
      },
      {
       "output_type": "stream",
       "stream": "stderr",
       "text": [
        "DEBUG:Cloud.Transport:Dependent module mayavi.filters.transform_data found (relfile=mayavi/filters/transform_data.py, path=None, filename=/opt/local/Library/Frameworks/Python.framework/Versions/2.7/lib/python2.7/site-packages/mayavi/filters/transform_data.py)\n"
       ]
      },
      {
       "output_type": "stream",
       "stream": "stderr",
       "text": [
        "DEBUG:Cloud.Transport:Dependent module mayavi.filters.triangle_filter found (relfile=mayavi/filters/triangle_filter.py, path=None, filename=/opt/local/Library/Frameworks/Python.framework/Versions/2.7/lib/python2.7/site-packages/mayavi/filters/triangle_filter.py)\n"
       ]
      },
      {
       "output_type": "stream",
       "stream": "stderr",
       "text": [
        "DEBUG:Cloud.Transport:Dependent module mayavi.filters.tube found (relfile=mayavi/filters/tube.py, path=None, filename=/opt/local/Library/Frameworks/Python.framework/Versions/2.7/lib/python2.7/site-packages/mayavi/filters/tube.py)\n"
       ]
      },
      {
       "output_type": "stream",
       "stream": "stderr",
       "text": [
        "DEBUG:Cloud.Transport:Dependent module mayavi.filters.vorticity found (relfile=mayavi/filters/vorticity.py, path=None, filename=/opt/local/Library/Frameworks/Python.framework/Versions/2.7/lib/python2.7/site-packages/mayavi/filters/vorticity.py)\n"
       ]
      },
      {
       "output_type": "stream",
       "stream": "stderr",
       "text": [
        "DEBUG:Cloud.Transport:Dependent module mayavi.tools.decorations found (relfile=mayavi/tools/decorations.py, path=None, filename=/opt/local/Library/Frameworks/Python.framework/Versions/2.7/lib/python2.7/site-packages/mayavi/tools/decorations.py)\n"
       ]
      },
      {
       "output_type": "stream",
       "stream": "stderr",
       "text": [
        "DEBUG:Cloud.Transport:Dependent module mayavi.tools.pipeline found (relfile=mayavi/tools/pipeline.py, path=None, filename=/opt/local/Library/Frameworks/Python.framework/Versions/2.7/lib/python2.7/site-packages/mayavi/tools/pipeline.py)\n"
       ]
      },
      {
       "output_type": "stream",
       "stream": "stderr",
       "text": [
        "DEBUG:Cloud.Transport:Dependent module mayavi.tools.probe_data found (relfile=mayavi/tools/probe_data.py, path=None, filename=/opt/local/Library/Frameworks/Python.framework/Versions/2.7/lib/python2.7/site-packages/mayavi/tools/probe_data.py)\n"
       ]
      },
      {
       "output_type": "stream",
       "stream": "stderr",
       "text": [
        "DEBUG:Cloud.Transport:Dependent module qutip.tomography found (relfile=qutip/tomography.py, path=None, filename=/opt/local/Library/Frameworks/Python.framework/Versions/2.7/lib/python2.7/site-packages/qutip/tomography.py)\n"
       ]
      },
      {
       "output_type": "stream",
       "stream": "stderr",
       "text": [
        "DEBUG:Cloud.Transport:Dependent module qutip.random_objects found (relfile=qutip/random_objects.py, path=None, filename=/opt/local/Library/Frameworks/Python.framework/Versions/2.7/lib/python2.7/site-packages/qutip/random_objects.py)\n"
       ]
      },
      {
       "output_type": "stream",
       "stream": "stderr",
       "text": [
        "DEBUG:Cloud.Transport:Dependent module qutip.simdiag found (relfile=qutip/simdiag.py, path=None, filename=/opt/local/Library/Frameworks/Python.framework/Versions/2.7/lib/python2.7/site-packages/qutip/simdiag.py)\n"
       ]
      },
      {
       "output_type": "stream",
       "stream": "stderr",
       "text": [
        "DEBUG:Cloud.Transport:Dependent module qutip.entropy found (relfile=qutip/entropy.py, path=None, filename=/opt/local/Library/Frameworks/Python.framework/Versions/2.7/lib/python2.7/site-packages/qutip/entropy.py)\n"
       ]
      },
      {
       "output_type": "stream",
       "stream": "stderr",
       "text": [
        "DEBUG:Cloud.Transport:Dependent module qutip.metrics found (relfile=qutip/metrics.py, path=None, filename=/opt/local/Library/Frameworks/Python.framework/Versions/2.7/lib/python2.7/site-packages/qutip/metrics.py)\n"
       ]
      },
      {
       "output_type": "stream",
       "stream": "stderr",
       "text": [
        "DEBUG:Cloud.Transport:Dependent module qutip.partial_transpose found (relfile=qutip/partial_transpose.py, path=None, filename=/opt/local/Library/Frameworks/Python.framework/Versions/2.7/lib/python2.7/site-packages/qutip/partial_transpose.py)\n"
       ]
      },
      {
       "output_type": "stream",
       "stream": "stderr",
       "text": [
        "DEBUG:Cloud.Transport:Dependent module qutip.continuous_variables found (relfile=qutip/continuous_variables.py, path=None, filename=/opt/local/Library/Frameworks/Python.framework/Versions/2.7/lib/python2.7/site-packages/qutip/continuous_variables.py)\n"
       ]
      },
      {
       "output_type": "stream",
       "stream": "stderr",
       "text": [
        "DEBUG:Cloud.Transport:Dependent module qutip.distributions found (relfile=qutip/distributions.py, path=None, filename=/opt/local/Library/Frameworks/Python.framework/Versions/2.7/lib/python2.7/site-packages/qutip/distributions.py)\n"
       ]
      },
      {
       "output_type": "stream",
       "stream": "stderr",
       "text": [
        "DEBUG:Cloud.Transport:Dependent module qutip.rhs_generate found (relfile=qutip/rhs_generate.py, path=None, filename=/opt/local/Library/Frameworks/Python.framework/Versions/2.7/lib/python2.7/site-packages/qutip/rhs_generate.py)\n"
       ]
      },
      {
       "output_type": "stream",
       "stream": "stderr",
       "text": [
        "DEBUG:Cloud.Transport:Dependent module qutip.mesolve found (relfile=qutip/mesolve.py, path=None, filename=/opt/local/Library/Frameworks/Python.framework/Versions/2.7/lib/python2.7/site-packages/qutip/mesolve.py)\n"
       ]
      },
      {
       "output_type": "stream",
       "stream": "stderr",
       "text": [
        "DEBUG:Cloud.Transport:Dependent module qutip.sesolve found (relfile=qutip/sesolve.py, path=None, filename=/opt/local/Library/Frameworks/Python.framework/Versions/2.7/lib/python2.7/site-packages/qutip/sesolve.py)\n"
       ]
      },
      {
       "output_type": "stream",
       "stream": "stderr",
       "text": [
        "DEBUG:Cloud.Transport:Dependent module qutip.stochastic found (relfile=qutip/stochastic.py, path=None, filename=/opt/local/Library/Frameworks/Python.framework/Versions/2.7/lib/python2.7/site-packages/qutip/stochastic.py)\n"
       ]
      },
      {
       "output_type": "stream",
       "stream": "stderr",
       "text": [
        "DEBUG:Cloud.Transport:Dependent module qutip.essolve found (relfile=qutip/essolve.py, path=None, filename=/opt/local/Library/Frameworks/Python.framework/Versions/2.7/lib/python2.7/site-packages/qutip/essolve.py)\n"
       ]
      },
      {
       "output_type": "stream",
       "stream": "stderr",
       "text": [
        "DEBUG:Cloud.Transport:Dependent module qutip.steadystate found (relfile=qutip/steadystate.py, path=None, filename=/opt/local/Library/Frameworks/Python.framework/Versions/2.7/lib/python2.7/site-packages/qutip/steadystate.py)\n"
       ]
      },
      {
       "output_type": "stream",
       "stream": "stderr",
       "text": [
        "DEBUG:Cloud.Transport:Dependent module qutip.correlation found (relfile=qutip/correlation.py, path=None, filename=/opt/local/Library/Frameworks/Python.framework/Versions/2.7/lib/python2.7/site-packages/qutip/correlation.py)\n"
       ]
      },
      {
       "output_type": "stream",
       "stream": "stderr",
       "text": [
        "DEBUG:Cloud.Transport:Dependent module qutip.propagator found (relfile=qutip/propagator.py, path=None, filename=/opt/local/Library/Frameworks/Python.framework/Versions/2.7/lib/python2.7/site-packages/qutip/propagator.py)\n"
       ]
      },
      {
       "output_type": "stream",
       "stream": "stderr",
       "text": [
        "DEBUG:Cloud.Transport:Dependent module qutip.floquet found (relfile=qutip/floquet.py, path=None, filename=/opt/local/Library/Frameworks/Python.framework/Versions/2.7/lib/python2.7/site-packages/qutip/floquet.py)\n"
       ]
      },
      {
       "output_type": "stream",
       "stream": "stderr",
       "text": [
        "DEBUG:Cloud.Transport:Dependent module qutip.utilities found (relfile=qutip/utilities.py, path=None, filename=/opt/local/Library/Frameworks/Python.framework/Versions/2.7/lib/python2.7/site-packages/qutip/utilities.py)\n"
       ]
      },
      {
       "output_type": "stream",
       "stream": "stderr",
       "text": [
        "DEBUG:Cloud.Transport:Dependent module qutip.bloch_redfield found (relfile=qutip/bloch_redfield.py, path=None, filename=/opt/local/Library/Frameworks/Python.framework/Versions/2.7/lib/python2.7/site-packages/qutip/bloch_redfield.py)\n"
       ]
      },
      {
       "output_type": "stream",
       "stream": "stderr",
       "text": [
        "DEBUG:Cloud.Transport:Dependent module qutip.superop_reps found (relfile=qutip/superop_reps.py, path=None, filename=/opt/local/Library/Frameworks/Python.framework/Versions/2.7/lib/python2.7/site-packages/qutip/superop_reps.py)\n"
       ]
      },
      {
       "output_type": "stream",
       "stream": "stderr",
       "text": [
        "DEBUG:Cloud.Transport:Dependent module qutip.subsystem_apply found (relfile=qutip/subsystem_apply.py, path=None, filename=/opt/local/Library/Frameworks/Python.framework/Versions/2.7/lib/python2.7/site-packages/qutip/subsystem_apply.py)\n"
       ]
      },
      {
       "output_type": "stream",
       "stream": "stderr",
       "text": [
        "DEBUG:Cloud.Transport:Dependent module qutip.fileio found (relfile=qutip/fileio.py, path=None, filename=/opt/local/Library/Frameworks/Python.framework/Versions/2.7/lib/python2.7/site-packages/qutip/fileio.py)\n"
       ]
      },
      {
       "output_type": "stream",
       "stream": "stderr",
       "text": [
        "DEBUG:Cloud.Transport:Dependent module qutip.demos found (relfile=qutip/demos.py, path=None, filename=/opt/local/Library/Frameworks/Python.framework/Versions/2.7/lib/python2.7/site-packages/qutip/demos.py)\n"
       ]
      },
      {
       "output_type": "stream",
       "stream": "stderr",
       "text": [
        "DEBUG:Cloud.Transport:Dependent module qutip.gui.Examples found (relfile=qutip/gui/Examples.py, path=None, filename=/opt/local/Library/Frameworks/Python.framework/Versions/2.7/lib/python2.7/site-packages/qutip/gui/Examples.py)\n"
       ]
      },
      {
       "output_type": "stream",
       "stream": "stderr",
       "text": [
        "DEBUG:Cloud.Transport:Dependent module qutip.examples found (relfile=qutip/examples/__init__.py, path=['/opt/local/Library/Frameworks/Python.framework/Versions/2.7/lib/python2.7/site-packages/qutip/examples'], filename=/opt/local/Library/Frameworks/Python.framework/Versions/2.7/lib/python2.7/site-packages/qutip/examples/__init__.py)\n"
       ]
      },
      {
       "output_type": "stream",
       "stream": "stderr",
       "text": [
        "DEBUG:Cloud.Transport:Dependent module qutip.examples.ex_10 found (relfile=qutip/examples/ex_10.py, path=None, filename=/opt/local/Library/Frameworks/Python.framework/Versions/2.7/lib/python2.7/site-packages/qutip/examples/ex_10.py)\n"
       ]
      },
      {
       "output_type": "stream",
       "stream": "stderr",
       "text": [
        "DEBUG:Cloud.Transport:Dependent module qutip.examples.ex_11 found (relfile=qutip/examples/ex_11.py, path=None, filename=/opt/local/Library/Frameworks/Python.framework/Versions/2.7/lib/python2.7/site-packages/qutip/examples/ex_11.py)\n"
       ]
      },
      {
       "output_type": "stream",
       "stream": "stderr",
       "text": [
        "DEBUG:Cloud.Transport:Dependent module qutip.examples.ex_12 found (relfile=qutip/examples/ex_12.py, path=None, filename=/opt/local/Library/Frameworks/Python.framework/Versions/2.7/lib/python2.7/site-packages/qutip/examples/ex_12.py)\n"
       ]
      },
      {
       "output_type": "stream",
       "stream": "stderr",
       "text": [
        "DEBUG:Cloud.Transport:Dependent module qutip.examples.ex_13 found (relfile=qutip/examples/ex_13.py, path=None, filename=/opt/local/Library/Frameworks/Python.framework/Versions/2.7/lib/python2.7/site-packages/qutip/examples/ex_13.py)\n"
       ]
      },
      {
       "output_type": "stream",
       "stream": "stderr",
       "text": [
        "DEBUG:Cloud.Transport:Dependent module qutip.examples.ex_14 found (relfile=qutip/examples/ex_14.py, path=None, filename=/opt/local/Library/Frameworks/Python.framework/Versions/2.7/lib/python2.7/site-packages/qutip/examples/ex_14.py)\n"
       ]
      },
      {
       "output_type": "stream",
       "stream": "stderr",
       "text": [
        "DEBUG:Cloud.Transport:Dependent module qutip.examples.ex_15 found (relfile=qutip/examples/ex_15.py, path=None, filename=/opt/local/Library/Frameworks/Python.framework/Versions/2.7/lib/python2.7/site-packages/qutip/examples/ex_15.py)\n"
       ]
      },
      {
       "output_type": "stream",
       "stream": "stderr",
       "text": [
        "DEBUG:Cloud.Transport:Dependent module qutip.examples.ex_16 found (relfile=qutip/examples/ex_16.py, path=None, filename=/opt/local/Library/Frameworks/Python.framework/Versions/2.7/lib/python2.7/site-packages/qutip/examples/ex_16.py)\n"
       ]
      },
      {
       "output_type": "stream",
       "stream": "stderr",
       "text": [
        "DEBUG:Cloud.Transport:Dependent module qutip.examples.ex_17 found (relfile=qutip/examples/ex_17.py, path=None, filename=/opt/local/Library/Frameworks/Python.framework/Versions/2.7/lib/python2.7/site-packages/qutip/examples/ex_17.py)\n"
       ]
      },
      {
       "output_type": "stream",
       "stream": "stderr",
       "text": [
        "DEBUG:Cloud.Transport:Dependent module qutip.examples.ex_18 found (relfile=qutip/examples/ex_18.py, path=None, filename=/opt/local/Library/Frameworks/Python.framework/Versions/2.7/lib/python2.7/site-packages/qutip/examples/ex_18.py)\n"
       ]
      },
      {
       "output_type": "stream",
       "stream": "stderr",
       "text": [
        "DEBUG:Cloud.Transport:Dependent module qutip.examples.ex_19 found (relfile=qutip/examples/ex_19.py, path=None, filename=/opt/local/Library/Frameworks/Python.framework/Versions/2.7/lib/python2.7/site-packages/qutip/examples/ex_19.py)\n"
       ]
      },
      {
       "output_type": "stream",
       "stream": "stderr",
       "text": [
        "DEBUG:Cloud.Transport:Dependent module qutip.examples.ex_20 found (relfile=qutip/examples/ex_20.py, path=None, filename=/opt/local/Library/Frameworks/Python.framework/Versions/2.7/lib/python2.7/site-packages/qutip/examples/ex_20.py)\n"
       ]
      },
      {
       "output_type": "stream",
       "stream": "stderr",
       "text": [
        "DEBUG:Cloud.Transport:Dependent module qutip.examples.ex_21 found (relfile=qutip/examples/ex_21.py, path=None, filename=/opt/local/Library/Frameworks/Python.framework/Versions/2.7/lib/python2.7/site-packages/qutip/examples/ex_21.py)\n"
       ]
      },
      {
       "output_type": "stream",
       "stream": "stderr",
       "text": [
        "DEBUG:Cloud.Transport:Dependent module qutip.examples.ex_22 found (relfile=qutip/examples/ex_22.py, path=None, filename=/opt/local/Library/Frameworks/Python.framework/Versions/2.7/lib/python2.7/site-packages/qutip/examples/ex_22.py)\n"
       ]
      },
      {
       "output_type": "stream",
       "stream": "stderr",
       "text": [
        "DEBUG:Cloud.Transport:Dependent module qutip.examples.ex_23 found (relfile=qutip/examples/ex_23.py, path=None, filename=/opt/local/Library/Frameworks/Python.framework/Versions/2.7/lib/python2.7/site-packages/qutip/examples/ex_23.py)\n"
       ]
      },
      {
       "output_type": "stream",
       "stream": "stderr",
       "text": [
        "DEBUG:Cloud.Transport:Dependent module qutip.examples.ex_24 found (relfile=qutip/examples/ex_24.py, path=None, filename=/opt/local/Library/Frameworks/Python.framework/Versions/2.7/lib/python2.7/site-packages/qutip/examples/ex_24.py)\n"
       ]
      },
      {
       "output_type": "stream",
       "stream": "stderr",
       "text": [
        "DEBUG:Cloud.Transport:Dependent module qutip.examples.ex_25 found (relfile=qutip/examples/ex_25.py, path=None, filename=/opt/local/Library/Frameworks/Python.framework/Versions/2.7/lib/python2.7/site-packages/qutip/examples/ex_25.py)\n"
       ]
      },
      {
       "output_type": "stream",
       "stream": "stderr",
       "text": [
        "DEBUG:Cloud.Transport:Dependent module qutip.examples.ex_26 found (relfile=qutip/examples/ex_26.py, path=None, filename=/opt/local/Library/Frameworks/Python.framework/Versions/2.7/lib/python2.7/site-packages/qutip/examples/ex_26.py)\n"
       ]
      },
      {
       "output_type": "stream",
       "stream": "stderr",
       "text": [
        "DEBUG:Cloud.Transport:Dependent module qutip.examples.ex_27 found (relfile=qutip/examples/ex_27.py, path=None, filename=/opt/local/Library/Frameworks/Python.framework/Versions/2.7/lib/python2.7/site-packages/qutip/examples/ex_27.py)\n"
       ]
      },
      {
       "output_type": "stream",
       "stream": "stderr",
       "text": [
        "DEBUG:Cloud.Transport:Dependent module qutip.examples.ex_30 found (relfile=qutip/examples/ex_30.py, path=None, filename=/opt/local/Library/Frameworks/Python.framework/Versions/2.7/lib/python2.7/site-packages/qutip/examples/ex_30.py)\n"
       ]
      },
      {
       "output_type": "stream",
       "stream": "stderr",
       "text": [
        "DEBUG:Cloud.Transport:Dependent module qutip.examples.ex_31 found (relfile=qutip/examples/ex_31.py, path=None, filename=/opt/local/Library/Frameworks/Python.framework/Versions/2.7/lib/python2.7/site-packages/qutip/examples/ex_31.py)\n"
       ]
      },
      {
       "output_type": "stream",
       "stream": "stderr",
       "text": [
        "DEBUG:Cloud.Transport:Dependent module qutip.examples.ex_32 found (relfile=qutip/examples/ex_32.py, path=None, filename=/opt/local/Library/Frameworks/Python.framework/Versions/2.7/lib/python2.7/site-packages/qutip/examples/ex_32.py)\n"
       ]
      },
      {
       "output_type": "stream",
       "stream": "stderr",
       "text": [
        "DEBUG:Cloud.Transport:Dependent module qutip.examples.ex_33 found (relfile=qutip/examples/ex_33.py, path=None, filename=/opt/local/Library/Frameworks/Python.framework/Versions/2.7/lib/python2.7/site-packages/qutip/examples/ex_33.py)\n"
       ]
      },
      {
       "output_type": "stream",
       "stream": "stderr",
       "text": [
        "DEBUG:Cloud.Transport:Dependent module qutip.examples.ex_34 found (relfile=qutip/examples/ex_34.py, path=None, filename=/opt/local/Library/Frameworks/Python.framework/Versions/2.7/lib/python2.7/site-packages/qutip/examples/ex_34.py)\n"
       ]
      },
      {
       "output_type": "stream",
       "stream": "stderr",
       "text": [
        "DEBUG:Cloud.Transport:Dependent module qutip.examples.ex_35 found (relfile=qutip/examples/ex_35.py, path=None, filename=/opt/local/Library/Frameworks/Python.framework/Versions/2.7/lib/python2.7/site-packages/qutip/examples/ex_35.py)\n"
       ]
      },
      {
       "output_type": "stream",
       "stream": "stderr",
       "text": [
        "DEBUG:Cloud.Transport:Dependent module qutip.examples.ex_40 found (relfile=qutip/examples/ex_40.py, path=None, filename=/opt/local/Library/Frameworks/Python.framework/Versions/2.7/lib/python2.7/site-packages/qutip/examples/ex_40.py)\n"
       ]
      },
      {
       "output_type": "stream",
       "stream": "stderr",
       "text": [
        "DEBUG:Cloud.Transport:Dependent module qutip.examples.ex_41 found (relfile=qutip/examples/ex_41.py, path=None, filename=/opt/local/Library/Frameworks/Python.framework/Versions/2.7/lib/python2.7/site-packages/qutip/examples/ex_41.py)\n"
       ]
      },
      {
       "output_type": "stream",
       "stream": "stderr",
       "text": [
        "DEBUG:Cloud.Transport:Dependent module qutip.examples.ex_42 found (relfile=qutip/examples/ex_42.py, path=None, filename=/opt/local/Library/Frameworks/Python.framework/Versions/2.7/lib/python2.7/site-packages/qutip/examples/ex_42.py)\n"
       ]
      },
      {
       "output_type": "stream",
       "stream": "stderr",
       "text": [
        "DEBUG:Cloud.Transport:Dependent module qutip.examples.ex_43 found (relfile=qutip/examples/ex_43.py, path=None, filename=/opt/local/Library/Frameworks/Python.framework/Versions/2.7/lib/python2.7/site-packages/qutip/examples/ex_43.py)\n"
       ]
      },
      {
       "output_type": "stream",
       "stream": "stderr",
       "text": [
        "DEBUG:Cloud.Transport:Dependent module qutip.examples.ex_44 found (relfile=qutip/examples/ex_44.py, path=None, filename=/opt/local/Library/Frameworks/Python.framework/Versions/2.7/lib/python2.7/site-packages/qutip/examples/ex_44.py)\n"
       ]
      },
      {
       "output_type": "stream",
       "stream": "stderr",
       "text": [
        "DEBUG:Cloud.Transport:Dependent module qutip.examples.ex_45 found (relfile=qutip/examples/ex_45.py, path=None, filename=/opt/local/Library/Frameworks/Python.framework/Versions/2.7/lib/python2.7/site-packages/qutip/examples/ex_45.py)\n"
       ]
      },
      {
       "output_type": "stream",
       "stream": "stderr",
       "text": [
        "DEBUG:Cloud.Transport:Dependent module qutip.examples.ex_50 found (relfile=qutip/examples/ex_50.py, path=None, filename=/opt/local/Library/Frameworks/Python.framework/Versions/2.7/lib/python2.7/site-packages/qutip/examples/ex_50.py)\n"
       ]
      },
      {
       "output_type": "stream",
       "stream": "stderr",
       "text": [
        "DEBUG:Cloud.Transport:Dependent module qutip.examples.ex_51 found (relfile=qutip/examples/ex_51.py, path=None, filename=/opt/local/Library/Frameworks/Python.framework/Versions/2.7/lib/python2.7/site-packages/qutip/examples/ex_51.py)\n"
       ]
      },
      {
       "output_type": "stream",
       "stream": "stderr",
       "text": [
        "DEBUG:Cloud.Transport:Dependent module qutip.examples.ex_52 found (relfile=qutip/examples/ex_52.py, path=None, filename=/opt/local/Library/Frameworks/Python.framework/Versions/2.7/lib/python2.7/site-packages/qutip/examples/ex_52.py)\n"
       ]
      },
      {
       "output_type": "stream",
       "stream": "stderr",
       "text": [
        "DEBUG:Cloud.Transport:Dependent module qutip.examples.ex_53 found (relfile=qutip/examples/ex_53.py, path=None, filename=/opt/local/Library/Frameworks/Python.framework/Versions/2.7/lib/python2.7/site-packages/qutip/examples/ex_53.py)\n"
       ]
      },
      {
       "output_type": "stream",
       "stream": "stderr",
       "text": [
        "DEBUG:Cloud.Transport:Dependent module qutip.gui.syntax found (relfile=qutip/gui/syntax.py, path=None, filename=/opt/local/Library/Frameworks/Python.framework/Versions/2.7/lib/python2.7/site-packages/qutip/gui/syntax.py)\n"
       ]
      },
      {
       "output_type": "stream",
       "stream": "stderr",
       "text": [
        "DEBUG:Cloud.Transport:Dependent module qutip.examples.examples_text found (relfile=qutip/examples/examples_text.py, path=None, filename=/opt/local/Library/Frameworks/Python.framework/Versions/2.7/lib/python2.7/site-packages/qutip/examples/examples_text.py)\n"
       ]
      },
      {
       "output_type": "stream",
       "stream": "stderr",
       "text": [
        "DEBUG:Cloud.Transport:Dependent module qutip.examples.exconfig found (relfile=qutip/examples/exconfig.py, path=None, filename=/opt/local/Library/Frameworks/Python.framework/Versions/2.7/lib/python2.7/site-packages/qutip/examples/exconfig.py)\n"
       ]
      },
      {
       "output_type": "stream",
       "stream": "stderr",
       "text": [
        "DEBUG:Cloud.Transport:Dependent module qutip.about found (relfile=qutip/about.py, path=None, filename=/opt/local/Library/Frameworks/Python.framework/Versions/2.7/lib/python2.7/site-packages/qutip/about.py)\n"
       ]
      },
      {
       "output_type": "stream",
       "stream": "stderr",
       "text": [
        "DEBUG:Cloud.Transport:Dependent module qutip.gui.about found (relfile=qutip/gui/about.py, path=None, filename=/opt/local/Library/Frameworks/Python.framework/Versions/2.7/lib/python2.7/site-packages/qutip/gui/about.py)\n"
       ]
      },
      {
       "output_type": "stream",
       "stream": "stderr",
       "text": [
        "DEBUG:Cloud.Transport:Dependent module qutip.picloud found (relfile=qutip/picloud.py, path=None, filename=/opt/local/Library/Frameworks/Python.framework/Versions/2.7/lib/python2.7/site-packages/qutip/picloud.py)\n"
       ]
      },
      {
       "output_type": "stream",
       "stream": "stderr",
       "text": [
        "DEBUG:Cloud:New Dependencies [('mayavi/filters/filter_base.py', 1324509506L, False), ('mayavi/filters/extract_vector_components.py', 1324509506L, False), ('envisage/plugin_event.py', 1324509196L, False), ('Foundation/__init__.py', 1357848097L, False), ('envisage/plugins/python_shell/i_python_shell.py', 1324509196L, False), ('apptools/naming/__init__.py', 1324509189L, False), ('envisage/service_offer.py', 1324509196L, False), ('tvtk/pyface/__init__.py', 1324509506L, False), ('mayavi/tools/auto_doc.py', 1324509506L, False), ('mayavi/filters/extract_tensor_components.py', 1324509506L, False), ('apptools/naming/ui/object_node_type.py', 1324509189L, False), ('apptools/sweet_pickle/versioned_unpickler.py', 1324509189L, False), ('objc/_convenience.py', 1357848096L, False), ('apptools/logger/util.py', 1324509189L, False), ('apptools/preferences/api.py', 1324509189L, False), ('vtk/util/vtkVariant.py', 1350333201L, False), ('objc/_dyld.py', 1357848096L, False), ('apptools/naming/state_factory.py', 1324509189L, False), ('mayavi/core/common.py', 1324509506L, False), ('PyQt4/__init__.py', 1377929137L, False), ('qutip/examples/ex_10.py', 1365467795L, False), ('mayavi/core/trait_defs.py', 1324509506L, False), ('objc/_bridgesupport.py', 1357848096L, False), ('mayavi/action/__init__.py', 1324509506L, False), ('qutip/demos.py', 1376487251L, False), ('mayavi/preferences/preference_manager_view.py', 1324509506L, False), ('apptools/logger/api.py', 1324509189L, False), ('apptools/preferences/ui/preferences_manager.py', 1324509189L, False), ('apptools/logger/plugin/view/__init__.py', 1324509189L, False), ('qutip/examples/ex_34.py', 1365467795L, False), ('apptools/naming/reference.py', 1324509189L, False), ('mayavi/modules/iso_surface.py', 1324509506L, False), ('apptools/type_manager/adapter.py', 1324509189L, False), ('mayavi/sources/array_source.py', 1324509506L, False), ('envisage/i_service_registry.py', 1324509196L, False), ('qutip/gui/gui_progressbar.py', 1365468426L, False), ('mayavi/core/__init__.py', 1324509506L, False), ('envisage/provider_extension_registry.py', 1324509196L, False), ('mayavi/core/lut_manager.py', 1324509506L, False), ('apptools/persistence/file_path.py', 1324509189L, False), ('apptools/type_manager/abstract_factory.py', 1324509189L, False), ('mayavi/modules/image_actor.py', 1324509506L, False), ('mayavi/tools/tools.py', 1324509506L, False), ('qutip/stochastic.py', 1380256218L, False), ('mayavi/plugins/mayavi_workbench_application.py', 1324509506L, False), ('mayavi/sources/vtk_data_source.py', 1324509506L, False), ('qutip/examples/ex_26.py', 1365467795L, False), ('envisage/plugins/ipython_shell/i_namespace_view.py', 1324509196L, False), ('envisage/ui/action/api.py', 1324509196L, False), ('qutip/examples/ex_25.py', 1365467795L, False), ('qutip/examples/ex_22.py', 1365467795L, False), ('qutip/examples/ex_23.py', 1365467795L, False), ('qutip/examples/ex_20.py', 1365467795L, False), ('qutip/examples/ex_21.py', 1365467795L, False), ('mayavi/modules/text.py', 1377929340L, False), ('apptools/naming/pyfs_state_factory.py', 1324509189L, False), ('envisage/application.py', 1324509196L, False), ('envisage/ui/workbench/__init__.py', 1324509196L, False), ('apptools/preferences/i_preferences.py', 1324509189L, False), ('tvtk/util/gradient_editor.py', 1324509506L, False), ('envisage/i_application.py', 1324509196L, False), ('envisage/resource/i_resource_manager.py', 1324509196L, False), ('qutip/simdiag.py', 1369892354L, False), ('qutip/_reset.py', 1365468426L, False), ('mayavi/filters/greedy_terrain_decimation.py', 1324509506L, False), ('qutip/sparse.py', 1376293205L, False), ('vtk/util/numpy_support.py', 1350333201L, False), ('envisage/class_load_hook.py', 1324509196L, False), ('apptools/naming/ui/context_node_type.py', 1324509189L, False), ('envisage/extension_point_changed_event.py', 1324509196L, False), ('qutip/gui/__init__.py', 1370054421L, False), ('mayavi/components/grid_plane.py', 1324509506L, False), ('nose/plugins/__init__.py', 1327673796L, False), ('envisage/ui/action/__init__.py', 1324509196L, False), ('objc/_compat.py', 1357848096L, False), ('tvtk/pyface/decorated_scene.py', 1324509506L, False), ('qutip/entropy.py', 1375668133L, False), ('mayavi/core/lut/__init__.py', 1324509506L, False), ('envisage/i_extension_provider.py', 1324509196L, False), ('apptools/logger/plugin/logger_plugin.py', 1324509189L, False), ('mayavi/tools/filters.py', 1324509506L, False), ('envisage/twisted_application.py', 1324509196L, False), ('objc/_bridges.py', 1357848096L, False), ('qutip/picloud.py', 1380266166L, False), ('qutip/wigner.py', 1376137763L, False), ('mayavi/tools/show.py', 1324509506L, False), ('apptools/type_manager/type_manager.py', 1324509189L, False), ('envisage/resource/package_resource_protocol.py', 1324509196L, False), ('nose/pyversion.py', 1365340755L, False), ('mayavi/plugins/mayavi_ui_plugin.py', 1324509506L, False), ('envisage/resource/resource_manager.py', 1324509196L, False), ('apptools/logger/agent/quality_agent_view.py', 1324509189L, False), ('mayavi/filters/poly_data_filter_base.py', 1324509506L, False), ('apptools/preferences/__init__.py', 1324509189L, False), ('envisage/plugins/ipython_shell/__init__.py', 1324509196L, False), ('envisage/resource/__init__.py', 1324509196L, False), ('tvtk/pyface/api.py', 1324509506L, False), ('apptools/naming/exception.py', 1324509189L, False), ('envisage/plugin.py', 1324509196L, False), ('envisage/egg_plugin_manager.py', 1324509196L, False), ('mayavi/filters/quadric_decimation.py', 1324509506L, False), ('envisage/ui/workbench/workbench_editor_manager.py', 1324509196L, False), ('envisage/plugins/ipython_shell/view/__init__.py', 1324509196L, False), ('qutip/permute.py', 1375668133L, False), ('apptools/logger/plugin/__init__.py', 1324509189L, False), ('mayavi/filters/stripper.py', 1324509506L, False), ('qutip/odedata.py', 1376487251L, False), ('apptools/naming/pyfs_context_factory.py', 1324509189L, False), ('nose/tools/__init__.py', 1350394743L, False), ('mayavi/__init__.py', 1337207823L, False), ('qutip/parfor.py', 1380262499L, False), ('envisage/application_event.py', 1324509196L, False), ('apptools/naming/ui/naming_node_manager.py', 1324509189L, False), ('envisage/i_plugin.py', 1324509196L, False), ('qutip/fortran/mcsolve_f90.py', 1375668133L, False), ('mayavi/modules/hyper_streamline.py', 1324509506L, False), ('envisage/egg_utils.py', 1337207812L, False), ('apptools/logger/agent/__init__.py', 1324509189L, False), ('mayavi/core/traits_menu.py', 1324509506L, False), ('tvtk/tvtk_access.py', 1324509506L, False), ('nose/plugins/plugintest.py', 1360595420L, False), ('apptools/naming/pyfs_context.py', 1324509189L, False), ('qutip/gui/about.py', 1376914349L, False), ('tvtk/version.py', 1324509506L, False), ('envisage/plugins/python_shell/view/namespace_view.py', 1324509196L, False), ('mayavi/tools/helper_functions.py', 1324509506L, False), ('tvtk/plugins/scene/scene_plugin.py', 1324509506L, False), ('mayavi/core/ui/engine_rich_view.py', 1324509506L, False), ('envisage/__init__.py', 1337207812L, False), ('envisage/i_extension_point_user.py', 1324509196L, False), ('apptools/scripting/recorder.py', 1324509189L, False), ('tvtk/pyface/light_manager.py', 1324509506L, False), ('qutip/gui/syntax.py', 1365468426L, False), ('mayavi/sources/metadata.py', 1324509506L, False), ('vtk/__init__.py', 1350333201L, False), ('apptools/persistence/state_pickler.py', 1324509189L, False), ('mayavi/filters/extract_unstructured_grid.py', 1324509506L, False), ('mayavi/plugins/app.py', 1324509506L, False), ('objc/_context.py', 1357848096L, False), ('envisage/i_import_manager.py', 1324509196L, False), ('apptools/preferences/scoped_preferences.py', 1324509189L, False), ('qutip/orbital.py', 1365468426L, False), ('mayavi/action/help.py', 1324509506L, False), ('mayavi/modules/contour_grid_plane.py', 1324509506L, False), ('Foundation/_nsobject.py', 1357848097L, False), ('mayavi/core/registry.py', 1324509506L, False), ('mayavi/modules/grid_plane.py', 1324509506L, False), ('mayavi/core/pipeline_base.py', 1324509506L, False), ('apptools/naming/context_adapter.py', 1324509189L, False), ('mayavi/modules/warp_vector_cut_plane.py', 1324509506L, False), ('mayavi/sources/vtk_xml_file_reader.py', 1324509506L, False), ('mayavi/modules/vectors.py', 1324509506L, False), ('mayavi/preferences/preference_manager.py', 1324509506L, False), ('envisage/ui/action/menu.py', 1324509196L, False), ('mayavi/filters/api.py', 1324509506L, False), ('objc/_descriptors.py', 1357848096L, False), ('tvtk/__init__.py', 1324509506L, False), ('mayavi/components/implicit_widgets.py', 1324509506L, False), ('qutip/partial_transpose.py', 1365468426L, False), ('mayavi/filters/triangle_filter.py', 1324509506L, False), ('mayavi/core/null_engine.py', 1324509506L, False), ('apptools/preferences/ui/tree_item.py', 1324509189L, False), ('envisage/ui/workbench/workbench_action_set.py', 1324509196L, False), ('mayavi/modules/scalar_cut_plane.py', 1324509506L, False), ('apptools/naming/ui/api.py', 1324509189L, False), ('envisage/i_extension_registry.py', 1324509196L, False), ('mayavi/modules/streamline.py', 1324509506L, False), ('nose/loader.py', 1360595420L, False), ('qutip/propagator.py', 1375936321L, False), ('envisage/ui/action/action.py', 1324509196L, False), ('mayavi/preferences/mayavi_preferences_page.py', 1324509506L, False), ('mayavi/sources/__init__.py', 1324509506L, False), ('qutip/qobj.py', 1377321621L, False), ('envisage/plugins/ipython_shell/actions/__init__.py', 1324509196L, False), ('mayavi/components/custom_grid_plane.py', 1324509506L, False), ('mayavi/modules/custom_grid_plane.py', 1324509506L, False), ('mayavi/filters/image_data_probe.py', 1324509506L, False), ('qutip/distributions.py', 1375668133L, False), ('tvtk/plugins/scene/__init__.py', 1324509506L, False), ('mayavi/filters/data_set_clipper.py', 1324509506L, False), ('nose/tools/nontrivial.py', 1360595420L, False), ('apptools/logger/plugin/view/logger_preferences_page.py', 1324509189L, False), ('apptools/scripting/api.py', 1324509189L, False), ('apptools/naming/unique_name.py', 1324509189L, False), ('qutip/odeoptions.py', 1375936085L, False), ('CoreFoundation/__init__.py', 1357848097L, False), ('apptools/scripting/util.py', 1324509189L, False), ('envisage/ui/workbench/workbench_preferences.py', 1324509196L, False), ('tvtk/pyface/scene.py', 1324509506L, False), ('mayavi/preferences/preferences_helpers.py', 1324509506L, False), ('apptools/naming/referenceable.py', 1324509189L, False), ('mayavi/filters/cell_derivatives.py', 1324509506L, False), ('mayavi/tools/pipe_base.py', 1324509506L, False), ('mayavi/core/component.py', 1324509506L, False), ('qutip/hardware_info.py', 1370054422L, False), ('mayavi/plugins/script.py', 1324509506L, False), ('mayavi/components/actor2d.py', 1324509506L, False), ('mayavi/modules/volume.py', 1324509506L, False), ('mayavi/filters/set_active_attribute.py', 1324509506L, False), ('qutip/bloch.py', 1380256218L, False), ('mayavi/tools/probe_data.py', 1324509506L, False), ('mayavi/modules/__init__.py', 1324509506L, False), ('apptools/naming/naming_manager.py', 1324509189L, False), ('mayavi/filters/optional.py', 1324509506L, False), ('nose/plugins/deprecated.py', 1323871298L, False), ('qutip/eseries.py', 1375668133L, False), ('mayavi/modules/metadata.py', 1324509506L, False), ('tvtk/plugins/scene/ui/scene_ui_plugin.py', 1324509506L, False), ('tvtk/plugins/scene/ui/__init__.py', 1324509506L, False), ('qutip/odeconfig.py', 1365468426L, False), ('mayavi/core/ui/mayavi_scene.py', 1324509506L, False), ('mayavi/modules/image_plane_widget.py', 1324509506L, False), ('mayavi/plugins/__init__.py', 1324509506L, False), ('mayavi/components/actor.py', 1324509506L, False), ('qutip/tensor.py', 1365468426L, False), ('objc/_category.py', 1357848096L, False), ('qutip/examples/ex_31.py', 1365467795L, False), ('qutip/examples/ex_30.py', 1365467795L, False), ('qutip/examples/ex_33.py', 1365467795L, False), ('qutip/examples/ex_32.py', 1365467795L, False), ('apptools/logger/filtering_handler.py', 1324509189L, False), ('apptools/type_manager/__init__.py', 1324509189L, False), ('tvtk/messenger.py', 1324509506L, False), ('tvtk/util/wx_gradient_editor.py', 1324509506L, False), ('Foundation/_metadata.py', 1357848034L, False), ('nose/failure.py', 1363611993L, False), ('apptools/type_manager/abstract_adapter_factory.py', 1324509189L, False), ('qutip/settings.py', 1365468426L, False), ('nose/selector.py', 1323871298L, False), ('mayavi/modules/axes.py', 1324509506L, False), ('apptools/type_manager/factory.py', 1324509189L, False), ('qutip/floquet.py', 1373029713L, False), ('envisage/resource/api.py', 1324509196L, False), ('mayavi/filters/user_defined.py', 1324509506L, False), ('tvtk/common.py', 1324509506L, False), ('mayavi/preferences/contrib_finder.py', 1324509506L, False), ('mayavi/filters/metadata.py', 1324509506L, False), ('mayavi/core/file_data_source.py', 1324509506L, False), ('mayavi/components/poly_data_normals.py', 1324509506L, False), ('apptools/io/__init__.py', 1324509189L, False), ('envisage/ui/workbench/workbench_plugin.py', 1324509196L, False), ('qutip/tomography.py', 1367105545L, False), ('nose/config.py', 1363612002L, False), ('tvtk/misc.py', 1324509506L, False), ('envisage/ui/workbench/default_action_set.py', 1324509196L, False), ('qutip/examples/ex_44.py', 1365467795L, False), ('qutip/examples/ex_45.py', 1365467795L, False), ('qutip/examples/ex_40.py', 1365467795L, False), ('qutip/examples/ex_41.py', 1365467795L, False), ('qutip/examples/ex_42.py', 1365467795L, False), ('qutip/examples/ex_43.py', 1365467795L, False), ('mayavi/modules/orientation_axes.py', 1324509506L, False), ('apptools/naming/binding.py', 1324509189L, False), ('mayavi/modules/labels.py', 1324509506L, False), ('envisage/plugins/ipython_shell/actions/ipython_shell_actions.py', 1324509196L, False), ('envisage/i_plugin_manager.py', 1337207812L, False), ('qutip/examples/ex_35.py', 1365467795L, False), ('tvtk/tvtk_base.py', 1324509506L, False), ('Foundation/_functiondefines.py', 1357848034L, False), ('nose/core.py', 1360595420L, False), ('tvtk/api.py', 1324509506L, False), ('objc/_properties.py', 1358183331L, False), ('mayavi/components/source_widget.py', 1324509506L, False), ('mayavi/filters/mask_points.py', 1324509506L, False), ('mayavi/tools/preferences_mirror.py', 1324509506L, False), ('qutip/ptrace.py', 1375668133L, False), ('envisage/core_plugin.py', 1324509196L, False), ('apptools/naming/api.py', 1324509189L, False), ('tvtk/tools/tvtk_doc.py', 1324509506L, False), ('apptools/naming/pyfs_initial_context_factory.py', 1324509189L, False), ('mayavi/core/mouse_pick_dispatcher.py', 1337207823L, False), ('mayavi/filters/select_output.py', 1324509506L, False), ('mayavi/filters/tube.py', 1324509506L, False), ('objc/__init__.py', 1357848096L, False), ('tvtk/tools/__init__.py', 1324509506L, False), ('apptools/naming/context.py', 1324509189L, False), ('envisage/plugin_manager.py', 1337207812L, False), ('envisage/ui/action/action_set_manager.py', 1324509196L, False), ('mayavi/modules/text3d.py', 1324509506L, False), ('qutip/examples/exconfig.py', 1365468426L, False), ('objc/_pycoder.py', 1358845463L, False), ('envisage/extension_point.py', 1324509196L, False), ('envisage/plugins/text_editor/text_editor_plugin.py', 1324509196L, False), ('envisage/safeweakref.py', 1324509196L, False), ('vtk/qvtk.py', 1350333201L, False), ('PySide/_utils.py', 1377792579L, False), ('qutip/version.py', 1380266174L, False), ('mayavi/filters/delaunay3d.py', 1324509506L, False), ('apptools/logger/log_queue_handler.py', 1324509189L, False), ('nose/plugins/errorclass.py', 1360595420L, False), ('mayavi/preferences/__init__.py', 1324509506L, False), ('apptools/type_manager/python_type_system.py', 1324509189L, False), ('apptools/logger/logger.py', 1324509189L, False), ('qutip/cyQ/__init__.py', 1376122870L, False), ('mayavi/filters/elevation_filter.py', 1324509506L, False), ('apptools/naming/object_factory.py', 1324509189L, False), ('nose/plugins/skip.py', 1323871298L, False), ('apptools/naming/context_adapter_factory.py', 1324509189L, False), ('envisage/plugins/__init__.py', 1324509196L, False), ('envisage/plugins/python_shell/view/__init__.py', 1324509196L, False), ('objc/_protocols.py', 1357848030L, False), ('apptools/sweet_pickle/__init__.py', 1324509189L, False), ('envisage/plugins/python_shell/api.py', 1324509196L, False), ('apptools/scripting/package_globals.py', 1324509189L, False), ('mayavi/tools/figure.py', 1324509506L, False), ('mayavi/modules/surface.py', 1324509506L, False), ('qutip/visualization.py', 1379072742L, False), ('mayavi/filters/cut_plane.py', 1324509506L, False), ('mayavi/core/filter.py', 1324509506L, False), ('envisage/plugins/ipython_shell/view/namespace_view.py', 1324509196L, False), ('qutip/superop_reps.py', 1375668133L, False), ('apptools/scripting/recordable.py', 1324509189L, False), ('apptools/logger/log_point.py', 1324509189L, False), ('qutip/gui/Examples.py', 1375939804L, False), ('apptools/naming/dynamic_context.py', 1324509189L, False), ('envisage/i_service_user.py', 1324509196L, False), ('mayavi/tests/runtests.py', 1324509506L, False), ('envisage/plugins/python_shell/view/python_shell_view.py', 1324509196L, False), ('mayavi/core/module.py', 1324509506L, False), ('apptools/persistence/__init__.py', 1324509189L, False), ('qutip/odechecks.py', 1367105545L, False), ('mayavi/modules/glyph.py', 1324509506L, False), ('envisage/ui/workbench/api.py', 1324509196L, False), ('apptools/scripting/__init__.py', 1324509189L, False), ('mayavi/filters/decimatepro.py', 1324509506L, False), ('mayavi/modules/structured_grid_outline.py', 1324509506L, False), ('apptools/logger/ring_buffer.py', 1324509189L, False), ('mayavi/core/customize.py', 1324509506L, False), ('qutip/rhs_generate.py', 1365468426L, False), ('nose/importer.py', 1365426480L, False), ('envisage/ui/workbench/workbench.py', 1324509196L, False), ('tvtk/util/ctf.py', 1324509506L, False), ('envisage/unknown_extension.py', 1324509196L, False), ('tvtk/plugins/scene/ui/scene_ui_action_set.py', 1324509506L, False), ('envisage/import_manager.py', 1324509196L, False), ('apptools/logger/plugin/logger_service.py', 1324509189L, False), ('envisage/plugins/ipython_shell/view/ipython_shell_view.py', 1324509196L, False), ('nose/util.py', 1365426480L, False), ('apptools/logger/plugin/view/logger_view.py', 1324509189L, False), ('mayavi/tools/decorations.py', 1324509506L, False), ('mayavi/filters/image_change_information.py', 1324509506L, False), ('envisage/plugin_extension_registry.py', 1324509196L, False), ('mayavi/preferences/bindings.py', 1324509506L, False), ('vtk/util/__init__.py', 1350333201L, False), ('apptools/type_manager/api.py', 1324509189L, False), ('nose/plugins/base.py', 1365340755L, False), ('envisage/resource/http_resource_protocol.py', 1324509196L, False), ('apptools/type_manager/adapter_factory.py', 1324509189L, False), ('qutip/about.py', 1370054421L, False), ('mayavi/filters/gaussian_splatter.py', 1324509506L, False), ('apptools/preferences/preferences_helper.py', 1324509189L, False), ('apptools/sweet_pickle/global_registry.py', 1324509189L, False), ('mayavi/filters/threshold.py', 1324509506L, False), ('tvtk/tools/ivtk.py', 1324509506L, False), ('mayavi/components/contour.py', 1324509506L, False), ('mayavi/modules/slice_unstructured_grid.py', 1324509506L, False), ('apptools/logger/__init__.py', 1324509189L, False), ('nose/plugins/builtin.py', 1323871298L, False), ('envisage/plugins/text_editor/__init__.py', 1324509196L, False), ('apptools/naming/initial_context.py', 1324509189L, False), ('mayavi/tests/__init__.py', 1324509506L, False), ('mayavi/filters/extract_edges.py', 1324509506L, False), ('Foundation/_nsindexset.py', 1357848034L, False), ('CoreFoundation/_metadata.py', 1357848034L, False), ('mayavi/core/scene.py', 1324509506L, False), ('qutip/mesolve.py', 1380256218L, False), ('mayavi/core/engine.py', 1324509506L, False), ('mayavi/modules/outline.py', 1324509506L, False), ('apptools/naming/ui/naming_tree.py', 1324509189L, False), ('qutip/__init__.py', 1380199633L, False), ('envisage/ui/action/i_action_manager_builder.py', 1324509196L, False), ('mayavi/tools/__init__.py', 1324509506L, False), ('nose/proxy.py', 1360595420L, False), ('mayavi/filters/point_to_cell_data.py', 1324509506L, False), ('apptools/io/file.py', 1324509189L, False), ('apptools/__init__.py', 1337207808L, False), ('mayavi/core/ui/engine_view.py', 1324509506L, False), ('PySide/__init__.py', 1377792579L, False), ('mayavi/filters/transform_data.py', 1324509506L, False), ('apptools/preferences/package_globals.py', 1324509189L, False), ('objc/_lazyimport.py', 1357848096L, False), ('apptools/naming/pyfs_object_factory.py', 1324509189L, False), ('envisage/i_plugin_activator.py', 1324509196L, False), ('mayavi/core/metadata.py', 1324509506L, False), ('envisage/extension_provider.py', 1324509196L, False), ('tvtk/array_handler.py', 1324509506L, False), ('envisage/resource/i_resource_protocol.py', 1324509196L, False), ('qutip/steadystate.py', 1379744810L, False), ('envisage/ui/action/i_action_set.py', 1324509196L, False), ('validate.py', 1267484642L, False), ('mayavi/version.py', 1324509506L, False), ('envisage/service.py', 1324509196L, False), ('envisage/plugin_activator.py', 1324509196L, False), ('CoreFoundation/_static.py', 1357848097L, False), ('apptools/preferences/ui/i_preferences_page.py', 1324509189L, False), ('envisage/unknown_extension_point.py', 1324509196L, False), ('tvtk/tvtk_base_handler.py', 1324509506L, False), ('envisage/plugins/ipython_shell/api.py', 1324509196L, False), ('mayavi/core/adder_node.py', 1337207823L, False), ('qutip/examples/ex_53.py', 1365467795L, False), ('qutip/examples/ex_52.py', 1365467795L, False), ('qutip/examples/ex_51.py', 1365467795L, False), ('qutip/examples/ex_50.py', 1365467795L, False), ('nose/case.py', 1323871298L, False), ('mayavi/components/glyph.py', 1324509506L, False), ('apptools/naming/ui/explorer.py', 1324509189L, False), ('apptools/naming/naming_event.py', 1324509189L, False), ('tvtk/pipeline/browser.py', 1324509506L, False), ('apptools/type_manager/hook.py', 1324509189L, False), ('mayavi/filters/delaunay2d.py', 1324509506L, False), ('mayavi/components/implicit_plane.py', 1324509506L, False), ('mayavi/components/common.py', 1324509506L, False), ('mayavi/tools/pipeline.py', 1324509506L, False), ('mayavi/api.py', 1324509506L, False), ('apptools/naming/ui/naming_tree_model.py', 1324509189L, False), ('mayavi/filters/poly_data_normals.py', 1324509506L, False), ('envisage/plugins/text_editor/text_editor_action_set.py', 1324509196L, False), ('envisage/ui/__init__.py', 1324509196L, False), ('mayavi/components/cutter.py', 1324509506L, False), ('envisage/resource/file_resource_protocol.py', 1324509196L, False), ('qutip/examples/ex_27.py', 1365467795L, False), ('qutip/examples/ex_24.py', 1365467795L, False), ('envisage/ui/workbench/workbench_preferences_page.py', 1324509196L, False), ('mayavi/mlab.py', 1324509506L, False), ('apptools/preferences/ui/api.py', 1324509189L, False), ('apptools/naming/address.py', 1324509189L, False), ('mayavi/core/ui/__init__.py', 1324509506L, False), ('Foundation/_context.py', 1357848034L, False), ('qutip/examples/__init__.py', 1365468426L, False), ('tvtk/util/__init__.py', 1324509506L, False), ('tvtk/pyface/toolkit.py', 1324509506L, False), ('qutip/superoperator.py', 1377930042L, False), ('mayavi/tools/sources.py', 1337207823L, False), ('envisage/ui/action/action_set.py', 1324509196L, False), ('apptools/sweet_pickle/updater.py', 1324509189L, False), ('qutip/expect.py', 1375936321L, False), ('nose/__init__.py', 1361728690L, False), ('apptools/type_manager/abstract_type_system.py', 1324509189L, False), ('apptools/type_manager/adapter_manager.py', 1324509189L, False), ('mayavi/tools/engine_manager.py', 1324509506L, False), ('tvtk/pyface/tvtk_scene.py', 1324509506L, False), ('qutip/correlation.py', 1379072742L, False), ('envisage/ui/workbench/workbench_window.py', 1324509196L, False), ('apptools/preferences/ui/preferences_node.py', 1324509189L, False), ('qutip/bloch3d.py', 1376281249L, False), ('qutip/essolve.py', 1365468426L, False), ('apptools/logger/null_handler.py', 1324509189L, False), ('qutip/subsystem_apply.py', 1375668133L, False), ('apptools/naming/py_context.py', 1324509189L, False), ('mayavi/filters/vorticity.py', 1324509506L, False), ('qutip/bloch_redfield.py', 1365468426L, False), ('nose/plugins/manager.py', 1323871298L, False), ('qutip/examples/ex_13.py', 1365467795L, False), ('qutip/examples/ex_12.py', 1365467795L, False), ('qutip/examples/ex_11.py', 1365467795L, False), ('apptools/naming/object_serializer.py', 1324509189L, False), ('qutip/examples/ex_17.py', 1365467795L, False), ('qutip/examples/ex_16.py', 1365467795L, False), ('qutip/examples/ex_15.py', 1365467795L, False), ('qutip/examples/ex_14.py', 1365467795L, False), ('qutip/examples/ex_19.py', 1365467795L, False), ('qutip/examples/ex_18.py', 1365467795L, False), ('envisage/plugins/ipython_shell/ipython_shell_plugin.py', 1324509196L, False), ('apptools/naming/ui/__init__.py', 1324509189L, False), ('qutip/examples/examples_text.py', 1365468426L, False), ('apptools/naming/referenceable_state_factory.py', 1324509189L, False), ('mayavi/modules/vector_cut_plane.py', 1324509506L, False), ('nose/result.py', 1323871298L, False), ('envisage/ui/workbench/workbench_application.py', 1324509196L, False), ('mayavi/filters/extract_vector_norm.py', 1324509506L, False), ('mayavi/plugins/mayavi_plugin.py', 1324509506L, False), ('qutip/states.py', 1377930042L, False), ('nose/suite.py', 1323871298L, False), ('mayavi/core/base.py', 1324509506L, False), ('envisage/ui/action/location.py', 1324509196L, False), ('objc/_locking.py', 1357848096L, False), ('mayavi/filters/wrapper.py', 1324509506L, False), ('apptools/scripting/recorder_with_ui.py', 1324509189L, False), ('envisage/i_provider_extension_registry.py', 1324509196L, False), ('mayavi/filters/warp_scalar.py', 1324509506L, False), ('mayavi/tools/camera.py', 1324509506L, False), ('mayavi/components/__init__.py', 1324509506L, False), ('qutip/sesolve.py', 1380256218L, False), ('tvtk/plugins/scene/ui/scene_preferences_page.py', 1324509506L, False), ('mayavi/tools/animator.py', 1324509506L, False), ('mayavi/filters/cell_to_point_data.py', 1324509506L, False), ('mayavi/modules/generic_module.py', 1324509506L, False), ('apptools/preferences/ui/__init__.py', 1324509189L, False), ('envisage/plugins/python_shell/python_shell_plugin.py', 1324509196L, False), ('apptools/naming/dir_context.py', 1324509189L, False), ('objc/_pythonify.py', 1357848096L, False), ('envisage/ui/action/abstract_action_manager_builder.py', 1324509196L, False), ('qutip/utilities.py', 1377321757L, False), ('apptools/naming/ui/context_monitor.py', 1324509189L, False), ('qutip/continuous_variables.py', 1370054422L, False), ('mayavi/filters/collection.py', 1324509506L, False), ('apptools/naming/initial_context_factory.py', 1324509189L, False), ('qutip/fortran/__init__.py', 1365467795L, False), ('objc/_framework.py', 1357848030L, False), ('apptools/naming/py_object_factory.py', 1324509189L, False), ('envisage/category.py', 1324509196L, False), ('apptools/preferences/preferences.py', 1324509189L, False), ('mayavi/filters/extract_grid.py', 1324509506L, False), ('envisage/service_registry.py', 1337207812L, False), ('apptools/io/api.py', 1324509189L, False), ('qutip/cyQ/codegen.py', 1375936321L, False), ('mayavi/core/off_screen_engine.py', 1324509506L, False), ('apptools/logger/plugin/logger_preferences.py', 1324509189L, False), ('configobj.py', 1267306576L, False), ('nose/exc.py', 1323871298L, False), ('vtk/util/vtkConstants.py', 1350333201L, False), ('qutip/gui/progressbar.py', 1367494287L, False), ('envisage/ui/workbench/workbench_action_manager_builder.py', 1324509196L, False), ('mayavi/modules/tensor_glyph.py', 1324509506L, False), ('mayavi/core/pipeline_info.py', 1324509506L, False), ('mayavi/filters/__init__.py', 1324509506L, False), ('tvtk/plugins/__init__.py', 1324509506L, False), ('envisage/extension_registry.py', 1324509196L, False), ('qutip/operators.py', 1379744810L, False), ('envisage/ui/action/group.py', 1324509196L, False), ('envisage/extension_point_binding.py', 1324509196L, False), ('qutip/mcsolve.py', 1377314392L, False), ('mayavi/core/module_manager.py', 1324509506L, False), ('nose/tools/trivial.py', 1345139492L, False), ('mayavi/preferences/api.py', 1324509506L, False), ('vtk/util/colors.py', 1350333201L, False), ('qutip/metrics.py', 1375668133L, False), ('envisage/ui/action/tool_bar.py', 1324509196L, False), ('envisage/api.py', 1324509196L, False), ('envisage/resource/no_such_resource_error.py', 1324509196L, False), ('envisage/plugins/python_shell/__init__.py', 1324509196L, False), ('mayavi/modules/api.py', 1324509506L, False), ('apptools/type_manager/adaptable.py', 1324509189L, False), ('vtk/__helper.py', 1350333201L, False), ('apptools/preferences/preference_binding.py', 1324509189L, False), ('qutip/random_objects.py', 1375668133L, False), ('tvtk/pipeline/__init__.py', 1324509506L, False), ('apptools/persistence/version_registry.py', 1324509189L, False), ('mayavi/filters/warp_vector.py', 1324509506L, False), ('envisage/i_extension_point.py', 1324509196L, False), ('mayavi/tools/modules.py', 1337207823L, False), ('mayavi/plugins/mayavi_ui_action_set.py', 1324509506L, False), ('mayavi/components/glyph_source.py', 1324509506L, False), ('mayavi/core/source.py', 1324509506L, False), ('apptools/preferences/ui/preferences_page.py', 1324509189L, False), ('mayavi/filters/contour.py', 1324509506L, False), ('qutip/fileio.py', 1365927644L, False)]\n"
       ]
      },
      {
       "output_type": "stream",
       "stream": "stderr",
       "text": [
        "INFO:Cloud.HTTPConnection:query url module/check/ with post_values ={'hostname': 'Pauls-Air.local', 'data': <cStringIO.StringO object at 0x112466ed8>, 'language': 'python'}\n"
       ]
      },
      {
       "output_type": "stream",
       "stream": "stderr",
       "text": [
        "INFO:Cloud.HTTPConnection:network.py: modules_check(): ap_version is now fc526d444f29223925825eba0bf66ddf515e7441. needed mods are [[u'qutip/picloud.py', 1380266166, False], [u'qutip/parfor.py', 1380262499, False], [u'qutip/version.py', 1380266174, False]]\n"
       ]
      },
      {
       "output_type": "stream",
       "stream": "stderr",
       "text": [
        "INFO:Cloud:FileTransfer: Transferring [[u'qutip/picloud.py', 1380266166, False], [u'qutip/parfor.py', 1380262499, False], [u'qutip/version.py', 1380266174, False]]\n"
       ]
      },
      {
       "output_type": "stream",
       "stream": "stderr",
       "text": [
        "INFO:Cloud.HTTPConnection:query url module/add/ with post_values ={'hostname': 'Pauls-Air.local', 'data': <cStringIO.StringO object at 0x113a0c0a0>, 'language': 'python'}\n"
       ]
      },
      {
       "output_type": "stream",
       "stream": "stderr",
       "text": [
        "INFO:Cloud.HTTPConnection:network.py: modules_add(): ap_version is ff31b9497fd6134f5438161394b38b899548c689\n"
       ]
      },
      {
       "output_type": "stream",
       "stream": "stderr",
       "text": [
        "DEBUG:Cloud.HTTPConnection:query url job/map/add/ with post_values ={'profile': False, 'restartable': True, 'vol': [], 'func_name': '__main__.add at <ipython-input-4-c7eaa9cdb607>:1', 'parent_jid': None, 'max_runtime': None, 'cloud_version': '2.8.5', 'process_id': '87946', 'mod_versions': {'Cython': '0.19.1', 'qutip': '2.3.0.dev-0eeb4a1', 'distutils': '2.7.5', 'curses': '2.2', 'IPython': '1.1.0', '__main__': '0.12.0', 'BaseHTTPServer': '0.3', 'docutils': '0.11', 'pyexpat': '2.7.5', 'pyparsing': '2.0.1', 'cloud': '2.8.5', 'dateutil': '1.5', 'PySide': '1.2.1', 're': '2.2.1', 'urllib': '1.17', 'platform': '1.0.7', 'json': '2.0.9', 'sqlite3': '2.6.0', 'csv': '1.0', 'numpy': '1.7.1', 'cPickle': '1.71', 'SocketServer': '0.4', 'ast': '82160', 'tornado': '3.1.1', 'mayavi': '4.2.0', '_ctypes': '1.1.0', 'urllib2': '2.7', 'sys': '2.7.5 (default, Aug  1 2013, 01:01:17) \\n[GCC 4.2.1 Compatible Apple Clang 4.1 ((tags/Apple/clang-421.11.66))]', 'scipy': '0.12.0', 'ctypes': '1.1.0', 'matplotlib': '1.3.0', '_sqlite3': '2.6.0', '_struct': '0.2', 'argparse': '1.1', 'zmq': '13.1.0', 'logging': '0.5.1.2', '_ast': '82160', 'traits': '4.2.0', '_csv': '1.0', 'decimal': '1.70', 'zlib': '1.0', 'multiprocessing': '0.70a1', 'pydoc': '$Revision: 88564 $', 'optparse': '1.5.3', '_curses': '2.2', 'pickle': '$Revision: 72223 $', 'marshal': 2}, 'depends_on_errors': 'abort', 'map_len': 3, 'kill_process': False, 'data': <cStringIO.StringO object at 0x10c269298>, 'ap_version': u'ff31b9497fd6134f5438161394b38b899548c689', 'done': True, 'language': 'python', 'hostname': 'Pauls-Air.local', 'fast_serialization': 1, 'label': 'qutip job', 'priority': 5, 'first_maparg_index': 0, 'env': '/pnation/qutip_2_2', 'depends_on': [], 'cores': 1, 'language_version': '2.7.5 (default, Aug  1 2013, 01:01:17) \\n[GCC 4.2.1 Compatible Apple Clang 4.1 ((tags/Apple/clang-421.11.66))]', 'type': 'f2'}\n"
       ]
      },
      {
       "output_type": "stream",
       "stream": "stderr",
       "text": [
        "INFO:Cloud.HTTPConnection:map __main__.add at <ipython-input-4-c7eaa9cdb607>:1 --> jids [xrange(1060, 1063)]\n"
       ]
      },
      {
       "output_type": "stream",
       "stream": "stderr",
       "text": [
        "INFO:Cloud.HTTPConnection:query [[\"status\"]] on jids [\"xrange\", 1060, 1, 3]\n"
       ]
      },
      {
       "output_type": "stream",
       "stream": "stderr",
       "text": [
        "INFO:Cloud.HTTPConnection:query [[\"status\"]] on jids [\"xrange\", 1060, 1, 3]\n"
       ]
      },
      {
       "output_type": "stream",
       "stream": "stderr",
       "text": [
        "INFO:Cloud.HTTPConnection:query [[\"status\"]] on jids [\"xrange\", 1060, 1, 3]\n"
       ]
      },
      {
       "output_type": "stream",
       "stream": "stderr",
       "text": [
        "INFO:Cloud.HTTPConnection:query [[\"status\"]] on jids [\"xrange\", 1060, 1, 3]\n"
       ]
      },
      {
       "output_type": "stream",
       "stream": "stderr",
       "text": [
        "INFO:Cloud.HTTPConnection:query result of jids [\"xrange\", 1060, 1, 3]\n"
       ]
      },
      {
       "metadata": {},
       "output_type": "pyout",
       "prompt_number": 4,
       "text": [
        "[15, 26, 37]"
       ]
      }
     ],
     "prompt_number": 4
    },
    {
     "cell_type": "markdown",
     "metadata": {},
     "source": [
      "In contrast to <code>parfor</code>, the <code>picloud</code> function does not accept any keyword arguments."
     ]
    },
    {
     "cell_type": "code",
     "collapsed": false,
     "input": [
      "from IPython.core.display import HTML\n",
      "def css_styling():\n",
      "    styles = open(\"styles/guide.css\", \"r\").read()\n",
      "    return HTML(styles)\n",
      "css_styling()"
     ],
     "language": "python",
     "metadata": {},
     "outputs": [
      {
       "html": [
        "<style>\n",
        "    @import url('http://fonts.googleapis.com/css?family=Lato');\n",
        "\t@import url('http://fonts.googleapis.com/css?family=Source+Code+Pro');\n",
        "    @font-face {\n",
        "        font-family: \"Computer Modern\";\n",
        "        src: url('http://mirrors.ctan.org/fonts/cm-unicode/fonts/otf/cmunss.otf');\n",
        "    }\n",
        "\tdiv.cell{\n",
        "        width:800px;\n",
        "        margin-left:10% !important;\n",
        "        margin-right:auto;\n",
        "    }\n",
        "    h1 {\n",
        "        font-family: \"Lato\", Helvetica, serif;\n",
        "    }\n",
        "    h4{\n",
        "        font-family: \"Lato\", Helvetica, serif;\n",
        "\t\tmargin-top:12px;\n",
        "        margin-bottom: 3px;\n",
        "       }\n",
        "    div.text_cell_render{\n",
        "        font-family: \"Lato\", \"Helvetica Neue\", Arial, Helvetica, Geneva, sans-serif;\n",
        "        line-height: 135%;\n",
        "        font-size: 120%;\n",
        "        width:800px;\n",
        "        margin-left:auto;\n",
        "        margin-right:auto;\n",
        "    }\n",
        "    .CodeMirror{\n",
        "            font-family: \"Source Code Pro\", source-code-pro,Consolas, monospace;\n",
        "    }\n",
        "    .prompt{\n",
        "        display: None;\n",
        "    }\n",
        "    .text_cell_render h5 {\n",
        "        font-family: \"Lato\", Helvetica, serif;\n",
        "        font-size: 20pt;\n",
        "        color: #0001E0;\n",
        "        margin-bottom: .5em;\n",
        "        margin-top: 0.5em;\n",
        "        display: block;\n",
        "    }\n",
        "    \n",
        "    .warning{\n",
        "        color: rgb( 240, 20, 20 )\n",
        "        }  \n",
        "</style>\n",
        "<script>\n",
        "    MathJax.Hub.Config({\n",
        "                        TeX: {\n",
        "                           extensions: [\"AMSmath.js\"]\n",
        "                           },\n",
        "                tex2jax: {\n",
        "                    inlineMath: [ ['$','$'], [\"\\\\(\",\"\\\\)\"] ],\n",
        "                    displayMath: [ ['$$','$$'], [\"\\\\[\",\"\\\\]\"] ]\n",
        "                },\n",
        "                displayAlign: 'center', // Change this to 'center' to center equations.\n",
        "                \"HTML-CSS\": {\n",
        "                    styles: {'.MathJax_Display': {\"margin\": 4}}\n",
        "                }\n",
        "        });\n",
        "</script>"
       ],
       "metadata": {},
       "output_type": "pyout",
       "prompt_number": 2,
       "text": [
        "<IPython.core.display.HTML at 0x1099b6b50>"
       ]
      }
     ],
     "prompt_number": 2
    },
    {
     "cell_type": "code",
     "collapsed": false,
     "input": [
      "from qutip.ipynbtools import version_table\n",
      "\n",
      "version_table()"
     ],
     "language": "python",
     "metadata": {},
     "outputs": [
      {
       "html": [
        "<table><tr><th>Software</th><th>Version</th></tr><tr><td>Cython</td><td>0.19.1</td></tr><tr><td>SciPy</td><td>0.12.0</td></tr><tr><td>QuTiP</td><td>2.3.0.dev-defe965</td></tr><tr><td>Python</td><td>2.7.5 (default, Aug  1 2013, 01:01:17) \n",
        "[GCC 4.2.1 Compatible Apple Clang 4.1 ((tags/Apple/clang-421.11.66))]</td></tr><tr><td>IPython</td><td>1.1.0</td></tr><tr><td>OS</td><td>posix [darwin]</td></tr><tr><td>Numpy</td><td>1.7.1</td></tr><tr><td>matplotlib</td><td>1.3.0</td></tr><tr><td colspan='2'>Fri Sep 27 15:26:10 2013 KST</td></tr></table>"
       ],
       "metadata": {},
       "output_type": "pyout",
       "prompt_number": 5,
       "text": [
        "<IPython.core.display.HTML at 0x10aa7f190>"
       ]
      }
     ],
     "prompt_number": 5
    }
   ],
   "metadata": {}
  }
 ]
}