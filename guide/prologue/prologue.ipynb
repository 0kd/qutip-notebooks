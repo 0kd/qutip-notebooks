{
 "metadata": {
  "name": ""
 },
 "nbformat": 3,
 "nbformat_minor": 0,
 "worksheets": [
  {
   "cells": [
    {
     "cell_type": "markdown",
     "metadata": {},
     "source": [
      "<div style=\"float: left; \"><img title=\"created by J. R. Johansson and P. D. Nation\"style=\"float: left;margin-left: 10px; margin-top: 10px;\" src=\"https://dl.dropboxusercontent.com/u/29331269/logo_shaded.png\" align=center width=700/></div>"
     ]
    },
    {
     "cell_type": "markdown",
     "metadata": {},
     "source": [
      "Numerical Simulations of Open Quantum Systems\n",
      "=====\n",
      "\n",
      "Using QuTiP: Quantum Toolbox in Python \n",
      "======="
     ]
    },
    {
     "cell_type": "markdown",
     "metadata": {},
     "source": [
      "### J. R. Johansson and P. D. Nation\n",
      "#### Version 3.0\n",
      "#### November 01, 2013"
     ]
    },
    {
     "cell_type": "markdown",
     "metadata": {},
     "source": [
      "Table of Contents\n",
      "-----------------\n",
      "* [**Prologue**]()\n",
      "    - [Using this guide](#thisguide)\n",
      "    - [Funding Sources](#funding)\n",
      "    - [Contributors](#contributors)\n",
      "    - [Installation](#installation)\n",
      "    \n",
      "\n",
      "* [**Chapter 1: Introduction**]()\n",
      "\n",
      "\n",
      "* [**Chapter 2: Quantum objects**]()\n",
      "    - An introduction to the quantum object class, it's properties and methods."
     ]
    },
    {
     "cell_type": "markdown",
     "metadata": {},
     "source": [
      "Using this Guide<a id=\"thisguide\"></a>\n",
      "---------------\n",
      "\n"
     ]
    },
    {
     "cell_type": "markdown",
     "metadata": {},
     "source": [
      "Funding & Support<a id=\"funding\"></a>\n",
      "---------------\n",
      "Funding and support for the development of QuTiP has come from the following sources:\n",
      "\n",
      "<div style=\"float: left; \"><img title=\"RIKEN\"style=\"float: left;margin-left: 10px; margin-top: 10px;\" src=\"https://dl.dropboxusercontent.com/u/29331269/riken-logo.png\" align=center width=160/></div>\n",
      "<div style=\"float: left; \"><img title=\"JSPS\"style=\"float: left;margin-left: 10px; margin-top: 10px;\" src=\"https://dl.dropboxusercontent.com/u/29331269/jsps.jpg\" align=center width=300/></div>\n",
      "<div style=\"float: left; \"><img title=\"KU\"style=\"float: left;margin-left: 10px; margin-top: 10px;\" src=\"https://dl.dropboxusercontent.com/u/29331269/korea-logo.png\" align=center width=240/></div>\n"
     ]
    },
    {
     "cell_type": "markdown",
     "metadata": {},
     "source": [
      "Contributors<a id=\"contributors\"></a>\n",
      "---------------\n",
      "\n",
      "####Lead Developers\n",
      "[J. R. Johansson](http://dml.riken.jp/~rob) & [P. D. Nation](http://nqdl.korea.ac.kr)\n",
      "\n",
      "####Code Contributors\n",
      "Markus Baden, Ben Criger, Arne Grimsmo, J. P. Hadden, Jonas Neergaard-Nielsen, Per Nielsen, Simon Whalen\n",
      "\n",
      "#### Other Contributors\n",
      "Bredan Abolins, James Clemens, Claudia Degrandi, Myung-Joong Hwang, Robert J\u00f6rdens, Hwajung Kang, Neill Lambert, Anders Lund, Henri Nielsen, Florian Ong, Frank Schima, Denis Vasilyev, W.M. Witzel, Andr\u00e9 Xuereb, Dong Zhou\n"
     ]
    },
    {
     "cell_type": "markdown",
     "metadata": {},
     "source": [
      "Installation<a id=\"installation\"></a>\n",
      "---------------\n",
      "\n",
      "- [Easy Installation Methods](#easy)\n",
      "\n",
      "- [Complete Installation Requirements](#complete)\n",
      "\n",
      "###Easy Installation<a id=\"easy\"></a>\n",
      "####Ubuntu Linux\n",
      "To install QuTiP in Ubuntu (12.04 and later) use the QuTiP PPA:"
     ]
    },
    {
     "cell_type": "code",
     "collapsed": false,
     "input": [
      "sudo add-apt-repository ppa:jrjohansson/qutip-releases\n",
      "sudo apt-get update\n",
      "sudo apt-get install python-qutip"
     ],
     "language": "python",
     "metadata": {},
     "outputs": []
    },
    {
     "cell_type": "markdown",
     "metadata": {},
     "source": [
      "####Mac OSX\n",
      "To install QuTiP on OSX, make sure you have Xcode installed from the Apple App Store.  To easy install QuTiP on OSX, first install [MacPorts](https://www.macports.org/), and then run:"
     ]
    },
    {
     "cell_type": "code",
     "collapsed": false,
     "input": [
      "sudo port install py-qutip"
     ],
     "language": "python",
     "metadata": {},
     "outputs": []
    },
    {
     "cell_type": "markdown",
     "metadata": {},
     "source": [
      "It is also recommended that you run the following commands to make sure your system is calling the appropriate macports software:"
     ]
    },
    {
     "cell_type": "code",
     "collapsed": false,
     "input": [
      "sudo port select python python27\n",
      "sudo port select ipython ipython27\n",
      "sudo port select gcc mp-gcc47"
     ],
     "language": "python",
     "metadata": {},
     "outputs": []
    },
    {
     "cell_type": "markdown",
     "metadata": {},
     "source": [
      "####Windows\n",
      "The complete set of packages necessary for running QuTiP in Windows are available at the website of [Christoph Gohlke](http://www.lfd.uci.edu/~gohlke/pythonlibs/). "
     ]
    },
    {
     "cell_type": "code",
     "collapsed": false,
     "input": [
      "from IPython.core.display import HTML\n",
      "def css_styling():\n",
      "    styles = open(\"../styles/guide.css\", \"r\").read()\n",
      "    return HTML(styles)\n",
      "css_styling()"
     ],
     "language": "python",
     "metadata": {},
     "outputs": [
      {
       "html": [
        "<style>\n",
        "    @import url('http://fonts.googleapis.com/css?family=Lato');\n",
        "\t@import url('http://fonts.googleapis.com/css?family=Source+Code+Pro');\n",
        "    @font-face {\n",
        "        font-family: \"Computer Modern\";\n",
        "        src: url('http://mirrors.ctan.org/fonts/cm-unicode/fonts/otf/cmunss.otf');\n",
        "    }\n",
        "\tdiv.cell{\n",
        "        width:800px;\n",
        "        margin-left:10% !important;\n",
        "        margin-right:auto;\n",
        "    }\n",
        "    h1 {\n",
        "        font-family: \"Lato\", Helvetica, serif;\n",
        "    }\n",
        "    h4{\n",
        "        font-family: \"Lato\", Helvetica, serif;\n",
        "\t\tmargin-top:12px;\n",
        "        margin-bottom: 3px;\n",
        "       }\n",
        "    div.text_cell_render{\n",
        "        font-family: \"Lato\", \"Helvetica Neue\", Arial, Helvetica, Geneva, sans-serif;\n",
        "        line-height: 135%;\n",
        "        font-size: 120%;\n",
        "        width:800px;\n",
        "        margin-left:auto;\n",
        "        margin-right:auto;\n",
        "    }\n",
        "    .CodeMirror{\n",
        "            font-family: \"Source Code Pro\", source-code-pro,Consolas, monospace;\n",
        "    }\n",
        "    .prompt{\n",
        "        display: None;\n",
        "    }\n",
        "    .text_cell_render h5 {\n",
        "        font-family: \"Lato\", Helvetica, serif;\n",
        "        font-size: 20pt;\n",
        "        color: #0001E0;\n",
        "        margin-bottom: .5em;\n",
        "        margin-top: 0.5em;\n",
        "        display: block;\n",
        "    }\n",
        "    \n",
        "    .warning{\n",
        "        color: rgb( 240, 20, 20 )\n",
        "        }  \n",
        "</style>\n",
        "<script>\n",
        "    MathJax.Hub.Config({\n",
        "                        TeX: {\n",
        "                           extensions: [\"AMSmath.js\"]\n",
        "                           },\n",
        "                tex2jax: {\n",
        "                    inlineMath: [ ['$','$'], [\"\\\\(\",\"\\\\)\"] ],\n",
        "                    displayMath: [ ['$$','$$'], [\"\\\\[\",\"\\\\]\"] ]\n",
        "                },\n",
        "                displayAlign: 'center', // Change this to 'center' to center equations.\n",
        "                \"HTML-CSS\": {\n",
        "                    styles: {'.MathJax_Display': {\"margin\": 4}}\n",
        "                }\n",
        "        });\n",
        "</script>"
       ],
       "metadata": {},
       "output_type": "pyout",
       "prompt_number": 7,
       "text": [
        "<IPython.core.display.HTML at 0x1156ae850>"
       ]
      }
     ],
     "prompt_number": 7
    },
    {
     "cell_type": "code",
     "collapsed": false,
     "input": [],
     "language": "python",
     "metadata": {},
     "outputs": []
    }
   ],
   "metadata": {}
  }
 ]
}